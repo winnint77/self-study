{
 "cells": [
  {
   "cell_type": "markdown",
   "metadata": {
    "collapsed": false
   },
   "source": [
    "아래 예제를 보면서 정규식이 왜 필요한지 알아보겠습니다. "
   ]
  },
  {
   "cell_type": "code",
   "execution_count": 1,
   "metadata": {
    "collapsed": false
   },
   "outputs": [
    {
     "name": "stdout",
     "output_type": "stream",
     "text": [
      "C:\\Python34\\Korea.jpg\n"
     ]
    }
   ],
   "source": [
    "import re \n",
    "url='<a href=\"C:\\Python34\\Korea.jpg\"> 그림 <\\a> <front size = \"10\">'\n",
    "print re.search('href=\"(.*?)\">',url).group(1)\n",
    "\n"
   ]
  },
  {
   "cell_type": "code",
   "execution_count": null,
   "metadata": {
    "collapsed": true
   },
   "outputs": [],
   "source": [
    " '''위 코드에서 정규식을 활용해 그림의 경로만 꺼내왔습니다.\n",
    " 위의 코드에서 맨 윗줄 import re 부분은 정규식 함수를 사용할 수 있게 하는 모듈 re를 불러오는 명령이고 그 아래쪽의 print ... 부분이 정규식을 사용한 부분입니다. \n",
    " \n",
    " . 임의의 한 문자가 존재\n",
    " ? 바로 앞의 문자가 존재하거나 존재하지 않음\n",
    " * 바로 앞의 문자가 존재하지 않거ㅏ 무한대로 존재 \n",
    " + 바로 앞의 문자가 한번 이상 존재\n",
    " ^ 바로 뒤의 문자로 문자열이 시작\n",
    " $ 바로 앞의 문자로 문자열이 끝남\n",
    " \n",
    " {숫자} 숫자만큼 바복\n",
    " {숫자,} 숫자 이상만큼 반복\n",
    " {숫자1, 숫자2} 숫자 1이상, 숫자 2 이하 만큼 반복\n",
    " (문자열) 문자나 문자열을 묶음 \n",
    " [문자1, 문자2...] 대괄호 안에 있는 문자들이 존재하는지 검색\n",
    " \n",
    " [^ ] ^기호 바로 뒤에 문자가 존재하지 않음 \n",
    " \\\\ \\(역슬래쉬) 글자 자체를 검색\n",
    " \\d 모든 숫자를 검색. [0-9]와 동일\n",
    " \\D 숫자를 제외한 모든 문자를 검색\n",
    " \\s 공백을 검색\n",
    " \\S 공백이 아닌 문자를 검색\n",
    " \\w 숫자 또는 문자를 검색[a-zA-Z0-9]\n",
    " \\W 숫자 또는 문자가 아닌것을 검색\n",
    " ''' \n",
    " \n",
    "\n",
    "\n",
    "\n",
    "\n",
    "\n"
   ]
  },
  {
   "cell_type": "markdown",
   "metadata": {},
   "source": [
    "위는 일반적으로 많이 사용되는 기호의 의미를 보여 드렸습니다. 그냥 기호만 외우는 것은 아무 의미 없으니까 실제 Python에서 어떻게 사용하는 지 다양한 활용방법을 살펴보겠습니다.\n",
    "\n"
   ]
  },
  {
   "cell_type": "code",
   "execution_count": 5,
   "metadata": {
    "collapsed": false
   },
   "outputs": [
    {
     "name": "stdout",
     "output_type": "stream",
     "text": [
      "<_sre.SRE_Match object at 0x0558D6E8>\n"
     ]
    }
   ],
   "source": [
    "import re\n",
    "r = re.compile(\"[ab]\")\n",
    "print r.search(\"pizza\")\n",
    "\n"
   ]
  },
  {
   "cell_type": "code",
   "execution_count": 6,
   "metadata": {
    "collapsed": false
   },
   "outputs": [
    {
     "name": "stdout",
     "output_type": "stream",
     "text": [
      "None\n"
     ]
    }
   ],
   "source": [
    "print r.match(\"pizza\")\n",
    "\n"
   ]
  },
  {
   "cell_type": "markdown",
   "metadata": {},
   "source": [
    "1번 라인 : re모듈 불러오기\n",
    "\n",
    "2번 라인 : 찾고 싶은 글자를 지정함. 여기서는 a나 b를 찾으라고 지정함. [] 기호는 그 안에 들어 있는 글자들 중 하나라는 뜻입니다. \n",
    "\n",
    "3번 라인 : r객체에서 search 함수를 실행해서 해당 글자가 포함된 부분을 찾음\n",
    "정규식에 해당되는 부분이 있을 경우 Match object 출력\n",
    "\n",
    "4번 라인 : r 객체에서 match 함수를 실행해서 해당 글자와 동일한 단어를 찾음\n",
    "정규식에 해당되는 단어가 없기 때문에 None을 출력"
   ]
  },
  {
   "cell_type": "markdown",
   "metadata": {},
   "source": [
    "앞의 예에서 search() 함수와 match() 함수가 사용된 것이 보이죠? 차이점은 search() 함수는 해당 패턴이 하나라도 나오면 그 결과를 출력하는 데 match() 함수는 정확한 글자만 출력합니다. \n",
    "\n",
    "그리고 앞 코드에서 두 번째 줄 보면 re.compile 이라는 부분 보이죠?\n",
    "\n",
    "이 부분은 우리가 찾는 글자나 패턴을 Python에게 전해주는 역할을 하는데 우리가 어떤 글자나 패턴을 찾으라고 적어주면 Python은 우리가 입력한 글자나 패턴을 Python이 아는 글자로 변환을 합니다. \n",
    "\n",
    "그리고 그 결과로 해당 글자를 찾게 되는데 우리가 찾는 게 몇 개 안 되면 문제없지만 찾는 글자나 패턴이 자주 발생할 경우는 매번 파싱(Python이 아는 글자로 변환하는 작업)을 하기에 힘들어 집니다. \n",
    "\n",
    "그래서 아예 Python 안에 변환을 해서 저장을 해 놓고 사용을 하게 만들면 훨씬 더 편하고 속도 문제도 좋아지기 때문에 compile() 함수를 사용해서 변환을 하고 저장을 해서 사용을 하게 됩니다. 저 명령이 어떤 의미인지 아셨죠?\n",
    "\n",
    "\n",
    "\n",
    "\n",
    "\n"
   ]
  },
  {
   "cell_type": "code",
   "execution_count": 7,
   "metadata": {
    "collapsed": false
   },
   "outputs": [
    {
     "name": "stdout",
     "output_type": "stream",
     "text": [
      "<_sre.SRE_Match object at 0x0558D7C8>\n"
     ]
    }
   ],
   "source": [
    "r = re.compile(\"[pP]\")\n",
    "print r.search(\"apple\")\n",
    "\n"
   ]
  },
  {
   "cell_type": "code",
   "execution_count": 8,
   "metadata": {
    "collapsed": false
   },
   "outputs": [
    {
     "name": "stdout",
     "output_type": "stream",
     "text": [
      "None\n"
     ]
    }
   ],
   "source": [
    "print r.match(\"apple\")\n",
    "\n"
   ]
  },
  {
   "cell_type": "code",
   "execution_count": 9,
   "metadata": {
    "collapsed": false
   },
   "outputs": [
    {
     "name": "stdout",
     "output_type": "stream",
     "text": [
      "None\n"
     ]
    }
   ],
   "source": [
    "print r.match(\"apPle\")\n",
    "\n"
   ]
  },
  {
   "cell_type": "code",
   "execution_count": 10,
   "metadata": {
    "collapsed": false,
    "scrolled": true
   },
   "outputs": [
    {
     "name": "stdout",
     "output_type": "stream",
     "text": [
      "<_sre.SRE_Match object at 0x0558D838>\n"
     ]
    }
   ],
   "source": [
    "print r.match(\"pP\")\n",
    "\n"
   ]
  },
  {
   "cell_type": "markdown",
   "metadata": {},
   "source": [
    "앞의 그림을 보면 1행에서 찾고 싶은 글자인 [pP] - 소문자 p나 대문자 p를 등록했습니다.\n",
    "2행에서 소문자 apple에서 해당 패턴을 찾으라고 했더니 p와 매치 된다고 검색했습니다. \n",
    "3행에서 match() 함수를 써서 검색을 하니 완전히 일치하지 않아서 None가 나오고 \n",
    "4행에서도 match() 함수를 써서 검색을 하니 None가 나왔습니다. \n",
    "5행에서는 정확하게 찾는 글자만 있어서 match 되었다고 결과가 나왔습니다. \n",
    "search()함수와 match() 함수의 차이를 아시겠죠?\n",
    "\n",
    "\n",
    "\n"
   ]
  },
  {
   "cell_type": "code",
   "execution_count": 11,
   "metadata": {
    "collapsed": false,
    "scrolled": true
   },
   "outputs": [
    {
     "data": {
      "text/plain": [
       "<_sre.SRE_Match at 0x558d988>"
      ]
     },
     "execution_count": 11,
     "metadata": {},
     "output_type": "execute_result"
    }
   ],
   "source": [
    "re.search(\"[pP]\", \"apPle\")\n",
    "\n"
   ]
  },
  {
   "cell_type": "code",
   "execution_count": 12,
   "metadata": {
    "collapsed": false,
    "scrolled": true
   },
   "outputs": [
    {
     "data": {
      "text/plain": [
       "<_sre.SRE_Match at 0x558d790>"
      ]
     },
     "execution_count": 12,
     "metadata": {},
     "output_type": "execute_result"
    }
   ],
   "source": [
    "re.match(\"[pP]\",\"pP\")\n",
    "\n"
   ]
  },
  {
   "cell_type": "markdown",
   "metadata": {},
   "source": [
    "그리고 re.search() 함수나 re.match() 와 같은 함수를 사용했는데 re 모듈에는 정규식을 유용하게 사용할 수 있도록 Python에서 만들어서 제공하는 다양한 함수들이 있습니다. \n",
    "\n",
    "이 함수들을 잘 사용해야 정규식을 요긴하게 사용할 수가 있어요.\n",
    "\n"
   ]
  },
  {
   "cell_type": "markdown",
   "metadata": {},
   "source": [
    "### (1) . 기호\n",
    "* 임의의 한 문자를 의미합니다."
   ]
  },
  {
   "cell_type": "code",
   "execution_count": 13,
   "metadata": {
    "collapsed": false
   },
   "outputs": [
    {
     "data": {
      "text/plain": [
       "<_sre.SRE_Match at 0x558da68>"
      ]
     },
     "execution_count": 13,
     "metadata": {},
     "output_type": "execute_result"
    }
   ],
   "source": [
    "r = re.compile(\"a.c\")\n",
    "r.search(\"abc\") #Case 1\n",
    "\n",
    "\n"
   ]
  },
  {
   "cell_type": "code",
   "execution_count": 14,
   "metadata": {
    "collapsed": false
   },
   "outputs": [
    {
     "data": {
      "text/plain": [
       "<_sre.SRE_Match at 0x558d9c0>"
      ]
     },
     "execution_count": 14,
     "metadata": {},
     "output_type": "execute_result"
    }
   ],
   "source": [
    "r.search(\"afc)\") # Case 2\n",
    "\n"
   ]
  },
  {
   "cell_type": "code",
   "execution_count": 15,
   "metadata": {
    "collapsed": true
   },
   "outputs": [],
   "source": [
    "r.search(\"ac\") # Case 3\n",
    "\n"
   ]
  },
  {
   "cell_type": "markdown",
   "metadata": {},
   "source": [
    "위 그림에서 case 1 에서는 'a'와 'c'사이에 'b'라는 한 문자가 존재하므로 조건에 적합하고 case 2 에서도 'a'와 'c'사이에 'd'라는 한 문자가 존재하므로 조건에 적합합니다. \n",
    "\n",
    "그런데 case 3 에서는 'a'와 'c'사이에 문자가 존재하지 않기 때문에 조건에 해단되지 않아서 결과가 아무것도 나오지 않습니다.\n",
    "\n",
    "\n",
    "\n"
   ]
  },
  {
   "cell_type": "markdown",
   "metadata": {},
   "source": [
    "### (2)?기호  \n",
    "* 바로 앞의 문자가 존재하거나 존재하지 않음 "
   ]
  },
  {
   "cell_type": "code",
   "execution_count": 16,
   "metadata": {
    "collapsed": false
   },
   "outputs": [
    {
     "data": {
      "text/plain": [
       "<_sre.SRE_Match at 0x558dad8>"
      ]
     },
     "execution_count": 16,
     "metadata": {},
     "output_type": "execute_result"
    }
   ],
   "source": [
    "r = re.compile(\"ck?w\")\n",
    "r.search(\"cw\")\n",
    "\n"
   ]
  },
  {
   "cell_type": "code",
   "execution_count": 17,
   "metadata": {
    "collapsed": false
   },
   "outputs": [
    {
     "data": {
      "text/plain": [
       "<_sre.SRE_Match at 0x558dc60>"
      ]
     },
     "execution_count": 17,
     "metadata": {},
     "output_type": "execute_result"
    }
   ],
   "source": [
    "r.search(\"ckw\")\n",
    "\n"
   ]
  },
  {
   "cell_type": "code",
   "execution_count": 18,
   "metadata": {
    "collapsed": true
   },
   "outputs": [],
   "source": [
    "r.search(\"ckkw\")\n",
    "\n"
   ]
  },
  {
   "cell_type": "code",
   "execution_count": 19,
   "metadata": {
    "collapsed": true
   },
   "outputs": [],
   "source": [
    "r.search(\"ckk\")\n",
    "\n"
   ]
  },
  {
   "cell_type": "code",
   "execution_count": 20,
   "metadata": {
    "collapsed": true
   },
   "outputs": [],
   "source": [
    "r.search(\"kkkw\")\n",
    "\n"
   ]
  },
  {
   "cell_type": "markdown",
   "metadata": {},
   "source": [
    "? 기호는 ? 앞의 글자는 있어도 되고 없어도 되는데 ? 뒤의 글자는 반드시 있어야 할 경우 요긴하게 사용됩니다. 위 예를 보면 case 1은 ? 앞의 글자가 없어도 출력이 됩니다. \n",
    "\n",
    "그런데 case 3 을 보면 ? 앞의 k가 2개가 나오니까 매칭이 안 되죠 ? 즉 ? 기호는 ? 앞의 글자가 0개 또는 1개일 경우에만 매칭이 되고 나머지 경우는 안됩니다. 이와 다르게 글자 개수가 제한이 없는 것이 다음에 볼 *(아스타리크) 기호입니다.\n",
    "\n",
    "\n",
    "\n",
    "\n",
    "\n",
    "\n"
   ]
  },
  {
   "cell_type": "markdown",
   "metadata": {},
   "source": [
    "### (3) * 기호\n",
    "* 바로 앞의 문자가 조재하지 않거나 개수와 상관없이 존재"
   ]
  },
  {
   "cell_type": "code",
   "execution_count": 21,
   "metadata": {
    "collapsed": false
   },
   "outputs": [
    {
     "data": {
      "text/plain": [
       "<_sre.SRE_Match at 0x558dd40>"
      ]
     },
     "execution_count": 21,
     "metadata": {},
     "output_type": "execute_result"
    }
   ],
   "source": [
    "r = re.compile(\"ck*w\")\n",
    "r.search(\"cw\")\n",
    "\n",
    "\n"
   ]
  },
  {
   "cell_type": "code",
   "execution_count": 22,
   "metadata": {
    "collapsed": false
   },
   "outputs": [
    {
     "data": {
      "text/plain": [
       "<_sre.SRE_Match at 0x558dcd0>"
      ]
     },
     "execution_count": 22,
     "metadata": {},
     "output_type": "execute_result"
    }
   ],
   "source": [
    "r.search(\"ckw\")\n",
    "\n"
   ]
  },
  {
   "cell_type": "code",
   "execution_count": 23,
   "metadata": {
    "collapsed": false
   },
   "outputs": [
    {
     "data": {
      "text/plain": [
       "<_sre.SRE_Match at 0x558de20>"
      ]
     },
     "execution_count": 23,
     "metadata": {},
     "output_type": "execute_result"
    }
   ],
   "source": [
    "r.search(\"ckkw\")\n",
    "\n"
   ]
  },
  {
   "cell_type": "code",
   "execution_count": 24,
   "metadata": {
    "collapsed": true
   },
   "outputs": [],
   "source": [
    "r.search(\"ckk\")\n",
    "\n"
   ]
  },
  {
   "cell_type": "code",
   "execution_count": 25,
   "metadata": {
    "collapsed": true
   },
   "outputs": [],
   "source": [
    "r.search(\"kkkw\")\n",
    "\n"
   ]
  },
  {
   "cell_type": "markdown",
   "metadata": {},
   "source": [
    "앞의 그림을 보면 ?와 동일한 예제에서 첫 번째 줄의 기호가 ? 대신 *로 바꼈습니다. \n",
    "\n",
    "case 3을 보면 ? 기호일 때는 매치가 안 되었던 것이 *로 바뀐 후 잘 되죠?\n",
    "\n",
    "\n",
    "\n",
    "\n"
   ]
  },
  {
   "cell_type": "markdown",
   "metadata": {},
   "source": [
    "### (4) + 기호\n",
    "* 바로 앞의 문자가 한번 이상 존재"
   ]
  },
  {
   "cell_type": "code",
   "execution_count": null,
   "metadata": {
    "collapsed": true
   },
   "outputs": [],
   "source": []
  },
  {
   "cell_type": "code",
   "execution_count": null,
   "metadata": {
    "collapsed": true
   },
   "outputs": [],
   "source": []
  },
  {
   "cell_type": "code",
   "execution_count": null,
   "metadata": {
    "collapsed": true
   },
   "outputs": [],
   "source": []
  },
  {
   "cell_type": "code",
   "execution_count": null,
   "metadata": {
    "collapsed": true
   },
   "outputs": [],
   "source": []
  },
  {
   "cell_type": "code",
   "execution_count": null,
   "metadata": {
    "collapsed": true
   },
   "outputs": [],
   "source": []
  },
  {
   "cell_type": "code",
   "execution_count": null,
   "metadata": {
    "collapsed": true
   },
   "outputs": [],
   "source": []
  },
  {
   "cell_type": "code",
   "execution_count": null,
   "metadata": {
    "collapsed": true
   },
   "outputs": [],
   "source": []
  },
  {
   "cell_type": "code",
   "execution_count": null,
   "metadata": {
    "collapsed": true
   },
   "outputs": [],
   "source": []
  },
  {
   "cell_type": "code",
   "execution_count": null,
   "metadata": {
    "collapsed": true
   },
   "outputs": [],
   "source": []
  },
  {
   "cell_type": "code",
   "execution_count": 4,
   "metadata": {
    "collapsed": false,
    "scrolled": true
   },
   "outputs": [
    {
     "name": "stdout",
     "output_type": "stream",
     "text": [
      " \n",
      "park 900905-*******\n",
      "kim 700803-*******\n"
     ]
    }
   ],
   "source": [
    "data = \"\"\" \n",
    "park 900905-1049118\n",
    "kim 700803-1039119\"\"\"\n",
    "\n",
    "result = []\n",
    "for line in data.split(\"\\n\"):\n",
    "    word_result = []\n",
    "    for word in line.split(\" \"):\n",
    "        if len(word) == 14 and word[:6].isdigit() and word[7:].isdigit():\n",
    "            word = word[:6] + \"-\" + \"*******\"\n",
    "        word_result.append(word)\n",
    "    result.append(\" \".join(word_result))\n",
    "print(\"\\n\".join(result))\n",
    "\n",
    "# isdigit()함수는 매개변수 ()에 들어오는 값이 숫자인지 아닌지 판단한다."
   ]
  },
  {
   "cell_type": "code",
   "execution_count": null,
   "metadata": {
    "collapsed": true
   },
   "outputs": [],
   "source": []
  },
  {
   "cell_type": "code",
   "execution_count": 2,
   "metadata": {
    "collapsed": false
   },
   "outputs": [
    {
     "name": "stdout",
     "output_type": "stream",
     "text": [
      " \n",
      "park 900905-*******\n",
      "kim 700803-*******\n"
     ]
    }
   ],
   "source": [
    "import re\n",
    "\n",
    "data = \"\"\" \n",
    "park 900905-1049118\n",
    "kim 700803-1039119\"\"\"\n",
    "\n",
    "pat = re.compile(\"(\\d{6})[-]\\d{7}\")\n",
    "print(pat.sub(\"\\g<1>-*******\", data))"
   ]
  },
  {
   "cell_type": "markdown",
   "metadata": {},
   "source": [
    "위 두 예제는 같은 값이 나옴에도 표현 수식이 다름을 알 수 있다. "
   ]
  },
  {
   "cell_type": "markdown",
   "metadata": {},
   "source": [
    "# 정규표현식의 기초"
   ]
  },
  {
   "cell_type": "markdown",
   "metadata": {},
   "source": [
    "^ $ + ? {} [] \\ | () \n",
    "\n",
    "정규표현식에서 사용하는 메타문자에는 위와 같은 것들이 있다. "
   ]
  },
  {
   "cell_type": "markdown",
   "metadata": {},
   "source": [
    "정규표현식에 위 메타문자들이 사용되면 이것들은 특별한 의미를 갖게 된다. 이것들에 대해서 모두 알아보는 것이 바로 우리의 목표가 될 것이다. \n"
   ]
  },
  {
   "cell_type": "markdown",
   "metadata": {},
   "source": [
    "## 문자클래스 ( [] )"
   ]
  },
  {
   "cell_type": "markdown",
   "metadata": {},
   "source": [
    "우리가 가장 먼저 살펴 볼 메타문자는 바로 문자클래스 [] 이다. \n",
    "문자클래스를 만드는 메타문자인 [ 와 ] 사이에는 어떤 문자도 들어갈 수 있다. 문자클래스로 만들어진 정규식은 \" [ 과 ] 사이의 문자들과 매치\"라는 의미를 갖는다. \n",
    "\n",
    "즉, 정규 표현식이 [abc]와 같다면 이 표현식의 의미는 \"a,b,c 중 한개의 문자와 매치\"를 뜻한다. \n",
    "\n",
    "이해를 돕기 위해 문자열 \"a\", \"before\", \"dude\"가 정규식 [abc]와 어떻게 매치되는지 살펴보자. \n",
    "\n",
    "+ 문자열 \"a\"는 정규식과 일치하는 문자인 \"a\"가 있으므로 매치된다. \n",
    "+ 문자열 \"before\"는 정규식과 일치하는 문자인 \"b\"가 있으므로 매치된다. \n",
    "+ 문자열 \"dude\"는 정규식과 일치하는 문자인 a,b,c중 어느 하나도 포함하고 있지 않으므로 매치되지 않는다. \n",
    "\n",
    "[] 안의 두 문자 사이에 하이픈(-)을 사용하게 되면 두 문자 사이의 범위(From - To)를 의미한다. 예를들어 [a-c]라는 정규표현식은 [abc]와 동일하고 [0-5]는 [012345]와 동일하다. \n",
    "\n",
    "+ [a-zA-Z] - 알파벳 모두 \n",
    "+ [0-9] - 숫자\n",
    "\n",
    "문자클래스 내에는 어떤 문자나 메타문자도 사용가능하지만 주의해야 할 메타문자가 한 가지 있다. 그것은 바로 ^ 인데 문자클래스 내에 ^ 메타문자가 사용될 경우에는 반대(not)의 의미를 갖게된다. 즉 [^0-9]라는 정규표현식은 숫자가 아닌 문자만 매치가 되게 되는 것이다. \n",
    "\n",
    "[0-9] 또는 [a-zA-Z]등은 무척 자주 사용하는 정규표현식이다. 그래서 이렇게 자주 사용되는 것들은 별도의 표기법을 따로 만들어 두었다. 다음을 기억 해 두도록 하자. \n",
    "\n",
    "+ \\d - 숫자와 매치, [0-9]와 동일한 표현식이다. \n",
    "+ \\D - 숫자가 아닌것과 매치, [^0-9]와 동일한 표현식이다. \n",
    "+ \\s - whitespace 문자와 매치, [ \\t\\n\\r\\f\\v]와 동일한 표현식이다. \n",
    "+ \\w - 문자 + 숫자와 매치, [a-zA-Z0-9]와 동일한 표현식이다. \n",
    "+ \\W - 숫자가 아닌 문자와 매치, [^a-zA-Z0-9]와 동일한 표현식이다. \n",
    "\n",
    "대문자로 사용된것은 소문자의 반대임을 추측할 수 있을 것이다. "
   ]
  },
  {
   "cell_type": "markdown",
   "metadata": {},
   "source": [
    "## DOT(.)"
   ]
  },
  {
   "cell_type": "markdown",
   "metadata": {},
   "source": [
    "정규표현식의 dot(.) 메타문자는 줄바꿈 문자인 \\n를 제외한 모든 문자와 매치됨을 의미한다. "
   ]
  },
  {
   "cell_type": "markdown",
   "metadata": {},
   "source": [
    "다음의 정규식을 보자."
   ]
  },
  {
   "cell_type": "markdown",
   "metadata": {},
   "source": [
    "a.b"
   ]
  },
  {
   "cell_type": "markdown",
   "metadata": {},
   "source": [
    "위 정규식의 의미는 다음과 같다. "
   ]
  },
  {
   "cell_type": "markdown",
   "metadata": {},
   "source": [
    "\" a + 모든 문자 + b\""
   ]
  },
  {
   "cell_type": "markdown",
   "metadata": {},
   "source": [
    "즉 a와 b라는 문자 사이에 어떤 문자가 들어가도 모두 매치된다는 의미이다. \n",
    "\n",
    "이해를 돕기 위해 문자열 \"aab\", \"a0b\", \"abc\"가 정규식 a.b와 어떻게 매치되는지 살펴보자. \n",
    "\n",
    "+ 문자열 \"aab\"는 가운데 문자 \"a\"가 모든 문자를 의미하는 .과 일치하므로 정규식과 매치된다. \n",
    "+ 문자열 \"a0b\"는 가운데 문자 \"0\"가 모든 문자를 의미하는 .과 일치하므로 정규식과 매치된다. \n",
    "+ 문자열 \"abc\"는 \"a\"문자와 \"b\"문자 사이에 어떤 문자라도 하나는 있어야 하는 이 정규식과 일치하지 않으므로 매치되지 않는다. "
   ]
  },
  {
   "cell_type": "markdown",
   "metadata": {},
   "source": [
    "## 반복 (*)"
   ]
  },
  {
   "cell_type": "markdown",
   "metadata": {},
   "source": [
    "다음과 같은 정규식을 보자.\n",
    "\n",
    "ca*t\n",
    "\n",
    "이 정규식에는 반복을 의미하는 * 메타문자가 사용되었다. 여기서 사용된 *의 의미는 *바로 앞에 있는 문자 a가 0부터 무한개까지 반복될 수 있다는 의미이다. 즉, 다음과 같은 문자열들이 모두 매치된다. \n",
    "\n",
    "위 정규식에 대한 매치여부는 다음과 같다. "
   ]
  },
  {
   "cell_type": "markdown",
   "metadata": {},
   "source": [
    "ca*t 는 ct, cat, caaat 등과 같이 반복갯수가 무한개까지 가능하다고 한다."
   ]
  },
  {
   "cell_type": "markdown",
   "metadata": {},
   "source": [
    "반복(+)\n",
    "\n",
    "또하나 반복을 나타내는 메타문자로 +가 있다. +는 최소 1개 이상의 반복을 필요로하는 메타문자이다. *가 반복횟수 0부터의 의미라면 +는 반복횟수 1부터의 의미이다. \n",
    "\n",
    "다음의 정규식을 보자. \n",
    "\n",
    "ca+t\n",
    "\n",
    "\"c + a(1번 이상 반복) + t\"\n"
   ]
  },
  {
   "cell_type": "markdown",
   "metadata": {},
   "source": [
    "## 반복 ({m,n},?)"
   ]
  },
  {
   "cell_type": "markdown",
   "metadata": {},
   "source": [
    "그런데 여기서 잠깐 생각해보자. 반복횟수를 3회만 또는 1회부터 3회까지만 반복시키고 싶을 수도 있지 않을까? \n",
    "\n",
    "정규식은 역시 이러한 것에 대해서도 준비가 되어 있다. {}메타문자를 이용하면 반복횟수를 고정시킬 수 있다. {m, n} 정규식을 사용하면 반복횟수가 m부터 n인 것을 매치시킬 수 있다. m 또는 m을 생략하여 사용도 가능하다. \n",
    "\n",
    "만약 {3,} 처럼 사용하면 반복횟수가 3이상인 경우이며 {,3} 처럼 사용하면 반복횟수가 3이하인 것을 의미한다. 생략된 m은 0과 동일한 의미이며 생략된 n은 무한대의 의미이다. \n",
    "\n",
    "{1,}은 +와 동일하며 {0,}은 * 와 동일하다.\n",
    "\n"
   ]
  },
  {
   "cell_type": "markdown",
   "metadata": {},
   "source": [
    "ca{2}t \n",
    "\n",
    "위 정규식의 의미는 다음과 같다. \n",
    "\n",
    "\"c + a(반드시 2번 반복) + t\"\n",
    "\n",
    "위 정규식에 대한 매치표는 caat 이다.\n",
    "\n",
    "ca{2,5}t \n",
    "\n",
    "위 정규식의 의미는 다음과 같다. \n",
    "\n",
    "\"c + a(2 ~ 5회 반복) + t\"\n",
    "\n",
    "위 정규식에 대한 매치표는 \n",
    "\n",
    "caat, caaaat 등이 있다. \n",
    "\n"
   ]
  },
  {
   "cell_type": "markdown",
   "metadata": {},
   "source": [
    "반복은 아니지만 이와 비슷한 개념으로 ? 이 있다. ? 메타문자가 의미하는 것은 {0, 1} 이다. \n",
    "\n",
    "다음 정규식을 보자. \n",
    "\n",
    "ab?c\n",
    "\n",
    "위 정규식의 의미는 다음과 같다. \n",
    "\n",
    "\"a + b(있어도 되고 없어도 된다) + c\"\n",
    "\n",
    "위 정규식에 대한 매치표는 다음과 같다. \n",
    "\n",
    "ab?c\n",
    "\n",
    "abc (\"b\"가 1번 사용되어 매치)\n",
    "ac (\"b\"가 0번 사용되어 매치)\n",
    "\n",
    "즉, b문자가 있거나 없거나 둘 다 매치되는 경우이다 .\n",
    "\n",
    "*, +, ? 메타문자는 모두 {m, n} 형태로 고쳐쓰는 것이 가능하지만 가급적 이해하기 쉽고 표현도 간결한 *, +, ? 메타문자를 사용하는 것이 좋다."
   ]
  },
  {
   "cell_type": "markdown",
   "metadata": {},
   "source": [
    "# 정규표현식 시작하기"
   ]
  },
  {
   "cell_type": "markdown",
   "metadata": {},
   "source": [
    "지금까지 아주 기초적인 정규표현식에 대해서 알아보았다. 정규식에 대해서 알아야 할 것들이 아직 많이 남아 있지만 그에 앞서 파이썬으로 이러한 정규표현식을 어떻게 사용할 수 있는지에 대해서 먼저 알아보기로 하자. "
   ]
  },
  {
   "cell_type": "markdown",
   "metadata": {},
   "source": [
    "## 정규식 컴파일하기"
   ]
  },
  {
   "cell_type": "markdown",
   "metadata": {},
   "source": [
    "파이썬은 정규표현식을 지원하기 위해 re 모듈을 제공한다. re 모듈은 파이썬이 설치될 때 자동으로 설치되는 기본 라이브러리이다. "
   ]
  },
  {
   "cell_type": "code",
   "execution_count": 4,
   "metadata": {
    "collapsed": true
   },
   "outputs": [],
   "source": [
    "import re\n",
    "p = re.compile('ab*')"
   ]
  },
  {
   "cell_type": "markdown",
   "metadata": {},
   "source": [
    "re.compile 을 이용하여 정규표현식 (위 예에서는 ab * )  을 컴파일하고 컴파일된 \n",
    "패턴객체 (re.compile의 결과로 리턴되는 객체 p)를 이용하여 그 이후 작업을 수행한다. \n",
    "\n",
    "정규식 컴파일시 옵션을 주는 것도 가능하다. 예를 들어 다음과 같이 옵션을 주어 컴파일을 할 수 있다. \n",
    "\n",
    "\n"
   ]
  },
  {
   "cell_type": "code",
   "execution_count": 5,
   "metadata": {
    "collapsed": true
   },
   "outputs": [],
   "source": [
    "p = re.compile('ab*' , re.IGNORECASE)"
   ]
  },
  {
   "cell_type": "markdown",
   "metadata": {},
   "source": [
    "re.IGNORECASE 옵션이 의미하는 것은 대소문자를 구분하지 않는다는 것이다. 따라서 위 패턴은 다음과 같은 문자열들과 모두 매치될 것이다. \n",
    "\n",
    "+ ab\n",
    "+ Ab\n",
    "+ AB\n",
    "+ aB\n",
    "\n"
   ]
  },
  {
   "cell_type": "markdown",
   "metadata": {},
   "source": [
    "## 백슬래시( \\ ) 문제"
   ]
  },
  {
   "cell_type": "markdown",
   "metadata": {},
   "source": [
    "정규표현식을 파이썬에서 사용하려 할 때 혼란을 주게 되는 요소가 한가지 있는데 그것은 바로 백슬래시 ( \\ ) 이다. \n",
    "\n",
    "예를 들어 LaTex파일 내에 있는 \"\\section\" 이라는 문자열을 찾기 위한 정규식을 만든다고 가정해 보자. \n",
    "\n",
    "다음과 같은 정규식을 생각해 보자. \n",
    "\n",
    "\\section\n",
    "\n",
    "이 정규식은 \\s 문자가 whitespace로 해석되어 의도한 대로 매치가 이루어지지 않는다. 위 표현은 다음과 동일한 의미가 된다. \n",
    "\n",
    "[ \\t\\n\\r\\f\\v]ection\n",
    "\n",
    "따라서 위 정규표현식은 다음과 같이 변경되어야 할 것이다. \n",
    "\n",
    "\\\\section\n",
    "\n",
    "즉, 위 정규식에서 사용한 \\ 문자가 문자열 그 자체임을 알려주기 위해 백슬래시 두개를 사용하여 Escape 처리를 해야 하는 것이다. 따라서 위 정규식을 컴파일 하려면 다음과 같이 해야 할 것이다. "
   ]
  },
  {
   "cell_type": "code",
   "execution_count": 6,
   "metadata": {
    "collapsed": true
   },
   "outputs": [],
   "source": [
    "p = re.compile('\\\\section')"
   ]
  },
  {
   "cell_type": "markdown",
   "metadata": {},
   "source": [
    "자, 그런데 여기 또 하나의 문제가 발견된다. 위 처럼 정규식을 만들어서 컴파일 하면 실제 파이썬 정규식 엔진에는 파이썬 문자열 리터럴 규칙에 의하여 \\\\이 \\로 변경되어 \\section 이 전달되기 때문이다. \n",
    "\n",
    "결국 정규식 엔진에 \\\\문자를 전달하려면 파이썬은 \\\\\\\\처럼 백슬래시를 4개나 사용해야 한다. \n"
   ]
  },
  {
   "cell_type": "code",
   "execution_count": 7,
   "metadata": {
    "collapsed": true
   },
   "outputs": [],
   "source": [
    "p = re.compile('\\\\\\\\section')"
   ]
  },
  {
   "cell_type": "markdown",
   "metadata": {},
   "source": [
    "이렇게 해야만 원하는 결과를 얻을 수 있을 것이다. \n",
    "\n",
    "하지만 너무 복잡하지 않은가?\n",
    "\n",
    "만약 위와 같이 \\를 이용한 표현이 반복되서 사용되는 정규식이라면 너무 복잡하여 이해하기 쉽지 않을 것이다. 이러한 문제로 파이썬 정규식에는 Raw string 이라는 것이 생겨나게 되었다. 즉 컴파일 해야 하는 정규식이 Raw String 임을 알려줄 수 있도록 파이썬 문법이 만들어진 것이다. 그 방법은 다음과 같다. "
   ]
  },
  {
   "cell_type": "code",
   "execution_count": 8,
   "metadata": {
    "collapsed": true
   },
   "outputs": [],
   "source": [
    "p = re.compile(r'\\\\section')"
   ]
  },
  {
   "cell_type": "markdown",
   "metadata": {},
   "source": [
    "위와 같이 정규식 문자열 앞에 r 문자를 선행하면 이 정규식은 Raw String 규칙에 의하여 백슬래시 두 개 대신 한개만 써도 두 개를 쓴것과 동일한 의미를 갖게된다. \n",
    "\n"
   ]
  },
  {
   "cell_type": "code",
   "execution_count": null,
   "metadata": {
    "collapsed": true
   },
   "outputs": [],
   "source": []
  }
 ],
 "metadata": {
  "kernelspec": {
   "display_name": "Python 2",
   "language": "python",
   "name": "python2"
  },
  "language_info": {
   "codemirror_mode": {
    "name": "ipython",
    "version": 2
   },
   "file_extension": ".py",
   "mimetype": "text/x-python",
   "name": "python",
   "nbconvert_exporter": "python",
   "pygments_lexer": "ipython2",
   "version": "2.7.12"
  }
 },
 "nbformat": 4,
 "nbformat_minor": 1
}
