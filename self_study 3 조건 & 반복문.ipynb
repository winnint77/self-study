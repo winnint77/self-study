{
 "cells": [
  {
   "cell_type": "markdown",
   "metadata": {},
   "source": [
    "# Condition & Loop"
   ]
  },
  {
   "cell_type": "code",
   "execution_count": 1,
   "metadata": {
    "collapsed": false
   },
   "outputs": [
    {
     "name": "stdout",
     "output_type": "stream",
     "text": [
      "조건문이란 말 그대로 조건의 결과에 따라서 실행되는 문장이 결정된다. 파이썬에서의 조건문은 바로 if문으로, 이 if문을 사용하면 조건식이 참(True)이냐 거짓(False)이냐에 따라 실행되는 문장을 다르게 만들 수 있습니다.\n"
     ]
    }
   ],
   "source": [
    "print \"조건문이란 말 그대로 조건의 결과에 따라서 실행되는 문장이 결정된다. 파이썬에서의 조건문은 바로 if문으로, 이 if문을 사용하면 조건식이 참(True)이냐 거짓(False)이냐에 따라 실행되는 문장을 다르게 만들 수 있습니다.\""
   ]
  },
  {
   "cell_type": "code",
   "execution_count": 2,
   "metadata": {
    "collapsed": false
   },
   "outputs": [
    {
     "name": "stdout",
     "output_type": "stream",
     "text": [
      "만약에 변수 a의 값이 5보다 클 경우~라는 조건을 만들어주고 싶으면 'if a > 5 :'라고 쓰면 된다. 주의할 점은, 조건식 뒤에 반드시 콜론(:)을 빼먹지 않고 적어주어야만 한다. 파이썬은 괄호로 묶는 다른 언어와는 다르게, 들여쓰기로 영역을 구분하게된다.\n"
     ]
    }
   ],
   "source": [
    "print \"만약에 변수 a의 값이 5보다 클 경우~라는 조건을 만들어주고 싶으면 'if a > 5 :'라고 쓰면 된다. 주의할 점은, 조건식 뒤에 반드시 콜론(:)을 빼먹지 않고 적어주어야만 한다. 파이썬은 괄호로 묶는 다른 언어와는 다르게, 들여쓰기로 영역을 구분하게된다.\""
   ]
  },
  {
   "cell_type": "code",
   "execution_count": 4,
   "metadata": {
    "collapsed": false
   },
   "outputs": [
    {
     "name": "stdout",
     "output_type": "stream",
     "text": [
      "돈이 500원 이상 있습니다.\n"
     ]
    }
   ],
   "source": [
    "money = 1000\n",
    "if money >= 500:\n",
    "    print \"돈이 500원 이상 있습니다.\"\n",
    "    \n",
    "    # 만약, money의 값이 500 미만이였다면 조건식의 거짓이 되어 \n",
    "    # 돈이 500원 이상 있다는 문장은 출력되지 않습니다."
   ]
  },
  {
   "cell_type": "markdown",
   "metadata": {},
   "source": [
    "# else 문"
   ]
  },
  {
   "cell_type": "code",
   "execution_count": 7,
   "metadata": {
    "collapsed": false,
    "scrolled": true
   },
   "outputs": [
    {
     "name": "stdout",
     "output_type": "stream",
     "text": [
      "방금 예제에서 if문 만으론 무언가 부족합니다. 파이썬에서는 어떠한 조건에 해당하지 않는 경우에 대해서 처리를 할 수 있도록 'else'문이라는 것이 존재합니다.\n"
     ]
    }
   ],
   "source": [
    "print \"방금 예제에서 if문 만으론 무언가 부족합니다. 파이썬에서는 어떠한 조건에 해당하지 않는 경우에 대해서 처리를 할 수 있도록 'else'문이라는 것이 존재합니다.\""
   ]
  },
  {
   "cell_type": "code",
   "execution_count": 9,
   "metadata": {
    "collapsed": false
   },
   "outputs": [
    {
     "name": "stdout",
     "output_type": "stream",
     "text": [
      "돈이 500원 미만 입니다.\n"
     ]
    }
   ],
   "source": [
    "money = 450\n",
    "if money >= 1000:\n",
    "    print \"돈이 500원 이상 있습니다.\"\n",
    "else :\n",
    "    print \"돈이 500원 미만 입니다.\""
   ]
  },
  {
   "cell_type": "markdown",
   "metadata": {},
   "source": [
    "# elif 문"
   ]
  },
  {
   "cell_type": "code",
   "execution_count": 10,
   "metadata": {
    "collapsed": false
   },
   "outputs": [
    {
     "name": "stdout",
     "output_type": "stream",
     "text": [
      "파이썬에서 elif문은 한번만 사용할 수 있는 if문과 else문과는 다르게, if문과 else문 사이에 여러번 사용할 수 있습니다. 먼저 elif문의 구조를 살펴봅시다.\n"
     ]
    }
   ],
   "source": [
    "print \"파이썬에서 elif문은 한번만 사용할 수 있는 if문과 else문과는 다르게, if문과 else문 사이에 여러번 사용할 수 있습니다. 먼저 elif문의 구조를 살펴봅시다.\""
   ]
  },
  {
   "cell_type": "markdown",
   "metadata": {},
   "source": [
    "### if 조건식:\n",
    "    print \"문장\"\n",
    "### elif 조건식 :\n",
    "    print \"문장\"\n",
    "### else : \n",
    "    \"문장\""
   ]
  },
  {
   "cell_type": "code",
   "execution_count": 12,
   "metadata": {
    "collapsed": false
   },
   "outputs": [
    {
     "name": "stdout",
     "output_type": "stream",
     "text": [
      "만약 비가 온다면 집에서 잠을 자고, 비가 오지 않으면 친구가 집에 있는지 확인합니다. 만약에 친구가 집에 있다면 친구 집으로 놀러가고, 없다면 집에서 놉니다.여기서는 '비가 온다'가 if문에 해당하는 부분이며, '친구가 집에 있다'가 elif문에 해당합니다. elif문에 대해서 이해가 안된다면, 코드를 우선 보고 어떨때 사용하는 녀석인지 감을 잡도록 합니다.\n"
     ]
    }
   ],
   "source": [
    "print \"만약 비가 온다면 집에서 잠을 자고, 비가 오지 않으면 친구가 집에 있는지 확인합니다. 만약에 친구가 집에 있다면 친구 집으로 놀러가고, 없다면 집에서 놉니다.여기서는 '비가 온다'가 if문에 해당하는 부분이며, '친구가 집에 있다'가 elif문에 해당합니다. elif문에 대해서 이해가 안된다면, 코드를 우선 보고 어떨때 사용하는 녀석인지 감을 잡도록 합니다.\""
   ]
  },
  {
   "cell_type": "code",
   "execution_count": 13,
   "metadata": {
    "collapsed": false
   },
   "outputs": [
    {
     "name": "stdout",
     "output_type": "stream",
     "text": [
      "가지고 있는 돈이 500원입니다.\n"
     ]
    }
   ],
   "source": [
    "money = 500\n",
    "if money > 500:\n",
    "    print \"가지고 있는 돈이 500원보다 많습니다.\"\n",
    "elif money ==500:\n",
    "    print \"가지고 있는 돈이 500원입니다.\"\n",
    "else:\n",
    "    print \"가지고 있는 돈이 500원보다 적습니다.\"\n",
    "    "
   ]
  },
  {
   "cell_type": "code",
   "execution_count": 14,
   "metadata": {
    "collapsed": false
   },
   "outputs": [
    {
     "name": "stdout",
     "output_type": "stream",
     "text": [
      "위 코드에서는, 먼저 money의 값이 500보다 큰지 검사합니다. 변수 money의 값은 500이므로, 500보다 크지 않아 elif문으로 넘어갑니다. elif문에서는 money의 값이 500과 같은지 검사하는데, money의 값과 500이 서로 같으므로 '가지고 있는 돈이 500원입니다.'라는 문장을 출력합니다. 그리고 마지막의 else문은 하나라도 조건이 해당하는게 있으므로 실행되지 않습니다. 간단하죠?\n"
     ]
    }
   ],
   "source": [
    "print \"위 코드에서는, 먼저 money의 값이 500보다 큰지 검사합니다. 변수 money의 값은 500이므로, 500보다 크지 않아 elif문으로 넘어갑니다. elif문에서는 money의 값이 500과 같은지 검사하는데, money의 값과 500이 서로 같으므로 '가지고 있는 돈이 500원입니다.'라는 문장을 출력합니다. 그리고 마지막의 else문은 하나라도 조건이 해당하는게 있으므로 실행되지 않습니다. 간단하죠?\""
   ]
  },
  {
   "cell_type": "code",
   "execution_count": 15,
   "metadata": {
    "collapsed": false
   },
   "outputs": [
    {
     "name": "stdout",
     "output_type": "stream",
     "text": [
      "dfdf\n"
     ]
    }
   ],
   "source": [
    "if 5 < 6:\n",
    "    print 'dfdf'"
   ]
  },
  {
   "cell_type": "code",
   "execution_count": 16,
   "metadata": {
    "collapsed": true
   },
   "outputs": [],
   "source": [
    "if 5 > 6 :\n",
    "    print 'never printed'"
   ]
  },
  {
   "cell_type": "code",
   "execution_count": 18,
   "metadata": {
    "collapsed": false
   },
   "outputs": [
    {
     "name": "stdout",
     "output_type": "stream",
     "text": [
      "???\n"
     ]
    }
   ],
   "source": [
    "a = 100\n",
    "if a % 9 == 0:\n",
    "    print '!!!'\n",
    "if a % 9 == 1:\n",
    "    print '???'"
   ]
  },
  {
   "cell_type": "code",
   "execution_count": 19,
   "metadata": {
    "collapsed": false
   },
   "outputs": [
    {
     "name": "stdout",
     "output_type": "stream",
     "text": [
      "???\n"
     ]
    }
   ],
   "source": [
    "a = 100\n",
    "if a % 9 ==0:\n",
    "    print '!!!'\n",
    "elif a % 10 == 0:\n",
    "    print '???'\n",
    "else:\n",
    "    print 'hahaha'"
   ]
  },
  {
   "cell_type": "code",
   "execution_count": 20,
   "metadata": {
    "collapsed": false
   },
   "outputs": [
    {
     "name": "stdout",
     "output_type": "stream",
     "text": [
      "oh\n"
     ]
    }
   ],
   "source": [
    "x = 7\n",
    "\n",
    "if (5 < x) and (x < 10):\n",
    "    print 'oh'"
   ]
  },
  {
   "cell_type": "code",
   "execution_count": 21,
   "metadata": {
    "collapsed": false
   },
   "outputs": [
    {
     "name": "stdout",
     "output_type": "stream",
     "text": [
      "oh\n"
     ]
    }
   ],
   "source": [
    "x = 7\n",
    "if 5 < x < 10:\n",
    "    print 'oh'"
   ]
  },
  {
   "cell_type": "markdown",
   "metadata": {},
   "source": [
    "+ if 뒤가 bool이 아니라면?\n",
    " * None\n",
    " * 0\n",
    " * 0.0\n",
    " * ''\n",
    " * []\n",
    " * ()\n",
    " * {}\n",
    " * set()\n",
    " \n",
    " 모두 False로 간주"
   ]
  },
  {
   "cell_type": "code",
   "execution_count": 23,
   "metadata": {
    "collapsed": false
   },
   "outputs": [
    {
     "name": "stdout",
     "output_type": "stream",
     "text": [
      "False\n"
     ]
    }
   ],
   "source": [
    "a = []\n",
    "\n",
    "if a:\n",
    "    print 'True'\n",
    "else:\n",
    "    print 'False'"
   ]
  },
  {
   "cell_type": "code",
   "execution_count": 24,
   "metadata": {
    "collapsed": false
   },
   "outputs": [
    {
     "name": "stdout",
     "output_type": "stream",
     "text": [
      "차를 타야 해요\n",
      "버스를 탈 수도 있어요\n"
     ]
    }
   ],
   "source": [
    "people = 30\n",
    "cars = 40\n",
    "buses = 15\n",
    "\n",
    "if cars > people:\n",
    "    print \"차를 타야 해요\"\n",
    "elif cars < people:\n",
    "    print \"차를 안 타야 해요\"\n",
    "else : \n",
    "    print \"결정할 수 없어요\"\n",
    "    \n",
    "if buses > cars :\n",
    "    print \"버스가 너무 많아요\"\n",
    "elif buses < cars:\n",
    "    print \"버스를 탈 수도 있어요\"\n",
    "else:\n",
    "    print \"아직도 결정할 수 없어요\"\n"
   ]
  },
  {
   "cell_type": "code",
   "execution_count": 25,
   "metadata": {
    "collapsed": false
   },
   "outputs": [
    {
     "name": "stdout",
     "output_type": "stream",
     "text": [
      "문이 두 개 있는 어두운 방에 들어왔습니다. 1번과 2번 중 어느 방으로 들어갈까요?\n",
      ">1\n",
      "거대 곰이 치즈 케이크를 먹고 있습니다. 무엇을 할까요?\n",
      "1. 케이크를 뺏는다.\n",
      "2. 곰에게 소리를 지른다.\n",
      ">2\n",
      "곰이 당신의 다리를 먹어치웁니다. 잘했어요!\n"
     ]
    }
   ],
   "source": [
    "print \"문이 두 개 있는 어두운 방에 들어왔습니다. 1번과 2번 중 어느 방으로 들어갈까요?\"\n",
    "\n",
    "door = raw_input(\">\")\n",
    "\n",
    "if door == \"1\":\n",
    "    print \"거대 곰이 치즈 케이크를 먹고 있습니다. 무엇을 할까요?\"\n",
    "    print \"1. 케이크를 뺏는다.\"\n",
    "    print \"2. 곰에게 소리를 지른다.\"\n",
    "    \n",
    "    bear = raw_input(\">\")\n",
    "    \n",
    "    if bear == \"1\":\n",
    "        print \"곰이 당신의 머리를 먹어치웁니다. 잘했어요!\"\n",
    "    elif bear ==\"2\":\n",
    "        print \"곰이 당신의 다리를 먹어치웁니다. 잘했어요!\"\n",
    "    else : \n",
    "        print \"음, %s 행동을 하는 것이 더 나았나 보네요. 곰이 도망갑니다.\" % bear\n",
    "        \n",
    "elif door ==\"2\":\n",
    "    print \"당신은 눈동자의 끝없는 심연을 쳐다봅니다.\"\n",
    "    print \"1. 블루베리.\"\n",
    "    print \"2. 노란 재킷 빨래집게.\"\n",
    "    print \"3. 권총이 울부짖는 가락 이해하기.\"\n",
    "    \n",
    "    insanity = raw_input(\">\")\n",
    "    \n",
    "    if insanity == \"1\" or insanity == \"2\":\n",
    "        print \"당신의 육체는 젤리푸딩의 마음의 힘으로 살아남습니다. 잘했어요!\"\n",
    "    else:\n",
    "        print \"광기가 당신의 눈을 썩어 문드러진 시궁창으로 만듭니다. 잘했어요!\"\n",
    "\n",
    "else : \n",
    "    print \"비틀거리다 발을 헛디뎌 칼날로 떨어져 죽습니다. 잘했어요!\""
   ]
  },
  {
   "cell_type": "code",
   "execution_count": 27,
   "metadata": {
    "collapsed": false
   },
   "outputs": [
    {
     "name": "stdout",
     "output_type": "stream",
     "text": [
      "1. elif 대신 if/else 조합을 써도 되나요?\n",
      "\n",
      "A. 그렇게 할 수 있을 때도 있지만 if/else가 어떻게 쓰였느냐에 달렸습니다. if/elif/else를 쓸 때는 처음 나오는 거짓을 찾아내지만, if/else 조합을 쓰면 모든 if/else조합을 검사합니다.\n"
     ]
    }
   ],
   "source": [
    "print \"1. elif 대신 if/else 조합을 써도 되나요?\\n\\nA. 그렇게 할 수 있을 때도 있지만 if/else가 어떻게 쓰였느냐에 달렸습니다. if/elif/else를 쓸 때는 처음 나오는 거짓을 찾아내지만, if/else 조합을 쓰면 모든 if/else조합을 검사합니다.\"  "
   ]
  },
  {
   "cell_type": "code",
   "execution_count": 28,
   "metadata": {
    "collapsed": false,
    "scrolled": true
   },
   "outputs": [
    {
     "name": "stdout",
     "output_type": "stream",
     "text": [
      "2. 어떤 수가 숫자 범위 사이에 있는지 검사하려면 어떻게 하나요?\n",
      "\n",
      "A. 두 가지 방법이 있습니다. 고전적인 방법대로 0 < X < 10이나 1 <= X < 10을 써도 되고 x in range(1,10)을 써도 됩니다.\n"
     ]
    }
   ],
   "source": [
    "print \"2. 어떤 수가 숫자 범위 사이에 있는지 검사하려면 어떻게 하나요?\\n\\nA. 두 가지 방법이 있습니다. 고전적인 방법대로 0 < X < 10이나 1 <= X < 10을 써도 되고 x in range(1,10)을 써도 됩니다.\"\n"
   ]
  },
  {
   "cell_type": "markdown",
   "metadata": {},
   "source": [
    "# LOOP(반복문)"
   ]
  },
  {
   "cell_type": "markdown",
   "metadata": {},
   "source": [
    "* loop (반복문)\n",
    " + 시퀀스등을 순회하며 반복작업을 가능케 한다.\n",
    " + while, for 의 키워드 사용 가능\n",
    " + 코딩 시, 십중팔구 가장 많이 사용됨"
   ]
  },
  {
   "cell_type": "code",
   "execution_count": 29,
   "metadata": {
    "collapsed": false
   },
   "outputs": [
    {
     "name": "stdout",
     "output_type": "stream",
     "text": [
      "반복문, 쉽게 생각하면 이름 그대로 반복에 사용되는 녀석입니다. 파이썬에서 지원하는 반복문에는 조건문이 참인가 거짓인가에 따라 반복을 진행하는 while문 이라는 것이 존재하고, 리스트나 튜플같은 순서형 자료의 아이템을 하나씩 가져오면서 반복을 수행하는 for문이 존재합니다. 이 두가지에 대해서 간단히 알아볼 계획인데, 이런 반복문을 통해서 비슷한 작업을 수 없이도 반복하는걸 이 반복문을 통해서 간단히 해결할 수 있습니다.\n"
     ]
    }
   ],
   "source": [
    "print \"반복문, 쉽게 생각하면 이름 그대로 반복에 사용되는 녀석입니다. 파이썬에서 지원하는 반복문에는 조건문이 참인가 거짓인가에 따라 반복을 진행하는 while문 이라는 것이 존재하고, 리스트나 튜플같은 순서형 자료의 아이템을 하나씩 가져오면서 반복을 수행하는 for문이 존재합니다. 이 두가지에 대해서 간단히 알아볼 계획인데, 이런 반복문을 통해서 비슷한 작업을 수 없이도 반복하는걸 이 반복문을 통해서 간단히 해결할 수 있습니다.\""
   ]
  },
  {
   "cell_type": "markdown",
   "metadata": {},
   "source": [
    "## while문"
   ]
  },
  {
   "cell_type": "code",
   "execution_count": 7,
   "metadata": {
    "collapsed": false,
    "scrolled": true
   },
   "outputs": [
    {
     "name": "stdout",
     "output_type": "stream",
     "text": [
      "5\n",
      "6\n",
      "7\n",
      "8\n",
      "9\n"
     ]
    }
   ],
   "source": [
    "times = 5\n",
    "\n",
    "while times < 10:\n",
    "    print(times)\n",
    "    times += 1"
   ]
  },
  {
   "cell_type": "code",
   "execution_count": 8,
   "metadata": {
    "collapsed": false
   },
   "outputs": [
    {
     "name": "stdout",
     "output_type": "stream",
     "text": [
      "while은 뒤의 조건이 참(True)일 동안 무한 반복하게 하는 반복문의 형태입니다. \n",
      "\n",
      "즉, while 아래에 이 while문을 빠져 나올수 있는 코드가 없다면 무한루프(infinite Loop)에 빠지게 되어 컴퓨터 자원이 많이 낭비됨은 물론이거니와 무한히 돌아가는 코드가 되어버립니다. \n",
      "\n",
      "따라서, while을 사용할 시에는 반드시!!! 이 while을 빠져 나올 수 있는 조건을 염두해 두고 코딩을 하여야 합니다.\n",
      "\n",
      "위의 코드에서는 단순히 times에 있는 값을 출력하고 그 times값에 1씩 더하라는 코딩을 하였습니다.\n",
      "\n",
      "이렇게 하면 어떻게 될까요? \n",
      "\n",
      "1. 처음 times의 값은 5일것입니다. \n",
      "\n",
      "2. 그럼 while 조건문에서 5 < 10 은 참(True)이 되어 아래의 코드가 실행이 됩니다. \n",
      "\n",
      "3. print(5)가 되므로 숫자 5를 출력하고 \n",
      "\n",
      "4. 숫자 5에 1을 더해서 다시 times에 넣어주므로, times는 6이 되겠죠. 여기에서 times += 1은 times = times + 1과 같은 의미입니다. \n",
      "\n",
      "5. 다시 while의 조건으로 올라가게 되고, 6< 10도 참(True)이 되므로 동일한 방식으로 루프를 돌게 됩니다. \n",
      "\n",
      "6. times가 10이 되면 조건이 10 < 10은 거짓이(False)이 되어 이 while문은 종료되게 됩니다.\n"
     ]
    }
   ],
   "source": [
    "print \"while은 뒤의 조건이 참(True)일 동안 무한 반복하게 하는 반복문의 형태입니다. \\n\\n즉, while 아래에 이 while문을 빠져 나올수 있는 코드가 없다면 무한루프(infinite Loop)에 빠지게 되어 컴퓨터 자원이 많이 낭비됨은 물론이거니와 무한히 돌아가는 코드가 되어버립니다. \\n\\n따라서, while을 사용할 시에는 반드시!!! 이 while을 빠져 나올 수 있는 조건을 염두해 두고 코딩을 하여야 합니다.\\n\\n위의 코드에서는 단순히 times에 있는 값을 출력하고 그 times값에 1씩 더하라는 코딩을 하였습니다.\\n\\n이렇게 하면 어떻게 될까요? \\n\\n1. 처음 times의 값은 5일것입니다. \\n\\n2. 그럼 while 조건문에서 5 < 10 은 참(True)이 되어 아래의 코드가 실행이 됩니다. \\n\\n3. print(5)가 되므로 숫자 5를 출력하고 \\n\\n4. 숫자 5에 1을 더해서 다시 times에 넣어주므로, times는 6이 되겠죠. 여기에서 times += 1은 times = times + 1과 같은 의미입니다. \\n\\n5. 다시 while의 조건으로 올라가게 되고, 6< 10도 참(True)이 되므로 동일한 방식으로 루프를 돌게 됩니다. \\n\\n6. times가 10이 되면 조건이 10 < 10은 거짓이(False)이 되어 이 while문은 종료되게 됩니다.\""
   ]
  },
  {
   "cell_type": "code",
   "execution_count": 1,
   "metadata": {
    "collapsed": false,
    "scrolled": true
   },
   "outputs": [
    {
     "name": "stdout",
     "output_type": "stream",
     "text": [
      "1\n",
      "2\n",
      "3\n"
     ]
    }
   ],
   "source": [
    "count = 1\n",
    "while count <= 3:\n",
    "    print count # 만약 여기서 끝난다면 1만 무수히 나온다\n",
    "    count += 1"
   ]
  },
  {
   "cell_type": "code",
   "execution_count": 30,
   "metadata": {
    "collapsed": false
   },
   "outputs": [
    {
     "name": "stdout",
     "output_type": "stream",
     "text": [
      "while문 내부에 있는 블록의 문장을 실행하고, 거짓이면 반복을 멈추고 빠져나옵니다.\n"
     ]
    }
   ],
   "source": [
    "print \"while문 내부에 있는 블록의 문장을 실행하고, 거짓이면 반복을 멈추고 빠져나옵니다.\""
   ]
  },
  {
   "cell_type": "code",
   "execution_count": null,
   "metadata": {
    "collapsed": true
   },
   "outputs": [],
   "source": [
    "while 조건식:\n",
    "    문장\n",
    "    \n",
    "    # while 다음에 조건식이 오며, 조건식 뒤에는 \n",
    "    # 콜론(:)이 따라붙는다는 것을 알 수 있습니다. "
   ]
  },
  {
   "cell_type": "code",
   "execution_count": 31,
   "metadata": {
    "collapsed": false
   },
   "outputs": [
    {
     "name": "stdout",
     "output_type": "stream",
     "text": [
      "1 번 출력되었습니다.\n",
      "2 번 출력되었습니다.\n",
      "3 번 출력되었습니다.\n",
      "4 번 출력되었습니다.\n",
      "5 번 출력되었습니다.\n",
      "6 번 출력되었습니다.\n",
      "7 번 출력되었습니다.\n",
      "8 번 출력되었습니다.\n",
      "9 번 출력되었습니다.\n",
      "10 번 출력되었습니다.\n"
     ]
    }
   ],
   "source": [
    "i = 1\n",
    "while i <= 10:\n",
    "    print i, \"번 출력되었습니다.\"\n",
    "    i +=1"
   ]
  },
  {
   "cell_type": "code",
   "execution_count": 33,
   "metadata": {
    "collapsed": false
   },
   "outputs": [
    {
     "name": "stdout",
     "output_type": "stream",
     "text": [
      "위 예제를 보면 조건식에 'i <= 10'이 왔음을 볼 수 있다. 이는 변수 i의 값이 10보다 작거나 같은 경우에 참이 성립되며, 10보다 큰 경우는 거짓에 해당합니다. \n",
      "\n",
      "그리고 'i += 1'과 같은 코드는 i의 값을 1만큼 증가시키는 'i = i + 1'를 축약한 코드로, 반복문을 빠져나오도록 하기 위해 작성된 코드입니다. 만약에 while문의 조건식이 처음부터 거짓이면 내부 블록에 있는 문장이 단 한번이라도 실행되지 않습니다. \n",
      "\n",
      "왜냐하면, while문의 실행 순서는 '조건식을 검사 -> 내부 블록에 있는 문장을 실행 -> 조건식을 검사 -> ... 이러한 순서를 따르기 때문입니다.\n"
     ]
    }
   ],
   "source": [
    "print \"위 예제를 보면 조건식에 'i <= 10'이 왔음을 볼 수 있다. 이는 변수 i의 값이 10보다 작거나 같은 경우에 참이 성립되며, 10보다 큰 경우는 거짓에 해당합니다. \\n\\n그리고 'i += 1'과 같은 코드는 i의 값을 1만큼 증가시키는 'i = i + 1'를 축약한 코드로, 반복문을 빠져나오도록 하기 위해 작성된 코드입니다. 만약에 while문의 조건식이 처음부터 거짓이면 내부 블록에 있는 문장이 단 한번이라도 실행되지 않습니다. \\n\\n왜냐하면, while문의 실행 순서는 '조건식을 검사 -> 내부 블록에 있는 문장을 실행 -> 조건식을 검사 -> ... 이러한 순서를 따르기 때문입니다.\""
   ]
  },
  {
   "cell_type": "markdown",
   "metadata": {},
   "source": [
    "# break 문"
   ]
  },
  {
   "cell_type": "code",
   "execution_count": 9,
   "metadata": {
    "collapsed": false,
    "scrolled": false
   },
   "outputs": [
    {
     "name": "stdout",
     "output_type": "stream",
     "text": [
      "0\n",
      "1\n",
      "2\n",
      "3\n",
      "4\n",
      "5\n",
      "6\n",
      "7\n",
      "8\n",
      "9\n",
      "10\n",
      "11\n",
      "12\n",
      "13\n",
      "14\n",
      "15\n",
      "16\n",
      "17\n",
      "18\n",
      "19\n",
      "20\n",
      "21\n",
      "22\n",
      "23\n",
      "24\n",
      "25\n",
      "26\n",
      "27\n",
      "28\n",
      "29\n",
      "30\n",
      "31\n",
      "32\n",
      "33\n",
      "34\n",
      "(35, 'is the magic number !')\n"
     ]
    }
   ],
   "source": [
    "magicNumber = 35\n",
    "\n",
    "# This program finds a magic number.\n",
    "\n",
    "for n in range(101):\n",
    "    if n is magicNumber:\n",
    "        print(n, \"is the magic number !\")\n",
    "        break\n",
    "    else:\n",
    "        print(n)"
   ]
  },
  {
   "cell_type": "code",
   "execution_count": 13,
   "metadata": {
    "collapsed": false
   },
   "outputs": [
    {
     "name": "stdout",
     "output_type": "stream",
     "text": [
      "위의 수식을 보고 우선 찾고자 하는 숫자(혹은 특정 값)을 프로그램에서 찾아야 할 필요가 있을 때 어떻게 해야 할까요? \n",
      "\n",
      "기본적으로는 조건을 만족 시키는지 판단을 해야 할 것입니다. 일단,찾고자 하는 수를 35라고 할 때, 이를 magicNumber에 할당을 하였습니다. \n",
      "\n",
      "위의그림은 파이썬에서 1줄 Comment를 남길 때 사용하는 방법입니다. '#'를 넣으면 그 뒤의 한줄은 컴파일을 하지 않겠다는 의미입니다. 만약 여러 문장을 Comments 처리해야 할 경우에는 Single Quote(')을 세개 사용합니다.\n",
      "\n",
      "다시 본론으로 와, 주석 처리한 내용처럼 이 프로그램은 매직 넘버를 찾는 코드입니다. for를 써서 0부터 100까지 반복을 할건데 만약 0 ~ 100에 해당하는 n값이 magicNumber와 같다면 다음 코드를 실행하라는 의미입니다. \n",
      "\n",
      " n값이 35이면 print() 문을 실행하게 되겠죠? \n",
      "\n",
      "그런데, 매직 넘버를 찾았지만, 반복문은 n값이 100이 될 때까지 지속됩니다. 이는 컴퓨터의 가용자원인 메모리를 낭비하는 결과를 초래하게 되므로, 찾고자 하는 값을 찾은 이후는 Loop를 더 이상 구동시킬 필요가 없으므로 이를 중단하라는 명령을 내려주는게 좋습니다. \n",
      "\n",
      " 그 명령이 바로 break입니다. 위의 코드에서 매직넘버 35를 찾았고, 그것을 출력을 해 주었습니다. 그리고는 break 해 주었으므로 n 값은 36, 37 ... 100까지를 실행하지 않고 Loop를 종료하게 됩니다.\n"
     ]
    }
   ],
   "source": [
    "print \"위의 수식을 보고 우선 찾고자 하는 숫자(혹은 특정 값)을 프로그램에서 찾아야 할 필요가 있을 때 어떻게 해야 할까요? \\n\\n기본적으로는 조건을 만족 시키는지 판단을 해야 할 것입니다. 일단,찾고자 하는 수를 35라고 할 때, 이를 magicNumber에 할당을 하였습니다. \\n\\n위의그림은 파이썬에서 1줄 Comment를 남길 때 사용하는 방법입니다. '#'를 넣으면 그 뒤의 한줄은 컴파일을 하지 않겠다는 의미입니다. 만약 여러 문장을 Comments 처리해야 할 경우에는 Single Quote(')을 세개 사용합니다.\\n\\n다시 본론으로 와, 주석 처리한 내용처럼 이 프로그램은 매직 넘버를 찾는 코드입니다. for를 써서 0부터 100까지 반복을 할건데 만약 0 ~ 100에 해당하는 n값이 magicNumber와 같다면 다음 코드를 실행하라는 의미입니다. \\n\\n n값이 35이면 print() 문을 실행하게 되겠죠? \\n\\n그런데, 매직 넘버를 찾았지만, 반복문은 n값이 100이 될 때까지 지속됩니다. 이는 컴퓨터의 가용자원인 메모리를 낭비하는 결과를 초래하게 되므로, 찾고자 하는 값을 찾은 이후는 Loop를 더 이상 구동시킬 필요가 없으므로 이를 중단하라는 명령을 내려주는게 좋습니다. \\n\\n 그 명령이 바로 break입니다. 위의 코드에서 매직넘버 35를 찾았고, 그것을 출력을 해 주었습니다. 그리고는 break 해 주었으므로 n 값은 36, 37 ... 100까지를 실행하지 않고 Loop를 종료하게 됩니다.\" "
   ]
  },
  {
   "cell_type": "code",
   "execution_count": 34,
   "metadata": {
    "collapsed": false,
    "scrolled": false
   },
   "outputs": [
    {
     "name": "stdout",
     "output_type": "stream",
     "text": [
      "1 번 출력되었습니다.\n",
      "2 번 출력되었습니다.\n",
      "3 번 출력되었습니다.\n",
      "4 번 출력되었습니다.\n",
      "5 번 출력되었습니다.\n",
      "6 번 출력되었습니다.\n"
     ]
    }
   ],
   "source": [
    "i = 1\n",
    "while i <+ 10:\n",
    "    if i == 7:\n",
    "        break\n",
    "    print i, \"번 출력되었습니다.\"\n",
    "    i +=1"
   ]
  },
  {
   "cell_type": "code",
   "execution_count": 37,
   "metadata": {
    "collapsed": false,
    "scrolled": true
   },
   "outputs": [
    {
     "name": "stdout",
     "output_type": "stream",
     "text": [
      "여기 사용된 break문이 어떤 녀석이냐면, 이 문법을 통해 반복문은 조건식이 거짓이여야 반복을 멈추고 빠져나오는데 우리가 직접 반복문을 강제로 탈출하게 할 수 있습니다. 위 예제의 경우는 i가 10보다 커져야 반복을 빠져나오지만, 저기서는 i가 7일 경우에 break문을 만나 바로 반복문을 빠져나오게 됩니다.\n"
     ]
    }
   ],
   "source": [
    "print \"여기 사용된 break문이 어떤 녀석이냐면, 이 문법을 통해 반복문은 조건식이 거짓이여야 반복을 멈추고 빠져나오는데 우리가 직접 반복문을 강제로 탈출하게 할 수 있습니다. 위 예제의 경우는 i가 10보다 커져야 반복을 빠져나오지만, 저기서는 i가 7일 경우에 break문을 만나 바로 반복문을 빠져나오게 됩니다.\""
   ]
  },
  {
   "cell_type": "code",
   "execution_count": 2,
   "metadata": {
    "collapsed": false,
    "scrolled": true
   },
   "outputs": [
    {
     "name": "stdout",
     "output_type": "stream",
     "text": [
      "1\n",
      "2\n",
      "3\n"
     ]
    }
   ],
   "source": [
    "count = 1\n",
    "while True:\n",
    "    print count\n",
    "    count += 1\n",
    "    if count > 3 :\n",
    "        break"
   ]
  },
  {
   "cell_type": "markdown",
   "metadata": {},
   "source": [
    "* continue\n",
    " + 반복을 중단하진 않지만, 다음 루프로 넘어갈 때 사용"
   ]
  },
  {
   "cell_type": "code",
   "execution_count": 4,
   "metadata": {
    "collapsed": false,
    "scrolled": true
   },
   "outputs": [
    {
     "name": "stdout",
     "output_type": "stream",
     "text": [
      "Current variable value : 6\n",
      "Current variable value : 4\n",
      "Current variable value : 3\n",
      "Current variable value : 2\n",
      "Current variable value : 1\n",
      "Current variable value : 0\n",
      "Good bye!\n"
     ]
    }
   ],
   "source": [
    "var = 7                    \n",
    "while var > 0:              \n",
    "   var -= 1\n",
    "   if var == 5:\n",
    "      continue\n",
    "   print 'Current variable value :', var\n",
    "print \"Good bye!\""
   ]
  },
  {
   "cell_type": "markdown",
   "metadata": {},
   "source": [
    "* while - else\n",
    " + break 문에 걸리지 않고 while 종료 시, else문 호출"
   ]
  },
  {
   "cell_type": "code",
   "execution_count": 5,
   "metadata": {
    "collapsed": false
   },
   "outputs": [
    {
     "name": "stdout",
     "output_type": "stream",
     "text": [
      "no even number\n"
     ]
    }
   ],
   "source": [
    "#nums = [1, 4, 3, 5]\n",
    "nums = [1, 3, 5]\n",
    "position = 0\n",
    "while position < len(nums):\n",
    "    number = nums[position]\n",
    "    \n",
    "    if number % 2 == 0:\n",
    "        print 'even number'\n",
    "        break\n",
    "        \n",
    "    position += 1\n",
    "else:\n",
    "    print 'no even number'"
   ]
  },
  {
   "cell_type": "code",
   "execution_count": 6,
   "metadata": {
    "collapsed": false,
    "scrolled": true
   },
   "outputs": [
    {
     "name": "stdout",
     "output_type": "stream",
     "text": [
      "1\n",
      "3\n",
      "2\n",
      "5\n",
      "4\n",
      "6\n",
      "7\n",
      "9\n",
      "8\n"
     ]
    }
   ],
   "source": [
    "nums = [1, 3, 2, 5, 4, 6, 7, 9, 8]\n",
    "pos = 0\n",
    "while pos < len(nums):\n",
    "    print nums[pos]\n",
    "    pos += 1"
   ]
  },
  {
   "cell_type": "code",
   "execution_count": 7,
   "metadata": {
    "collapsed": false
   },
   "outputs": [
    {
     "name": "stdout",
     "output_type": "stream",
     "text": [
      "1\n",
      "3\n",
      "2\n",
      "5\n",
      "4\n",
      "6\n",
      "7\n",
      "9\n",
      "8\n"
     ]
    }
   ],
   "source": [
    "nums = [1, 3, 2, 5, 4, 6, 7, 9, 8]\n",
    "pos = 0\n",
    "while pos < len(nums):\n",
    "    print nums[pos]\n",
    "    pos += 1"
   ]
  },
  {
   "cell_type": "markdown",
   "metadata": {},
   "source": [
    "# for문"
   ]
  },
  {
   "cell_type": "markdown",
   "metadata": {},
   "source": [
    "+ for \n",
    " - 이터레이터가 내부적으로 생김\n",
    " - for [loop_var] in [sequence]: 로 쓰임\n",
    " - sequence는 리스트, 문자열, 튜플, 딕셔너리, 셋 등 순회 가능한 객체\n",
    " - 클래스 수업 이후, for에 적용가능한 커스텀 객체 생성 예정~"
   ]
  },
  {
   "cell_type": "code",
   "execution_count": 3,
   "metadata": {
    "collapsed": false
   },
   "outputs": [
    {
     "name": "stdout",
     "output_type": "stream",
     "text": [
      "1. 우선 foods 라고 하는 List(배열)을 만들고 거기에 속할만한 단어들을 넣어줍니다.\n",
      "bacon\n",
      "beef\n",
      "spam\n",
      "tomato\n",
      "tuna\n",
      "2.즉, foods 안의 값들을 임의의 값 f 라고 칭하고 이를 계속 반복하라는 말이죠\n"
     ]
    }
   ],
   "source": [
    "print \"1. 우선 foods 라고 하는 List(배열)을 만들고 거기에 속할만한 단어들을 넣어줍니다.\"\n",
    "\n",
    "foods = ['bacon', 'beef', 'spam', 'tomato', 'tuna']\n",
    "\n",
    "for f in foods:\n",
    "    print(f)\n",
    "    \n",
    "    # in foods => foods 안에 있는 것들을 \n",
    "    # for f => 각각을 f 라고 임의로 지정하고 반복하라\n",
    "\n",
    "print \"2.즉, foods 안의 값들을 임의의 값 f 라고 칭하고 이를 계속 반복하라는 말이죠\"\n",
    "    "
   ]
  },
  {
   "cell_type": "code",
   "execution_count": 4,
   "metadata": {
    "collapsed": false
   },
   "outputs": [
    {
     "name": "stdout",
     "output_type": "stream",
     "text": [
      "bacon\n",
      "5\n",
      "beef\n",
      "4\n"
     ]
    }
   ],
   "source": [
    "foods = ['bacon', 'beef', 'spam', 'tomato', 'tuna']\n",
    "\n",
    "for f in foods[ : 2]:\n",
    "    print f\n",
    "    print len(f)\n",
    "    \n",
    "    # len()함수를 사용하여 각각의 아이템의 길이도 함께 표기합니다. "
   ]
  },
  {
   "cell_type": "code",
   "execution_count": 1,
   "metadata": {
    "collapsed": false,
    "scrolled": true
   },
   "outputs": [
    {
     "name": "stdout",
     "output_type": "stream",
     "text": [
      "hello\n",
      "world\n"
     ]
    }
   ],
   "source": [
    "str = 'hello world'\n",
    "for char in str.split():\n",
    "    print char"
   ]
  },
  {
   "cell_type": "code",
   "execution_count": 4,
   "metadata": {
    "collapsed": false,
    "scrolled": true
   },
   "outputs": [
    {
     "name": "stdout",
     "output_type": "stream",
     "text": [
      "japan tokyo\n",
      "korea seoul\n",
      "usa la\n"
     ]
    }
   ],
   "source": [
    "capitals = {'korea' : 'seoul', 'japan' : 'tokyo', 'usa' : 'la'}\n",
    "for country in capitals:\n",
    "    print country, capitals[country]\n",
    "    \n",
    "    ##### ??"
   ]
  },
  {
   "cell_type": "code",
   "execution_count": 5,
   "metadata": {
    "collapsed": false,
    "scrolled": true
   },
   "outputs": [
    {
     "name": "stdout",
     "output_type": "stream",
     "text": [
      "japan\n",
      "korea\n",
      "usa\n"
     ]
    }
   ],
   "source": [
    "for key in capitals.keys():\n",
    "    print key"
   ]
  },
  {
   "cell_type": "code",
   "execution_count": 7,
   "metadata": {
    "collapsed": false,
    "scrolled": true
   },
   "outputs": [
    {
     "name": "stdout",
     "output_type": "stream",
     "text": [
      "japan tokyo\n",
      "korea seoul\n",
      "usa la\n"
     ]
    }
   ],
   "source": [
    "for k, v in capitals.items():\n",
    "    print k, v"
   ]
  },
  {
   "cell_type": "code",
   "execution_count": 8,
   "metadata": {
    "collapsed": false
   },
   "outputs": [
    {
     "name": "stdout",
     "output_type": "stream",
     "text": [
      "for문에 대해서 알아보도록 하겠습니다. 이 for문은 처음에 소개했던대로 튜플,리스트, 사전, 문자열 등과 같은 순서형 자료가 올 수 있습니다. \n"
     ]
    }
   ],
   "source": [
    "print \"for문에 대해서 알아보도록 하겠습니다. 이 for문은 처음에 소개했던대로 튜플,리스트, 사전, 문자열 등과 같은 순서형 자료가 올 수 있습니다. \""
   ]
  },
  {
   "cell_type": "markdown",
   "metadata": {},
   "source": [
    "* for 변수 in 순서형 자료 :\n",
    " *   문장"
   ]
  },
  {
   "cell_type": "code",
   "execution_count": 46,
   "metadata": {
    "collapsed": false
   },
   "outputs": [
    {
     "name": "stdout",
     "output_type": "stream",
     "text": [
      "for문은 순서형 자료(리스트, 튜플 등)의 요소를 하나하나씩 가져와서 변수에 넣습니다.\n"
     ]
    }
   ],
   "source": [
    "print \"for문은 순서형 자료(리스트, 튜플 등)의 요소를 하나하나씩 가져와서 변수에 넣습니다.\""
   ]
  },
  {
   "cell_type": "code",
   "execution_count": 48,
   "metadata": {
    "collapsed": false,
    "scrolled": true
   },
   "outputs": [
    {
     "name": "stdout",
     "output_type": "stream",
     "text": [
      "1\n",
      "3\n",
      "5\n",
      "7\n",
      "9\n"
     ]
    }
   ],
   "source": [
    "test = [1, 3, 5, 7, 9]\n",
    "for i in test:\n",
    "    print i"
   ]
  },
  {
   "cell_type": "code",
   "execution_count": 12,
   "metadata": {
    "collapsed": false,
    "scrolled": true
   },
   "outputs": [
    {
     "name": "stdout",
     "output_type": "stream",
     "text": [
      "1 가 출력되었습니다.\n",
      "3 가 출력되었습니다.\n",
      "5 가 출력되었습니다.\n",
      "7 가 출력되었습니다.\n"
     ]
    }
   ],
   "source": [
    "test = [1, 2, 3, 4, 5, 6, 7, 8]\n",
    "for i in test:\n",
    "    if i % 2 == 1:\n",
    "        print i, \"가 출력되었습니다.\""
   ]
  },
  {
   "cell_type": "code",
   "execution_count": 8,
   "metadata": {
    "collapsed": false,
    "scrolled": true
   },
   "outputs": [
    {
     "name": "stdout",
     "output_type": "stream",
     "text": [
      "value at index 0 is 1\n",
      "value at index 1 is 3\n",
      "value at index 2 is 2\n",
      "value at index 3 is 5\n",
      "value at index 4 is 4\n",
      "value at index 5 is 6\n",
      "value at index 6 is 7\n",
      "value at index 7 is 9\n",
      "value at index 8 is 8\n"
     ]
    }
   ],
   "source": [
    "nums = [1, 3, 2, 5, 4, 6, 7, 9, 8]\n",
    "\n",
    "for i, val in enumerate(nums):\n",
    "    print 'value at index', i, 'is', val\n",
    "    \n",
    "    #####???"
   ]
  },
  {
   "cell_type": "code",
   "execution_count": 9,
   "metadata": {
    "collapsed": false,
    "scrolled": true
   },
   "outputs": [
    {
     "name": "stdout",
     "output_type": "stream",
     "text": [
      "1 2\n",
      "1 3\n",
      "1 4\n",
      "2 2\n",
      "2 3\n",
      "2 4\n",
      "3 2\n",
      "3 3\n",
      "3 4\n",
      "4 2\n",
      "4 3\n",
      "4 4\n"
     ]
    }
   ],
   "source": [
    "a = [1, 2, 3, 4]\n",
    "b = [2, 3, 4]\n",
    "\n",
    "for i in a:\n",
    "    for j in b : \n",
    "        print i, j"
   ]
  },
  {
   "cell_type": "code",
   "execution_count": 11,
   "metadata": {
    "collapsed": false,
    "scrolled": true
   },
   "outputs": [
    {
     "name": "stdout",
     "output_type": "stream",
     "text": [
      "# 구구단을 2 - 9단까지 출력하시오.\n",
      "2 * 1 = 2\n",
      "2 * 2 = 4\n",
      "2 * 3 = 6\n",
      "2 * 4 = 8\n",
      "2 * 5 = 10\n",
      "2 * 6 = 12\n",
      "2 * 7 = 14\n",
      "2 * 8 = 16\n",
      "2 * 9 = 18\n",
      "3 * 1 = 3\n",
      "3 * 2 = 6\n",
      "3 * 3 = 9\n",
      "3 * 4 = 12\n",
      "3 * 5 = 15\n",
      "3 * 6 = 18\n",
      "3 * 7 = 21\n",
      "3 * 8 = 24\n",
      "3 * 9 = 27\n",
      "4 * 1 = 4\n",
      "4 * 2 = 8\n",
      "4 * 3 = 12\n",
      "4 * 4 = 16\n",
      "4 * 5 = 20\n",
      "4 * 6 = 24\n",
      "4 * 7 = 28\n",
      "4 * 8 = 32\n",
      "4 * 9 = 36\n",
      "5 * 1 = 5\n",
      "5 * 2 = 10\n",
      "5 * 3 = 15\n",
      "5 * 4 = 20\n",
      "5 * 5 = 25\n",
      "5 * 6 = 30\n",
      "5 * 7 = 35\n",
      "5 * 8 = 40\n",
      "5 * 9 = 45\n",
      "6 * 1 = 6\n",
      "6 * 2 = 12\n",
      "6 * 3 = 18\n",
      "6 * 4 = 24\n",
      "6 * 5 = 30\n",
      "6 * 6 = 36\n",
      "6 * 7 = 42\n",
      "6 * 8 = 48\n",
      "6 * 9 = 54\n",
      "7 * 1 = 7\n",
      "7 * 2 = 14\n",
      "7 * 3 = 21\n",
      "7 * 4 = 28\n",
      "7 * 5 = 35\n",
      "7 * 6 = 42\n",
      "7 * 7 = 49\n",
      "7 * 8 = 56\n",
      "7 * 9 = 63\n",
      "8 * 1 = 8\n",
      "8 * 2 = 16\n",
      "8 * 3 = 24\n",
      "8 * 4 = 32\n",
      "8 * 5 = 40\n",
      "8 * 6 = 48\n",
      "8 * 7 = 56\n",
      "8 * 8 = 64\n",
      "8 * 9 = 72\n",
      "9 * 1 = 9\n",
      "9 * 2 = 18\n",
      "9 * 3 = 27\n",
      "9 * 4 = 36\n",
      "9 * 5 = 45\n",
      "9 * 6 = 54\n",
      "9 * 7 = 63\n",
      "9 * 8 = 72\n",
      "9 * 9 = 81\n"
     ]
    }
   ],
   "source": [
    "print \"# 구구단을 2 - 9단까지 출력하시오.\"\n",
    "\n",
    "for i in range(2, 10):\n",
    "    for j in range(1, 10):\n",
    "        print i, '*', j, '=', i * j"
   ]
  },
  {
   "cell_type": "code",
   "execution_count": 12,
   "metadata": {
    "collapsed": false,
    "scrolled": false
   },
   "outputs": [
    {
     "name": "stdout",
     "output_type": "stream",
     "text": [
      "# 1 - 100까지 정수 중 2의 배수와  11의 배수를 모두 출력하시오\n",
      "[2, 4, 6, 8, 10, 11, 12, 14, 16, 18, 20, 22, 24, 26, 28, 30, 32, 33, 34, 36, 38, 40, 42, 44, 46, 48, 50, 52, 54, 55, 56, 58, 60, 62, 64, 66, 68, 70, 72, 74, 76, 77, 78, 80, 82, 84, 86, 88, 90, 92, 94, 96, 98, 99, 100]\n"
     ]
    }
   ],
   "source": [
    "print \"# 1 - 100까지 정수 중 2의 배수와  11의 배수를 모두 출력하시오\"\n",
    "\n",
    "result = []\n",
    "\n",
    "for i in range(1, 101):\n",
    "    if i % 2 == 0 or i % 11 == 0:\n",
    "        result.append(i) # append : 추가 함수\n",
    "        \n",
    "print result"
   ]
  },
  {
   "cell_type": "code",
   "execution_count": 16,
   "metadata": {
    "collapsed": false
   },
   "outputs": [
    {
     "name": "stdout",
     "output_type": "stream",
     "text": [
      "a = [22, 1, 3, 4, 7, 98, 21, 55, 87, 99, 19, 20, 45]에서 평균을 구하세요.\n",
      "37.0\n"
     ]
    }
   ],
   "source": [
    "print \"a = [22, 1, 3, 4, 7, 98, 21, 55, 87, 99, 19, 20, 45]에서 평균을 구하세요.\"\n",
    "\n",
    "a = [22, 1, 3, 4, 7, 98, 21, 55, 87, 99, 19, 20, 45]\n",
    "sum = 0\n",
    "for i in a:\n",
    "    sum += i\n",
    "    \n",
    "print float(sum) / len(a)"
   ]
  },
  {
   "cell_type": "markdown",
   "metadata": {},
   "source": [
    "# range 함수"
   ]
  },
  {
   "cell_type": "code",
   "execution_count": 16,
   "metadata": {
    "collapsed": false
   },
   "outputs": [
    {
     "name": "stdout",
     "output_type": "stream",
     "text": [
      "range 함수를 for문에 이용할 수 있는데, range 함수는 숫자의 범위를 가지는 range 객체를 돌려보내며 이를 통하여 for문 내에서 위치를 가지고 요소를 가져오거나 변경할 수 있음. \n"
     ]
    }
   ],
   "source": [
    "print \"range 함수를 for문에 이용할 수 있는데, range 함수는 숫자의 범위를 가지는 range 객체를 돌려보내며 이를 통하여 for문 내에서 위치를 가지고 요소를 가져오거나 변경할 수 있음. \""
   ]
  },
  {
   "cell_type": "code",
   "execution_count": 18,
   "metadata": {
    "collapsed": false
   },
   "outputs": [
    {
     "name": "stdout",
     "output_type": "stream",
     "text": [
      "0\n",
      "1\n",
      "2\n",
      "3\n",
      "4\n",
      "5\n",
      "6\n",
      "7\n",
      "8\n",
      "9\n"
     ]
    }
   ],
   "source": [
    "for i in range(10):\n",
    "    print i"
   ]
  },
  {
   "cell_type": "code",
   "execution_count": 6,
   "metadata": {
    "collapsed": false
   },
   "outputs": [
    {
     "name": "stdout",
     "output_type": "stream",
     "text": [
      "위 예제에서는 range(10)이 0에서부터 9까지의 범위를 지니는 range객체를 만들어내며, 이 객체를 가지고 순차적으로 접근하여 값이 i에 담긴 뒤, 저장된 i의 값을 print문으로 출력하는 것입니다.\n",
      "\n",
      "즉 for문에서는 0부터 9를 각각 한번씩 number로 할당해서 아래의 명령을 수행하라는 의미가 됩니다. 여기에서 왜 숫자들이 옆으로 나열이 안되고 아래로 나열이 되냐고 하면, print() 함수 때문입니다. 이 프린트 함수에는 사용자에게는 보이지 않지만 내부적으로 개행문자은 \n",
      "이 포함되어 있기 때문입니다.\n"
     ]
    }
   ],
   "source": [
    "print \"위 예제에서는 range(10)이 0에서부터 9까지의 범위를 지니는 range객체를 만들어내며, 이 객체를 가지고 순차적으로 접근하여 값이 i에 담긴 뒤, 저장된 i의 값을 print문으로 출력하는 것입니다.\\n\\n즉 for문에서는 0부터 9를 각각 한번씩 number로 할당해서 아래의 명령을 수행하라는 의미가 됩니다. 여기에서 왜 숫자들이 옆으로 나열이 안되고 아래로 나열이 되냐고 하면, print() 함수 때문입니다. 이 프린트 함수에는 사용자에게는 보이지 않지만 내부적으로 개행문자은 \\n이 포함되어 있기 때문입니다.\""
   ]
  },
  {
   "cell_type": "code",
   "execution_count": 23,
   "metadata": {
    "collapsed": false
   },
   "outputs": [
    {
     "name": "stdout",
     "output_type": "stream",
     "text": [
      "0\n",
      "1\n",
      "2\n",
      "3\n",
      "4\n"
     ]
    }
   ],
   "source": [
    "lst = [1, 2, 3, 4, 5]\n",
    "for i in range(len(lst)):\n",
    "    print i"
   ]
  },
  {
   "cell_type": "code",
   "execution_count": 24,
   "metadata": {
    "collapsed": false
   },
   "outputs": [
    {
     "name": "stdout",
     "output_type": "stream",
     "text": [
      "2\n",
      "-4\n",
      "6\n",
      "-8\n",
      "10\n"
     ]
    }
   ],
   "source": [
    "lst = [1, 2, 3, 4, 5]\n",
    "for i in range(len(lst)):\n",
    "    if i % 2 == 0:\n",
    "        lst[i] *= 2\n",
    "    else:\n",
    "        lst[i] *= -2\n",
    "    print lst[i]"
   ]
  },
  {
   "cell_type": "code",
   "execution_count": 26,
   "metadata": {
    "collapsed": false
   },
   "outputs": [
    {
     "name": "stdout",
     "output_type": "stream",
     "text": [
      "len 함수를 통해 리스트 lst의 요수 수를 구하고 이 요소 수를 통해 range함수를 호출하여 요소 수 만큼 반복하게 된다. for문의 내부 블록을 보면 i를 2로 나눈 나머지가 0인 경우, 즉 짝수인 경우에는 i번째 요소의 값에 2를 곱한 값을 저장하고, 홀수인 경우에는 i번째 요소의 값에 -2를 곱한 값을 저장한다. 결과를 보면 0 ~ 4의 범위를 지닌 range 객체를 만들어 낸 것이라고 보면 된다. \n"
     ]
    }
   ],
   "source": [
    "print \"len 함수를 통해 리스트 lst의 요수 수를 구하고 이 요소 수를 통해 range함수를 호출하여 요소 수 만큼 반복하게 된다. for문의 내부 블록을 보면 i를 2로 나눈 나머지가 0인 경우, 즉 짝수인 경우에는 i번째 요소의 값에 2를 곱한 값을 저장하고, 홀수인 경우에는 i번째 요소의 값에 -2를 곱한 값을 저장한다. 결과를 보면 0 ~ 4의 범위를 지닌 range 객체를 만들어 낸 것이라고 보면 된다. \""
   ]
  },
  {
   "cell_type": "markdown",
   "metadata": {},
   "source": [
    "# 반복문의 중첩"
   ]
  },
  {
   "cell_type": "code",
   "execution_count": 27,
   "metadata": {
    "collapsed": false
   },
   "outputs": [
    {
     "name": "stdout",
     "output_type": "stream",
     "text": [
      "반복문의 중첩은 반복문 내에 반복문이 들어가는 것으로써 for문 내에 while문이 들어갈수도 있으며, while문 내에 while문이 들어갈 수 있는 등 여러 개의 반복문이 중첩되어 사용될 수 있습니다.\n"
     ]
    }
   ],
   "source": [
    "print \"반복문의 중첩은 반복문 내에 반복문이 들어가는 것으로써 for문 내에 while문이 들어갈수도 있으며, while문 내에 while문이 들어갈 수 있는 등 여러 개의 반복문이 중첩되어 사용될 수 있습니다.\""
   ]
  },
  {
   "cell_type": "code",
   "execution_count": 17,
   "metadata": {
    "collapsed": false
   },
   "outputs": [
    {
     "name": "stdout",
     "output_type": "stream",
     "text": [
      "<type 'list'> [0, 1, 2]\n"
     ]
    }
   ],
   "source": [
    "a = range(3)\n",
    "print type(a), a"
   ]
  },
  {
   "cell_type": "code",
   "execution_count": 18,
   "metadata": {
    "collapsed": false
   },
   "outputs": [
    {
     "name": "stdout",
     "output_type": "stream",
     "text": [
      "[1, 2, 3, 4, 5, 6, 7, 8]\n"
     ]
    }
   ],
   "source": [
    "b = range(1, 9)\n",
    "print b"
   ]
  },
  {
   "cell_type": "code",
   "execution_count": 20,
   "metadata": {
    "collapsed": false
   },
   "outputs": [
    {
     "name": "stdout",
     "output_type": "stream",
     "text": [
      "[5, 10, 15, 20, 25, 30, 35, 40, 45, 50, 55, 60, 65, 70, 75, 80, 85, 90, 95, 100]\n"
     ]
    }
   ],
   "source": [
    "c = range(5, 105, 5) # range(시작, 104까지, 간격을 5씩 건너띄라)\n",
    "print c"
   ]
  },
  {
   "cell_type": "code",
   "execution_count": 21,
   "metadata": {
    "collapsed": false
   },
   "outputs": [
    {
     "name": "stdout",
     "output_type": "stream",
     "text": [
      "[5, 8, 11, 14, 17, 20, 23, 26, 29, 32, 35, 38, 41, 44, 47, 50, 53, 56, 59, 62, 65, 68, 71, 74, 77, 80, 83, 86, 89, 92, 95, 98, 101, 104]\n"
     ]
    }
   ],
   "source": [
    "d = range(5, 105, 3)\n",
    "print d"
   ]
  },
  {
   "cell_type": "code",
   "execution_count": 23,
   "metadata": {
    "collapsed": false
   },
   "outputs": [
    {
     "name": "stdout",
     "output_type": "stream",
     "text": [
      "[10, 9, 8, 7, 6, 5, 4, 3, 2, 1, 0]\n"
     ]
    }
   ],
   "source": [
    "e = range(10, -1, -1)\n",
    "print e"
   ]
  },
  {
   "cell_type": "markdown",
   "metadata": {},
   "source": [
    "* comprehension\n",
    " + 하나 이상의 이터레이터로 부터 파이썬의 자료 구조를 만드는 엘레강스하고 간결한 방법"
   ]
  },
  {
   "cell_type": "code",
   "execution_count": 24,
   "metadata": {
    "collapsed": false
   },
   "outputs": [
    {
     "name": "stdout",
     "output_type": "stream",
     "text": [
      "[2, 4, 6]\n"
     ]
    }
   ],
   "source": [
    "nums = [1, 2, 3, 4, 5, 6]\n",
    "#nums = range(1, 7)\n",
    "\n",
    "even_nums = []\n",
    "for i in nums:\n",
    "    if i % 2 == 0:\n",
    "        even_nums.append(i)\n",
    "        \n",
    "print even_nums"
   ]
  },
  {
   "cell_type": "code",
   "execution_count": 34,
   "metadata": {
    "collapsed": false
   },
   "outputs": [
    {
     "name": "stdout",
     "output_type": "stream",
     "text": [
      "[2, 4, 6]\n"
     ]
    }
   ],
   "source": [
    "nums = [1, 2, 3, 4, 5, 6]\n",
    "even_nums2 = [i for i in nums if i % 2 == 0]\n",
    "print even_nums2"
   ]
  },
  {
   "cell_type": "code",
   "execution_count": 26,
   "metadata": {
    "collapsed": false
   },
   "outputs": [
    {
     "name": "stdout",
     "output_type": "stream",
     "text": [
      "[1, 2, 3, 4, 5, 6]\n",
      "[1, 4, 9, 16, 25, 36]\n"
     ]
    }
   ],
   "source": [
    "nums2 = [i for i in nums]\n",
    "nums3 = [i**2 for i in nums]\n",
    "\n",
    "print nums2\n",
    "print nums3"
   ]
  },
  {
   "cell_type": "code",
   "execution_count": 27,
   "metadata": {
    "collapsed": false
   },
   "outputs": [
    {
     "name": "stdout",
     "output_type": "stream",
     "text": [
      "[1, 2, 3]\n",
      "[1, 4, 9, 8, 10, 12]\n"
     ]
    }
   ],
   "source": [
    "nums4 = [i for i in nums if i < 4]\n",
    "#nums41 = [i for i in nums if i < 4 else 0]\n",
    "nums5 = [i**2 if i < 4 else i*2 for i in nums]\n",
    "\n",
    "print nums4\n",
    "print nums5"
   ]
  },
  {
   "cell_type": "code",
   "execution_count": 28,
   "metadata": {
    "collapsed": false
   },
   "outputs": [
    {
     "name": "stdout",
     "output_type": "stream",
     "text": [
      "1 1\n",
      "1 2\n",
      "2 1\n",
      "2 2\n",
      "3 1\n",
      "3 2\n",
      "--------------------\n",
      "1 1\n",
      "1 2\n",
      "2 1\n",
      "2 2\n",
      "3 1\n",
      "3 2\n"
     ]
    }
   ],
   "source": [
    "rows = range(1, 4)\n",
    "cols = range(1, 3)\n",
    "\n",
    "for row in rows:\n",
    "    for col in cols:\n",
    "        print row, col\n",
    "        \n",
    "print '-' * 20\n",
    "        \n",
    "cells = [(row, col) for row in rows for col in cols]\n",
    "for row, col in cells:\n",
    "    print row, col"
   ]
  },
  {
   "cell_type": "code",
   "execution_count": 29,
   "metadata": {
    "collapsed": false
   },
   "outputs": [
    {
     "name": "stdout",
     "output_type": "stream",
     "text": [
      "{'do': 2, 'chicago': 7, 'elephant': 8, 'apple': 5, 'banana': 6}\n"
     ]
    }
   ],
   "source": [
    "words = ['apple', 'banana', 'chicago', 'do', 'elephant']\n",
    "words_dict = {w : len(w) for w in words}\n",
    "\n",
    "print words_dict"
   ]
  },
  {
   "cell_type": "code",
   "execution_count": 30,
   "metadata": {
    "collapsed": false
   },
   "outputs": [
    {
     "name": "stdout",
     "output_type": "stream",
     "text": [
      "# Celsius = [39.2, 36.5, 37.3, 37.8] F = (9/5) * C + 32 일 때, 리스트의 각 값을 화씨로 바꾼 리스트를 만드시오.\n",
      "[102.56, 99.14, 100.03999999999999]\n"
     ]
    }
   ],
   "source": [
    "print \"# Celsius = [39.2, 36.5, 37.3, 37.8] F = (9/5) * C + 32 일 때, 리스트의 각 값을 화씨로 바꾼 리스트를 만드시오.\"\n",
    "\n",
    "Celsius = [39.2, 36.5, 37.3, 37.8]\n",
    "F = [1.8 * c + 32  for c in Celsius if c >= 37]\n",
    "print F"
   ]
  },
  {
   "cell_type": "code",
   "execution_count": 32,
   "metadata": {
    "collapsed": false
   },
   "outputs": [
    {
     "name": "stdout",
     "output_type": "stream",
     "text": [
      "주어진 문자열에서 띄어쓰기의 개수는? 'Today is very nice and I want to go out for dinner'\n"
     ]
    }
   ],
   "source": [
    "print \"주어진 문자열에서 띄어쓰기의 개수는? 'Today is very nice and I want to go out for dinner'\"\n",
    "\n"
   ]
  },
  {
   "cell_type": "code",
   "execution_count": 17,
   "metadata": {
    "collapsed": false
   },
   "outputs": [
    {
     "name": "stdout",
     "output_type": "stream",
     "text": [
      "\n",
      "*\n",
      "* *\n",
      "* * *\n",
      "* * * *\n",
      "* * * * *\n",
      "* * * * * *\n",
      "* * * * * * *\n",
      "* * * * * * * *\n",
      "* * * * * * * * *\n"
     ]
    }
   ],
   "source": [
    "for i in range(10) :\n",
    "    for j in range(i):\n",
    "        print '*', \n",
    "    print "
   ]
  },
  {
   "cell_type": "code",
   "execution_count": 18,
   "metadata": {
    "collapsed": false
   },
   "outputs": [
    {
     "name": "stdout",
     "output_type": "stream",
     "text": [
      "* * * * * * * * * *\n",
      "* * * * * * * * *\n",
      "* * * * * * * *\n",
      "* * * * * * *\n",
      "* * * * * *\n",
      "* * * * *\n",
      "* * * *\n",
      "* * *\n",
      "* *\n",
      "*\n",
      "\n"
     ]
    }
   ],
   "source": [
    "for i in range(10, -1, -1):\n",
    "    for j in range(i) :\n",
    "        print '*', \n",
    "    print"
   ]
  },
  {
   "cell_type": "markdown",
   "metadata": {
    "collapsed": true
   },
   "source": [
    "## 대괄호의 용도"
   ]
  },
  {
   "cell_type": "markdown",
   "metadata": {},
   "source": [
    "반복문에서 값의 리스트를 대괄호로 감싼 것을 본 적이 있을 것입니다. 파이썬에서는 대괄호와 각 숫자 사이의 콤마를 이용해 리스트를 만듭니다. 리스트는 여러 가지를 함께 저장하기 위한 '컨테이너'의 일종이라고 알고 있으면 됩니다. 이 경우 컨테이너에 숫자를 넣고, 이 숫자들은 반복문의 각 반복마다 looper 변수가 가져가는 값에 해당합니다."
   ]
  },
  {
   "cell_type": "code",
   "execution_count": 1,
   "metadata": {
    "collapsed": false
   },
   "outputs": [
    {
     "name": "stdout",
     "output_type": "stream",
     "text": [
      "1 times 8 = 8\n",
      "2 times 8 = 16\n",
      "3 times 8 = 24\n",
      "4 times 8 = 32\n",
      "5 times 8 = 40\n"
     ]
    }
   ],
   "source": [
    "for looper in [1, 2, 3, 4, 5] :\n",
    "    print looper, \"times 8 =\" , looper * 8"
   ]
  },
  {
   "cell_type": "code",
   "execution_count": 2,
   "metadata": {
    "collapsed": false
   },
   "outputs": [
    {
     "name": "stdout",
     "output_type": "stream",
     "text": [
      "1 times 8 = 8\n",
      "2 times 8 = 16\n",
      "3 times 8 = 24\n",
      "4 times 8 = 32\n"
     ]
    }
   ],
   "source": [
    "for looper in range(1, 5):\n",
    "    print looper, \"times 8 =\", looper * 8"
   ]
  },
  {
   "cell_type": "code",
   "execution_count": 3,
   "metadata": {
    "collapsed": false
   },
   "outputs": [
    {
     "name": "stdout",
     "output_type": "stream",
     "text": [
      "1\n",
      "3\n",
      "5\n",
      "7\n",
      "9\n"
     ]
    }
   ],
   "source": [
    "for i in range(1, 10, 2):\n",
    "    print i"
   ]
  },
  {
   "cell_type": "code",
   "execution_count": 4,
   "metadata": {
    "collapsed": false
   },
   "outputs": [
    {
     "name": "stdout",
     "output_type": "stream",
     "text": [
      "5\n",
      "10\n",
      "15\n",
      "20\n",
      "25\n"
     ]
    }
   ],
   "source": [
    "for i in range (5, 26, 5):\n",
    "    print i"
   ]
  },
  {
   "cell_type": "code",
   "execution_count": 5,
   "metadata": {
    "collapsed": false
   },
   "outputs": [
    {
     "name": "stdout",
     "output_type": "stream",
     "text": [
      "1 x 5 = 5\n",
      "2 x 5 = 10\n",
      "3 x 5 = 15\n",
      "4 x 5 = 20\n",
      "5 x 5 = 25\n",
      "6 x 5 = 30\n",
      "7 x 5 = 35\n",
      "8 x 5 = 40\n",
      "9 x 5 = 45\n",
      "10 x 5 = 50\n"
     ]
    }
   ],
   "source": [
    "multiplier = 5 \n",
    "for i in range (1, 11):\n",
    "    print i, \"x\", multiplier, \"=\", i * multiplier"
   ]
  },
  {
   "cell_type": "code",
   "execution_count": null,
   "metadata": {
    "collapsed": true
   },
   "outputs": [],
   "source": []
  }
 ],
 "metadata": {
  "kernelspec": {
   "display_name": "Python 2",
   "language": "python",
   "name": "python2"
  },
  "language_info": {
   "codemirror_mode": {
    "name": "ipython",
    "version": 2
   },
   "file_extension": ".py",
   "mimetype": "text/x-python",
   "name": "python",
   "nbconvert_exporter": "python",
   "pygments_lexer": "ipython2",
   "version": "2.7.12"
  }
 },
 "nbformat": 4,
 "nbformat_minor": 1
}
