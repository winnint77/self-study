{
 "cells": [
  {
   "cell_type": "markdown",
   "metadata": {
    "collapsed": true
   },
   "source": [
    "# 문자열 인덱싱 및 슬라이싱"
   ]
  },
  {
   "cell_type": "code",
   "execution_count": 2,
   "metadata": {
    "collapsed": false
   },
   "outputs": [
    {
     "data": {
      "text/plain": [
       "11"
      ]
     },
     "execution_count": 2,
     "metadata": {},
     "output_type": "execute_result"
    }
   ],
   "source": [
    "mystring = \"hello world\"\n",
    "\n",
    "len(mystring)"
   ]
  },
  {
   "cell_type": "code",
   "execution_count": 3,
   "metadata": {
    "collapsed": false,
    "scrolled": true
   },
   "outputs": [
    {
     "data": {
      "text/plain": [
       "'hello'"
      ]
     },
     "execution_count": 3,
     "metadata": {},
     "output_type": "execute_result"
    }
   ],
   "source": [
    "mystring[0:5]"
   ]
  },
  {
   "cell_type": "code",
   "execution_count": 4,
   "metadata": {
    "collapsed": false,
    "scrolled": true
   },
   "outputs": [
    {
     "data": {
      "text/plain": [
       "'world'"
      ]
     },
     "execution_count": 4,
     "metadata": {},
     "output_type": "execute_result"
    }
   ],
   "source": [
    "mystring[6:11]"
   ]
  },
  {
   "cell_type": "code",
   "execution_count": 5,
   "metadata": {
    "collapsed": false,
    "scrolled": true
   },
   "outputs": [
    {
     "data": {
      "text/plain": [
       "'hello'"
      ]
     },
     "execution_count": 5,
     "metadata": {},
     "output_type": "execute_result"
    }
   ],
   "source": [
    "mystring[:5]"
   ]
  },
  {
   "cell_type": "code",
   "execution_count": 6,
   "metadata": {
    "collapsed": false,
    "scrolled": true
   },
   "outputs": [
    {
     "data": {
      "text/plain": [
       "'worl'"
      ]
     },
     "execution_count": 6,
     "metadata": {},
     "output_type": "execute_result"
    }
   ],
   "source": [
    "mystring[6:-1]"
   ]
  },
  {
   "cell_type": "code",
   "execution_count": 7,
   "metadata": {
    "collapsed": false
   },
   "outputs": [
    {
     "data": {
      "text/plain": [
       "'naver daum'"
      ]
     },
     "execution_count": 7,
     "metadata": {},
     "output_type": "execute_result"
    }
   ],
   "source": [
    "my_jusik = 'naver daum'\n",
    "\n",
    "my_jusik"
   ]
  },
  {
   "cell_type": "code",
   "execution_count": 10,
   "metadata": {
    "collapsed": false,
    "scrolled": false
   },
   "outputs": [
    {
     "name": "stdout",
     "output_type": "stream",
     "text": [
      "my_jusik 이라는 변수가 가리키는 문자열 객체에서 'naver'만 출력하려면 어떻게 해야 할까요? 즉, naver와 daum이 현재는 하나의 문자열인데 이를 분리하고 싶은 것입니다. 문자열을 쉽게 분리하기 위해서 split이라는 메소드를 지원합니다. 참고로 split라는 영어 단어는 '나누다', '쪼개다'라는 뜻이 있습니다.\n"
     ]
    }
   ],
   "source": [
    "print \"my_jusik 이라는 변수가 가리키는 문자열 객체에서 'naver'만 출력하려면 어떻게 해야 할까요? 즉, naver와 daum이 현재는 하나의 문자열인데 이를 분리하고 싶은 것입니다. 문자열을 쉽게 분리하기 위해서 split이라는 메소드를 지원합니다. 참고로 split라는 영어 단어는 '나누다', '쪼개다'라는 뜻이 있습니다.\"   "
   ]
  },
  {
   "cell_type": "code",
   "execution_count": 13,
   "metadata": {
    "collapsed": false
   },
   "outputs": [
    {
     "data": {
      "text/plain": [
       "['naver', 'daum']"
      ]
     },
     "execution_count": 13,
     "metadata": {},
     "output_type": "execute_result"
    }
   ],
   "source": [
    "my_jusik.split(' ')"
   ]
  },
  {
   "cell_type": "code",
   "execution_count": 14,
   "metadata": {
    "collapsed": false,
    "scrolled": true
   },
   "outputs": [
    {
     "name": "stdout",
     "output_type": "stream",
     "text": [
      "파이썬에서 문자열을 분리하고 싶을 때는 위와 같이 split 메소드를 사용하면 됩니다. 이때 메소드의 인자(argument)로 어떤 문자를 기준으로 문자열을 나눌 것인지를 알려주어야 합니다. 위에서는 'naver'와 'daum' 사이에 있는 공백(blank)을 기준으로 두 문자열로 나눌 것이기 때문에 split(' ')와 같이 작은따옴표 사이에 공백을 하나 넣어준 것입니다. \n",
      "\n",
      "그러나 위의 리턴 값을 보면 여전히 우리가 원하는 값은 아닙니다. 리턴 값을 보면 'naver'와 'daum'이라는 두 개의 문자열이 '['와']'로 둘러 싸여 있는 것을 확인하실 수 있습니다. 파이썬에서는 이러한 것을 리스트(list)라고 부르는데 리스트는 곧 다룹니다. 리스트의 인덱싱 기능을 사용하여 위의 코드를 수정해 보겠습니다. split(' ')의 리턴 값이 리스트이므로 [0]이라는 것으로 리스트의 첫 번째 값을 가져왔습니다. \n"
     ]
    }
   ],
   "source": [
    "print \"파이썬에서 문자열을 분리하고 싶을 때는 위와 같이 split 메소드를 사용하면 됩니다. 이때 메소드의 인자(argument)로 어떤 문자를 기준으로 문자열을 나눌 것인지를 알려주어야 합니다. 위에서는 'naver'와 'daum' 사이에 있는 공백(blank)을 기준으로 두 문자열로 나눌 것이기 때문에 split(' ')와 같이 작은따옴표 사이에 공백을 하나 넣어준 것입니다. \\n\\n그러나 위의 리턴 값을 보면 여전히 우리가 원하는 값은 아닙니다. 리턴 값을 보면 'naver'와 'daum'이라는 두 개의 문자열이 '['와']'로 둘러 싸여 있는 것을 확인하실 수 있습니다. 파이썬에서는 이러한 것을 리스트(list)라고 부르는데 리스트는 곧 다룹니다. 리스트의 인덱싱 기능을 사용하여 위의 코드를 수정해 보겠습니다. split(' ')의 리턴 값이 리스트이므로 [0]이라는 것으로 리스트의 첫 번째 값을 가져왔습니다. \""
   ]
  },
  {
   "cell_type": "code",
   "execution_count": 15,
   "metadata": {
    "collapsed": false,
    "scrolled": true
   },
   "outputs": [
    {
     "data": {
      "text/plain": [
       "'naver'"
      ]
     },
     "execution_count": 15,
     "metadata": {},
     "output_type": "execute_result"
    }
   ],
   "source": [
    "my_jusik.split(' ')[0]"
   ]
  },
  {
   "cell_type": "code",
   "execution_count": 17,
   "metadata": {
    "collapsed": false,
    "scrolled": true
   },
   "outputs": [
    {
     "name": "stdout",
     "output_type": "stream",
     "text": [
      "naver\n"
     ]
    }
   ],
   "source": [
    "print (my_jusik.split(' ')[0])"
   ]
  },
  {
   "cell_type": "code",
   "execution_count": 18,
   "metadata": {
    "collapsed": false,
    "scrolled": true
   },
   "outputs": [
    {
     "name": "stdout",
     "output_type": "stream",
     "text": [
      "하지만 위의 코드처럼 한 번에 붙여서 썼더니 가독성이 조금 떨어진 것 같습니다. 아래 코드와 같이 중간값을 변수를 통해서 바인딩해서 보다 이해하기 쉽게 코드를 작성해 봅시다.\n"
     ]
    }
   ],
   "source": [
    "print \"하지만 위의 코드처럼 한 번에 붙여서 썼더니 가독성이 조금 떨어진 것 같습니다. 아래 코드와 같이 중간값을 변수를 통해서 바인딩해서 보다 이해하기 쉽게 코드를 작성해 봅시다.\""
   ]
  },
  {
   "cell_type": "code",
   "execution_count": 19,
   "metadata": {
    "collapsed": false
   },
   "outputs": [
    {
     "data": {
      "text/plain": [
       "['naver', 'daum']"
      ]
     },
     "execution_count": 19,
     "metadata": {},
     "output_type": "execute_result"
    }
   ],
   "source": [
    "split_jusik = my_jusik.split(' ')\n",
    "split_jusik"
   ]
  },
  {
   "cell_type": "code",
   "execution_count": 21,
   "metadata": {
    "collapsed": false,
    "scrolled": true
   },
   "outputs": [
    {
     "name": "stdout",
     "output_type": "stream",
     "text": [
      "naver\n"
     ]
    }
   ],
   "source": [
    "print split_jusik[0]"
   ]
  },
  {
   "cell_type": "markdown",
   "metadata": {},
   "source": [
    "# 문자열 합치기"
   ]
  },
  {
   "cell_type": "code",
   "execution_count": 25,
   "metadata": {
    "collapsed": false,
    "scrolled": true
   },
   "outputs": [
    {
     "data": {
      "text/plain": [
       "'DaumKAKAO'"
      ]
     },
     "execution_count": 25,
     "metadata": {},
     "output_type": "execute_result"
    }
   ],
   "source": [
    "daum = \"Daum\"\n",
    "kakao = \"KAKAO\"\n",
    "\n",
    "daum + kakao"
   ]
  },
  {
   "cell_type": "code",
   "execution_count": 26,
   "metadata": {
    "collapsed": false,
    "scrolled": true
   },
   "outputs": [
    {
     "data": {
      "text/plain": [
       "'Daum KAKAO'"
      ]
     },
     "execution_count": 26,
     "metadata": {},
     "output_type": "execute_result"
    }
   ],
   "source": [
    "daum + ' ' + kakao"
   ]
  },
  {
   "cell_type": "code",
   "execution_count": 27,
   "metadata": {
    "collapsed": false,
    "scrolled": true
   },
   "outputs": [
    {
     "data": {
      "text/plain": [
       "'Daum KAKAO'"
      ]
     },
     "execution_count": 27,
     "metadata": {},
     "output_type": "execute_result"
    }
   ],
   "source": [
    "daum_kakao = daum + ' ' + kakao\n",
    "daum_kakao"
   ]
  },
  {
   "cell_type": "markdown",
   "metadata": {},
   "source": [
    "# 파이썬 데이터 타입"
   ]
  },
  {
   "cell_type": "code",
   "execution_count": 28,
   "metadata": {
    "collapsed": false,
    "scrolled": true
   },
   "outputs": [
    {
     "data": {
      "text/plain": [
       "int"
      ]
     },
     "execution_count": 28,
     "metadata": {},
     "output_type": "execute_result"
    }
   ],
   "source": [
    "type(70000)"
   ]
  },
  {
   "cell_type": "code",
   "execution_count": 29,
   "metadata": {
    "collapsed": false,
    "scrolled": true
   },
   "outputs": [
    {
     "name": "stdout",
     "output_type": "stream",
     "text": [
      "위의 코드를 보면 type( ) 함수의 리턴 값이 < class 'int' > 인 것을 알 수 있습니다. 여기서 'class'라는 단어는 잠시 잊으시고, int에 주목하시기 바랍니다. int는 integer의 약자로써 정수를 의미합니다. 참고로 산수가 약하신 분들을 위해서 설명해 드리면 1, 2, 3···, 등을 정수라고 하며 1.234, 1.432 등을 실수라고 합니다. 즉, 우리가 알고 있는 정수 70000에 대해서 type( )이라는 함수를 이용하여 파이썬에게 타입을 물어봤더니 파이썬이 'int' 라고 답을 한 것입니다. \n"
     ]
    }
   ],
   "source": [
    "print \"위의 코드를 보면 type( ) 함수의 리턴 값이 < class 'int' > 인 것을 알 수 있습니다. 여기서 'class'라는 단어는 잠시 잊으시고, int에 주목하시기 바랍니다. int는 integer의 약자로써 정수를 의미합니다. 참고로 산수가 약하신 분들을 위해서 설명해 드리면 1, 2, 3···, 등을 정수라고 하며 1.234, 1.432 등을 실수라고 합니다. 즉, 우리가 알고 있는 정수 70000에 대해서 type( )이라는 함수를 이용하여 파이썬에게 타입을 물어봤더니 파이썬이 'int' 라고 답을 한 것입니다. \""
   ]
  },
  {
   "cell_type": "code",
   "execution_count": 30,
   "metadata": {
    "collapsed": false,
    "scrolled": true
   },
   "outputs": [
    {
     "name": "stdout",
     "output_type": "stream",
     "text": [
      "파이썬에는 정숫값 말고도 실숫값도 있으니 이 경우에도 type 함수가 잘 동작하는지 확인해보도록 하겠습니다. 3.141592 라는 값에 대한 type 함수의 리턴 값을 보니 'float' 입니다. float의 사전적 의미는 '뜨는 것', '둥둥 떠다니는 것'을 의미합니다. 프로그래밍 분야에서 float는 부동 소수점을 가리키는 용어로 사용됩니다. 용어가 어려우시다면 float가 실수를 의미한다고 간단히 생각하면 되겠습니다.\n"
     ]
    }
   ],
   "source": [
    "print \"파이썬에는 정숫값 말고도 실숫값도 있으니 이 경우에도 type 함수가 잘 동작하는지 확인해보도록 하겠습니다. 3.141592 라는 값에 대한 type 함수의 리턴 값을 보니 'float' 입니다. float의 사전적 의미는 '뜨는 것', '둥둥 떠다니는 것'을 의미합니다. 프로그래밍 분야에서 float는 부동 소수점을 가리키는 용어로 사용됩니다. 용어가 어려우시다면 float가 실수를 의미한다고 간단히 생각하면 되겠습니다.\""
   ]
  },
  {
   "cell_type": "code",
   "execution_count": 31,
   "metadata": {
    "collapsed": false,
    "scrolled": true
   },
   "outputs": [
    {
     "data": {
      "text/plain": [
       "float"
      ]
     },
     "execution_count": 31,
     "metadata": {},
     "output_type": "execute_result"
    }
   ],
   "source": [
    "type(3.131592)"
   ]
  },
  {
   "cell_type": "code",
   "execution_count": 32,
   "metadata": {
    "collapsed": false,
    "scrolled": true
   },
   "outputs": [
    {
     "data": {
      "text/plain": [
       "str"
      ]
     },
     "execution_count": 32,
     "metadata": {},
     "output_type": "execute_result"
    }
   ],
   "source": [
    "type('python')"
   ]
  },
  {
   "cell_type": "code",
   "execution_count": 33,
   "metadata": {
    "collapsed": false,
    "scrolled": true
   },
   "outputs": [
    {
     "data": {
      "text/plain": [
       "str"
      ]
     },
     "execution_count": 33,
     "metadata": {},
     "output_type": "execute_result"
    }
   ],
   "source": [
    "type(\"jusik\")"
   ]
  },
  {
   "cell_type": "markdown",
   "metadata": {},
   "source": [
    "# 연습 문제"
   ]
  },
  {
   "cell_type": "code",
   "execution_count": 34,
   "metadata": {
    "collapsed": false
   },
   "outputs": [
    {
     "name": "stdout",
     "output_type": "stream",
     "text": [
      "23920000\n"
     ]
    }
   ],
   "source": [
    "daum = 89000\n",
    "naver = 751000\n",
    "total = daum*100 + naver*20\n",
    "print total"
   ]
  },
  {
   "cell_type": "code",
   "execution_count": 35,
   "metadata": {
    "collapsed": false,
    "scrolled": true
   },
   "outputs": [
    {
     "name": "stdout",
     "output_type": "stream",
     "text": [
      "pizza\n",
      "pizza\n",
      "pizza\n",
      "pizza\n",
      "pizza\n",
      "pizza\n",
      "pizza\n",
      "pizza\n",
      "pizza\n",
      "pizza\n",
      "\n"
     ]
    }
   ],
   "source": [
    "print \"pizza\\n\"*10"
   ]
  },
  {
   "cell_type": "code",
   "execution_count": 44,
   "metadata": {
    "collapsed": false,
    "scrolled": true
   },
   "outputs": [
    {
     "data": {
      "text/plain": [
       "'Kakao Daum'"
      ]
     },
     "execution_count": 44,
     "metadata": {},
     "output_type": "execute_result"
    }
   ],
   "source": [
    "s = 'Daum Kakao'\n",
    "s = s[5:] + ' ' + s[0:4]\n",
    "s"
   ]
  },
  {
   "cell_type": "code",
   "execution_count": 49,
   "metadata": {
    "collapsed": false
   },
   "outputs": [
    {
     "data": {
      "text/plain": [
       "'hi world'"
      ]
     },
     "execution_count": 49,
     "metadata": {},
     "output_type": "execute_result"
    }
   ],
   "source": [
    "a = 'hello world'\n",
    "a = 'hi ' + a[6:]\n",
    "a"
   ]
  },
  {
   "cell_type": "code",
   "execution_count": 50,
   "metadata": {
    "collapsed": false
   },
   "outputs": [
    {
     "data": {
      "text/plain": [
       "'bcdefa'"
      ]
     },
     "execution_count": 50,
     "metadata": {},
     "output_type": "execute_result"
    }
   ],
   "source": [
    "x = 'abcdef'\n",
    "x = x[1:] + x[0]\n",
    "x"
   ]
  },
  {
   "cell_type": "code",
   "execution_count": 51,
   "metadata": {
    "collapsed": false,
    "scrolled": true
   },
   "outputs": [
    {
     "name": "stdout",
     "output_type": "stream",
     "text": [
      "지금까지 파이썬의 기본 데이터 타입인 정수형, 실수형, 문자열을 배웠습니다. 앞으로는 이러한 데이터를 효과적으로 관리하는데 사용되는 자료 구조에 대해서 배우겠습니다. \n",
      "\n",
      "리스트(list), 튜플(tuple), 사정(dict)에 대해서 다룹니다.\n"
     ]
    }
   ],
   "source": [
    "print \"지금까지 파이썬의 기본 데이터 타입인 정수형, 실수형, 문자열을 배웠습니다. 앞으로는 이러한 데이터를 효과적으로 관리하는데 사용되는 자료 구조에 대해서 배우겠습니다. \\n\\n리스트(list), 튜플(tuple), 사정(dict)에 대해서 다룹니다.\""
   ]
  },
  {
   "cell_type": "markdown",
   "metadata": {},
   "source": [
    "# 리스트 (list)"
   ]
  },
  {
   "cell_type": "code",
   "execution_count": null,
   "metadata": {
    "collapsed": true
   },
   "outputs": [],
   "source": [
    "interest1 = \"삼성전자\"\n",
    "interest2 = \"LG전자\"\n",
    "interest3 = \"네이버\""
   ]
  },
  {
   "cell_type": "code",
   "execution_count": 52,
   "metadata": {
    "collapsed": false,
    "scrolled": true
   },
   "outputs": [
    {
     "name": "stdout",
     "output_type": "stream",
     "text": [
      "파이썬의 변수는 다른 프로그래밍 언어와 달리 실제 데이터가 저장되는 공간 자체가 아니라, 데이터가 메모리상에서 위치하는 주솟값이 저장되는 공간입니다. 파이썬에서는 변수가 실제 데이터가 존재하는 위치를 가리키고 있는 것을 바인딩(binding)한다고 표현합니다.  \n"
     ]
    }
   ],
   "source": [
    "print \"파이썬의 변수는 다른 프로그래밍 언어와 달리 실제 데이터가 저장되는 공간 자체가 아니라, 데이터가 메모리상에서 위치하는 주솟값이 저장되는 공간입니다. 파이썬에서는 변수가 실제 데이터가 존재하는 위치를 가리키고 있는 것을 바인딩(binding)한다고 표현합니다.  \""
   ]
  },
  {
   "cell_type": "code",
   "execution_count": 53,
   "metadata": {
    "collapsed": false,
    "scrolled": true
   },
   "outputs": [
    {
     "name": "stdout",
     "output_type": "stream",
     "text": [
      "파이썬에서 변수가 어떤 값을 바인딩하고 있으면, 프롬프트 상에서 변수명을 입력한 후 엔터키를 누르면 해당 변수가 가리키고 있는 값이 출력됩니다. 즉, 다음과 같이 interest1을 타이핑한 후 엔터키를 누르면 interest1이라는 변수가 가리키고 있던 문자열 데이터인 '삼성전자'가 출력됩니다.\n"
     ]
    }
   ],
   "source": [
    "print \"파이썬에서 변수가 어떤 값을 바인딩하고 있으면, 프롬프트 상에서 변수명을 입력한 후 엔터키를 누르면 해당 변수가 가리키고 있는 값이 출력됩니다. 즉, 다음과 같이 interest1을 타이핑한 후 엔터키를 누르면 interest1이라는 변수가 가리키고 있던 문자열 데이터인 '삼성전자'가 출력됩니다.\""
   ]
  },
  {
   "cell_type": "code",
   "execution_count": 56,
   "metadata": {
    "collapsed": false
   },
   "outputs": [
    {
     "name": "stdout",
     "output_type": "stream",
     "text": [
      "삼성전자\n"
     ]
    }
   ],
   "source": [
    "interest1 = \"삼성전자\"\n",
    "interest2 = \"LG전자\"\n",
    "interest3 = \"네이버\"\n",
    "\n",
    "print interest1"
   ]
  },
  {
   "cell_type": "code",
   "execution_count": 58,
   "metadata": {
    "collapsed": false,
    "scrolled": true
   },
   "outputs": [
    {
     "name": "stdout",
     "output_type": "stream",
     "text": [
      "위의 예시와 같이 관심 종목의 수가 적은 경우에는 각자 서로 다른 변수명을 사용하여 관심 종목을 바인딩하고 있을 수 있지만, 그래도 뭔가 불편해 보입니다. 위와 같은 방식에서는 관심종목의 수가 100개라면 이를 표현하기 위해서 'interest1, interest2, interest3, ... , interest100'과 같이 100개의 서로 다른 변수명을 사용해야 할 것입니다. 이러한 불편을 해결하고자 파이썬에서는 리스트(list)라는 기본 자료 구조를 제공합니다. 파이썬의 리스트를 사용하면 여러 에디터를 한 번에 저장할 수 있으므로 변수명을 여러 개 사용할 필요가 없습니다. \n",
      "\n",
      "여러 개의 데이터를 리스트에 담기 위해서는 '['와']' 사이에 데이터를 쉼표로 구분하여 넣어주기만 하면 뒵니다.\n"
     ]
    }
   ],
   "source": [
    "print \"위의 예시와 같이 관심 종목의 수가 적은 경우에는 각자 서로 다른 변수명을 사용하여 관심 종목을 바인딩하고 있을 수 있지만, 그래도 뭔가 불편해 보입니다. 위와 같은 방식에서는 관심종목의 수가 100개라면 이를 표현하기 위해서 'interest1, interest2, interest3, ... , interest100'과 같이 100개의 서로 다른 변수명을 사용해야 할 것입니다. 이러한 불편을 해결하고자 파이썬에서는 리스트(list)라는 기본 자료 구조를 제공합니다. 파이썬의 리스트를 사용하면 여러 에디터를 한 번에 저장할 수 있으므로 변수명을 여러 개 사용할 필요가 없습니다. \\n\\n여러 개의 데이터를 리스트에 담기 위해서는 '['와']' 사이에 데이터를 쉼표로 구분하여 넣어주기만 하면 뒵니다.\" "
   ]
  },
  {
   "cell_type": "code",
   "execution_count": null,
   "metadata": {
    "collapsed": true
   },
   "outputs": [],
   "source": [
    "interest = ['삼성전자', 'LG전자', '네이버']"
   ]
  },
  {
   "cell_type": "code",
   "execution_count": 59,
   "metadata": {
    "collapsed": false,
    "scrolled": true
   },
   "outputs": [
    {
     "name": "stdout",
     "output_type": "stream",
     "text": [
      "파이썬의 리스트는 여러 데이터를 한 번에 가리키게 할 수 있으므로 interest1, interest2, interest3와 같이 각각 변수명을 사용하는 것이 아니라 'interest'와 같이 하나의 변수만 있으면 됩니다.파이썬에서 여러 데이터를 리스트를 통해한 번에 저장하고 관리하는 것은 출석부에 학생들의 이름을 적어 두는 것과 비슷합니다.\n"
     ]
    }
   ],
   "source": [
    "print \"파이썬의 리스트는 여러 데이터를 한 번에 가리키게 할 수 있으므로 interest1, interest2, interest3와 같이 각각 변수명을 사용하는 것이 아니라 'interest'와 같이 하나의 변수만 있으면 됩니다.파이썬에서 여러 데이터를 리스트를 통해한 번에 저장하고 관리하는 것은 출석부에 학생들의 이름을 적어 두는 것과 비슷합니다.\""
   ]
  },
  {
   "cell_type": "code",
   "execution_count": 61,
   "metadata": {
    "collapsed": false,
    "scrolled": true
   },
   "outputs": [
    {
     "name": "stdout",
     "output_type": "stream",
     "text": [
      "LG전자\n"
     ]
    }
   ],
   "source": [
    "interest = ['삼성전자', 'LG전자', '네이버']\n",
    "\n",
    "print interest[1]"
   ]
  },
  {
   "cell_type": "markdown",
   "metadata": {},
   "source": [
    "# 리스트 생성"
   ]
  },
  {
   "cell_type": "code",
   "execution_count": 62,
   "metadata": {
    "collapsed": false,
    "scrolled": true
   },
   "outputs": [
    {
     "name": "stdout",
     "output_type": "stream",
     "text": [
      "파이썬 기본 자료 구조 중 하나인 리스트에 대해서 간단히 살펴봅시다. \n",
      "\n",
      "리스트는 언제 사용하는 것이 좋을까요? 바로 한 개 이상의 데이터를 '순서대로'저장하고 이를 관리해야 할 때입니다. \n"
     ]
    }
   ],
   "source": [
    "print \"파이썬 기본 자료 구조 중 하나인 리스트에 대해서 간단히 살펴봅시다. \\n\\n리스트는 언제 사용하는 것이 좋을까요? 바로 한 개 이상의 데이터를 '순서대로'저장하고 이를 관리해야 할 때입니다. \""
   ]
  },
  {
   "cell_type": "code",
   "execution_count": 63,
   "metadata": {
    "collapsed": true
   },
   "outputs": [],
   "source": [
    "daishin = [9130, 9150, 9150, 9300, 9400]"
   ]
  },
  {
   "cell_type": "code",
   "execution_count": 64,
   "metadata": {
    "collapsed": true
   },
   "outputs": [],
   "source": [
    "mystock = ['Naver', 5000] #서로 다른 자료형이 동시에 사용"
   ]
  },
  {
   "cell_type": "code",
   "execution_count": 65,
   "metadata": {
    "collapsed": true
   },
   "outputs": [],
   "source": [
    "mystock = [] \n",
    "\n",
    "'''기호 사이에 데이터를 넣지 않으면 아무것도 들어 있지 않은 \n",
    "공 리스트를 만들 수도 있다.'''"
   ]
  },
  {
   "cell_type": "code",
   "execution_count": 42,
   "metadata": {
    "collapsed": true
   },
   "outputs": [],
   "source": [
    "a = 10 \n",
    "b = 1000\n",
    "c = 12.677\n",
    "\n",
    "d = 'this is python'\n",
    "\n",
    "e = True\n",
    "f = False\n",
    "\n",
    "g = 1.633e8"
   ]
  },
  {
   "cell_type": "code",
   "execution_count": 3,
   "metadata": {
    "collapsed": false
   },
   "outputs": [
    {
     "name": "stdout",
     "output_type": "stream",
     "text": [
      "<type 'int'>\n",
      "<type 'int'>\n",
      "<type 'float'>\n",
      "<type 'str'>\n",
      "<type 'bool'>\n"
     ]
    }
   ],
   "source": [
    "print type(a)\n",
    "print type(b)\n",
    "print type(c)\n",
    "print type(d)\n",
    "print type(e)\n"
   ]
  },
  {
   "cell_type": "code",
   "execution_count": 4,
   "metadata": {
    "collapsed": false,
    "scrolled": true
   },
   "outputs": [
    {
     "name": "stdout",
     "output_type": "stream",
     "text": [
      "98\n",
      "-23\n"
     ]
    }
   ],
   "source": [
    "print int(98.4425)\n",
    "print int('-23')\n"
   ]
  },
  {
   "cell_type": "markdown",
   "metadata": {},
   "source": [
    "# 실수(Float)"
   ]
  },
  {
   "cell_type": "code",
   "execution_count": 47,
   "metadata": {
    "collapsed": false,
    "scrolled": true
   },
   "outputs": [
    {
     "name": "stdout",
     "output_type": "stream",
     "text": [
      "실수는 부동 소수점의 약자이며, 부동 소수점이란 정수처럼 소숫점이 고정되어 있는게 아니라 부동이란 의미 그대로 고정되어 있지 않고 움직인다는 말입니다.\n"
     ]
    }
   ],
   "source": [
    "print \"실수는 부동 소수점의 약자이며, 부동 소수점이란 정수처럼 소숫점이 고정되어 있는게 아니라 부동이란 의미 그대로 고정되어 있지 않고 움직인다는 말입니다.\""
   ]
  },
  {
   "cell_type": "code",
   "execution_count": 48,
   "metadata": {
    "collapsed": false
   },
   "outputs": [
    {
     "name": "stdout",
     "output_type": "stream",
     "text": [
      "3.14 5.140223021\n"
     ]
    }
   ],
   "source": [
    "A = 3.14\n",
    "B = 5.140223021\n",
    "print A, B"
   ]
  },
  {
   "cell_type": "code",
   "execution_count": 5,
   "metadata": {
    "collapsed": false
   },
   "outputs": [
    {
     "name": "stdout",
     "output_type": "stream",
     "text": [
      "The value is 100\n"
     ]
    }
   ],
   "source": [
    "a = 100\n",
    "str1 = 'The value is '\n",
    "\n",
    "print str1 + str(a)"
   ]
  },
  {
   "cell_type": "code",
   "execution_count": 6,
   "metadata": {
    "collapsed": false
   },
   "outputs": [
    {
     "name": "stdout",
     "output_type": "stream",
     "text": [
      "Hello World\n",
      "<type 'str'>\n"
     ]
    }
   ],
   "source": [
    "print 'Hello' + ' World'\n",
    "print type('Hello')"
   ]
  },
  {
   "cell_type": "code",
   "execution_count": 51,
   "metadata": {
    "collapsed": false,
    "scrolled": true
   },
   "outputs": [
    {
     "name": "stdout",
     "output_type": "stream",
     "text": [
      "ABCDEFGSDFEIS\n",
      "09903294032940\n",
      "!@#$@!#%%@\n",
      "\n"
     ]
    }
   ],
   "source": [
    "print \"\"\"ABCDEFGSDFEIS\n",
    "09903294032940\n",
    "!@#$@!#%%@\n",
    "\"\"\"\n",
    "\n",
    "# 연속되 인용부호를 쓰게되면 간단하게 여러 줄의 문자열을 변수에 \n",
    "# 대입하거나 출력할 수 있습니다. "
   ]
  },
  {
   "cell_type": "code",
   "execution_count": 53,
   "metadata": {
    "collapsed": false,
    "scrolled": true
   },
   "outputs": [
    {
     "name": "stdout",
     "output_type": "stream",
     "text": [
      "가장 높은곳에 올라가려면 가장 낮은 곳부터 시작하라\n"
     ]
    }
   ],
   "source": [
    "str = \"가장 높은곳에 올라가려면 \\\n",
    "가장 낮은 곳부터 시작하라\"\n",
    "\n",
    "print str\n",
    "\n",
    "# 줄의 마지막에 역슬래시를 사용하면 다음 줄과 현재 줄이 하나로 이어진다."
   ]
  },
  {
   "cell_type": "code",
   "execution_count": 54,
   "metadata": {
    "collapsed": false,
    "scrolled": true
   },
   "outputs": [
    {
     "data": {
      "text/plain": [
       "'01243553'"
      ]
     },
     "execution_count": 54,
     "metadata": {},
     "output_type": "execute_result"
    }
   ],
   "source": [
    "\"012\" \"43553\""
   ]
  },
  {
   "cell_type": "code",
   "execution_count": 55,
   "metadata": {
    "collapsed": false
   },
   "outputs": [
    {
     "data": {
      "text/plain": [
       "'ABCDEFGHI'"
      ]
     },
     "execution_count": 55,
     "metadata": {},
     "output_type": "execute_result"
    }
   ],
   "source": [
    "\"ABC\" + \"DEFGHI\""
   ]
  },
  {
   "cell_type": "code",
   "execution_count": 56,
   "metadata": {
    "collapsed": false
   },
   "outputs": [
    {
     "data": {
      "text/plain": [
       "'HA!HA!HA!'"
      ]
     },
     "execution_count": 56,
     "metadata": {},
     "output_type": "execute_result"
    }
   ],
   "source": [
    "\"HA!\" *  3"
   ]
  },
  {
   "cell_type": "code",
   "execution_count": 7,
   "metadata": {
    "collapsed": false
   },
   "outputs": [
    {
     "name": "stdout",
     "output_type": "stream",
     "text": [
      "HaHaHaHaHo\n"
     ]
    }
   ],
   "source": [
    "str2 = 'Ha' * 4 + 'Ho'\n",
    "print str2"
   ]
  },
  {
   "cell_type": "markdown",
   "metadata": {},
   "source": [
    "# 인덱싱(Indexing)"
   ]
  },
  {
   "cell_type": "code",
   "execution_count": 57,
   "metadata": {
    "collapsed": false,
    "scrolled": true
   },
   "outputs": [
    {
     "name": "stdout",
     "output_type": "stream",
     "text": [
      "파이썬에서는 문자열에서 원하는 위치에 있는 문자를 마음대로 꺼낼 수 있는데 이를 인덱싱이라 합니다. 변수 뒤에 가져오려는 문자의 위치를 적고, 그 위치를 대괄호로 감싸면 되며, 즉 '변수[위치]'와 같은 형태 입니다. \n",
      "대괄호 안에 들어가는 수를 위치, 첨자, 인덱스라고도 하며 이 위치는 1이 아닌 0부터 시작합니다. \n"
     ]
    }
   ],
   "source": [
    "print \"파이썬에서는 문자열에서 원하는 위치에 있는 문자를 마음대로 꺼낼 수 있는데 이를 인덱싱이라 합니다. 변수 뒤에 가져오려는 문자의 위치를 적고, 그 위치를 대괄호로 감싸면 되며, 즉 '변수[위치]'와 같은 형태 입니다. \\n대괄호 안에 들어가는 수를 위치, 첨자, 인덱스라고도 하며 이 위치는 1이 아닌 0부터 시작합니다. \""
   ]
  },
  {
   "cell_type": "code",
   "execution_count": 8,
   "metadata": {
    "collapsed": false,
    "scrolled": false
   },
   "outputs": [
    {
     "name": "stdout",
     "output_type": "stream",
     "text": [
      "1\n",
      "b\n",
      "d\n",
      "9\n"
     ]
    }
   ],
   "source": [
    "a = '123456789abcd'\n",
    "print a[0]\n",
    "print a[10]\n",
    "print a[-1]\n",
    "print a[-5]"
   ]
  },
  {
   "cell_type": "markdown",
   "metadata": {},
   "source": [
    "# 슬라이싱"
   ]
  },
  {
   "cell_type": "code",
   "execution_count": 58,
   "metadata": {
    "collapsed": false
   },
   "outputs": [
    {
     "name": "stdout",
     "output_type": "stream",
     "text": [
      "'변수[시작 위치 : 끝 위치]\n"
     ]
    }
   ],
   "source": [
    "print \"'변수[시작 위치 : 끝 위치]\""
   ]
  },
  {
   "cell_type": "code",
   "execution_count": 66,
   "metadata": {
    "collapsed": false
   },
   "outputs": [
    {
     "name": "stdout",
     "output_type": "stream",
     "text": [
      "thon\n",
      "best language ever\n",
      "python is best \n",
      "language\n",
      "age eve\n"
     ]
    }
   ],
   "source": [
    "a = \"python is best language ever\"\n",
    "\n",
    "print a[2:6]\n",
    "print a[10:]\n",
    "print a[:15]\n",
    "\n",
    "print a[-13:-5]\n",
    "print a[-8:-1]"
   ]
  },
  {
   "cell_type": "code",
   "execution_count": 11,
   "metadata": {
    "collapsed": false,
    "scrolled": true
   },
   "outputs": [
    {
     "name": "stdout",
     "output_type": "stream",
     "text": [
      "HELLO\n"
     ]
    },
    {
     "data": {
      "text/plain": [
       "'hello'"
      ]
     },
     "execution_count": 11,
     "metadata": {},
     "output_type": "execute_result"
    }
   ],
   "source": [
    "a = \"hello\"\n",
    "a.replace('h', 'p')\n",
    "print a.upper()\n",
    "a.lower()"
   ]
  },
  {
   "cell_type": "code",
   "execution_count": 77,
   "metadata": {
    "collapsed": false
   },
   "outputs": [
    {
     "name": "stdout",
     "output_type": "stream",
     "text": [
      "PETER\n"
     ]
    }
   ],
   "source": [
    "b = \"peter\"\n",
    "print b.upper()\n"
   ]
  },
  {
   "cell_type": "markdown",
   "metadata": {},
   "source": [
    "# 문자열의 서식 지정(Formatting)"
   ]
  },
  {
   "cell_type": "code",
   "execution_count": 79,
   "metadata": {
    "collapsed": false,
    "scrolled": true
   },
   "outputs": [
    {
     "name": "stdout",
     "output_type": "stream",
     "text": [
      "문자열의 서식을 지정하는 방법에는 튜플을 이용하는 방법, format함수를 이용하는 방법, format 메서드를이용하는 방법이 있으며, 이 세가지 방법을 모두 알아봅시다.\n",
      "\n",
      "연산자 %를 이용하면 문자열을 포맷팅(형식화)할 수 있다. 포맷팅을 활용하면 문자열 출력과 저장 방식을 훨씬 더 자유롭게 지정할 수 있다.\n"
     ]
    }
   ],
   "source": [
    "print \"문자열의 서식을 지정하는 방법에는 튜플을 이용하는 방법, format함수를 이용하는 방법, format 메서드를이용하는 방법이 있으며, 이 세가지 방법을 모두 알아봅시다.\\n\\n연산자 %를 이용하면 문자열을 포맷팅(형식화)할 수 있다. 포맷팅을 활용하면 문자열 출력과 저장 방식을 훨씬 더 자유롭게 지정할 수 있다.\""
   ]
  },
  {
   "cell_type": "code",
   "execution_count": 69,
   "metadata": {
    "collapsed": false
   },
   "outputs": [
    {
     "name": "stdout",
     "output_type": "stream",
     "text": [
      "제 나이는 19이며, 몸무게는62.5 kg이고, 취미는 프로그래밍입니다.\n"
     ]
    }
   ],
   "source": [
    "print \"제 나이는 %d이며, 몸무게는%.1f kg이고, 취미는 %s입니다.\" % (19, 62.5, '프로그래밍' )"
   ]
  },
  {
   "cell_type": "code",
   "execution_count": 80,
   "metadata": {
    "collapsed": false,
    "scrolled": true
   },
   "outputs": [
    {
     "name": "stdout",
     "output_type": "stream",
     "text": [
      "위 예제를 살펴보면 %d나 %s, %f 와 같은 것이 사용된 것을 확인할 수 있다. 이러한 문자들을 서식문자라고 하며, 각각 정수형과 문자열, 실수형 데이터를 지정하게 된다. \n",
      "\n",
      "참고로 %1f와 같은 경우 소수점 이하 한자리만 출력한다는 것이다.\n"
     ]
    }
   ],
   "source": [
    "print \"위 예제를 살펴보면 %d나 %s, %f 와 같은 것이 사용된 것을 확인할 수 있다. 이러한 문자들을 서식문자라고 하며, 각각 정수형과 문자열, 실수형 데이터를 지정하게 된다. \\n\\n참고로 %1f와 같은 경우 소수점 이하 한자리만 출력한다는 것이다.\""
   ]
  },
  {
   "cell_type": "code",
   "execution_count": 90,
   "metadata": {
    "collapsed": false
   },
   "outputs": [
    {
     "name": "stdout",
     "output_type": "stream",
     "text": [
      "몸무게: 62.5\n"
     ]
    }
   ],
   "source": [
    "weight= 62.53\n",
    "print \"몸무게:\", format (weight, '.1f')\n",
    "\n",
    "# format 함수를 통하여 변수 weight의 값을 소수점 이하 한자리로 출력하고 있다."
   ]
  },
  {
   "cell_type": "code",
   "execution_count": 12,
   "metadata": {
    "collapsed": false
   },
   "outputs": [
    {
     "name": "stdout",
     "output_type": "stream",
     "text": [
      "[0, 1, 2, 3, 4, 5, 6, 7, 8]\n",
      "7\n",
      "14\n",
      "21\n",
      "28\n",
      "35\n",
      "42\n",
      "49\n",
      "56\n",
      "63\n"
     ]
    }
   ],
   "source": [
    "# 구구단 7단을 계산하여 답을 순서대로 출력하시오\n",
    "\n",
    "a = range(9)\n",
    "print a\n",
    "for num in a:\n",
    "    print 7 * (num + 1)"
   ]
  },
  {
   "cell_type": "code",
   "execution_count": 13,
   "metadata": {
    "collapsed": false
   },
   "outputs": [
    {
     "name": "stdout",
     "output_type": "stream",
     "text": [
      "Python is a great language\n"
     ]
    }
   ],
   "source": [
    "# a = 'python is a great language' 일 때, \n",
    "#맨 처음의 소문자 p를 대문자 P로 변경하고 싶다. 어떻게 하면 될까?\n",
    "\n",
    "a = 'python is a great language'\n",
    "\n",
    "print a[0].upper() + a[1:]\n",
    "\n"
   ]
  },
  {
   "cell_type": "code",
   "execution_count": 14,
   "metadata": {
    "collapsed": false
   },
   "outputs": [
    {
     "data": {
      "text/plain": [
       "2"
      ]
     },
     "execution_count": 14,
     "metadata": {},
     "output_type": "execute_result"
    }
   ],
   "source": [
    "a = 1\n",
    "a +=1\n",
    "a"
   ]
  },
  {
   "cell_type": "code",
   "execution_count": 17,
   "metadata": {
    "collapsed": false
   },
   "outputs": [
    {
     "data": {
      "text/plain": [
       "-3"
      ]
     },
     "execution_count": 17,
     "metadata": {},
     "output_type": "execute_result"
    }
   ],
   "source": [
    "a = 2\n",
    "a -=5 \n",
    "a"
   ]
  },
  {
   "cell_type": "code",
   "execution_count": 18,
   "metadata": {
    "collapsed": false
   },
   "outputs": [
    {
     "data": {
      "text/plain": [
       "20"
      ]
     },
     "execution_count": 18,
     "metadata": {},
     "output_type": "execute_result"
    }
   ],
   "source": [
    "a = 10\n",
    "a *= 2\n",
    "a"
   ]
  },
  {
   "cell_type": "code",
   "execution_count": 19,
   "metadata": {
    "collapsed": false
   },
   "outputs": [
    {
     "data": {
      "text/plain": [
       "5"
      ]
     },
     "execution_count": 19,
     "metadata": {},
     "output_type": "execute_result"
    }
   ],
   "source": [
    "a = 10\n",
    "a /= 2\n",
    "a"
   ]
  },
  {
   "cell_type": "code",
   "execution_count": 20,
   "metadata": {
    "collapsed": false
   },
   "outputs": [
    {
     "data": {
      "text/plain": [
       "(True, True, False)"
      ]
     },
     "execution_count": 20,
     "metadata": {},
     "output_type": "execute_result"
    }
   ],
   "source": [
    "2 > 1, 2 >= 1, 2 ==1"
   ]
  },
  {
   "cell_type": "markdown",
   "metadata": {},
   "source": [
    "# Containers 고급 자료형"
   ]
  },
  {
   "cell_type": "markdown",
   "metadata": {},
   "source": [
    "* list 리스트\n",
    "* dictionary 사정\n",
    "* tuple 튜플\n",
    "* string 문자열"
   ]
  },
  {
   "cell_type": "markdown",
   "metadata": {},
   "source": [
    "## list 리스트"
   ]
  },
  {
   "cell_type": "code",
   "execution_count": 22,
   "metadata": {
    "collapsed": false
   },
   "outputs": [
    {
     "data": {
      "text/plain": [
       "list"
      ]
     },
     "execution_count": 22,
     "metadata": {},
     "output_type": "execute_result"
    }
   ],
   "source": [
    "L = ['red', 'blue', 'green', 'black', 'white']\n",
    "type(L)"
   ]
  },
  {
   "cell_type": "code",
   "execution_count": 23,
   "metadata": {
    "collapsed": false
   },
   "outputs": [
    {
     "data": {
      "text/plain": [
       "'red'"
      ]
     },
     "execution_count": 23,
     "metadata": {},
     "output_type": "execute_result"
    }
   ],
   "source": [
    "L[0]"
   ]
  },
  {
   "cell_type": "code",
   "execution_count": 24,
   "metadata": {
    "collapsed": false
   },
   "outputs": [
    {
     "data": {
      "text/plain": [
       "'blue'"
      ]
     },
     "execution_count": 24,
     "metadata": {},
     "output_type": "execute_result"
    }
   ],
   "source": [
    "L[1]"
   ]
  },
  {
   "cell_type": "code",
   "execution_count": 25,
   "metadata": {
    "collapsed": false
   },
   "outputs": [
    {
     "data": {
      "text/plain": [
       "'white'"
      ]
     },
     "execution_count": 25,
     "metadata": {},
     "output_type": "execute_result"
    }
   ],
   "source": [
    "L[-1]"
   ]
  },
  {
   "cell_type": "code",
   "execution_count": 26,
   "metadata": {
    "collapsed": false
   },
   "outputs": [
    {
     "data": {
      "text/plain": [
       "['red', 'blue', 'green', 'black']"
      ]
     },
     "execution_count": 26,
     "metadata": {},
     "output_type": "execute_result"
    }
   ],
   "source": [
    "L[0:4]"
   ]
  },
  {
   "cell_type": "code",
   "execution_count": 27,
   "metadata": {
    "collapsed": false
   },
   "outputs": [
    {
     "data": {
      "text/plain": [
       "['green', 'black', 'white']"
      ]
     },
     "execution_count": 27,
     "metadata": {},
     "output_type": "execute_result"
    }
   ],
   "source": [
    "L[2:]"
   ]
  },
  {
   "cell_type": "code",
   "execution_count": 28,
   "metadata": {
    "collapsed": false
   },
   "outputs": [
    {
     "data": {
      "text/plain": [
       "['red', 'blue', 'green']"
      ]
     },
     "execution_count": 28,
     "metadata": {},
     "output_type": "execute_result"
    }
   ],
   "source": [
    "L[:3]"
   ]
  },
  {
   "cell_type": "markdown",
   "metadata": {},
   "source": [
    "# 변수(Variable)"
   ]
  },
  {
   "cell_type": "code",
   "execution_count": 29,
   "metadata": {
    "collapsed": false
   },
   "outputs": [
    {
     "name": "stdout",
     "output_type": "stream",
     "text": [
      "400\n"
     ]
    }
   ],
   "source": [
    "money = 1000\n",
    "cookiePrice = 600\n",
    "money = money - cookiePrice\n",
    "print money"
   ]
  },
  {
   "cell_type": "code",
   "execution_count": 31,
   "metadata": {
    "collapsed": false
   },
   "outputs": [
    {
     "name": "stdout",
     "output_type": "stream",
     "text": [
      "변수는 '값을 담아두는 상자'라고 할 수 있지만, 실제로는 값을 담아두는게 아니라 어떠한 값에 이름표를 붙이는 것과 같습니다. 변수를 직접 정의하면서 주의하실 부분은, 왼쪽에 변수명이 와야 한다는 것입니다.\n"
     ]
    }
   ],
   "source": [
    "print \"변수는 '값을 담아두는 상자'라고 할 수 있지만, 실제로는 값을 담아두는게 아니라 어떠한 값에 이름표를 붙이는 것과 같습니다. 변수를 직접 정의하면서 주의하실 부분은, 왼쪽에 변수명이 와야 한다는 것입니다.\""
   ]
  },
  {
   "cell_type": "code",
   "execution_count": 32,
   "metadata": {
    "collapsed": false
   },
   "outputs": [
    {
     "ename": "SyntaxError",
     "evalue": "can't assign to literal (<ipython-input-32-6e79ee319aea>, line 2)",
     "output_type": "error",
     "traceback": [
      "\u001b[0;36m  File \u001b[0;32m\"<ipython-input-32-6e79ee319aea>\"\u001b[0;36m, line \u001b[0;32m2\u001b[0m\n\u001b[0;31m    1000 = money\u001b[0m\n\u001b[0;31mSyntaxError\u001b[0m\u001b[0;31m:\u001b[0m can't assign to literal\n"
     ]
    }
   ],
   "source": [
    "money = 1000\n",
    "1000 = money"
   ]
  },
  {
   "cell_type": "code",
   "execution_count": 33,
   "metadata": {
    "collapsed": false
   },
   "outputs": [
    {
     "name": "stdout",
     "output_type": "stream",
     "text": [
      "첫 줄에서 작성된 코드는 아무런 에러 없이 정상적으로 money란 변수가 1000을 담고 있습니다. 그런데, 두번째 줄에서 작성된 코드는 '리터럴(문자)에 해당할 수 없습니다.'와 같은 에러가 발생하게 됩니다. \n",
      "기본적으로 =(치환 연산자)는 오른쪽에 있는 식의 결과값을 그대로 왼쪽으로 가져다 놓는 것이기 때문에 이러한 에러가 발생하는 것입니다. 즉, 상수인 1000에 변수인 money를 가져다 놓으라고?와 같이 해석되는 것입니다.\n"
     ]
    }
   ],
   "source": [
    "print \"첫 줄에서 작성된 코드는 아무런 에러 없이 정상적으로 money란 변수가 1000을 담고 있습니다. 그런데, 두번째 줄에서 작성된 코드는 '리터럴(문자)에 해당할 수 없습니다.'와 같은 에러가 발생하게 됩니다. \\n기본적으로 =(치환 연산자)는 오른쪽에 있는 식의 결과값을 그대로 왼쪽으로 가져다 놓는 것이기 때문에 이러한 에러가 발생하는 것입니다. 즉, 상수인 1000에 변수인 money를 가져다 놓으라고?와 같이 해석되는 것입니다.\""
   ]
  },
  {
   "cell_type": "markdown",
   "metadata": {},
   "source": [
    "# 파이썬에선 모든게 객체(Object)다"
   ]
  },
  {
   "cell_type": "code",
   "execution_count": 34,
   "metadata": {
    "collapsed": false
   },
   "outputs": [
    {
     "name": "stdout",
     "output_type": "stream",
     "text": [
      "우리가 앞으로 배우게 될 함수, 모듈, 리스트, 튜플 등 모든 것을 객체라고 할 수 있습니다. 첫 예제에서의 1000과 600도 결코 예외가 아닙니다. 어떤 것이든, 객체라고 할 수 있습니다.\n"
     ]
    }
   ],
   "source": [
    "print \"우리가 앞으로 배우게 될 함수, 모듈, 리스트, 튜플 등 모든 것을 객체라고 할 수 있습니다. 첫 예제에서의 1000과 600도 결코 예외가 아닙니다. 어떤 것이든, 객체라고 할 수 있습니다.\""
   ]
  },
  {
   "cell_type": "code",
   "execution_count": 35,
   "metadata": {
    "collapsed": false
   },
   "outputs": [
    {
     "name": "stdout",
     "output_type": "stream",
     "text": [
      "400\n"
     ]
    }
   ],
   "source": [
    "money = 1000\n",
    "cookiePrice = 600\n",
    "money = money - cookiePrice\n",
    "print money"
   ]
  },
  {
   "cell_type": "code",
   "execution_count": 36,
   "metadata": {
    "collapsed": false
   },
   "outputs": [
    {
     "name": "stdout",
     "output_type": "stream",
     "text": [
      "변수 money와 1000이라는 값을 지닌 객체가 만들어집니다.사실은, 1000이란 값이 그대로 money에 대입이 되어 money가 1000이란 값을 지니는게 아니라 1000이라는 값을 지니는 객체를 새로 만들어내고 그 객체가 저장되어 있는 공간에다 money라는 이름표를 붙이는 것이라고 생각 할 수 있습니다. 즉, 변수 money는 직접적으로 1000이란 값을 가지고 있는게 아니라, 1000이라는 값이 저장되어 있는 공간의 주소를 담고 있는 것이라고 할 수 있습니다. \n"
     ]
    }
   ],
   "source": [
    "print \"변수 money와 1000이라는 값을 지닌 객체가 만들어집니다.사실은, 1000이란 값이 그대로 money에 대입이 되어 money가 1000이란 값을 지니는게 아니라 1000이라는 값을 지니는 객체를 새로 만들어내고 그 객체가 저장되어 있는 공간에다 money라는 이름표를 붙이는 것이라고 생각 할 수 있습니다. 즉, 변수 money는 직접적으로 1000이란 값을 가지고 있는게 아니라, 1000이라는 값이 저장되어 있는 공간의 주소를 담고 있는 것이라고 할 수 있습니다. \""
   ]
  },
  {
   "cell_type": "code",
   "execution_count": 37,
   "metadata": {
    "collapsed": false
   },
   "outputs": [
    {
     "name": "stdout",
     "output_type": "stream",
     "text": [
      "따라서 변수 money 는 1000이라는 객체, cookiePrice라는 변수는 600이라는 값을 지닌 객체가 저장된 공간을 가리키는 것이라고 할 수 있습니다.\n"
     ]
    }
   ],
   "source": [
    "print \"따라서 변수 money 는 1000이라는 객체, cookiePrice라는 변수는 600이라는 값을 지닌 객체가 저장된 공간을 가리키는 것이라고 할 수 있습니다.\""
   ]
  },
  {
   "cell_type": "code",
   "execution_count": 38,
   "metadata": {
    "collapsed": false
   },
   "outputs": [
    {
     "name": "stdout",
     "output_type": "stream",
     "text": [
      "48068608 48068608 48068608 48068584 48068584\n"
     ]
    }
   ],
   "source": [
    "x = 3\n",
    "y = 3\n",
    "z = 5\n",
    "print id(x), id(y), id(3), id(z), id(5)"
   ]
  },
  {
   "cell_type": "code",
   "execution_count": 39,
   "metadata": {
    "collapsed": false
   },
   "outputs": [
    {
     "name": "stdout",
     "output_type": "stream",
     "text": [
      "x, y는 동일하게 3이라는 값을 가진 객체를 가리키게 되고, z는 5라는 값을 가진 객체를 가리키게 됩니다. 만약 y에 4를 넣으려고 한다면, 더이상 객체 3을 가리키는게 아니라 새로운 객체 4를 가리키게 됩니다. 파이썬 내에는 id라는 내장 함수가 존재하고, 이 id함수는 객체의 주소를 돌려주는데 여기서 잠시 id 함수를 통해 정말 같은 곳을 가리키고 있는지 확인해 보도록 하겠습니다.\n"
     ]
    }
   ],
   "source": [
    "print \"x, y는 동일하게 3이라는 값을 가진 객체를 가리키게 되고, z는 5라는 값을 가진 객체를 가리키게 됩니다. 만약 y에 4를 넣으려고 한다면, 더이상 객체 3을 가리키는게 아니라 새로운 객체 4를 가리키게 됩니다. 파이썬 내에는 id라는 내장 함수가 존재하고, 이 id함수는 객체의 주소를 돌려주는데 여기서 잠시 id 함수를 통해 정말 같은 곳을 가리키고 있는지 확인해 보도록 하겠습니다.\""
   ]
  },
  {
   "cell_type": "code",
   "execution_count": 40,
   "metadata": {
    "collapsed": false
   },
   "outputs": [
    {
     "name": "stdout",
     "output_type": "stream",
     "text": [
      "결과를 보면 변수 x와 y는 객체 3을 가리키고, 변수 z는 객체 5를 가리킨다고 말할 수 있습니다. 즉, 객체 3의 주소값과 변수의 주소값이 모두 일치하는 것입니다. \n"
     ]
    }
   ],
   "source": [
    "print\"결과를 보면 변수 x와 y는 객체 3을 가리키고, 변수 z는 객체 5를 가리킨다고 말할 수 있습니다. 즉, 객체 3의 주소값과 변수의 주소값이 모두 일치하는 것입니다. \""
   ]
  },
  {
   "cell_type": "markdown",
   "metadata": {},
   "source": [
    "# 변수의 이름 작성 규칙"
   ]
  },
  {
   "cell_type": "code",
   "execution_count": 43,
   "metadata": {
    "collapsed": false,
    "scrolled": true
   },
   "outputs": [
    {
     "name": "stdout",
     "output_type": "stream",
     "text": [
      "50 60 70\n"
     ]
    }
   ],
   "source": [
    "# 4apple = 10\n",
    "admin = 50\n",
    "Apple = 60\n",
    "apple = 70\n",
    "print admin, Apple, apple\n",
    "\n",
    "# 변수명에는 문자, 숫자, 언더바를 포함할 수 있으며, 숫자는 가장 처음에\n",
    "# 등장할 수 없습니다. 또한 파이썬에선 대소문자를 구분하기 때문에 \n",
    "# apple이란 변수와 Apple이란 변수는 서로 다릅니다. "
   ]
  },
  {
   "cell_type": "markdown",
   "metadata": {},
   "source": [
    "# 리스트 관련 함수"
   ]
  },
  {
   "cell_type": "markdown",
   "metadata": {},
   "source": [
    "* list\n",
    "* sort() -> 리스트 자체를 내부적으로 정렬\n",
    "* sorted() -> 리스트의 정렬된 복사본을 반환"
   ]
  },
  {
   "cell_type": "code",
   "execution_count": 51,
   "metadata": {
    "collapsed": false,
    "scrolled": true
   },
   "outputs": [
    {
     "name": "stdout",
     "output_type": "stream",
     "text": [
      "None\n",
      "[1, 2, 3, 4, 5, 6, 7, 8, 9]\n",
      "[1, 2, 3, 4, 5, 6, 7, 8, 9]\n",
      "[9, 8, 1, 2, 7, 5, 6, 3, 4]\n"
     ]
    }
   ],
   "source": [
    "a = [9, 8, 1, 2, 7, 5, 6, 3, 4]\n",
    "print a.sort()\n",
    "print a\n",
    "\n",
    "a = [9, 8, 1, 2, 7, 5, 6, 3, 4]\n",
    "\n",
    "b = sorted(a)\n",
    "print sorted(a)\n",
    "print a"
   ]
  },
  {
   "cell_type": "code",
   "execution_count": 55,
   "metadata": {
    "collapsed": false
   },
   "outputs": [
    {
     "name": "stdout",
     "output_type": "stream",
     "text": [
      "[3, 0, -1, 4, 6]\n",
      "[-1, 0, 3, 4, 6]\n"
     ]
    }
   ],
   "source": [
    "mylist = [3, 0, -1, 4, 6]\n",
    "mylist2 = sorted(mylist)\n",
    "\n",
    "#원본 리스트는 정렬되지 않는다\n",
    "print mylist\n",
    "\n",
    "#새 리스트는 정렬돼있다\n",
    "print mylist2"
   ]
  },
  {
   "cell_type": "code",
   "execution_count": 62,
   "metadata": {
    "collapsed": false
   },
   "outputs": [
    {
     "name": "stdout",
     "output_type": "stream",
     "text": [
      "20\n"
     ]
    }
   ],
   "source": [
    "a = [1, 9, 7, 8, 2, 5, 11]\n",
    "a.sort()\n",
    "print a[-1] + a[-2]"
   ]
  },
  {
   "cell_type": "code",
   "execution_count": 52,
   "metadata": {
    "collapsed": false,
    "scrolled": false
   },
   "outputs": [
    {
     "name": "stdout",
     "output_type": "stream",
     "text": [
      "[1, 2, 3, 4]\n",
      "[1, 2, 3, 4]\n",
      "--------------------\n",
      "[22, 2, 3, 4]\n",
      "[22, 2, 3, 4]\n"
     ]
    }
   ],
   "source": [
    "a = [1, 2, 3, 4]\n",
    "b = a\n",
    "\n",
    "print a\n",
    "print b\n",
    "print '-' * 20\n",
    "\n",
    "\n",
    "a[0] = 22\n",
    "\n",
    "print a\n",
    "print b"
   ]
  },
  {
   "cell_type": "code",
   "execution_count": 53,
   "metadata": {
    "collapsed": false,
    "scrolled": true
   },
   "outputs": [
    {
     "name": "stdout",
     "output_type": "stream",
     "text": [
      "[99, 2, 3, 4]\n",
      "[1, 2, 3, 4]\n",
      "[1, 2, 3, 4]\n"
     ]
    }
   ],
   "source": [
    "# b = a\n",
    "a = [1, 2, 3, 4]\n",
    "b = list(a)\n",
    "c = a[:]\n",
    "\n",
    "a[0] = 99\n",
    "\n",
    "print a\n",
    "print b\n",
    "print c"
   ]
  },
  {
   "cell_type": "markdown",
   "metadata": {},
   "source": [
    "## len()"
   ]
  },
  {
   "cell_type": "code",
   "execution_count": 54,
   "metadata": {
    "collapsed": false,
    "scrolled": true
   },
   "outputs": [
    {
     "name": "stdout",
     "output_type": "stream",
     "text": [
      "4\n"
     ]
    }
   ],
   "source": [
    "# 리스트의 항목 개수를 리턴한다. \n",
    "\n",
    "mylist = ['a', 'b', 'c', 'd']\n",
    "print (len(mylist))"
   ]
  },
  {
   "cell_type": "code",
   "execution_count": 61,
   "metadata": {
    "collapsed": false
   },
   "outputs": [
    {
     "data": {
      "text/plain": [
       "([1, 5], [1, 5])"
      ]
     },
     "execution_count": 61,
     "metadata": {},
     "output_type": "execute_result"
    }
   ],
   "source": [
    "a = [1, 2, 3, 4, 5]\n",
    "[a[0], a[-1]], a[::len(a)-1]"
   ]
  },
  {
   "cell_type": "markdown",
   "metadata": {},
   "source": [
    "## 추가(append) 함수"
   ]
  },
  {
   "cell_type": "code",
   "execution_count": 94,
   "metadata": {
    "collapsed": false
   },
   "outputs": [
    {
     "data": {
      "text/plain": [
       "['apple', 'banana', 'pineapple', 'grape']"
      ]
     },
     "execution_count": 94,
     "metadata": {},
     "output_type": "execute_result"
    }
   ],
   "source": [
    "fruit = ['apple', 'banana', 'pineapple']\n",
    "fruit.append('grape')\n",
    "fruit\n",
    "\n",
    "# append 함수를 통해서 'grape'라는 값이 제대로 리스트에 추가되었다. \n",
    "# 추가된 위치는 가장 뒤에 요소가 추가된다는 것을 알 수 있다. "
   ]
  },
  {
   "cell_type": "markdown",
   "metadata": {
    "collapsed": true
   },
   "source": [
    "## 삽입(insert)함수"
   ]
  },
  {
   "cell_type": "code",
   "execution_count": 1,
   "metadata": {
    "collapsed": false
   },
   "outputs": [
    {
     "name": "stdout",
     "output_type": "stream",
     "text": [
      "뒤에서부터 추가되는 append함수와는 달리, 이 insert 함수는 지정한 위치에 추가하려는 값을 넣을 수 있습니다.\n"
     ]
    }
   ],
   "source": [
    "print \"뒤에서부터 추가되는 append함수와는 달리, 이 insert 함수는 지정한 위치에 추가하려는 값을 넣을 수 있습니다.\""
   ]
  },
  {
   "cell_type": "code",
   "execution_count": 3,
   "metadata": {
    "collapsed": false
   },
   "outputs": [
    {
     "data": {
      "text/plain": [
       "[1, 2, 3, 4, 5, 6]"
      ]
     },
     "execution_count": 3,
     "metadata": {},
     "output_type": "execute_result"
    }
   ],
   "source": [
    "a = [1, 2, 4, 5, 6]\n",
    "a.insert(2, 3)\n",
    "a\n",
    "\n",
    "# 첫번째 2는 요소가 추가될 위치를 말하고, 두번째 인수에는 리스트에 \n",
    "# 삽입될 값이 들어옵니다. "
   ]
  },
  {
   "cell_type": "code",
   "execution_count": 4,
   "metadata": {
    "collapsed": false
   },
   "outputs": [
    {
     "name": "stdout",
     "output_type": "stream",
     "text": [
      "['one', 'two', 'three', 'four', 'five', 'six']\n"
     ]
    }
   ],
   "source": [
    "test = ['one', 'two', 'three', 'five', 'six']\n",
    "test.insert(3, 'four')\n",
    "\n",
    "print test"
   ]
  },
  {
   "cell_type": "markdown",
   "metadata": {},
   "source": [
    "## 확장함수(extend)"
   ]
  },
  {
   "cell_type": "markdown",
   "metadata": {},
   "source": [
    "* += 로도 가능함"
   ]
  },
  {
   "cell_type": "code",
   "execution_count": 46,
   "metadata": {
    "collapsed": false
   },
   "outputs": [
    {
     "name": "stdout",
     "output_type": "stream",
     "text": [
      "[1, 2, 3, 4, 10, 20, 30, 40]\n",
      "[10, 20, 30, 40]\n",
      "[10, 20, 30, 40, 1, 2, 3, 4, 10, 20, 30, 40]\n"
     ]
    }
   ],
   "source": [
    "a = [1, 2, 3, 4]\n",
    "b = [10, 20, 30, 40]\n",
    "\n",
    "a.extend(b)\n",
    "\n",
    "print a\n",
    "\n",
    "print b\n",
    "\n",
    "b += a\n",
    "print b"
   ]
  },
  {
   "cell_type": "code",
   "execution_count": 5,
   "metadata": {
    "collapsed": false
   },
   "outputs": [
    {
     "name": "stdout",
     "output_type": "stream",
     "text": [
      "리스트를 확장하는 함수인 extend 함수는 한가지씩 값이 추가되는 append 함수와 달리, 여러개의 값을 추가할 수 있습니다. \n",
      "\n",
      "한가지 주의하실 점은 함수로 전달되는 인수에는 리스트만 올 수 있습니다.\n"
     ]
    }
   ],
   "source": [
    "print \"리스트를 확장하는 함수인 extend 함수는 한가지씩 값이 추가되는 append 함수와 달리, 여러개의 값을 추가할 수 있습니다. \\n\\n한가지 주의하실 점은 함수로 전달되는 인수에는 리스트만 올 수 있습니다.\""
   ]
  },
  {
   "cell_type": "code",
   "execution_count": 6,
   "metadata": {
    "collapsed": false
   },
   "outputs": [
    {
     "data": {
      "text/plain": [
       "[1, 2, 3, 4, 5, 6, 7, 8, 9]"
      ]
     },
     "execution_count": 6,
     "metadata": {},
     "output_type": "execute_result"
    }
   ],
   "source": [
    "nums = [1, 2, 3, 4, 5, 6]\n",
    "nums.extend([7, 8, 9])\n",
    "nums"
   ]
  },
  {
   "cell_type": "markdown",
   "metadata": {},
   "source": [
    "## 위치확인함수(index)"
   ]
  },
  {
   "cell_type": "code",
   "execution_count": 7,
   "metadata": {
    "collapsed": false
   },
   "outputs": [
    {
     "name": "stdout",
     "output_type": "stream",
     "text": [
      "리스트에 있는 특정 요소의 위치를 확인하는 함수. \n"
     ]
    }
   ],
   "source": [
    "print \"리스트에 있는 특정 요소의 위치를 확인하는 함수. \""
   ]
  },
  {
   "cell_type": "code",
   "execution_count": 10,
   "metadata": {
    "collapsed": false
   },
   "outputs": [
    {
     "data": {
      "text/plain": [
       "1"
      ]
     },
     "execution_count": 10,
     "metadata": {},
     "output_type": "execute_result"
    }
   ],
   "source": [
    "test = ['red', 'blue', 'green', 'yellow', 'white', 'black', 'blue']\n",
    "test.index('blue')\n"
   ]
  },
  {
   "cell_type": "code",
   "execution_count": 11,
   "metadata": {
    "collapsed": false
   },
   "outputs": [
    {
     "data": {
      "text/plain": [
       "4"
      ]
     },
     "execution_count": 11,
     "metadata": {},
     "output_type": "execute_result"
    }
   ],
   "source": [
    "test.index('white')"
   ]
  },
  {
   "cell_type": "markdown",
   "metadata": {},
   "source": [
    "## 요소 수(count) 함수"
   ]
  },
  {
   "cell_type": "code",
   "execution_count": 12,
   "metadata": {
    "collapsed": false
   },
   "outputs": [
    {
     "name": "stdout",
     "output_type": "stream",
     "text": [
      "리스트에 존재하는 특정 요소의 수를 확인하는 함수인 count 함수는 함수를 통해서 요소 개수를 확인하려면, count 함수로 해당하는 요소를 건네주면 된다.\n"
     ]
    }
   ],
   "source": [
    "print \"리스트에 존재하는 특정 요소의 수를 확인하는 함수인 count 함수는 함수를 통해서 요소 개수를 확인하려면, count 함수로 해당하는 요소를 건네주면 된다.\""
   ]
  },
  {
   "cell_type": "code",
   "execution_count": 13,
   "metadata": {
    "collapsed": false
   },
   "outputs": [
    {
     "data": {
      "text/plain": [
       "2"
      ]
     },
     "execution_count": 13,
     "metadata": {},
     "output_type": "execute_result"
    }
   ],
   "source": [
    "test = [1, 1, 2, 3, 4, 5, 6, 6, 6, 7]\n",
    "test.count(1)\n"
   ]
  },
  {
   "cell_type": "code",
   "execution_count": 20,
   "metadata": {
    "collapsed": false
   },
   "outputs": [
    {
     "data": {
      "text/plain": [
       "2"
      ]
     },
     "execution_count": 20,
     "metadata": {},
     "output_type": "execute_result"
    }
   ],
   "source": [
    "test = ['red', 'red', 'green', 'white', 'black', 'blue', 'blue', 'blue']\n",
    "test.count('red')"
   ]
  },
  {
   "cell_type": "code",
   "execution_count": 21,
   "metadata": {
    "collapsed": false
   },
   "outputs": [
    {
     "data": {
      "text/plain": [
       "3"
      ]
     },
     "execution_count": 21,
     "metadata": {},
     "output_type": "execute_result"
    }
   ],
   "source": [
    "test.count('blue')"
   ]
  },
  {
   "cell_type": "markdown",
   "metadata": {},
   "source": [
    "## 요소를 꺼내는 함수(pop)"
   ]
  },
  {
   "cell_type": "code",
   "execution_count": 22,
   "metadata": {
    "collapsed": false
   },
   "outputs": [
    {
     "name": "stdout",
     "output_type": "stream",
     "text": [
      "리스트의 요소를 꺼내는 함수인 pop함수는 인수를 아에 생략하고 사용할 수 있으며, 특정한 요소를 리스트에서 꺼내려면\n",
      "함수의 첫번째 인수로 꺼내려는 요소의 위치를 적어주면 된다.\n"
     ]
    }
   ],
   "source": [
    "print \"리스트의 요소를 꺼내는 함수인 pop함수는 인수를 아에 생략하고 사용할 수 있으며, 특정한 요소를 리스트에서 꺼내려면\\n함수의 첫번째 인수로 꺼내려는 요소의 위치를 적어주면 된다.\""
   ]
  },
  {
   "cell_type": "code",
   "execution_count": 23,
   "metadata": {
    "collapsed": false
   },
   "outputs": [
    {
     "data": {
      "text/plain": [
       "'e'"
      ]
     },
     "execution_count": 23,
     "metadata": {},
     "output_type": "execute_result"
    }
   ],
   "source": [
    "test = ['a', 'b', 'c', 'd', 'e']\n",
    "test.pop()"
   ]
  },
  {
   "cell_type": "code",
   "execution_count": 24,
   "metadata": {
    "collapsed": false
   },
   "outputs": [
    {
     "data": {
      "text/plain": [
       "['a', 'b', 'c', 'd']"
      ]
     },
     "execution_count": 24,
     "metadata": {},
     "output_type": "execute_result"
    }
   ],
   "source": [
    "test"
   ]
  },
  {
   "cell_type": "code",
   "execution_count": 25,
   "metadata": {
    "collapsed": false
   },
   "outputs": [
    {
     "data": {
      "text/plain": [
       "'c'"
      ]
     },
     "execution_count": 25,
     "metadata": {},
     "output_type": "execute_result"
    }
   ],
   "source": [
    "test.pop(2)"
   ]
  },
  {
   "cell_type": "code",
   "execution_count": 26,
   "metadata": {
    "collapsed": false
   },
   "outputs": [
    {
     "data": {
      "text/plain": [
       "['a', 'b', 'd']"
      ]
     },
     "execution_count": 26,
     "metadata": {},
     "output_type": "execute_result"
    }
   ],
   "source": [
    "test"
   ]
  },
  {
   "cell_type": "markdown",
   "metadata": {},
   "source": [
    "## 제거 함수(remove)"
   ]
  },
  {
   "cell_type": "code",
   "execution_count": 27,
   "metadata": {
    "collapsed": false
   },
   "outputs": [
    {
     "name": "stdout",
     "output_type": "stream",
     "text": [
      "리스트의 요소를 제거하는 함수인 remove함수는 pop함수와는 달리, 리스트 내에서 해당하는 값만을 제거합니다. \n",
      "만약, 제거하려는 값이 리스트에 여러개가 존재하면 가장 앞에있는 요소부터 제거가 됩니다.\n"
     ]
    }
   ],
   "source": [
    "print \"리스트의 요소를 제거하는 함수인 remove함수는 pop함수와는 달리, 리스트 내에서 해당하는 값만을 제거합니다. \\n만약, 제거하려는 값이 리스트에 여러개가 존재하면 가장 앞에있는 요소부터 제거가 됩니다.\""
   ]
  },
  {
   "cell_type": "code",
   "execution_count": 30,
   "metadata": {
    "collapsed": false
   },
   "outputs": [
    {
     "data": {
      "text/plain": [
       "[2, 1, 3, 4, 1]"
      ]
     },
     "execution_count": 30,
     "metadata": {},
     "output_type": "execute_result"
    }
   ],
   "source": [
    "a = [1, 2, 1, 3, 4, 1]\n",
    "a.remove(1)\n",
    "a"
   ]
  },
  {
   "cell_type": "code",
   "execution_count": 39,
   "metadata": {
    "collapsed": false
   },
   "outputs": [
    {
     "name": "stdout",
     "output_type": "stream",
     "text": [
      "[1, 3, 4, 5, 8]\n"
     ]
    }
   ],
   "source": [
    "a = [1, 3, 2, 4, 5, 8]\n",
    "a.remove(2)\n",
    "print a"
   ]
  },
  {
   "cell_type": "code",
   "execution_count": 29,
   "metadata": {
    "collapsed": false
   },
   "outputs": [
    {
     "name": "stdout",
     "output_type": "stream",
     "text": [
      "위의 예제에서 2행을 보면 a내에 1이라는 값을 제거하려고 하는데 리스트 a에는 1이란 값이 3개나 있습니다. 이 경우에는 위에서 말한대로 가장 앞에있는 요소부터 제거가 된다고 했습니다. 그렇기 때문에, 가장 앞에 있는 1이 우선 제거가 되는 것입니다.\n"
     ]
    }
   ],
   "source": [
    "print \"위의 예제에서 2행을 보면 a내에 1이라는 값을 제거하려고 하는데 리스트 a에는 1이란 값이 3개나 있습니다. 이 경우에는 위에서 말한대로 가장 앞에있는 요소부터 제거가 된다고 했습니다. 그렇기 때문에, 가장 앞에 있는 1이 우선 제거가 되는 것입니다.\""
   ]
  },
  {
   "cell_type": "markdown",
   "metadata": {},
   "source": [
    "## 정렬(sort) 함수"
   ]
  },
  {
   "cell_type": "code",
   "execution_count": 40,
   "metadata": {
    "collapsed": false
   },
   "outputs": [
    {
     "name": "stdout",
     "output_type": "stream",
     "text": [
      "이 함수로 전달되는 인수를 통해서, 정렬 방식을 변경할 수도 있으며, 반전 여부도 지정할 수 있습니다.\n"
     ]
    }
   ],
   "source": [
    "print \"이 함수로 전달되는 인수를 통해서, 정렬 방식을 변경할 수도 있으며, 반전 여부도 지정할 수 있습니다.\""
   ]
  },
  {
   "cell_type": "code",
   "execution_count": 41,
   "metadata": {
    "collapsed": false
   },
   "outputs": [
    {
     "data": {
      "text/plain": [
       "[1, 2, 3, 5, 7]"
      ]
     },
     "execution_count": 41,
     "metadata": {},
     "output_type": "execute_result"
    }
   ],
   "source": [
    "a = [3, 5, 1, 2, 7]\n",
    "a.sort()\n",
    "a"
   ]
  },
  {
   "cell_type": "code",
   "execution_count": 42,
   "metadata": {
    "collapsed": false
   },
   "outputs": [
    {
     "data": {
      "text/plain": [
       "[7, 5, 3, 2, 1]"
      ]
     },
     "execution_count": 42,
     "metadata": {},
     "output_type": "execute_result"
    }
   ],
   "source": [
    "a = [3, 5, 1, 2, 7]\n",
    "a.sort(reverse = True)\n",
    "a"
   ]
  },
  {
   "cell_type": "code",
   "execution_count": 43,
   "metadata": {
    "collapsed": false
   },
   "outputs": [
    {
     "name": "stdout",
     "output_type": "stream",
     "text": [
      "위 예제의 결과를 보면 리스트가 역순으로 정렬됨을 확인할 수 있습니다. 저렇게 reverse를 True로 만들어 주지 않을 경우에는, reverse의 기본값이 False이기 때문에 순서대로 정렬된 데이터를 보실 수 있습니다.\n"
     ]
    }
   ],
   "source": [
    "print \"위 예제의 결과를 보면 리스트가 역순으로 정렬됨을 확인할 수 있습니다. 저렇게 reverse를 True로 만들어 주지 않을 경우에는, reverse의 기본값이 False이기 때문에 순서대로 정렬된 데이터를 보실 수 있습니다.\""
   ]
  },
  {
   "cell_type": "markdown",
   "metadata": {},
   "source": [
    "## 반전함수(reverse)"
   ]
  },
  {
   "cell_type": "code",
   "execution_count": 44,
   "metadata": {
    "collapsed": false
   },
   "outputs": [
    {
     "name": "stdout",
     "output_type": "stream",
     "text": [
      "리스트를 역순으로 뒤집는 함수입니다. 이 함수는 단순히 리스트의 요소들을 모두 역순으로 뒤집는 역할만 하며, 정렬과는 상관이 없습니다.\n"
     ]
    }
   ],
   "source": [
    "print \"리스트를 역순으로 뒤집는 함수입니다. 이 함수는 단순히 리스트의 요소들을 모두 역순으로 뒤집는 역할만 하며, 정렬과는 상관이 없습니다.\""
   ]
  },
  {
   "cell_type": "code",
   "execution_count": 45,
   "metadata": {
    "collapsed": false
   },
   "outputs": [
    {
     "data": {
      "text/plain": [
       "[9, 7, 5, 3, 1]"
      ]
     },
     "execution_count": 45,
     "metadata": {},
     "output_type": "execute_result"
    }
   ],
   "source": [
    "a = [1, 3, 5, 7, 9]\n",
    "a.reverse()\n",
    "a"
   ]
  },
  {
   "cell_type": "code",
   "execution_count": null,
   "metadata": {
    "collapsed": true
   },
   "outputs": [],
   "source": []
  }
 ],
 "metadata": {
  "kernelspec": {
   "display_name": "Python 2",
   "language": "python",
   "name": "python2"
  },
  "language_info": {
   "codemirror_mode": {
    "name": "ipython",
    "version": 2
   },
   "file_extension": ".py",
   "mimetype": "text/x-python",
   "name": "python",
   "nbconvert_exporter": "python",
   "pygments_lexer": "ipython2",
   "version": "2.7.12"
  }
 },
 "nbformat": 4,
 "nbformat_minor": 1
}
