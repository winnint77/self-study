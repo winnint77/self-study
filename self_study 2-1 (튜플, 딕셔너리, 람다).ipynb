{
 "cells": [
  {
   "cell_type": "markdown",
   "metadata": {},
   "source": [
    "# 튜플"
   ]
  },
  {
   "cell_type": "code",
   "execution_count": 36,
   "metadata": {
    "collapsed": false
   },
   "outputs": [
    {
     "name": "stdout",
     "output_type": "stream",
     "text": [
      "파이썬의 '리스트'라는 자료 구조를 배웠습니다. 이번 절에서 배우게 될 파이썬의 '튜플'도 여러 개의 데이터를 순서대로 담아두는 데 사용합니다. 단, 튜플과 리스트는 다음과 같은 두 개의 차이점이 있습니다.\n"
     ]
    }
   ],
   "source": [
    "print \"파이썬의 '리스트'라는 자료 구조를 배웠습니다. 이번 절에서 배우게 될 파이썬의 '튜플'도 여러 개의 데이터를 순서대로 담아두는 데 사용합니다. 단, 튜플과 리스트는 다음과 같은 두 개의 차이점이 있습니다.\""
   ]
  },
  {
   "cell_type": "code",
   "execution_count": 37,
   "metadata": {
    "collapsed": false
   },
   "outputs": [
    {
     "name": "stdout",
     "output_type": "stream",
     "text": [
      "1) 리스트는 '['와']'를 사용하는 반면 튜플은 '('와')'를 사용한다. \n",
      "\n",
      "2) 리스트는 리스트 내의 원소를 변경할 수 있지만, 튜플은 변경할 수 없습니다.\n"
     ]
    }
   ],
   "source": [
    "print \"1) 리스트는 '['와']'를 사용하는 반면 튜플은 '('와')'를 사용한다. \\n\\n2) 리스트는 리스트 내의 원소를 변경할 수 있지만, 튜플은 변경할 수 없습니다.\""
   ]
  },
  {
   "cell_type": "code",
   "execution_count": 38,
   "metadata": {
    "collapsed": false
   },
   "outputs": [
    {
     "name": "stdout",
     "output_type": "stream",
     "text": [
      "사실 파이썬의 튜플은 리스트에 있는 여러 기능이 빠져 있고, 반대로 리스트는 튜플이 지원하는 모든 기능을 포함하고 있으므로 튜플을 사용하지 않고 리스트라는 자료 구조만 사용해도 프로그래밍을 하는 데 전혀 불편함이 없습니다. \n",
      "\n",
      "다만 튜플은 리스트보다 속도가 빠르다는 장점이 있습니다. 따라서 한번 저장해둔 데이터에 대해서 변경할 필요가 없는 경우라면 되도록 리스트보다는 튜플을 사용하는 것이 좋습니다. \n"
     ]
    }
   ],
   "source": [
    "print \"사실 파이썬의 튜플은 리스트에 있는 여러 기능이 빠져 있고, 반대로 리스트는 튜플이 지원하는 모든 기능을 포함하고 있으므로 튜플을 사용하지 않고 리스트라는 자료 구조만 사용해도 프로그래밍을 하는 데 전혀 불편함이 없습니다. \\n\\n다만 튜플은 리스트보다 속도가 빠르다는 장점이 있습니다. 따라서 한번 저장해둔 데이터에 대해서 변경할 필요가 없는 경우라면 되도록 리스트보다는 튜플을 사용하는 것이 좋습니다. \""
   ]
  },
  {
   "cell_type": "code",
   "execution_count": 39,
   "metadata": {
    "collapsed": false
   },
   "outputs": [
    {
     "data": {
      "text/plain": [
       "('Samsung', 'LG', 'SK')"
      ]
     },
     "execution_count": 39,
     "metadata": {},
     "output_type": "execute_result"
    }
   ],
   "source": [
    "t = ('Samsung', 'LG', 'SK')\n",
    "t"
   ]
  },
  {
   "cell_type": "code",
   "execution_count": 41,
   "metadata": {
    "collapsed": false
   },
   "outputs": [
    {
     "name": "stdout",
     "output_type": "stream",
     "text": [
      "튜플은 리스트와 유사하게 인덱싱을 통해서 튜플의 원소에 접근할 수 있습니다. 먼저 'len' 내장 함수를 이용하여 튜플의 원소의 개수를 확인해보니 총 3개가 있는 것을 확인했습니다. 아래 코드를 확인하면 [0], [1], [2] 인덱싱을 통해서 튜플의 각 원소에 접근할 수 있는 것을 확인할 수 있습니다. \n",
      "\n",
      "그러나 튜플은 리스트와 달리 원소의 수정이 불가능하므로 원소의 내용을 바꾸려고 하면 에러가 발생함을 확인할 수 있습니다. \n"
     ]
    }
   ],
   "source": [
    "print \"튜플은 리스트와 유사하게 인덱싱을 통해서 튜플의 원소에 접근할 수 있습니다. 먼저 'len' 내장 함수를 이용하여 튜플의 원소의 개수를 확인해보니 총 3개가 있는 것을 확인했습니다. 아래 코드를 확인하면 [0], [1], [2] 인덱싱을 통해서 튜플의 각 원소에 접근할 수 있는 것을 확인할 수 있습니다. \\n\\n그러나 튜플은 리스트와 달리 원소의 수정이 불가능하므로 원소의 내용을 바꾸려고 하면 에러가 발생함을 확인할 수 있습니다. \""
   ]
  },
  {
   "cell_type": "code",
   "execution_count": 42,
   "metadata": {
    "collapsed": false
   },
   "outputs": [
    {
     "data": {
      "text/plain": [
       "3"
      ]
     },
     "execution_count": 42,
     "metadata": {},
     "output_type": "execute_result"
    }
   ],
   "source": [
    "len(t)"
   ]
  },
  {
   "cell_type": "code",
   "execution_count": 43,
   "metadata": {
    "collapsed": false
   },
   "outputs": [
    {
     "data": {
      "text/plain": [
       "'Samsung'"
      ]
     },
     "execution_count": 43,
     "metadata": {},
     "output_type": "execute_result"
    }
   ],
   "source": [
    "t[0]"
   ]
  },
  {
   "cell_type": "code",
   "execution_count": 44,
   "metadata": {
    "collapsed": false,
    "scrolled": true
   },
   "outputs": [
    {
     "ename": "TypeError",
     "evalue": "'tuple' object does not support item assignment",
     "output_type": "error",
     "traceback": [
      "\u001b[0;31m---------------------------------------------------------------------------\u001b[0m",
      "\u001b[0;31mTypeError\u001b[0m                                 Traceback (most recent call last)",
      "\u001b[0;32m<ipython-input-44-9ae14a7afe85>\u001b[0m in \u001b[0;36m<module>\u001b[0;34m()\u001b[0m\n\u001b[0;32m----> 1\u001b[0;31m \u001b[0mt\u001b[0m\u001b[1;33m[\u001b[0m\u001b[1;36m0\u001b[0m\u001b[1;33m]\u001b[0m \u001b[1;33m=\u001b[0m \u001b[1;34m\"Naver\"\u001b[0m\u001b[1;33m\u001b[0m\u001b[0m\n\u001b[0m",
      "\u001b[0;31mTypeError\u001b[0m: 'tuple' object does not support item assignment"
     ]
    }
   ],
   "source": [
    "t[0] = \"Naver\" #원소의 수정이 불가능하다"
   ]
  },
  {
   "cell_type": "code",
   "execution_count": 1,
   "metadata": {
    "collapsed": false
   },
   "outputs": [
    {
     "data": {
      "text/plain": [
       "()"
      ]
     },
     "execution_count": 1,
     "metadata": {},
     "output_type": "execute_result"
    }
   ],
   "source": [
    "empty_tuple = ()\n",
    "empty_tuple"
   ]
  },
  {
   "cell_type": "code",
   "execution_count": 2,
   "metadata": {
    "collapsed": false
   },
   "outputs": [
    {
     "data": {
      "text/plain": [
       "('Groucho',)"
      ]
     },
     "execution_count": 2,
     "metadata": {},
     "output_type": "execute_result"
    }
   ],
   "source": [
    "one_marx = 'Groucho',\n",
    "one_marx"
   ]
  },
  {
   "cell_type": "markdown",
   "metadata": {},
   "source": [
    "하나 이상의 요소가 있는 튜플을 만들기 위해서는 각 요소 뒤에 콤마(,)를 붙인다. 튜플에 하나의 요소를 저장해보자."
   ]
  },
  {
   "cell_type": "code",
   "execution_count": 3,
   "metadata": {
    "collapsed": false
   },
   "outputs": [
    {
     "data": {
      "text/plain": [
       "('Groucho', 'Chico', 'Harpo')"
      ]
     },
     "execution_count": 3,
     "metadata": {},
     "output_type": "execute_result"
    }
   ],
   "source": [
    "marx_tuple = 'Groucho', 'Chico', 'Harpo'\n",
    "marx_tuple"
   ]
  },
  {
   "cell_type": "markdown",
   "metadata": {},
   "source": [
    "두 개 이상의 요소가 있을 경우, 마지막 요소에는 콤마를 붙이지 않는다. "
   ]
  },
  {
   "cell_type": "markdown",
   "metadata": {},
   "source": [
    "파이썬은 튜플을 출력할 때 괄호 ()를 포함한다. 튜플을 정의할 때는 괄호 ()가 필요 없다. 뒤에 콤마가 붙는다는 것은 튜플을 정의한다는 뜻이다. 그러나 값들을 괄호로 묶어서 튜플을 정의한다면, 이것이 튜플인지 구분하기가 더 쉽다. "
   ]
  },
  {
   "cell_type": "code",
   "execution_count": 4,
   "metadata": {
    "collapsed": false
   },
   "outputs": [
    {
     "data": {
      "text/plain": [
       "('Groucho', 'Chico', 'Harpo')"
      ]
     },
     "execution_count": 4,
     "metadata": {},
     "output_type": "execute_result"
    }
   ],
   "source": [
    "marx_tuple = ('Groucho', 'Chico', 'Harpo')\n",
    "marx_tuple"
   ]
  },
  {
   "cell_type": "markdown",
   "metadata": {},
   "source": [
    "튜플은 한 번에 여러 변수를 할당할 수 있다. "
   ]
  },
  {
   "cell_type": "code",
   "execution_count": 5,
   "metadata": {
    "collapsed": false
   },
   "outputs": [
    {
     "data": {
      "text/plain": [
       "'Groucho'"
      ]
     },
     "execution_count": 5,
     "metadata": {},
     "output_type": "execute_result"
    }
   ],
   "source": [
    "a, b, c = marx_tuple\n",
    "a"
   ]
  },
  {
   "cell_type": "code",
   "execution_count": 6,
   "metadata": {
    "collapsed": false
   },
   "outputs": [
    {
     "data": {
      "text/plain": [
       "'Chico'"
      ]
     },
     "execution_count": 6,
     "metadata": {},
     "output_type": "execute_result"
    }
   ],
   "source": [
    "b"
   ]
  },
  {
   "cell_type": "code",
   "execution_count": 7,
   "metadata": {
    "collapsed": false
   },
   "outputs": [
    {
     "data": {
      "text/plain": [
       "'Harpo'"
      ]
     },
     "execution_count": 7,
     "metadata": {},
     "output_type": "execute_result"
    }
   ],
   "source": [
    "c"
   ]
  },
  {
   "cell_type": "markdown",
   "metadata": {},
   "source": [
    "tuple()은 다른 객체를 튜플로 만들어준다. "
   ]
  },
  {
   "cell_type": "code",
   "execution_count": 9,
   "metadata": {
    "collapsed": false
   },
   "outputs": [
    {
     "data": {
      "text/plain": [
       "('Groucho', 'Chico', 'Harpo')"
      ]
     },
     "execution_count": 9,
     "metadata": {},
     "output_type": "execute_result"
    }
   ],
   "source": [
    "marx_list = ['Groucho', 'Chico', 'Harpo']\n",
    "tuple(marx_list)"
   ]
  },
  {
   "cell_type": "markdown",
   "metadata": {},
   "source": [
    "#### 튜플과 리스트\n",
    "\n",
    "리스트를 대신해서 튜플을 사용할 수 있다. 하지만 튜플은 리스트의 append(), insert() 등과 같은 함수가 없고, 함수의 수가 매우 적다. 튜플을 생성한 후에는 수정할 수 없기 때문이다. \n",
    "\n",
    "그렇다면 리스트를 사용하면 되지, 왜 튜플을 사용할까?\n",
    "\n",
    "+ 튜플은 더 적은 공간을 사용한다. \n",
    "+ 실수로 튜플의 항목이 손상될 염려가 없다. \n",
    "+ 튜플을 딕셔너리 키로 사용할 수 있다.\n",
    "+ 함수의 인자들은 튜플로 전달된다."
   ]
  },
  {
   "cell_type": "markdown",
   "metadata": {},
   "source": [
    "# 튜플 슬라이싱"
   ]
  },
  {
   "cell_type": "code",
   "execution_count": null,
   "metadata": {
    "collapsed": true
   },
   "outputs": [],
   "source": []
  },
  {
   "cell_type": "code",
   "execution_count": 45,
   "metadata": {
    "collapsed": false
   },
   "outputs": [
    {
     "name": "stdout",
     "output_type": "stream",
     "text": [
      "리스트에 저장된 데이터 일부를 가져올 때 '슬라이싱'을 이용 했습니다. 슬라이싱을 할 때는 '[0:2]'와 같은 형태로 데이터를 가져올 시작 인덱스와 끝 인덱스를 알려주었지요? 튜플도 리스트와 동일하게 슬라이싱이 가능합니다. \n"
     ]
    }
   ],
   "source": [
    "print \"리스트에 저장된 데이터 일부를 가져올 때 '슬라이싱'을 이용 했습니다. 슬라이싱을 할 때는 '[0:2]'와 같은 형태로 데이터를 가져올 시작 인덱스와 끝 인덱스를 알려주었지요? 튜플도 리스트와 동일하게 슬라이싱이 가능합니다. \""
   ]
  },
  {
   "cell_type": "code",
   "execution_count": 46,
   "metadata": {
    "collapsed": false
   },
   "outputs": [
    {
     "data": {
      "text/plain": [
       "('Samsung', 'LG', 'SK')"
      ]
     },
     "execution_count": 46,
     "metadata": {},
     "output_type": "execute_result"
    }
   ],
   "source": [
    "t"
   ]
  },
  {
   "cell_type": "code",
   "execution_count": 47,
   "metadata": {
    "collapsed": false
   },
   "outputs": [
    {
     "data": {
      "text/plain": [
       "('Samsung', 'LG')"
      ]
     },
     "execution_count": 47,
     "metadata": {},
     "output_type": "execute_result"
    }
   ],
   "source": [
    "t[0:2]"
   ]
  },
  {
   "cell_type": "code",
   "execution_count": 48,
   "metadata": {
    "collapsed": false
   },
   "outputs": [
    {
     "name": "stdout",
     "output_type": "stream",
     "text": [
      "여기서 주의할 점은 튜플을 생성할 때는 '('와')'기호를 사용하지만, 데이터에 접근하는 인덱싱이나 슬라이싱에서는 데이터의 범위를 '['와']' 기호로 표현을 한다는 점입니다. 즉 아래 코드는 파이썬 문법에 어긋나기 때문에 에러가 발생하게 됩니다. \n"
     ]
    }
   ],
   "source": [
    "print \"여기서 주의할 점은 튜플을 생성할 때는 '('와')'기호를 사용하지만, 데이터에 접근하는 인덱싱이나 슬라이싱에서는 데이터의 범위를 '['와']' 기호로 표현을 한다는 점입니다. 즉 아래 코드는 파이썬 문법에 어긋나기 때문에 에러가 발생하게 됩니다. \""
   ]
  },
  {
   "cell_type": "code",
   "execution_count": 49,
   "metadata": {
    "collapsed": false
   },
   "outputs": [
    {
     "ename": "SyntaxError",
     "evalue": "invalid syntax (<ipython-input-49-4111b411f05a>, line 1)",
     "output_type": "error",
     "traceback": [
      "\u001b[0;36m  File \u001b[0;32m\"<ipython-input-49-4111b411f05a>\"\u001b[0;36m, line \u001b[0;32m1\u001b[0m\n\u001b[0;31m    t(0:2)\u001b[0m\n\u001b[0m       ^\u001b[0m\n\u001b[0;31mSyntaxError\u001b[0m\u001b[0;31m:\u001b[0m invalid syntax\n"
     ]
    }
   ],
   "source": [
    "t(0:2)"
   ]
  },
  {
   "cell_type": "markdown",
   "metadata": {},
   "source": [
    "# 딕셔너리(Dictionary)"
   ]
  },
  {
   "cell_type": "markdown",
   "metadata": {
    "collapsed": false
   },
   "source": [
    " 파이썬에서 리스트, 튜플과 함께 자주 사용되는 자료 구조로 '딕셔너리'가 있습니다. 딕셔너리'Dictionary'는 여러분도 잘 아시는 것처럼 '사전' 이라는 뜻을 가진 영단어 입니다. 우리는 영어사전을 통해서 영어 단어의 뜻을 쉽게 찾을 수 있는데, 영어사전에서 단어의 뜻을 찾는 방식에 대해서 한번 생각을 해봅시다. 영어사전에는 영어 단어가 알파벳 순으로 정렬되어 있어서 우리는 영어사전에 빠르게 영어 단어의 뜻을 찾을 수 있습니다. 파이썬의 딕셔너리도 영어사전과 유사하게 'key'와 'value'라는 쌍으로 데이터를 구성하여 저장함으로써 더 쉽게 저장된 '값'을 찾을 수 있습니다. 말로는 딕셔너리가 무엇인지 잘 이해가 안 되니 직접 코드를 작성해보면서 딕셔너리에 대해서 배워보도록 하겠습니다. "
   ]
  },
  {
   "cell_type": "markdown",
   "metadata": {},
   "source": [
    " 즉 딕셔너리는 리스트와 비슷합니다. 다른 점은 항목의 순서를 따지지 않으며, 0 또는 1과 같은 오프셋으로 항목을 선택할 수 없습니다. 대신 값(value)에 상응하는 고유한 키(key)를 지정합니다. 이 키는 대부분 문자열이지만, 불변하는 파이썬의 어떤 타입(부울, 정수, 부동소수점수, 튜플, 문자열 등)이 될 수 있습니다. 딕셔너리는 변경 가능하므로 키 - 값 요소를 추가, 삭제, 수정할 수 있습니다. "
   ]
  },
  {
   "cell_type": "markdown",
   "metadata": {
    "collapsed": false
   },
   "source": [
    "여러분들이 여러 종목의 현재가를 저장하는 프로그램을 만든다고 생각을 해보기 바랍니다. 주식 종목별로 현재가를 저장해야 하는데 기존에 배운 리스트나 튜플로는 이를 쉽게 표현하기가 불가능합니다. 지금까지 배웠던 리스트나 튜플에는 값을 하나씩 저장을 했지, 지금처럼 '종목' - '종목'에 대한 현재가와 같이 서로 연관된 두 개의 데이터를 저장하지는 못했습니다. 이러한 구조는 파이썬의 딕셔너리를 사용하면 아주 쉽게 표현할 수 있습니다. \\n\\n먼저 딕셔너리를 생성하기 위해서는 '{'와'}기호를 사용합니다. 리스트와 튜플을 복습해보면 리스트는 '['와']'기호를 사용했고, 튜플은 '('와')'기호를 사용했습니다."
   ]
  },
  {
   "cell_type": "code",
   "execution_count": 11,
   "metadata": {
    "collapsed": true
   },
   "outputs": [],
   "source": [
    "cur_price = {}"
   ]
  },
  {
   "cell_type": "code",
   "execution_count": 12,
   "metadata": {
    "collapsed": false
   },
   "outputs": [
    {
     "name": "stdout",
     "output_type": "stream",
     "text": [
      "위의 코드는 메모리의 어딘가에 딕셔너리가 하나 만들어져있고, 이를 'cur_price'라는 이름의 변수가 바인딩하고 있는 것입니다. 정말로 딕셔너리가 잘 만들어졌는지를 type 내장 함수를 사용해서 확인해 봅시다. 아래에서 type 함수의 리턴 값을 보면 'dict'라는 문자열이 있는데 이것은 dictionary의 줄임말 입니다.\n"
     ]
    }
   ],
   "source": [
    "print \"위의 코드는 메모리의 어딘가에 딕셔너리가 하나 만들어져있고, 이를 'cur_price'라는 이름의 변수가 바인딩하고 있는 것입니다. 정말로 딕셔너리가 잘 만들어졌는지를 type 내장 함수를 사용해서 확인해 봅시다. 아래에서 type 함수의 리턴 값을 보면 'dict'라는 문자열이 있는데 이것은 dictionary의 줄임말 입니다.\""
   ]
  },
  {
   "cell_type": "code",
   "execution_count": 13,
   "metadata": {
    "collapsed": false
   },
   "outputs": [
    {
     "data": {
      "text/plain": [
       "dict"
      ]
     },
     "execution_count": 13,
     "metadata": {},
     "output_type": "execute_result"
    }
   ],
   "source": [
    "type(cur_price)"
   ]
  },
  {
   "cell_type": "markdown",
   "metadata": {},
   "source": [
    "### 딕셔너리 생성하기 : {}\n",
    "\n",
    "딕셔너리를 생성하기 위해서는 중괄호({}) 안에 콤마로 구분된 키:값 쌍을 지정한다. 다음은 키 : 값 쌍이 하나도 없는 빈 딕셔너리다."
   ]
  },
  {
   "cell_type": "code",
   "execution_count": 27,
   "metadata": {
    "collapsed": false,
    "scrolled": true
   },
   "outputs": [
    {
     "name": "stdout",
     "output_type": "stream",
     "text": [
      "원소가 들어 있지 않은 딕셔너리가 잘 만들어졌으니 딕셔너리에 key:value 조합을 하나 추가해봅시다. 대신증권의 '현재가'가 30,000원 이라고 하면 아래와 같이 코드를 작성하면 됩니다. 아래의 코드에서 'daeshin'이 'key'이고, 30000이라는 값이 'value'가 됩니다.\n"
     ]
    }
   ],
   "source": [
    "print \"원소가 들어 있지 않은 딕셔너리가 잘 만들어졌으니 딕셔너리에 key:value 조합을 하나 추가해봅시다. 대신증권의 '현재가'가 30,000원 이라고 하면 아래와 같이 코드를 작성하면 됩니다. 아래의 코드에서 'daeshin'이 'key'이고, 30000이라는 값이 'value'가 됩니다.\""
   ]
  },
  {
   "cell_type": "code",
   "execution_count": 28,
   "metadata": {
    "collapsed": true
   },
   "outputs": [],
   "source": [
    "cur_price['daeshin'] = 30000"
   ]
  },
  {
   "cell_type": "code",
   "execution_count": 29,
   "metadata": {
    "collapsed": false
   },
   "outputs": [
    {
     "name": "stdout",
     "output_type": "stream",
     "text": [
      "사전에 key와 value 쌍을 하나 추가했으니 해당 데이터가 잘 추가가 되었는지 딕셔너리를 확인해 봅시다. 아래 코드와 같이 파이썬 IDLE의 프롬프트에 'cur_price'라는 변수를 치고 엔터키를 누르면 현재 딕셔너리 안에 저장된 값들을 볼 수 있습니다.\n"
     ]
    }
   ],
   "source": [
    "print \"사전에 key와 value 쌍을 하나 추가했으니 해당 데이터가 잘 추가가 되었는지 딕셔너리를 확인해 봅시다. 아래 코드와 같이 파이썬 IDLE의 프롬프트에 'cur_price'라는 변수를 치고 엔터키를 누르면 현재 딕셔너리 안에 저장된 값들을 볼 수 있습니다.\""
   ]
  },
  {
   "cell_type": "code",
   "execution_count": 30,
   "metadata": {
    "collapsed": false
   },
   "outputs": [
    {
     "data": {
      "text/plain": [
       "{'Daum KAKAO': 8000, 'daeshin': 30000}"
      ]
     },
     "execution_count": 30,
     "metadata": {},
     "output_type": "execute_result"
    }
   ],
   "source": [
    "cur_price"
   ]
  },
  {
   "cell_type": "code",
   "execution_count": 31,
   "metadata": {
    "collapsed": false
   },
   "outputs": [
    {
     "name": "stdout",
     "output_type": "stream",
     "text": [
      "딕셔너리에 값이 잘 추가가 되었으니, 이번에는 'Daum KAKAO' 한 주의 현재가가 80,000원이라는 것을 딕셔너리에 추가해봅시다. 값을 추가한 후에 'cur_price'에 값이 잘 입력되었는지도 확인해보기 바랍니다.\n"
     ]
    }
   ],
   "source": [
    "print \"딕셔너리에 값이 잘 추가가 되었으니, 이번에는 'Daum KAKAO' 한 주의 현재가가 80,000원이라는 것을 딕셔너리에 추가해봅시다. 값을 추가한 후에 'cur_price'에 값이 잘 입력되었는지도 확인해보기 바랍니다.\""
   ]
  },
  {
   "cell_type": "code",
   "execution_count": 32,
   "metadata": {
    "collapsed": false
   },
   "outputs": [
    {
     "data": {
      "text/plain": [
       "{'Daum KAKAO': 8000, 'daeshin': 30000}"
      ]
     },
     "execution_count": 32,
     "metadata": {},
     "output_type": "execute_result"
    }
   ],
   "source": [
    "cur_price['Daum KAKAO'] = 8000\n",
    "cur_price"
   ]
  },
  {
   "cell_type": "code",
   "execution_count": 33,
   "metadata": {
    "collapsed": false
   },
   "outputs": [
    {
     "name": "stdout",
     "output_type": "stream",
     "text": [
      "딕셔너리에 들어 있는 데이터의 개수를 확인할 때도 리스트나 튜플과 동일하게 len 내장함수를 사용하면 됩니다. 현재 'cur_price'라는 이름의 딕셔너리에는 두 개의 key, value 쌍이 입력되어 있으므로 아래에서 len 내장 함수의 리턴 값이 '2'가 됨을 확인할 수 있습니다.\n"
     ]
    }
   ],
   "source": [
    "print \"딕셔너리에 들어 있는 데이터의 개수를 확인할 때도 리스트나 튜플과 동일하게 len 내장함수를 사용하면 됩니다. 현재 'cur_price'라는 이름의 딕셔너리에는 두 개의 key, value 쌍이 입력되어 있으므로 아래에서 len 내장 함수의 리턴 값이 '2'가 됨을 확인할 수 있습니다.\""
   ]
  },
  {
   "cell_type": "code",
   "execution_count": 34,
   "metadata": {
    "collapsed": false
   },
   "outputs": [
    {
     "data": {
      "text/plain": [
       "2"
      ]
     },
     "execution_count": 34,
     "metadata": {},
     "output_type": "execute_result"
    }
   ],
   "source": [
    "len(cur_price)"
   ]
  },
  {
   "cell_type": "code",
   "execution_count": 35,
   "metadata": {
    "collapsed": false
   },
   "outputs": [
    {
     "name": "stdout",
     "output_type": "stream",
     "text": [
      "파이썬의 딕셔너리는 리스트와 튜플과 달리 '인덱싱'을 지원하지 않습니다. 이것은 딕셔너리는 리스트와 튜플과 달리 데이터를 순서대로 저장하는 것이 아니라, key와 value 쌍이 서로 연결되도록만 저장하기 때문입니다. 따라서 아래와 같이 딕셔너리에 정숫값을 이용한 인덱싱을 사용하면 에러가 발생합니다. \n"
     ]
    }
   ],
   "source": [
    "print \"파이썬의 딕셔너리는 리스트와 튜플과 달리 '인덱싱'을 지원하지 않습니다. 이것은 딕셔너리는 리스트와 튜플과 달리 데이터를 순서대로 저장하는 것이 아니라, key와 value 쌍이 서로 연결되도록만 저장하기 때문입니다. 따라서 아래와 같이 딕셔너리에 정숫값을 이용한 인덱싱을 사용하면 에러가 발생합니다. \""
   ]
  },
  {
   "cell_type": "code",
   "execution_count": 38,
   "metadata": {
    "collapsed": false
   },
   "outputs": [
    {
     "data": {
      "text/plain": [
       "30000"
      ]
     },
     "execution_count": 38,
     "metadata": {},
     "output_type": "execute_result"
    }
   ],
   "source": [
    "cur_price['daeshin']"
   ]
  },
  {
   "cell_type": "code",
   "execution_count": 42,
   "metadata": {
    "collapsed": false
   },
   "outputs": [
    {
     "data": {
      "text/plain": [
       "{'Daum KAKAO': 8000, 'daeshin': 30000}"
      ]
     },
     "execution_count": 42,
     "metadata": {},
     "output_type": "execute_result"
    }
   ],
   "source": [
    "cur_price"
   ]
  },
  {
   "cell_type": "code",
   "execution_count": 22,
   "metadata": {
    "collapsed": false
   },
   "outputs": [
    {
     "name": "stdout",
     "output_type": "stream",
     "text": [
      "딕셔너리는 리스트나 튜플과 달리 원소를 추가한 순서대로 데이터가 저장되어 있지 않기 때문에 딕셔너리에 추가한 데이터를 얻어오려면 'key'값을 통해서 'value' 값을 얻어와야 합니다. 위에서 'daeshin'이 key이고 30000이 value라고 했습니다. 따라서 cur_price라는 이름의 딕셔너리로부터 'daeshin'의 현재가를 얻어오려면 아래와 같이 'daeshin'이라는 key값을 사용하면 됩니다. 마찬가지로 'Daum KAKAO'라는 문자열이 key이므로 'Daum KAKAO'의 현재가도 'Daum KAKAO'라는 key를 통해서 얻어올 수 있습니다.\n"
     ]
    }
   ],
   "source": [
    "print \"딕셔너리는 리스트나 튜플과 달리 원소를 추가한 순서대로 데이터가 저장되어 있지 않기 때문에 딕셔너리에 추가한 데이터를 얻어오려면 'key'값을 통해서 'value' 값을 얻어와야 합니다. 위에서 'daeshin'이 key이고 30000이 value라고 했습니다. 따라서 cur_price라는 이름의 딕셔너리로부터 'daeshin'의 현재가를 얻어오려면 아래와 같이 'daeshin'이라는 key값을 사용하면 됩니다. 마찬가지로 'Daum KAKAO'라는 문자열이 key이므로 'Daum KAKAO'의 현재가도 'Daum KAKAO'라는 key를 통해서 얻어올 수 있습니다.\" "
   ]
  },
  {
   "cell_type": "markdown",
   "metadata": {},
   "source": [
    "# 딕셔너리 데이터 삽입 및 삭제"
   ]
  },
  {
   "cell_type": "code",
   "execution_count": 23,
   "metadata": {
    "collapsed": false
   },
   "outputs": [
    {
     "name": "stdout",
     "output_type": "stream",
     "text": [
      "딕셔너리에 데이터를 삽입하는 것은 앞서 이미 수행해 보았습니다. 딕셔너리에 데이터 삽입을 정리해보면, 딕셔너리는 리스트의 append 나 insert 같은 메소드를 지원하지 않으며 명시적으로 key, value 쌍을 넣어주어야 했습니다. 예제를 통해서 한 번 더 복습해보도록 하겠습니다. 위의 'cur_price'라는 딕셔너리의 'naver'의 현재가가 80,000원이라는 데이터를 추가해 봅시다.\n"
     ]
    }
   ],
   "source": [
    "print \"딕셔너리에 데이터를 삽입하는 것은 앞서 이미 수행해 보았습니다. 딕셔너리에 데이터 삽입을 정리해보면, 딕셔너리는 리스트의 append 나 insert 같은 메소드를 지원하지 않으며 명시적으로 key, value 쌍을 넣어주어야 했습니다. 예제를 통해서 한 번 더 복습해보도록 하겠습니다. 위의 'cur_price'라는 딕셔너리의 'naver'의 현재가가 80,000원이라는 데이터를 추가해 봅시다.\""
   ]
  },
  {
   "cell_type": "code",
   "execution_count": 24,
   "metadata": {
    "collapsed": false
   },
   "outputs": [
    {
     "data": {
      "text/plain": [
       "{'Daum KAKAO': 8000, 'daeshin': 30000, 'naver': 800000}"
      ]
     },
     "execution_count": 24,
     "metadata": {},
     "output_type": "execute_result"
    }
   ],
   "source": [
    "cur_price['naver'] = 800000\n",
    "cur_price"
   ]
  },
  {
   "cell_type": "code",
   "execution_count": 25,
   "metadata": {
    "collapsed": false
   },
   "outputs": [
    {
     "name": "stdout",
     "output_type": "stream",
     "text": [
      "위에서는 비어 있는 딕셔너리를 생성했었는데, 아래와 같이 딕셔너리를 생성할 때 초깃값을 넣어서 딕셔너리를 생성할 수도 있습니다.\n"
     ]
    }
   ],
   "source": [
    "print \"위에서는 비어 있는 딕셔너리를 생성했었는데, 아래와 같이 딕셔너리를 생성할 때 초깃값을 넣어서 딕셔너리를 생성할 수도 있습니다.\""
   ]
  },
  {
   "cell_type": "code",
   "execution_count": 26,
   "metadata": {
    "collapsed": false
   },
   "outputs": [
    {
     "data": {
      "text/plain": [
       "{'Daum KAKAO': 80000, 'daeshin': 30000, 'naver': 80000}"
      ]
     },
     "execution_count": 26,
     "metadata": {},
     "output_type": "execute_result"
    }
   ],
   "source": [
    "cur_price = {'Daum KAKAO' : 80000, 'naver' : 80000, 'daeshin' : 30000}\n",
    "cur_price"
   ]
  },
  {
   "cell_type": "code",
   "execution_count": 27,
   "metadata": {
    "collapsed": false
   },
   "outputs": [
    {
     "name": "stdout",
     "output_type": "stream",
     "text": [
      "딕셔너리 삭제는 key 값을 이용하면 됩니다.\n"
     ]
    }
   ],
   "source": [
    "print \"딕셔너리 삭제는 key 값을 이용하면 됩니다.\""
   ]
  },
  {
   "cell_type": "code",
   "execution_count": 28,
   "metadata": {
    "collapsed": false
   },
   "outputs": [
    {
     "data": {
      "text/plain": [
       "{'Daum KAKAO': 80000, 'naver': 80000}"
      ]
     },
     "execution_count": 28,
     "metadata": {},
     "output_type": "execute_result"
    }
   ],
   "source": [
    "del cur_price['daeshin']\n",
    "cur_price"
   ]
  },
  {
   "cell_type": "markdown",
   "metadata": {},
   "source": [
    "# 딕셔너리로부터 key, value 얻어오기"
   ]
  },
  {
   "cell_type": "code",
   "execution_count": 29,
   "metadata": {
    "collapsed": false
   },
   "outputs": [
    {
     "name": "stdout",
     "output_type": "stream",
     "text": [
      "딕셔너리에는 key, value 쌍이 입력된다고 했습니다. 그렇다면 딕셔너리에 있는 key 값들만을 얻어오려면 어떻게 해야 할까요? 파이썬의 딕셔너리는 이러한 기능을 위해 '딕셔너리이름.keys()'라고 호출하면 됩니다. 그런데 우리는 왜 딕셔너리로부터 key 값들만을 얻어와야 할까요?\n"
     ]
    }
   ],
   "source": [
    "print \"딕셔너리에는 key, value 쌍이 입력된다고 했습니다. 그렇다면 딕셔너리에 있는 key 값들만을 얻어오려면 어떻게 해야 할까요? 파이썬의 딕셔너리는 이러한 기능을 위해 '딕셔너리이름.keys()'라고 호출하면 됩니다. 그런데 우리는 왜 딕셔너리로부터 key 값들만을 얻어와야 할까요?\""
   ]
  },
  {
   "cell_type": "code",
   "execution_count": 31,
   "metadata": {
    "collapsed": false
   },
   "outputs": [
    {
     "name": "stdout",
     "output_type": "stream",
     "text": [
      "아래의 'cur_price'라는 이름의 딕셔너리에는 세 종목에 대한 현재가가 저장되어 있습니다. 여러분이 cur_price라는 딕셔너리를 통해서 어떤 주식 종목에 대한 현재가를 조회하고자 한다면, 먼저 해당 종목명이 cur_price라는 딕셔너리에 있는지를 확인해야 합니다. 이를 위해서는 cur_price라는 딕셔너리에서 key 값들을 얻어와야겠지요? 아래를 보면 key 값들을 얻기 위해서 딕셔너리의 이름인 'cur_price' 다음에 마침표를 하나 붙이고 keys()라고 적는 것을 확인할 수 있습니다. 이러한 방식은 리스트에서 insert 나 append와 같은 메소드의 호출 방식과 동일합니다. keys() 메소드의 리턴 값을 보면 'Daum KAKAO'와 'naver'가 파이썬의 리스트로 표현된 것 같기도 한데 그 앞에 'dict_keys'라는 것이 있습니다. 사실 keys() 메소드의 리턴 값은 리스트는 아니며, 리스트로 만들기 위해서는 list 라는 keyword를 사용해서 타입을 변환해야 합니다.\n"
     ]
    }
   ],
   "source": [
    "print \"아래의 'cur_price'라는 이름의 딕셔너리에는 세 종목에 대한 현재가가 저장되어 있습니다. 여러분이 cur_price라는 딕셔너리를 통해서 어떤 주식 종목에 대한 현재가를 조회하고자 한다면, 먼저 해당 종목명이 cur_price라는 딕셔너리에 있는지를 확인해야 합니다. 이를 위해서는 cur_price라는 딕셔너리에서 key 값들을 얻어와야겠지요? 아래를 보면 key 값들을 얻기 위해서 딕셔너리의 이름인 'cur_price' 다음에 마침표를 하나 붙이고 keys()라고 적는 것을 확인할 수 있습니다. 이러한 방식은 리스트에서 insert 나 append와 같은 메소드의 호출 방식과 동일합니다. keys() 메소드의 리턴 값을 보면 'Daum KAKAO'와 'naver'가 파이썬의 리스트로 표현된 것 같기도 한데 그 앞에 'dict_keys'라는 것이 있습니다. 사실 keys() 메소드의 리턴 값은 리스트는 아니며, 리스트로 만들기 위해서는 list 라는 keyword를 사용해서 타입을 변환해야 합니다.\""
   ]
  },
  {
   "cell_type": "code",
   "execution_count": 32,
   "metadata": {
    "collapsed": false
   },
   "outputs": [
    {
     "data": {
      "text/plain": [
       "['daeshin', 'Daum KAKAO', 'naver']"
      ]
     },
     "execution_count": 32,
     "metadata": {},
     "output_type": "execute_result"
    }
   ],
   "source": [
    "cur_price = {'Daum KAKAO': 80000, 'naver': 800000, 'daeshin':30000}\n",
    "cur_price.keys()"
   ]
  },
  {
   "cell_type": "code",
   "execution_count": 33,
   "metadata": {
    "collapsed": false
   },
   "outputs": [
    {
     "name": "stdout",
     "output_type": "stream",
     "text": [
      "아래는 'list'라는 키워드를 통해서 keys() 메소드의 리턴 값을 파이썬의 리스트 타입으로 변환하는 것에 대한 코드입니다.\n"
     ]
    }
   ],
   "source": [
    "print \"아래는 'list'라는 키워드를 통해서 keys() 메소드의 리턴 값을 파이썬의 리스트 타입으로 변환하는 것에 대한 코드입니다.\""
   ]
  },
  {
   "cell_type": "code",
   "execution_count": 34,
   "metadata": {
    "collapsed": false
   },
   "outputs": [
    {
     "data": {
      "text/plain": [
       "['daeshin', 'Daum KAKAO', 'naver']"
      ]
     },
     "execution_count": 34,
     "metadata": {},
     "output_type": "execute_result"
    }
   ],
   "source": [
    "list(cur_price.keys())"
   ]
  },
  {
   "cell_type": "code",
   "execution_count": 35,
   "metadata": {
    "collapsed": false
   },
   "outputs": [
    {
     "name": "stdout",
     "output_type": "stream",
     "text": [
      "그러나 이처럼 단순히 list를 통해서 리턴 값을 받으면 우리가 사용하기 어렵지요? 항상 변수를 통해서 리턴 값을 가리키게 해야 합니다. 아래의 코드와 같이 stock_list 라는 이름의 변수로 list의 리턴 값을 가리키도록 해봅시다. stock_list가 바인딩하고 있는 값을 보면 파이썬의 리스트임을 확인할 수 있습니다.\n"
     ]
    }
   ],
   "source": [
    "print \"그러나 이처럼 단순히 list를 통해서 리턴 값을 받으면 우리가 사용하기 어렵지요? 항상 변수를 통해서 리턴 값을 가리키게 해야 합니다. 아래의 코드와 같이 stock_list 라는 이름의 변수로 list의 리턴 값을 가리키도록 해봅시다. stock_list가 바인딩하고 있는 값을 보면 파이썬의 리스트임을 확인할 수 있습니다.\""
   ]
  },
  {
   "cell_type": "code",
   "execution_count": 36,
   "metadata": {
    "collapsed": false
   },
   "outputs": [
    {
     "data": {
      "text/plain": [
       "['daeshin', 'Daum KAKAO', 'naver']"
      ]
     },
     "execution_count": 36,
     "metadata": {},
     "output_type": "execute_result"
    }
   ],
   "source": [
    "stock_list = list(cur_price.keys())\n",
    "stock_list"
   ]
  },
  {
   "cell_type": "code",
   "execution_count": 37,
   "metadata": {
    "collapsed": false
   },
   "outputs": [
    {
     "name": "stdout",
     "output_type": "stream",
     "text": [
      "딕셔너리에서 key 목록을 얻어오는 것과 유사하게 value 값들의 목록을 얻어오기 위해서는 values()라는 메소드를 사용하면 됩니다. 아래와 같이 cur_price라는 딕셔너리에서 값들의 목록을 리스트로 만들어서 바인딩해봅시다.\n"
     ]
    }
   ],
   "source": [
    "print \"딕셔너리에서 key 목록을 얻어오는 것과 유사하게 value 값들의 목록을 얻어오기 위해서는 values()라는 메소드를 사용하면 됩니다. 아래와 같이 cur_price라는 딕셔너리에서 값들의 목록을 리스트로 만들어서 바인딩해봅시다.\""
   ]
  },
  {
   "cell_type": "code",
   "execution_count": 38,
   "metadata": {
    "collapsed": false
   },
   "outputs": [
    {
     "data": {
      "text/plain": [
       "[30000, 80000, 800000]"
      ]
     },
     "execution_count": 38,
     "metadata": {},
     "output_type": "execute_result"
    }
   ],
   "source": [
    "price_list = list(cur_price.values())\n",
    "price_list"
   ]
  },
  {
   "cell_type": "code",
   "execution_count": 39,
   "metadata": {
    "collapsed": false
   },
   "outputs": [
    {
     "name": "stdout",
     "output_type": "stream",
     "text": [
      "여러분이 'Samsung'이라는 이름의 종목의 현재가를 cur_price라는 딕셔너리로부터 얻어오는 것을 가정해 봅시다. 이를 위해서는 앞서 이야기한 것처럼 먼저 'Samsung'이라는 key 값이 cur_price 딕셔너리에 있는지를 확인해야 합니다. 딕셔너리의 key값은 key() 메소드를 통해서 얻을 수 있었지요? 아래와 같이 in 이라는 키워드와 keys() 메소드의 리턴 값을 이용하면 쉽게 조회할 수 있습니다. 아래의 코드를 한글로 해석해보면 'Samsung'이 keys()안에 있는가? 정도가 되겠습니다. 참고로 'in'이라는 영어단어는 '안에', '내에'라는 뜻을 가지고 있지요? 일단 아래의 코드 리턴 값을 보면 'False'라는 영어단어를 볼 수 있는데 이 단어는 '거짓의', '틀린'이라는 뜻을 가지고 있습니다. 즉, 'Samsung'이 cur_price라는 이름의 딕셔너리의 key에 있지 않다는 것을 알 수 있습니다.\n"
     ]
    }
   ],
   "source": [
    "print \"여러분이 'Samsung'이라는 이름의 종목의 현재가를 cur_price라는 딕셔너리로부터 얻어오는 것을 가정해 봅시다. 이를 위해서는 앞서 이야기한 것처럼 먼저 'Samsung'이라는 key 값이 cur_price 딕셔너리에 있는지를 확인해야 합니다. 딕셔너리의 key값은 key() 메소드를 통해서 얻을 수 있었지요? 아래와 같이 in 이라는 키워드와 keys() 메소드의 리턴 값을 이용하면 쉽게 조회할 수 있습니다. 아래의 코드를 한글로 해석해보면 'Samsung'이 keys()안에 있는가? 정도가 되겠습니다. 참고로 'in'이라는 영어단어는 '안에', '내에'라는 뜻을 가지고 있지요? 일단 아래의 코드 리턴 값을 보면 'False'라는 영어단어를 볼 수 있는데 이 단어는 '거짓의', '틀린'이라는 뜻을 가지고 있습니다. 즉, 'Samsung'이 cur_price라는 이름의 딕셔너리의 key에 있지 않다는 것을 알 수 있습니다.\""
   ]
  },
  {
   "cell_type": "code",
   "execution_count": 40,
   "metadata": {
    "collapsed": false
   },
   "outputs": [
    {
     "data": {
      "text/plain": [
       "False"
      ]
     },
     "execution_count": 40,
     "metadata": {},
     "output_type": "execute_result"
    }
   ],
   "source": [
    "'Samsung' in cur_price.keys()"
   ]
  },
  {
   "cell_type": "code",
   "execution_count": 41,
   "metadata": {
    "collapsed": false
   },
   "outputs": [
    {
     "data": {
      "text/plain": [
       "True"
      ]
     },
     "execution_count": 41,
     "metadata": {},
     "output_type": "execute_result"
    }
   ],
   "source": [
    "'naver' in cur_price.keys()"
   ]
  },
  {
   "cell_type": "code",
   "execution_count": 42,
   "metadata": {
    "collapsed": false
   },
   "outputs": [
    {
     "name": "stdout",
     "output_type": "stream",
     "text": [
      "'naver'는 'cur_price'라는 이름의 딕셔너리의 key 중 하나이기 때문에 아래와 같이 key를 통해서 현재가 데이터를 얻어올 수 있습니다. 그러나 'Samsung'은 key에 포함되어 있지 않기 때문에 'Samsung'이라는 key를 이용하면 에러가 발생하게 됩니다. \n"
     ]
    }
   ],
   "source": [
    "print \"'naver'는 'cur_price'라는 이름의 딕셔너리의 key 중 하나이기 때문에 아래와 같이 key를 통해서 현재가 데이터를 얻어올 수 있습니다. 그러나 'Samsung'은 key에 포함되어 있지 않기 때문에 'Samsung'이라는 key를 이용하면 에러가 발생하게 됩니다. \""
   ]
  },
  {
   "cell_type": "code",
   "execution_count": 43,
   "metadata": {
    "collapsed": false
   },
   "outputs": [
    {
     "data": {
      "text/plain": [
       "800000"
      ]
     },
     "execution_count": 43,
     "metadata": {},
     "output_type": "execute_result"
    }
   ],
   "source": [
    "cur_price['naver']"
   ]
  },
  {
   "cell_type": "code",
   "execution_count": 44,
   "metadata": {
    "collapsed": false
   },
   "outputs": [
    {
     "ename": "KeyError",
     "evalue": "'Samsung'",
     "output_type": "error",
     "traceback": [
      "\u001b[0;31m---------------------------------------------------------------------------\u001b[0m",
      "\u001b[0;31mKeyError\u001b[0m                                  Traceback (most recent call last)",
      "\u001b[0;32m<ipython-input-44-dccc00874860>\u001b[0m in \u001b[0;36m<module>\u001b[0;34m()\u001b[0m\n\u001b[0;32m----> 1\u001b[0;31m \u001b[0mcur_price\u001b[0m\u001b[1;33m[\u001b[0m\u001b[1;34m'Samsung'\u001b[0m\u001b[1;33m]\u001b[0m\u001b[1;33m\u001b[0m\u001b[0m\n\u001b[0m",
      "\u001b[0;31mKeyError\u001b[0m: 'Samsung'"
     ]
    }
   ],
   "source": [
    "cur_price['Samsung']"
   ]
  },
  {
   "cell_type": "code",
   "execution_count": 45,
   "metadata": {
    "collapsed": false
   },
   "outputs": [
    {
     "data": {
      "text/plain": [
       "[474500, 461500, 501000, 500500, 488500]"
      ]
     },
     "execution_count": 45,
     "metadata": {},
     "output_type": "execute_result"
    }
   ],
   "source": [
    "naver_end_price = [474500, 461500, 501000, 500500, 488500]\n",
    "naver_end_price"
   ]
  },
  {
   "cell_type": "code",
   "execution_count": 46,
   "metadata": {
    "collapsed": false
   },
   "outputs": [
    {
     "data": {
      "text/plain": [
       "501000"
      ]
     },
     "execution_count": 46,
     "metadata": {},
     "output_type": "execute_result"
    }
   ],
   "source": [
    "max_price = max(naver_end_price)\n",
    "max_price"
   ]
  },
  {
   "cell_type": "code",
   "execution_count": 47,
   "metadata": {
    "collapsed": false
   },
   "outputs": [
    {
     "data": {
      "text/plain": [
       "461500"
      ]
     },
     "execution_count": 47,
     "metadata": {},
     "output_type": "execute_result"
    }
   ],
   "source": [
    "min_price = min(naver_end_price)\n",
    "min_price"
   ]
  },
  {
   "cell_type": "code",
   "execution_count": 48,
   "metadata": {
    "collapsed": false
   },
   "outputs": [
    {
     "name": "stdout",
     "output_type": "stream",
     "text": [
      "가격차: 39500\n"
     ]
    }
   ],
   "source": [
    "naver_end_price = [474500, 461500, 501000, 500500, 488500]\n",
    "max_price = max(naver_end_price)\n",
    "min_price = min(naver_end_price)\n",
    "print \"가격차:\", max_price - min_price"
   ]
  },
  {
   "cell_type": "code",
   "execution_count": 49,
   "metadata": {
    "collapsed": false
   },
   "outputs": [
    {
     "name": "stdout",
     "output_type": "stream",
     "text": [
      "수요일 종가: 501000\n"
     ]
    }
   ],
   "source": [
    "print \"수요일 종가:\", naver_end_price[2]"
   ]
  },
  {
   "cell_type": "markdown",
   "metadata": {},
   "source": [
    "### 딕셔너리 결합하기 : update()"
   ]
  },
  {
   "cell_type": "code",
   "execution_count": 43,
   "metadata": {
    "collapsed": false
   },
   "outputs": [
    {
     "data": {
      "text/plain": [
       "{'Chapman': 'Graham', 'Cleese': 'John', 'Gilliam': 'Terry', 'Idle': 'Eric'}"
      ]
     },
     "execution_count": 43,
     "metadata": {},
     "output_type": "execute_result"
    }
   ],
   "source": [
    "pythons = { 'Chapman' : 'Graham', 'Cleese' : 'John', 'Gilliam' : 'Terry', 'Idle' : 'Eric'}\n",
    "pythons"
   ]
  },
  {
   "cell_type": "code",
   "execution_count": 45,
   "metadata": {
    "collapsed": false
   },
   "outputs": [
    {
     "data": {
      "text/plain": [
       "{'Cel': 'Robox', 'Mu': 'As'}"
      ]
     },
     "execution_count": 45,
     "metadata": {},
     "output_type": "execute_result"
    }
   ],
   "source": [
    "others = {'Mu' : 'As', 'Cel' : 'Robox'}\n",
    "others"
   ]
  },
  {
   "cell_type": "code",
   "execution_count": 46,
   "metadata": {
    "collapsed": false
   },
   "outputs": [
    {
     "data": {
      "text/plain": [
       "{'Cel': 'Robox',\n",
       " 'Chapman': 'Graham',\n",
       " 'Cleese': 'John',\n",
       " 'Gilliam': 'Terry',\n",
       " 'Idle': 'Eric',\n",
       " 'Mu': 'As'}"
      ]
     },
     "execution_count": 46,
     "metadata": {},
     "output_type": "execute_result"
    }
   ],
   "source": [
    "pythons.update(others)\n",
    "pythons"
   ]
  },
  {
   "cell_type": "markdown",
   "metadata": {},
   "source": [
    "두 번째 딕셔너리를 첫 번째 딕셔너리에 병합하려고 하는데, 두 딕셔너리에 같은 키값이 있다면 무슨 일이 벌어질까? 두 번째 딕셔너리에 있는 값이 승리한다."
   ]
  },
  {
   "cell_type": "code",
   "execution_count": 47,
   "metadata": {
    "collapsed": false
   },
   "outputs": [
    {
     "data": {
      "text/plain": [
       "{'a': 1, 'b': 'ball'}"
      ]
     },
     "execution_count": 47,
     "metadata": {},
     "output_type": "execute_result"
    }
   ],
   "source": [
    "first = { 'a' : 1 , 'b' : 2}\n",
    "second = { 'b' : 'ball'}\n",
    "first.update(second)\n",
    "first"
   ]
  },
  {
   "cell_type": "markdown",
   "metadata": {},
   "source": [
    "### in으로 키 멤버십 테스트하기"
   ]
  },
  {
   "cell_type": "markdown",
   "metadata": {},
   "source": [
    "딕셔너리에 키가 존재하는지 알고 싶다면 in을 사용한다. "
   ]
  },
  {
   "cell_type": "code",
   "execution_count": 49,
   "metadata": {
    "collapsed": false
   },
   "outputs": [
    {
     "data": {
      "text/plain": [
       "True"
      ]
     },
     "execution_count": 49,
     "metadata": {},
     "output_type": "execute_result"
    }
   ],
   "source": [
    "'Cel' in pythons"
   ]
  },
  {
   "cell_type": "code",
   "execution_count": 51,
   "metadata": {
    "collapsed": false
   },
   "outputs": [
    {
     "data": {
      "text/plain": [
       "True"
      ]
     },
     "execution_count": 51,
     "metadata": {},
     "output_type": "execute_result"
    }
   ],
   "source": [
    "'Mu' in pythons"
   ]
  },
  {
   "cell_type": "markdown",
   "metadata": {},
   "source": [
    "### 항목 얻기 : [key]\n",
    "\n",
    "이것은 딕셔너리에서 가장 일반적인 용도다. 딕셔너리에 키를 지정하여 상응하는 값을 얻는다. \n",
    "두 번째 방법은 딕셔너리의 get() 함수를 사용하는 것이다. 이 함수는 딕셔너리, 키, 옵션값을 사용한다. 만약 키가 존재하면, 그 값을 얻는다.  "
   ]
  },
  {
   "cell_type": "code",
   "execution_count": 52,
   "metadata": {
    "collapsed": false
   },
   "outputs": [
    {
     "data": {
      "text/plain": [
       "'Robox'"
      ]
     },
     "execution_count": 52,
     "metadata": {},
     "output_type": "execute_result"
    }
   ],
   "source": [
    "pythons['Cel']"
   ]
  },
  {
   "cell_type": "code",
   "execution_count": 53,
   "metadata": {
    "collapsed": false
   },
   "outputs": [
    {
     "data": {
      "text/plain": [
       "'Robox'"
      ]
     },
     "execution_count": 53,
     "metadata": {},
     "output_type": "execute_result"
    }
   ],
   "source": [
    "pythons.get('Cel')"
   ]
  },
  {
   "cell_type": "markdown",
   "metadata": {},
   "source": [
    "### 모든 키 얻기 : keys()\n",
    "\n",
    "딕셔너리의 모든 키를 가져오기 위해서는 keys() 를 사용한다. 다음 몇몇 예제를 위해 아래 딕셔너리를 사용할 것이다. "
   ]
  },
  {
   "cell_type": "code",
   "execution_count": 54,
   "metadata": {
    "collapsed": false
   },
   "outputs": [
    {
     "data": {
      "text/plain": [
       "['yello', 'green', 'red']"
      ]
     },
     "execution_count": 54,
     "metadata": {},
     "output_type": "execute_result"
    }
   ],
   "source": [
    "signals = {'green':'go' , 'yello' : 'go faster', 'red' : 'smile for the camera'}\n",
    "signals.keys()"
   ]
  },
  {
   "cell_type": "markdown",
   "metadata": {},
   "source": [
    "### 모든 값 얻기 : values()\n",
    "\n",
    "딕셔너리의 모든 값을 가져오기 위해서는 values() 를 사용한다. "
   ]
  },
  {
   "cell_type": "code",
   "execution_count": 55,
   "metadata": {
    "collapsed": false
   },
   "outputs": [
    {
     "data": {
      "text/plain": [
       "['go faster', 'go', 'smile for the camera']"
      ]
     },
     "execution_count": 55,
     "metadata": {},
     "output_type": "execute_result"
    }
   ],
   "source": [
    "list(signals.values())\n"
   ]
  },
  {
   "cell_type": "markdown",
   "metadata": {},
   "source": [
    "### 모든 쌍의 키 - 값 얻기 : items()\n",
    "\n",
    "딕셔너리의 모든 쌍의 키와 값을 얻기 위해서는 items()를 사용한다. "
   ]
  },
  {
   "cell_type": "code",
   "execution_count": 56,
   "metadata": {
    "collapsed": false
   },
   "outputs": [
    {
     "data": {
      "text/plain": [
       "[('yello', 'go faster'), ('green', 'go'), ('red', 'smile for the camera')]"
      ]
     },
     "execution_count": 56,
     "metadata": {},
     "output_type": "execute_result"
    }
   ],
   "source": [
    "list(signals.items())"
   ]
  },
  {
   "cell_type": "markdown",
   "metadata": {},
   "source": [
    "각 키와 값은 ('green', 'go')와 같이 튜플로 반환된다."
   ]
  },
  {
   "cell_type": "markdown",
   "metadata": {},
   "source": [
    "### 할당 : = , 복사 : copy()\n",
    "\n",
    "리스트와 마찬가지로 딕셔너리를 할당한 후 변경할 때 딕셔너리를 참조하는 모든 이름에 변경된 딕셔너리를 반영한다. "
   ]
  },
  {
   "cell_type": "code",
   "execution_count": 59,
   "metadata": {
    "collapsed": false
   },
   "outputs": [
    {
     "data": {
      "text/plain": [
       "{'blue': 'confuse everyone',\n",
       " 'green': 'go',\n",
       " 'red': 'smile for the camera',\n",
       " 'yello': 'go faster'}"
      ]
     },
     "execution_count": 59,
     "metadata": {},
     "output_type": "execute_result"
    }
   ],
   "source": [
    "signals"
   ]
  },
  {
   "cell_type": "code",
   "execution_count": 58,
   "metadata": {
    "collapsed": false
   },
   "outputs": [
    {
     "data": {
      "text/plain": [
       "{'blue': 'confuse everyone',\n",
       " 'green': 'go',\n",
       " 'red': 'smile for the camera',\n",
       " 'yello': 'go faster'}"
      ]
     },
     "execution_count": 58,
     "metadata": {},
     "output_type": "execute_result"
    }
   ],
   "source": [
    "save_signals = signals\n",
    "signals['blue'] = 'confuse everyone'\n",
    "save_signals"
   ]
  },
  {
   "cell_type": "markdown",
   "metadata": {},
   "source": [
    "그러므로 딕셔너리의 키와 값을 또 다른 딕셔너리로 복사하기 위해서는 위와 같이 할당하지 않고 copy() 를 사용한다. "
   ]
  },
  {
   "cell_type": "code",
   "execution_count": 60,
   "metadata": {
    "collapsed": false
   },
   "outputs": [
    {
     "data": {
      "text/plain": [
       "{'blue': 'confuse everyone',\n",
       " 'green': 'go',\n",
       " 'red': 'smile for the camera',\n",
       " 'yello': 'go faster'}"
      ]
     },
     "execution_count": 60,
     "metadata": {},
     "output_type": "execute_result"
    }
   ],
   "source": [
    "signals # 이렇게 원본이 훼손돼 버리므로"
   ]
  },
  {
   "cell_type": "code",
   "execution_count": 61,
   "metadata": {
    "collapsed": false
   },
   "outputs": [
    {
     "data": {
      "text/plain": [
       "{'blue': 'confuse everyone',\n",
       " 'green': 'go',\n",
       " 'red': 'smile for the camera',\n",
       " 'yello': 'go faster'}"
      ]
     },
     "execution_count": 61,
     "metadata": {},
     "output_type": "execute_result"
    }
   ],
   "source": [
    "signals = {'green':'go' , 'yello' : 'go faster', 'red' : 'smile for the camera'}\n",
    "original_signals = signals.copy()\n",
    "signals['blue'] = 'confuse everyone'\n",
    "signals"
   ]
  },
  {
   "cell_type": "code",
   "execution_count": 62,
   "metadata": {
    "collapsed": false,
    "scrolled": true
   },
   "outputs": [
    {
     "data": {
      "text/plain": [
       "{'green': 'go', 'red': 'smile for the camera', 'yello': 'go faster'}"
      ]
     },
     "execution_count": 62,
     "metadata": {},
     "output_type": "execute_result"
    }
   ],
   "source": [
    "original_signals"
   ]
  },
  {
   "cell_type": "markdown",
   "metadata": {
    "collapsed": true
   },
   "source": [
    "# Lambda"
   ]
  },
  {
   "cell_type": "code",
   "execution_count": 7,
   "metadata": {
    "collapsed": false
   },
   "outputs": [
    {
     "data": {
      "text/plain": [
       "[1, 4, 9, 16, 25, 36, 49, 64, 81]"
      ]
     },
     "execution_count": 7,
     "metadata": {},
     "output_type": "execute_result"
    }
   ],
   "source": [
    "def square(x):\n",
    "    return x ** 2\n",
    "\n",
    "result = []\n",
    "for i in range(1, 10):\n",
    "    result.append(square(i))\n",
    "    \n",
    "result\n"
   ]
  },
  {
   "cell_type": "markdown",
   "metadata": {},
   "source": [
    "Lambda는 익명함수라고도 하는데 재사용되지 않을 1회성 함수를 간단하게 사용하기 위해 Lambda 함수를 적용한다. 여기서는 lambda의 x파라미터로 i를 받아 제곱하여 반환시켜주고 있다."
   ]
  },
  {
   "cell_type": "code",
   "execution_count": 9,
   "metadata": {
    "collapsed": false
   },
   "outputs": [
    {
     "data": {
      "text/plain": [
       "[1, 4, 9, 16, 25, 36, 49, 64, 81]"
      ]
     },
     "execution_count": 9,
     "metadata": {},
     "output_type": "execute_result"
    }
   ],
   "source": [
    "result = []\n",
    "for i in range(1, 10):\n",
    "    result.append((lambda x : x ** 2)(i))\n",
    "    \n",
    "result"
   ]
  },
  {
   "cell_type": "code",
   "execution_count": 10,
   "metadata": {
    "collapsed": false
   },
   "outputs": [
    {
     "data": {
      "text/plain": [
       "[1, 4, 9, 16, 25, 36, 49, 64, 81]"
      ]
     },
     "execution_count": 10,
     "metadata": {},
     "output_type": "execute_result"
    }
   ],
   "source": [
    "result = [i ** 2 for i in range(1, 10)]\n",
    "result"
   ]
  },
  {
   "cell_type": "markdown",
   "metadata": {},
   "source": [
    "보는 것처럼 간단하게 한 줄로 result에 원하는 데이터를 넣었다. 이 List Comprehension 덕분에 매우 간편하게 변수에 원하는 데이터를 넣을 수 있다. 이제 기능을 좀 더 확장시켜보자. 원하는 범위 중 짝수만 넣어서 제곱하고 싶다면?"
   ]
  },
  {
   "cell_type": "code",
   "execution_count": 11,
   "metadata": {
    "collapsed": false
   },
   "outputs": [
    {
     "data": {
      "text/plain": [
       "[4, 16, 36, 64]"
      ]
     },
     "execution_count": 11,
     "metadata": {},
     "output_type": "execute_result"
    }
   ],
   "source": [
    "result = [ i** 2 for i in range(1, 10) if i % 2 == 0]\n",
    "result"
   ]
  },
  {
   "cell_type": "markdown",
   "metadata": {},
   "source": [
    "5까지는 제곱, 6이상은 세제곱 수를 얻고 싶다면?"
   ]
  },
  {
   "cell_type": "code",
   "execution_count": 12,
   "metadata": {
    "collapsed": false
   },
   "outputs": [
    {
     "data": {
      "text/plain": [
       "[1, 4, 9, 16, 25, 216, 343, 512, 729]"
      ]
     },
     "execution_count": 12,
     "metadata": {},
     "output_type": "execute_result"
    }
   ],
   "source": [
    "result = [ i** 2 if i < 6 else i ** 3 for i in range(1, 10)]\n",
    "result"
   ]
  },
  {
   "cell_type": "code",
   "execution_count": null,
   "metadata": {
    "collapsed": true
   },
   "outputs": [],
   "source": []
  }
 ],
 "metadata": {
  "kernelspec": {
   "display_name": "Python 2",
   "language": "python",
   "name": "python2"
  },
  "language_info": {
   "codemirror_mode": {
    "name": "ipython",
    "version": 2
   },
   "file_extension": ".py",
   "mimetype": "text/x-python",
   "name": "python",
   "nbconvert_exporter": "python",
   "pygments_lexer": "ipython2",
   "version": "2.7.12"
  }
 },
 "nbformat": 4,
 "nbformat_minor": 1
}
