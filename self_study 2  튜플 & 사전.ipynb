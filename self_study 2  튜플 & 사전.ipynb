{
 "cells": [
  {
   "cell_type": "markdown",
   "metadata": {},
   "source": [
    "## 튜플(Tuple)"
   ]
  },
  {
   "cell_type": "markdown",
   "metadata": {},
   "source": [
    "* list & tuple\n",
    "  ** list -mutable (자유롭게 값이 변경 될 수 있다.)\n",
    "  ** tuple - immutable (한번 생성되면 값을 바꿀 수 없다)\n",
    "\n",
    "* why tuple?\n",
    "  ** 더 적은 메모리 사용\n",
    "  ** immutable(불변)이기 때문에, 실수로 값이 바뀌지 않음"
   ]
  },
  {
   "cell_type": "code",
   "execution_count": 1,
   "metadata": {
    "collapsed": false,
    "scrolled": true
   },
   "outputs": [
    {
     "name": "stdout",
     "output_type": "stream",
     "text": [
      "튜플은 리스트와 매우 비슷합니다. 튜플과 리스트가 서로 다른점이 있다면, 대괄호 대신에 소괄호로 묶어서 표현하며 리스트는 요소의 변경이 가능한 반면에 튜플은 요소의 변경이 불가능하다는 특징을 지니고 있습니다. \n",
      "\n",
      "즉 읽을 수는 있지만 쓸 수는 없는 것과 같은 것입니다.\n"
     ]
    }
   ],
   "source": [
    "print \"튜플은 리스트와 매우 비슷합니다. 튜플과 리스트가 서로 다른점이 있다면, 대괄호 대신에 소괄호로 묶어서 표현하며 리스트는 요소의 변경이 가능한 반면에 튜플은 요소의 변경이 불가능하다는 특징을 지니고 있습니다. \\n\\n즉 읽을 수는 있지만 쓸 수는 없는 것과 같은 것입니다.\""
   ]
  },
  {
   "cell_type": "code",
   "execution_count": 52,
   "metadata": {
    "collapsed": false,
    "scrolled": true
   },
   "outputs": [
    {
     "name": "stdout",
     "output_type": "stream",
     "text": [
      "[1, 4, 5, 3]\n",
      "[]\n",
      "['Aarom', 'David', 'Bill', 'Michael', 'John']\n",
      "[]\n"
     ]
    }
   ],
   "source": [
    "empty_list = []\n",
    "first_names = ['Aarom', 'David', 'Bill', 'Michael', 'John']\n",
    "\n",
    "nums = [1, 4, 5, 3]\n",
    "\n",
    "print nums\n",
    "\n",
    "print empty_list\n",
    "print first_names\n",
    "\n",
    "empty_list2 = list()\n",
    "print empty_list2"
   ]
  },
  {
   "cell_type": "code",
   "execution_count": 62,
   "metadata": {
    "collapsed": false
   },
   "outputs": [
    {
     "name": "stdout",
     "output_type": "stream",
     "text": [
      "(1, 2, 3, 4)\n",
      "('1', '2', '3', '4')\n"
     ]
    }
   ],
   "source": [
    "print tuple([1, 2, 3, 4])\n",
    "print tuple('1234')\n",
    "\n",
    "# 다른 객체를 튜플로 변경함"
   ]
  },
  {
   "cell_type": "code",
   "execution_count": 61,
   "metadata": {
    "collapsed": false
   },
   "outputs": [
    {
     "name": "stdout",
     "output_type": "stream",
     "text": [
      "()\n",
      "aaron\n",
      "('aaron2',)\n",
      "('a', 'b', 'c')\n"
     ]
    }
   ],
   "source": [
    "empty_tuple = ()\n",
    "print empty_tuple\n",
    "\n",
    "one_tuple = 'aaron'\n",
    "another_tuple = ( 'aaron2', )\n",
    "\n",
    "print one_tuple\n",
    "print another_tuple\n",
    "\n",
    "more_tuple = ('a', 'b', 'c')\n",
    "print more_tuple"
   ]
  },
  {
   "cell_type": "markdown",
   "metadata": {},
   "source": [
    "* 연습문제\n",
    " 1. 임의의 이메일 주소를 받아서 사용자 아이디와 도메인을 각각 추출 후, 출력하시오\n",
    "   e.g) apple@google.com을 사용자명(apple)과 도메인(google.com)으로 분리"
   ]
  },
  {
   "cell_type": "code",
   "execution_count": 64,
   "metadata": {
    "collapsed": false
   },
   "outputs": [
    {
     "name": "stdout",
     "output_type": "stream",
     "text": [
      "pioneer_vit naver.com\n"
     ]
    }
   ],
   "source": [
    "a = 'pioneer_vit@naver.com'\n",
    "name, domain = tuple(a.split('@'))\n",
    "print name, domain"
   ]
  },
  {
   "cell_type": "markdown",
   "metadata": {},
   "source": [
    "* list() 함수\n",
    "* 다른 데이터 타입을 리스트로 변환할 때 사용"
   ]
  },
  {
   "cell_type": "code",
   "execution_count": 53,
   "metadata": {
    "collapsed": false
   },
   "outputs": [
    {
     "name": "stdout",
     "output_type": "stream",
     "text": [
      "['c', 'a', 't']\n",
      "<type 'tuple'>\n",
      "['Monday', 'Tuesday', 'Wednesday'] <type 'list'>\n"
     ]
    }
   ],
   "source": [
    "cat = 'cat'\n",
    "print list(cat)\n",
    "\n",
    "test_tuple = ('Monday', 'Tuesday', 'Wednesday')\n",
    "print type(test_tuple)\n",
    "print list(test_tuple), type(list(test_tuple))"
   ]
  },
  {
   "cell_type": "markdown",
   "metadata": {},
   "source": [
    "* string split 함수"
   ]
  },
  {
   "cell_type": "code",
   "execution_count": 58,
   "metadata": {
    "collapsed": false
   },
   "outputs": [
    {
     "name": "stdout",
     "output_type": "stream",
     "text": [
      "['1985/', '3/2', '']\n",
      "['python', 'is', 'easy', 'to', 'learn']\n"
     ]
    }
   ],
   "source": [
    "my_birth_day = '1985/03/20'\n",
    "result = my_birth_day.split('0')\n",
    "\n",
    "print result\n",
    "\n",
    "python_str = 'python is easy to learn'\n",
    "print python_str.split()"
   ]
  },
  {
   "cell_type": "code",
   "execution_count": 3,
   "metadata": {
    "collapsed": false
   },
   "outputs": [
    {
     "ename": "SyntaxError",
     "evalue": "invalid syntax (<ipython-input-3-24e2096b7256>, line 3)",
     "output_type": "error",
     "traceback": [
      "\u001b[0;36m  File \u001b[0;32m\"<ipython-input-3-24e2096b7256>\"\u001b[0;36m, line \u001b[0;32m3\u001b[0m\n\u001b[0;31m    class 'tuples'\u001b[0m\n\u001b[0m                 ^\u001b[0m\n\u001b[0;31mSyntaxError\u001b[0m\u001b[0;31m:\u001b[0m invalid syntax\n"
     ]
    }
   ],
   "source": [
    "tuples = (1, 2, 3, 4, 5)\n",
    "type(tuples)\n",
    "class 'tuples'\n",
    "\n",
    "# 밑에 오류는 아무것도 아니다. 값을 내는게 아니므로"
   ]
  },
  {
   "cell_type": "code",
   "execution_count": 4,
   "metadata": {
    "collapsed": false
   },
   "outputs": [
    {
     "name": "stdout",
     "output_type": "stream",
     "text": [
      "위 예제의 1행을 보시면, 요소들을 소괄호로 묶었으며 쉼표(,)로 각각의 요소를 구분한다는 것을 확인하실 수 있습니다. \n",
      "1행의 형식뿐만 아니라, 둘러싸고 있는 소괄호를 제거하거나 리스트와 똑같이 튜플 안에 튜플을 요소로 가질 수 있습니다.\n"
     ]
    }
   ],
   "source": [
    "print \"위 예제의 1행을 보시면, 요소들을 소괄호로 묶었으며 쉼표(,)로 각각의 요소를 구분한다는 것을 확인하실 수 있습니다. \\n1행의 형식뿐만 아니라, 둘러싸고 있는 소괄호를 제거하거나 리스트와 똑같이 튜플 안에 튜플을 요소로 가질 수 있습니다.\""
   ]
  },
  {
   "cell_type": "code",
   "execution_count": 5,
   "metadata": {
    "collapsed": true
   },
   "outputs": [],
   "source": [
    "tuples = ('a' ,)\n",
    "tuples = 'a', 'b', 'c'\n",
    "tuples = ('a', 'b', ('c', 'd'))"
   ]
  },
  {
   "cell_type": "code",
   "execution_count": 7,
   "metadata": {
    "collapsed": false
   },
   "outputs": [
    {
     "name": "stdout",
     "output_type": "stream",
     "text": [
      "위 예제의 1행을 보면 튜플의 마지막에 쉼표가 포함된 것을 볼 수 있는데 이것은 요소 한개를 가지는 튜플을 만드려고 할 때 마지막에 쉼표를 넣어주어야 합니다. \n",
      "\n",
      "만약 저 쉼표가 없다면, 소괄호로 둘러싸인 문자열로 취급을 하기 때문에 그렇습니다. 그리고 2행처럼 소괄호로 둘러싸지 않은 형식을 사용할 수 있으며, 3행 처럼 튜플 내에서 튜플을 요소로 가질 수 있다는 것을 알 수 있습니다.\n",
      "\n",
      "이러한 튜플을 통해서, 임시로 값을 저장하는 변수가 필요없이 아래의 예제와 같이 두 변수의 값을 서로 바꿀수도 있습니다.\n"
     ]
    }
   ],
   "source": [
    "print \"위 예제의 1행을 보면 튜플의 마지막에 쉼표가 포함된 것을 볼 수 있는데 이것은 요소 한개를 가지는 튜플을 만드려고 할 때 마지막에 쉼표를 넣어주어야 합니다. \\n\\n만약 저 쉼표가 없다면, 소괄호로 둘러싸인 문자열로 취급을 하기 때문에 그렇습니다. 그리고 2행처럼 소괄호로 둘러싸지 않은 형식을 사용할 수 있으며, 3행 처럼 튜플 내에서 튜플을 요소로 가질 수 있다는 것을 알 수 있습니다.\\n\\n이러한 튜플을 통해서, 임시로 값을 저장하는 변수가 필요없이 아래의 예제와 같이 두 변수의 값을 서로 바꿀수도 있습니다.\""
   ]
  },
  {
   "cell_type": "code",
   "execution_count": 8,
   "metadata": {
    "collapsed": false
   },
   "outputs": [
    {
     "name": "stdout",
     "output_type": "stream",
     "text": [
      "(10, 20)\n"
     ]
    }
   ],
   "source": [
    "a, b = 10 , 20\n",
    "print(a, b)"
   ]
  },
  {
   "cell_type": "code",
   "execution_count": 9,
   "metadata": {
    "collapsed": false
   },
   "outputs": [
    {
     "name": "stdout",
     "output_type": "stream",
     "text": [
      "(20, 10)\n"
     ]
    }
   ],
   "source": [
    "a, b = b , a\n",
    "print(a, b)"
   ]
  },
  {
   "cell_type": "code",
   "execution_count": 10,
   "metadata": {
    "collapsed": false
   },
   "outputs": [
    {
     "name": "stdout",
     "output_type": "stream",
     "text": [
      "위 예제의 1행에서는 10이 a에 b에 들어간다는 2~3행을 통해 알 수 있으며 4행에서는 b의 값이 a에, a의 값이 b에 들어감으로써 서로 값이 바뀐다는 것을 5~6행을 통해 알 수 있습니다. 여기서, 왼쪽과 오른쪽에 있는 값의 갯수는 일치해야 한다는 것을 기억해야 합니다.\n"
     ]
    }
   ],
   "source": [
    "print \"위 예제의 1행에서는 10이 a에 b에 들어간다는 2~3행을 통해 알 수 있으며 4행에서는 b의 값이 a에, a의 값이 b에 들어감으로써 서로 값이 바뀐다는 것을 5~6행을 통해 알 수 있습니다. 여기서, 왼쪽과 오른쪽에 있는 값의 갯수는 일치해야 한다는 것을 기억해야 합니다.\""
   ]
  },
  {
   "cell_type": "markdown",
   "metadata": {},
   "source": [
    "## 튜플에서의 인덱싱과 슬라이싱"
   ]
  },
  {
   "cell_type": "markdown",
   "metadata": {},
   "source": [
    "### 문자열과리스트와 마찬가지로 튜플에서도 역시 인덱싱과 슬라이싱이라는 개념이 존재합니다."
   ]
  },
  {
   "cell_type": "code",
   "execution_count": 11,
   "metadata": {
    "collapsed": false
   },
   "outputs": [
    {
     "data": {
      "text/plain": [
       "1"
      ]
     },
     "execution_count": 11,
     "metadata": {},
     "output_type": "execute_result"
    }
   ],
   "source": [
    "tuples = (0, 1, 2, 3, 4, 5, 6)\n",
    "tuples[1]"
   ]
  },
  {
   "cell_type": "code",
   "execution_count": 13,
   "metadata": {
    "collapsed": false
   },
   "outputs": [
    {
     "data": {
      "text/plain": [
       "(1, 2)"
      ]
     },
     "execution_count": 13,
     "metadata": {},
     "output_type": "execute_result"
    }
   ],
   "source": [
    "tuples[1:3]"
   ]
  },
  {
   "cell_type": "code",
   "execution_count": 59,
   "metadata": {
    "collapsed": false
   },
   "outputs": [
    {
     "name": "stdout",
     "output_type": "stream",
     "text": [
      "[['sinsa', 'gnagnam', 'jogro'], ['pangyo', 'gwacheon', 'guri', 1, 2, 100], ['seogwipo', 123.3], 'pyungchang']\n",
      "['sinsa', 'gnagnam', 'jogro']\n",
      "jogro\n"
     ]
    }
   ],
   "source": [
    "seoul = ['sinsa', 'gnagnam', 'jogro']\n",
    "gyeonggi = ['pangyo', 'gwacheon', 'guri', 1, 2, 100]\n",
    "jeju = ['seogwipo', 123.3]\n",
    "\n",
    "korea = [seoul, gyeonggi, jeju, 'pyungchang']\n",
    "\n",
    "print korea\n",
    "print korea[0]\n",
    "print korea[0][-1] # seoul에서 종로"
   ]
  },
  {
   "cell_type": "markdown",
   "metadata": {},
   "source": [
    "# 튜플에서의 연산자"
   ]
  },
  {
   "cell_type": "code",
   "execution_count": 14,
   "metadata": {
    "collapsed": false
   },
   "outputs": [
    {
     "data": {
      "text/plain": [
       "('a', 'b', 'c', 'd', 'e', 'f')"
      ]
     },
     "execution_count": 14,
     "metadata": {},
     "output_type": "execute_result"
    }
   ],
   "source": [
    "tuples = ('a', 'b', 'c')\n",
    "tuples + ('d', 'e', 'f')"
   ]
  },
  {
   "cell_type": "code",
   "execution_count": 15,
   "metadata": {
    "collapsed": false
   },
   "outputs": [
    {
     "data": {
      "text/plain": [
       "('a', 'b', 'c', 'a', 'b', 'c', 'a', 'b', 'c')"
      ]
     },
     "execution_count": 15,
     "metadata": {},
     "output_type": "execute_result"
    }
   ],
   "source": [
    "tuples * 3"
   ]
  },
  {
   "cell_type": "markdown",
   "metadata": {},
   "source": [
    "# 사전(Dictionary)"
   ]
  },
  {
   "cell_type": "markdown",
   "metadata": {},
   "source": [
    "* dictionary\n",
    " + 키와 값을 갖는 data structure\n",
    " + 키는 해쉬값으로 저장됨\n",
    " + 순서를 따지지 않음. 즉, 인덱스가 없음"
   ]
  },
  {
   "cell_type": "code",
   "execution_count": 16,
   "metadata": {
    "collapsed": false
   },
   "outputs": [
    {
     "name": "stdout",
     "output_type": "stream",
     "text": [
      "파이썬에서의 사전은 키(key)와 값(Value)이 한 쌍으로 이루어져 있습니다. 이런 사전은 튜플이나 리스트와는 다르게 위치를 통한 인덱싱이 허용되지 않습니다. 그 대신, 키를 통해서 값을 찾을 수는 있습니다. \n"
     ]
    }
   ],
   "source": [
    "print \"파이썬에서의 사전은 키(key)와 값(Value)이 한 쌍으로 이루어져 있습니다. 이런 사전은 튜플이나 리스트와는 다르게 위치를 통한 인덱싱이 허용되지 않습니다. 그 대신, 키를 통해서 값을 찾을 수는 있습니다. \""
   ]
  },
  {
   "cell_type": "code",
   "execution_count": 17,
   "metadata": {
    "collapsed": false
   },
   "outputs": [
    {
     "data": {
      "text/plain": [
       "dict"
      ]
     },
     "execution_count": 17,
     "metadata": {},
     "output_type": "execute_result"
    }
   ],
   "source": [
    "dic = {'name':'smith', 'rank':1, 'average' : 97.5}\n",
    "type(dic)"
   ]
  },
  {
   "cell_type": "markdown",
   "metadata": {},
   "source": [
    "* dict()\n",
    " + dictionary로 변환.\n",
    " + 두값으로 이루어진 시퀀스를 변환 가능. 첫번째 항목이 key, 두번째 항목이 value로 사용됨"
   ]
  },
  {
   "cell_type": "code",
   "execution_count": 66,
   "metadata": {
    "collapsed": false
   },
   "outputs": [
    {
     "name": "stdout",
     "output_type": "stream",
     "text": [
      "{1: 2, 2: 3, 3: 6}\n",
      "{1: 2, 2: 3, 3: 6}\n",
      "{1: 2, 2: 3, 3: 6}\n"
     ]
    }
   ],
   "source": [
    "a = [[1, 2], [2, 3], [3, 6]]\n",
    "print dict(a)\n",
    "\n",
    "a = [(1, 2), (2, 3), (3, 6)]\n",
    "print dict(a)\n",
    "\n",
    "a = ((1, 2), (2, 3), (3, 6))\n",
    "print dict(a)"
   ]
  },
  {
   "cell_type": "code",
   "execution_count": 67,
   "metadata": {
    "collapsed": false
   },
   "outputs": [
    {
     "name": "stdout",
     "output_type": "stream",
     "text": [
      "{'python': 'best', 'go': 'gogogo', 'java': 'soso', 'c++': 'better'}\n"
     ]
    }
   ],
   "source": [
    "dict1 = {'python' : 'best', 'java' : 'good', 'c++' : 'better'}\n",
    "dict1['go'] = 'gogogo'\n",
    "dict1['java'] = 'soso'\n",
    "\n",
    "print dict1"
   ]
  },
  {
   "cell_type": "code",
   "execution_count": 18,
   "metadata": {
    "collapsed": false
   },
   "outputs": [
    {
     "data": {
      "text/plain": [
       "{'average': 97.5, 'name': 'smith', 'rank': 1}"
      ]
     },
     "execution_count": 18,
     "metadata": {},
     "output_type": "execute_result"
    }
   ],
   "source": [
    "dic"
   ]
  },
  {
   "cell_type": "code",
   "execution_count": 20,
   "metadata": {
    "collapsed": false
   },
   "outputs": [
    {
     "data": {
      "text/plain": [
       "'john'"
      ]
     },
     "execution_count": 20,
     "metadata": {},
     "output_type": "execute_result"
    }
   ],
   "source": [
    "dic = {'name':'john', 'age':21, 'e-mail': 'john33@abc.com'}\n",
    "dic['name']"
   ]
  },
  {
   "cell_type": "code",
   "execution_count": 22,
   "metadata": {
    "collapsed": false
   },
   "outputs": [
    {
     "data": {
      "text/plain": [
       "21"
      ]
     },
     "execution_count": 22,
     "metadata": {},
     "output_type": "execute_result"
    }
   ],
   "source": [
    "dic ['age']"
   ]
  },
  {
   "cell_type": "code",
   "execution_count": 23,
   "metadata": {
    "collapsed": false
   },
   "outputs": [
    {
     "ename": "KeyError",
     "evalue": "0",
     "output_type": "error",
     "traceback": [
      "\u001b[0;31m---------------------------------------------------------------------------\u001b[0m",
      "\u001b[0;31mKeyError\u001b[0m                                  Traceback (most recent call last)",
      "\u001b[0;32m<ipython-input-23-f2f27a7dd443>\u001b[0m in \u001b[0;36m<module>\u001b[0;34m()\u001b[0m\n\u001b[0;32m----> 1\u001b[0;31m \u001b[0mdic\u001b[0m \u001b[1;33m[\u001b[0m\u001b[1;36m0\u001b[0m\u001b[1;33m]\u001b[0m\u001b[1;33m\u001b[0m\u001b[0m\n\u001b[0m",
      "\u001b[0;31mKeyError\u001b[0m: 0"
     ]
    }
   ],
   "source": [
    "dic [0]"
   ]
  },
  {
   "cell_type": "code",
   "execution_count": 24,
   "metadata": {
    "collapsed": false
   },
   "outputs": [
    {
     "name": "stdout",
     "output_type": "stream",
     "text": [
      "위 예제에서 2행과 4행을 보면 '사전명[키]' 이러한 식으로 키에 해당하는 값을 가져오는 것을 볼 수 있다. 그러나 6행과 같이 위치를 통해서는 값을 가져오지 못하며, 이는 사전에서 자료의 순서라는 개념이 존재하지 않아 위치를 통한 인덱싱이 불가능하고, 이런 인덱싱이 불가능하니 우리가 생각하는 슬라이싱도 불가능하다는 것을 알 수 있다. 보는 그대로 값을 가져오려면 위처럼 기를 통해 값을 가져와야한다.\n"
     ]
    }
   ],
   "source": [
    "print \"위 예제에서 2행과 4행을 보면 '사전명[키]' 이러한 식으로 키에 해당하는 값을 가져오는 것을 볼 수 있다. 그러나 6행과 같이 위치를 통해서는 값을 가져오지 못하며, 이는 사전에서 자료의 순서라는 개념이 존재하지 않아 위치를 통한 인덱싱이 불가능하고, 이런 인덱싱이 불가능하니 우리가 생각하는 슬라이싱도 불가능하다는 것을 알 수 있다. 보는 그대로 값을 가져오려면 위처럼 기를 통해 값을 가져와야한다.\""
   ]
  },
  {
   "cell_type": "code",
   "execution_count": 26,
   "metadata": {
    "collapsed": false
   },
   "outputs": [
    {
     "data": {
      "text/plain": [
       "{'key1': 'value3', 'key2': 'value4'}"
      ]
     },
     "execution_count": 26,
     "metadata": {},
     "output_type": "execute_result"
    }
   ],
   "source": [
    "dic = {'key1':'value1', 'key2':'value2'}\n",
    "dic['key1'] = 'value3'\n",
    "dic['key2'] = 'value4'\n",
    "dic"
   ]
  },
  {
   "cell_type": "code",
   "execution_count": 27,
   "metadata": {
    "collapsed": false
   },
   "outputs": [
    {
     "name": "stdout",
     "output_type": "stream",
     "text": [
      "위 예제를 통하면 키를 통해 값을 변경할 수 있다는 사실을 알 수 있다. 그러나 키값은 변경할 수 없다. 주의할 점이 한가지 더 있는데, 그것은 사전에서 키가 중복되면 안되는 것이다. 물론, 같은 키에다 다른 값을 가진 두개의 요소가 존재할 수 있지만 어느 값을 가져올지 모르며, 다른 하나가 무시될 수 있다. 그리고 사전에서 요소를 제거하려면 del라는 내장 함수를 사용하면 된다.\n"
     ]
    }
   ],
   "source": [
    "print \"위 예제를 통하면 키를 통해 값을 변경할 수 있다는 사실을 알 수 있다. 그러나 키값은 변경할 수 없다. 주의할 점이 한가지 더 있는데, 그것은 사전에서 키가 중복되면 안되는 것이다. 물론, 같은 키에다 다른 값을 가진 두개의 요소가 존재할 수 있지만 어느 값을 가져올지 모르며, 다른 하나가 무시될 수 있다. 그리고 사전에서 요소를 제거하려면 del라는 내장 함수를 사용하면 된다.\""
   ]
  },
  {
   "cell_type": "code",
   "execution_count": 28,
   "metadata": {
    "collapsed": false,
    "scrolled": true
   },
   "outputs": [
    {
     "data": {
      "text/plain": [
       "{'c': 'd', 'e': 'f'}"
      ]
     },
     "execution_count": 28,
     "metadata": {},
     "output_type": "execute_result"
    }
   ],
   "source": [
    "dic = {'a': 'b', 'c' : 'd', 'e' : 'f'}\n",
    "del dic ['a']\n",
    "dic"
   ]
  },
  {
   "cell_type": "markdown",
   "metadata": {},
   "source": [
    "* dictionary 연습문제\n",
    " 1. a = {11 : 3, 4 : 9, 14 : 22, 21 : 20, 5 : 8, 2 : 23} 에서 키의 최소값에 대응하는 값과, 키의 최대값에 대응하는 값을 출력하시오\n",
    " 2. 주어진 dictionary를 가지고, 다음 문장을 번역 하시오. translator = {'This' : 'Este', 'is' : 'es', 'python' : 'piton'}\n",
    "\n",
    "    \"This is python\"  "
   ]
  },
  {
   "cell_type": "code",
   "execution_count": 70,
   "metadata": {
    "collapsed": false,
    "scrolled": true
   },
   "outputs": [
    {
     "data": {
      "text/plain": [
       "23"
      ]
     },
     "execution_count": 70,
     "metadata": {},
     "output_type": "execute_result"
    }
   ],
   "source": [
    "a = {11 : 3, 4 : 9, 14 : 22, 21 : 20, 5 : 8, 2 : 23} \n",
    "b = a.keys()\n",
    "b.sort()\n",
    "\n",
    "a[b[0]]"
   ]
  },
  {
   "cell_type": "code",
   "execution_count": 71,
   "metadata": {
    "collapsed": false
   },
   "outputs": [
    {
     "name": "stdout",
     "output_type": "stream",
     "text": [
      "Este is python\n"
     ]
    }
   ],
   "source": [
    "translator = {'This' : 'Este', 'is' : 'es', 'python' : 'piton'}\n",
    "b = \"This is python\".replace('This' , translator['This'])\n",
    "\n",
    "print b"
   ]
  },
  {
   "cell_type": "markdown",
   "metadata": {},
   "source": [
    "# 사전과 관련된 함수"
   ]
  },
  {
   "cell_type": "markdown",
   "metadata": {},
   "source": [
    "## 1. 사전 키 리스트(keys) 함수"
   ]
  },
  {
   "cell_type": "code",
   "execution_count": 29,
   "metadata": {
    "collapsed": false
   },
   "outputs": [
    {
     "data": {
      "text/plain": [
       "['phone', 'age', 'name']"
      ]
     },
     "execution_count": 29,
     "metadata": {},
     "output_type": "execute_result"
    }
   ],
   "source": [
    "dic = {'name' : 'smith', 'phone' : '01131313131', 'age': 18}\n",
    "dic.keys()"
   ]
  },
  {
   "cell_type": "code",
   "execution_count": 30,
   "metadata": {
    "collapsed": false
   },
   "outputs": [
    {
     "name": "stdout",
     "output_type": "stream",
     "text": [
      "위 예제에서 keys 함수를 사용하면 키값에 해당하는 객체를 내보냅니다. 이 객체는 사전의 키를 모아서 만든 것이라고 할 수 있습니다. 아직 반복문은 배우지 않았으나 for라는 녀석을 통해 keys 함수가 내뱉는 객체를 통해서 순회하여 접근할 수 있습니다.\n"
     ]
    }
   ],
   "source": [
    "print \"위 예제에서 keys 함수를 사용하면 키값에 해당하는 객체를 내보냅니다. 이 객체는 사전의 키를 모아서 만든 것이라고 할 수 있습니다. 아직 반복문은 배우지 않았으나 for라는 녀석을 통해 keys 함수가 내뱉는 객체를 통해서 순회하여 접근할 수 있습니다.\""
   ]
  },
  {
   "cell_type": "code",
   "execution_count": 31,
   "metadata": {
    "collapsed": false
   },
   "outputs": [
    {
     "name": "stdout",
     "output_type": "stream",
     "text": [
      "phone\n",
      "age\n",
      "name\n"
     ]
    }
   ],
   "source": [
    "dic = {'name' : 'smith', 'phone' : '01131313131', 'age' : 18}\n",
    "for i in dic.keys():\n",
    "    print(i)"
   ]
  },
  {
   "cell_type": "markdown",
   "metadata": {},
   "source": [
    "# 사전 값 리스트(values)함수"
   ]
  },
  {
   "cell_type": "code",
   "execution_count": 32,
   "metadata": {
    "collapsed": false
   },
   "outputs": [
    {
     "data": {
      "text/plain": [
       "['01131313131', 18, 'smith']"
      ]
     },
     "execution_count": 32,
     "metadata": {},
     "output_type": "execute_result"
    }
   ],
   "source": [
    "dic = {'name' : 'smith', 'phone' : '01131313131', 'age' : 18}\n",
    "dic.values()"
   ]
  },
  {
   "cell_type": "code",
   "execution_count": 33,
   "metadata": {
    "collapsed": false
   },
   "outputs": [
    {
     "name": "stdout",
     "output_type": "stream",
     "text": [
      "사전 키 리스트를 얻는 keys 함수와 동일하게, 이번에는 키가아니라 값만을 가져오고 싶다면 values 함수를 사용하면 됩니다. values 함수도 비슷하게 객체를 내보내며 이 객체는 사전의 값을 모아서 만든 것이라고 할 수 있습니다. 동일하게 반복문을 통해서 values함수가 내뱉는 객체를 통해서 순회하여 접근할 수 있습니다.\n"
     ]
    }
   ],
   "source": [
    "print \"사전 키 리스트를 얻는 keys 함수와 동일하게, 이번에는 키가아니라 값만을 가져오고 싶다면 values 함수를 사용하면 됩니다. values 함수도 비슷하게 객체를 내보내며 이 객체는 사전의 값을 모아서 만든 것이라고 할 수 있습니다. 동일하게 반복문을 통해서 values함수가 내뱉는 객체를 통해서 순회하여 접근할 수 있습니다.\""
   ]
  },
  {
   "cell_type": "markdown",
   "metadata": {},
   "source": [
    "# 사전 초기화(clear) 함수"
   ]
  },
  {
   "cell_type": "code",
   "execution_count": 34,
   "metadata": {
    "collapsed": false
   },
   "outputs": [
    {
     "data": {
      "text/plain": [
       "{}"
      ]
     },
     "execution_count": 34,
     "metadata": {},
     "output_type": "execute_result"
    }
   ],
   "source": [
    "dic = {'name' : 'smith', 'phone' : '01131313131', 'age' : 18}\n",
    "dic.clear()\n",
    "dic"
   ]
  },
  {
   "cell_type": "code",
   "execution_count": 35,
   "metadata": {
    "collapsed": false
   },
   "outputs": [
    {
     "name": "stdout",
     "output_type": "stream",
     "text": [
      "이 clear 함수는 사전의 요소를 모두 제거하여 초기화 시키는 함수입니다. clear 함수를 사용하면 위 예제의 값처럼 요소가 모두 사라지게 됩니다.\n"
     ]
    }
   ],
   "source": [
    "print \"이 clear 함수는 사전의 요소를 모두 제거하여 초기화 시키는 함수입니다. clear 함수를 사용하면 위 예제의 값처럼 요소가 모두 사라지게 됩니다.\""
   ]
  },
  {
   "cell_type": "markdown",
   "metadata": {},
   "source": [
    "# 사전 키에 해당하는 값 반환(get) 함수"
   ]
  },
  {
   "cell_type": "code",
   "execution_count": 36,
   "metadata": {
    "collapsed": false
   },
   "outputs": [
    {
     "data": {
      "text/plain": [
       "'01131313131'"
      ]
     },
     "execution_count": 36,
     "metadata": {},
     "output_type": "execute_result"
    }
   ],
   "source": [
    "dic = {'name' : 'smith', 'phone' : '01131313131', 'age' : 18}\n",
    "dic.get('phone')"
   ]
  },
  {
   "cell_type": "code",
   "execution_count": 37,
   "metadata": {
    "collapsed": false
   },
   "outputs": [
    {
     "data": {
      "text/plain": [
       "18"
      ]
     },
     "execution_count": 37,
     "metadata": {},
     "output_type": "execute_result"
    }
   ],
   "source": [
    "dic.get('age')"
   ]
  },
  {
   "cell_type": "code",
   "execution_count": 38,
   "metadata": {
    "collapsed": false
   },
   "outputs": [
    {
     "name": "stdout",
     "output_type": "stream",
     "text": [
      "이 get함수는 키에 해당하는 값을 동려줍니다. 만약 키 phone에 해당하는 값을 가져오려면 dic.get('phine')처럼 get함수를 이용하는 방법과 dic['phone']처럼 함수를 쓰지 않고도 직접 값을 가져오는 방법이 있습니다.\n"
     ]
    }
   ],
   "source": [
    "print \"이 get함수는 키에 해당하는 값을 동려줍니다. 만약 키 phone에 해당하는 값을 가져오려면 dic.get('phine')처럼 get함수를 이용하는 방법과 dic['phone']처럼 함수를 쓰지 않고도 직접 값을 가져오는 방법이 있습니다.\""
   ]
  },
  {
   "cell_type": "markdown",
   "metadata": {},
   "source": [
    "# 사전 키 존재 여부 검사 (in)"
   ]
  },
  {
   "cell_type": "code",
   "execution_count": 39,
   "metadata": {
    "collapsed": false
   },
   "outputs": [
    {
     "data": {
      "text/plain": [
       "True"
      ]
     },
     "execution_count": 39,
     "metadata": {},
     "output_type": "execute_result"
    }
   ],
   "source": [
    "dic = {'name' : 'smith', 'phone' : '01131313131', 'age' : 18}\n",
    "'name' in dic"
   ]
  },
  {
   "cell_type": "code",
   "execution_count": 40,
   "metadata": {
    "collapsed": false
   },
   "outputs": [
    {
     "data": {
      "text/plain": [
       "False"
      ]
     },
     "execution_count": 40,
     "metadata": {},
     "output_type": "execute_result"
    }
   ],
   "source": [
    "'job' in dic"
   ]
  },
  {
   "cell_type": "code",
   "execution_count": 41,
   "metadata": {
    "collapsed": false
   },
   "outputs": [
    {
     "name": "stdout",
     "output_type": "stream",
     "text": [
      "in 이라는 녀석을 통해 해당 키가 사전에 존재하는지 검사할 수 있습니다. 만약 존재하면 참(True)을, 존재하지 않다면 거짓(False)을 내보내게 됩니다.\n"
     ]
    }
   ],
   "source": [
    "print \"in 이라는 녀석을 통해 해당 키가 사전에 존재하는지 검사할 수 있습니다. 만약 존재하면 참(True)을, 존재하지 않다면 거짓(False)을 내보내게 됩니다.\""
   ]
  },
  {
   "cell_type": "markdown",
   "metadata": {},
   "source": [
    "# 부울(Bool)"
   ]
  },
  {
   "cell_type": "code",
   "execution_count": 42,
   "metadata": {
    "collapsed": false
   },
   "outputs": [
    {
     "name": "stdout",
     "output_type": "stream",
     "text": [
      "Bool 은 참과 거짓을 나타내는 자료형이며, 참은 True로, 거짓은 False로 표현이 됩니다. 이 Bool을 보면 도대체 어디에 사용되는 녀석인지 생각이 도저히 안나는 사람도 있을겁니다. 왜 부울이라는 개념이 존재할까요? 참과 거짓은 도대체 어디에 사용되는 것일까요? \n",
      "\n",
      "이는 파이썬 내의 논리 연산자를 통한 논리 연산이나 수치를 서로 비교할 때 사용하는 비교 연산자의 결과로 사용됩니다.\n"
     ]
    }
   ],
   "source": [
    "print \"Bool 은 참과 거짓을 나타내는 자료형이며, 참은 True로, 거짓은 False로 표현이 됩니다. 이 Bool을 보면 도대체 어디에 사용되는 녀석인지 생각이 도저히 안나는 사람도 있을겁니다. 왜 부울이라는 개념이 존재할까요? 참과 거짓은 도대체 어디에 사용되는 것일까요? \\n\\n이는 파이썬 내의 논리 연산자를 통한 논리 연산이나 수치를 서로 비교할 때 사용하는 비교 연산자의 결과로 사용됩니다.\""
   ]
  },
  {
   "cell_type": "code",
   "execution_count": 43,
   "metadata": {
    "collapsed": false
   },
   "outputs": [
    {
     "data": {
      "text/plain": [
       "False"
      ]
     },
     "execution_count": 43,
     "metadata": {},
     "output_type": "execute_result"
    }
   ],
   "source": [
    "3 > 5"
   ]
  },
  {
   "cell_type": "code",
   "execution_count": 44,
   "metadata": {
    "collapsed": false
   },
   "outputs": [
    {
     "data": {
      "text/plain": [
       "True"
      ]
     },
     "execution_count": 44,
     "metadata": {},
     "output_type": "execute_result"
    }
   ],
   "source": [
    "4 < 6"
   ]
  },
  {
   "cell_type": "markdown",
   "metadata": {},
   "source": [
    "# 논리 연산자"
   ]
  },
  {
   "cell_type": "code",
   "execution_count": 45,
   "metadata": {
    "collapsed": false
   },
   "outputs": [
    {
     "name": "stdout",
     "output_type": "stream",
     "text": [
      "이번에는 비교 연산자에 이어서 논리 연산자에 대해서도 간단히 알아보도록 하겠습니다. 파이썬에서의 논리연산자는 논리곱을 의미하는 and(&)가 있으며, 논리합을 의미하는 or가 있으며, 부정을 의미하는 not이 있습니다. \n",
      "\n",
      "논리곱(and)은 두 값이 모두 참이어야만 참을 내보내며, 논리합(or)는 두 값중 하나라도 참일 경우에 참을 내보내고, 부정(not)은 값을 부정하는 것으로써 참일 경우 거짓을 , 거짓인 경우 참을 내보냅니다.\n"
     ]
    }
   ],
   "source": [
    "print \"이번에는 비교 연산자에 이어서 논리 연산자에 대해서도 간단히 알아보도록 하겠습니다. 파이썬에서의 논리연산자는 논리곱을 의미하는 and(&)가 있으며, 논리합을 의미하는 or가 있으며, 부정을 의미하는 not이 있습니다. \\n\\n논리곱(and)은 두 값이 모두 참이어야만 참을 내보내며, 논리합(or)는 두 값중 하나라도 참일 경우에 참을 내보내고, 부정(not)은 값을 부정하는 것으로써 참일 경우 거짓을 , 거짓인 경우 참을 내보냅니다.\""
   ]
  },
  {
   "cell_type": "code",
   "execution_count": 47,
   "metadata": {
    "collapsed": false
   },
   "outputs": [
    {
     "data": {
      "text/plain": [
       "False"
      ]
     },
     "execution_count": 47,
     "metadata": {},
     "output_type": "execute_result"
    }
   ],
   "source": [
    "True and False\n"
   ]
  },
  {
   "cell_type": "code",
   "execution_count": 48,
   "metadata": {
    "collapsed": false
   },
   "outputs": [
    {
     "data": {
      "text/plain": [
       "True"
      ]
     },
     "execution_count": 48,
     "metadata": {},
     "output_type": "execute_result"
    }
   ],
   "source": [
    "False or True"
   ]
  },
  {
   "cell_type": "code",
   "execution_count": 49,
   "metadata": {
    "collapsed": false
   },
   "outputs": [
    {
     "data": {
      "text/plain": [
       "True"
      ]
     },
     "execution_count": 49,
     "metadata": {},
     "output_type": "execute_result"
    }
   ],
   "source": [
    "not False"
   ]
  },
  {
   "cell_type": "code",
   "execution_count": 50,
   "metadata": {
    "collapsed": false
   },
   "outputs": [
    {
     "data": {
      "text/plain": [
       "False"
      ]
     },
     "execution_count": 50,
     "metadata": {},
     "output_type": "execute_result"
    }
   ],
   "source": [
    "4 > 5 and 104 < 311.4"
   ]
  },
  {
   "cell_type": "code",
   "execution_count": 51,
   "metadata": {
    "collapsed": false
   },
   "outputs": [
    {
     "name": "stdout",
     "output_type": "stream",
     "text": [
      "위 예제를 보면, 1행에서 True와 False를 가지고 논리곱 연산을 합니다. 여기서는 두 값이 모두 참이 아니므로 False를 내보냅니다. 3행에서는 False와 True를 가지고 논리합 연산을 하는데, 두 값중에 참이 하나라도 있으므로 True를 내보냅니다. 5행에서는 False를 부정하여 반대되는 값인 True를 내보냅니다. 7행에서는 '4 > 5에서 5가 더 크므로 False, '104 < 311.4'에서는 311,4가 더 크므로 True를 내보냅니다. \n",
      "\n",
      "결과적으로 'False and True'가 되는 것이며 이는 False가 되는 것입니다.\n"
     ]
    }
   ],
   "source": [
    "print \"위 예제를 보면, 1행에서 True와 False를 가지고 논리곱 연산을 합니다. 여기서는 두 값이 모두 참이 아니므로 False를 내보냅니다. 3행에서는 False와 True를 가지고 논리합 연산을 하는데, 두 값중에 참이 하나라도 있으므로 True를 내보냅니다. 5행에서는 False를 부정하여 반대되는 값인 True를 내보냅니다. 7행에서는 '4 > 5에서 5가 더 크므로 False, '104 < 311.4'에서는 311,4가 더 크므로 True를 내보냅니다. \\n\\n결과적으로 'False and True'가 되는 것이며 이는 False가 되는 것입니다.\""
   ]
  },
  {
   "cell_type": "code",
   "execution_count": null,
   "metadata": {
    "collapsed": true
   },
   "outputs": [],
   "source": []
  }
 ],
 "metadata": {
  "kernelspec": {
   "display_name": "Python 2",
   "language": "python",
   "name": "python2"
  },
  "language_info": {
   "codemirror_mode": {
    "name": "ipython",
    "version": 2
   },
   "file_extension": ".py",
   "mimetype": "text/x-python",
   "name": "python",
   "nbconvert_exporter": "python",
   "pygments_lexer": "ipython2",
   "version": "2.7.12"
  }
 },
 "nbformat": 4,
 "nbformat_minor": 1
}
