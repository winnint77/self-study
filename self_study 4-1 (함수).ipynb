{
 "cells": [
  {
   "cell_type": "code",
   "execution_count": 1,
   "metadata": {
    "collapsed": false
   },
   "outputs": [
    {
     "name": "stdout",
     "output_type": "stream",
     "text": [
      "어느 정도 규모의 프로그램을 개발하다 보면 중복적으로 사용되는 코드가 생기게 됩니다. 이럴 때 보통 프로그래밍 경험이 많지 않은 초보 분들은 이전에 작성된 코드를 단순히 복사한 후 붙여넣기를해서 프로그램을 작성합니다. 그러나 이런 식으로 프로그램을 작성하게 되면 점점 코드의 유지 보수가 어려워지게 됩니다. \n",
      "\n",
      " 예를 들어 여러분이 어느 날 이전에 작성한 코드에 문제가 있다는 것을 알게 되어 해당 문제를 수정한다고 하더라도, 이미 해당 코드는 프로그램의 여러 곳에서 복사되어 사용되고 있을 수 있습니다. 이 경우 우리는 해당 코드들을 하나도 빠짐없이 찾아서 제대로 수정을 해야 할 것입니다. 어떤가요? 생각만해도 끔찍하겠지요? \n",
      "\n",
      "이러한 문제를 막고자 중복적인 코드를 재사용하고자 할 때는 단순히 코드를 복사해서 붙여넣는 식으로 프로그램을 작성하는 것이 아니라 '함수(function)'라고 부르는 형태로 코드를 작성하는 것이 좋습니다. 함수라는 것은 한번 잘 작성해두면 두고두고 이를 '호출'해서 사용할 수 있으므로 프로그램의 생산성을 크게 높일 수 있습니다. \n",
      "\n",
      "여러분들이 파이썬에서 값을 화면에 출력할 때 사용했던 print()라는 함수가 여러분들이 직접 구현하지 않았음에도 불구하고 우리가 print() 함수를 호출해서 사용했던 것을 생각해보면 함수가 얼마나 유용한지 아시겠지요? 리스트나 튜플 등의 개수를 확인할 때 사용하던 내장함수 len()도 매우 유용했던 기억이 나실 겁니다. 이번 장에서는 파이썬에서 제공되는 기본 함수뿐만 아니라, 우리가 직접 유용한 기능을 수행하는 함수를 만들어 보도록 하겠습니다. \n",
      "\n",
      "파이썬의 모듈(module)은 함수보다 더 큰 단위의 코드 묶음을 의미합니다. 보통 함수가 수십 줄 내의 코드로 구성된다면 파이썬의 모듈은 파일 단위의 코드 묶음을 의미합니다. 좀 더 쉽게 설명해보면 우리가 마이크로소프트의 워드로 글을 쓴다고 했을 때 한 문단이 '함수' 정도에 해당한다면 워드파일 하나가 바로 모듈에 해당합니다. \n"
     ]
    }
   ],
   "source": [
    "print \"어느 정도 규모의 프로그램을 개발하다 보면 중복적으로 사용되는 코드가 생기게 됩니다. 이럴 때 보통 프로그래밍 경험이 많지 않은 초보 분들은 이전에 작성된 코드를 단순히 복사한 후 붙여넣기를해서 프로그램을 작성합니다. 그러나 이런 식으로 프로그램을 작성하게 되면 점점 코드의 유지 보수가 어려워지게 됩니다. \\n\\n 예를 들어 여러분이 어느 날 이전에 작성한 코드에 문제가 있다는 것을 알게 되어 해당 문제를 수정한다고 하더라도, 이미 해당 코드는 프로그램의 여러 곳에서 복사되어 사용되고 있을 수 있습니다. 이 경우 우리는 해당 코드들을 하나도 빠짐없이 찾아서 제대로 수정을 해야 할 것입니다. 어떤가요? 생각만해도 끔찍하겠지요? \\n\\n이러한 문제를 막고자 중복적인 코드를 재사용하고자 할 때는 단순히 코드를 복사해서 붙여넣는 식으로 프로그램을 작성하는 것이 아니라 '함수(function)'라고 부르는 형태로 코드를 작성하는 것이 좋습니다. 함수라는 것은 한번 잘 작성해두면 두고두고 이를 '호출'해서 사용할 수 있으므로 프로그램의 생산성을 크게 높일 수 있습니다. \\n\\n여러분들이 파이썬에서 값을 화면에 출력할 때 사용했던 print()라는 함수가 여러분들이 직접 구현하지 않았음에도 불구하고 우리가 print() 함수를 호출해서 사용했던 것을 생각해보면 함수가 얼마나 유용한지 아시겠지요? 리스트나 튜플 등의 개수를 확인할 때 사용하던 내장함수 len()도 매우 유용했던 기억이 나실 겁니다. 이번 장에서는 파이썬에서 제공되는 기본 함수뿐만 아니라, 우리가 직접 유용한 기능을 수행하는 함수를 만들어 보도록 하겠습니다. \\n\\n파이썬의 모듈(module)은 함수보다 더 큰 단위의 코드 묶음을 의미합니다. 보통 함수가 수십 줄 내의 코드로 구성된다면 파이썬의 모듈은 파일 단위의 코드 묶음을 의미합니다. 좀 더 쉽게 설명해보면 우리가 마이크로소프트의 워드로 글을 쓴다고 했을 때 한 문단이 '함수' 정도에 해당한다면 워드파일 하나가 바로 모듈에 해당합니다. \""
   ]
  },
  {
   "cell_type": "markdown",
   "metadata": {},
   "source": [
    "# 함수"
   ]
  },
  {
   "cell_type": "code",
   "execution_count": 3,
   "metadata": {
    "collapsed": false
   },
   "outputs": [
    {
     "name": "stdout",
     "output_type": "stream",
     "text": [
      "우리는 지금가지 파이썬의 변수, 자료 구조 (리스트, 튜플, 딕셔너리), 분기문(if, else), 반복문(for, while)등을 배워 보았습니다. 이런 것들은 어떤 프로그래밍 언어를 배우더라도 공통으로 존재하는 필수 구성 요소로써 프로그램 언어마다 약간의 차이만이 존재할 뿐입니다. 따라서 2장 ~4장까지의 내용에 대해서 반복적으로 실습해서 익히는 것이 매우 중요합니다. 사실 프로그램이란 것이 처음에는 어렵지만 반복해서 코드를 타이핑하고 실행하고, 결괏값을 확인하는 과정을 통해서 실력이 향상된답니다. \n",
      "\n",
      " 함수에서 중요한 점은 함수 내부가 어떻게 구현되어 있는지 모르더라도 입력을 넣으면 뭔가 출력이 나온다는 점입니다. 그래서 보통 함수 내부는 블랙박스로 생각하고 단순히 입력값과 출력값의 관계만을 생각합니다.\n"
     ]
    }
   ],
   "source": [
    "print \"우리는 지금가지 파이썬의 변수, 자료 구조 (리스트, 튜플, 딕셔너리), 분기문(if, else), 반복문(for, while)등을 배워 보았습니다. 이런 것들은 어떤 프로그래밍 언어를 배우더라도 공통으로 존재하는 필수 구성 요소로써 프로그램 언어마다 약간의 차이만이 존재할 뿐입니다. 따라서 2장 ~4장까지의 내용에 대해서 반복적으로 실습해서 익히는 것이 매우 중요합니다. 사실 프로그램이란 것이 처음에는 어렵지만 반복해서 코드를 타이핑하고 실행하고, 결괏값을 확인하는 과정을 통해서 실력이 향상된답니다. \\n\\n 함수에서 중요한 점은 함수 내부가 어떻게 구현되어 있는지 모르더라도 입력을 넣으면 뭔가 출력이 나온다는 점입니다. 그래서 보통 함수 내부는 블랙박스로 생각하고 단순히 입력값과 출력값의 관계만을 생각합니다.\""
   ]
  },
  {
   "cell_type": "code",
   "execution_count": 5,
   "metadata": {
    "collapsed": false
   },
   "outputs": [
    {
     "name": "stdout",
     "output_type": "stream",
     "text": [
      "그렇다면 프로그래밍 분야에서 함수란 어떤 것일까요? 결론부터 말씀드리면 프로그래밍 분야의 함수도 수학 분야의 함수와 같습니다. 단지, 프로그래머들은 입력값을 넣었을 때 원하는 출력값을 만들어주는 함수를 지금까지 우리가 배웠던 파이썬 문법을 이용하여 구현합니다. 프로그래밍 분야에서도 함수 내부의 구현은 '블랙박스'와 같아서 함수를 사용하는 입장에서는 이를 알 필요가 없습니다. 단순히 함수에 입력값을 넣어주면 우리가 원하는 출력값을 얻을 수 있다는 점을 아는 것이 중요합니다.\n"
     ]
    }
   ],
   "source": [
    "print \"그렇다면 프로그래밍 분야에서 함수란 어떤 것일까요? 결론부터 말씀드리면 프로그래밍 분야의 함수도 수학 분야의 함수와 같습니다. 단지, 프로그래머들은 입력값을 넣었을 때 원하는 출력값을 만들어주는 함수를 지금까지 우리가 배웠던 파이썬 문법을 이용하여 구현합니다. 프로그래밍 분야에서도 함수 내부의 구현은 '블랙박스'와 같아서 함수를 사용하는 입장에서는 이를 알 필요가 없습니다. 단순히 함수에 입력값을 넣어주면 우리가 원하는 출력값을 얻을 수 있다는 점을 아는 것이 중요합니다.\"     "
   ]
  },
  {
   "cell_type": "code",
   "execution_count": 6,
   "metadata": {
    "collapsed": false
   },
   "outputs": [
    {
     "name": "stdout",
     "output_type": "stream",
     "text": [
      "대신증권\n"
     ]
    }
   ],
   "source": [
    "print \"대신증권\""
   ]
  },
  {
   "cell_type": "code",
   "execution_count": 7,
   "metadata": {
    "collapsed": false
   },
   "outputs": [
    {
     "name": "stdout",
     "output_type": "stream",
     "text": [
      "'대신증권'이라는 문자열의 화면 출력에 성공하신 분들은 이번에는 '대신증권'을 화면에 세 번 출력해보기 바랍니다. 3번으로 횟수가 정해져 있으므로 반복문 중 for 문을 이용하면 쉬울 것 같습니다. \n"
     ]
    }
   ],
   "source": [
    "print \"'대신증권'이라는 문자열의 화면 출력에 성공하신 분들은 이번에는 '대신증권'을 화면에 세 번 출력해보기 바랍니다. 3번으로 횟수가 정해져 있으므로 반복문 중 for 문을 이용하면 쉬울 것 같습니다. \""
   ]
  },
  {
   "cell_type": "code",
   "execution_count": 8,
   "metadata": {
    "collapsed": false
   },
   "outputs": [
    {
     "name": "stdout",
     "output_type": "stream",
     "text": [
      "대신증권\n",
      "대신증권\n",
      "대신증권\n"
     ]
    }
   ],
   "source": [
    "for i in range(3):\n",
    "    print \"대신증권\""
   ]
  },
  {
   "cell_type": "code",
   "execution_count": 9,
   "metadata": {
    "collapsed": false
   },
   "outputs": [
    {
     "name": "stdout",
     "output_type": "stream",
     "text": [
      "이번에는 함수를 이용하여 '대신증권'을 화면에 출력하는 프로그램을 작성해 보겠습니다. 단순히 '대신증권'을 3번 출력하는 것이 아니라 함수의 입력으로 출력할 '횟수'를 받은 후 그 '횟수'만큼 '대신증권'을 출력하는 함수를 만들어보겠습니다. \n",
      "\n",
      "파이썬에서 함수를 만들 때 중요한 점은 함수의 입력, 출력, 그리고 함수의 동작을 파악하는 것입니다. 아래와 같이 대략적인 함수 명세서를 구성해 봅시다. 참고로 프로그램을 작성할 때 무조건 순이 가는 데로 프로그램을 작성하는 것보다 잠시 컴퓨터에서 떨어져서 구현할 내용에 대해 생각하고 어떻게 구현할지에 대해서 설계한 후 프로그래밍을 하는 습관을 기르는 것이 좋습니다.\n"
     ]
    }
   ],
   "source": [
    "print \"이번에는 함수를 이용하여 '대신증권'을 화면에 출력하는 프로그램을 작성해 보겠습니다. 단순히 '대신증권'을 3번 출력하는 것이 아니라 함수의 입력으로 출력할 '횟수'를 받은 후 그 '횟수'만큼 '대신증권'을 출력하는 함수를 만들어보겠습니다. \\n\\n파이썬에서 함수를 만들 때 중요한 점은 함수의 입력, 출력, 그리고 함수의 동작을 파악하는 것입니다. 아래와 같이 대략적인 함수 명세서를 구성해 봅시다. 참고로 프로그램을 작성할 때 무조건 순이 가는 데로 프로그램을 작성하는 것보다 잠시 컴퓨터에서 떨어져서 구현할 내용에 대해 생각하고 어떻게 구현할지에 대해서 설계한 후 프로그래밍을 하는 습관을 기르는 것이 좋습니다.\""
   ]
  },
  {
   "cell_type": "markdown",
   "metadata": {},
   "source": [
    "* 함수의 입력 : 출력 횟수\n",
    "* 함수의 출력 : '대신증권'이라는 문자열(횟수만큼)\n",
    "* 함수의 동작 : 출력 횟수만큼 '대신증권' 문자열을 출력"
   ]
  },
  {
   "cell_type": "code",
   "execution_count": 10,
   "metadata": {
    "collapsed": false
   },
   "outputs": [
    {
     "name": "stdout",
     "output_type": "stream",
     "text": [
      "파이썬에서는 함수를 만들기 위해 'def'라는 키워드를 사용합니다. 참고로 'def'는 'definition'이라는 영어 단어의 줄임말입니다. 영어 단어 definition이 '정의'라는 뜻이 있는 것을 생각하면 파이썬에서 함수를 정의할 때 'def'키워드를 사용하는 것은 이름을 참 잘 정한 것 같습니다. \n",
      "\n",
      "변수 이름을 적절히 정해주는 것처럼 def 키워드 다음에는 함수의 기능과 연관된 적당한 함수 이름을 적어줘야 합니다. 아래와같이 함수를 작성해 보았습니다. 함수의 이름은 'print_ntimes'입니다.\n"
     ]
    }
   ],
   "source": [
    "print \"파이썬에서는 함수를 만들기 위해 'def'라는 키워드를 사용합니다. 참고로 'def'는 'definition'이라는 영어 단어의 줄임말입니다. 영어 단어 definition이 '정의'라는 뜻이 있는 것을 생각하면 파이썬에서 함수를 정의할 때 'def'키워드를 사용하는 것은 이름을 참 잘 정한 것 같습니다. \\n\\n변수 이름을 적절히 정해주는 것처럼 def 키워드 다음에는 함수의 기능과 연관된 적당한 함수 이름을 적어줘야 합니다. 아래와같이 함수를 작성해 보았습니다. 함수의 이름은 'print_ntimes'입니다.\""
   ]
  },
  {
   "cell_type": "markdown",
   "metadata": {},
   "source": [
    "def print_ntimes():\n",
    "    print \"대신증권\""
   ]
  },
  {
   "cell_type": "code",
   "execution_count": 11,
   "metadata": {
    "collapsed": false
   },
   "outputs": [
    {
     "name": "stdout",
     "output_type": "stream",
     "text": [
      "위의 코드는 우리가 앞서 작성한 함수 명세에 대한 구현과는 상당한 거리가 있습니다. 일단 함수의 입력으로 출력 횟수를 받아야 하는데 현재 코드에는 함수의 인자가 존재하지 않습니다. 먼저 출력 횟수를 의미하는 'n'이라는 변수를 함수의 입력으로 받도록 아래와 같이 코드를 수정해보도록 하겠습니다.\n"
     ]
    }
   ],
   "source": [
    "print \"위의 코드는 우리가 앞서 작성한 함수 명세에 대한 구현과는 상당한 거리가 있습니다. 일단 함수의 입력으로 출력 횟수를 받아야 하는데 현재 코드에는 함수의 인자가 존재하지 않습니다. 먼저 출력 횟수를 의미하는 'n'이라는 변수를 함수의 입력으로 받도록 아래와 같이 코드를 수정해보도록 하겠습니다.\""
   ]
  },
  {
   "cell_type": "code",
   "execution_count": null,
   "metadata": {
    "collapsed": true
   },
   "outputs": [],
   "source": [
    "def print_ntimes(n):\n",
    "    print \"대신증권\""
   ]
  },
  {
   "cell_type": "code",
   "execution_count": 13,
   "metadata": {
    "collapsed": false
   },
   "outputs": [
    {
     "name": "stdout",
     "output_type": "stream",
     "text": [
      "파이썬에서 '함수'라는 것을 일단 만들기는 했으니, 만들어진 함수를 호출해보겠습니다. 우리가 파이썬에서 기본으로 제공하는 함수인 print를 사용할 때 print('hello')처럼 함수 이름을 타이핑 했던 것처럼 함수를 호출하려면 여러분이 만든 함수의 이름을 파이썬 프롬프트에 입력하면 됩니다. 물론, 여러분이 만든 함수는 하나의 인자 값이 존재하므로 print_ntimes() 가 아니라 print_ntimes(3)처럼 인자 위치에 값을 하나 넘겨줘야 합니다.\n"
     ]
    }
   ],
   "source": [
    "print \"파이썬에서 '함수'라는 것을 일단 만들기는 했으니, 만들어진 함수를 호출해보겠습니다. 우리가 파이썬에서 기본으로 제공하는 함수인 print를 사용할 때 print('hello')처럼 함수 이름을 타이핑 했던 것처럼 함수를 호출하려면 여러분이 만든 함수의 이름을 파이썬 프롬프트에 입력하면 됩니다. 물론, 여러분이 만든 함수는 하나의 인자 값이 존재하므로 print_ntimes() 가 아니라 print_ntimes(3)처럼 인자 위치에 값을 하나 넘겨줘야 합니다.\""
   ]
  },
  {
   "cell_type": "code",
   "execution_count": 15,
   "metadata": {
    "collapsed": false
   },
   "outputs": [
    {
     "name": "stdout",
     "output_type": "stream",
     "text": [
      "대신증권\n"
     ]
    }
   ],
   "source": [
    "def print_ntimes(n):\n",
    "    print \"대신증권\"\n",
    "    \n",
    "print_ntimes(3)"
   ]
  },
  {
   "cell_type": "code",
   "execution_count": 16,
   "metadata": {
    "collapsed": false
   },
   "outputs": [
    {
     "name": "stdout",
     "output_type": "stream",
     "text": [
      "위의 코드를 보면 뭔가 제대로 동작하지 않는 것을 바로 알 수 있습니다. 우리는 함수를 호출할 때 함수의 인자 값으로 출력 횟수를 입력했지만 (3 또는 2), 입력된 출력 횟수와는 상관없이 '대신증권'이라는 문자열은 항상 한 번만 출력됩니다. 이것은 함수의 입력 값인 'n'값과 상관없이 함수 본체의 실행 코드에서는 항상한 번만 출력되도록 구현됐기 때문입니다.\n"
     ]
    }
   ],
   "source": [
    "print \"위의 코드를 보면 뭔가 제대로 동작하지 않는 것을 바로 알 수 있습니다. 우리는 함수를 호출할 때 함수의 인자 값으로 출력 횟수를 입력했지만 (3 또는 2), 입력된 출력 횟수와는 상관없이 '대신증권'이라는 문자열은 항상 한 번만 출력됩니다. 이것은 함수의 입력 값인 'n'값과 상관없이 함수 본체의 실행 코드에서는 항상한 번만 출력되도록 구현됐기 때문입니다.\""
   ]
  },
  {
   "cell_type": "code",
   "execution_count": 17,
   "metadata": {
    "collapsed": false
   },
   "outputs": [
    {
     "name": "stdout",
     "output_type": "stream",
     "text": [
      "함수의 입력 값인 'n'만큼 문자열이 출력되도록 하려면 함수 내에서 for 문을 사용하면 되겠습니다. 어떻게 구현하면 좋을지에 대해서는 잠시 스스로 생각을 해본 후 아래의 코드를 보기 바랍니다. 아래의 코드를 참조하면 함수의 실행 코드 부분에서 입력 값 'n'을 사용하여 반복문을 사용한 것을 볼 수 있습니다.  \n"
     ]
    }
   ],
   "source": [
    "print \"함수의 입력 값인 'n'만큼 문자열이 출력되도록 하려면 함수 내에서 for 문을 사용하면 되겠습니다. 어떻게 구현하면 좋을지에 대해서는 잠시 스스로 생각을 해본 후 아래의 코드를 보기 바랍니다. 아래의 코드를 참조하면 함수의 실행 코드 부분에서 입력 값 'n'을 사용하여 반복문을 사용한 것을 볼 수 있습니다.  \""
   ]
  },
  {
   "cell_type": "code",
   "execution_count": 18,
   "metadata": {
    "collapsed": true
   },
   "outputs": [],
   "source": [
    "def print_ntimes(n):\n",
    "    for i in range(n):\n",
    "        print \"대신증권\""
   ]
  },
  {
   "cell_type": "code",
   "execution_count": 19,
   "metadata": {
    "collapsed": false
   },
   "outputs": [
    {
     "name": "stdout",
     "output_type": "stream",
     "text": [
      "수정된 함수가 제대로 동작하는지를 테스트해보도록 하겠습니다. 잠깐 함수 내부의 구현은 잊고 함수의 입력 값으로 출력 횟수를 넣었을 때 출력 횟수만큼 '대신증권'이 출력되는지를 확인해보기 바랍니다. 아래의 코드를 확인하면 여러분들이 처음으로 만든 함수치고는 상당히 잘 동작하는 것을 확인할 수 있습니다.\n"
     ]
    }
   ],
   "source": [
    "print \"수정된 함수가 제대로 동작하는지를 테스트해보도록 하겠습니다. 잠깐 함수 내부의 구현은 잊고 함수의 입력 값으로 출력 횟수를 넣었을 때 출력 횟수만큼 '대신증권'이 출력되는지를 확인해보기 바랍니다. 아래의 코드를 확인하면 여러분들이 처음으로 만든 함수치고는 상당히 잘 동작하는 것을 확인할 수 있습니다.\""
   ]
  },
  {
   "cell_type": "code",
   "execution_count": 20,
   "metadata": {
    "collapsed": false
   },
   "outputs": [
    {
     "name": "stdout",
     "output_type": "stream",
     "text": [
      "대신증권\n"
     ]
    }
   ],
   "source": [
    "print_ntimes(1)"
   ]
  },
  {
   "cell_type": "code",
   "execution_count": 21,
   "metadata": {
    "collapsed": false
   },
   "outputs": [
    {
     "name": "stdout",
     "output_type": "stream",
     "text": [
      "대신증권\n",
      "대신증권\n"
     ]
    }
   ],
   "source": [
    "print_ntimes(2)"
   ]
  },
  {
   "cell_type": "code",
   "execution_count": 22,
   "metadata": {
    "collapsed": false
   },
   "outputs": [
    {
     "name": "stdout",
     "output_type": "stream",
     "text": [
      "대신증권\n",
      "대신증권\n",
      "대신증권\n",
      "대신증권\n",
      "대신증권\n"
     ]
    }
   ],
   "source": [
    "print_ntimes(5)"
   ]
  },
  {
   "cell_type": "code",
   "execution_count": 23,
   "metadata": {
    "collapsed": false
   },
   "outputs": [
    {
     "name": "stdout",
     "output_type": "stream",
     "text": [
      "이처럼 프로그래밍 분야에서 함수라는 놈은 처음에 한 번만 잘 만들어 두면 두고두고 함수를 호출함으로써 원하는 기능을 실행시킬 수 있습니다. 사실 프로그래밍을 할 때 여러분들이 꼭 모든 함수를 만들 필요는 없습니다. 여러분들 주변이나 인터넷 세상의 누군가가 특정 기능을 하는 함수를 잘 만들어 두었다면 여러분들은 단지 그 함수를 잘 호출만 하면 되는 것입니다. 물론 이미 구현된 함수의 인자로 입력 값을 잘 넣어주어야 올바른 출력 값이 나오므로 함수를 잘 사용하는 것은 여러분의 몫이 되겠습니다.\n"
     ]
    }
   ],
   "source": [
    "print \"이처럼 프로그래밍 분야에서 함수라는 놈은 처음에 한 번만 잘 만들어 두면 두고두고 함수를 호출함으로써 원하는 기능을 실행시킬 수 있습니다. 사실 프로그래밍을 할 때 여러분들이 꼭 모든 함수를 만들 필요는 없습니다. 여러분들 주변이나 인터넷 세상의 누군가가 특정 기능을 하는 함수를 잘 만들어 두었다면 여러분들은 단지 그 함수를 잘 호출만 하면 되는 것입니다. 물론 이미 구현된 함수의 인자로 입력 값을 잘 넣어주어야 올바른 출력 값이 나오므로 함수를 잘 사용하는 것은 여러분의 몫이 되겠습니다.\""
   ]
  },
  {
   "cell_type": "markdown",
   "metadata": {},
   "source": [
    "# 리턴 값이 있는 함수"
   ]
  },
  {
   "cell_type": "code",
   "execution_count": 25,
   "metadata": {
    "collapsed": false
   },
   "outputs": [
    {
     "name": "stdout",
     "output_type": "stream",
     "text": [
      "이번에는 어떤 주식 종목의 전날 종가를 입력받아서 상한가 (30%)를 계산하고 그 값을 '리턴' 해주는 함수를 작성해보도록 하겠습니다. 이번 절에서 배울 내용 중 중요한 점은 앞에서 배운 함수와 달리 함수에 '리턴' 값이 존재한다는 점입니다. 참고로 여러분들이 위에서 작성한 함수는 함수를 호출했을 때 함수의 결과가 화면에 '출력'이 되었지 어떤 결괏값이 '리턴'된 것은 아니었습니다. \n",
      "\n",
      "먼저 상한가를 계산하는 함수의 이름을 'cal_upper'라고 하고 함수의 입력으로 전날 종가를 받도록 구현해 보겠습니다. 함수 내부는 아직 어떻게 구현하면 좋을지 감이 오지 않으므로 임시방편으로 앞에서 배웠던 키워드인 'pass'를 사용하여 다음과 같이 코딩합니다.\n"
     ]
    }
   ],
   "source": [
    "print \"이번에는 어떤 주식 종목의 전날 종가를 입력받아서 상한가 (30%)를 계산하고 그 값을 '리턴' 해주는 함수를 작성해보도록 하겠습니다. 이번 절에서 배울 내용 중 중요한 점은 앞에서 배운 함수와 달리 함수에 '리턴' 값이 존재한다는 점입니다. 참고로 여러분들이 위에서 작성한 함수는 함수를 호출했을 때 함수의 결과가 화면에 '출력'이 되었지 어떤 결괏값이 '리턴'된 것은 아니었습니다. \\n\\n먼저 상한가를 계산하는 함수의 이름을 'cal_upper'라고 하고 함수의 입력으로 전날 종가를 받도록 구현해 보겠습니다. 함수 내부는 아직 어떻게 구현하면 좋을지 감이 오지 않으므로 임시방편으로 앞에서 배웠던 키워드인 'pass'를 사용하여 다음과 같이 코딩합니다.\""
   ]
  },
  {
   "cell_type": "code",
   "execution_count": 26,
   "metadata": {
    "collapsed": true
   },
   "outputs": [],
   "source": [
    "def cal_upper(price):\n",
    "    pass"
   ]
  },
  {
   "cell_type": "code",
   "execution_count": 27,
   "metadata": {
    "collapsed": false
   },
   "outputs": [
    {
     "name": "stdout",
     "output_type": "stream",
     "text": [
      "새로 함수를 만들었으니 함수를 호출해보도록 하겠습니다. 정의된 함수를 호출했지만 아직은 아무런 동작을 하지 않는 것을 확인할 수 있습니다.\n"
     ]
    }
   ],
   "source": [
    "print \"새로 함수를 만들었으니 함수를 호출해보도록 하겠습니다. 정의된 함수를 호출했지만 아직은 아무런 동작을 하지 않는 것을 확인할 수 있습니다.\""
   ]
  },
  {
   "cell_type": "code",
   "execution_count": 28,
   "metadata": {
    "collapsed": true
   },
   "outputs": [],
   "source": [
    "cal_upper(10000)"
   ]
  },
  {
   "cell_type": "code",
   "execution_count": 29,
   "metadata": {
    "collapsed": false
   },
   "outputs": [
    {
     "name": "stdout",
     "output_type": "stream",
     "text": [
      "앞서 설명한 것처럼 상한가는 하루에 최대한 오를 수 있는 한도로 2015년 6월 15일부터는 전날 종가에서 30% 오른 금액입니다. 따라서 상한가를 계산하기 위해서는 먼저 전날 종가의 30%에 해당하는 금액을 계산해야 합니다. 아래의 코드에서 'increment'라는 변수가 전날 종가를 바인딩하고 있는 'price'에 0.3을 곱한 결괏값을 바인딩하고 있습니다.\n"
     ]
    }
   ],
   "source": [
    "print \"앞서 설명한 것처럼 상한가는 하루에 최대한 오를 수 있는 한도로 2015년 6월 15일부터는 전날 종가에서 30% 오른 금액입니다. 따라서 상한가를 계산하기 위해서는 먼저 전날 종가의 30%에 해당하는 금액을 계산해야 합니다. 아래의 코드에서 'increment'라는 변수가 전날 종가를 바인딩하고 있는 'price'에 0.3을 곱한 결괏값을 바인딩하고 있습니다.\""
   ]
  },
  {
   "cell_type": "code",
   "execution_count": 30,
   "metadata": {
    "collapsed": true
   },
   "outputs": [],
   "source": [
    "def cal_upper(price):\n",
    "    increment = price * 0.3"
   ]
  },
  {
   "cell_type": "code",
   "execution_count": 31,
   "metadata": {
    "collapsed": false
   },
   "outputs": [
    {
     "name": "stdout",
     "output_type": "stream",
     "text": [
      "위의 increment라는 변수가 전날 종가의 30%에 해당하는 금액을 바인딩하고 있으므로 전날 종가 (price)에 increment ('전날 종가의 30%)를 더하면 대략적인 상한가를 계산할 수 있습니다. \n"
     ]
    }
   ],
   "source": [
    "print \"위의 increment라는 변수가 전날 종가의 30%에 해당하는 금액을 바인딩하고 있으므로 전날 종가 (price)에 increment ('전날 종가의 30%)를 더하면 대략적인 상한가를 계산할 수 있습니다. \""
   ]
  },
  {
   "cell_type": "code",
   "execution_count": 32,
   "metadata": {
    "collapsed": true
   },
   "outputs": [],
   "source": [
    "def cal_upper(price):\n",
    "    increment = price * 0.3\n",
    "    upper_price = price + increment"
   ]
  },
  {
   "cell_type": "code",
   "execution_count": 33,
   "metadata": {
    "collapsed": false
   },
   "outputs": [
    {
     "name": "stdout",
     "output_type": "stream",
     "text": [
      "위의 코드를 보면 먼저 전날 종가의 30%에 해당하는 금액을 'increment'가 바인딩하고 있고, 이 값을 전날 종가 'price'와 더하여 상한가를 계산합니다. 최종으로 계산된 상한가는 'upper_price'가 바인딩하게 됩니다. \n",
      "\n",
      "수정된 함수가 제대로 동작하는지 확인하기 위해 다시 함수를 호출해보도록 하겠습니다. 함수의 인자로 10,000원을 입력하면 30% 오른 금액인 13,000원이 나와야 함수가 제대로 구현된 것입니다.그러나 아래의 코드에서는 함수의 인자로 '10000'을 사용하여 함수를 호출했지만 파이썬 IDLE 상에서는 아무런 변화가 없이 명령어 프롬프트가 다시 나타나고 있습니다. 함수의 구현 내용을 살펴보면 문제가 없어 보이는데 왜 값이 리턴되지 않는 것일까요?\n"
     ]
    }
   ],
   "source": [
    "print \"위의 코드를 보면 먼저 전날 종가의 30%에 해당하는 금액을 'increment'가 바인딩하고 있고, 이 값을 전날 종가 'price'와 더하여 상한가를 계산합니다. 최종으로 계산된 상한가는 'upper_price'가 바인딩하게 됩니다. \\n\\n수정된 함수가 제대로 동작하는지 확인하기 위해 다시 함수를 호출해보도록 하겠습니다. 함수의 인자로 10,000원을 입력하면 30% 오른 금액인 13,000원이 나와야 함수가 제대로 구현된 것입니다.그러나 아래의 코드에서는 함수의 인자로 '10000'을 사용하여 함수를 호출했지만 파이썬 IDLE 상에서는 아무런 변화가 없이 명령어 프롬프트가 다시 나타나고 있습니다. 함수의 구현 내용을 살펴보면 문제가 없어 보이는데 왜 값이 리턴되지 않는 것일까요?\""
   ]
  },
  {
   "cell_type": "code",
   "execution_count": 34,
   "metadata": {
    "collapsed": true
   },
   "outputs": [],
   "source": [
    "def cal_upper(price):\n",
    "    increment = price * 0.3\n",
    "    upper_price = price + increment\n",
    "    \n",
    "cal_upper(10000)"
   ]
  },
  {
   "cell_type": "markdown",
   "metadata": {},
   "source": [
    "# 함수 호출 과정 이해하기"
   ]
  },
  {
   "cell_type": "code",
   "execution_count": 35,
   "metadata": {
    "collapsed": false
   },
   "outputs": [
    {
     "name": "stdout",
     "output_type": "stream",
     "text": [
      "위의 코드가 제대로 동작하지 않는 이유를 이해하기 위해서는 파이썬의 함수 호출과정 동안의 메모리의 상태 변화를 알아야 합니다. 파이썬에서 def 키워드를 통해 함수를 정의하는 것은 말 그대로 함수를 정의하는 것이며 함수가 정의됐다고 해서 함수가 실행되는 것은 아닙니다. 함수가 실행되기 위해서는 함수를 '호출'해야 합니다. 그렇다면 함수가 '호출'될 때 메모리 상에서는 어떤 일이 벌어질까요?\n"
     ]
    }
   ],
   "source": [
    "print \"위의 코드가 제대로 동작하지 않는 이유를 이해하기 위해서는 파이썬의 함수 호출과정 동안의 메모리의 상태 변화를 알아야 합니다. 파이썬에서 def 키워드를 통해 함수를 정의하는 것은 말 그대로 함수를 정의하는 것이며 함수가 정의됐다고 해서 함수가 실행되는 것은 아닙니다. 함수가 실행되기 위해서는 함수를 '호출'해야 합니다. 그렇다면 함수가 '호출'될 때 메모리 상에서는 어떤 일이 벌어질까요?\""
   ]
  },
  {
   "cell_type": "code",
   "execution_count": 36,
   "metadata": {
    "collapsed": false
   },
   "outputs": [
    {
     "name": "stdout",
     "output_type": "stream",
     "text": [
      "파이썬에서 함수를 호출하면 함수의 인자에 위치하는 변수 'price'가 함수 호출 시 입력된 인자 값 10,000을 바인딩하게 됩니다. 함수 호출 시 입력된 인자 값 10,000은 컴퓨터 메모리의 어딘가의 공간에 할당됩니다. 여기까지가 '함수 호출 단계'의 메모리 상태입니다. 중요한 개념입니다. \n",
      "\n",
      "함수 호출의 두 번째 단계는 '함수 실행 단계'입니다. 이 단계에서는 함수를 정의할 때 작성한 코드가 실제로 수행됩니다. 'cal_upper'함수에는 아래와 같은 코드가 구현되어 있었습니다.\n"
     ]
    }
   ],
   "source": [
    "print \"파이썬에서 함수를 호출하면 함수의 인자에 위치하는 변수 'price'가 함수 호출 시 입력된 인자 값 10,000을 바인딩하게 됩니다. 함수 호출 시 입력된 인자 값 10,000은 컴퓨터 메모리의 어딘가의 공간에 할당됩니다. 여기까지가 '함수 호출 단계'의 메모리 상태입니다. 중요한 개념입니다. \\n\\n함수 호출의 두 번째 단계는 '함수 실행 단계'입니다. 이 단계에서는 함수를 정의할 때 작성한 코드가 실제로 수행됩니다. 'cal_upper'함수에는 아래와 같은 코드가 구현되어 있었습니다.\""
   ]
  },
  {
   "cell_type": "code",
   "execution_count": null,
   "metadata": {
    "collapsed": true
   },
   "outputs": [],
   "source": [
    "increment = price * 0.3\n",
    "upper_price = price + increment"
   ]
  },
  {
   "cell_type": "code",
   "execution_count": 38,
   "metadata": {
    "collapsed": false
   },
   "outputs": [
    {
     "name": "stdout",
     "output_type": "stream",
     "text": [
      "먼저 첫 번째 문장이 실행되고 이에 따라 'price * 0.3'의 결괏값이 메모리의 어딘가에 할당됩니다. 'increment'라는 변수는 이 할당된 값을 바인딩합니다. 여기서 중요한 것은 'price * 0.3'이라는 연산의 결괏값이 메모리의 어딘가에 실제로 위치한다는 점입니다. 그다음 위의 코드에서 두 번째 문장이 실행되고 이에 따라 'price + increment'의 결괏값이 메모리의 어딘가에 할당되고 그 값을 'upper_price'라는 변수가 바인딩하게 됩니다. 코드가 여기까지 수행됐을 때 'price', 'increment', 'upper_price'라는 변수가 바인딩하는 값들이 실제로 메모리에 있다는 개념을 이해하는 것이 중요합니다.\n"
     ]
    }
   ],
   "source": [
    "print \"먼저 첫 번째 문장이 실행되고 이에 따라 'price * 0.3'의 결괏값이 메모리의 어딘가에 할당됩니다. 'increment'라는 변수는 이 할당된 값을 바인딩합니다. 여기서 중요한 것은 'price * 0.3'이라는 연산의 결괏값이 메모리의 어딘가에 실제로 위치한다는 점입니다. 그다음 위의 코드에서 두 번째 문장이 실행되고 이에 따라 'price + increment'의 결괏값이 메모리의 어딘가에 할당되고 그 값을 'upper_price'라는 변수가 바인딩하게 됩니다. 코드가 여기까지 수행됐을 때 'price', 'increment', 'upper_price'라는 변수가 바인딩하는 값들이 실제로 메모리에 있다는 개념을 이해하는 것이 중요합니다.\""
   ]
  },
  {
   "cell_type": "code",
   "execution_count": 39,
   "metadata": {
    "collapsed": false
   },
   "outputs": [
    {
     "name": "stdout",
     "output_type": "stream",
     "text": [
      "함수 호출의 세 번째 단계는 '함수 종료 단계'입니다. 함수가 호출되게 되면 '함수 호출 단계' 및 '함수 실행 단계'에서 중간값들이 메모리에 할당됨을 배웠습니다. 이처럼 함수가 호출됨에 따라 메모리가 사용되기 때문에 함수를 계속해서 호출하면 언젠가는 시스템의 메모리가 모자라게 될 것입니다. 가끔 스마트폰이나 컴퓨터에서 메모리가 부족해서 시스템이 중지되거나 느려지는 경험을 한 적이 있을 것입니다. 이런 것들이 모두 프로그램이 실행됨에 따라 메모리를 사용하기 때문에 발생하는 문제입니다.\n"
     ]
    }
   ],
   "source": [
    "print \"함수 호출의 세 번째 단계는 '함수 종료 단계'입니다. 함수가 호출되게 되면 '함수 호출 단계' 및 '함수 실행 단계'에서 중간값들이 메모리에 할당됨을 배웠습니다. 이처럼 함수가 호출됨에 따라 메모리가 사용되기 때문에 함수를 계속해서 호출하면 언젠가는 시스템의 메모리가 모자라게 될 것입니다. 가끔 스마트폰이나 컴퓨터에서 메모리가 부족해서 시스템이 중지되거나 느려지는 경험을 한 적이 있을 것입니다. 이런 것들이 모두 프로그램이 실행됨에 따라 메모리를 사용하기 때문에 발생하는 문제입니다.\""
   ]
  },
  {
   "cell_type": "code",
   "execution_count": 40,
   "metadata": {
    "collapsed": false
   },
   "outputs": [
    {
     "name": "stdout",
     "output_type": "stream",
     "text": [
      "파이썬에서는 위와 같은 메모리 관리 문제를 해결하기 위해 할당된 메모리를 자동으로 관리하는 메커니즘을 사용하고 있습니다. 한 예로 함수 호출 과정에서 할당된 메모리는 함수 호출이 끝나 더는 사용되지 않을 때 자동으로 메모리에서 삭제됩니다. 따라서 '함수 종료 단계'처럼 앞의 두 단계에서 할당된 메모리는 함수 호출이 끝나면 (함수를 호출한 쪽으로 실행이 다시 돌아가면) 더는 사용되지 않기 때문에 모두 삭제됩니다. 이처럼 함수가 종료될 때 함수 내부에서 계산된 값이 메모리에서 같이 삭제되었기 때문에 위의 코드가 제대로 동작하지 않았던 것입니다.\n"
     ]
    }
   ],
   "source": [
    "print \"파이썬에서는 위와 같은 메모리 관리 문제를 해결하기 위해 할당된 메모리를 자동으로 관리하는 메커니즘을 사용하고 있습니다. 한 예로 함수 호출 과정에서 할당된 메모리는 함수 호출이 끝나 더는 사용되지 않을 때 자동으로 메모리에서 삭제됩니다. 따라서 '함수 종료 단계'처럼 앞의 두 단계에서 할당된 메모리는 함수 호출이 끝나면 (함수를 호출한 쪽으로 실행이 다시 돌아가면) 더는 사용되지 않기 때문에 모두 삭제됩니다. 이처럼 함수가 종료될 때 함수 내부에서 계산된 값이 메모리에서 같이 삭제되었기 때문에 위의 코드가 제대로 동작하지 않았던 것입니다.\""
   ]
  },
  {
   "cell_type": "code",
   "execution_count": 42,
   "metadata": {
    "collapsed": false
   },
   "outputs": [
    {
     "name": "stdout",
     "output_type": "stream",
     "text": [
      "지금까지 설명한 파이썬 함수 호출의 원리를 잘 이해했다면 'cal_upper'함수를 호출했을 때 왜 어떤 값도 사용할 수 없었는지가 이해되셨을 겁니다. \n",
      "\n",
      "그렇다면 어떻게 우리는 함수 내부에서 계산된 최종 결괏값을 함수의 외부로 안전하게 전달할 수 있을까요? 파이썬은 함수 내부에서 계산된 값을 함수 외부로 (함수를 호출한 곳으로) 보내기 위해서 'return'이라는 키워드를 사용합니다. 'return'이라는 영어 단어가 '돌려주다'라는 뜻을 가지고 있는 것을 생각하면 함수 내에서 계산된 값을 함수 외부로 보내주기 위해 'return'이라는 키워드를 사용하는것이 적절해 보입니다. \n",
      "\n",
      "아래는 수정된 함수 및 함수의 호출 결과를 보입니다. 위와 비교하면 함수의 끝 부분에 함수 내에서 계산된 값인 'upper_price'를 리턴하는 코드가 있음을 알 수 있습니다. 이처럼 함수에서 계산된 값은 항상 '리턴(돌려주기)'를 해줘야 함수를 호출한 부분에서 그 값을 사용할 수 있습니다. 아래의 코드를 참조하면 함수가 호출된 다음 파이썬 프롬프트 상에 '13000.0'이 나타남을 확인할 수 있습니다. \n"
     ]
    }
   ],
   "source": [
    "print \"지금까지 설명한 파이썬 함수 호출의 원리를 잘 이해했다면 'cal_upper'함수를 호출했을 때 왜 어떤 값도 사용할 수 없었는지가 이해되셨을 겁니다. \\n\\n그렇다면 어떻게 우리는 함수 내부에서 계산된 최종 결괏값을 함수의 외부로 안전하게 전달할 수 있을까요? 파이썬은 함수 내부에서 계산된 값을 함수 외부로 (함수를 호출한 곳으로) 보내기 위해서 'return'이라는 키워드를 사용합니다. 'return'이라는 영어 단어가 '돌려주다'라는 뜻을 가지고 있는 것을 생각하면 함수 내에서 계산된 값을 함수 외부로 보내주기 위해 'return'이라는 키워드를 사용하는것이 적절해 보입니다. \\n\\n아래는 수정된 함수 및 함수의 호출 결과를 보입니다. 위와 비교하면 함수의 끝 부분에 함수 내에서 계산된 값인 'upper_price'를 리턴하는 코드가 있음을 알 수 있습니다. 이처럼 함수에서 계산된 값은 항상 '리턴(돌려주기)'를 해줘야 함수를 호출한 부분에서 그 값을 사용할 수 있습니다. 아래의 코드를 참조하면 함수가 호출된 다음 파이썬 프롬프트 상에 '13000.0'이 나타남을 확인할 수 있습니다. \""
   ]
  },
  {
   "cell_type": "code",
   "execution_count": 43,
   "metadata": {
    "collapsed": false
   },
   "outputs": [
    {
     "data": {
      "text/plain": [
       "13000.0"
      ]
     },
     "execution_count": 43,
     "metadata": {},
     "output_type": "execute_result"
    }
   ],
   "source": [
    "def cal_upper(price):\n",
    "    increment = price * 0.3\n",
    "    upper_price = price + increment\n",
    "    return upper_price\n",
    "\n",
    "cal_upper(10000)"
   ]
  },
  {
   "cell_type": "code",
   "execution_count": 44,
   "metadata": {
    "collapsed": false
   },
   "outputs": [
    {
     "name": "stdout",
     "output_type": "stream",
     "text": [
      "아래는 수정 된 'cal_upper'함수를 이용하여 전일 종가가 1,000원 일 때에 대한 상한가와 5,000원 일 때에 대한 상한가를 계산해 본 것입니다. 'cal_upper'함수는 함수를 호출한 쪽으로 계산된 상한가를 리턴해주기 때문에 그 값을 바인딩하기 위해서 'upper_price'라는 변수를 사용했습니다. 여기서 중요한 점은 함수 호출부에 있는 'upper_price'라는 변수와 함수 내에 있는 'upper_price'가 다르다는 점입니다.\n"
     ]
    }
   ],
   "source": [
    "print \"아래는 수정 된 'cal_upper'함수를 이용하여 전일 종가가 1,000원 일 때에 대한 상한가와 5,000원 일 때에 대한 상한가를 계산해 본 것입니다. 'cal_upper'함수는 함수를 호출한 쪽으로 계산된 상한가를 리턴해주기 때문에 그 값을 바인딩하기 위해서 'upper_price'라는 변수를 사용했습니다. 여기서 중요한 점은 함수 호출부에 있는 'upper_price'라는 변수와 함수 내에 있는 'upper_price'가 다르다는 점입니다.\""
   ]
  },
  {
   "cell_type": "code",
   "execution_count": 45,
   "metadata": {
    "collapsed": false
   },
   "outputs": [
    {
     "name": "stdout",
     "output_type": "stream",
     "text": [
      "1300.0\n"
     ]
    }
   ],
   "source": [
    "upper_price = cal_upper(1000)\n",
    "print upper_price"
   ]
  },
  {
   "cell_type": "code",
   "execution_count": 46,
   "metadata": {
    "collapsed": false
   },
   "outputs": [
    {
     "name": "stdout",
     "output_type": "stream",
     "text": [
      "6500.0\n"
     ]
    }
   ],
   "source": [
    "upper_price = cal_upper(5000)\n",
    "print upper_price"
   ]
  },
  {
   "cell_type": "code",
   "execution_count": 48,
   "metadata": {
    "collapsed": false
   },
   "outputs": [
    {
     "name": "stdout",
     "output_type": "stream",
     "text": [
      "함수 호출 과정에서 발생하는 메모리 해제가 잘 이해가 안 가는 분은 다음의 이야기를 읽어보기 바랍니다. \n",
      "\n",
      "어떤 노인이 평생 모은 돈을 통장(함수의 결괏값에 해당)에 넣어두었고 통장은 집 어딘가에 숨겨 두었습니다. 노인이 그 돈을 자식에 물려주고자 한다면 자식이 죽기 전에 통장 위치를 자식에게 알려줘야 합니다.(함수 리턴에 해당) 만약 노인이 자식에게 통장의 위치를 알려주지 않고 죽어버리면 (리턴 없이 함수 종료) 자식들은 그 통장에 있는 돈을 영영 찾을 수 없게 됩니다. \n"
     ]
    }
   ],
   "source": [
    "print \"함수 호출 과정에서 발생하는 메모리 해제가 잘 이해가 안 가는 분은 다음의 이야기를 읽어보기 바랍니다. \\n\\n어떤 노인이 평생 모은 돈을 통장(함수의 결괏값에 해당)에 넣어두었고 통장은 집 어딘가에 숨겨 두었습니다. 노인이 그 돈을 자식에 물려주고자 한다면 자식이 죽기 전에 통장 위치를 자식에게 알려줘야 합니다.(함수 리턴에 해당) 만약 노인이 자식에게 통장의 위치를 알려주지 않고 죽어버리면 (리턴 없이 함수 종료) 자식들은 그 통장에 있는 돈을 영영 찾을 수 없게 됩니다. \""
   ]
  },
  {
   "cell_type": "code",
   "execution_count": 49,
   "metadata": {
    "collapsed": false
   },
   "outputs": [
    {
     "name": "stdout",
     "output_type": "stream",
     "text": [
      "어떤가요? 좀 이해가 됐나요? \n",
      "\n",
      " 저자는 함수의 호출 과정을 '방'을 이용하여 다음과 같이 설명을 하기도 합니다. \n",
      "\n",
      " 집에 거실과 안방이 있는데 파이썬 코드는 기본적으로 거실에서 실행됩니다. 이 상태에서 함수가 호출되면 안방 문을 열고 들어갑니다. 이때 함수 인자가 거실에서 안방으로 전달됩니다. 안방 문이 닫히고 안방 내에서 어떤 연산이 수행됩니다. 함수 내의 모든 코드가 실행됐다면 다시 안방 문이 열리고 결괏값을 거실로 넘겨줍니다.(함수의 리턴). 함수 호출이 완료되면 안방 문이 닫히기 때문에 거실에서는 더는 안방에 어떤 값이 있었는지를 확인할 수 없습니다. 오직 함수가 호출될 때 그리고 함수가 종료되 때만 인자의 전달과 리턴값의 전달을 통해서만 값이 전달될 수 있습니다. 함수 종료 후 안방 문이 닫히면 안방 내에서 생성된 값들은 모두 정리가 됩니다. (메모리 해제). \n"
     ]
    }
   ],
   "source": [
    "print \"어떤가요? 좀 이해가 됐나요? \\n\\n 저자는 함수의 호출 과정을 '방'을 이용하여 다음과 같이 설명을 하기도 합니다. \\n\\n 집에 거실과 안방이 있는데 파이썬 코드는 기본적으로 거실에서 실행됩니다. 이 상태에서 함수가 호출되면 안방 문을 열고 들어갑니다. 이때 함수 인자가 거실에서 안방으로 전달됩니다. 안방 문이 닫히고 안방 내에서 어떤 연산이 수행됩니다. 함수 내의 모든 코드가 실행됐다면 다시 안방 문이 열리고 결괏값을 거실로 넘겨줍니다.(함수의 리턴). 함수 호출이 완료되면 안방 문이 닫히기 때문에 거실에서는 더는 안방에 어떤 값이 있었는지를 확인할 수 없습니다. 오직 함수가 호출될 때 그리고 함수가 종료되 때만 인자의 전달과 리턴값의 전달을 통해서만 값이 전달될 수 있습니다. 함수 종료 후 안방 문이 닫히면 안방 내에서 생성된 값들은 모두 정리가 됩니다. (메모리 해제). \" "
   ]
  },
  {
   "cell_type": "code",
   "execution_count": 50,
   "metadata": {
    "collapsed": false
   },
   "outputs": [
    {
     "data": {
      "text/plain": [
       "700.0"
      ]
     },
     "execution_count": 50,
     "metadata": {},
     "output_type": "execute_result"
    }
   ],
   "source": [
    "def cal_lower(price):\n",
    "    decrement = price * 0.3\n",
    "    lower_price = price - decrement\n",
    "    return lower_price\n",
    "\n",
    "cal_lower(1000)"
   ]
  },
  {
   "cell_type": "code",
   "execution_count": 51,
   "metadata": {
    "collapsed": false
   },
   "outputs": [
    {
     "data": {
      "text/plain": [
       "3500.0"
      ]
     },
     "execution_count": 51,
     "metadata": {},
     "output_type": "execute_result"
    }
   ],
   "source": [
    "cal_lower(5000)"
   ]
  },
  {
   "cell_type": "code",
   "execution_count": 52,
   "metadata": {
    "collapsed": false
   },
   "outputs": [
    {
     "name": "stdout",
     "output_type": "stream",
     "text": [
      "만약 하한가가 되었을때의 주가입니다. 함수의 이름이 cal_lower로 변경되었고 함수 내부에서 사용하는 변수가 increment 에서 decrement로 변경된 것을 알 수 있습니다. 그리고 하한가는 전날 종가에서 30% 만큼 하락해야 하므로 price - decrement로 코딩된 것을 확인할 수 있습니다. \n"
     ]
    }
   ],
   "source": [
    "print \"만약 하한가가 되었을때의 주가입니다. 함수의 이름이 cal_lower로 변경되었고 함수 내부에서 사용하는 변수가 increment 에서 decrement로 변경된 것을 알 수 있습니다. 그리고 하한가는 전날 종가에서 30% 만큼 하락해야 하므로 price - decrement로 코딩된 것을 확인할 수 있습니다. \""
   ]
  },
  {
   "cell_type": "markdown",
   "metadata": {},
   "source": [
    "# 두 개의 값을 리턴하기"
   ]
  },
  {
   "cell_type": "code",
   "execution_count": 53,
   "metadata": {
    "collapsed": false
   },
   "outputs": [
    {
     "name": "stdout",
     "output_type": "stream",
     "text": [
      "파이썬 이전에 C/C++과 같은 프로그래밍 언어를 배운 분들은 함수의 리턴 값이 오직 하나라는 것을 아실 겁니다. 예를 들어 상한가와 하한가를 동시에 구하는 함수를 작성하더라도 결괏값을 리턴할 때는 두 값을 동시에 리턴할 수 없습니다. 파이썬은 어떨까요? 파이썬도 기본적으로는 함수의 리턴 값으로 하나의 객체만을 리턴할 수 있습니다. 다만 파이썬에서는 리턴할 여러 개의 데이터를 앞에서 배운 튜플 이라는 자료 구조에 넣은 후 튜플을 리턴함으로써 동시에 여러 개의 값을 리턴할 수 있습니다. \\n\n",
      "앞서 우리는 상한가와 하한가를 구하는 함수를 각각 작성해보았습니다. 이번에는 하나의 함수에서 '전일 종가'를 입력받은 후 상한가와 하한가를 한번에 계산하는 함수인 'cal_upper_lower'함수를 작성해 보겠습니다.\n"
     ]
    }
   ],
   "source": [
    "print \"파이썬 이전에 C/C++과 같은 프로그래밍 언어를 배운 분들은 함수의 리턴 값이 오직 하나라는 것을 아실 겁니다. 예를 들어 상한가와 하한가를 동시에 구하는 함수를 작성하더라도 결괏값을 리턴할 때는 두 값을 동시에 리턴할 수 없습니다. 파이썬은 어떨까요? 파이썬도 기본적으로는 함수의 리턴 값으로 하나의 객체만을 리턴할 수 있습니다. 다만 파이썬에서는 리턴할 여러 개의 데이터를 앞에서 배운 튜플 이라는 자료 구조에 넣은 후 튜플을 리턴함으로써 동시에 여러 개의 값을 리턴할 수 있습니다. \\\\n\\n앞서 우리는 상한가와 하한가를 구하는 함수를 각각 작성해보았습니다. 이번에는 하나의 함수에서 '전일 종가'를 입력받은 후 상한가와 하한가를 한번에 계산하는 함수인 'cal_upper_lower'함수를 작성해 보겠습니다.\""
   ]
  },
  {
   "cell_type": "code",
   "execution_count": 54,
   "metadata": {
    "collapsed": false
   },
   "outputs": [
    {
     "data": {
      "text/plain": [
       "13000.0"
      ]
     },
     "execution_count": 54,
     "metadata": {},
     "output_type": "execute_result"
    }
   ],
   "source": [
    "def cal_upper_lower(price):\n",
    "    offset = price * 0.3\n",
    "    upper = price + offset\n",
    "    lower = price - offset\n",
    "    return (upper, lower)\n",
    "\n",
    "(upper, lower) = cal_upper_lower(10000)\n",
    "upper"
   ]
  },
  {
   "cell_type": "code",
   "execution_count": 55,
   "metadata": {
    "collapsed": false
   },
   "outputs": [
    {
     "data": {
      "text/plain": [
       "7000.0"
      ]
     },
     "execution_count": 55,
     "metadata": {},
     "output_type": "execute_result"
    }
   ],
   "source": [
    "lower"
   ]
  },
  {
   "cell_type": "raw",
   "metadata": {
    "collapsed": false
   },
   "source": [
    "print \"위의 코드를 참조하면 상한가와 하한가를 구하는 부분은 기존의 함수와 같습니다. 다만 함수에서 결괏값을 '리턴'할 때 '('와')' 기호를 사용하여 상한가와 하한가를 하나의 튜플로 구성한 후 해당 튜플을 리턴하는 것을 볼 수 있습니다. 어떤가요? 생각보다 간단하죠? \\n\\n 함수를 만들었으니 함수가 정상적으로 동작하는지 테스트해보도록 하겠습니다. 위의 코드를 보면 함수를 호출하는 부분에 함수에서 리턴되는 두 개의 값을 받기 위해서 역시 '(upper, lower)'라는 튜플을 사용한 것을 볼 수 있습니다. 10,000원에 대한 상한가와 하한가를 계산해보니 상한가는 13,000원으로 하한가는 7,000원으로 잘 계산된 것을 확인할 수 있습니다.\""
   ]
  },
  {
   "cell_type": "markdown",
   "metadata": {},
   "source": [
    "Q : return() 명령은 화면에 아무것도 보여 주지는 않는다는 것 외에는 print()와 같은가요?\n",
    "\n",
    "A : print() 명령은 일반적으로 화면에  메시지를 출력하기 위해서 만들어진 명령입니다. return() 명령은 여러분이 작성한 함수가 프로그램에 어떤한 값을 제공할 수 있도록 만들어 졌습니다.\n",
    "    "
   ]
  },
  {
   "cell_type": "markdown",
   "metadata": {},
   "source": [
    "Q : 그러면 함수가 프로그램에 어떤 값을 반환해 주도록 하는 것이 return() 이군요?\n",
    "\n",
    "A : 네. 맞습니다. \n",
    "    \n",
    "\n",
    "Q : 아직 함수를 써야 하는 이유를 잘 모르겠어요. 그냥 복사해서 붙여 넣는 것이 쉽고 빠르지 않나요?\n",
    "    \n",
    "A : 아니요. 복사해서 붙여 넣는 것은 빠르기는 하지만 지저분한 방법입니다. 여기서 지저분하다는 것이 문제입니다. 어떤 코드를 반복적으로 사용해야 할 때에는 코드에 이름을 붙여서 함수를 만드는 것이 언제나 더 나은 방법입니다. 만약 나중에 반복되는 코드를 수정해야 하는 경우 함수로 구현했다면 함수 안의 코드를 간단히 한번에 바꿀 수 있습니다. 그러나 만약 복사해 넣은 코드가 다섯 군데에 있다면 다섯 군데를 모두 수정해야 합니다. 이렇게 하면 수정할 때 빼먹는 경우나 잘못 수정하는 등의 실수를 할 가능성이 높아집니다. "
   ]
  },
  {
   "cell_type": "markdown",
   "metadata": {},
   "source": [
    "Q : 그러면 함수를 사용해야 반복되는 코드를 적절히 관리할 수 있게 되는군요?\n",
    "    \n",
    "A : 네 그렇습니다. 프로그래머들에게는 DRY라고 알려진 원칙이 있습니다. 같은 일을 두번 하지 말라(Don't Repeat Yourself)는 말의 약자입니다. 함수를 사용하면 코드를 깔끔하게 유지할 수 있습니다."
   ]
  },
  {
   "cell_type": "code",
   "execution_count": 1,
   "metadata": {
    "collapsed": true
   },
   "outputs": [],
   "source": [
    "def factorial(n):\n",
    "    space = ' ' * (4 * n)\n",
    "    print space, 'factorial', n\n",
    "    if n == 0:\n",
    "        print space, 'returning 1'\n",
    "        return 1 \n",
    "    else:\n",
    "        recurse = factorial(n-1)\n",
    "        result = n * recurse\n",
    "        print space, 'returning', result\n",
    "        return result"
   ]
  },
  {
   "cell_type": "code",
   "execution_count": 2,
   "metadata": {
    "collapsed": false,
    "scrolled": true
   },
   "outputs": [
    {
     "name": "stdout",
     "output_type": "stream",
     "text": [
      "                     factorial 5\n",
      "                 factorial 4\n",
      "             factorial 3\n",
      "         factorial 2\n",
      "     factorial 1\n",
      " factorial 0\n",
      " returning 1\n",
      "     returning 1\n",
      "         returning 2\n",
      "             returning 6\n",
      "                 returning 24\n",
      "                     returning 120\n"
     ]
    },
    {
     "data": {
      "text/plain": [
       "120"
      ]
     },
     "execution_count": 2,
     "metadata": {},
     "output_type": "execute_result"
    }
   ],
   "source": [
    "factorial (5)"
   ]
  },
  {
   "cell_type": "markdown",
   "metadata": {},
   "source": [
    "생성기 \n",
    "\n",
    "함수는 단일 값을 반환하는 대신, yield문을 사용해 일련의 결과 값을 생성할 수도 있다. yield를 사용하는 함수를 생성기(generator)라고 부른다. 생성기 함수를 호출하면, next() 메서드를 반복적으로 호출할 때 일련의 결과를 반환하는 객체가 생성된다.\n",
    "\n",
    "그리고 next()를 직접 호출하는 일 없이 다음과 같이 for 루프에 연결시켜 사용한다. \n",
    "\n",
    "이 생성기는 처리 파이프라인,스트림,데이터흐름에 기반한 프로그램을 작성할 때 강력한 위력을 발휘한다. "
   ]
  },
  {
   "cell_type": "code",
   "execution_count": 2,
   "metadata": {
    "collapsed": true
   },
   "outputs": [],
   "source": [
    "def countdown(n):\n",
    "    print \"Counting down!\"\n",
    "    while n > 0 : \n",
    "        yield n \n",
    "        n -= 1"
   ]
  },
  {
   "cell_type": "code",
   "execution_count": 3,
   "metadata": {
    "collapsed": true
   },
   "outputs": [],
   "source": [
    "c = countdown(5)"
   ]
  },
  {
   "cell_type": "code",
   "execution_count": 4,
   "metadata": {
    "collapsed": false
   },
   "outputs": [
    {
     "name": "stdout",
     "output_type": "stream",
     "text": [
      "Counting down!\n"
     ]
    },
    {
     "data": {
      "text/plain": [
       "5"
      ]
     },
     "execution_count": 4,
     "metadata": {},
     "output_type": "execute_result"
    }
   ],
   "source": [
    "c.next()"
   ]
  },
  {
   "cell_type": "code",
   "execution_count": 5,
   "metadata": {
    "collapsed": false
   },
   "outputs": [
    {
     "data": {
      "text/plain": [
       "4"
      ]
     },
     "execution_count": 5,
     "metadata": {},
     "output_type": "execute_result"
    }
   ],
   "source": [
    "c.next()"
   ]
  },
  {
   "cell_type": "code",
   "execution_count": 6,
   "metadata": {
    "collapsed": false
   },
   "outputs": [
    {
     "name": "stdout",
     "output_type": "stream",
     "text": [
      "Counting down!\n",
      "5 4 3 2 1\n"
     ]
    }
   ],
   "source": [
    "for i in countdown(5):\n",
    "    print i,"
   ]
  },
  {
   "cell_type": "code",
   "execution_count": null,
   "metadata": {
    "collapsed": true
   },
   "outputs": [],
   "source": []
  }
 ],
 "metadata": {
  "kernelspec": {
   "display_name": "Python 2",
   "language": "python",
   "name": "python2"
  },
  "language_info": {
   "codemirror_mode": {
    "name": "ipython",
    "version": 2
   },
   "file_extension": ".py",
   "mimetype": "text/x-python",
   "name": "python",
   "nbconvert_exporter": "python",
   "pygments_lexer": "ipython2",
   "version": "2.7.12"
  }
 },
 "nbformat": 4,
 "nbformat_minor": 1
}
