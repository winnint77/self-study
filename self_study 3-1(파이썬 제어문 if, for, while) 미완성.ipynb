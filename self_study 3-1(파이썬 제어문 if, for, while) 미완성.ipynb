{
 "cells": [
  {
   "cell_type": "code",
   "execution_count": 2,
   "metadata": {
    "collapsed": false
   },
   "outputs": [
    {
     "name": "stdout",
     "output_type": "stream",
     "text": [
      "컴퓨터 프로그램이란 컴퓨터로 어떤 문제를 해결하기 위해 나열된 명령문들이라고 했습니다. 컴퓨터의 CPU (Central Processing Unit)는 프로그램을 실행할 때 나열된 명령문을 차례로 읽은 후 하나씩 순서대로 실행시켜 줍니다. 여기서 기억해야 할 점은 컴퓨터 프로그램에 나열된 명령문이 CPU에 의해서 차례로 실행된다는 점입니다. 그러나 우리의 일상생활은 항상 이렇게 순서대로만 진행되는 것은 아닙니다. \n",
      "\n",
      "예를 들어 여러분들이 아침에 출근할 때를 생각해봅시다. 아침에 출근할 때 비가 올 것 같으면 우산을 챙겨가고 그렇지 않으면 그냥 출근합니다. 이처럼 우리의 삶에서는 항상 정해진 순서대로 행동하는 것이 아니라 어떤 조건에 따라 다른 행동을 하는 경우도 비일비재 합니다. 또한, 어떤 상황에서는 주어진 일을 반복적으로 수행해야 하는 경우도 있습니다. 예를 들어 저자가 고등학생일 때는 주번들이 매 수업 시간이 끝나면 칠판을 지우곤 했습니다. 주번들은 일주일 동안 이러한 일을 반복적으로 해야 했습니다. \n",
      "\n",
      "프로그래밍 분야에서는 어떤 조건에 따라 다른 명령문을 수행하도록 하는 코드를 분기문이라고 부르고, 어떤 조건에 따라 반복적으로 명령문을 수행하도록 하는 코드를 반복문이라고 부릅니다. 물론 분기문과 반복문 모두 기본적으로 순서대로 수행되는 프로그램의 제어의 흐름을 변화시키기 때문에 이번 장에서 설명하는 제어문에 속합니다. 파이썬에는 if, for, while이라는 제어문이 존재하는데 이를 배워보도록 하겠습니다. \n"
     ]
    }
   ],
   "source": [
    "print \"컴퓨터 프로그램이란 컴퓨터로 어떤 문제를 해결하기 위해 나열된 명령문들이라고 했습니다. 컴퓨터의 CPU (Central Processing Unit)는 프로그램을 실행할 때 나열된 명령문을 차례로 읽은 후 하나씩 순서대로 실행시켜 줍니다. 여기서 기억해야 할 점은 컴퓨터 프로그램에 나열된 명령문이 CPU에 의해서 차례로 실행된다는 점입니다. 그러나 우리의 일상생활은 항상 이렇게 순서대로만 진행되는 것은 아닙니다. \\n\\n예를 들어 여러분들이 아침에 출근할 때를 생각해봅시다. 아침에 출근할 때 비가 올 것 같으면 우산을 챙겨가고 그렇지 않으면 그냥 출근합니다. 이처럼 우리의 삶에서는 항상 정해진 순서대로 행동하는 것이 아니라 어떤 조건에 따라 다른 행동을 하는 경우도 비일비재 합니다. 또한, 어떤 상황에서는 주어진 일을 반복적으로 수행해야 하는 경우도 있습니다. 예를 들어 저자가 고등학생일 때는 주번들이 매 수업 시간이 끝나면 칠판을 지우곤 했습니다. 주번들은 일주일 동안 이러한 일을 반복적으로 해야 했습니다. \\n\\n프로그래밍 분야에서는 어떤 조건에 따라 다른 명령문을 수행하도록 하는 코드를 분기문이라고 부르고, 어떤 조건에 따라 반복적으로 명령문을 수행하도록 하는 코드를 반복문이라고 부릅니다. 물론 분기문과 반복문 모두 기본적으로 순서대로 수행되는 프로그램의 제어의 흐름을 변화시키기 때문에 이번 장에서 설명하는 제어문에 속합니다. 파이썬에는 if, for, while이라는 제어문이 존재하는데 이를 배워보도록 하겠습니다. \""
   ]
  },
  {
   "cell_type": "markdown",
   "metadata": {},
   "source": [
    "# Boolean"
   ]
  },
  {
   "cell_type": "code",
   "execution_count": 3,
   "metadata": {
    "collapsed": false,
    "scrolled": true
   },
   "outputs": [
    {
     "name": "stdout",
     "output_type": "stream",
     "text": [
      "Boolean이라는 자료형은 파이썬의 비교 연산자에서 많이 사용됩니다. 여기서 ‘비교 연산자’라는 것은 어떤 두 값을 비교하는 데 사용되는 연산자를 의미합니다.\n"
     ]
    }
   ],
   "source": [
    "print \"Boolean이라는 자료형은 파이썬의 비교 연산자에서 많이 사용됩니다. 여기서 ‘비교 연산자’라는 것은 어떤 두 값을 비교하는 데 사용되는 연산자를 의미합니다.\""
   ]
  },
  {
   "cell_type": "markdown",
   "metadata": {},
   "source": [
    "연산자\t연산자 의미\n",
    "==\t같다.\n",
    "!=\t다르다.\n",
    ">\t크다.\n",
    "<\t작다.\n",
    ">=\t크거나 같다.\n",
    "<=\t작거나 같다."
   ]
  },
  {
   "cell_type": "code",
   "execution_count": 5,
   "metadata": {
    "collapsed": false
   },
   "outputs": [
    {
     "data": {
      "text/plain": [
       "True"
      ]
     },
     "execution_count": 5,
     "metadata": {},
     "output_type": "execute_result"
    }
   ],
   "source": [
    "3 == 3"
   ]
  },
  {
   "cell_type": "code",
   "execution_count": 6,
   "metadata": {
    "collapsed": false
   },
   "outputs": [
    {
     "data": {
      "text/plain": [
       "False"
      ]
     },
     "execution_count": 6,
     "metadata": {},
     "output_type": "execute_result"
    }
   ],
   "source": [
    "3 != 3"
   ]
  },
  {
   "cell_type": "code",
   "execution_count": 7,
   "metadata": {
    "collapsed": false
   },
   "outputs": [
    {
     "data": {
      "text/plain": [
       "False"
      ]
     },
     "execution_count": 7,
     "metadata": {},
     "output_type": "execute_result"
    }
   ],
   "source": [
    "3 < 3"
   ]
  },
  {
   "cell_type": "code",
   "execution_count": 8,
   "metadata": {
    "collapsed": false
   },
   "outputs": [
    {
     "data": {
      "text/plain": [
       "False"
      ]
     },
     "execution_count": 8,
     "metadata": {},
     "output_type": "execute_result"
    }
   ],
   "source": [
    "3 > 3"
   ]
  },
  {
   "cell_type": "code",
   "execution_count": 9,
   "metadata": {
    "collapsed": false
   },
   "outputs": [
    {
     "data": {
      "text/plain": [
       "True"
      ]
     },
     "execution_count": 9,
     "metadata": {},
     "output_type": "execute_result"
    }
   ],
   "source": [
    "3 <= 3"
   ]
  },
  {
   "cell_type": "code",
   "execution_count": 10,
   "metadata": {
    "collapsed": false
   },
   "outputs": [
    {
     "data": {
      "text/plain": [
       "True"
      ]
     },
     "execution_count": 10,
     "metadata": {},
     "output_type": "execute_result"
    }
   ],
   "source": [
    "3 >= 3"
   ]
  },
  {
   "cell_type": "code",
   "execution_count": 12,
   "metadata": {
    "collapsed": false
   },
   "outputs": [
    {
     "name": "stdout",
     "output_type": "stream",
     "text": [
      "위 처럼 Boolean 자료형은 비교 연산자의 리턴 값으로 자주 사용됩니다. 비교 연산자는 '정수형' 뿐만 아니라 '실수형'과 '문자열' '자료형'에도 적용할 수 있습니다. 아래 예제를 참조하면 mystock이라는 변수는 'Never'라는 문자열을 바인딩하고 있습니다. 이 상태에서 mystock이 바인딩하는 문자열이 'Never'와 같은지( == )  확인해보니 리턴 값으로 'True'가 리턴 된 것을 확인 할 수 있습니다.\n"
     ]
    }
   ],
   "source": [
    "print \"위 처럼 Boolean 자료형은 비교 연산자의 리턴 값으로 자주 사용됩니다. 비교 연산자는 '정수형' 뿐만 아니라 '실수형'과 '문자열' '자료형'에도 적용할 수 있습니다. 아래 예제를 참조하면 mystock이라는 변수는 'Never'라는 문자열을 바인딩하고 있습니다. 이 상태에서 mystock이 바인딩하는 문자열이 'Never'와 같은지( == )  확인해보니 리턴 값으로 'True'가 리턴 된 것을 확인 할 수 있습니다.\""
   ]
  },
  {
   "cell_type": "code",
   "execution_count": 13,
   "metadata": {
    "collapsed": false
   },
   "outputs": [
    {
     "data": {
      "text/plain": [
       "True"
      ]
     },
     "execution_count": 13,
     "metadata": {},
     "output_type": "execute_result"
    }
   ],
   "source": [
    "mystock = \"Naver\"\n",
    "mystock == \"Naver\""
   ]
  },
  {
   "cell_type": "markdown",
   "metadata": {},
   "source": [
    "# 파이썬 if문"
   ]
  },
  {
   "cell_type": "code",
   "execution_count": 15,
   "metadata": {
    "collapsed": false
   },
   "outputs": [
    {
     "name": "stdout",
     "output_type": "stream",
     "text": [
      "'위키북스의 현재가가 10,000원 이상이면 10주 매수', '위키북스의 현재가가 9,000원 이하이면 10주 매도' \n",
      "\n",
      "그렇다면 파이썬에서는 위와 같은 것들을 어떻게 표현할 수 있을까요? 먼저 위의 두 문장을 잘 살펴보면 공통으로 ‘~이면’이라는 단어가 있는 것을 볼 수 있습니다. 참고로 영어 단어 중 ‘if’라는 단어의 뜻이 ‘만약 ~라면’입니다. 파이썬에서도 ‘만약 ~라면’이라는 뜻을 가진 ‘if’라는 키워드를 이용하여 조건문을 표현합니다. If 문을 이용해서 위 예시의 매수 상황을 파이썬으로 표현하면 예제 4.7과 같습니다.\n"
     ]
    }
   ],
   "source": [
    "print \"'위키북스의 현재가가 10,000원 이상이면 10주 매수', '위키북스의 현재가가 9,000원 이하이면 10주 매도' \\n\\n그렇다면 파이썬에서는 위와 같은 것들을 어떻게 표현할 수 있을까요? 먼저 위의 두 문장을 잘 살펴보면 공통으로 ‘~이면’이라는 단어가 있는 것을 볼 수 있습니다. 참고로 영어 단어 중 ‘if’라는 단어의 뜻이 ‘만약 ~라면’입니다. 파이썬에서도 ‘만약 ~라면’이라는 뜻을 가진 ‘if’라는 키워드를 이용하여 조건문을 표현합니다. If 문을 이용해서 위 예시의 매수 상황을 파이썬으로 표현하면 예제 4.7과 같습니다.\""
   ]
  },
  {
   "cell_type": "code",
   "execution_count": 16,
   "metadata": {
    "collapsed": false
   },
   "outputs": [
    {
     "name": "stdout",
     "output_type": "stream",
     "text": [
      "Buy 10\n"
     ]
    }
   ],
   "source": [
    "wikibooks_cur_price = 11000\n",
    "if wikibooks_cur_price >= 10000:\n",
    "    print \"Buy 10\"\n",
    "    \n",
    "    "
   ]
  },
  {
   "cell_type": "markdown",
   "metadata": {},
   "source": [
    "* 1. 조건문에는 if 라는 키워드를 사용한다. \n",
    " - if 다음에는 '조건'이 존재하는데 이 '조건'이 참(True)이면 들여쓰기 한 문장이 실행된다.\n",
    " - if 문의 끝에는 콜론 (:)을 입력한다. \n",
    " - if 문의 '조건'이 참(True)일 때 실행되는 문장은 들여쓰기를 해야 한다."
   ]
  },
  {
   "cell_type": "code",
   "execution_count": 19,
   "metadata": {
    "collapsed": false
   },
   "outputs": [
    {
     "name": "stdout",
     "output_type": "stream",
     "text": [
      "위 코드에서 첫 번째 문장이 수행되면 wikibooks_cur_price라는 변수는 11000이라는 정숫값을 바인딩하고 있게 됩니다. \n",
      "두 번째 문장이 수행될 때 먼저 if문의 조건에 해당하는 ‘wikibooks_cur_price >= 10000’에 대해서 ‘참’인지 ‘거짓’인지가 판단됩니다. 위에서‘wikibooks_cur_price’라는 변수가 바인딩하고 있는 값은 11000이고 이 값은 10000보다 크거나 같으므로 조건은 ‘참’이 됩니다. If 문의 조건식이 ‘참’이므로 4칸의 공백으로 들여쓰기 된 ‘print“Buy 10”’이라는 문장이 실행되게 됩니다. 그래서 화면에 ‘Buy 10’이 출력된 것입니다. \n",
      "\n",
      "If 문을 이용해서 위 예시의 매도 상황을 파이썬 코드로 표현하면 위와 같습니다. 아래 코드에서도 조건문을 위해 ‘if’라는 키워드가 사용되었으며 ‘if’ 뒤에는 역시 조건식이 위치하게 됩니다. 아래 코드를 참조하면 현재 ‘wikibooks_cur_price’ 변수는 8,000원이라는 값을 바인딩하고 있으므로 if문의 조건식인 ‘wikibooks_cur_price < 9000’은 ‘True’가 됩니다. 따라서 들여쓰기 된 코드가 실행되고 화면에는 “Sell 10”이 출력이 됩니다.\n"
     ]
    }
   ],
   "source": [
    "print \"위 코드에서 첫 번째 문장이 수행되면 wikibooks_cur_price라는 변수는 11000이라는 정숫값을 바인딩하고 있게 됩니다. \\n두 번째 문장이 수행될 때 먼저 if문의 조건에 해당하는 ‘wikibooks_cur_price >= 10000’에 대해서 ‘참’인지 ‘거짓’인지가 판단됩니다. 위에서‘wikibooks_cur_price’라는 변수가 바인딩하고 있는 값은 11000이고 이 값은 10000보다 크거나 같으므로 조건은 ‘참’이 됩니다. If 문의 조건식이 ‘참’이므로 4칸의 공백으로 들여쓰기 된 ‘print“Buy 10”’이라는 문장이 실행되게 됩니다. 그래서 화면에 ‘Buy 10’이 출력된 것입니다. \\n\\nIf 문을 이용해서 위 예시의 매도 상황을 파이썬 코드로 표현하면 위와 같습니다. 아래 코드에서도 조건문을 위해 ‘if’라는 키워드가 사용되었으며 ‘if’ 뒤에는 역시 조건식이 위치하게 됩니다. 아래 코드를 참조하면 현재 ‘wikibooks_cur_price’ 변수는 8,000원이라는 값을 바인딩하고 있으므로 if문의 조건식인 ‘wikibooks_cur_price < 9000’은 ‘True’가 됩니다. 따라서 들여쓰기 된 코드가 실행되고 화면에는 “Sell 10”이 출력이 됩니다.\""
   ]
  },
  {
   "cell_type": "code",
   "execution_count": 20,
   "metadata": {
    "collapsed": false
   },
   "outputs": [
    {
     "name": "stdout",
     "output_type": "stream",
     "text": [
      "sell 10\n"
     ]
    }
   ],
   "source": [
    "wikibooks_cur_price = 8000\n",
    "if wikibooks_cur_price < 9000:\n",
    "    print \"sell 10\""
   ]
  },
  {
   "cell_type": "code",
   "execution_count": 21,
   "metadata": {
    "collapsed": false
   },
   "outputs": [
    {
     "name": "stdout",
     "output_type": "stream",
     "text": [
      "위 두 코드에서는 if문의 조건식이 참일 때 들여쓰기 된 한 줄의 코드만이 실행되엇습니다. 그런데 위키북스의 현재가가 10,000원 이상이면 5주씩 3번을 연속해서 매수하는 경우는 어떻게 프로그래밍 할까요?\n",
      "\n",
      "정답은 아래 코드처럼 '조건이 참일 때 수행될 문장을 동일한 들여쓰기로 표현하면 된다'입니다. \n"
     ]
    }
   ],
   "source": [
    "print \"위 두 코드에서는 if문의 조건식이 참일 때 들여쓰기 된 한 줄의 코드만이 실행되엇습니다. 그런데 위키북스의 현재가가 10,000원 이상이면 5주씩 3번을 연속해서 매수하는 경우는 어떻게 프로그래밍 할까요?\\n\\n정답은 아래 코드처럼 '조건이 참일 때 수행될 문장을 동일한 들여쓰기로 표현하면 된다'입니다. \""
   ]
  },
  {
   "cell_type": "code",
   "execution_count": 22,
   "metadata": {
    "collapsed": false
   },
   "outputs": [
    {
     "name": "stdout",
     "output_type": "stream",
     "text": [
      "Buy 5\n",
      "Buy 5\n",
      "Buy 5\n"
     ]
    }
   ],
   "source": [
    "wikibooks_cur_price = 11000\n",
    "if wikibooks_cur_price >= 10000:\n",
    "    print \"Buy 5\"\n",
    "    print \"Buy 5\"\n",
    "    print \"Buy 5\""
   ]
  },
  {
   "cell_type": "markdown",
   "metadata": {},
   "source": [
    "# If, else 문"
   ]
  },
  {
   "cell_type": "code",
   "execution_count": 24,
   "metadata": {
    "collapsed": false
   },
   "outputs": [
    {
     "name": "stdout",
     "output_type": "stream",
     "text": [
      "이번에는 '위키북스의 현재가가 10,000원 이상이면 10주매수, 그렇지 않으면 보유'와 같은 문장을 파이썬 코드로 작성해 봅시다. 우선 앞서 배운 조건문 들과 다른 부분을 살펴보면 '그렇지 않으면'이라는 새로운 조건이 추가된 것을 확인할 수 있습니다. \n",
      "\n",
      "파이썬에서는 '그렇지 않으면'이라는 조건의 표현은 'else'라는 키워드를 사용하면 됩니다. 즉, 앞의 문장은 아래 코드와 같이 if와 else 키워드를 사용해서 나타낼 수 있습니다. 이때 'else'문은 'if'문과 달리 뒤에 조건식이 위치하지 않습니다. 왜냐하면 'else'문은 if문의 조건식이 '참'이 아닐 때 수행되게 되어 있기 때문입니다. \n",
      "\n",
      "아래 코드를 참조하면 현재 'wikibooks_cur_price'라는 변수는 11000을 바인딩하고 있으므로 if 문의 조건식은 참이 됩니다. 따라서 if 문에 들여쓰기 된 'print Buy 10'코드가수행되게 되고화면에는 'Buy 10'이 출력됩니다.\n"
     ]
    }
   ],
   "source": [
    "print \"이번에는 '위키북스의 현재가가 10,000원 이상이면 10주매수, 그렇지 않으면 보유'와 같은 문장을 파이썬 코드로 작성해 봅시다. 우선 앞서 배운 조건문 들과 다른 부분을 살펴보면 '그렇지 않으면'이라는 새로운 조건이 추가된 것을 확인할 수 있습니다. \\n\\n파이썬에서는 '그렇지 않으면'이라는 조건의 표현은 'else'라는 키워드를 사용하면 됩니다. 즉, 앞의 문장은 아래 코드와 같이 if와 else 키워드를 사용해서 나타낼 수 있습니다. 이때 'else'문은 'if'문과 달리 뒤에 조건식이 위치하지 않습니다. 왜냐하면 'else'문은 if문의 조건식이 '참'이 아닐 때 수행되게 되어 있기 때문입니다. \\n\\n아래 코드를 참조하면 현재 'wikibooks_cur_price'라는 변수는 11000을 바인딩하고 있으므로 if 문의 조건식은 참이 됩니다. 따라서 if 문에 들여쓰기 된 'print Buy 10'코드가수행되게 되고화면에는 'Buy 10'이 출력됩니다.\"    "
   ]
  },
  {
   "cell_type": "code",
   "execution_count": 30,
   "metadata": {
    "collapsed": false
   },
   "outputs": [
    {
     "name": "stdout",
     "output_type": "stream",
     "text": [
      "Buy 10\n"
     ]
    }
   ],
   "source": [
    "wikibooks_cur_price = 11000\n",
    "if wikibooks_cur_price >= 10000:\n",
    "    print \"Buy 10\"\n",
    "\n",
    "else:\n",
    "    print \"Holding\"\n",
    "    \n"
   ]
  },
  {
   "cell_type": "code",
   "execution_count": 28,
   "metadata": {
    "collapsed": false
   },
   "outputs": [
    {
     "name": "stdout",
     "output_type": "stream",
     "text": [
      "이번에는 위의 코드를 조금 수정하여 'wikibooks_cur_price'가 바인딩하는 값을 9000으로 변경한 후 if ~ else 문을 실행해 보도록 하겠습니다. 아래 코드를 참조하면 if 문 이후의 조건식이 'False'가 되므로 'else'문에 들여쓰기 된 코드인 'print Holding이라는 코드가 수행되며 화면에는 'Holding'이 출력됩니다.\n"
     ]
    }
   ],
   "source": [
    "print \"이번에는 위의 코드를 조금 수정하여 'wikibooks_cur_price'가 바인딩하는 값을 9000으로 변경한 후 if ~ else 문을 실행해 보도록 하겠습니다. 아래 코드를 참조하면 if 문 이후의 조건식이 'False'가 되므로 'else'문에 들여쓰기 된 코드인 'print Holding이라는 코드가 수행되며 화면에는 'Holding'이 출력됩니다.\""
   ]
  },
  {
   "cell_type": "code",
   "execution_count": 31,
   "metadata": {
    "collapsed": false
   },
   "outputs": [
    {
     "name": "stdout",
     "output_type": "stream",
     "text": [
      "Holding\n"
     ]
    }
   ],
   "source": [
    "wikibooks_cur_price = 9000\n",
    "if wikibooks_cur_price >= 10000:\n",
    "    print \"Buy 10\"\n",
    "\n",
    "else:\n",
    "    print \"Holding\"\n",
    "    "
   ]
  },
  {
   "cell_type": "markdown",
   "metadata": {
    "collapsed": true
   },
   "source": [
    "# if, elif, else 문"
   ]
  },
  {
   "cell_type": "code",
   "execution_count": 1,
   "metadata": {
    "collapsed": false
   },
   "outputs": [
    {
     "name": "stdout",
     "output_type": "stream",
     "text": [
      "파이썬에서 if, else 문을 이용하면 if 문 뒤에 존재하는 조건식이 '참' 인지 '거짓' 인지의 여부에 따라 두 개의 코드 블록 중 하나를 실행할 수 있습니다. \n",
      "\n",
      "그런데 실행해야 할 경우의 수가 두 가지가 아니라 그 이상으로 존재하는 경우에는 어떻게 파이썬으로 표현해야 할까요? 이럴 때 사용할 수 있는 추가 키워드가 바로 'elif'입니다. 한글로는 '그렇지 않고 ~이면' 정도로 해석하면 되겠습니다. \n"
     ]
    }
   ],
   "source": [
    "print \"파이썬에서 if, else 문을 이용하면 if 문 뒤에 존재하는 조건식이 '참' 인지 '거짓' 인지의 여부에 따라 두 개의 코드 블록 중 하나를 실행할 수 있습니다. \\n\\n그런데 실행해야 할 경우의 수가 두 가지가 아니라 그 이상으로 존재하는 경우에는 어떻게 파이썬으로 표현해야 할까요? 이럴 때 사용할 수 있는 추가 키워드가 바로 'elif'입니다. 한글로는 '그렇지 않고 ~이면' 정도로 해석하면 되겠습니다. \""
   ]
  },
  {
   "cell_type": "code",
   "execution_count": null,
   "metadata": {
    "collapsed": true
   },
   "outputs": [],
   "source": [
    "'''예를들어, \n",
    "현재가가 1,000원 이상이고 5,000원 미만이면 호가 가격단위는 5원,\n",
    "그렇지 않고 현재가가 1,000원 이상이고 5,000원 미만이면 가격단위는 5원,\n",
    "그렇지 않고 현재가가 5,000원 이상이고 10,000원 미만이면 가격단위는 10원\n",
    "그렇지 않고 현재가가 10,000원 이상이고 50,000원 미만이면 가격단위는 50원\n",
    "그렇지 않고 현재가가 50,000원 이상이고 100,000원 미만이면 가격단위는 100원\n",
    "그렇지 않고 현재가가 100,000원 이상이고 500,000원 미만이면 가격단위는 500원\n",
    "그렇지 않고 현재가가 500,000원 이상이면 호가 가격단위는 1000원'''"
   ]
  },
  {
   "cell_type": "code",
   "execution_count": 3,
   "metadata": {
    "collapsed": false
   },
   "outputs": [
    {
     "name": "stdout",
     "output_type": "stream",
     "text": [
      "위의 문장을 파이썬 코드로 나타내면 아래와 같습니다. 앞에서 배웠던 if 문을 사용하고 '그렇지 않고'에 해당하는 부분에 'elif'라는 키워드를 사용하면 되겠습니다. 물론 조건식이 있는 부분에는 파이썬의 비교 연산자와 아래 코드에서 'price'라는 변수는 7000을 바인딩하고 있으므로 호가 가격단위는 10원이 됩니다. 파이썬 IDLE에서도 'bid' 변수가 바인딩하고 있는 값을 확인해보면 10이 리턴 됨을 확인할 수 있습니다.\n"
     ]
    }
   ],
   "source": [
    "print \"위의 문장을 파이썬 코드로 나타내면 아래와 같습니다. 앞에서 배웠던 if 문을 사용하고 '그렇지 않고'에 해당하는 부분에 'elif'라는 키워드를 사용하면 되겠습니다. 물론 조건식이 있는 부분에는 파이썬의 비교 연산자와 아래 코드에서 'price'라는 변수는 7000을 바인딩하고 있으므로 호가 가격단위는 10원이 됩니다. 파이썬 IDLE에서도 'bid' 변수가 바인딩하고 있는 값을 확인해보면 10이 리턴 됨을 확인할 수 있습니다.\""
   ]
  },
  {
   "cell_type": "code",
   "execution_count": 11,
   "metadata": {
    "collapsed": false,
    "scrolled": true
   },
   "outputs": [
    {
     "ename": "SyntaxError",
     "evalue": "invalid syntax (<ipython-input-11-be67d0d4ac56>, line 12)",
     "output_type": "error",
     "traceback": [
      "\u001b[0;36m  File \u001b[0;32m\"<ipython-input-11-be67d0d4ac56>\"\u001b[0;36m, line \u001b[0;32m12\u001b[0m\n\u001b[0;31m    bid 50\u001b[0m\n\u001b[0m         ^\u001b[0m\n\u001b[0;31mSyntaxError\u001b[0m\u001b[0;31m:\u001b[0m invalid syntax\n"
     ]
    }
   ],
   "source": [
    "price = 7000\n",
    "if price < 1000: \n",
    "    bid = 1\n",
    "    \n",
    "elif price >= 1000 and price < 5000:\n",
    "    bid = 5\n",
    "    \n",
    "elif price >= 5000 and price < 10000:\n",
    "    bid = 10\n",
    "    \n",
    "elif price >= 10000 and price < 50000:\n",
    "    bid 50 \n",
    "    \n",
    "elif price >= 50000 and price < 100000:\n",
    "    bid = 100\n",
    "    \n",
    "elif price >= 100000 and price < 500000:\n",
    "    bid = 500\n",
    "    \n",
    "elif price >= 500000:\n",
    "    bid = 1000\n",
    "    \n",
    "bid\n",
    "\n"
   ]
  },
  {
   "cell_type": "code",
   "execution_count": null,
   "metadata": {
    "collapsed": false
   },
   "outputs": [],
   "source": [
    "age = int(input(\"나이:\"))\n",
    "if age< 30 : \n",
    "    print \"청년\"\n",
    "\n",
    "else: \n",
    "    print \"중년\"\n",
    "    \n"
   ]
  },
  {
   "cell_type": "code",
   "execution_count": 1,
   "metadata": {
    "collapsed": false
   },
   "outputs": [
    {
     "name": "stdout",
     "output_type": "stream",
     "text": [
      "both 'a' and 'b' are not contained\n"
     ]
    }
   ],
   "source": [
    "s = 'hello'\n",
    "\n",
    "if 'a' in s : \n",
    "    print \"'a' is contained\"\n",
    "\n",
    "elif 'b' in s : \n",
    "    print \"'b' is contained\"\n",
    "    \n",
    "else : \n",
    "    print \"both 'a' and 'b' are not contained\""
   ]
  },
  {
   "cell_type": "markdown",
   "metadata": {},
   "source": [
    "# For 문"
   ]
  },
  {
   "cell_type": "code",
   "execution_count": 12,
   "metadata": {
    "collapsed": false
   },
   "outputs": [
    {
     "name": "stdout",
     "output_type": "stream",
     "text": [
      "이번 절에서는 파이썬의 제어문 중 for를 이용한 반복문에 대해서 배워보도록 하겠습니다. '반복'이라는 단어의 의미는 '같은 일을 되풀이함'입니다. 그렇다면 프로그래밍에서는 언제 반복문이 필요할까요? \n",
      "\n",
      "여러분들이 화면에 1부터 10까지 숫자를 출력한다고 가정해 봅시다. 파이썬에 반복문이 없다면 아래와 같이 하나씩 출력해야 할 것입니다. 그러나 10까지가 아니라 100까지 출력해야 한다면 이를 위한 코딩은 정말로 시간이 오래 걸리고 지루할 것입니다. 이럴 때 바로 프로그래밍에서도 반복문을 사용합니다\n"
     ]
    }
   ],
   "source": [
    "print \"이번 절에서는 파이썬의 제어문 중 for를 이용한 반복문에 대해서 배워보도록 하겠습니다. '반복'이라는 단어의 의미는 '같은 일을 되풀이함'입니다. 그렇다면 프로그래밍에서는 언제 반복문이 필요할까요? \\n\\n여러분들이 화면에 1부터 10까지 숫자를 출력한다고 가정해 봅시다. 파이썬에 반복문이 없다면 아래와 같이 하나씩 출력해야 할 것입니다. 그러나 10까지가 아니라 100까지 출력해야 한다면 이를 위한 코딩은 정말로 시간이 오래 걸리고 지루할 것입니다. 이럴 때 바로 프로그래밍에서도 반복문을 사용합니다\""
   ]
  },
  {
   "cell_type": "code",
   "execution_count": 13,
   "metadata": {
    "collapsed": false
   },
   "outputs": [
    {
     "name": "stdout",
     "output_type": "stream",
     "text": [
      "1\n"
     ]
    }
   ],
   "source": [
    "print 1"
   ]
  },
  {
   "cell_type": "code",
   "execution_count": 14,
   "metadata": {
    "collapsed": false
   },
   "outputs": [
    {
     "name": "stdout",
     "output_type": "stream",
     "text": [
      "2\n"
     ]
    }
   ],
   "source": [
    "print 2"
   ]
  },
  {
   "cell_type": "code",
   "execution_count": 15,
   "metadata": {
    "collapsed": false
   },
   "outputs": [
    {
     "name": "stdout",
     "output_type": "stream",
     "text": [
      "3\n"
     ]
    }
   ],
   "source": [
    "print 3"
   ]
  },
  {
   "cell_type": "code",
   "execution_count": 16,
   "metadata": {
    "collapsed": false
   },
   "outputs": [
    {
     "name": "stdout",
     "output_type": "stream",
     "text": [
      "4\n"
     ]
    }
   ],
   "source": [
    "print 4"
   ]
  },
  {
   "cell_type": "code",
   "execution_count": 17,
   "metadata": {
    "collapsed": false
   },
   "outputs": [
    {
     "name": "stdout",
     "output_type": "stream",
     "text": [
      "5\n"
     ]
    }
   ],
   "source": [
    "print 5"
   ]
  },
  {
   "cell_type": "code",
   "execution_count": 23,
   "metadata": {
    "collapsed": false
   },
   "outputs": [
    {
     "name": "stdout",
     "output_type": "stream",
     "text": [
      "아래의 코드를 보면 화면에 문자열을 출력하는 함수인 'print'를 단 한 번만 사용했지만, 화면에는 0부터 10까지의 값이 출력된 것을 확인할 수 있었습니다. 위와 달리 0~5까지를 출력하는데 딱 두 줄의 코드만을 사용했습니다. 이처럼 반복문을 사용하게 되면 반복적인 작업에 대해서 코딩량을 줄일 수 있으므로 프로그램을 보다 빨리 개발할 수 있으며 가독성도 더 좋아지고 코드의 유지 보수도 더 쉬어 집니다. \n",
      "\n",
      "아래의 코드를 보면 'for'라는 새로운 파이썬 키워드를 볼 수 있습니다. 영어 사전에서 'for'라는 단어의 의미를 찾아보면 for는 정말로 많은 뜻이 있는 전치사입니다. 대표적으로 '왜냐하면', '동안', '위한', '대한', '로써는','치고는','에게','찬성하는','에도 불구하고'와 같은 뜻이 있습니다. 물론 우리가 이러한 뜻을 다 외울 필요는 없고 파이썬에서 'for'는 '~대한'정도의 의미를 가진 것으로 생각하면 됩니다. \n",
      "\n",
      "'in'이라는 영어 단어는 '~안에'라는 뜻을 가지고 있으므로 아래의 파이썬 코드를 영어 문장을 해석하듯이 해석을 해보면 '파이썬 리스트 안에 있는 각각의 i에 대해 'print i' 하시오' 정도의 뜻이 되겠습니다. 파이썬 for 문에서 한 가지 주의할 점은 앞서 배운 if 문과 마찬가지로 for 문의 끝에 콜론 (:)이 있어야 하며 for 문에서 수행될 문장은 들여쓰기가 되어 있어야 한다는 점입니다.\n"
     ]
    }
   ],
   "source": [
    "print \"아래의 코드를 보면 화면에 문자열을 출력하는 함수인 'print'를 단 한 번만 사용했지만, 화면에는 0부터 10까지의 값이 출력된 것을 확인할 수 있었습니다. 위와 달리 0~5까지를 출력하는데 딱 두 줄의 코드만을 사용했습니다. 이처럼 반복문을 사용하게 되면 반복적인 작업에 대해서 코딩량을 줄일 수 있으므로 프로그램을 보다 빨리 개발할 수 있으며 가독성도 더 좋아지고 코드의 유지 보수도 더 쉬어 집니다. \\n\\n아래의 코드를 보면 'for'라는 새로운 파이썬 키워드를 볼 수 있습니다. 영어 사전에서 'for'라는 단어의 의미를 찾아보면 for는 정말로 많은 뜻이 있는 전치사입니다. 대표적으로 '왜냐하면', '동안', '위한', '대한', '로써는','치고는','에게','찬성하는','에도 불구하고'와 같은 뜻이 있습니다. 물론 우리가 이러한 뜻을 다 외울 필요는 없고 파이썬에서 'for'는 '~대한'정도의 의미를 가진 것으로 생각하면 됩니다. \\n\\n'in'이라는 영어 단어는 '~안에'라는 뜻을 가지고 있으므로 아래의 파이썬 코드를 영어 문장을 해석하듯이 해석을 해보면 '파이썬 리스트 안에 있는 각각의 i에 대해 'print i' 하시오' 정도의 뜻이 되겠습니다. 파이썬 for 문에서 한 가지 주의할 점은 앞서 배운 if 문과 마찬가지로 for 문의 끝에 콜론 (:)이 있어야 하며 for 문에서 수행될 문장은 들여쓰기가 되어 있어야 한다는 점입니다.\""
   ]
  },
  {
   "cell_type": "code",
   "execution_count": 25,
   "metadata": {
    "collapsed": false
   },
   "outputs": [
    {
     "name": "stdout",
     "output_type": "stream",
     "text": [
      "0\n",
      "1\n",
      "2\n",
      "3\n",
      "4\n",
      "5\n"
     ]
    }
   ],
   "source": [
    "for i in [0, 1, 2, 3, 4, 5]:\n",
    "    print i"
   ]
  },
  {
   "cell_type": "code",
   "execution_count": 26,
   "metadata": {
    "collapsed": false
   },
   "outputs": [
    {
     "name": "stdout",
     "output_type": "stream",
     "text": [
      "이번에는 위의 코드를 일부 수정해서 0부터 4까지의 숫자가 각각 두 번씩 출력되도록 변경해 봅시다. 힌트를 조금 드리자면 if 문에서도 조건이 참일 때 수행될 문장은 if문의 시작 위치로부터 동일하게 들여쓰기를 했습니다. \n",
      "\n",
      " 아래의 코드를 보면 for 문에서 들여쓰기 된 두개의 print 문을 볼 수 있습니다. 아래의 코드가 수행되면 먼저 리스트 내의 첫 번째 요소인 0에 대해서 print 0, print 0 이 수행됩니다. 그리고 난 후 리스트의 두 번째 요소인 1에 대해서 print 1, print 1 이 수행됩니다. 이렇게 해서 리스트의 마지막 요소인 4에 대해서까지 print 문이 수행되게 됩니다. \n",
      "\n",
      "여기서 한 가지 재미있는 점은 아래의 코드에서 'for'라는 키워드 뒤에 위치하는 'i'는 변수로써 'in'다음에 있는 리스트의 요소 들을 하나씩 바인딩하는 역할을 합니다. 'i'가 변수이기 때문에 변수의 이름을 여러분들이 마음대로 사용할 수 있는 것처럼 for 다음에 나오는 변수의 이름을 'i', 'x'와 같이 적당한 이름을 사용하면 됩니다.\n"
     ]
    }
   ],
   "source": [
    "print \"이번에는 위의 코드를 일부 수정해서 0부터 4까지의 숫자가 각각 두 번씩 출력되도록 변경해 봅시다. 힌트를 조금 드리자면 if 문에서도 조건이 참일 때 수행될 문장은 if문의 시작 위치로부터 동일하게 들여쓰기를 했습니다. \\n\\n 아래의 코드를 보면 for 문에서 들여쓰기 된 두개의 print 문을 볼 수 있습니다. 아래의 코드가 수행되면 먼저 리스트 내의 첫 번째 요소인 0에 대해서 print 0, print 0 이 수행됩니다. 그리고 난 후 리스트의 두 번째 요소인 1에 대해서 print 1, print 1 이 수행됩니다. 이렇게 해서 리스트의 마지막 요소인 4에 대해서까지 print 문이 수행되게 됩니다. \\n\\n여기서 한 가지 재미있는 점은 아래의 코드에서 'for'라는 키워드 뒤에 위치하는 'i'는 변수로써 'in'다음에 있는 리스트의 요소 들을 하나씩 바인딩하는 역할을 합니다. 'i'가 변수이기 때문에 변수의 이름을 여러분들이 마음대로 사용할 수 있는 것처럼 for 다음에 나오는 변수의 이름을 'i', 'x'와 같이 적당한 이름을 사용하면 됩니다.\""
   ]
  },
  {
   "cell_type": "code",
   "execution_count": 28,
   "metadata": {
    "collapsed": false
   },
   "outputs": [
    {
     "name": "stdout",
     "output_type": "stream",
     "text": [
      "0\n",
      "0\n",
      "1\n",
      "1\n",
      "2\n",
      "2\n",
      "3\n",
      "3\n",
      "4\n",
      "4\n"
     ]
    }
   ],
   "source": [
    "for i in [0, 1, 2, 3, 4]:\n",
    "    print i\n",
    "    print i"
   ]
  },
  {
   "cell_type": "markdown",
   "metadata": {},
   "source": [
    "# for와 range"
   ]
  },
  {
   "cell_type": "code",
   "execution_count": 29,
   "metadata": {
    "collapsed": false
   },
   "outputs": [
    {
     "name": "stdout",
     "output_type": "stream",
     "text": [
      "위의 코드는 'for'라는 파이썬 키워드를 사용함으로써 단 두 줄의 코드로 화면에 0부터 10까지를 출력했습니다. 그러나 한 가지 불편한 점은 'in'다음에 리스트에 실제로 출력된 숫자를 명시적으로 적어주어야 한다는 점입니다. 물론 앞의 예제들처럼 반복하는 데이터가 많지 않은 경우에는 리스트를 사용해서 명시적으로데이터를 나열할 수 있습니다. 그런데 0부터 10까지가 아니라 0부터 100까지를 출력해야 할 때는 어떻게 해야 할까요? 이럴 때 사용하는 것이 바로 range입니다. Range는 '범위'라는 뜻을 가진 영어 단어인데 파이썬에서 range를 이용하면 간단히 정수 범위를 표현할 수 있습니다. \n",
      "\n",
      "예를 들어 아래는 1부터 9까지의 숫자 범위를 나타냅니다. 파이썬 range에서 중요한 점은 시작 숫자와 끝 숫자가 주어질 때 끝 숫자는 범위에 포함되지 않는다는 점입니다. 아래의 코드를 참조하면 range(1, 10)의 리턴 값 역시 'range(1, 10)' 임을 확인할 수 있습니다. 저자가 range(1, 10)이 1부터 9까지의 범위라고 말씀드렸는데 정말 맞는지 확인을 해보도록 합시다.\n"
     ]
    }
   ],
   "source": [
    "print \"위의 코드는 'for'라는 파이썬 키워드를 사용함으로써 단 두 줄의 코드로 화면에 0부터 10까지를 출력했습니다. 그러나 한 가지 불편한 점은 'in'다음에 리스트에 실제로 출력된 숫자를 명시적으로 적어주어야 한다는 점입니다. 물론 앞의 예제들처럼 반복하는 데이터가 많지 않은 경우에는 리스트를 사용해서 명시적으로데이터를 나열할 수 있습니다. 그런데 0부터 10까지가 아니라 0부터 100까지를 출력해야 할 때는 어떻게 해야 할까요? 이럴 때 사용하는 것이 바로 range입니다. Range는 '범위'라는 뜻을 가진 영어 단어인데 파이썬에서 range를 이용하면 간단히 정수 범위를 표현할 수 있습니다. \\n\\n예를 들어 아래는 1부터 9까지의 숫자 범위를 나타냅니다. 파이썬 range에서 중요한 점은 시작 숫자와 끝 숫자가 주어질 때 끝 숫자는 범위에 포함되지 않는다는 점입니다. 아래의 코드를 참조하면 range(1, 10)의 리턴 값 역시 'range(1, 10)' 임을 확인할 수 있습니다. 저자가 range(1, 10)이 1부터 9까지의 범위라고 말씀드렸는데 정말 맞는지 확인을 해보도록 합시다.\""
   ]
  },
  {
   "cell_type": "code",
   "execution_count": 30,
   "metadata": {
    "collapsed": false
   },
   "outputs": [
    {
     "data": {
      "text/plain": [
       "[1, 2, 3, 4, 5, 6, 7, 8, 9]"
      ]
     },
     "execution_count": 30,
     "metadata": {},
     "output_type": "execute_result"
    }
   ],
   "source": [
    "range(1, 10)"
   ]
  },
  {
   "cell_type": "code",
   "execution_count": 31,
   "metadata": {
    "collapsed": false
   },
   "outputs": [
    {
     "name": "stdout",
     "output_type": "stream",
     "text": [
      "아래의 코드는 range 객체를 list라는 키워드를 이용하여 리스트 객체로 변환하는 예를 보입니다. 저자가 말한 것처럼 range(1, 10)의 결과를 list()를 통해서 리스트 객체로 변환을 해보니 리스트에는 1부터 9까지의 원소가 들어 있는 것을 확인할 수 있습니다.\n"
     ]
    }
   ],
   "source": [
    "print \"아래의 코드는 range 객체를 list라는 키워드를 이용하여 리스트 객체로 변환하는 예를 보입니다. 저자가 말한 것처럼 range(1, 10)의 결과를 list()를 통해서 리스트 객체로 변환을 해보니 리스트에는 1부터 9까지의 원소가 들어 있는 것을 확인할 수 있습니다.\""
   ]
  },
  {
   "cell_type": "code",
   "execution_count": 32,
   "metadata": {
    "collapsed": false
   },
   "outputs": [
    {
     "data": {
      "text/plain": [
       "[1, 2, 3, 4, 5, 6, 7, 8, 9]"
      ]
     },
     "execution_count": 32,
     "metadata": {},
     "output_type": "execute_result"
    }
   ],
   "source": [
    "list(range(1, 10))"
   ]
  },
  {
   "cell_type": "code",
   "execution_count": 33,
   "metadata": {
    "collapsed": false
   },
   "outputs": [
    {
     "name": "stdout",
     "output_type": "stream",
     "text": [
      "이러한 range를 이용하면 큰 수의 범위에 대해서도 for 문을 쉽게 작성할 수 있습니다. 먼저 0부터 10까지의 숫자를 출력하는 코드를 for와 range를 사용해서 다시 작성해 보겠습니다. 아래의 코드를 참조하면 위의 코드에 비해서 'in'의 다음 부분의 코드가 매우 간단함을 확인할 수 있습니다. 그리고 10까지만 출력하기 위해서 range(1,10)이 아니라 range(0,11)이라는 표현이 사용된 것을 볼 수 있습니다.\n"
     ]
    }
   ],
   "source": [
    "print \"이러한 range를 이용하면 큰 수의 범위에 대해서도 for 문을 쉽게 작성할 수 있습니다. 먼저 0부터 10까지의 숫자를 출력하는 코드를 for와 range를 사용해서 다시 작성해 보겠습니다. 아래의 코드를 참조하면 위의 코드에 비해서 'in'의 다음 부분의 코드가 매우 간단함을 확인할 수 있습니다. 그리고 10까지만 출력하기 위해서 range(1,10)이 아니라 range(0,11)이라는 표현이 사용된 것을 볼 수 있습니다.\""
   ]
  },
  {
   "cell_type": "code",
   "execution_count": 34,
   "metadata": {
    "collapsed": false
   },
   "outputs": [
    {
     "name": "stdout",
     "output_type": "stream",
     "text": [
      "0\n",
      "1\n",
      "2\n",
      "3\n",
      "4\n",
      "5\n",
      "6\n",
      "7\n",
      "8\n",
      "9\n",
      "10\n"
     ]
    }
   ],
   "source": [
    "for i in range(0, 11):\n",
    "    print i"
   ]
  },
  {
   "cell_type": "markdown",
   "metadata": {},
   "source": [
    "# For와 list"
   ]
  },
  {
   "cell_type": "code",
   "execution_count": 35,
   "metadata": {
    "collapsed": false
   },
   "outputs": [
    {
     "name": "stdout",
     "output_type": "stream",
     "text": [
      "앞 절에서는 파이썬의 리스트에 숫자를 저장하고 해당 리스트를 이용하여 반복적으로 어떤 작업을 수행하는 코드를 작성해 보았습니다. 앞서 배운 것처럼 파이썬의 리스트에는 정수형만 입력될 수 있는 것이 아니라 문자열도 입력될 수 있습니다. 따라서 파이썬의 for 문과 리스트 자료 구조를 적절히 사용하면 리스트 내에 있는 원소들에 대해서 반복적인 작업을 쉽게 수행할 수 있습니다. \n",
      "\n",
      " 예를 들어 여러분들이 관심 있게 보고 있는 종목들의 종목명을 리스트로 저장하고 있다가 해당 종목들에 대해서 각각 10주씩 매수하는 프로그램을 작성한다고 가정해 봅시다. 아래 코드를 참조하면 'interest_stocks' 리스트에는 'Naver', 'Samsung', 'SK Hynix'와 같은 종목명이 있습니다. 관심 종목 리스트에 있는 각 원소에 대해서 10주씩을 매수하기 위해 for문을 사용했습니다. For 문 다음에 나오는 'company'는 변수 이름으로서 interest_stocks 리스트에 있는 원소를 하나씩 바인딩하는 역할을 합니다. For 문에서 리스트의 각 원소에 대해서 수행될 문장은 'print'문인데 이때 %s 라는 표현이 나옵니다. Print 함수에서는 문자열이 출력될 위치에 %s로 나타내고 실제로 출력될 문자열은 % 기호 뒤에 변수명을 써주면 됩니다.\n"
     ]
    }
   ],
   "source": [
    "print \"앞 절에서는 파이썬의 리스트에 숫자를 저장하고 해당 리스트를 이용하여 반복적으로 어떤 작업을 수행하는 코드를 작성해 보았습니다. 앞서 배운 것처럼 파이썬의 리스트에는 정수형만 입력될 수 있는 것이 아니라 문자열도 입력될 수 있습니다. 따라서 파이썬의 for 문과 리스트 자료 구조를 적절히 사용하면 리스트 내에 있는 원소들에 대해서 반복적인 작업을 쉽게 수행할 수 있습니다. \\n\\n 예를 들어 여러분들이 관심 있게 보고 있는 종목들의 종목명을 리스트로 저장하고 있다가 해당 종목들에 대해서 각각 10주씩 매수하는 프로그램을 작성한다고 가정해 봅시다. 아래 코드를 참조하면 'interest_stocks' 리스트에는 'Naver', 'Samsung', 'SK Hynix'와 같은 종목명이 있습니다. 관심 종목 리스트에 있는 각 원소에 대해서 10주씩을 매수하기 위해 for문을 사용했습니다. For 문 다음에 나오는 'company'는 변수 이름으로서 interest_stocks 리스트에 있는 원소를 하나씩 바인딩하는 역할을 합니다. For 문에서 리스트의 각 원소에 대해서 수행될 문장은 'print'문인데 이때 %s 라는 표현이 나옵니다. Print 함수에서는 문자열이 출력될 위치에 %s로 나타내고 실제로 출력될 문자열은 % 기호 뒤에 변수명을 써주면 됩니다.\""
   ]
  },
  {
   "cell_type": "code",
   "execution_count": 37,
   "metadata": {
    "collapsed": false
   },
   "outputs": [
    {
     "name": "stdout",
     "output_type": "stream",
     "text": [
      "Naver: Buy 10\n",
      "Samsung: Buy 10\n",
      "SK Hynix: Buy 10\n"
     ]
    }
   ],
   "source": [
    "interest_stocks = [\"Naver\", \"Samsung\", \"SK Hynix\"]\n",
    "for company in interest_stocks:\n",
    "    print \"%s: Buy 10\" % company"
   ]
  },
  {
   "cell_type": "code",
   "execution_count": 39,
   "metadata": {
    "collapsed": false
   },
   "outputs": [
    {
     "name": "stdout",
     "output_type": "stream",
     "text": [
      "위의 print 함수의 사용은 C 언어나 JAVA와 비슷하므로 이전에 프로그래밍 경험이 있는 분들은 쉽게 이해를 하실 겁니다. 그러나 프로그래밍 경험이 없는 분들은 처음에는 매우 어색하고 복잡하게 느껴지실 겁니다. 만일 아래와 같이 'print 'company: Buy 10'이라고 코딩을 했다면 우리가 원하는 결과가 나오지 않고 'company: Buy 10'이라는 문자열만이 화면에 출력되게 됩니다.\n"
     ]
    }
   ],
   "source": [
    "print \"위의 print 함수의 사용은 C 언어나 JAVA와 비슷하므로 이전에 프로그래밍 경험이 있는 분들은 쉽게 이해를 하실 겁니다. 그러나 프로그래밍 경험이 없는 분들은 처음에는 매우 어색하고 복잡하게 느껴지실 겁니다. 만일 아래와 같이 'print 'company: Buy 10'이라고 코딩을 했다면 우리가 원하는 결과가 나오지 않고 'company: Buy 10'이라는 문자열만이 화면에 출력되게 됩니다.\""
   ]
  },
  {
   "cell_type": "code",
   "execution_count": 40,
   "metadata": {
    "collapsed": false
   },
   "outputs": [
    {
     "name": "stdout",
     "output_type": "stream",
     "text": [
      "company: Buy 10\n",
      "company: Buy 10\n",
      "company: Buy 10\n"
     ]
    }
   ],
   "source": [
    "interest_stocks = [\"Naver\", \"Samsung\", \"SK Hynix\"]\n",
    "for company in interest_stocks:\n",
    "    print \"company: Buy 10\""
   ]
  },
  {
   "cell_type": "markdown",
   "metadata": {},
   "source": [
    "# For 와 tuple"
   ]
  },
  {
   "cell_type": "code",
   "execution_count": 41,
   "metadata": {
    "collapsed": false
   },
   "outputs": [
    {
     "name": "stdout",
     "output_type": "stream",
     "text": [
      "파이썬의 튜플은 리스트와 유사하게 데이터를 순서대로 저장할 수 있는 자료 구조입니다. 다만 리스트와는 달리 튜플은 한번 만들어지면 이를 수정할 수 없습니다. For 문에서 리스트를 사용하는 것과 유사하게 튜플도 사용할 수 있습니다. 아래의 코드는 위와 다르게 리스트를 단지 튜플로 변경한 것만 다릅니다. 앞서 이야기한 것처럼 튜플은 수정할 수 없기 때문에 리스트보다 빠릅니다. 따라서 관심 종목을 변경할 필요가 없는 경우에는 이를 튜플로 관리하고 파이썬의 for문을 사용하는 것이 좋고, 관심 종목을 변경할 필요가 있는 경우에는 데이터를 리스트로 관리하는 것이 좋습니다.\n"
     ]
    }
   ],
   "source": [
    "print \"파이썬의 튜플은 리스트와 유사하게 데이터를 순서대로 저장할 수 있는 자료 구조입니다. 다만 리스트와는 달리 튜플은 한번 만들어지면 이를 수정할 수 없습니다. For 문에서 리스트를 사용하는 것과 유사하게 튜플도 사용할 수 있습니다. 아래의 코드는 위와 다르게 리스트를 단지 튜플로 변경한 것만 다릅니다. 앞서 이야기한 것처럼 튜플은 수정할 수 없기 때문에 리스트보다 빠릅니다. 따라서 관심 종목을 변경할 필요가 없는 경우에는 이를 튜플로 관리하고 파이썬의 for문을 사용하는 것이 좋고, 관심 종목을 변경할 필요가 있는 경우에는 데이터를 리스트로 관리하는 것이 좋습니다.\""
   ]
  },
  {
   "cell_type": "code",
   "execution_count": 42,
   "metadata": {
    "collapsed": false
   },
   "outputs": [
    {
     "name": "stdout",
     "output_type": "stream",
     "text": [
      "Naver: Buy 10\n",
      "Samsung: Buy 10\n",
      "SK Hynix: Buy 10\n"
     ]
    }
   ],
   "source": [
    "interest_stocks = (\"Naver\", \"Samsung\", \"SK Hynix\")\n",
    "for company in interest_stocks:\n",
    "    print \"%s: Buy 10\" % company"
   ]
  },
  {
   "cell_type": "markdown",
   "metadata": {},
   "source": [
    "# For 와 dictionary"
   ]
  },
  {
   "cell_type": "code",
   "execution_count": 43,
   "metadata": {
    "collapsed": false
   },
   "outputs": [
    {
     "name": "stdout",
     "output_type": "stream",
     "text": [
      "리스트와 튜플은 데이터를 순서대로 저장하는 자료 구조입니다. 이와 달리 딕셔너리는 'key:value'쌍을 저장하는 구조로 데이터를 입력한 순서대로 딕셔너리에 저장되지 않습니다. 따라서 딕셔너리에 대해서 for 문을 사용하기 위해서는 조금 특별한 방법이 필요합니다. 그렇다면 어떨 때 for 문과 딕셔너리를 사용하면 좋을까요? \n",
      "\n",
      "앞의 예제에서는 관심 종목에 대해서 동일하게 10주씩 주식을 매수하였습니다. 그런데 이번에는 종목마다 다른 수의 주식을 매수하고자 합니다. 프로그램으로 주식을 매수하기 전에 종목별로 얼만큼 매수할 것인지를 미리 표현을 해야 한다면 딕셔너리를 통해서 아래와 같이 쉽게 데이터를 표현할 수 있습니다. 여전히 관심 종목은 'Naver', 'Samsung', 'SK Hynix'이지만 매수 수량은 종목마다 다른 것을 확인할 수 있습니다.\n"
     ]
    }
   ],
   "source": [
    "print \"리스트와 튜플은 데이터를 순서대로 저장하는 자료 구조입니다. 이와 달리 딕셔너리는 'key:value'쌍을 저장하는 구조로 데이터를 입력한 순서대로 딕셔너리에 저장되지 않습니다. 따라서 딕셔너리에 대해서 for 문을 사용하기 위해서는 조금 특별한 방법이 필요합니다. 그렇다면 어떨 때 for 문과 딕셔너리를 사용하면 좋을까요? \\n\\n앞의 예제에서는 관심 종목에 대해서 동일하게 10주씩 주식을 매수하였습니다. 그런데 이번에는 종목마다 다른 수의 주식을 매수하고자 합니다. 프로그램으로 주식을 매수하기 전에 종목별로 얼만큼 매수할 것인지를 미리 표현을 해야 한다면 딕셔너리를 통해서 아래와 같이 쉽게 데이터를 표현할 수 있습니다. 여전히 관심 종목은 'Naver', 'Samsung', 'SK Hynix'이지만 매수 수량은 종목마다 다른 것을 확인할 수 있습니다.\""
   ]
  },
  {
   "cell_type": "code",
   "execution_count": null,
   "metadata": {
    "collapsed": true
   },
   "outputs": [],
   "source": [
    "interest_stocks = {\"Naver\" : 10, \"Samsung\" : 5, \"SK Hynix :\" 30}"
   ]
  },
  {
   "cell_type": "code",
   "execution_count": 45,
   "metadata": {
    "collapsed": false
   },
   "outputs": [
    {
     "name": "stdout",
     "output_type": "stream",
     "text": [
      "위의 'interest_stocks'라는 딕셔너리에 있는 'key:value' 쌍에 대해서 매수 동작을 반복적으로 수행하려면 역시 for 문을 사용하면 됩니다. 다만 딕셔너리의 한 원소에는 'key'와 'value'가 있기 때문에 for 문 다음에 있는 변수가 한 개가 아니라 두 개를 적어주어야 합니다. 그리고 딕셔너리 이름후에 .items()를 붙여주어야 합니다. 아래의 코드에서 화면 출력을 수행하는 코드를 보면 company와 stock_num이라는 두 변수가 바인딩하는 값을 출력하기 위해서 두 개의 %s를 사용했고 '%'기호 다음에 실제 변수명을 적어줄 때는 '(company, stock_num)'과 같이 튜플로 표현한 것을 볼 수 있습니다. \n"
     ]
    }
   ],
   "source": [
    "print \"위의 'interest_stocks'라는 딕셔너리에 있는 'key:value' 쌍에 대해서 매수 동작을 반복적으로 수행하려면 역시 for 문을 사용하면 됩니다. 다만 딕셔너리의 한 원소에는 'key'와 'value'가 있기 때문에 for 문 다음에 있는 변수가 한 개가 아니라 두 개를 적어주어야 합니다. 그리고 딕셔너리 이름후에 .items()를 붙여주어야 합니다. 아래의 코드에서 화면 출력을 수행하는 코드를 보면 company와 stock_num이라는 두 변수가 바인딩하는 값을 출력하기 위해서 두 개의 %s를 사용했고 '%'기호 다음에 실제 변수명을 적어줄 때는 '(company, stock_num)'과 같이 튜플로 표현한 것을 볼 수 있습니다. \""
   ]
  },
  {
   "cell_type": "code",
   "execution_count": 53,
   "metadata": {
    "collapsed": false
   },
   "outputs": [
    {
     "name": "stdout",
     "output_type": "stream",
     "text": [
      "SK Hynix: Buy 30\n",
      "Samsung: Buy 5\n",
      "Naver: Buy 10\n"
     ]
    }
   ],
   "source": [
    "interest_stocks = {\"Naver\":10, \"Samsung\":5, \"SK Hynix\":30}\n",
    "for company, stock_num in interest_stocks.items(): #왜 .items인가?\n",
    "    print \"%s: Buy %s\" % (company, stock_num)"
   ]
  },
  {
   "cell_type": "code",
   "execution_count": 54,
   "metadata": {
    "collapsed": false
   },
   "outputs": [
    {
     "name": "stdout",
     "output_type": "stream",
     "text": [
      "딕셔너리에 key, value 쌍만을 얻어오기 위해서 keys()와 values()이라는 메소드를 사용했었습니다. 딕셔너리의 keys() 메소드를 사용하면 아래와 같이 코딩할 수도 있습니다. 앞에서 설명한 것처럼 interest_stock.keys()의 리턴 값은 'dict_keys(['SK Hynix', 'Naver', 'Samsung'])'인데 이것은 리스트는 아니지만 이를 명시적으로 리스트로 변환할 필요는 없습니다. 파이썬의 for 문은 'dict_keys'타입에 대해서도 제대로 동작을 하기 때문이죠.\n"
     ]
    }
   ],
   "source": [
    "print \"딕셔너리에 key, value 쌍만을 얻어오기 위해서 keys()와 values()이라는 메소드를 사용했었습니다. 딕셔너리의 keys() 메소드를 사용하면 아래와 같이 코딩할 수도 있습니다. 앞에서 설명한 것처럼 interest_stock.keys()의 리턴 값은 'dict_keys(['SK Hynix', 'Naver', 'Samsung'])'인데 이것은 리스트는 아니지만 이를 명시적으로 리스트로 변환할 필요는 없습니다. 파이썬의 for 문은 'dict_keys'타입에 대해서도 제대로 동작을 하기 때문이죠.\""
   ]
  },
  {
   "cell_type": "code",
   "execution_count": 56,
   "metadata": {
    "collapsed": false
   },
   "outputs": [
    {
     "name": "stdout",
     "output_type": "stream",
     "text": [
      "SK Hynix: Buy 30\n",
      "Samsung: Buy 5\n",
      "Naver: Buy 10\n"
     ]
    }
   ],
   "source": [
    "interest_stocks = {\"Naver\":10, \"Samsung\":5, \"SK Hynix\":30}\n",
    "for company in interest_stocks.keys(): \n",
    "    print \"%s: Buy %s\" % (company, interest_stocks[company])"
   ]
  },
  {
   "cell_type": "markdown",
   "metadata": {},
   "source": [
    "# While 문"
   ]
  },
  {
   "cell_type": "code",
   "execution_count": 57,
   "metadata": {
    "collapsed": false
   },
   "outputs": [
    {
     "name": "stdout",
     "output_type": "stream",
     "text": [
      "반복적인 작업을 파이썬의 'for 문'을 통해 표현해 보았습니다. 파이썬에는 'for 문'이외에도 동일하게 반복문을 작성할 수 있는 'while 문'이 추가로 존재합니다. 반복문을 'for 문'으로도 충분히 작성할 수 있는데 왜 'while 문'이라는 것이 추가로 존재할까요? \n",
      "\n",
      "일반적으로 파이썬의 'for 문'은 반복할 횟수가 적거나 리스트, 튜플, 사전과 같은 파이썬 자료 구조와 같이 사용됩니다. 반면, 'while 문'은 반복해야 할 횟수가 상대적으로 큰 경우에 많이 사용됩니다. 당연한 말이지만 'for 문'을 사용하나 'while 문'을 사용하나 결과는 동일합니다. 다만 반복을 수행하는 구조를 보고 'for 문'을 사용하는 것이 프로그래밍하기 더 쉬우면 'for 문'으로 작성을 하는 것이고, 'while 문'이 더 쉬워 보이면 'while 문'으로 프로그램을 작성하면 됩니다.\n"
     ]
    }
   ],
   "source": [
    "print \"반복적인 작업을 파이썬의 'for 문'을 통해 표현해 보았습니다. 파이썬에는 'for 문'이외에도 동일하게 반복문을 작성할 수 있는 'while 문'이 추가로 존재합니다. 반복문을 'for 문'으로도 충분히 작성할 수 있는데 왜 'while 문'이라는 것이 추가로 존재할까요? \\n\\n일반적으로 파이썬의 'for 문'은 반복할 횟수가 적거나 리스트, 튜플, 사전과 같은 파이썬 자료 구조와 같이 사용됩니다. 반면, 'while 문'은 반복해야 할 횟수가 상대적으로 큰 경우에 많이 사용됩니다. 당연한 말이지만 'for 문'을 사용하나 'while 문'을 사용하나 결과는 동일합니다. 다만 반복을 수행하는 구조를 보고 'for 문'을 사용하는 것이 프로그래밍하기 더 쉬우면 'for 문'으로 작성을 하는 것이고, 'while 문'이 더 쉬워 보이면 'while 문'으로 프로그램을 작성하면 됩니다.\""
   ]
  },
  {
   "cell_type": "code",
   "execution_count": 58,
   "metadata": {
    "collapsed": false
   },
   "outputs": [
    {
     "name": "stdout",
     "output_type": "stream",
     "text": [
      "먼저 'for 문'에서 했던 것처럼 0부터 10까지의 숫자를 'while 문'을 사용하여 화면에 출력해보도록 하겠습니다. 아래의 코드를 보면 먼저 'i'라는 변수가 초깃값으로 0을 바인딩 합니다. While 문에는 조건문이 위치하는데 현재 i가 바인딩하는 값이 10보다 작거나 같으므로 해당 조건으로 만족합니다. 조건문이 '참'이므로 while 문에 속하는 문장드은 순서대로 실행됩니다. 즉, print(i)라는 문장이 먼저 실행되고 현재 i라는 변수가 바인딩하고 있는 값인 0이 화면에 출력됩니다. 그리고 'i = i + 1'이라는 문장이 수행되어 i가 바인딩하는 값이 0에서 1로 변경됩니다.\n"
     ]
    }
   ],
   "source": [
    "print \"먼저 'for 문'에서 했던 것처럼 0부터 10까지의 숫자를 'while 문'을 사용하여 화면에 출력해보도록 하겠습니다. 아래의 코드를 보면 먼저 'i'라는 변수가 초깃값으로 0을 바인딩 합니다. While 문에는 조건문이 위치하는데 현재 i가 바인딩하는 값이 10보다 작거나 같으므로 해당 조건으로 만족합니다. 조건문이 '참'이므로 while 문에 속하는 문장드은 순서대로 실행됩니다. 즉, print(i)라는 문장이 먼저 실행되고 현재 i라는 변수가 바인딩하고 있는 값인 0이 화면에 출력됩니다. 그리고 'i = i + 1'이라는 문장이 수행되어 i가 바인딩하는 값이 0에서 1로 변경됩니다.\""
   ]
  },
  {
   "cell_type": "code",
   "execution_count": 59,
   "metadata": {
    "collapsed": false
   },
   "outputs": [
    {
     "name": "stdout",
     "output_type": "stream",
     "text": [
      "While 문에 속하는 모든 문장이 수행된 경우 다시 while 문의 '조건문'으로 이동한 후 조건식을 다시 판단합니다. 이번에는 i라는 변수가 1을 바인딩하고 있지만 여전히 10보다는 작거나 같은 값입니다. 즉, 여전히 조건식은 '참'이 됩니다. 따라서 while 문에 속하는 문장들을 차례로 수행됩니다. 이러한 방식으로 i라는 변수가 바인딩하는 값이 10일 때까지 while 문 내부의 문장을 순서대로 수행하게 되고 i 가 11이 될 때 더는 조건식을 만족하지 않아 while문을 빠져나오게 됩니다.\n"
     ]
    }
   ],
   "source": [
    "print \"While 문에 속하는 모든 문장이 수행된 경우 다시 while 문의 '조건문'으로 이동한 후 조건식을 다시 판단합니다. 이번에는 i라는 변수가 1을 바인딩하고 있지만 여전히 10보다는 작거나 같은 값입니다. 즉, 여전히 조건식은 '참'이 됩니다. 따라서 while 문에 속하는 문장들을 차례로 수행됩니다. 이러한 방식으로 i라는 변수가 바인딩하는 값이 10일 때까지 while 문 내부의 문장을 순서대로 수행하게 되고 i 가 11이 될 때 더는 조건식을 만족하지 않아 while문을 빠져나오게 됩니다.\""
   ]
  },
  {
   "cell_type": "code",
   "execution_count": 60,
   "metadata": {
    "collapsed": false
   },
   "outputs": [
    {
     "name": "stdout",
     "output_type": "stream",
     "text": [
      "0\n",
      "1\n",
      "2\n",
      "3\n",
      "4\n",
      "5\n",
      "6\n",
      "7\n",
      "8\n",
      "9\n",
      "10\n"
     ]
    }
   ],
   "source": [
    "i = 0\n",
    "while i <= 10:\n",
    "    print i\n",
    "    i = i + 1"
   ]
  },
  {
   "cell_type": "code",
   "execution_count": 61,
   "metadata": {
    "collapsed": false
   },
   "outputs": [
    {
     "name": "stdout",
     "output_type": "stream",
     "text": [
      "위에서 i라는 변수는 초깃값으로 0을 바인딩하고 있었습니다. 그러나 while 문에 의해서 루프를 돌 때마다 1씩 증가하였습니다. 정말로 i값이 증가하였는지 확인해 봅시다. 아래와 같이 파이썬 IDLE에서 i값을 확인해보면 i 값이 11로 증가한 것을 확인할 수 있습니다. 앞서 설명한 것처럼 i 값이 11이 되면 더는 while문의 조건식 (i <= 10)을 만족하지 않기 때문에 while문을 빠져나오게 된 것이죠.\n"
     ]
    }
   ],
   "source": [
    "print \"위에서 i라는 변수는 초깃값으로 0을 바인딩하고 있었습니다. 그러나 while 문에 의해서 루프를 돌 때마다 1씩 증가하였습니다. 정말로 i값이 증가하였는지 확인해 봅시다. 아래와 같이 파이썬 IDLE에서 i값을 확인해보면 i 값이 11로 증가한 것을 확인할 수 있습니다. 앞서 설명한 것처럼 i 값이 11이 되면 더는 while문의 조건식 (i <= 10)을 만족하지 않기 때문에 while문을 빠져나오게 된 것이죠.\""
   ]
  },
  {
   "cell_type": "code",
   "execution_count": 62,
   "metadata": {
    "collapsed": false
   },
   "outputs": [
    {
     "data": {
      "text/plain": [
       "11"
      ]
     },
     "execution_count": 62,
     "metadata": {},
     "output_type": "execute_result"
    }
   ],
   "source": [
    "i"
   ]
  },
  {
   "cell_type": "markdown",
   "metadata": {},
   "source": [
    "# While 문으로 상한가 계산하기"
   ]
  },
  {
   "cell_type": "code",
   "execution_count": 63,
   "metadata": {
    "collapsed": false
   },
   "outputs": [
    {
     "name": "stdout",
     "output_type": "stream",
     "text": [
      "While 문에 좀 더 익숙해지기 위해서 주식과 관련된 간단한 코드를 작성해보겠습니다. 여러분들이 '위키북스'의 주식 1주를 보유하고 있는데 주가가 10,000원이었는데 5일 연속하여 상한가를 기록했다고 가정해봅시다. 첫 번째 상한가 후의 가격은 아래처럼 계산할 수 있으 것입니다. 코드를 보면 알겠지만 10,000원에 30% 오른 가격을 더 해줌으로써 상한가를 계산한 것입니다. 계산 결과는 13,000원 입니다. \n",
      "\n",
      "이 금액에서 두 번째 상한가가 발생하면 다시 30%가 더 오르기 때문에 아래와 같이 계산할 수 있을 것입니다. 두 번의 상한가를 기록하게 되면 10,000원에서 16,900원이 됩니다. 문제는 두 번의 상한가를 계산하는 것도 점점 복잡해지고 있다는 것입니다. 아직도 남아있는 세번째 상한가를 생각하니 머리가 아픕니다.\n"
     ]
    }
   ],
   "source": [
    "print \"While 문에 좀 더 익숙해지기 위해서 주식과 관련된 간단한 코드를 작성해보겠습니다. 여러분들이 '위키북스'의 주식 1주를 보유하고 있는데 주가가 10,000원이었는데 5일 연속하여 상한가를 기록했다고 가정해봅시다. 첫 번째 상한가 후의 가격은 아래처럼 계산할 수 있으 것입니다. 코드를 보면 알겠지만 10,000원에 30% 오른 가격을 더 해줌으로써 상한가를 계산한 것입니다. 계산 결과는 13,000원 입니다. \\n\\n이 금액에서 두 번째 상한가가 발생하면 다시 30%가 더 오르기 때문에 아래와 같이 계산할 수 있을 것입니다. 두 번의 상한가를 기록하게 되면 10,000원에서 16,900원이 됩니다. 문제는 두 번의 상한가를 계산하는 것도 점점 복잡해지고 있다는 것입니다. 아직도 남아있는 세번째 상한가를 생각하니 머리가 아픕니다.\""
   ]
  },
  {
   "cell_type": "code",
   "execution_count": 64,
   "metadata": {
    "collapsed": false
   },
   "outputs": [
    {
     "data": {
      "text/plain": [
       "13000.0"
      ]
     },
     "execution_count": 64,
     "metadata": {},
     "output_type": "execute_result"
    }
   ],
   "source": [
    "10000 + 10000 * 0.3"
   ]
  },
  {
   "cell_type": "code",
   "execution_count": 65,
   "metadata": {
    "collapsed": false
   },
   "outputs": [
    {
     "data": {
      "text/plain": [
       "16900.0"
      ]
     },
     "execution_count": 65,
     "metadata": {},
     "output_type": "execute_result"
    }
   ],
   "source": [
    "13000 + 13000 * 0.3"
   ]
  },
  {
   "cell_type": "code",
   "execution_count": 66,
   "metadata": {
    "collapsed": false
   },
   "outputs": [
    {
     "name": "stdout",
     "output_type": "stream",
     "text": [
      "위와 같은 상황에서 while 문을 이용하면 다섯 번의 상한가 후의 가격도 쉽게 계산할 수 있습니다. 각자 while문을 이용하여 어떻게 프로그래밍할 수 있을지 간단히 생각해본 후 아래 코드를 보기 바랍니다.\n"
     ]
    }
   ],
   "source": [
    "print \"위와 같은 상황에서 while 문을 이용하면 다섯 번의 상한가 후의 가격도 쉽게 계산할 수 있습니다. 각자 while문을 이용하여 어떻게 프로그래밍할 수 있을지 간단히 생각해본 후 아래 코드를 보기 바랍니다.\""
   ]
  },
  {
   "cell_type": "code",
   "execution_count": 67,
   "metadata": {
    "collapsed": false
   },
   "outputs": [
    {
     "data": {
      "text/plain": [
       "37129.3"
      ]
     },
     "execution_count": 67,
     "metadata": {},
     "output_type": "execute_result"
    }
   ],
   "source": [
    "wikibooks = 10000\n",
    "day = 1\n",
    "while day < 6:\n",
    "    wikibooks = wikibooks + wikibooks * 0.3\n",
    "    day = day + 1\n",
    "    \n",
    "wikibooks"
   ]
  },
  {
   "cell_type": "code",
   "execution_count": 68,
   "metadata": {
    "collapsed": false
   },
   "outputs": [
    {
     "name": "stdout",
     "output_type": "stream",
     "text": [
      "어떤가요? 먼저 'wikibooks'라는 변수에 첫 번째 상한가가 일어나기 전날의 종가인 10,000원을 바인딩해 두었습니다. 그리고 5번의 상한가를 세기 위하여 날짜를 저장하는 변수인 'day'에 초깃값으로 1을 바인딩했습니다. 현재 'day'는 1을 바인딩하고 있으므로 'day < 6'의 조건을 만족합니다. 이때 조건식 다음에 꼭 클론 (:) 기호가 있는것을 잊으시면 안 됩니다. 조건식을 만족하기 때문에 while 문 안쪽에 들여쓰기 된 코드들이 순서대로 수행되게 됩니다. 따라서 먼저 wikibooks가 바인딩하는 값에 0.3을 곱한 값이 계산되고 이 값이 현재 wikibooks가 바인딩하고 있는 값에 더해지게 됩니다. \n",
      "\n",
      " 이렇게 최종 계산된 값을 다시 wikibooks라는 변수가 바인딩하게 됩니다. 따라서 wikibooks는 13,000원을 바인딩하게 됩니다. 그런 후 'day'라는 변수의 값이 1 증가하여 2를 바인딩하게 됩니다. 이러한 동작은 day값이 5일 때까지 반복되므로 총 5번의 상한가가 발생한 금액을 wikibooks라는 변수가 바인딩하게 됩니다. 위의 코드를 참조하면 10,000원에서 5일 연속 상한가가 발생하면 약 37,000원 전도가 됨을 확인할 수 있습니다.\n"
     ]
    }
   ],
   "source": [
    "print \"어떤가요? 먼저 'wikibooks'라는 변수에 첫 번째 상한가가 일어나기 전날의 종가인 10,000원을 바인딩해 두었습니다. 그리고 5번의 상한가를 세기 위하여 날짜를 저장하는 변수인 'day'에 초깃값으로 1을 바인딩했습니다. 현재 'day'는 1을 바인딩하고 있으므로 'day < 6'의 조건을 만족합니다. 이때 조건식 다음에 꼭 클론 (:) 기호가 있는것을 잊으시면 안 됩니다. 조건식을 만족하기 때문에 while 문 안쪽에 들여쓰기 된 코드들이 순서대로 수행되게 됩니다. 따라서 먼저 wikibooks가 바인딩하는 값에 0.3을 곱한 값이 계산되고 이 값이 현재 wikibooks가 바인딩하고 있는 값에 더해지게 됩니다. \\n\\n 이렇게 최종 계산된 값을 다시 wikibooks라는 변수가 바인딩하게 됩니다. 따라서 wikibooks는 13,000원을 바인딩하게 됩니다. 그런 후 'day'라는 변수의 값이 1 증가하여 2를 바인딩하게 됩니다. 이러한 동작은 day값이 5일 때까지 반복되므로 총 5번의 상한가가 발생한 금액을 wikibooks라는 변수가 바인딩하게 됩니다. 위의 코드를 참조하면 10,000원에서 5일 연속 상한가가 발생하면 약 37,000원 전도가 됨을 확인할 수 있습니다.\""
   ]
  },
  {
   "cell_type": "markdown",
   "metadata": {},
   "source": [
    "* While 문의 동작 원리를 정리해보면 다음과 같습니다.\n",
    " \n",
    "  (1) while 문의 조건 확인\n",
    "  \n",
    "  (2) 조건을 만족하면 while 문 내부의 코드를 차례로 수행, 만족하지 않으면 while문 다음 문장을 수행\n",
    "  \n",
    "  (3) (2)의 과정에서 while 문 내부의 코드를 차례로 수행한 경우 다시 while 문의 조건 확인으로 이동\n",
    " "
   ]
  },
  {
   "cell_type": "markdown",
   "metadata": {},
   "source": [
    "# While문 if문"
   ]
  },
  {
   "cell_type": "code",
   "execution_count": 70,
   "metadata": {
    "collapsed": false
   },
   "outputs": [
    {
     "name": "stdout",
     "output_type": "stream",
     "text": [
      "이번에는 파이썬의 반복문 중 하나인 while 문과 분기문인 if 문을 같이 사용하는 것에 대해 알아보도록 하겠습니다. 이러한 코드는 반복적인 작업을 수행하다가 특정 조건일 때는 다르게 처리하고자 할 때 많이 사용합니다. \n",
      "\n",
      "예를 들어 앞서 while 문을 사용하여 0부터 10까지의 숫자를 화면에 출력해 보았습니다. 이번에는 0부터 10까지의 숫자 중 홀수만 출력하는 프로그램을 작성해 보겠습니다. 먼저 프로그램을 작성하기 전에 어떻게 작성하면 좋을지 잠시 같이 생각을 해보도록 합니다. 먼저 0부터 10까지의 숫자에 대해서 반복을 해야 하므로 while 문을 사용하도록 하겠습니다. While 문에서 조건을 만족하는 경우 while 문 내에서 들여쓰기 된 문장을 순서대로 수행하게 되는데 이때 홀수인 경우에만 화면에 숫자를 출력하면 되겠습니다. \n",
      "\n",
      "그런데 어떻게 숫자가 홀수인지 또는 짝수인지를 확인할 수 있을까요? 프로그래밍할 때 어떤 숫자가 홀수인지 짝수인지를 확인하는 일반적인 방법은 숫자를 2로 나눈 후 나머지를 보는 것입니다. 예를들어 1을 2로 나눈 나머지는 1이 되고 따라서 홀수입니다. 2는 2로 나누면 나머지는 0이 되고 따라서 짝수입니다. 3을 2로 나누면 나머지는 1이 되고 따라서 홀수입니다. \n",
      "\n",
      "이처럼 어떤 논리를 어떻게 프로그램으로 작성할지에 대해서는 많이 프로그램을 작성해보고 다른 사람들의 코드도 많이 봐야 실력이 늡니다. 아래의 코드는 0부터 10까지의 숫자 중에서 홀수만 화면에 출력하는 코드입니다. 전반적으로 저자가 설명한 방식으로 구현되어 있으며 한 가지 특이한 점음 'num'이라는 변수가 바인딩하고 있는 값을 1 증가시킬 때 'num = num + 1' 대신에 'num += 1'이라고 표현했습니다. 두 표현은 같은 의미를 가지는데 'num += 1'과 같은 표현도 많이 사용되기 때문에 눈으로 익혀두시고 자주자주 사용해보시기 바랍니다.\n"
     ]
    }
   ],
   "source": [
    "print \"이번에는 파이썬의 반복문 중 하나인 while 문과 분기문인 if 문을 같이 사용하는 것에 대해 알아보도록 하겠습니다. 이러한 코드는 반복적인 작업을 수행하다가 특정 조건일 때는 다르게 처리하고자 할 때 많이 사용합니다. \\n\\n예를 들어 앞서 while 문을 사용하여 0부터 10까지의 숫자를 화면에 출력해 보았습니다. 이번에는 0부터 10까지의 숫자 중 홀수만 출력하는 프로그램을 작성해 보겠습니다. 먼저 프로그램을 작성하기 전에 어떻게 작성하면 좋을지 잠시 같이 생각을 해보도록 합니다. 먼저 0부터 10까지의 숫자에 대해서 반복을 해야 하므로 while 문을 사용하도록 하겠습니다. While 문에서 조건을 만족하는 경우 while 문 내에서 들여쓰기 된 문장을 순서대로 수행하게 되는데 이때 홀수인 경우에만 화면에 숫자를 출력하면 되겠습니다. \\n\\n그런데 어떻게 숫자가 홀수인지 또는 짝수인지를 확인할 수 있을까요? 프로그래밍할 때 어떤 숫자가 홀수인지 짝수인지를 확인하는 일반적인 방법은 숫자를 2로 나눈 후 나머지를 보는 것입니다. 예를들어 1을 2로 나눈 나머지는 1이 되고 따라서 홀수입니다. 2는 2로 나누면 나머지는 0이 되고 따라서 짝수입니다. 3을 2로 나누면 나머지는 1이 되고 따라서 홀수입니다. \\n\\n이처럼 어떤 논리를 어떻게 프로그램으로 작성할지에 대해서는 많이 프로그램을 작성해보고 다른 사람들의 코드도 많이 봐야 실력이 늡니다. 아래의 코드는 0부터 10까지의 숫자 중에서 홀수만 화면에 출력하는 코드입니다. 전반적으로 저자가 설명한 방식으로 구현되어 있으며 한 가지 특이한 점음 'num'이라는 변수가 바인딩하고 있는 값을 1 증가시킬 때 'num = num + 1' 대신에 'num += 1'이라고 표현했습니다. 두 표현은 같은 의미를 가지는데 'num += 1'과 같은 표현도 많이 사용되기 때문에 눈으로 익혀두시고 자주자주 사용해보시기 바랍니다.\""
   ]
  },
  {
   "cell_type": "code",
   "execution_count": null,
   "metadata": {
    "collapsed": true
   },
   "outputs": [],
   "source": [
    "num = 0\n",
    "while num <= 10:\n",
    "    if num % 2 == 1:\n",
    "        print num\n",
    "    num += 1"
   ]
  },
  {
   "cell_type": "markdown",
   "metadata": {
    "collapsed": true
   },
   "source": [
    "# Break와 continue"
   ]
  },
  {
   "cell_type": "code",
   "execution_count": 1,
   "metadata": {
    "collapsed": false
   },
   "outputs": [
    {
     "name": "stdout",
     "output_type": "stream",
     "text": [
      "For나 while 문을 사용하여 어떤 작업을 반복적으로 수행하고 있다가 특정 조건일 때 반복문 자체를 빠져나와야 할 때가 있습니다. 예를 들어 여러분이 주식 프로그램을 만들었다면 해당 프로그램은 온종일 켜져 있다가 증시 거래 시간이 지나면 동작을 멈춰야 할 것입니다. \n",
      "\n",
      "먼저 프로그램을 계속해서 실행하게 하려면 앞서 배운 while 문을 이용해서 계속해서 루프를 돌도록 해야 합니다. 계속해서 루프를 돌도록 하려면 while 문의 조건이 항상 '참'이 되도록 하면 됩니다.그러면 while 문 내의 문장을 실행하고 다시 조건을 판단할 때 항상 '참'이 되므로 무한히 while 문 내의 코드가 실행되는 것입니다. \n",
      "\n",
      "이처럼 무한히 실행되는 코드를 '무한 루프'라고 부르며 간단하게는 아래와 같이 작성할 수 있습니다. 이 코드를 실행하면 파이썬 IDLE에 계속해서 'Find stocks'가 출력이 됩니다. 우리가 무한히'Find stocks'가 출력되도록 프로그래밍했기 때문에 무한히 출력되는 것입니다. 강제로 종료하기 위해서는 파이썬 IDLE에서 'Ctel+C'키를 눌러서 강제로 종료를 해줘야 합니다.\n"
     ]
    }
   ],
   "source": [
    "print \"For나 while 문을 사용하여 어떤 작업을 반복적으로 수행하고 있다가 특정 조건일 때 반복문 자체를 빠져나와야 할 때가 있습니다. 예를 들어 여러분이 주식 프로그램을 만들었다면 해당 프로그램은 온종일 켜져 있다가 증시 거래 시간이 지나면 동작을 멈춰야 할 것입니다. \\n\\n먼저 프로그램을 계속해서 실행하게 하려면 앞서 배운 while 문을 이용해서 계속해서 루프를 돌도록 해야 합니다. 계속해서 루프를 돌도록 하려면 while 문의 조건이 항상 '참'이 되도록 하면 됩니다.그러면 while 문 내의 문장을 실행하고 다시 조건을 판단할 때 항상 '참'이 되므로 무한히 while 문 내의 코드가 실행되는 것입니다. \\n\\n이처럼 무한히 실행되는 코드를 '무한 루프'라고 부르며 간단하게는 아래와 같이 작성할 수 있습니다. 이 코드를 실행하면 파이썬 IDLE에 계속해서 'Find stocks'가 출력이 됩니다. 우리가 무한히'Find stocks'가 출력되도록 프로그래밍했기 때문에 무한히 출력되는 것입니다. 강제로 종료하기 위해서는 파이썬 IDLE에서 'Ctel+C'키를 눌러서 강제로 종료를 해줘야 합니다.\""
   ]
  },
  {
   "cell_type": "code",
   "execution_count": null,
   "metadata": {
    "collapsed": true
   },
   "outputs": [],
   "source": [
    "while 1: \n",
    "    print \"Find stocks\"\n",
    "    \n",
    "    #이거 실행하면 무한루프다"
   ]
  },
  {
   "cell_type": "code",
   "execution_count": 3,
   "metadata": {
    "collapsed": false
   },
   "outputs": [
    {
     "name": "stdout",
     "output_type": "stream",
     "text": [
      "파이썬의 반복문 (while 문 또는 for 문)에서 반복문을 빠져나오려면 'break'이라는 키워드를 사용하면 됩니다. 위의 무한 루프 코드는 원래 무한히 반복되어야 하는데 여기에 'break'이라는 키워드를 넣어주면 해당 위치에서 반복문을 빠져나오게 됩니다.\n"
     ]
    }
   ],
   "source": [
    "print \"파이썬의 반복문 (while 문 또는 for 문)에서 반복문을 빠져나오려면 'break'이라는 키워드를 사용하면 됩니다. 위의 무한 루프 코드는 원래 무한히 반복되어야 하는데 여기에 'break'이라는 키워드를 넣어주면 해당 위치에서 반복문을 빠져나오게 됩니다.\""
   ]
  },
  {
   "cell_type": "code",
   "execution_count": 4,
   "metadata": {
    "collapsed": false
   },
   "outputs": [
    {
     "name": "stdout",
     "output_type": "stream",
     "text": [
      "While 문과 break를 이용하여 간단한 프로그램을 하나 더 작성해보겠습니다. 이번에도 화면에 0부터10까지의 숫자를 출력하는데, 단, while 문에서 무한 루프 조건 ('while 1:')을 사용해보기 바랍니다. 아래 코드를 참조하면 while 문 내에서 if 문을 이용하여 현재 숫자가 10이면 break를 통해서 while문 바깥으로 나가도록 프로그래밍 된 것을 볼 수 있습니다.\n"
     ]
    }
   ],
   "source": [
    "print \"While 문과 break를 이용하여 간단한 프로그램을 하나 더 작성해보겠습니다. 이번에도 화면에 0부터10까지의 숫자를 출력하는데, 단, while 문에서 무한 루프 조건 ('while 1:')을 사용해보기 바랍니다. 아래 코드를 참조하면 while 문 내에서 if 문을 이용하여 현재 숫자가 10이면 break를 통해서 while문 바깥으로 나가도록 프로그래밍 된 것을 볼 수 있습니다.\""
   ]
  },
  {
   "cell_type": "code",
   "execution_count": 5,
   "metadata": {
    "collapsed": false
   },
   "outputs": [
    {
     "name": "stdout",
     "output_type": "stream",
     "text": [
      "0\n",
      "1\n",
      "2\n",
      "3\n",
      "4\n",
      "5\n",
      "6\n",
      "7\n",
      "8\n",
      "9\n",
      "10\n"
     ]
    }
   ],
   "source": [
    "num = 0\n",
    "while 1:\n",
    "    print num\n",
    "    if num == 10:\n",
    "        break\n",
    "    num += 1"
   ]
  },
  {
   "cell_type": "code",
   "execution_count": 6,
   "metadata": {
    "collapsed": false,
    "scrolled": true
   },
   "outputs": [
    {
     "name": "stdout",
     "output_type": "stream",
     "text": [
      "While 문이나 for 문을 사용한 반복문에서 break를 사용하면 반복문 전체를 빠져나오게 됩니다. 그런데 반복문 전체를 빠져나오는 것이 아니라 해당 조건만 건너뛰고 싶을 때는 어떻게 하면 될까요? \n",
      "\n",
      "예를 들어 화면에 1부터 10까지를 출력을 하는데 5인 경우에만 출력하지 않고 건너뛰는 것처럼 말이죠. 이럴 때 사용할 수 있는 키워드가 바로 'continue'입니다. \n",
      "\n",
      "아래의 코드를 참조하면 while 문 내에서 먼저 'num'값을 증가하도록 했습니다. 그리고 증가한 'num'값이 5와 같으면 continue가 실행되도록 프로그래밍 되어 있습니다. 파이썬 프로그램이 실행되다가 continue를 만나면 그 아래의 코드를 수행하지 않고 while문의 조건을 판단하는 곳으로 점프하게 됩니다. \n",
      "\n",
      "따라서 아래의 코드를 수행하면 num 값이 5일 때는 화면에 '5'가 출력되지 않은 채로 다시 while 문의 조건식으로 이동하게 되고 그다음 'num += 1'에 의해서 num 값이 5에서 6으로 증가하게 됩니다. 물론 1부터 10까지의 숫자를 출력하는데 5만 출력하지 않는다고 할 때 아래와 같이 continue 문을 사용해야만 하는 것은 아닙니다. \n"
     ]
    }
   ],
   "source": [
    "print \"While 문이나 for 문을 사용한 반복문에서 break를 사용하면 반복문 전체를 빠져나오게 됩니다. 그런데 반복문 전체를 빠져나오는 것이 아니라 해당 조건만 건너뛰고 싶을 때는 어떻게 하면 될까요? \\n\\n예를 들어 화면에 1부터 10까지를 출력을 하는데 5인 경우에만 출력하지 않고 건너뛰는 것처럼 말이죠. 이럴 때 사용할 수 있는 키워드가 바로 'continue'입니다. \\n\\n아래의 코드를 참조하면 while 문 내에서 먼저 'num'값을 증가하도록 했습니다. 그리고 증가한 'num'값이 5와 같으면 continue가 실행되도록 프로그래밍 되어 있습니다. 파이썬 프로그램이 실행되다가 continue를 만나면 그 아래의 코드를 수행하지 않고 while문의 조건을 판단하는 곳으로 점프하게 됩니다. \\n\\n따라서 아래의 코드를 수행하면 num 값이 5일 때는 화면에 '5'가 출력되지 않은 채로 다시 while 문의 조건식으로 이동하게 되고 그다음 'num += 1'에 의해서 num 값이 5에서 6으로 증가하게 됩니다. 물론 1부터 10까지의 숫자를 출력하는데 5만 출력하지 않는다고 할 때 아래와 같이 continue 문을 사용해야만 하는 것은 아닙니다. \""
   ]
  },
  {
   "cell_type": "code",
   "execution_count": 12,
   "metadata": {
    "collapsed": false
   },
   "outputs": [
    {
     "name": "stdout",
     "output_type": "stream",
     "text": [
      "* * * * *\n"
     ]
    }
   ],
   "source": [
    "for i in range(5):\n",
    "    print '*', "
   ]
  },
  {
   "cell_type": "code",
   "execution_count": 13,
   "metadata": {
    "collapsed": false
   },
   "outputs": [
    {
     "name": "stdout",
     "output_type": "stream",
     "text": [
      "* * * * * \n",
      "* * * * * \n",
      "* * * * * \n",
      "* * * * * \n"
     ]
    }
   ],
   "source": [
    "for j in range(4):\n",
    "    for i in range(5):\n",
    "        print '*', \n",
    "    print \"\""
   ]
  },
  {
   "cell_type": "code",
   "execution_count": 14,
   "metadata": {
    "collapsed": false
   },
   "outputs": [
    {
     "name": "stdout",
     "output_type": "stream",
     "text": [
      "*  \n",
      "* *  \n",
      "* * *  \n",
      "* * * *  \n",
      "* * * * *  \n"
     ]
    }
   ],
   "source": [
    "for j in range(5):\n",
    "    for i in range(j+1):\n",
    "        print '*',\n",
    "    print\" \""
   ]
  },
  {
   "cell_type": "code",
   "execution_count": 19,
   "metadata": {
    "collapsed": false
   },
   "outputs": [
    {
     "name": "stdout",
     "output_type": "stream",
     "text": [
      "* * * * *  \n",
      "* * * *  \n",
      "* * *  \n",
      "* *  \n",
      "*  \n"
     ]
    }
   ],
   "source": [
    "for j in range(5):\n",
    "    for i in range(5-j):\n",
    "        print '*', \n",
    "    print \" \""
   ]
  },
  {
   "cell_type": "code",
   "execution_count": 20,
   "metadata": {
    "collapsed": false
   },
   "outputs": [
    {
     "name": "stdout",
     "output_type": "stream",
     "text": [
      "        * \n",
      "      * * \n",
      "    * * * \n",
      "  * * * * \n",
      "* * * * * \n"
     ]
    }
   ],
   "source": [
    "for j in range(5):\n",
    "    for i in range(4-j):\n",
    "        print ' ', \n",
    "    for i in range(j+1):\n",
    "        print '*',\n",
    "    print \"\""
   ]
  },
  {
   "cell_type": "code",
   "execution_count": 22,
   "metadata": {
    "collapsed": false
   },
   "outputs": [
    {
     "name": "stdout",
     "output_type": "stream",
     "text": [
      "        *  \n",
      "      * * *  \n",
      "    * * * * *  \n",
      "  * * * * * * *  \n",
      "* * * * * * * * *  \n"
     ]
    }
   ],
   "source": [
    "for j in range(5):\n",
    "    for i in range(4-j):\n",
    "        print ' ',\n",
    "    for i in range(2*(j+1)-1):\n",
    "        print '*',\n",
    "    print \" \""
   ]
  },
  {
   "cell_type": "code",
   "execution_count": 23,
   "metadata": {
    "collapsed": false
   },
   "outputs": [
    {
     "name": "stdout",
     "output_type": "stream",
     "text": [
      "* * * * * * * * *  \n",
      "  * * * * * * *  \n",
      "    * * * * *  \n",
      "      * * *  \n",
      "        *  \n"
     ]
    }
   ],
   "source": [
    "for j in range(5):\n",
    "    for i in range(j):\n",
    "        print ' ', \n",
    "    for i in range(2*(5-j)-1):\n",
    "        print '*', \n",
    "    print \" \""
   ]
  },
  {
   "cell_type": "code",
   "execution_count": 24,
   "metadata": {
    "collapsed": false
   },
   "outputs": [
    {
     "name": "stdout",
     "output_type": "stream",
     "text": [
      "Newspaper delivery: 102\n",
      "Newspaper delivery: 103\n",
      "Newspaper delivery: 104\n",
      "Newspaper delivery: 201\n",
      "Newspaper delivery: 202\n",
      "Newspaper delivery: 204\n",
      "Newspaper delivery: 302\n",
      "Newspaper delivery: 303\n",
      "Newspaper delivery: 304\n",
      "Newspaper delivery: 401\n",
      "Newspaper delivery: 402\n",
      "Newspaper delivery: 403\n"
     ]
    }
   ],
   "source": [
    "'''이중 루프를 활용하여 신문 배달을 하는 프로그램을 작성하세요. \n",
    "단, 아래에서 arrears 리스트는 신문 구독료가 미납된 세대에 대한 정보를 \n",
    "포함하고 있는데, 해당 세대에는 신문을 배달하지 않아야 합니다.'''\n",
    "\n",
    "apart = [[101, 102, 103, 104], [201, 202, 203, 204], [301, 302, 303, 304], [401, 402, 403, 404]]\n",
    "arrears = [101, 203, 301, 404]\n",
    "for floor in apart:\n",
    "    for house in floor:\n",
    "        if  house in arrears:\n",
    "            continue\n",
    "        else: \n",
    "            print \"Newspaper delivery:\", house"
   ]
  },
  {
   "cell_type": "code",
   "execution_count": 6,
   "metadata": {
    "collapsed": false
   },
   "outputs": [
    {
     "name": "stdout",
     "output_type": "stream",
     "text": [
      "[]\n"
     ]
    }
   ],
   "source": [
    "data = \"\"\" \n",
    "park 900905-1049118\n",
    "kim 700803-1039119\"\"\"\n",
    "\n",
    "result = []\n",
    "for line in data.split(\"\\n\"):\n",
    "    word_result = []\n",
    "    for word in line.split(\" \"):\n",
    "        if len(word) == 14 and word[:6].isdigit() and word[7:].isdigit():\n",
    "            word = word[:6] + \"-\" + \"*******\"\n",
    "        word_result.append(word)\n",
    "    result.append(\" \".join(word_result))\n",
    "print(\"\\n\".join(result))\n",
    "\n",
    "# isdigit()함수는 매개변수 ()에 들어오는 값이 숫자인지 아닌지 판단한다.\n"
   ]
  },
  {
   "cell_type": "code",
   "execution_count": 7,
   "metadata": {
    "collapsed": false
   },
   "outputs": [
    {
     "name": "stdout",
     "output_type": "stream",
     "text": [
      " \n",
      "park 900905-*******\n",
      "kim 700803-*******\n"
     ]
    }
   ],
   "source": [
    "import re\n",
    "\n",
    "data = \"\"\" \n",
    "park 900905-1049118\n",
    "kim 700803-1039119\"\"\"\n",
    "\n",
    "pat = re.compile(\"(\\d{6})[-]\\d{7}\")\n",
    "print(pat.sub(\"\\g<1>-*******\", data))"
   ]
  },
  {
   "cell_type": "code",
   "execution_count": null,
   "metadata": {
    "collapsed": true
   },
   "outputs": [],
   "source": []
  }
 ],
 "metadata": {
  "kernelspec": {
   "display_name": "Python 2",
   "language": "python",
   "name": "python2"
  },
  "language_info": {
   "codemirror_mode": {
    "name": "ipython",
    "version": 2
   },
   "file_extension": ".py",
   "mimetype": "text/x-python",
   "name": "python",
   "nbconvert_exporter": "python",
   "pygments_lexer": "ipython2",
   "version": "2.7.12"
  }
 },
 "nbformat": 4,
 "nbformat_minor": 1
}
