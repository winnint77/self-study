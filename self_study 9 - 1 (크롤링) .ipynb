{
 "cells": [
  {
   "cell_type": "markdown",
   "metadata": {
    "collapsed": true
   },
   "source": [
    "# 크롤링 데이터 MYSQL로 보내기"
   ]
  },
  {
   "cell_type": "code",
   "execution_count": 4,
   "metadata": {
    "collapsed": true
   },
   "outputs": [],
   "source": [
    "# -*- coding: utf-8 -*-\n",
    "\n",
    "import os\n",
    "import sys\n",
    "reload(sys)\n",
    "sys.setdefaultencoding('utf-8')\n",
    "\n",
    "from sqlalchemy import Column, ForeignKey, Integer, CHAR, Date, String, Time, Index, DateTime, TIMESTAMP, func\n",
    "from sqlalchemy.dialects.mysql import INTEGER, BIT, TINYINT, TIME, DOUBLE, TEXT\n",
    "from sqlalchemy.ext.declarative import declarative_base\n",
    "from sqlalchemy.orm import relationship\n",
    "from sqlalchemy import create_engine\n",
    "from sqlalchemy import PrimaryKeyConstraint\n",
    "from sqlalchemy.orm import sessionmaker\n",
    "\n",
    "Base = declarative_base()\n",
    "\n",
    "class Movie(Base):\n",
    "    __tablename__ = 'movie'\n",
    "\n",
    "    ID              = Column(Integer, primary_key = True, nullable = False, autoincrement = True)\n",
    "    Title           = Column(CHAR(100), nullable = False)\n",
    "    \n",
    "    def __repr__(self):\n",
    "        return self.Title\n",
    "    \n",
    "server = 'ec2-52-33-206-219.us-west-2.compute.amazonaws.com'\n",
    "print 'test'\n",
    "connection_string = 'mysql+mysqldb://root:6626park@{}:3306/test'.format(server)\n",
    "print connection_string\n",
    "engine = create_engine(connection_string, pool_recycle = 3600, encoding='utf-8')\n",
    "Session = sessionmaker(bind=engine)\n",
    "\n",
    "session = Session()\n",
    "\n",
    "from bs4 import BeautifulSoup\n",
    "import urllib\n",
    "\n",
    "# 가져올 URL\n",
    "html = urllib.urlopen(\"http://movie.naver.com/movie/running/current.nhn?view=list&tab=normal&order=reserve\")\n",
    "soup = BeautifulSoup(html)\n",
    "# 영화 제목이 페이지에 dt로 class 명이 tit로 되어 있기 때문이다.\n",
    "data = soup.findAll(\"dt\", { \"class\" : \"tit\" })\n",
    "# 아래의 과정은 제목만 뽑아 내기 위\n",
    "\n",
    "for i in data:\n",
    "    j = i.find('a')\n",
    "    s2 = Movie (Title = str(j.get_text()))\n",
    "    session.add(s2)\n",
    "    session.commit()"
   ]
  },
  {
   "cell_type": "markdown",
   "metadata": {
    "collapsed": true
   },
   "source": [
    "# Selenium을 통한 자동화"
   ]
  },
  {
   "cell_type": "code",
   "execution_count": 7,
   "metadata": {
    "collapsed": false
   },
   "outputs": [
    {
     "ename": "TypeError",
     "evalue": "'module' object is not callable",
     "output_type": "error",
     "traceback": [
      "\u001b[0;31m---------------------------------------------------------------------------\u001b[0m",
      "\u001b[0;31mTypeError\u001b[0m                                 Traceback (most recent call last)",
      "\u001b[0;32m<ipython-input-7-06bf494678e2>\u001b[0m in \u001b[0;36m<module>\u001b[0;34m()\u001b[0m\n\u001b[1;32m      1\u001b[0m \u001b[1;32mfrom\u001b[0m \u001b[0mselenium\u001b[0m \u001b[1;32mimport\u001b[0m \u001b[0mwebdriver\u001b[0m\u001b[1;33m\u001b[0m\u001b[0m\n\u001b[0;32m----> 2\u001b[0;31m \u001b[0mdriver\u001b[0m \u001b[1;33m=\u001b[0m \u001b[0mwebdriver\u001b[0m\u001b[1;33m.\u001b[0m\u001b[0mchrome\u001b[0m\u001b[1;33m(\u001b[0m\u001b[1;33m)\u001b[0m\u001b[1;33m\u001b[0m\u001b[0m\n\u001b[0m\u001b[1;32m      3\u001b[0m \u001b[0mdriver\u001b[0m\u001b[1;33m.\u001b[0m\u001b[0mget\u001b[0m\u001b[1;33m(\u001b[0m\u001b[1;34m'http://naver.com'\u001b[0m\u001b[1;33m)\u001b[0m\u001b[1;33m\u001b[0m\u001b[0m\n\u001b[1;32m      4\u001b[0m \u001b[0mdelay\u001b[0m \u001b[1;33m=\u001b[0m \u001b[1;36m2\u001b[0m\u001b[1;33m\u001b[0m\u001b[0m\n\u001b[1;32m      5\u001b[0m \u001b[0mdriver\u001b[0m\u001b[1;33m.\u001b[0m\u001b[0mimplicitly_wait\u001b[0m\u001b[1;33m(\u001b[0m\u001b[0mdelay\u001b[0m\u001b[1;33m)\u001b[0m \u001b[1;31m# 네이버가 안정적으로 로딩 후 다음 작업이 일어날 수 있도록 대기시간 부여\u001b[0m\u001b[1;33m\u001b[0m\u001b[0m\n",
      "\u001b[0;31mTypeError\u001b[0m: 'module' object is not callable"
     ]
    }
   ],
   "source": [
    "from selenium import webdriver\n",
    "driver = webdriver.firefox()\n",
    "driver.get('http://naver.com')\n",
    "delay = 2\n",
    "driver.implicitly_wait(delay) # 네이버가 안정적으로 로딩 후 다음 작업이 일어날 수 있도록 대기시간 부여\n",
    "\n",
    "try : \n",
    "    username = driver.find_element_by_id('id')\n",
    "    password = driver.find_element_by_css_selector('#pw')\n",
    "                                         \n",
    "    username.send_keys('pioneer_vit')\n",
    "    password.send_keys('9633park')\n",
    "    \n",
    "    password.submit()\n",
    "    driver.implicitly_wait(delay)\n",
    "    \n",
    "except:\n",
    "    print \"로그인 되어 있음!\"\n",
    "    \n",
    "finally:\n",
    "    driver.get('http://blog.naver.com/joanna658')\n",
    "    driver.implicitly_wait(delay)\n",
    "    \n",
    "try:\n",
    "    driver.switch_to_frame(\"mainFrame\")\n",
    "    \n",
    "    write_button = driver.find_element_by_css_selector('div#post-admin a')\n",
    "    write_button.click()\n",
    "    driver.implicitly_wait(delay)\n",
    "    \n",
    "except:\n",
    "    print 'Some error'\n",
    "    \n"
   ]
  },
  {
   "cell_type": "code",
   "execution_count": 9,
   "metadata": {
    "collapsed": true
   },
   "outputs": [],
   "source": [
    "#-*- coding: cp949 -*-\n",
    "import urllib\n",
    "from bs4 import BeautifulSoup\n",
    "\n",
    "html = urllib.urlopen('http://movie.daum.net')\n",
    "soup = BeautifulSoup(html)\n",
    "titles = soup.find_all(\"a\", \"title\")\n",
    "for title in titles:\n",
    "    print 'title:{0:10s} \\n'.format(title['title'].encode('utf-8'))"
   ]
  },
  {
   "cell_type": "code",
   "execution_count": null,
   "metadata": {
    "collapsed": true
   },
   "outputs": [],
   "source": []
  }
 ],
 "metadata": {
  "kernelspec": {
   "display_name": "Python 2",
   "language": "python",
   "name": "python2"
  },
  "language_info": {
   "codemirror_mode": {
    "name": "ipython",
    "version": 2
   },
   "file_extension": ".py",
   "mimetype": "text/x-python",
   "name": "python",
   "nbconvert_exporter": "python",
   "pygments_lexer": "ipython2",
   "version": "2.7.12"
  }
 },
 "nbformat": 4,
 "nbformat_minor": 1
}
