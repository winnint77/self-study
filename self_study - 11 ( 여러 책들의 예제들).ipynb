{
 "cells": [
  {
   "cell_type": "markdown",
   "metadata": {},
   "source": [
    "## The while loop"
   ]
  },
  {
   "cell_type": "code",
   "execution_count": 1,
   "metadata": {
    "collapsed": false
   },
   "outputs": [
    {
     "name": "stdout",
     "output_type": "stream",
     "text": [
      "1\n",
      "2\n",
      "3\n",
      "4\n",
      "5\n",
      "6\n",
      "7\n",
      "8\n",
      "9\n",
      "10\n"
     ]
    }
   ],
   "source": [
    "a = 0\n",
    "while a < 10:\n",
    "    a = a + 1\n",
    "    print a"
   ]
  },
  {
   "cell_type": "code",
   "execution_count": 2,
   "metadata": {
    "collapsed": false
   },
   "outputs": [
    {
     "name": "stdout",
     "output_type": "stream",
     "text": [
      "10\n",
      "(\"Wow, we've counted x down, and now it equals\", 9)\n",
      "9\n",
      "(\"Wow, we've counted x down, and now it equals\", 8)\n",
      "8\n",
      "(\"Wow, we've counted x down, and now it equals\", 7)\n",
      "7\n",
      "(\"Wow, we've counted x down, and now it equals\", 6)\n",
      "6\n",
      "(\"Wow, we've counted x down, and now it equals\", 5)\n",
      "5\n",
      "(\"Wow, we've counted x down, and now it equals\", 4)\n",
      "4\n",
      "(\"Wow, we've counted x down, and now it equals\", 3)\n",
      "3\n",
      "(\"Wow, we've counted x down, and now it equals\", 2)\n",
      "2\n",
      "(\"Wow, we've counted x down, and now it equals\", 1)\n",
      "1\n",
      "(\"Wow, we've counted x down, and now it equals\", 0)\n",
      "And now the loop has ended.\n"
     ]
    }
   ],
   "source": [
    "#EXAMPLE\n",
    "#Type this in and see what it does.\n",
    "x = 10\n",
    "while x != 0:\n",
    "    print(x)\n",
    "    x = x - 1\n",
    "    print(\"Wow, we've counted x down, and now it equals\", x)\n",
    "print (\"And now the loop has ended.\")\n"
   ]
  },
  {
   "cell_type": "code",
   "execution_count": 3,
   "metadata": {
    "collapsed": false
   },
   "outputs": [
    {
     "name": "stdout",
     "output_type": "stream",
     "text": [
      "This should happen.\n"
     ]
    }
   ],
   "source": [
    "a = 1\n",
    "if a > 5:\n",
    "    print(\"This shouldn't happen.\")\n",
    "else:\n",
    "    print(\"This should happen.\")"
   ]
  },
  {
   "cell_type": "code",
   "execution_count": 5,
   "metadata": {
    "collapsed": false
   },
   "outputs": [
    {
     "name": "stdout",
     "output_type": "stream",
     "text": [
      "Type in something, and it will be repeated on screen:yes\n",
      "yes\n"
     ]
    }
   ],
   "source": [
    "# this line makes 'a' equal to whatever you type in\n",
    "a = raw_input(\"Type in something, and it will be repeated on screen:\")\n",
    "# this line prints what 'a' is now worth\n",
    "print a"
   ]
  },
  {
   "cell_type": "code",
   "execution_count": null,
   "metadata": {
    "collapsed": false
   },
   "outputs": [
    {
     "name": "stdout",
     "output_type": "stream",
     "text": [
      "Welcome to calculator.py\n",
      "your options are:\n",
      " \n",
      "1) Addition\n",
      "2) Subtraction\n",
      "3) Multiplication\n",
      "4) Division\n",
      "5) Quit calculator.py\n",
      " \n",
      "Choose your option: 1\n",
      "Add this: 3\n",
      "to this: 4\n",
      "(3, '+', 4, '=', 7)\n",
      "Welcome to calculator.py\n",
      "your options are:\n",
      " \n",
      "1) Addition\n",
      "2) Subtraction\n",
      "3) Multiplication\n",
      "4) Division\n",
      "5) Quit calculator.py\n",
      " \n"
     ]
    }
   ],
   "source": [
    "#calculator program\n",
    "\n",
    "#This variable tells the loop whether it should loop or not.\n",
    "# 1 means loop. Anything else means don't loop.\n",
    "\n",
    "loop = 1\n",
    "\n",
    "#this variable holds the user's choice in the menu:\n",
    "\n",
    "choice = 0\n",
    "\n",
    "while loop == 1:\n",
    "    #Display the available options\n",
    "    print (\"Welcome to calculator.py\")\n",
    "\n",
    "    print (\"your options are:\")\n",
    "    print (\" \")\n",
    "    print (\"1) Addition\")\n",
    "    print (\"2) Subtraction\")\n",
    "\n",
    "    print (\"3) Multiplication\")\n",
    "\n",
    "    print (\"4) Division\")\n",
    "    print (\"5) Quit calculator.py\")\n",
    "    print (\" \")\n",
    "\n",
    "    choice = int(input(\"Choose your option: \"))\n",
    "    if choice == 1:\n",
    "        add1 = int(input(\"Add this: \"))\n",
    "        add2 = int(input(\"to this: \"))\n",
    "        print (add1, \"+\", add2, \"=\", add1 + add2)\n",
    "    elif choice == 2:\n",
    "        sub2 = int(input(\"Subtract this: \"))\n",
    "        sub1 = int(input(\"from this: \"))\n",
    "        print (sub1, \"-\", sub2, \"=\", sub1 - sub2)\n",
    "    elif choice == 3:\n",
    "        mul1 = int(input(\"Multiply this: \"))\n",
    "        mul2 = int(input(\"with this: \"))\n",
    "        print (mul1, \"*\", mul2, \"=\", mul1 * mul2)\n",
    "    elif choice == 4:\n",
    "        div1 = int(input(\"Divide this: \"))\n",
    "        div2 = int(input(\"by this: \"))\n",
    "        print (div1, \"/\", div2, \"=\", div1 / div2)\n",
    "    elif choice == 5:\n",
    "        loop = 0\n",
    "\t\n",
    "print (\"Thank you for using calculator.py!\")"
   ]
  },
  {
   "cell_type": "code",
   "execution_count": 1,
   "metadata": {
    "collapsed": false
   },
   "outputs": [
    {
     "name": "stdout",
     "output_type": "stream",
     "text": [
      "Who do you go for? hanvit\n",
      "Gimme a h!\n",
      "h!\n",
      "Gimme a a!\n",
      "a!\n",
      "Gimme a n!\n",
      "n!\n",
      "Gimme a v!\n",
      "v!\n",
      "Gimme a i!\n",
      "i!\n",
      "Gimme a t!\n",
      "t!\n",
      "What does that spell?\n",
      "hanvit!\n"
     ]
    }
   ],
   "source": [
    "# cheerleading program\n",
    "word = raw_input(\"Who do you go for? \")\n",
    "\n",
    "for letter in word:\n",
    "    call = \"Gimme a \" + letter + \"!\"\n",
    "    print(call)\n",
    "    print(letter + \"!\")\n",
    "print(\"What does that spell?\")\n",
    "print(word + \"!\")\n"
   ]
  },
  {
   "cell_type": "code",
   "execution_count": null,
   "metadata": {
    "collapsed": true
   },
   "outputs": [],
   "source": []
  }
 ],
 "metadata": {
  "kernelspec": {
   "display_name": "Python 2",
   "language": "python",
   "name": "python2"
  },
  "language_info": {
   "codemirror_mode": {
    "name": "ipython",
    "version": 2
   },
   "file_extension": ".py",
   "mimetype": "text/x-python",
   "name": "python",
   "nbconvert_exporter": "python",
   "pygments_lexer": "ipython2",
   "version": "2.7.12"
  }
 },
 "nbformat": 4,
 "nbformat_minor": 1
}
