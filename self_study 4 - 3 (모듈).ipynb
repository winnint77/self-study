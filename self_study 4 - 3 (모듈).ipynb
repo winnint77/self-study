{
 "cells": [
  {
   "cell_type": "markdown",
   "metadata": {},
   "source": [
    "# 모듈"
   ]
  },
  {
   "cell_type": "code",
   "execution_count": 1,
   "metadata": {
    "collapsed": false
   },
   "outputs": [
    {
     "name": "stdout",
     "output_type": "stream",
     "text": [
      "지금까지는 혼자서 변수, 함수를 만들어 쓰면서 자급자족하는 방법을 배웠다고 한다면, 이제부터는 남이 만들어 놓은 부품을 가져다가 사용하는 방법을 배울 차례입니다. \n",
      "\n",
      "우리가 복잡한 프로그램을 작성하기 위해서 필요한 모든 과정을 직접 만들어야 한다면 어떤 모습이 될까요? 전체적인 모습에서부터 작은 기능 하나하나까지 모두 구상해서 만들고 오류를 수정해서, 한 곳에 모아두면 또 오류가 생기고 ... 더구나, 또 다른 프로그래머는 나와 비슷한 기능을 하는 프로그램을 만들면서 똑같은 시행착오를 답습할테구요. \n",
      "\n",
      "그래서, 이런 문제를 해결하기 위해 모든 프로그래밍 언어들은 모듈이라는 개념을 사용합니다. 모듈은 프로그램의 꾸러미라고 생각하면 되지요. 예를 들어, 만약 작성할 프로그램에 수학적인 계산 기능이 필요하다면 math라는 모듈을 불러와서 사용하면 됩니다. \n"
     ]
    }
   ],
   "source": [
    "print \"지금까지는 혼자서 변수, 함수를 만들어 쓰면서 자급자족하는 방법을 배웠다고 한다면, 이제부터는 남이 만들어 놓은 부품을 가져다가 사용하는 방법을 배울 차례입니다. \\n\\n우리가 복잡한 프로그램을 작성하기 위해서 필요한 모든 과정을 직접 만들어야 한다면 어떤 모습이 될까요? 전체적인 모습에서부터 작은 기능 하나하나까지 모두 구상해서 만들고 오류를 수정해서, 한 곳에 모아두면 또 오류가 생기고 ... 더구나, 또 다른 프로그래머는 나와 비슷한 기능을 하는 프로그램을 만들면서 똑같은 시행착오를 답습할테구요. \\n\\n그래서, 이런 문제를 해결하기 위해 모든 프로그래밍 언어들은 모듈이라는 개념을 사용합니다. 모듈은 프로그램의 꾸러미라고 생각하면 되지요. 예를 들어, 만약 작성할 프로그램에 수학적인 계산 기능이 필요하다면 math라는 모듈을 불러와서 사용하면 됩니다. \""
   ]
  },
  {
   "cell_type": "code",
   "execution_count": 2,
   "metadata": {
    "collapsed": false
   },
   "outputs": [
    {
     "data": {
      "text/plain": [
       "3.141592653589793"
      ]
     },
     "execution_count": 2,
     "metadata": {},
     "output_type": "execute_result"
    }
   ],
   "source": [
    "import math \n",
    "math.pi"
   ]
  },
  {
   "cell_type": "code",
   "execution_count": 9,
   "metadata": {
    "collapsed": false
   },
   "outputs": [
    {
     "name": "stdout",
     "output_type": "stream",
     "text": [
      "위에서 수학적인 계산에 필요한 것들을 모아둔 math 모듈을 불러온 다음, math 모듈 내에 정의되어 있는 pi 변수를 사용했습니다.\n",
      "\n",
      "위를 보시면 알겠지만, 우리가 함수를 직접 정의하지 않아도 math라는 모듈을 불러와 그 모듈에 있는 함수들을 그대로 사용할 수 있다는 사실을 알 수 있습니다. 모듈이란 녀석이 상당히 편리하지 않습니까? 파이썬에서는 이런 수학과 관련된 모듈만이 존재하는게 아니라, 시간, 파일 등과 관련된 다양한 모듈이 존재합니다. 위와 같이 내장되어 있는 모듈도 있지만, 당연하게도 우리가 직접 모듈을 만들어서 불러와 사용할 수 있습니다. 이제는 직접 여러 개의 모듈을 만들어 보도록 하는 경험을 가져보도록 할 것 입니다. \n",
      "\n",
      "이번에는 달력을 불러볼까요? 딱 두 줄만 치면 됩니다.\n"
     ]
    }
   ],
   "source": [
    "print \"위에서 수학적인 계산에 필요한 것들을 모아둔 math 모듈을 불러온 다음, math 모듈 내에 정의되어 있는 pi 변수를 사용했습니다.\\n\\n위를 보시면 알겠지만, 우리가 함수를 직접 정의하지 않아도 math라는 모듈을 불러와 그 모듈에 있는 함수들을 그대로 사용할 수 있다는 사실을 알 수 있습니다. 모듈이란 녀석이 상당히 편리하지 않습니까? 파이썬에서는 이런 수학과 관련된 모듈만이 존재하는게 아니라, 시간, 파일 등과 관련된 다양한 모듈이 존재합니다. 위와 같이 내장되어 있는 모듈도 있지만, 당연하게도 우리가 직접 모듈을 만들어서 불러와 사용할 수 있습니다. 이제는 직접 여러 개의 모듈을 만들어 보도록 하는 경험을 가져보도록 할 것 입니다. \\n\\n이번에는 달력을 불러볼까요? 딱 두 줄만 치면 됩니다.\""
   ]
  },
  {
   "cell_type": "code",
   "execution_count": 4,
   "metadata": {
    "collapsed": false
   },
   "outputs": [
    {
     "name": "stdout",
     "output_type": "stream",
     "text": [
      "     July 2013\n",
      "Mo Tu We Th Fr Sa Su\n",
      " 1  2  3  4  5  6  7\n",
      " 8  9 10 11 12 13 14\n",
      "15 16 17 18 19 20 21\n",
      "22 23 24 25 26 27 28\n",
      "29 30 31\n"
     ]
    }
   ],
   "source": [
    "import calendar\n",
    "calendar.prmonth(2013, 7)\n"
   ]
  },
  {
   "cell_type": "markdown",
   "metadata": {},
   "source": [
    "# 모듈 가져오기"
   ]
  },
  {
   "cell_type": "code",
   "execution_count": 8,
   "metadata": {
    "collapsed": false
   },
   "outputs": [
    {
     "name": "stdout",
     "output_type": "stream",
     "text": [
      "import를 사용하면 모듈을 불러올 수 있습니다. 컴퓨터에서는 다른 프로그램으로부터 데이터를 갖고 오는 것을 뜻합니다. 파이썬에서의 모듈이란 변수, 클래스, 함수 등과 같은 여러 코드를 한곳에 모아놓은 코드의 모음이라고 할 수 있습니다. 이런 모듈이라는 것을 만들어 놓으면 계속 사용할 수 있으므로 코드의 재사용성을 극대화 시킬 수 있으며, 연관성이 있는 것들을 모듈 단위로 분리하여 효율성을 높일 수 있습니다. \n",
      "\n",
      " import에도 두 가지 방법이 있습니다.\n"
     ]
    }
   ],
   "source": [
    "print \"import를 사용하면 모듈을 불러올 수 있습니다. 컴퓨터에서는 다른 프로그램으로부터 데이터를 갖고 오는 것을 뜻합니다. 파이썬에서의 모듈이란 변수, 클래스, 함수 등과 같은 여러 코드를 한곳에 모아놓은 코드의 모음이라고 할 수 있습니다. 이런 모듈이라는 것을 만들어 놓으면 계속 사용할 수 있으므로 코드의 재사용성을 극대화 시킬 수 있으며, 연관성이 있는 것들을 모듈 단위로 분리하여 효율성을 높일 수 있습니다. \\n\\n import에도 두 가지 방법이 있습니다.\""
   ]
  },
  {
   "cell_type": "code",
   "execution_count": null,
   "metadata": {
    "collapsed": true
   },
   "outputs": [],
   "source": [
    "import 모듈\n",
    "\n",
    "from 모듈 import 변수나 함수"
   ]
  },
  {
   "cell_type": "code",
   "execution_count": 7,
   "metadata": {
    "collapsed": false
   },
   "outputs": [
    {
     "name": "stdout",
     "output_type": "stream",
     "text": [
      "첫번째 방법은 모듈 전체를 가져오구요, 두번째 방법은 모듈 내에서 필요한 것만 콕 찍어서 가져오는 방법입니다.\n"
     ]
    }
   ],
   "source": [
    "print \"첫번째 방법은 모듈 전체를 가져오구요, 두번째 방법은 모듈 내에서 필요한 것만 콕 찍어서 가져오는 방법입니다.\" "
   ]
  },
  {
   "cell_type": "markdown",
   "metadata": {},
   "source": [
    "# Random 모듈"
   ]
  },
  {
   "cell_type": "code",
   "execution_count": 15,
   "metadata": {
    "collapsed": false
   },
   "outputs": [
    {
     "name": "stdout",
     "output_type": "stream",
     "text": [
      "주사위를 던지는 상황을 생각해봅시다. 주사위는 각 면에서 1개에서 6개까지의 눈이 새겨져 있어서, 주사위를 던질 때마다 그 중 하나의 숫자가 선택됩니다. \n",
      "\n",
      " 주사위를 직접 던져보기 전에는 다음번에 어떤 숫자가 나올지 알 수가 없죠. 그런데 주사위를 600번 정도 던져보면 각 숫자가 대략 100번 정도는 나오기도 합니다. \n",
      "\n",
      "이런 것이 바로 난수(random number)입니다. 난수의 예로 주사위 외에 복권 추첨, 음악 CD의 재생 순서 섞기 등 있겠네요.\n"
     ]
    }
   ],
   "source": [
    "print \"주사위를 던지는 상황을 생각해봅시다. 주사위는 각 면에서 1개에서 6개까지의 눈이 새겨져 있어서, 주사위를 던질 때마다 그 중 하나의 숫자가 선택됩니다. \\n\\n 주사위를 직접 던져보기 전에는 다음번에 어떤 숫자가 나올지 알 수가 없죠. 그런데 주사위를 600번 정도 던져보면 각 숫자가 대략 100번 정도는 나오기도 합니다. \\n\\n이런 것이 바로 난수(random number)입니다. 난수의 예로 주사위 외에 복권 추첨, 음악 CD의 재생 순서 섞기 등 있겠네요.\""
   ]
  },
  {
   "cell_type": "code",
   "execution_count": 16,
   "metadata": {
    "collapsed": false
   },
   "outputs": [
    {
     "data": {
      "text/plain": [
       "0.25726933004321617"
      ]
     },
     "execution_count": 16,
     "metadata": {},
     "output_type": "execute_result"
    }
   ],
   "source": [
    "import random\n",
    "random.random()"
   ]
  },
  {
   "cell_type": "code",
   "execution_count": 18,
   "metadata": {
    "collapsed": false
   },
   "outputs": [
    {
     "name": "stdout",
     "output_type": "stream",
     "text": [
      "random 모듈의 random() 함수를 호출했더니 복잡한 숫자를 돌려주네요. random() 함수는 0 이상 1 미만의 숫자 중에서 아무 숫자나 하나 뽑아서 돌려주는 일을 한답니다. 주사위처럼 1에서 6까지의 정수 중 하나를 무작위로 얻으려면 어떻게 해야 할까요? 이럴 때 편리하게 쓸 수 있는 randrange()라는 함수가 있습니다.\n"
     ]
    }
   ],
   "source": [
    "print \"random 모듈의 random() 함수를 호출했더니 복잡한 숫자를 돌려주네요. random() 함수는 0 이상 1 미만의 숫자 중에서 아무 숫자나 하나 뽑아서 돌려주는 일을 한답니다. 주사위처럼 1에서 6까지의 정수 중 하나를 무작위로 얻으려면 어떻게 해야 할까요? 이럴 때 편리하게 쓸 수 있는 randrange()라는 함수가 있습니다.\""
   ]
  },
  {
   "cell_type": "code",
   "execution_count": 20,
   "metadata": {
    "collapsed": false
   },
   "outputs": [
    {
     "data": {
      "text/plain": [
       "5"
      ]
     },
     "execution_count": 20,
     "metadata": {},
     "output_type": "execute_result"
    }
   ],
   "source": [
    "random.randrange(1,7) # 1이상 7미만의 난수 라고 생각하면 이해가 쉽습니다."
   ]
  },
  {
   "cell_type": "code",
   "execution_count": 21,
   "metadata": {
    "collapsed": false
   },
   "outputs": [
    {
     "data": {
      "text/plain": [
       "[1, 2, 3, 4, 5, 6]"
      ]
     },
     "execution_count": 21,
     "metadata": {},
     "output_type": "execute_result"
    }
   ],
   "source": [
    "range(1, 7)"
   ]
  },
  {
   "cell_type": "code",
   "execution_count": 22,
   "metadata": {
    "collapsed": false
   },
   "outputs": [
    {
     "name": "stdout",
     "output_type": "stream",
     "text": [
      "shuffle()이라는 재미있는 함수도 있군요. 순서형 자료(sequence)를 뒤죽박죽으로 섞어놓는 함수입니다. 네, 아이팟 셔플의 바로 그 셔플이예요.\n"
     ]
    }
   ],
   "source": [
    "print \"shuffle()이라는 재미있는 함수도 있군요. 순서형 자료(sequence)를 뒤죽박죽으로 섞어놓는 함수입니다. 네, 아이팟 셔플의 바로 그 셔플이예요.\""
   ]
  },
  {
   "cell_type": "code",
   "execution_count": 23,
   "metadata": {
    "collapsed": false
   },
   "outputs": [
    {
     "data": {
      "text/plain": [
       "['b', 'e', 'd', 'a', 'c']"
      ]
     },
     "execution_count": 23,
     "metadata": {},
     "output_type": "execute_result"
    }
   ],
   "source": [
    "abc = ['a', 'b', 'c', 'd', 'e']\n",
    "random.shuffle(abc)\n",
    "abc"
   ]
  },
  {
   "cell_type": "code",
   "execution_count": 24,
   "metadata": {
    "collapsed": false
   },
   "outputs": [
    {
     "data": {
      "text/plain": [
       "'a'"
      ]
     },
     "execution_count": 24,
     "metadata": {},
     "output_type": "execute_result"
    }
   ],
   "source": [
    "random.choice(abc)"
   ]
  },
  {
   "cell_type": "code",
   "execution_count": null,
   "metadata": {
    "collapsed": true
   },
   "outputs": [],
   "source": []
  }
 ],
 "metadata": {
  "kernelspec": {
   "display_name": "Python 2",
   "language": "python",
   "name": "python2"
  },
  "language_info": {
   "codemirror_mode": {
    "name": "ipython",
    "version": 2
   },
   "file_extension": ".py",
   "mimetype": "text/x-python",
   "name": "python",
   "nbconvert_exporter": "python",
   "pygments_lexer": "ipython2",
   "version": "2.7.12"
  }
 },
 "nbformat": 4,
 "nbformat_minor": 1
}
