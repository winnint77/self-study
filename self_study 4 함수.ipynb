{
 "cells": [
  {
   "cell_type": "markdown",
   "metadata": {},
   "source": [
    "# Function\n",
    "\n",
    "## 학습목표\n",
    " 1. 함수의 이해\n",
    " 2. 함수 구현 및 사용 숙지\n",
    " 3. 재귀함수 구현 및 사용 숙지\n",
    " 4. Lambda 함수 이해 및 사용\n",
    " 5. 모듈 임포트"
   ]
  },
  {
   "cell_type": "code",
   "execution_count": 71,
   "metadata": {
    "collapsed": false,
    "scrolled": true
   },
   "outputs": [
    {
     "name": "stdout",
     "output_type": "stream",
     "text": [
      "함수는 특정 작업을 수행하도록 미리 작성된 코드다. MS엑셀에서 이용할 수 있는 수학 함수와 비슷한 점이 있다. 엑셀에서 숫자를 더할 때 A1 + A2 + A3 + A4라고 입력하지 않고 sum() 함수를 이용해서 sum(A1:A4)라고 입력하는 것을 떠올리면 된다. 특정 클래스에 속하는 함수인지 여부 등(클래스란 객체 지향 프로그래밍에서 중요한 개념으로 이 책에서는 다루지 않는다.) \n",
      "\n",
      "함수가 작성된 방식과 사용자가 임포트 하는 방식에 따라 함수를 호출할 때 단순히 이름만 입력할 수도 있고 마침표를 사용해야 할 수도 있다. 함수에 따라서는 사용자가 데이터를 전달해야만 해당 작업을 수행할 수 있는 경우도 있다. 이런 데이터를 매개변수(parameter)라고 하는데 프로그래머는 괄호()안에 각 매개변수를 쉼표로 구분해가며 입력하면 된다.\n"
     ]
    }
   ],
   "source": [
    "print \"함수는 특정 작업을 수행하도록 미리 작성된 코드다. MS엑셀에서 이용할 수 있는 수학 함수와 비슷한 점이 있다. 엑셀에서 숫자를 더할 때 A1 + A2 + A3 + A4라고 입력하지 않고 sum() 함수를 이용해서 sum(A1:A4)라고 입력하는 것을 떠올리면 된다. 특정 클래스에 속하는 함수인지 여부 등(클래스란 객체 지향 프로그래밍에서 중요한 개념으로 이 책에서는 다루지 않는다.) \\n\\n함수가 작성된 방식과 사용자가 임포트 하는 방식에 따라 함수를 호출할 때 단순히 이름만 입력할 수도 있고 마침표를 사용해야 할 수도 있다. 함수에 따라서는 사용자가 데이터를 전달해야만 해당 작업을 수행할 수 있는 경우도 있다. 이런 데이터를 매개변수(parameter)라고 하는데 프로그래머는 괄호()안에 각 매개변수를 쉼표로 구분해가며 입력하면 된다.\""
   ]
  },
  {
   "cell_type": "code",
   "execution_count": 38,
   "metadata": {
    "collapsed": false
   },
   "outputs": [
    {
     "name": "stdout",
     "output_type": "stream",
     "text": [
      " 함수를 왜 사용하고 어떤 것일까요? \n",
      "\n",
      "단순하게 생각해보면 재 사용성 이ㅏ고 말할 수 있을 것 같습니다. 똑같은 역할을 하는 코드가 여러번 사용되면 이를 한번 만들어 두고 argument or parameter(함수를 만들 때 전달해주는 값들)값들만 바꾸어 주면 반복적으로 여러 번 사용할 수 있을 것입니다. 이로 인해 가용 자원 절약, 코드 가독성 향상 등등 많은 이점을 꾀할 수 있게 됩니다. \n"
     ]
    }
   ],
   "source": [
    "print \" 함수를 왜 사용하고 어떤 것일까요? \\n\\n단순하게 생각해보면 재 사용성 이ㅏ고 말할 수 있을 것 같습니다. 똑같은 역할을 하는 코드가 여러번 사용되면 이를 한번 만들어 두고 argument or parameter(함수를 만들 때 전달해주는 값들)값들만 바꾸어 주면 반복적으로 여러 번 사용할 수 있을 것입니다. 이로 인해 가용 자원 절약, 코드 가독성 향상 등등 많은 이점을 꾀할 수 있게 됩니다. \""
   ]
  },
  {
   "cell_type": "code",
   "execution_count": 75,
   "metadata": {
    "collapsed": false,
    "scrolled": true
   },
   "outputs": [
    {
     "name": "stdout",
     "output_type": "stream",
     "text": [
      "예를 들어 print()함수를 사용해서 화면에 텍스트를 출력할 때는 print (hello world)를 입력함으로써 print () 함수를 호출한다. 여기서 print는 함수명이고 'Hello World'는 매개변수다.\n"
     ]
    }
   ],
   "source": [
    "print \"예를 들어 print()함수를 사용해서 화면에 텍스트를 출력할 때는 print (hello world)를 입력함으로써 print () 함수를 호출한다. 여기서 print는 함수명이고 'Hello World'는 매개변수다.\""
   ]
  },
  {
   "cell_type": "code",
   "execution_count": 76,
   "metadata": {
    "collapsed": false,
    "scrolled": true
   },
   "outputs": [
    {
     "name": "stdout",
     "output_type": "stream",
     "text": [
      "한편 replace() 함수를 사용해서 화면에 텍스트 문자열을 변경할 때는 'Hello World'.replace('World', 'Universe')라고 입력해야 한다. 여기서 replace는 함수명이고 'World'와 'Universe'는 매개변수다. 마침표 이전에 나오는 문자열 (즉 'Hello World')은 변경 대상이 되는 문자열이다. 결과적으로 'Hello World'는 'Hello Universe'가 된다.\n"
     ]
    }
   ],
   "source": [
    "print \"한편 replace() 함수를 사용해서 화면에 텍스트 문자열을 변경할 때는 'Hello World'.replace('World', 'Universe')라고 입력해야 한다. 여기서 replace는 함수명이고 'World'와 'Universe'는 매개변수다. 마침표 이전에 나오는 문자열 (즉 'Hello World')은 변경 대상이 되는 문자열이다. 결과적으로 'Hello World'는 'Hello Universe'가 된다.\"                    "
   ]
  },
  {
   "cell_type": "markdown",
   "metadata": {},
   "source": [
    "# 자신만의 함수 정의하기"
   ]
  },
  {
   "cell_type": "code",
   "execution_count": 77,
   "metadata": {
    "collapsed": false,
    "scrolled": true
   },
   "outputs": [
    {
     "name": "stdout",
     "output_type": "stream",
     "text": [
      "파이썬에서는 자신만의 함수를 정의한 다음 프로그램 내에서 자유롭게 재사용할 수 있다. 함수를 정의하는 문법은 다음과 같다.\n"
     ]
    }
   ],
   "source": [
    "print \"파이썬에서는 자신만의 함수를 정의한 다음 프로그램 내에서 자유롭게 재사용할 수 있다. 함수를 정의하는 문법은 다음과 같다.\"\n",
    "\n",
    "def(definition : 정의) 함수명(매개변수, 전달할 인자):\n",
    "    함수가 수행할 작업을 구현하는 코드 \n",
    "    return [표현식]"
   ]
  },
  {
   "cell_type": "code",
   "execution_count": 79,
   "metadata": {
    "collapsed": false,
    "scrolled": false
   },
   "outputs": [
    {
     "name": "stdout",
     "output_type": "stream",
     "text": [
      "두 개의 키워드 def와 return을 확인할 수 있다.\n",
      "\n",
      " def는 다음 줄부터 들여쓴 코드는 전부 함수의 일부라는 사실을 프로그램에게 알려준다. return은 함수에서 구한 정답을 함수 호출자에게 돌려줄 때(리턴할 때) 사용한다. \n",
      "\n",
      "하나의 함수에서 여러 개의 return 문을 사용해도 된다. 하지만 일단 return 문을 실행하면 함수는 종료된다. 값을 리턴할 필요가 없는 경우에는 return 문을 아예 생략해도 되고, return이나 return None이라고 명시해도 된다.  \n"
     ]
    }
   ],
   "source": [
    "print \"두 개의 키워드 def와 return을 확인할 수 있다.\\n\\n def는 다음 줄부터 들여쓴 코드는 전부 함수의 일부라는 사실을 프로그램에게 알려준다. return은 함수에서 구한 정답을 함수 호출자에게 돌려줄 때(리턴할 때) 사용한다. \\n\\n하나의 함수에서 여러 개의 return 문을 사용해도 된다. 하지만 일단 return 문을 실행하면 함수는 종료된다. 값을 리턴할 필요가 없는 경우에는 return 문을 아예 생략해도 되고, return이나 return None이라고 명시해도 된다.  \" "
   ]
  },
  {
   "cell_type": "code",
   "execution_count": 39,
   "metadata": {
    "collapsed": false
   },
   "outputs": [
    {
     "name": "stdout",
     "output_type": "stream",
     "text": [
      "17348700.0\n"
     ]
    }
   ],
   "source": [
    "# 환율 계산을 해보겠습니다.\n",
    "\n",
    "def currency(amount):\n",
    "    result = amount * 1156.58\n",
    "    print(result)\n",
    "    \n",
    "currency(15000)"
   ]
  },
  {
   "cell_type": "code",
   "execution_count": 84,
   "metadata": {
    "collapsed": false
   },
   "outputs": [
    {
     "name": "stdout",
     "output_type": "stream",
     "text": [
      "True\n"
     ]
    }
   ],
   "source": [
    "# 어떤 숫자가 소수인지 확인하는 작업\n",
    "\n",
    "def checkIfPrime(numberToCheck) :\n",
    "    for x in range(2, numberToCheck) :\n",
    "        if (numberToCheck % x == 0) :\n",
    "            return False\n",
    "    return True  ### 2부터 \n",
    "\n",
    "answer = checkIfPrime(13)\n",
    "print answer"
   ]
  },
  {
   "cell_type": "code",
   "execution_count": 87,
   "metadata": {
    "collapsed": false
   },
   "outputs": [
    {
     "name": "stdout",
     "output_type": "stream",
     "text": [
      "위 함수의 두 번째와 세 번째 줄에서는 for 루프를 사용해서 2부터 numberToCheck - 1까지의 모든 숫자로 매개변수 number ToCheck를 나누고 나머지가 0인지 검사한다. 나머지가 0이면 numberToCheck는 소수가 아니다. 이 경우 네 번째 줄에서 False를 리턴하며 함수는 종료된다. \n",
      "\n",
      " for 루프의 마지막 반복까지 나머지가 0인 나눗셈 결과를 얻지 못하면 함수는 다섯 번째 줄에 도달해서 True를 리턴한다. 그리고 함수는 종료된다. \n"
     ]
    }
   ],
   "source": [
    "print \"위 함수의 두 번째와 세 번째 줄에서는 for 루프를 사용해서 2부터 numberToCheck - 1까지의 모든 숫자로 매개변수 number ToCheck를 나누고 나머지가 0인지 검사한다. 나머지가 0이면 numberToCheck는 소수가 아니다. 이 경우 네 번째 줄에서 False를 리턴하며 함수는 종료된다. \\n\\n for 루프의 마지막 반복까지 나머지가 0인 나눗셈 결과를 얻지 못하면 함수는 다섯 번째 줄에 도달해서 True를 리턴한다. 그리고 함수는 종료된다. \""
   ]
  },
  {
   "cell_type": "code",
   "execution_count": null,
   "metadata": {
    "collapsed": true
   },
   "outputs": [],
   "source": [
    "def 함수명(인자1, 인자2, .....): \n",
    "    문장\n",
    "    "
   ]
  },
  {
   "cell_type": "code",
   "execution_count": 2,
   "metadata": {
    "collapsed": false,
    "scrolled": true
   },
   "outputs": [
    {
     "name": "stdout",
     "output_type": "stream",
     "text": [
      "위에서는 인자가 보조변수 같은 개념이며, 우선은 함수에 필요한 값을 저장해두는 임시 변수라고 기억하면 됩니다. (인자가 아에 존재하지 않을 수도 있고, 여러개가 존재할 수도 있습니다.)\n"
     ]
    }
   ],
   "source": [
    "print \"위에서는 인자가 보조변수 같은 개념이며, 우선은 함수에 필요한 값을 저장해두는 임시 변수라고 기억하면 됩니다. (인자가 아에 존재하지 않을 수도 있고, 여러개가 존재할 수도 있습니다.)\""
   ]
  },
  {
   "cell_type": "code",
   "execution_count": 53,
   "metadata": {
    "collapsed": false
   },
   "outputs": [
    {
     "data": {
      "text/plain": [
       "1"
      ]
     },
     "execution_count": 53,
     "metadata": {},
     "output_type": "execute_result"
    }
   ],
   "source": [
    "def absolute(n): # 함수명은 absolute이며 인자는 인자 n으로 1개를 가집니다.\n",
    "    if n < 0 :\n",
    "        n = -n # n이 음수일 경우 양수로 만들어버리고 n을 반환합니다.\n",
    "    return n # return문을 만나면 함수가 끝나고, 함수를 호출한 곳으로 전달합니다.\n",
    "\n",
    "absolute(3)\n",
    "absolute(0)\n",
    "absolute(-1)\n"
   ]
  },
  {
   "cell_type": "code",
   "execution_count": 54,
   "metadata": {
    "collapsed": false
   },
   "outputs": [
    {
     "data": {
      "text/plain": [
       "6"
      ]
     },
     "execution_count": 54,
     "metadata": {},
     "output_type": "execute_result"
    }
   ],
   "source": [
    "def total(a, b):\n",
    "    return a + b\n",
    "\n",
    "total(1, 5)\n"
   ]
  },
  {
   "cell_type": "code",
   "execution_count": 55,
   "metadata": {
    "collapsed": false
   },
   "outputs": [
    {
     "data": {
      "text/plain": [
       "(20, 0)"
      ]
     },
     "execution_count": 55,
     "metadata": {},
     "output_type": "execute_result"
    }
   ],
   "source": [
    "def mul_div(a, b):\n",
    "    return a * b, a / b\n",
    "mul_div(4, 5)\n",
    "\n",
    "# return문은 두 개 이상의 값을 반환할 수 있습니다. \n",
    "# 사실을 말하자면, 반환값은 하나지만 튜플 형식으로 값을 돌려주는 것입니다."
   ]
  },
  {
   "cell_type": "code",
   "execution_count": 58,
   "metadata": {
    "collapsed": false
   },
   "outputs": [
    {
     "name": "stdout",
     "output_type": "stream",
     "text": [
      "20 0\n"
     ]
    }
   ],
   "source": [
    "def mul_div(a, b):\n",
    "    return a * b, a / b\n",
    "\n",
    "mul, div = mul_div(4, 5)\n",
    "\n",
    "print mul, div\n",
    "\n",
    "# 위의 예제에서는 a와 b를 곱한 값과 나눈 값을 튜플 형태의 값으로 반환하는 것을 \n",
    "# 볼 수 있었는데요, 반환되는 튜플값을 따로따로 저장하려면 아래와 같이 호출하면 됩니다. "
   ]
  },
  {
   "cell_type": "markdown",
   "metadata": {},
   "source": [
    "# Return Value"
   ]
  },
  {
   "cell_type": "code",
   "execution_count": 40,
   "metadata": {
    "collapsed": false,
    "scrolled": true
   },
   "outputs": [
    {
     "name": "stdout",
     "output_type": "stream",
     "text": [
      " 함수에서 다룬 값을 반환(Return)해서 다른 변수에 저장하게 하고 나중에 함수에서 반환받은 값을 담고 있는 변수를 활용할 수 있게 하는데 있습니다. \n"
     ]
    }
   ],
   "source": [
    "print \" 함수에서 다룬 값을 반환(Return)해서 다른 변수에 저장하게 하고 나중에 함수에서 반환받은 값을 담고 있는 변수를 활용할 수 있게 하는데 있습니다. \""
   ]
  },
  {
   "cell_type": "code",
   "execution_count": 42,
   "metadata": {
    "collapsed": false
   },
   "outputs": [
    {
     "name": "stdout",
     "output_type": "stream",
     "text": [
      "('Joe can date girls', 19, 'or older')\n",
      "('Chris can date girls', 30, 'or older')\n"
     ]
    }
   ],
   "source": [
    "# 데이트 할 수 있는 연령을 단순 계산하는 함수\n",
    "\n",
    "def allowed_dating_Age(my_age):\n",
    "    girls_age = my_age/2 + 7\n",
    "    return girls_age\n",
    "    \n",
    "    #전달받은 my_age로 계산을 하여 girls_age라는 변수에 넣어줍니다.\n",
    "    #그리고 그 결과를 반환(return)을 하게 하는 함수를 만들었습니다.\n",
    "    #그러면 이 함수를 호출하면 그 결과값으로 girls_age에 있는 값을 반환해 줍니다.\n",
    "    \n",
    "    #함수를 만들었으니 호출해서 사용을 해야겠죠?\n",
    "    \n",
    "    #my_age를 25로 정하고 allowed_dating_age 함수를 호출하였습니다.\n",
    "    #그러면 이 25가 전달되어 함수를 처리하고 그 결과값을 다시 돌려 줍니다. \n",
    "    \n",
    "joe_limit = allowed_dating_Age(25)\n",
    "chris_limit = allowed_dating_Age(47)\n",
    "    #이렇게 돌려받은 값을 joe_limit라는 변수에 넣어주게 하였습니다.\n",
    "    \n",
    "print(\"Joe can date girls\", joe_limit, \"or older\")\n",
    "print(\"Chris can date girls\", chris_limit, \"or older\")\n",
    "\n",
    "#이제 joe_limit, chris_limit 변수에 어떤 값이 들어가 있는지 확인을 해 볼까요?\n",
    "\n",
    "#함수가 처리한 값을 다시 돌려준다 or 반환해 준다. 는 의미로 'return'이라는 명령어를 사용합니다.\n",
    "\n",
    "    \n",
    "    "
   ]
  },
  {
   "cell_type": "code",
   "execution_count": 5,
   "metadata": {
    "collapsed": false
   },
   "outputs": [
    {
     "data": {
      "text/plain": [
       "6"
      ]
     },
     "execution_count": 5,
     "metadata": {},
     "output_type": "execute_result"
    }
   ],
   "source": [
    "def total(a, b):\n",
    "    return a + b\n",
    "total(1, 5)"
   ]
  },
  {
   "cell_type": "code",
   "execution_count": 6,
   "metadata": {
    "collapsed": false
   },
   "outputs": [
    {
     "name": "stdout",
     "output_type": "stream",
     "text": [
      "return문은 값을 반환하며 함수를 종료하는 기능을 합니다. 우리는 함수를 통해 한 개의 값을 반환해 왔지만 두 개 이상의 값을 반환할 수 있습니다. 사실을 말하자면, 반환값은 하나지만 튜플 형식으로 값을 돌려주는 것입니다.\n"
     ]
    }
   ],
   "source": [
    "print \"return문은 값을 반환하며 함수를 종료하는 기능을 합니다. 우리는 함수를 통해 한 개의 값을 반환해 왔지만 두 개 이상의 값을 반환할 수 있습니다. 사실을 말하자면, 반환값은 하나지만 튜플 형식으로 값을 돌려주는 것입니다.\""
   ]
  },
  {
   "cell_type": "code",
   "execution_count": 7,
   "metadata": {
    "collapsed": false
   },
   "outputs": [
    {
     "data": {
      "text/plain": [
       "(20, 0)"
      ]
     },
     "execution_count": 7,
     "metadata": {},
     "output_type": "execute_result"
    }
   ],
   "source": [
    "def mul_div(a, b):\n",
    "    return a * b, a / b\n",
    "mul_div(4, 5)"
   ]
  },
  {
   "cell_type": "code",
   "execution_count": 8,
   "metadata": {
    "collapsed": false
   },
   "outputs": [
    {
     "name": "stdout",
     "output_type": "stream",
     "text": [
      "20 0\n"
     ]
    }
   ],
   "source": [
    "def mul_div(a, b):\n",
    "    return a * b, a / b\n",
    "mul, div = mul_div(4, 5)\n",
    "print mul, div"
   ]
  },
  {
   "cell_type": "code",
   "execution_count": 9,
   "metadata": {
    "collapsed": false,
    "scrolled": true
   },
   "outputs": [
    {
     "name": "stdout",
     "output_type": "stream",
     "text": [
      "위 예제에서는, a와 b를 곱한 값과 나눈 값을 튜플 형태의 값으로 반환하는 것을 보실 수 있습니다. 반환되는 튜플 값을 따로 저장하려면 위와 같이 호출하면 됩니다.\n"
     ]
    }
   ],
   "source": [
    "print \"위 예제에서는, a와 b를 곱한 값과 나눈 값을 튜플 형태의 값으로 반환하는 것을 보실 수 있습니다. 반환되는 튜플 값을 따로 저장하려면 위와 같이 호출하면 됩니다.\""
   ]
  },
  {
   "cell_type": "code",
   "execution_count": 11,
   "metadata": {
    "collapsed": false
   },
   "outputs": [
    {
     "name": "stdout",
     "output_type": "stream",
     "text": [
      "55\n",
      "11\n"
     ]
    }
   ],
   "source": [
    "nums = range(11)\n",
    "print sum(nums)\n",
    "print len(nums)"
   ]
  },
  {
   "cell_type": "markdown",
   "metadata": {},
   "source": [
    "* 함수의 정의\n",
    "  + def 키워드 사용\n",
    "  + argument 정의 \n",
    "  + : (콜론) \n",
    "  + body (코드 부분)\n",
    "  + 함수의 네이밍 역시 중요!!"
   ]
  },
  {
   "cell_type": "code",
   "execution_count": 13,
   "metadata": {
    "collapsed": false
   },
   "outputs": [
    {
     "name": "stdout",
     "output_type": "stream",
     "text": [
      "<function add at 0x0515CDB0> <type 'function'>\n",
      "20\n"
     ]
    }
   ],
   "source": [
    "def add(num1, num2):\n",
    "    c = num1 + num2\n",
    "    return c\n",
    "def mult(n1, n2):\n",
    "    return n1 * n2\n",
    "\n",
    "print add, type(add)\n",
    "print mult(4, 5)"
   ]
  },
  {
   "cell_type": "markdown",
   "metadata": {},
   "source": [
    "* 함수의 사용(호출)\n",
    " + add(1, 5)\n",
    " + 위와 같이 정의 된 함수의 이름과 전달되는 parameter(인자)를 전달"
   ]
  },
  {
   "cell_type": "code",
   "execution_count": 15,
   "metadata": {
    "collapsed": false
   },
   "outputs": [
    {
     "name": "stdout",
     "output_type": "stream",
     "text": [
      "2\n"
     ]
    }
   ],
   "source": [
    "def subtract(a, b):\n",
    "    return a - b\n",
    "\n",
    "print subtract(5, 3)"
   ]
  },
  {
   "cell_type": "markdown",
   "metadata": {},
   "source": [
    "* parameter (인자)\n",
    " + int, string, float, list 등등 어떤 파이썬 객체도 전달 될 수 있다.\n"
   ]
  },
  {
   "cell_type": "code",
   "execution_count": 17,
   "metadata": {
    "collapsed": false
   },
   "outputs": [
    {
     "name": "stdout",
     "output_type": "stream",
     "text": [
      "4\n",
      "10\n"
     ]
    }
   ],
   "source": [
    "def len2(string):\n",
    "    return len(string)\n",
    "\n",
    "def sum2(nums):\n",
    "    return sum(nums)\n",
    "\n",
    "print len2('test')\n",
    "\n",
    "print sum2([1, 2, 3, 4])"
   ]
  },
  {
   "cell_type": "markdown",
   "metadata": {},
   "source": [
    "* optional parameter\n",
    " + 기본값을 지정할 수 있다.\n",
    " + 인자 값을 전달하지 않을 경우, 위에서 정한 기본값이 전달 됨."
   ]
  },
  {
   "cell_type": "code",
   "execution_count": 18,
   "metadata": {
    "collapsed": false
   },
   "outputs": [
    {
     "name": "stdout",
     "output_type": "stream",
     "text": [
      "hi world\n",
      "hello world\n"
     ]
    }
   ],
   "source": [
    "def print_hello(obj = 'hello world'):\n",
    "    print obj\n",
    "    \n",
    "print_hello('hi world')\n",
    "print_hello()"
   ]
  },
  {
   "cell_type": "markdown",
   "metadata": {},
   "source": [
    "* return \n",
    " + 함수의 종료를 명시함\n",
    " + 값이 함께 오는 경우는 값을, 호출한 곳으로 반환하면서 종료\n",
    " + 리턴을 명시하지 않은 경우, 함수의 마지막라인이 실행된 후 리턴됨"
   ]
  },
  {
   "cell_type": "code",
   "execution_count": 21,
   "metadata": {
    "collapsed": false
   },
   "outputs": [
    {
     "name": "stdout",
     "output_type": "stream",
     "text": [
      "1\n"
     ]
    }
   ],
   "source": [
    "def simple():\n",
    "    return 1\n",
    "\n",
    "a = simple()\n",
    "print a"
   ]
  },
  {
   "cell_type": "code",
   "execution_count": 22,
   "metadata": {
    "collapsed": false
   },
   "outputs": [
    {
     "name": "stdout",
     "output_type": "stream",
     "text": [
      "dds\n"
     ]
    }
   ],
   "source": [
    "def non_return(a):\n",
    "    print a\n",
    "\n",
    "non_return('dds')"
   ]
  },
  {
   "cell_type": "code",
   "execution_count": 23,
   "metadata": {
    "collapsed": false
   },
   "outputs": [
    {
     "name": "stdout",
     "output_type": "stream",
     "text": [
      "None\n"
     ]
    }
   ],
   "source": [
    "def just_return():\n",
    "    a = 1\n",
    "    b = 1\n",
    "    return\n",
    "\n",
    "c = just_return()\n",
    "print c"
   ]
  },
  {
   "cell_type": "markdown",
   "metadata": {},
   "source": [
    "* multiple return\n",
    " + tuple반환을 하여 여러값을 리턴 할 수 있다."
   ]
  },
  {
   "cell_type": "code",
   "execution_count": 24,
   "metadata": {
    "collapsed": false
   },
   "outputs": [
    {
     "name": "stdout",
     "output_type": "stream",
     "text": [
      "<type 'tuple'> (9, -1)\n",
      "9 -1\n"
     ]
    }
   ],
   "source": [
    "def add_sub(a, b):\n",
    "    return a + b , a - b\n",
    "\n",
    "c = add_sub(4, 5)\n",
    "e, f = add_sub(4, 5)\n",
    "\n",
    "print type(c), c\n",
    "print e, f"
   ]
  },
  {
   "cell_type": "markdown",
   "metadata": {},
   "source": [
    "* variable scope\n",
    " + 변수가 참조 가능한 코드상의 범위를 이야기 함\n",
    " + 지역변수(local variable)은 블락이 끝남과 동시에 소멸됨"
   ]
  },
  {
   "cell_type": "code",
   "execution_count": 27,
   "metadata": {
    "collapsed": false
   },
   "outputs": [
    {
     "name": "stdout",
     "output_type": "stream",
     "text": [
      "Peal\n",
      "Python\n"
     ]
    }
   ],
   "source": [
    "def f():\n",
    "    s = \"Peal\" # 로컬 변수 생성\n",
    "    a = 'dfdf'\n",
    "    b = 1\n",
    "    print s\n",
    "    \n",
    "s = \"Python\"\n",
    "f()\n",
    "print s"
   ]
  },
  {
   "cell_type": "code",
   "execution_count": 33,
   "metadata": {
    "collapsed": false
   },
   "outputs": [
    {
     "name": "stdout",
     "output_type": "stream",
     "text": [
      "cat\n",
      "cat\n",
      "dog\n",
      "dog\n"
     ]
    }
   ],
   "source": [
    "def f():\n",
    "    global s # 명시적으로 global variable 임을 명시 해야 함\n",
    "    print s\n",
    "    s = \"dog\"\n",
    "    print s\n",
    "\n",
    "s = \"cat\"\n",
    "print s\n",
    "f()\n",
    "print s\n",
    "\n",
    "###????? 모르겠음"
   ]
  },
  {
   "cell_type": "markdown",
   "metadata": {},
   "source": [
    "* 연습문제 \n",
    " 1. 섭씨 온도를 입력받아, 화씨 온도로 변환하는 함수를 만들고, 섭씨 36.5의 화씨 값을 출력하세요. 화씨 = 섭씨x1.8 + 32\n",
    " 2. 숫자로 이루어진 리스트를 입력 받아, 그 수 중 홀수인 경우만 합하여 반환하는 함수를 만드세요.\n",
    " 3. 숫자로 이루어진 리스트를 입력 받아, 그 수 중 가장 큰 수를 반환하는 함수를 만드세요.\n",
    " 4. 문자열을 입력받아 거꾸로된 문자열을 반환하는 함수를 만드세요. \n",
    " 5. 숫자를 입력 받아 factorial을 반환하는 함수를 만드세요. 5! = factorial(5) = 5x4x3x2x1\n",
    " 6. 숫자로 이루어진 리스트를 입력 받아, 중복을 제거한 리스트만 반환하는 함수를 만드세요. 반환되는 리스트의 순서는 관계 없음 [1,1, 2, 3, 3, 2, 4] -> [1, 2, 3, 4]\n",
    " 7. 숫자로 이루어진 리스트를 입력 받아, 특정 숫자를 검색하는 함수를 만드세요.\n",
    " 8. 정렬된 숫자로 이루어진 리스트를 입력 받아, 이진탐색으로 특정 숫자를 검색하는 함수를 만드세요. (설명 예정)"
   ]
  },
  {
   "cell_type": "code",
   "execution_count": 35,
   "metadata": {
    "collapsed": false
   },
   "outputs": [
    {
     "name": "stdout",
     "output_type": "stream",
     "text": [
      "1.\n",
      "97.7\n"
     ]
    }
   ],
   "source": [
    "print \"1.\"\n",
    "\n",
    "def c_to_f(c):\n",
    "    f = 1.8 * c + 32\n",
    "    return f\n",
    "\n",
    "print c_to_f(36.5)"
   ]
  },
  {
   "cell_type": "code",
   "execution_count": 36,
   "metadata": {
    "collapsed": false
   },
   "outputs": [
    {
     "name": "stdout",
     "output_type": "stream",
     "text": [
      "280\n",
      "280\n"
     ]
    }
   ],
   "source": [
    "def odd_sum(nums):\n",
    "    odd_sum = 0\n",
    "    for i in nums : \n",
    "        if i % 2 == 1:\n",
    "            odd_sum += i\n",
    "    return odd_sum\n",
    "\n",
    "def odd_sum2(nums):\n",
    "    return sum([i for i in nums if i % 2 == 1])\n",
    "\n",
    "a = [1, 2, 3, 7, 8, 10, 11, 13, 15, 29, 100, 201, 300]\n",
    "\n",
    "print odd_sum(a)\n",
    "print odd_sum2(a)"
   ]
  },
  {
   "cell_type": "code",
   "execution_count": 38,
   "metadata": {
    "collapsed": false
   },
   "outputs": [
    {
     "name": "stdout",
     "output_type": "stream",
     "text": [
      "숫자로 이루어진 리스트를 입력 받아, 그 수 중 가장 큰 수를 반환하는 함수를 만드세요.\n",
      "300\n"
     ]
    }
   ],
   "source": [
    "print \"숫자로 이루어진 리스트를 입력 받아, 그 수 중 가장 큰 수를 반환하는 함수를 만드세요.\"\n",
    "\n",
    "def max_val(nums):\n",
    "    mval = nums[0]\n",
    "    for i in nums: ## 여기부터 return까지가 이해가 안됨\n",
    "        if mval < i:\n",
    "            mval = i\n",
    "            \n",
    "    return mval\n",
    "\n",
    "print max_val(a)\n",
    "\n",
    "## ?? 어렵다"
   ]
  },
  {
   "cell_type": "code",
   "execution_count": 39,
   "metadata": {
    "collapsed": false
   },
   "outputs": [
    {
     "data": {
      "text/plain": [
       "720"
      ]
     },
     "execution_count": 39,
     "metadata": {},
     "output_type": "execute_result"
    }
   ],
   "source": [
    "def factorial(n):\n",
    "    mul = 1 \n",
    "    for i in range(1, n + 1):\n",
    "        mul *= i\n",
    "    return mul\n",
    "\n",
    "factorial(6)\n",
    "\n",
    "## 이해가 안됨"
   ]
  },
  {
   "cell_type": "code",
   "execution_count": 40,
   "metadata": {
    "collapsed": true
   },
   "outputs": [],
   "source": [
    "def remove_dup(nums):\n",
    "    return list(set(nums))\n",
    "\n",
    "def remove_dup2(nums):\n",
    "    ret = []\n",
    "    for i in nums:\n",
    "        if not i in ret:\n",
    "            ret.append(i)\n",
    "    return ret"
   ]
  },
  {
   "cell_type": "code",
   "execution_count": 41,
   "metadata": {
    "collapsed": true
   },
   "outputs": [],
   "source": [
    "def reverse_str(string):\n",
    "    new_str = ''\n",
    "    i = len(string) - 1\n",
    "    \n",
    "    while i >=  0:\n",
    "        new_str += string[i]\n",
    "        i -= 1\n",
    "    return new_str"
   ]
  },
  {
   "cell_type": "code",
   "execution_count": 43,
   "metadata": {
    "collapsed": false
   },
   "outputs": [],
   "source": [
    "def linear_search(nums, x):\n",
    "    for i, val in enumerate(nums):\n",
    "        if val == x:\n",
    "            return i\n",
    "    \n",
    "    return -1"
   ]
  },
  {
   "cell_type": "code",
   "execution_count": 44,
   "metadata": {
    "collapsed": false
   },
   "outputs": [
    {
     "name": "stdout",
     "output_type": "stream",
     "text": [
      "5\n",
      "0\n",
      "10\n",
      "-1\n"
     ]
    }
   ],
   "source": [
    "def binary_search(nums, x):\n",
    "    s = 0\n",
    "    e = len(nums) - 1\n",
    "    \n",
    "    while s <= e:\n",
    "        mid = (s + e) / 2\n",
    "        if nums[mid] == x :\n",
    "            return mid\n",
    "        elif nums[mid] > x:\n",
    "            e = mid - 1\n",
    "        else:\n",
    "            s = mid + 1\n",
    "            \n",
    "    return -1\n",
    "\n",
    "nums = [1, 2, 4, 5, 7, 8, 10, 22, 34, 56, 89, 100]\n",
    "\n",
    "print binary_search(nums, 8)\n",
    "print binary_search(nums, 1)\n",
    "print binary_search(nums, 89)\n",
    "print binary_search(nums, 88)"
   ]
  },
  {
   "cell_type": "markdown",
   "metadata": {},
   "source": [
    "+ variable length argument (가변길이 인자) \n",
    " > ***args**,  ****kargs**"
   ]
  },
  {
   "cell_type": "code",
   "execution_count": 47,
   "metadata": {
    "collapsed": false
   },
   "outputs": [
    {
     "name": "stdout",
     "output_type": "stream",
     "text": [
      "실행인자1 : 'Zed', 실행인자2: 'Shaw'\n",
      "실행인자1 : 'Zed', 실행인자2: 'Shaw'\n",
      "실행인자1 : 'First!'\n",
      "아무것도 받지 앟음.\n"
     ]
    }
   ],
   "source": [
    "# argv를 쓴 스크립트와 비슷한 함수\n",
    "def print_two(*args):\n",
    "    arg1, arg2 = args\n",
    "    print \"실행인자1 : %r, 실행인자2: %r\" %(arg1, arg2)\n",
    "    \n",
    "# 좋아요. 사실 *args는 필요가 없습니다 그냥 이렇게 하죠\n",
    "def print_two_again(arg1, arg2):\n",
    "    print \"실행인자1 : %r, 실행인자2: %r\" %(arg1, arg2)\n",
    "    \n",
    "# 이 함수는 실행인자를 하나만 받습니다.\n",
    "def print_one(arg1):\n",
    "    print \"실행인자1 : %r\" % arg1\n",
    "    \n",
    "#이 함수는 실행인자를 하나도 받지 않습니다.\n",
    "def print_none():\n",
    "    print \"아무것도 받지 앟음.\"\n",
    "    \n",
    "print_two(\"Zed\", \"Shaw\")\n",
    "print_two_again(\"Zed\", \"Shaw\")\n",
    "print_one(\"First!\")\n",
    "print_none()"
   ]
  },
  {
   "cell_type": "code",
   "execution_count": 48,
   "metadata": {
    "collapsed": false
   },
   "outputs": [
    {
     "name": "stdout",
     "output_type": "stream",
     "text": [
      "print_two를 분해해 봅시다.\n",
      "\n",
      "1. 먼저 파이썬에 함수를 만들겠다는 것을 알리기 위해 정의(define)라는 뜻의 def를 씁니다. \n",
      "\n",
      "2. def를 쓴 다음 함수의 이름을 짓습니다. 이 경우 그냥 print_two라고 불렀지만 peanut라고 지을 수도 있습니다. 무엇을 하는지 알려 주는 짧은 이름을 지어야 한다는 점을 빼면 무엇이든 상관없습니다. \n",
      "\n",
      " 3. 다음에는 *args가 필요하다고 알립니다. *args는 argv매개변수와 비슷하지만 함수에서 쓰입니다. \n",
      "\n",
      "4. 그리고 이 줄을 :(콜론)으로 마치고 다음 줄부터 들여쓰기를 시작합니다. \n",
      "\n",
      "5. 쌍점 다음에는 모든 줄을 공백(space)네 개로 들여씁니다. 들여쓴 줄은 모두 print_two라는 이름에 속하게 됩니다. 처음으로 들여 쓴 줄은 스크립트에서 했듯이 실행인자를 푸는(unpack) 코드입니다. \n",
      "\n",
      "6. 스크립트에서 했던 것과 같이 실행인자를 출력해 어떻게 동작하는지 보여줍니다. \n"
     ]
    }
   ],
   "source": [
    "print \"print_two를 분해해 봅시다.\\n\\n1. 먼저 파이썬에 함수를 만들겠다는 것을 알리기 위해 정의(define)라는 뜻의 def를 씁니다. \\n\\n2. def를 쓴 다음 함수의 이름을 짓습니다. 이 경우 그냥 print_two라고 불렀지만 peanut라고 지을 수도 있습니다. 무엇을 하는지 알려 주는 짧은 이름을 지어야 한다는 점을 빼면 무엇이든 상관없습니다. \\n\\n 3. 다음에는 *args가 필요하다고 알립니다. *args는 argv매개변수와 비슷하지만 함수에서 쓰입니다. \\n\\n4. 그리고 이 줄을 :(콜론)으로 마치고 다음 줄부터 들여쓰기를 시작합니다. \\n\\n5. 쌍점 다음에는 모든 줄을 공백(space)네 개로 들여씁니다. 들여쓴 줄은 모두 print_two라는 이름에 속하게 됩니다. 처음으로 들여 쓴 줄은 스크립트에서 했듯이 실행인자를 푸는(unpack) 코드입니다. \\n\\n6. 스크립트에서 했던 것과 같이 실행인자를 출력해 어떻게 동작하는지 보여줍니다. \""
   ]
  },
  {
   "cell_type": "code",
   "execution_count": 49,
   "metadata": {
    "collapsed": false
   },
   "outputs": [
    {
     "name": "stdout",
     "output_type": "stream",
     "text": [
      "함수를 작성할때는 아래 내용을 확인하여 작성하십시오. \n",
      "\n",
      "1. 함수는 'def'로 시작했는가? \n",
      "\n",
      "2. 함수 이름은 로마자와 '_(밑줄)'문자로만 지었는가? \n",
      "\n",
      "3. 여는 괄호'('를 함수 이름 바로 오른쪽에 썼는가? \n",
      "\n",
      "4. 실행인자는 함수 이름 바로 오른쪽 괄호 '(' 다음에 쉼표로 분리해 적었는가? \n",
      "\n",
      "5. 매 실행인자는 유일한 이름(서로 겹치지 않는 이름)을 가졌는가? \n",
      "\n",
      "6. 닫는 괄호와 쌍점 '):'을 실행인자 다음에 썼는가? \n",
      "\n",
      "7. 함수 안에 쓰고 싶은 내용을 모두 공백 네 개로 들여쓰기를 해서 썼는가? 더 해도 안되고 덜 해도 안된다. \n",
      "\n",
      "8. 들여쓰기 없이 쓰기 시작하는 것으로 함수를 '끝'냈나?\n"
     ]
    }
   ],
   "source": [
    "print \"함수를 작성할때는 아래 내용을 확인하여 작성하십시오. \\n\\n1. 함수는 'def'로 시작했는가? \\n\\n2. 함수 이름은 로마자와 '_(밑줄)'문자로만 지었는가? \\n\\n3. 여는 괄호'('를 함수 이름 바로 오른쪽에 썼는가? \\n\\n4. 실행인자는 함수 이름 바로 오른쪽 괄호 '(' 다음에 쉼표로 분리해 적었는가? \\n\\n5. 매 실행인자는 유일한 이름(서로 겹치지 않는 이름)을 가졌는가? \\n\\n6. 닫는 괄호와 쌍점 '):'을 실행인자 다음에 썼는가? \\n\\n7. 함수 안에 쓰고 싶은 내용을 모두 공백 네 개로 들여쓰기를 해서 썼는가? 더 해도 안되고 덜 해도 안된다. \\n\\n8. 들여쓰기 없이 쓰기 시작하는 것으로 함수를 '끝'냈나?\""
   ]
  },
  {
   "cell_type": "code",
   "execution_count": 50,
   "metadata": {
    "collapsed": false
   },
   "outputs": [
    {
     "name": "stdout",
     "output_type": "stream",
     "text": [
      "함수를 실행 ('사용', '호출')할 때는 다음을 확인하세요.\n",
      "\n",
      "1. 함수 이름을 사용해서 호출/사용/실행했는가? \n",
      "\n",
      "2. 실행하기 위해 이름 뒤에 '('문자를 붙였는가? \n",
      "\n",
      "3. 원하는 값을 괄호 안에 쉼표로 분리해 넣었는가? \n",
      "\n",
      "4. 함수 호출을 ')'문자로 마쳤는가?\n"
     ]
    }
   ],
   "source": [
    "print \"함수를 실행 ('사용', '호출')할 때는 다음을 확인하세요.\\n\\n1. 함수 이름을 사용해서 호출/사용/실행했는가? \\n\\n2. 실행하기 위해 이름 뒤에 '('문자를 붙였는가? \\n\\n3. 원하는 값을 괄호 안에 쉼표로 분리해 넣었는가? \\n\\n4. 함수 호출을 ')'문자로 마쳤는가?\""
   ]
  },
  {
   "cell_type": "code",
   "execution_count": 53,
   "metadata": {
    "collapsed": false
   },
   "outputs": [
    {
     "name": "stdout",
     "output_type": "stream",
     "text": [
      "Q. 어떤 함수 이름이 허용되나요?\n",
      "\n",
      "A. 변수 이름처럼 숫자로 시작하지 않는 로마자, 숫자, 밑줄로 된 어떤 이름이든 좋습니다. \n",
      "\n",
      "Q. *args에서 *은 무슨 뜻이죠?\n",
      "\n",
      "A. 함수가 모든 실행인자를 받고 args에 리스트로 넣는다는 뜻입니다. 지금까지 사용해 온 argv와 비슷하지만 함수용입니다. 특별히 필요할 때가 아니면 보통은 아주 자주 쓰이지는 않습니다. \n"
     ]
    }
   ],
   "source": [
    "print \"Q. 어떤 함수 이름이 허용되나요?\\n\\nA. 변수 이름처럼 숫자로 시작하지 않는 로마자, 숫자, 밑줄로 된 어떤 이름이든 좋습니다. \\n\\nQ. *args에서 *은 무슨 뜻이죠?\\n\\nA. 함수가 모든 실행인자를 받고 args에 리스트로 넣는다는 뜻입니다. 지금까지 사용해 온 argv와 비슷하지만 함수용입니다. 특별히 필요할 때가 아니면 보통은 아주 자주 쓰이지는 않습니다. \""
   ]
  },
  {
   "cell_type": "code",
   "execution_count": 55,
   "metadata": {
    "collapsed": false
   },
   "outputs": [
    {
     "name": "stdout",
     "output_type": "stream",
     "text": [
      "함수에서 쓴 변수는 스크립트에 쓴 변수와 연결되지 않습니다.\n",
      "함수에 그냥 숫자를 직접 줄 수 있습니다.\n",
      "치즈가 20개 있어요!\n",
      "크래커가 30상자 있어요!\n",
      "파티 벌이기에 충분하네요!\n",
      "담요 한 장 가져 오세요.\n",
      "\n",
      "스크립트의 변수를 쓸 수도 있고요.\n",
      "치즈가 10개 있어요!\n",
      "크래커가 50상자 있어요!\n",
      "파티 벌이기에 충분하네요!\n",
      "담요 한 장 가져 오세요.\n",
      "\n",
      "안에서 계산을 해도 됩니다.\n",
      "치즈가 30개 있어요!\n",
      "크래커가 11상자 있어요!\n",
      "파티 벌이기에 충분하네요!\n",
      "담요 한 장 가져 오세요.\n",
      "\n",
      "합쳐서 변수도 쓰고 계산도 할 수도 있습니다.\n",
      "치즈가 110개 있어요!\n",
      "크래커가 1050상자 있어요!\n",
      "파티 벌이기에 충분하네요!\n",
      "담요 한 장 가져 오세요.\n",
      "\n"
     ]
    }
   ],
   "source": [
    "print \"함수에서 쓴 변수는 스크립트에 쓴 변수와 연결되지 않습니다.\"\n",
    "\n",
    "def cheese_and_crackers(cheese_count, boxes_of_crackers):\n",
    "    print \"치즈가 %d개 있어요!\" % cheese_count\n",
    "    print \"크래커가 %d상자 있어요!\" % boxes_of_crackers\n",
    "    print \"파티 벌이기에 충분하네요!\"\n",
    "    print \"담요 한 장 가져 오세요.\\n\"\n",
    "    \n",
    "print \"함수에 그냥 숫자를 직접 줄 수 있습니다.\"\n",
    "cheese_and_crackers(20, 30)\n",
    "\n",
    "print \"스크립트의 변수를 쓸 수도 있고요.\"\n",
    "amount_of_cheese = 10\n",
    "amount_of_crackers = 50\n",
    "\n",
    "cheese_and_crackers(amount_of_cheese, amount_of_crackers)\n",
    "\n",
    "\n",
    "print \"안에서 계산을 해도 됩니다.\"\n",
    "cheese_and_crackers( 10 + 20, 5 + 6)\n",
    "\n",
    "print \"합쳐서 변수도 쓰고 계산도 할 수도 있습니다.\"\n",
    "cheese_and_crackers(amount_of_cheese + 100, amount_of_crackers + 1000)\n"
   ]
  },
  {
   "cell_type": "code",
   "execution_count": 56,
   "metadata": {
    "collapsed": false
   },
   "outputs": [
    {
     "name": "stdout",
     "output_type": "stream",
     "text": [
      "cheese_and_crackers에 출력할 값을 전달하는 여러 가지 다른 방법을 볼 수 있습니다 숫자를 바로 넣을 수 있고, 변수로 줄 수도 있습니다. 계산해서 줄 수도 있으며, 계산과 변수를 섞어 쓸 수도 있습니다. \n",
      "\n",
      "어떤 면에서 함수의 실행인자는 변수를 만들 때 쓰는 =와 비슷합니다. =로 이름을 붙일 수 있으면 함수에 실행인자로도 항상 넘길 수 있습니다.\n"
     ]
    }
   ],
   "source": [
    "print \"cheese_and_crackers에 출력할 값을 전달하는 여러 가지 다른 방법을 볼 수 있습니다 숫자를 바로 넣을 수 있고, 변수로 줄 수도 있습니다. 계산해서 줄 수도 있으며, 계산과 변수를 섞어 쓸 수도 있습니다. \\n\\n어떤 면에서 함수의 실행인자는 변수를 만들 때 쓰는 =와 비슷합니다. =로 이름을 붙일 수 있으면 함수에 실행인자로도 항상 넘길 수 있습니다.\""
   ]
  },
  {
   "cell_type": "markdown",
   "metadata": {},
   "source": [
    "# 반환하는 함수 (return)"
   ]
  },
  {
   "cell_type": "code",
   "execution_count": 63,
   "metadata": {
    "collapsed": false
   },
   "outputs": [
    {
     "name": "stdout",
     "output_type": "stream",
     "text": [
      "함수만으로 계산해 봅시다!\n",
      "덧셈 30 + 5\n",
      "곱셈 90 * 2\n",
      "나눗셈 100 / 2\n",
      "나이: 35, 키: 74, 몸무게: 180, IQ: 50\n",
      "문제가 있어요.\n",
      "나눗셈 50 / 2\n",
      "곱셈 180 * 25\n",
      "덧셈 35 + -4426\n",
      "결과: -4391 손으로 계산할 수 있나요?\n"
     ]
    }
   ],
   "source": [
    "def add(a, b):\n",
    "    print \"덧셈 %d + %d\" % (a, b)\n",
    "    return a + b\n",
    "\n",
    "def subrtact(a, b):\n",
    "    print \"뺄셈 %d - %d\" % (a, b)\n",
    "    return a - b\n",
    "\n",
    "def multiply(a, b):\n",
    "    print \"곱셈 %d * %d\" % (a, b)\n",
    "    return a * b\n",
    "\n",
    "def divide(a, b):\n",
    "    print \"나눗셈 %d / %d\" % (a, b)\n",
    "    return a / b\n",
    "\n",
    "print \"함수만으로 계산해 봅시다!\"\n",
    "\n",
    "age = add(30, 5)\n",
    "height = subtract(78, 4)\n",
    "weight = multiply(90, 2)\n",
    "iq = divide(100, 2)\n",
    "\n",
    "print \"나이: %d, 키: %d, 몸무게: %d, IQ: %d\" % (age, height, weight, iq)\n",
    "\n",
    "# 추가 점수 문제. 일단 써 보세요. \n",
    "\n",
    "print \"문제가 있어요.\"\n",
    "\n",
    "solution = add(age, subtract(height, multiply(weight, divide(iq, 2)))) # 이 값이 리턴(return) 값이다\n",
    "\n",
    "print \"결과:\", what, \"손으로 계산할 수 있나요?\""
   ]
  },
  {
   "cell_type": "code",
   "execution_count": 61,
   "metadata": {
    "collapsed": false
   },
   "outputs": [
    {
     "name": "stdout",
     "output_type": "stream",
     "text": [
      "1. a, b 두 실행인자를 넣고 함수를 호출합니다. \n",
      "\n",
      "2. 함수에서 어떤 일을 하는지 출력합니다. 이 경우 덧셈입니다. \n",
      "\n",
      "3. 다음으로 내부에서 'a + b의 합을 돌려준다(return).' 같은 일을 하도록 파이썬에 요청합니다. 'a와 b를 더한 다음 그 값을 돌려준다.'라고 할 수도 있습니다. \n",
      "\n",
      "4. 파이썬이 두 값을 더합니다. 함수 실행이 끝나면 호출한 줄에서는 a + b의 결과를 변수에 대입할 수 있습니다.\n"
     ]
    }
   ],
   "source": [
    "print \"1. a, b 두 실행인자를 넣고 함수를 호출합니다. \\n\\n2. 함수에서 어떤 일을 하는지 출력합니다. 이 경우 덧셈입니다. \\n\\n3. 다음으로 내부에서 'a + b의 합을 돌려준다(return).' 같은 일을 하도록 파이썬에 요청합니다. 'a와 b를 더한 다음 그 값을 돌려준다.'라고 할 수도 있습니다. \\n\\n4. 파이썬이 두 값을 더합니다. 함수 실행이 끝나면 호출한 줄에서는 a + b의 결과를 변수에 대입할 수 있습니다.\""
   ]
  },
  {
   "cell_type": "code",
   "execution_count": 66,
   "metadata": {
    "collapsed": false
   },
   "outputs": [
    {
     "name": "stdout",
     "output_type": "stream",
     "text": [
      "1. return이 무슨 일을 하는지 잘 모르겠다면, 함수 몇개를 직접 만들어 값을 반환하게 해보세요. =의 오른쪽에 쓸 수 있는 값은 무엇이든 반환할 수 있습니다. \n",
      "\n",
      "2. 스크립트의 마지막 줄은 복잡합니다. 한 함수의 반환값을 다른 함수의 실행인자로 쓰고 있고, 이 방법을 연달아 사용해서 함수를 사용한 식을 만들었습니다. \n",
      "\n",
      "3. 식을 만들었으면, 함수 일부를 고치고 무슨 일이 일어나는지 보세요. 다른 값이 나오도록 일부러 바꿔 보세요. \n",
      "\n",
      "4. 마지막으로 역으로 만들어 보세요. \n"
     ]
    }
   ],
   "source": [
    "print \"1. return이 무슨 일을 하는지 잘 모르겠다면, 함수 몇개를 직접 만들어 값을 반환하게 해보세요. =의 오른쪽에 쓸 수 있는 값은 무엇이든 반환할 수 있습니다. \\n\\n2. 스크립트의 마지막 줄은 복잡합니다. 한 함수의 반환값을 다른 함수의 실행인자로 쓰고 있고, 이 방법을 연달아 사용해서 함수를 사용한 식을 만들었습니다. \\n\\n3. 식을 만들었으면, 함수 일부를 고치고 무슨 일이 일어나는지 보세요. 다른 값이 나오도록 일부러 바꿔 보세요. \\n\\n4. 마지막으로 역으로 만들어 보세요. \""
   ]
  },
  {
   "cell_type": "markdown",
   "metadata": {},
   "source": [
    "## 자주 묻는 질문"
   ]
  },
  {
   "cell_type": "code",
   "execution_count": 67,
   "metadata": {
    "collapsed": false
   },
   "outputs": [
    {
     "name": "stdout",
     "output_type": "stream",
     "text": [
      "Q. 파이썬은 왜 '내부에서' 식이나 함수를 출력하죠? \n",
      "\n",
      "A. 사실 내부가 아니라 '안에서 밖으로'출력하는 것입니다. 각각의 식과 함수 호출로 함수를 잘게 나누기 시작하면 어떻게 돌아가는지 보일겁니다. '내부에서'가 아니라 '안에서 밖으로' 출력한다는 것이 무슨 뜻인지 알아내세요. \n",
      "\n",
      "Q. 값을 입력 받으려면 raw_input()을 어떻게 써야 하죠? \n",
      "\n",
      "A. int(raw_input())을 기억하시나요? 이렇게 쓰면 부동소수점을 입력할 수 없다는 문제가 있으니, 대신 float(raw_input())을 써 보세요. \n",
      "\n",
      "Q. 식을 만들어 보는 게 무슨 뜻인가? \n",
      "\n",
      "A. 24 + 34 / 100 - 1023으로 시작해 보세요. 이 식에서 함수를 쓸 수 있도록 고쳐 보세요. \n"
     ]
    }
   ],
   "source": [
    "print \"Q. 파이썬은 왜 '내부에서' 식이나 함수를 출력하죠? \\n\\nA. 사실 내부가 아니라 '안에서 밖으로'출력하는 것입니다. 각각의 식과 함수 호출로 함수를 잘게 나누기 시작하면 어떻게 돌아가는지 보일겁니다. '내부에서'가 아니라 '안에서 밖으로' 출력한다는 것이 무슨 뜻인지 알아내세요. \\n\\nQ. 값을 입력 받으려면 raw_input()을 어떻게 써야 하죠? \\n\\nA. int(raw_input())을 기억하시나요? 이렇게 쓰면 부동소수점을 입력할 수 없다는 문제가 있으니, 대신 float(raw_input())을 써 보세요. \\n\\nQ. 식을 만들어 보는 게 무슨 뜻인가? \\n\\nA. 24 + 34 / 100 - 1023으로 시작해 보세요. 이 식에서 함수를 쓸 수 있도록 고쳐 보세요. \""
   ]
  },
  {
   "cell_type": "code",
   "execution_count": 93,
   "metadata": {
    "collapsed": false
   },
   "outputs": [
    {
     "name": "stdout",
     "output_type": "stream",
     "text": [
      "formal arg: 1\n",
      "<type 'tuple'>\n",
      "another arg: two\n",
      "another arg: 3\n",
      "------------------------------\n"
     ]
    }
   ],
   "source": [
    "def test_tuple_args(farg, tuple_args):\n",
    "    print \"formal arg:\", farg\n",
    "    print type(tuple_args)\n",
    "    for arg in tuple_args:\n",
    "        print \"another arg:\", arg\n",
    "\n",
    "#test_tuple_args(1, \"two\", 3) 인자의 개수가 맞지 않아 에러 발생\n",
    "test_tuple_args(1, (\"two\", 3))\n",
    "print '-' * 30\n",
    "#test_tuple_args(1) 인자의 개수가 맞지 않아 에러 발생"
   ]
  },
  {
   "cell_type": "code",
   "execution_count": 94,
   "metadata": {
    "collapsed": false
   },
   "outputs": [
    {
     "name": "stdout",
     "output_type": "stream",
     "text": [
      "formal arg: 1\n",
      "<type 'dict'>\n",
      "another keyword arg: myarg2: two\n",
      "another keyword arg: myarg3: 3\n"
     ]
    }
   ],
   "source": [
    "def test_var_kwargs(farg, **kwargs):\n",
    "    print \"formal arg:\", farg\n",
    "    print type(kwargs)\n",
    "    for key in kwargs:\n",
    "        print \"another keyword arg: %s: %s\" % (key, kwargs[key])\n",
    "\n",
    "test_var_kwargs(farg = 1, myarg2 = \"two\", myarg3 = 3)"
   ]
  },
  {
   "cell_type": "code",
   "execution_count": 95,
   "metadata": {
    "collapsed": false
   },
   "outputs": [
    {
     "name": "stdout",
     "output_type": "stream",
     "text": [
      "arg1: 1\n",
      "arg2: two\n",
      "arg3: 3\n"
     ]
    }
   ],
   "source": [
    "def test_var_args_call(arg1, arg2, arg3):\n",
    "    print \"arg1:\", arg1\n",
    "    print \"arg2:\", arg2\n",
    "    print \"arg3:\", arg3\n",
    "\n",
    "args = (\"two\", 3)\n",
    "test_var_args_call(1, *args)"
   ]
  },
  {
   "cell_type": "code",
   "execution_count": 96,
   "metadata": {
    "collapsed": false
   },
   "outputs": [
    {
     "name": "stdout",
     "output_type": "stream",
     "text": [
      "hello world aaron\n"
     ]
    }
   ],
   "source": [
    "s = 'hello world'\n",
    "name = 'aaron'\n",
    "\n",
    "result = s + ' ' + name\n",
    "print result"
   ]
  },
  {
   "cell_type": "code",
   "execution_count": 97,
   "metadata": {
    "collapsed": false
   },
   "outputs": [
    {
     "name": "stdout",
     "output_type": "stream",
     "text": [
      "hello mike world pop\n",
      "hello world aaron\n",
      "Hello 100! my name is aaron\n",
      "Hello aaron! my name is bryan\n"
     ]
    }
   ],
   "source": [
    "aa = 'hello {} world {}'.format('mike', 'pop')\n",
    "print aa\n",
    "\n",
    "a = 'hello world {}'.format('aaron')\n",
    "print a \n",
    "\n",
    "b = 'Hello {}! my name is {}'.format(100, 'aaron')\n",
    "print b\n",
    "\n",
    "b = 'Hello {1}! my name is {0}'.format('bryan', 'aaron')\n",
    "print b\n",
    "\n"
   ]
  },
  {
   "cell_type": "markdown",
   "metadata": {},
   "source": [
    "* 1st class citizen\n",
    " + 모든 것이 객체(object)다!\n",
    " + 숫자, 문자열, 튜플, 리스트, 딕셔너리 등등\n",
    " + 그리고 함수를 포함함\n",
    " + 1st class citizen이라 함은 함수를 변수에 할당 할 수 있고, 다른 함수의 인자로 전달 가능하며, 함수를 반환할 수 있다는 뜻."
   ]
  },
  {
   "cell_type": "code",
   "execution_count": 98,
   "metadata": {
    "collapsed": false
   },
   "outputs": [
    {
     "name": "stdout",
     "output_type": "stream",
     "text": [
      "23\n",
      "<function test1 at 0x052D10B0> <type 'function'>\n",
      "23\n"
     ]
    }
   ],
   "source": [
    "def test1():\n",
    "    print 23\n",
    "    \n",
    "def run_something(func):\n",
    "    func()\n",
    "    \n",
    "test2 = test1\n",
    "test2()\n",
    "\n",
    "print test1, type(test1)\n",
    "run_something(test1)"
   ]
  },
  {
   "cell_type": "markdown",
   "metadata": {},
   "source": [
    "## Recursive Function"
   ]
  },
  {
   "cell_type": "markdown",
   "metadata": {},
   "source": [
    "재귀함수\n",
    "* 내부적으로 자기 자신을 호출함\n",
    "* 점화식으로 표현되는 모든 수식을 간결히 표현할 수 있음\n",
    "* 종료조건이 꼭! 필요함 (명시하지 않으면 무한 호출반복)\n",
    "* 코드는 간결하나, 호출에 따른 오버헤드가 큼)"
   ]
  },
  {
   "cell_type": "code",
   "execution_count": 100,
   "metadata": {
    "collapsed": false
   },
   "outputs": [
    {
     "name": "stdout",
     "output_type": "stream",
     "text": [
      "720\n"
     ]
    }
   ],
   "source": [
    "# factorial을 다시 작성해 봅시다.\n",
    "def factorial(n):\n",
    "    mul = 1\n",
    "    for i in range(2, n+1):\n",
    "        mul *= i\n",
    "        \n",
    "    return mul\n",
    "\n",
    "\n",
    "assert(factorial(5) == 120)\n",
    "assert(factorial(4) == 24)\n",
    "assert(factorial(1) == 1)\n",
    "\n",
    "print factorial(6)"
   ]
  },
  {
   "cell_type": "code",
   "execution_count": 3,
   "metadata": {
    "collapsed": false
   },
   "outputs": [
    {
     "name": "stdout",
     "output_type": "stream",
     "text": [
      "720\n"
     ]
    }
   ],
   "source": [
    "def rf(n):\n",
    "    if n == 0:\n",
    "        return 1\n",
    "    return n * rf(n-1)\n",
    "\n",
    "assert(rf(5) == 120)\n",
    "assert(rf(4) == 24)\n",
    "assert(rf(1) == 1)\n",
    "\n",
    "print rf(6)"
   ]
  },
  {
   "cell_type": "code",
   "execution_count": 4,
   "metadata": {
    "collapsed": false
   },
   "outputs": [
    {
     "name": "stdout",
     "output_type": "stream",
     "text": [
      "610\n"
     ]
    }
   ],
   "source": [
    "def recursive_fibonacci(n):\n",
    "    if n == 1 or n == 2:\n",
    "        return 1\n",
    "    \n",
    "    return recursive_fibonacci(n-1) + recursive_fibonacci(n-2)\n",
    "\n",
    "print recursive_fibonacci(15)"
   ]
  },
  {
   "cell_type": "markdown",
   "metadata": {},
   "source": [
    "* recursive function 연습문제 #### 다 너무 어렵다 ?????\n",
    " 1. 숫자 리스트를 인자로 받아 그 숫자의 합을 구하는 재귀함수를 작성하시오.\n",
    " 2. 숫자를 입력받아 각 자리수의 합을 구하는 재귀함수를 작성하시오.\n",
    " 3. 주어진 두 수의 최대 공약수를 찾는 재귀함수를 작성하시오.\n",
    "    A와 B의 최대 공약수는 B와 A%B의 최대 공약수와 같다."
   ]
  },
  {
   "cell_type": "code",
   "execution_count": 5,
   "metadata": {
    "collapsed": false
   },
   "outputs": [
    {
     "data": {
      "text/plain": [
       "18"
      ]
     },
     "execution_count": 5,
     "metadata": {},
     "output_type": "execute_result"
    }
   ],
   "source": [
    "def list_sum(nums):\n",
    "    s = 0\n",
    "    for i in nums:\n",
    "        s += i\n",
    "        \n",
    "    return s\n",
    "\n",
    "\n",
    "def lsr(nums, i):\n",
    "    if i == len(nums):\n",
    "        return 0\n",
    "    return nums[i] + lsr(nums, i+1)\n",
    "\n",
    "\n",
    "\n",
    "\n",
    "a = [1, 2, 4, 5, 6]\n",
    "lsr(a, 0)"
   ]
  },
  {
   "cell_type": "code",
   "execution_count": 8,
   "metadata": {
    "collapsed": false
   },
   "outputs": [
    {
     "data": {
      "text/plain": [
       "16"
      ]
     },
     "execution_count": 8,
     "metadata": {},
     "output_type": "execute_result"
    }
   ],
   "source": [
    "def digit_sum(num, i):\n",
    "    str_num = str(num)\n",
    "    if i == len(str_num):\n",
    "        return 0 \n",
    "    return int(str_num[i]) + digit_sum(num, i + 1)\n",
    "\n",
    "digit_sum(4543, 0)"
   ]
  },
  {
   "cell_type": "code",
   "execution_count": 6,
   "metadata": {
    "collapsed": false
   },
   "outputs": [
    {
     "name": "stdout",
     "output_type": "stream",
     "text": [
      "10\n"
     ]
    }
   ],
   "source": [
    "def gcd(a, b):\n",
    "    if b == 0:\n",
    "        return a\n",
    "    return gcd(b, a % b)\n",
    "\n",
    "print gcd(50, 160)"
   ]
  },
  {
   "cell_type": "markdown",
   "metadata": {},
   "source": [
    "* Lambda 함수\n",
    " + 단일문으로 표현되는 익명함수\n",
    " + 익명함수란 이름이 없는 구현체만 존재하는 간단한 함수를 의미\n",
    " + 코드 상에서 한번만 사용되는 기능이 있을 때, 굳이 함수로 만들지 않고 1회성으로 만들어서 쓸 때 사용."
   ]
  },
  {
   "cell_type": "code",
   "execution_count": 11,
   "metadata": {
    "collapsed": false
   },
   "outputs": [
    {
     "name": "stdout",
     "output_type": "stream",
     "text": [
      "<function square at 0x053BA3B0>\n",
      "<function <lambda> at 0x053BA4F0>\n",
      "16 36\n"
     ]
    }
   ],
   "source": [
    "def square(x):\n",
    "    return x ** 2\n",
    "\n",
    "square2 = lambda x : x ** 2\n",
    "\n",
    "print square\n",
    "print square2\n",
    "\n",
    "print square(4), square2(6)"
   ]
  },
  {
   "cell_type": "code",
   "execution_count": 10,
   "metadata": {
    "collapsed": false
   },
   "outputs": [
    {
     "name": "stdout",
     "output_type": "stream",
     "text": [
      "50\n"
     ]
    }
   ],
   "source": [
    "add3 = lambda x, y : x + y\n",
    "print add3(20, 30)"
   ]
  },
  {
   "cell_type": "code",
   "execution_count": 12,
   "metadata": {
    "collapsed": false
   },
   "outputs": [
    {
     "name": "stdout",
     "output_type": "stream",
     "text": [
      "[(1, 2), (4, 5), (7, 6), (8, 4), (9, 5), (10, 2)]\n",
      "[(1, 2), (10, 2), (8, 4), (9, 5), (4, 5), (7, 6)]\n",
      "[(1, 2), (10, 2), (8, 4), (9, 5), (4, 5), (7, 6)]\n"
     ]
    }
   ],
   "source": [
    "nums = [(1, 2), (9, 5), (8, 4), (7, 6), (10, 2), (4, 5)]\n",
    "\n",
    "def get_key(item):\n",
    "    return item[1]\n",
    "\n",
    "print sorted(nums)\n",
    "print sorted(nums, key = get_key)\n",
    "print sorted(nums, key = lambda item : item[1])"
   ]
  },
  {
   "cell_type": "markdown",
   "metadata": {},
   "source": [
    "* filter, map, reduce\n",
    " + lambda가 유용하게 사용되는 3가지 대표적 함수\n",
    " + 함수형 프로그래밍의 기본 요소이기도 함"
   ]
  },
  {
   "cell_type": "code",
   "execution_count": 13,
   "metadata": {
    "collapsed": false
   },
   "outputs": [
    {
     "name": "stdout",
     "output_type": "stream",
     "text": [
      "[2, 3, 4, 5, 6, 7, 8, 9, 10, 11, 12, 13, 14, 15, 16, 17, 18, 19, 20, 21, 22, 23, 24, 25, 26, 27, 28, 29, 30, 31, 32, 33, 34, 35, 36, 37, 38, 39, 40, 41, 42, 43, 44, 45, 46, 47, 48, 49, 50, 51, 52, 53, 54, 55, 56, 57, 58, 59, 60, 61, 62, 63, 64, 65, 66, 67, 68, 69, 70, 71, 72, 73, 74, 75, 76, 77, 78, 79, 80, 81, 82, 83, 84, 85, 86, 87, 88, 89, 90, 91, 92, 93, 94, 95, 96, 97, 98, 99]\n",
      "[2, 4, 6, 8, 10, 12, 14, 16, 18, 20, 22, 24, 26, 28, 30, 32, 34, 36, 38, 40, 42, 44, 46, 48, 50, 52, 54, 56, 58, 60, 62, 64, 66, 68, 70, 72, 74, 76, 78, 80, 82, 84, 86, 88, 90, 92, 94, 96, 98]\n"
     ]
    }
   ],
   "source": [
    "nums = range(2, 100)\n",
    "\n",
    "print filter(None, nums)\n",
    "print filter(lambda x : x % 2 == 0, nums)"
   ]
  },
  {
   "cell_type": "markdown",
   "metadata": {},
   "source": [
    "* filter를 이용하여 문자열의 길이가 5이하인 문자열만 필터링 하시오.\n",
    " - 그런데, 혹시 또 다른 방법이 생각나지 않나요?"
   ]
  },
  {
   "cell_type": "code",
   "execution_count": 15,
   "metadata": {
    "collapsed": false
   },
   "outputs": [
    {
     "name": "stdout",
     "output_type": "stream",
     "text": [
      "['apple', 'cat', 'hat']\n",
      "['apple', 'cat', 'hat']\n"
     ]
    }
   ],
   "source": [
    "a = ['apple', 'cat', 'banana', 'hat', 'orange', 'carrot', 'python']\n",
    "\n",
    "print filter(lambda x : len(x) <= 5, a) # 여기서 콤마 a의 역할은???\n",
    "print [i for i in a if len(i) <= 5]"
   ]
  },
  {
   "cell_type": "code",
   "execution_count": 17,
   "metadata": {
    "collapsed": false
   },
   "outputs": [
    {
     "ename": "TypeError",
     "evalue": "filter expected 2 arguments, got 1",
     "output_type": "error",
     "traceback": [
      "\u001b[0;31m---------------------------------------------------------------------------\u001b[0m",
      "\u001b[0;31mTypeError\u001b[0m                                 Traceback (most recent call last)",
      "\u001b[0;32m<ipython-input-17-39917ade3d75>\u001b[0m in \u001b[0;36m<module>\u001b[0;34m()\u001b[0m\n\u001b[1;32m      1\u001b[0m \u001b[0ma\u001b[0m \u001b[1;33m=\u001b[0m \u001b[1;33m[\u001b[0m\u001b[1;34m'apple'\u001b[0m\u001b[1;33m,\u001b[0m \u001b[1;34m'cat'\u001b[0m\u001b[1;33m,\u001b[0m \u001b[1;34m'banana'\u001b[0m\u001b[1;33m,\u001b[0m \u001b[1;34m'hat'\u001b[0m\u001b[1;33m,\u001b[0m \u001b[1;34m'orange'\u001b[0m\u001b[1;33m,\u001b[0m \u001b[1;34m'carrot'\u001b[0m\u001b[1;33m,\u001b[0m \u001b[1;34m'python'\u001b[0m\u001b[1;33m]\u001b[0m\u001b[1;33m\u001b[0m\u001b[0m\n\u001b[1;32m      2\u001b[0m \u001b[1;33m\u001b[0m\u001b[0m\n\u001b[0;32m----> 3\u001b[0;31m \u001b[1;32mprint\u001b[0m \u001b[0mfilter\u001b[0m\u001b[1;33m(\u001b[0m\u001b[1;32mlambda\u001b[0m \u001b[0mx\u001b[0m \u001b[1;33m:\u001b[0m \u001b[0mlen\u001b[0m\u001b[1;33m(\u001b[0m\u001b[0mx\u001b[0m\u001b[1;33m)\u001b[0m \u001b[1;33m<=\u001b[0m \u001b[1;36m5\u001b[0m\u001b[1;33m)\u001b[0m \u001b[1;31m# 여기서 콤마 a의 역할은???\u001b[0m\u001b[1;33m\u001b[0m\u001b[0m\n\u001b[0m\u001b[1;32m      4\u001b[0m                                     \u001b[1;31m# filter는 2개의 arguments를 필요로 한다.\u001b[0m\u001b[1;33m\u001b[0m\u001b[1;33m\u001b[0m\u001b[0m\n\u001b[1;32m      5\u001b[0m \u001b[1;33m\u001b[0m\u001b[0m\n",
      "\u001b[0;31mTypeError\u001b[0m: filter expected 2 arguments, got 1"
     ]
    }
   ],
   "source": [
    "a = ['apple', 'cat', 'banana', 'hat', 'orange', 'carrot', 'python']\n",
    "\n",
    "print filter(lambda x : len(x) <= 5) # 여기서 콤마 a의 역할은???\n",
    "                                    # filter는 2개의 arguments를 필요로 한다. \n",
    "\n",
    "print [i for i in a if len(i) <= 5]"
   ]
  },
  {
   "cell_type": "code",
   "execution_count": 18,
   "metadata": {
    "collapsed": false
   },
   "outputs": [
    {
     "name": "stdout",
     "output_type": "stream",
     "text": [
      "[4, 9, 16, 25, 36, 49, 64, 81, 100, 121, 144, 169, 196, 225, 256, 289, 324, 361]\n"
     ]
    }
   ],
   "source": [
    "nums = range(2, 20)\n",
    "print map(lambda x : x ** 2, nums)"
   ]
  },
  {
   "cell_type": "markdown",
   "metadata": {},
   "source": [
    "* map을 이용하여 섭씨/화씨 변환을 다시 해보죠.\n",
    " - 그런데, 혹시 또 다른 방법이 생각나진 않나요?"
   ]
  },
  {
   "cell_type": "code",
   "execution_count": 19,
   "metadata": {
    "collapsed": false
   },
   "outputs": [
    {
     "name": "stdout",
     "output_type": "stream",
     "text": [
      "[102.2, 98.60000000000001, 97.7, 91.76, 86.0]\n",
      "[102.2, 98.60000000000001, 97.7, 91.76, 86.0]\n"
     ]
    }
   ],
   "source": [
    "c = [39, 37, 36.5, 33.2, 30]\n",
    "\n",
    "# f = 1.8 * c + 32\n",
    "\n",
    "print map(lambda x : 1.8 * x + 32, c)\n",
    "\n",
    "print[ 1.8 * i + 32 for i in c]\n"
   ]
  },
  {
   "cell_type": "code",
   "execution_count": 20,
   "metadata": {
    "collapsed": false
   },
   "outputs": [
    {
     "name": "stdout",
     "output_type": "stream",
     "text": [
      "[17, 10, 19, 23]\n"
     ]
    }
   ],
   "source": [
    "a = [1, 2, 3, 4]\n",
    "b = [17, 12, 11, 10]\n",
    "c = [-1, -4, 5, 9]\n",
    "\n",
    "print map(lambda x, y, z : x + y + z, a, b, c)\n",
    "\n",
    "## map 함수도 잘 모르겠음"
   ]
  },
  {
   "cell_type": "code",
   "execution_count": 21,
   "metadata": {
    "collapsed": false
   },
   "outputs": [
    {
     "name": "stdout",
     "output_type": "stream",
     "text": [
      "49\n"
     ]
    }
   ],
   "source": [
    "nums = [1, 2, 9, 8, 5, 4, 7, 10, 3]\n",
    "print reduce(lambda x, y : x + y, nums) \n",
    "\n",
    "## reduce함수는 잘 모르겠음"
   ]
  },
  {
   "cell_type": "markdown",
   "metadata": {},
   "source": [
    "* reduce로 리스트의 최대값을 구해봅시다."
   ]
  },
  {
   "cell_type": "code",
   "execution_count": 22,
   "metadata": {
    "collapsed": false
   },
   "outputs": [
    {
     "name": "stdout",
     "output_type": "stream",
     "text": [
      "10\n"
     ]
    }
   ],
   "source": [
    "print reduce(lambda x, y : x if x > y else y, nums)"
   ]
  },
  {
   "cell_type": "markdown",
   "metadata": {},
   "source": [
    "* 연습문제\n",
    " 1. filter를 직접 구현해봅시다. filter2(func, iterable):\n",
    " 2. map을 직접 구현해봅시다. map2(func, iterable):"
   ]
  },
  {
   "cell_type": "code",
   "execution_count": 30,
   "metadata": {
    "collapsed": false
   },
   "outputs": [
    {
     "name": "stdout",
     "output_type": "stream",
     "text": [
      "[1, 3, 5, 7, 9]\n"
     ]
    }
   ],
   "source": [
    "def filter2(func, nums):\n",
    "    ret = []\n",
    "    \n",
    "    for i in nums:\n",
    "        if func(i):\n",
    "            ret.append(i)\n",
    "            \n",
    "    return ret\n",
    "\n",
    "print filter2(lambda x : x % 2 == 1, range(1, 10))"
   ]
  },
  {
   "cell_type": "code",
   "execution_count": 29,
   "metadata": {
    "collapsed": false
   },
   "outputs": [
    {
     "name": "stdout",
     "output_type": "stream",
     "text": [
      "[1, 3, 5, 7, 9]\n"
     ]
    }
   ],
   "source": [
    "print filter2(lambda x : x % 2 == 1, range(1, 10))\n",
    "\n",
    "##### 이것만 쳐도 값은 나오는데 궂이 위 함수처럼 긴 수식을 쓴 이유는???"
   ]
  },
  {
   "cell_type": "code",
   "execution_count": 34,
   "metadata": {
    "collapsed": false,
    "scrolled": true
   },
   "outputs": [
    {
     "name": "stdout",
     "output_type": "stream",
     "text": [
      "[1, 4, 9, 16, 25, 36, 49, 64, 81]\n"
     ]
    }
   ],
   "source": [
    "def map2(func, nums):\n",
    "    ret = []\n",
    "    for i in nums:\n",
    "        try:\n",
    "            ret.append(func(i))\n",
    "        except:\n",
    "            print 'dfafd'\n",
    "            continue\n",
    "    return ret\n",
    "\n",
    "print map2(lambda x : x ** 2, range(1, 10))\n",
    "\n",
    "## 위에 쓰인 수식을 잘 모르겠음"
   ]
  },
  {
   "cell_type": "code",
   "execution_count": null,
   "metadata": {
    "collapsed": true
   },
   "outputs": [],
   "source": [
    "+ 위에 쓰인 수식들 이해 못하는 부분들 많다."
   ]
  },
  {
   "cell_type": "markdown",
   "metadata": {},
   "source": [
    "* 에러 처리 하기 try, except\n",
    " + 예외 상황 발생 시, 적절한 대처를 위해 필요함\n",
    " + 함수 작성시, 발생할 수 있는 에러에 대해 처리하는 것이 좋은 습관임\n"
   ]
  },
  {
   "cell_type": "code",
   "execution_count": 35,
   "metadata": {
    "collapsed": false
   },
   "outputs": [
    {
     "ename": "IndexError",
     "evalue": "list index out of range",
     "output_type": "error",
     "traceback": [
      "\u001b[0;31m---------------------------------------------------------------------------\u001b[0m",
      "\u001b[0;31mIndexError\u001b[0m                                Traceback (most recent call last)",
      "\u001b[0;32m<ipython-input-35-72e5420b9162>\u001b[0m in \u001b[0;36m<module>\u001b[0;34m()\u001b[0m\n\u001b[1;32m      2\u001b[0m \u001b[0mpos\u001b[0m \u001b[1;33m=\u001b[0m \u001b[1;36m5\u001b[0m\u001b[1;33m\u001b[0m\u001b[0m\n\u001b[1;32m      3\u001b[0m \u001b[1;33m\u001b[0m\u001b[0m\n\u001b[0;32m----> 4\u001b[0;31m \u001b[1;32mprint\u001b[0m \u001b[0mnums\u001b[0m\u001b[1;33m[\u001b[0m\u001b[0mpos\u001b[0m\u001b[1;33m]\u001b[0m\u001b[1;33m\u001b[0m\u001b[0m\n\u001b[0m\u001b[1;32m      5\u001b[0m \u001b[1;32mprint\u001b[0m \u001b[0mnums\u001b[0m\u001b[1;33m[\u001b[0m\u001b[1;36m0\u001b[0m\u001b[1;33m]\u001b[0m\u001b[1;33m\u001b[0m\u001b[0m\n",
      "\u001b[0;31mIndexError\u001b[0m: list index out of range"
     ]
    }
   ],
   "source": [
    "nums = [1, 2, 3]\n",
    "pos = 5\n",
    "\n",
    "print nums[pos]\n",
    "print nums[0]"
   ]
  },
  {
   "cell_type": "code",
   "execution_count": 36,
   "metadata": {
    "collapsed": false
   },
   "outputs": [
    {
     "name": "stdout",
     "output_type": "stream",
     "text": [
      "3\n",
      "1\n"
     ]
    }
   ],
   "source": [
    "nums = [1, 2, 3]\n",
    "pos = 2\n",
    "\n",
    "try : \n",
    "    print nums [pos]\n",
    "except:\n",
    "    print 'need a index between 0 and len(nums)-1', 'but got', pos\n",
    "    \n",
    "print nums[0]"
   ]
  },
  {
   "cell_type": "markdown",
   "metadata": {},
   "source": [
    "* finally \n",
    " + 예외 발생 여부에 관계 없이 항상 실행해야할 코드"
   ]
  },
  {
   "cell_type": "code",
   "execution_count": 37,
   "metadata": {
    "collapsed": false
   },
   "outputs": [
    {
     "name": "stdout",
     "output_type": "stream",
     "text": [
      "3\n",
      "task done\n",
      "1\n"
     ]
    }
   ],
   "source": [
    "nums = [1, 2, 3]\n",
    "pos = 2\n",
    "\n",
    "try:\n",
    "    print nums[pos]\n",
    "except:\n",
    "    print 'need a index between 0 and len(nums)-1', 'but got', pos\n",
    "finally:\n",
    "    print 'task done'\n",
    "    \n",
    "print nums[0]\n"
   ]
  },
  {
   "cell_type": "code",
   "execution_count": 43,
   "metadata": {
    "collapsed": false
   },
   "outputs": [
    {
     "name": "stdout",
     "output_type": "stream",
     "text": [
      "Male\n",
      "Female\n",
      "Unknown\n"
     ]
    }
   ],
   "source": [
    "def get_gender(sex = 'Unknown'):\n",
    "    if sex is ('m' or 'male'):\n",
    "        sex = \"Male\"\n",
    "    elif sex is ('f' or 'female'):\n",
    "        sex = \"Female\"\n",
    "    print(sex)\n",
    "    \n",
    "get_gender('m')\n",
    "get_gender('f')\n",
    "get_gender()"
   ]
  },
  {
   "cell_type": "code",
   "execution_count": 45,
   "metadata": {
    "collapsed": false
   },
   "outputs": [
    {
     "name": "stdout",
     "output_type": "stream",
     "text": [
      " 위 함수를 보면 Arguments(인자)에 미리 값이 지정되어 있습니다. 바로 sex = 'Unknown'으로 말이죠. 이 부분이 이번 시간에 주효하게 다룰겁니다. \n",
      "\n",
      "함수를 호출하는 과정에서 인자가 전달되지 않는 함수 호출이 발생하게 되면, 여기에 있는 default값을 인자로 사용해서 함수를 처리한다는 것입니다. 전달될 인자가 'm' or 'male'이라고 판단이 되면 'Male'을 sex라는 변수에 저장하게 합니다. 마찬가지로 만약 'f' or 'female'값이 인자로 들어왓다면 sex 에 'Female'값을 지정하게 합니다. 그리고 sex 값에 어떤값이 있는지 확인하는 print()로 이 함수를 마무리 하였습니다. 이제 이 함수를 호출합니다. \n",
      "\n",
      "결과는 위와 같이 'Male', 'Female', 'Unknown'으로 차례대로 나옵니다. 여기서 주목할 점은 마지막 3번째 결과이겠죠. 인자 전달이 없는데 에러가 발생하지 않고 함수에서 지정한 초기값(default)으로 함수를 처리하고 그 결과를 출력을 해주고 있습니다. 프로그래밍을 하다가 보면 이렇게 초기값을 설정해 두어야 하는 경우가 종종 발생하는데 그럴 경우에 유용하게 사용할 개념입니다.  \n"
     ]
    }
   ],
   "source": [
    "print \" 위 함수를 보면 Arguments(인자)에 미리 값이 지정되어 있습니다. 바로 sex = 'Unknown'으로 말이죠. 이 부분이 이번 시간에 주효하게 다룰겁니다. \\n\\n함수를 호출하는 과정에서 인자가 전달되지 않는 함수 호출이 발생하게 되면, 여기에 있는 default값을 인자로 사용해서 함수를 처리한다는 것입니다. 전달될 인자가 'm' or 'male'이라고 판단이 되면 'Male'을 sex라는 변수에 저장하게 합니다. 마찬가지로 만약 'f' or 'female'값이 인자로 들어왓다면 sex 에 'Female'값을 지정하게 합니다. 그리고 sex 값에 어떤값이 있는지 확인하는 print()로 이 함수를 마무리 하였습니다. 이제 이 함수를 호출합니다. \\n\\n결과는 위와 같이 'Male', 'Female', 'Unknown'으로 차례대로 나옵니다. 여기서 주목할 점은 마지막 3번째 결과이겠죠. 인자 전달이 없는데 에러가 발생하지 않고 함수에서 지정한 초기값(default)으로 함수를 처리하고 그 결과를 출력을 해주고 있습니다. 프로그래밍을 하다가 보면 이렇게 초기값을 설정해 두어야 하는 경우가 종종 발생하는데 그럴 경우에 유용하게 사용할 개념입니다.  \""
   ]
  },
  {
   "cell_type": "markdown",
   "metadata": {},
   "source": [
    "# 지역변수와 전역변수"
   ]
  },
  {
   "cell_type": "code",
   "execution_count": 46,
   "metadata": {
    "collapsed": false
   },
   "outputs": [
    {
     "name": "stdout",
     "output_type": "stream",
     "text": [
      "변수의 범위에는 크게 지역변수와 전역변수가 있다. 지역변수는 특정지역에서만 유효한 경우를 일컬으며, 전역변수는 말 그대로 어디서든 사용 가능한 변수를 말한다. \n"
     ]
    }
   ],
   "source": [
    "print \"변수의 범위에는 크게 지역변수와 전역변수가 있다. 지역변수는 특정지역에서만 유효한 경우를 일컬으며, 전역변수는 말 그대로 어디서든 사용 가능한 변수를 말한다. \""
   ]
  },
  {
   "cell_type": "code",
   "execution_count": 47,
   "metadata": {
    "collapsed": false
   },
   "outputs": [
    {
     "name": "stdout",
     "output_type": "stream",
     "text": [
      "1234\n",
      "1234\n"
     ]
    }
   ],
   "source": [
    "number = 1234\n",
    "\n",
    "def abcd():\n",
    "    print(number)\n",
    "    \n",
    "def xyz():\n",
    "    print(number)\n",
    "    \n",
    "abcd()\n",
    "xyz()\n",
    "\n",
    "# 여기서 1234 라는 변수 number 안의 값을 출력해주고 있는데요 \n",
    "# 이는 변수 number는 전역변수(global)로 정의되어 있기 때문에 아무곳에서나 불러 쓰면 된다는 것입니다. \n",
    "# 그럼 지역변수로 바꾸면 어떻게 될까요?"
   ]
  },
  {
   "cell_type": "code",
   "execution_count": 49,
   "metadata": {
    "collapsed": false
   },
   "outputs": [
    {
     "name": "stdout",
     "output_type": "stream",
     "text": [
      "1234\n"
     ]
    },
    {
     "ename": "NameError",
     "evalue": "global name 'num' is not defined",
     "output_type": "error",
     "traceback": [
      "\u001b[0;31m---------------------------------------------------------------------------\u001b[0m",
      "\u001b[0;31mNameError\u001b[0m                                 Traceback (most recent call last)",
      "\u001b[0;32m<ipython-input-49-4b61bf0e8db1>\u001b[0m in \u001b[0;36m<module>\u001b[0;34m()\u001b[0m\n\u001b[1;32m      7\u001b[0m \u001b[1;33m\u001b[0m\u001b[0m\n\u001b[1;32m      8\u001b[0m \u001b[0mabcd\u001b[0m\u001b[1;33m(\u001b[0m\u001b[1;33m)\u001b[0m\u001b[1;33m\u001b[0m\u001b[0m\n\u001b[0;32m----> 9\u001b[0;31m \u001b[0mxyz\u001b[0m\u001b[1;33m(\u001b[0m\u001b[1;33m)\u001b[0m\u001b[1;33m\u001b[0m\u001b[0m\n\u001b[0m\u001b[1;32m     10\u001b[0m \u001b[1;33m\u001b[0m\u001b[0m\n\u001b[1;32m     11\u001b[0m \u001b[1;31m#함수 밖에서 정의된 number를 함수 안으로 옮겨다 놓았습니다.\u001b[0m\u001b[1;33m\u001b[0m\u001b[1;33m\u001b[0m\u001b[0m\n",
      "\u001b[0;32m<ipython-input-49-4b61bf0e8db1>\u001b[0m in \u001b[0;36mxyz\u001b[0;34m()\u001b[0m\n\u001b[1;32m      4\u001b[0m \u001b[1;33m\u001b[0m\u001b[0m\n\u001b[1;32m      5\u001b[0m \u001b[1;32mdef\u001b[0m \u001b[0mxyz\u001b[0m\u001b[1;33m(\u001b[0m\u001b[1;33m)\u001b[0m\u001b[1;33m:\u001b[0m\u001b[1;33m\u001b[0m\u001b[0m\n\u001b[0;32m----> 6\u001b[0;31m     \u001b[1;32mprint\u001b[0m\u001b[1;33m(\u001b[0m\u001b[0mnum\u001b[0m\u001b[1;33m)\u001b[0m\u001b[1;33m\u001b[0m\u001b[0m\n\u001b[0m\u001b[1;32m      7\u001b[0m \u001b[1;33m\u001b[0m\u001b[0m\n\u001b[1;32m      8\u001b[0m \u001b[0mabcd\u001b[0m\u001b[1;33m(\u001b[0m\u001b[1;33m)\u001b[0m\u001b[1;33m\u001b[0m\u001b[0m\n",
      "\u001b[0;31mNameError\u001b[0m: global name 'num' is not defined"
     ]
    }
   ],
   "source": [
    "def abcd():\n",
    "    num = 1234\n",
    "    print(num)\n",
    "    \n",
    "def xyz():\n",
    "    print(num)\n",
    "    \n",
    "abcd()\n",
    "xyz()\n",
    "\n",
    "#함수 밖에서 정의된 number를 함수 안으로 옮겨다 놓았습니다. \n",
    "#즉 abcd 함수안에 변수 number를 정의하고 출력하게 하였고, \n",
    "#다른 함수는 종전과 마찬가지로 출력만 했습니다.\n"
   ]
  },
  {
   "cell_type": "code",
   "execution_count": 50,
   "metadata": {
    "collapsed": false
   },
   "outputs": [
    {
     "name": "stdout",
     "output_type": "stream",
     "text": [
      "결과에서 오류가 나오고 있습니다. 왜 이럴까요? 그런데 콘솔을 보면 1234라고 하는 숫자가 한번 나오고 있는게 보입니다. 이 결과는 위의 함수 abcd의 결과를 나타내는 것입니다. 무슨말이냐면, 함수 abcd가 호출되었을때 숫자 1234가 할당된 변수 number값을 가지게 되고 이를 출력하게 한 것입니다. 그런다음 함수 xyz가 호출되었는데, 이 때는 출력할 변수 number값을 찾지 못하는 것입니다. 즉 함수 밖에서 선언된 변수는 전역이어서 함수 밖에서든 다른 함수에서든 가져다 쓸 수 있는 값인 반면에, 함수 안에서 선언된 변수(로컬)는 다른 함수에서 가져다 쓸 수가 없다는 것입니다. 요약하자면, 함수안에서 정의된 값은 다른 함수에서 쓸 수가 없다 입니다.\n"
     ]
    }
   ],
   "source": [
    "print \"결과에서 오류가 나오고 있습니다. 왜 이럴까요? 그런데 콘솔을 보면 1234라고 하는 숫자가 한번 나오고 있는게 보입니다. 이 결과는 위의 함수 abcd의 결과를 나타내는 것입니다. 무슨말이냐면, 함수 abcd가 호출되었을때 숫자 1234가 할당된 변수 number값을 가지게 되고 이를 출력하게 한 것입니다. 그런다음 함수 xyz가 호출되었는데, 이 때는 출력할 변수 number값을 찾지 못하는 것입니다. 즉 함수 밖에서 선언된 변수는 전역이어서 함수 밖에서든 다른 함수에서든 가져다 쓸 수 있는 값인 반면에, 함수 안에서 선언된 변수(로컬)는 다른 함수에서 가져다 쓸 수가 없다는 것입니다. 요약하자면, 함수안에서 정의된 값은 다른 함수에서 쓸 수가 없다 입니다.\""
   ]
  },
  {
   "cell_type": "markdown",
   "metadata": {},
   "source": [
    "# 스코핑 룰(Scoping rule)"
   ]
  },
  {
   "cell_type": "code",
   "execution_count": 60,
   "metadata": {
    "collapsed": false
   },
   "outputs": [
    {
     "name": "stdout",
     "output_type": "stream",
     "text": [
      "스코핑 룰은 변수의 생존 범위에 관련된 규칙이라고 말할 수 있습니다. 파이썬에서의 함수는 별도의 이름공간(namespace)을 가지며, 이 이름공간이라는 것은 말 그대로 이름이 모여있는 공간을 말하는 것입니다. \n",
      "\n",
      "예를 들어서, 변수를 선언하면 그 변수의 이름이 이름 공간에 생성됩니다. 파이썬에서 변수명을 가지고 값을 얻어낼 수 있던 것이, 이름 공간에 있는 이름을 가지고 특정 객체에 접근하여 얻어오는 것이였습니다. 이름 공간은 총 3가지의 공간으로 나뉩니다. 함수내부의 공간은 지역(Local)영역이라 하고, 함수 외부의 공간은 전역(Global)영역이라고 하고, 파이썬 자체에서 정의된 공간은 내장(Built-in)영역이라고 할 수 있습니다. 여기서 이름을 검색하는 규칙은 지역, 전역, 내장 순서로 검색한다고 합니다. \n"
     ]
    }
   ],
   "source": [
    "print \"스코핑 룰은 변수의 생존 범위에 관련된 규칙이라고 말할 수 있습니다. 파이썬에서의 함수는 별도의 이름공간(namespace)을 가지며, 이 이름공간이라는 것은 말 그대로 이름이 모여있는 공간을 말하는 것입니다. \\n\\n예를 들어서, 변수를 선언하면 그 변수의 이름이 이름 공간에 생성됩니다. 파이썬에서 변수명을 가지고 값을 얻어낼 수 있던 것이, 이름 공간에 있는 이름을 가지고 특정 객체에 접근하여 얻어오는 것이였습니다. 이름 공간은 총 3가지의 공간으로 나뉩니다. 함수내부의 공간은 지역(Local)영역이라 하고, 함수 외부의 공간은 전역(Global)영역이라고 하고, 파이썬 자체에서 정의된 공간은 내장(Built-in)영역이라고 할 수 있습니다. 여기서 이름을 검색하는 규칙은 지역, 전역, 내장 순서로 검색한다고 합니다. \""
   ]
  },
  {
   "cell_type": "code",
   "execution_count": 62,
   "metadata": {
    "collapsed": false
   },
   "outputs": [
    {
     "name": "stdout",
     "output_type": "stream",
     "text": [
      "10\n"
     ]
    }
   ],
   "source": [
    "n = 10\n",
    "def func(n):\n",
    "    n = n * 10\n",
    "func(n)\n",
    "print n"
   ]
  },
  {
   "cell_type": "code",
   "execution_count": 63,
   "metadata": {
    "collapsed": false
   },
   "outputs": [
    {
     "name": "stdout",
     "output_type": "stream",
     "text": [
      "위 예제에서 n을 10으로 초기화하고, 그 후에 func라는 함수를 정의하였는데 인자 목록에도 n이란 이름을 지닌 인자가 존재함을 알 수 있습니다. 4행에서 함수 func에 n의 값을 넘겨주고, 함수 print로 n의 값을 확인하였더니 여전히 10인걸 보실 수 있습니다. 이는 함수 내부에서 n이란 변수와 함수 외부에 있는 변수 n은 서로 다르기 때문입니다. 함수 내부의 인자 n의 값을 아무리 수정해도 외부에 있는 변수 n의 값은 변하지 않는거죠. 어찌보면, 당연한 상황일지도 모릅니다. 파이썬에서는 global이라는 키워드를 통해서 전역 영역에 있는 변수의 값을 수정할 수 있는데, 아래의 예제를 하나 더 보도록 합니다.\n"
     ]
    }
   ],
   "source": [
    "print \"위 예제에서 n을 10으로 초기화하고, 그 후에 func라는 함수를 정의하였는데 인자 목록에도 n이란 이름을 지닌 인자가 존재함을 알 수 있습니다. 4행에서 함수 func에 n의 값을 넘겨주고, 함수 print로 n의 값을 확인하였더니 여전히 10인걸 보실 수 있습니다. 이는 함수 내부에서 n이란 변수와 함수 외부에 있는 변수 n은 서로 다르기 때문입니다. 함수 내부의 인자 n의 값을 아무리 수정해도 외부에 있는 변수 n의 값은 변하지 않는거죠. 어찌보면, 당연한 상황일지도 모릅니다. 파이썬에서는 global이라는 키워드를 통해서 전역 영역에 있는 변수의 값을 수정할 수 있는데, 아래의 예제를 하나 더 보도록 합니다.\""
   ]
  },
  {
   "cell_type": "code",
   "execution_count": 64,
   "metadata": {
    "collapsed": false
   },
   "outputs": [
    {
     "name": "stdout",
     "output_type": "stream",
     "text": [
      "100\n"
     ]
    }
   ],
   "source": [
    "n = 10\n",
    "def func():\n",
    "    global n\n",
    "n = n * 10\n",
    "func()\n",
    "print n\n",
    "    "
   ]
  },
  {
   "cell_type": "code",
   "execution_count": 65,
   "metadata": {
    "collapsed": false
   },
   "outputs": [
    {
     "name": "stdout",
     "output_type": "stream",
     "text": [
      "위 예제에서 global로 변수 n을 선언하여, 전역 영역에 있는 변수 n의 값에다 10을 곱해버리는 함수 func를 정의한 것을 보실 수 있습니다. 함수 func를 호출하고 나서 내장 함수인 print로 n의 값을 출력하여 보았더니 10이 곱해진 결과를 얻어낼 수 있었습니다. 말씀드리는데, 스코핑 룰에 대한 부분은 반드시 이해를 하고 가야합니다. \n"
     ]
    }
   ],
   "source": [
    "print \"위 예제에서 global로 변수 n을 선언하여, 전역 영역에 있는 변수 n의 값에다 10을 곱해버리는 함수 func를 정의한 것을 보실 수 있습니다. 함수 func를 호출하고 나서 내장 함수인 print로 n의 값을 출력하여 보았더니 10이 곱해진 결과를 얻어낼 수 있었습니다. 말씀드리는데, 스코핑 룰에 대한 부분은 반드시 이해를 하고 가야합니다. \""
   ]
  },
  {
   "cell_type": "markdown",
   "metadata": {},
   "source": [
    "# 가변 인자 목록"
   ]
  },
  {
   "cell_type": "code",
   "execution_count": 66,
   "metadata": {
    "collapsed": false
   },
   "outputs": [
    {
     "name": "stdout",
     "output_type": "stream",
     "text": [
      "우리는 지금까지 고정되어 있는 갯수의 인자만 받아올 수 있었습니다. 하지만, 인자의 갯수가 정해지지 않은 가변 인자를 전달하는 방법이 존재합니다. 그것은 바로 함수 인자 앞에다 * 를 붙이면 된다는 것입니다. \n"
     ]
    }
   ],
   "source": [
    "print \"우리는 지금까지 고정되어 있는 갯수의 인자만 받아올 수 있었습니다. 하지만, 인자의 갯수가 정해지지 않은 가변 인자를 전달하는 방법이 존재합니다. 그것은 바로 함수 인자 앞에다 * 를 붙이면 된다는 것입니다. \""
   ]
  },
  {
   "cell_type": "code",
   "execution_count": null,
   "metadata": {
    "collapsed": true
   },
   "outputs": [],
   "source": [
    "def 함수명(* 인자):\n",
    "    문장\n",
    "    ..."
   ]
  },
  {
   "cell_type": "code",
   "execution_count": 71,
   "metadata": {
    "collapsed": false
   },
   "outputs": [
    {
     "ename": "SyntaxError",
     "evalue": "invalid syntax (<ipython-input-71-4730f019d025>, line 3)",
     "output_type": "error",
     "traceback": [
      "\u001b[0;36m  File \u001b[0;32m\"<ipython-input-71-4730f019d025>\"\u001b[0;36m, line \u001b[0;32m3\u001b[0m\n\u001b[0;31m    print(i, end= ' ')\u001b[0m\n\u001b[0m                ^\u001b[0m\n\u001b[0;31mSyntaxError\u001b[0m\u001b[0;31m:\u001b[0m invalid syntax\n"
     ]
    }
   ],
   "source": [
    "def func(*var1):\n",
    "    for i in var1:\n",
    "        print(i, end= ' ')\n",
    "\n",
    "func(1, 2)"
   ]
  },
  {
   "cell_type": "code",
   "execution_count": 72,
   "metadata": {
    "collapsed": false
   },
   "outputs": [
    {
     "name": "stdout",
     "output_type": "stream",
     "text": [
      "위에서 varl가 튜플 형태로 처리되는 가변 인자 목록이며, 이를 for문으로 순회하여 요소에 접근하여 추력하도록 하는 함수 func를 정의했습니다. 주목할 부분은 4행부터인데, 함수 func에 전달되는 인자의 수가 고정되어있는게 아니라 유동적이라는 것을 볼 수 있다.\n"
     ]
    }
   ],
   "source": [
    "print \"위에서 varl가 튜플 형태로 처리되는 가변 인자 목록이며, 이를 for문으로 순회하여 요소에 접근하여 추력하도록 하는 함수 func를 정의했습니다. 주목할 부분은 4행부터인데, 함수 func에 전달되는 인자의 수가 고정되어있는게 아니라 유동적이라는 것을 볼 수 있다.\""
   ]
  },
  {
   "cell_type": "markdown",
   "metadata": {},
   "source": [
    "# 기본 인자값"
   ]
  },
  {
   "cell_type": "code",
   "execution_count": 74,
   "metadata": {
    "collapsed": false
   },
   "outputs": [
    {
     "name": "stdout",
     "output_type": "stream",
     "text": [
      "함수의 인자에 기본 값을 지정해 줄 수 있습니다. 이는 우리가 직접 인자를 넘겨주지 않으면, 기본으로 설정된 값을 사용하는 것입니다.\n"
     ]
    },
    {
     "data": {
      "text/plain": [
       "30"
      ]
     },
     "execution_count": 74,
     "metadata": {},
     "output_type": "execute_result"
    }
   ],
   "source": [
    "print \"함수의 인자에 기본 값을 지정해 줄 수 있습니다. 이는 우리가 직접 인자를 넘겨주지 않으면, 기본으로 설정된 값을 사용하는 것입니다.\"\n",
    "\n",
    "def mul(a, b = 10):\n",
    "    return a * b\n",
    "\n",
    "mul(3)"
   ]
  },
  {
   "cell_type": "code",
   "execution_count": 75,
   "metadata": {
    "collapsed": false
   },
   "outputs": [
    {
     "data": {
      "text/plain": [
       "20"
      ]
     },
     "execution_count": 75,
     "metadata": {},
     "output_type": "execute_result"
    }
   ],
   "source": [
    "mul(4, 5)"
   ]
  },
  {
   "cell_type": "code",
   "execution_count": 76,
   "metadata": {
    "collapsed": false
   },
   "outputs": [
    {
     "name": "stdout",
     "output_type": "stream",
     "text": [
      "위에서 보시면 함수 mul에서 인자 b의 기본값이 10으로 지정되어 있습니다. 만약 인자 b를 넘겨주지 않으면, 이 인자 b의 값은 기본값을 다른다는 것입니다. 3행처럼 3만 넘겨주면, a에 3이 들어가고 b는 기본값인 10 이 들어가서 30이란 값이 돌아오는 것입니다. 5 ~ 6행은 두 인자 모두 넘겨주었기 때문에 기본값을 따를 필요 없이 두 인자의 값이 곱해져서 20이란 결과가 나온 것입니다. 간단하죠? 한가지 주의할 점이 있다면, 기본값을 사용하려는 인자 뒤에 기본값을 사용하지 않는 인자가 올 수 없다는 것입니다. 이게 어떤 경우인지 아래 예제를 통해 알아봅시다.\n"
     ]
    }
   ],
   "source": [
    "print \"위에서 보시면 함수 mul에서 인자 b의 기본값이 10으로 지정되어 있습니다. 만약 인자 b를 넘겨주지 않으면, 이 인자 b의 값은 기본값을 다른다는 것입니다. 3행처럼 3만 넘겨주면, a에 3이 들어가고 b는 기본값인 10 이 들어가서 30이란 값이 돌아오는 것입니다. 5 ~ 6행은 두 인자 모두 넘겨주었기 때문에 기본값을 따를 필요 없이 두 인자의 값이 곱해져서 20이란 결과가 나온 것입니다. 간단하죠? 한가지 주의할 점이 있다면, 기본값을 사용하려는 인자 뒤에 기본값을 사용하지 않는 인자가 올 수 없다는 것입니다. 이게 어떤 경우인지 아래 예제를 통해 알아봅시다.\""
   ]
  },
  {
   "cell_type": "code",
   "execution_count": 78,
   "metadata": {
    "collapsed": false
   },
   "outputs": [
    {
     "ename": "SyntaxError",
     "evalue": "non-default argument follows default argument (<ipython-input-78-d6980b7da3f7>, line 1)",
     "output_type": "error",
     "traceback": [
      "\u001b[0;36m  File \u001b[0;32m\"<ipython-input-78-d6980b7da3f7>\"\u001b[0;36m, line \u001b[0;32m1\u001b[0m\n\u001b[0;31m    def mul(a = 10, b):\u001b[0m\n\u001b[0;31mSyntaxError\u001b[0m\u001b[0;31m:\u001b[0m non-default argument follows default argument\n"
     ]
    }
   ],
   "source": [
    "def mul(a = 10, b):\n",
    "    return a * b\n",
    "\n",
    "mul(5)"
   ]
  },
  {
   "cell_type": "code",
   "execution_count": 79,
   "metadata": {
    "collapsed": false
   },
   "outputs": [
    {
     "name": "stdout",
     "output_type": "stream",
     "text": [
      "위의 예제에서 에러가 발생한 이유는, 기본값을 지정한 인자 a뒤에 기본값을 지정하지 않은 인자 b가 존재하기 때문입니다. 이는 인자 a에 기본값을 지정하려면, 인자 b에도 기본값을 지정하여야 한다는 것입니다.\n"
     ]
    }
   ],
   "source": [
    "print \"위의 예제에서 에러가 발생한 이유는, 기본값을 지정한 인자 a뒤에 기본값을 지정하지 않은 인자 b가 존재하기 때문입니다. 이는 인자 a에 기본값을 지정하려면, 인자 b에도 기본값을 지정하여야 한다는 것입니다.\""
   ]
  },
  {
   "cell_type": "code",
   "execution_count": null,
   "metadata": {
    "collapsed": true
   },
   "outputs": [],
   "source": []
  }
 ],
 "metadata": {
  "kernelspec": {
   "display_name": "Python 2",
   "language": "python",
   "name": "python2"
  },
  "language_info": {
   "codemirror_mode": {
    "name": "ipython",
    "version": 2
   },
   "file_extension": ".py",
   "mimetype": "text/x-python",
   "name": "python",
   "nbconvert_exporter": "python",
   "pygments_lexer": "ipython2",
   "version": "2.7.12"
  }
 },
 "nbformat": 4,
 "nbformat_minor": 1
}
