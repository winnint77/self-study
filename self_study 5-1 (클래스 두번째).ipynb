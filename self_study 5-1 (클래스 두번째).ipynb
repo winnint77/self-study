{
 "cells": [
  {
   "cell_type": "markdown",
   "metadata": {},
   "source": [
    "# 클래스 네임스페이스"
   ]
  },
  {
   "cell_type": "code",
   "execution_count": 7,
   "metadata": {
    "collapsed": false,
    "scrolled": true
   },
   "outputs": [
    {
     "name": "stdout",
     "output_type": "stream",
     "text": [
      "파이썬은 객체 지향 프로그래밍 언어이다. 이것은 파이썬 언어에서는 모든 것이 어떤 유형의 객체라는 것을 의미한다. 건물을 짓기 위해 벽돌을 사용하듯이, 파이썬에서의 각각의 개체가 모여 프로그램의 일부 또는 전체 프로그램을 이룬다. \n",
      "\n",
      "즉, 객체지향 프로그래밍이란 데이터와 기능을 하나로 묶어서 프로그래밍하는 기법을 말한다. 이러한 첫 클래스가 만들어지면, 그 클래스의 인스턴스를 만들 수 있고, 그 인스턴스는 자기 자신에게 종속된 데이터(멤버 변수)를 포함한다. 또한 그 데이터에 기반한 특정 기능을 수행할 수 있는 메소드(멤버 함수)들도 포함한다. 이런 객체지향 프로그래밍 기법은 간결하면서 유지보수하기 쉬운 코드를 작성하는 데에 도움이 된다. \n",
      "\n",
      "클래스는 class라는 열쇠말을 사용하여 정의한다. 클래스는 함수, 메소드 및 변수를 포함할 수 있다. 메소드는 함수처럼 def 열쇠말을 써서 만들며, 매개변수를 받는다. 메소드와 함수의 유일한 차이점은, 메소드는 메소드가 속한 객체를 참조하는 self 매개변수를 받는다는 점이다. 클래스는 초기화 메소드라는 것을 가지며, 그것은 클래스에 해당하는 개체가 실제로 만들어질 때 자동으로 호출된다.\n"
     ]
    }
   ],
   "source": [
    "print \"파이썬은 객체 지향 프로그래밍 언어이다. 이것은 파이썬 언어에서는 모든 것이 어떤 유형의 객체라는 것을 의미한다. 건물을 짓기 위해 벽돌을 사용하듯이, 파이썬에서의 각각의 개체가 모여 프로그램의 일부 또는 전체 프로그램을 이룬다. \\n\\n즉, 객체지향 프로그래밍이란 데이터와 기능을 하나로 묶어서 프로그래밍하는 기법을 말한다. 이러한 첫 클래스가 만들어지면, 그 클래스의 인스턴스를 만들 수 있고, 그 인스턴스는 자기 자신에게 종속된 데이터(멤버 변수)를 포함한다. 또한 그 데이터에 기반한 특정 기능을 수행할 수 있는 메소드(멤버 함수)들도 포함한다. 이런 객체지향 프로그래밍 기법은 간결하면서 유지보수하기 쉬운 코드를 작성하는 데에 도움이 된다. \\n\\n클래스는 class라는 열쇠말을 사용하여 정의한다. 클래스는 함수, 메소드 및 변수를 포함할 수 있다. 메소드는 함수처럼 def 열쇠말을 써서 만들며, 매개변수를 받는다. 메소드와 함수의 유일한 차이점은, 메소드는 메소드가 속한 객체를 참조하는 self 매개변수를 받는다는 점이다. 클래스는 초기화 메소드라는 것을 가지며, 그것은 클래스에 해당하는 개체가 실제로 만들어질 때 자동으로 호출된다.\""
   ]
  },
  {
   "cell_type": "code",
   "execution_count": 2,
   "metadata": {
    "collapsed": false
   },
   "outputs": [
    {
     "name": "stdout",
     "output_type": "stream",
     "text": [
      "56\n"
     ]
    }
   ],
   "source": [
    "class my_object:\n",
    "    def __init__(self,x, y):\n",
    "        self.x = x\n",
    "        self.y = y\n",
    "    \n",
    "    def mult(self):\n",
    "        print self.x * self.y\n",
    "        \n",
    "    def add(self):\n",
    "        print self.x + self.y\n",
    "        \n",
    "obj1 = my_object(7, 8)\n",
    "obj1.mult()"
   ]
  },
  {
   "cell_type": "code",
   "execution_count": 3,
   "metadata": {
    "collapsed": false,
    "scrolled": true
   },
   "outputs": [
    {
     "name": "stdout",
     "output_type": "stream",
     "text": [
      "15\n"
     ]
    }
   ],
   "source": [
    "obj1.add()"
   ]
  },
  {
   "cell_type": "code",
   "execution_count": 4,
   "metadata": {
    "collapsed": false,
    "scrolled": true
   },
   "outputs": [
    {
     "name": "stdout",
     "output_type": "stream",
     "text": [
      "위 클래스 코드에서 우리는 my_object라는 이름을 가진 클래스를 정의했다. 클래스는 두 개의 매개변수 x와 y를 받는다. 클래스 초기화 메소드의 이름은 __init__()인데, 그것은 클래스에 사용될 수 있는 어떠한 값을 초기화하는 데 쓰인다. 초기화 메소드는 객체를 생성하기 위해서 어떤 값이 클래스로 전달될 수 있는지도 정의한다. \n",
      "\n",
      "클래스 내의 각 메소드와 함수가 self인자를 받는 것을 볼 수 있을 것이다. self인자는 객체 자신을 참조하는데 쓰이는데, 이것을 통해 클래스의 변수 같은 것을 공유할 수 있다. \n",
      "\n",
      "예제에서 x와 y변수는 초기화 메소드 내에서 self.x와 self.y로 이름이 붙여지며, 이것은 그것들이 전체 클래스를 통해 사용될 수 있음을 의미한다. 객체 내의 코드를 가지고 일을 하는 동안 self.x와 self.y와 같은 변수들을 참조할 수 있다. 객체를 만들어 그 이름을 obj1으로 지었다면, 같은 변수들을 obj1.x와 obj1.y로 참조할 수 있을 것이다.\n"
     ]
    }
   ],
   "source": [
    "print \"위 클래스 코드에서 우리는 my_object라는 이름을 가진 클래스를 정의했다. 클래스는 두 개의 매개변수 x와 y를 받는다. 클래스 초기화 메소드의 이름은 __init__()인데, 그것은 클래스에 사용될 수 있는 어떠한 값을 초기화하는 데 쓰인다. 초기화 메소드는 객체를 생성하기 위해서 어떤 값이 클래스로 전달될 수 있는지도 정의한다. \\n\\n클래스 내의 각 메소드와 함수가 self인자를 받는 것을 볼 수 있을 것이다. self인자는 객체 자신을 참조하는데 쓰이는데, 이것을 통해 클래스의 변수 같은 것을 공유할 수 있다. \\n\\n예제에서 x와 y변수는 초기화 메소드 내에서 self.x와 self.y로 이름이 붙여지며, 이것은 그것들이 전체 클래스를 통해 사용될 수 있음을 의미한다. 객체 내의 코드를 가지고 일을 하는 동안 self.x와 self.y와 같은 변수들을 참조할 수 있다. 객체를 만들어 그 이름을 obj1으로 지었다면, 같은 변수들을 obj1.x와 obj1.y로 참조할 수 있을 것이다.\""
   ]
  },
  {
   "cell_type": "code",
   "execution_count": 5,
   "metadata": {
    "collapsed": false,
    "scrolled": true
   },
   "outputs": [
    {
     "name": "stdout",
     "output_type": "stream",
     "text": [
      "보는 바와 같이, 이 클래스는 7과 8값을 전달하여 호출된다. 그 다음에 이 값들은 클래스 초기화 메소드 내에서 x와 y에 할당된다. 우리는 클래스 객체를 obj1이라는 식별자에 할당할 것이다. obj1 식별자는 이제 우리가 넘겨준 값과 함께 my_object()에 대한 참조를 가진다. obj1 식별자는 이제 클래스 내에 정의된 메소드와 함수를 호출하는데 사용할 수 있다. \n"
     ]
    }
   ],
   "source": [
    "print \"보는 바와 같이, 이 클래스는 7과 8값을 전달하여 호출된다. 그 다음에 이 값들은 클래스 초기화 메소드 내에서 x와 y에 할당된다. 우리는 클래스 객체를 obj1이라는 식별자에 할당할 것이다. obj1 식별자는 이제 우리가 넘겨준 값과 함께 my_object()에 대한 참조를 가진다. obj1 식별자는 이제 클래스 내에 정의된 메소드와 함수를 호출하는데 사용할 수 있다. \""
   ]
  },
  {
   "cell_type": "markdown",
   "metadata": {},
   "source": [
    "- ------------------------------------------------"
   ]
  },
  {
   "cell_type": "code",
   "execution_count": 1,
   "metadata": {
    "collapsed": false
   },
   "outputs": [
    {
     "name": "stdout",
     "output_type": "stream",
     "text": [
      "클래스와 인스턴스의 차이를 정확히 이해하는 것은 매우 중요한데 이를 위해서는 네임스페이스라는 개념을 알아야 합니다. 네임스페이스라는 것은 변수가 객체를 binding하고 있을 때 그 둘 사이의 관계를 저장하고 있는 공간을 의미합니다. 예를 들어 'a = 2'라고 했을 때 a라는 변수가 2라는 객체가 저장된 주소를 가지고있는데 그러한 연결 관계가 저장된 공간이 바로 네임 스페이스 입니다.\n"
     ]
    }
   ],
   "source": [
    "print \"클래스와 인스턴스의 차이를 정확히 이해하는 것은 매우 중요한데 이를 위해서는 네임스페이스라는 개념을 알아야 합니다. 네임스페이스라는 것은 변수가 객체를 binding하고 있을 때 그 둘 사이의 관계를 저장하고 있는 공간을 의미합니다. 예를 들어 'a = 2'라고 했을 때 a라는 변수가 2라는 객체가 저장된 주소를 가지고있는데 그러한 연결 관계가 저장된 공간이 바로 네임 스페이스 입니다.\""
   ]
  },
  {
   "cell_type": "code",
   "execution_count": 4,
   "metadata": {
    "collapsed": false
   },
   "outputs": [],
   "source": [
    "class Stock:\n",
    "    market = \"kospi\"\n"
   ]
  },
  {
   "cell_type": "code",
   "execution_count": 5,
   "metadata": {
    "collapsed": false
   },
   "outputs": [
    {
     "data": {
      "text/plain": [
       "['In',\n",
       " 'Out',\n",
       " 'Stock',\n",
       " '_',\n",
       " '_3',\n",
       " '__',\n",
       " '___',\n",
       " '__builtin__',\n",
       " '__builtins__',\n",
       " '__doc__',\n",
       " '__name__',\n",
       " '_dh',\n",
       " '_i',\n",
       " '_i1',\n",
       " '_i2',\n",
       " '_i3',\n",
       " '_i4',\n",
       " '_i5',\n",
       " '_ih',\n",
       " '_ii',\n",
       " '_iii',\n",
       " '_oh',\n",
       " '_sh',\n",
       " 'exit',\n",
       " 'get_ipython',\n",
       " 'quit']"
      ]
     },
     "execution_count": 5,
     "metadata": {},
     "output_type": "execute_result"
    }
   ],
   "source": [
    "dir()"
   ]
  },
  {
   "cell_type": "code",
   "execution_count": 6,
   "metadata": {
    "collapsed": false,
    "scrolled": false
   },
   "outputs": [
    {
     "name": "stdout",
     "output_type": "stream",
     "text": [
      "'Stock'클래스를 정의했습니다. 파이썬 IDLE에서 dir()내장 함수를 호출해보면 위와 같이 리스트로 된 리턴 값을 확인할 수 있는데 여기서 두 개의 언더바로 시작하는 것은 파이썬에서 이미 사용되고 있는 특별한 것들입니다. 이를 제외하고 보면 조금 전 여러분들이 정의했던 Stock 클래스의 이름이 포함된것을 확인할 수 있습니다. \n"
     ]
    }
   ],
   "source": [
    "print \"'Stock'클래스를 정의했습니다. 파이썬 IDLE에서 dir()내장 함수를 호출해보면 위와 같이 리스트로 된 리턴 값을 확인할 수 있는데 여기서 두 개의 언더바로 시작하는 것은 파이썬에서 이미 사용되고 있는 특별한 것들입니다. 이를 제외하고 보면 조금 전 여러분들이 정의했던 Stock 클래스의 이름이 포함된것을 확인할 수 있습니다. \""
   ]
  },
  {
   "cell_type": "code",
   "execution_count": 9,
   "metadata": {
    "collapsed": false,
    "scrolled": true
   },
   "outputs": [
    {
     "data": {
      "text/plain": [
       "<class __main__.Stock at 0x05358618>"
      ]
     },
     "execution_count": 9,
     "metadata": {},
     "output_type": "execute_result"
    }
   ],
   "source": [
    "Stock\n"
   ]
  },
  {
   "cell_type": "code",
   "execution_count": 10,
   "metadata": {
    "collapsed": false
   },
   "outputs": [
    {
     "ename": "NameError",
     "evalue": "name 'Stock1' is not defined",
     "output_type": "error",
     "traceback": [
      "\u001b[0;31m---------------------------------------------------------------------------\u001b[0m",
      "\u001b[0;31mNameError\u001b[0m                                 Traceback (most recent call last)",
      "\u001b[0;32m<ipython-input-10-b5840cf3f11f>\u001b[0m in \u001b[0;36m<module>\u001b[0;34m()\u001b[0m\n\u001b[0;32m----> 1\u001b[0;31m \u001b[0mStock1\u001b[0m\u001b[1;33m\u001b[0m\u001b[0m\n\u001b[0m",
      "\u001b[0;31mNameError\u001b[0m: name 'Stock1' is not defined"
     ]
    }
   ],
   "source": [
    "Stock1"
   ]
  },
  {
   "cell_type": "code",
   "execution_count": 7,
   "metadata": {
    "collapsed": false
   },
   "outputs": [
    {
     "name": "stdout",
     "output_type": "stream",
     "text": [
      "dir() 내장함수의 결괏값에 Stock 클래스는 들어있기 때문에 위의 코드와 같이 프롬프트에 Stock을 입력해도 에러가 발생하지 않습니다. 그러나 Stock1이라는 이름은 존재하지 않기 때문에 입력하면 에러가 발생하게 됩니다.\n"
     ]
    }
   ],
   "source": [
    "print \"dir() 내장함수의 결괏값에 Stock 클래스는 들어있기 때문에 위의 코드와 같이 프롬프트에 Stock을 입력해도 에러가 발생하지 않습니다. 그러나 Stock1이라는 이름은 존재하지 않기 때문에 입력하면 에러가 발생하게 됩니다.\""
   ]
  },
  {
   "cell_type": "code",
   "execution_count": 13,
   "metadata": {
    "collapsed": false
   },
   "outputs": [
    {
     "name": "stdout",
     "output_type": "stream",
     "text": [
      "파이썬에서는 클래스가 정의가 되면 {'market':'kospi'}와 같이 하나의 독립적인 네임 스페이스가 생성됩니다. 그리고 클래스 내에 있는 변수나 메소드는 그 네임 스페이스 안에 파이썬 딕셔너리 타입으로 저장됩니다. 위에서 정의한 Stock 클래스는 Stock 이라는 네임 스페이스 안에 'market':'kospi'라는 값을 가진 딕셔너리를 포함합니다.\n"
     ]
    }
   ],
   "source": [
    "print \"파이썬에서는 클래스가 정의가 되면 {'market':'kospi'}와 같이 하나의 독립적인 네임 스페이스가 생성됩니다. 그리고 클래스 내에 있는 변수나 메소드는 그 네임 스페이스 안에 파이썬 딕셔너리 타입으로 저장됩니다. 위에서 정의한 Stock 클래스는 Stock 이라는 네임 스페이스 안에 'market':'kospi'라는 값을 가진 딕셔너리를 포함합니다.\""
   ]
  },
  {
   "cell_type": "code",
   "execution_count": 14,
   "metadata": {
    "collapsed": false
   },
   "outputs": [
    {
     "data": {
      "text/plain": [
       "{'__doc__': None, '__module__': '__main__', 'market': 'kospi'}"
      ]
     },
     "execution_count": 14,
     "metadata": {},
     "output_type": "execute_result"
    }
   ],
   "source": [
    "Stock.__dict__"
   ]
  },
  {
   "cell_type": "code",
   "execution_count": 15,
   "metadata": {
    "collapsed": false
   },
   "outputs": [
    {
     "name": "stdout",
     "output_type": "stream",
     "text": [
      "Stock 클래스의 네임 스페이스를 파이썬 코드에서 확인하려면 위와 같이 클래스의 dict 속성을 확인하면 됩니다. 위의 코드를 살펴보면 딕셔너리 타입에 'market': 'kospi'라는 키와 값 쌍이 존재하는 것을 확인할 수 있습니다. \n"
     ]
    }
   ],
   "source": [
    "print \"Stock 클래스의 네임 스페이스를 파이썬 코드에서 확인하려면 위와 같이 클래스의 dict 속성을 확인하면 됩니다. 위의 코드를 살펴보면 딕셔너리 타입에 'market': 'kospi'라는 키와 값 쌍이 존재하는 것을 확인할 수 있습니다. \""
   ]
  },
  {
   "cell_type": "code",
   "execution_count": 16,
   "metadata": {
    "collapsed": false
   },
   "outputs": [
    {
     "data": {
      "text/plain": [
       "'kospi'"
      ]
     },
     "execution_count": 16,
     "metadata": {},
     "output_type": "execute_result"
    }
   ],
   "source": [
    "Stock.market"
   ]
  },
  {
   "cell_type": "code",
   "execution_count": 17,
   "metadata": {
    "collapsed": false
   },
   "outputs": [
    {
     "name": "stdout",
     "output_type": "stream",
     "text": [
      "클래스가 독립적으로 네임 스페이스를 가지고 클래스 내의 변수나 메소드에 대해 네임 스페이스에 저장하고 있으므로 다음과 같이 클래스 내의 변수에 접근할 수 있는 것입니다. \n"
     ]
    }
   ],
   "source": [
    "print \"클래스가 독립적으로 네임 스페이스를 가지고 클래스 내의 변수나 메소드에 대해 네임 스페이스에 저장하고 있으므로 다음과 같이 클래스 내의 변수에 접근할 수 있는 것입니다. \""
   ]
  },
  {
   "cell_type": "code",
   "execution_count": 20,
   "metadata": {
    "collapsed": false
   },
   "outputs": [
    {
     "data": {
      "text/plain": [
       "87448112"
      ]
     },
     "execution_count": 20,
     "metadata": {},
     "output_type": "execute_result"
    }
   ],
   "source": [
    "s1 = Stock()\n",
    "s2 = Stock()\n",
    "id(s1)\n"
   ]
  },
  {
   "cell_type": "code",
   "execution_count": 21,
   "metadata": {
    "collapsed": false
   },
   "outputs": [
    {
     "data": {
      "text/plain": [
       "87449312"
      ]
     },
     "execution_count": 21,
     "metadata": {},
     "output_type": "execute_result"
    }
   ],
   "source": [
    "id(s2)"
   ]
  },
  {
   "cell_type": "code",
   "execution_count": 22,
   "metadata": {
    "collapsed": false
   },
   "outputs": [
    {
     "name": "stdout",
     "output_type": "stream",
     "text": [
      "이번에는 인스턴스를 생성해보도록 하겠습니다. 위의 코드와 같이 서로 다른 두 개의 인스턴스를 생성해보기 바랍니다. 생성된 인스턴스에 대한 id 값을 확인해보면 두 인스턴스가 서로 다른 메모리에 위치함을 확인할 수 있습니다. 파이썬은 인스턴스를 생성하면 인스턴스별로 별도의 네임 스페이스를 가집니다.\n"
     ]
    }
   ],
   "source": [
    "print \"이번에는 인스턴스를 생성해보도록 하겠습니다. 위의 코드와 같이 서로 다른 두 개의 인스턴스를 생성해보기 바랍니다. 생성된 인스턴스에 대한 id 값을 확인해보면 두 인스턴스가 서로 다른 메모리에 위치함을 확인할 수 있습니다. 파이썬은 인스턴스를 생성하면 인스턴스별로 별도의 네임 스페이스를 가집니다.\""
   ]
  },
  {
   "cell_type": "code",
   "execution_count": 23,
   "metadata": {
    "collapsed": false
   },
   "outputs": [
    {
     "data": {
      "text/plain": [
       "['In',\n",
       " 'Out',\n",
       " 'Stock',\n",
       " '_',\n",
       " '_14',\n",
       " '_16',\n",
       " '_18',\n",
       " '_20',\n",
       " '_21',\n",
       " '_3',\n",
       " '_5',\n",
       " '_9',\n",
       " '__',\n",
       " '___',\n",
       " '__builtin__',\n",
       " '__builtins__',\n",
       " '__doc__',\n",
       " '__name__',\n",
       " '_dh',\n",
       " '_i',\n",
       " '_i1',\n",
       " '_i10',\n",
       " '_i11',\n",
       " '_i12',\n",
       " '_i13',\n",
       " '_i14',\n",
       " '_i15',\n",
       " '_i16',\n",
       " '_i17',\n",
       " '_i18',\n",
       " '_i19',\n",
       " '_i2',\n",
       " '_i20',\n",
       " '_i21',\n",
       " '_i22',\n",
       " '_i23',\n",
       " '_i3',\n",
       " '_i4',\n",
       " '_i5',\n",
       " '_i6',\n",
       " '_i7',\n",
       " '_i8',\n",
       " '_i9',\n",
       " '_ih',\n",
       " '_ii',\n",
       " '_iii',\n",
       " '_oh',\n",
       " '_sh',\n",
       " 'exit',\n",
       " 'get_ipython',\n",
       " 'quit',\n",
       " 's1',\n",
       " 's2']"
      ]
     },
     "execution_count": 23,
     "metadata": {},
     "output_type": "execute_result"
    }
   ],
   "source": [
    "dir()"
   ]
  },
  {
   "cell_type": "code",
   "execution_count": 24,
   "metadata": {
    "collapsed": false
   },
   "outputs": [
    {
     "name": "stdout",
     "output_type": "stream",
     "text": [
      "먼저 생성된 s1, s2 인스턴스가 네임 스페이스에 있는지 코드를 통해 확인해 봅시다. dir() 내장함수의 리턴값을 확인하면 s1, s2가 Stock과 마찬가지로 존재함을 확인할 수 있습니다. 생성된 s1, s2 인스턴스의 각각에 대한 네임 스페이스도 확인해보도록 합시다. 클래스 또는 인스턴스에 대한 네임 스페이스의 확인은 dict 속성을 확인하면 됩니다. \n"
     ]
    }
   ],
   "source": [
    "print \"먼저 생성된 s1, s2 인스턴스가 네임 스페이스에 있는지 코드를 통해 확인해 봅시다. dir() 내장함수의 리턴값을 확인하면 s1, s2가 Stock과 마찬가지로 존재함을 확인할 수 있습니다. 생성된 s1, s2 인스턴스의 각각에 대한 네임 스페이스도 확인해보도록 합시다. 클래스 또는 인스턴스에 대한 네임 스페이스의 확인은 dict 속성을 확인하면 됩니다. \""
   ]
  },
  {
   "cell_type": "code",
   "execution_count": 25,
   "metadata": {
    "collapsed": false
   },
   "outputs": [
    {
     "data": {
      "text/plain": [
       "{}"
      ]
     },
     "execution_count": 25,
     "metadata": {},
     "output_type": "execute_result"
    }
   ],
   "source": [
    "s1.__dict__"
   ]
  },
  {
   "cell_type": "code",
   "execution_count": 26,
   "metadata": {
    "collapsed": false
   },
   "outputs": [
    {
     "data": {
      "text/plain": [
       "{}"
      ]
     },
     "execution_count": 26,
     "metadata": {},
     "output_type": "execute_result"
    }
   ],
   "source": [
    "s2.__dict__"
   ]
  },
  {
   "cell_type": "code",
   "execution_count": 27,
   "metadata": {
    "collapsed": false
   },
   "outputs": [
    {
     "name": "stdout",
     "output_type": "stream",
     "text": [
      "위의 코드를 보면 s1과 s2 인스턴스의 네임 스페이스는 현재 비어 있는 것을 확인할 수 있습니다. s1 인스턴스에 market이라는 변수를 추가해 봅시다. 그런 후 다시 dict 속성을 확인해 보면 'market': 'kospi'이라는 키:값 쌍이 딕셔너리에 추가된 것을 볼 수 있습니다.\n"
     ]
    }
   ],
   "source": [
    "print \"위의 코드를 보면 s1과 s2 인스턴스의 네임 스페이스는 현재 비어 있는 것을 확인할 수 있습니다. s1 인스턴스에 market이라는 변수를 추가해 봅시다. 그런 후 다시 dict 속성을 확인해 보면 'market': 'kospi'이라는 키:값 쌍이 딕셔너리에 추가된 것을 볼 수 있습니다.\""
   ]
  },
  {
   "cell_type": "code",
   "execution_count": 28,
   "metadata": {
    "collapsed": false
   },
   "outputs": [
    {
     "data": {
      "text/plain": [
       "{'market': 'kosdak'}"
      ]
     },
     "execution_count": 28,
     "metadata": {},
     "output_type": "execute_result"
    }
   ],
   "source": [
    "s1.market = 'kosdak'\n",
    "s1.__dict__"
   ]
  },
  {
   "cell_type": "code",
   "execution_count": 29,
   "metadata": {
    "collapsed": false
   },
   "outputs": [
    {
     "name": "stdout",
     "output_type": "stream",
     "text": [
      "그러나 여전히 s2 이스턴스의 네임 스페이스는 비어 있는 상태입니다. 여러분은 현재 Stock 클래스로부터 s1, s2라는 두 개의 인스턴스를 생성했습니다. s1 인스턴스는 market이라는 변수를 가지고 있지만, s2의 네임 스페이스에는 변수나 메소드가 존재하지 않습니다. 만약 s1.market, s2.market과 같이 인스턴스를 통해서 market이라는 값에 접근하면 어떻게 될가요?\n"
     ]
    }
   ],
   "source": [
    "print \"그러나 여전히 s2 이스턴스의 네임 스페이스는 비어 있는 상태입니다. 여러분은 현재 Stock 클래스로부터 s1, s2라는 두 개의 인스턴스를 생성했습니다. s1 인스턴스는 market이라는 변수를 가지고 있지만, s2의 네임 스페이스에는 변수나 메소드가 존재하지 않습니다. 만약 s1.market, s2.market과 같이 인스턴스를 통해서 market이라는 값에 접근하면 어떻게 될가요?\""
   ]
  },
  {
   "cell_type": "code",
   "execution_count": 30,
   "metadata": {
    "collapsed": false
   },
   "outputs": [
    {
     "data": {
      "text/plain": [
       "'kosdak'"
      ]
     },
     "execution_count": 30,
     "metadata": {},
     "output_type": "execute_result"
    }
   ],
   "source": [
    "s1.market"
   ]
  },
  {
   "cell_type": "code",
   "execution_count": 31,
   "metadata": {
    "collapsed": false
   },
   "outputs": [
    {
     "data": {
      "text/plain": [
       "'kospi'"
      ]
     },
     "execution_count": 31,
     "metadata": {},
     "output_type": "execute_result"
    }
   ],
   "source": [
    "s2.market"
   ]
  },
  {
   "cell_type": "code",
   "execution_count": 32,
   "metadata": {
    "collapsed": false
   },
   "outputs": [
    {
     "name": "stdout",
     "output_type": "stream",
     "text": [
      "위의 코드를 참조하면 s1.market의 값은 'kosdak'입니다. 이것은 s1 인스턴스의 네임 스페이스에 'market': 'kosdak'이라는 키:값 쌍이 존재하기 때문에 가능합니다. 그런데 s2 인스턴스의 리턴 값을 살펴보면 조금 이상합니다. 왜냐하면, 현재 s2의 네임 스페이스(딕셔너리)에는 아무런 값도 존재하지 않기 때문입니다. s2의 네임 스페이스에는 변수나 메소드가 존재하지 않지만 s2.market의 값으로 'kospi 라는 문자열이 리턴되는 이유는 인스턴스의 네임 스페이스에 해당 이름이 없으므로 클래스의 네임 스페이스로 이동한 것입니다.\n"
     ]
    }
   ],
   "source": [
    "print \"위의 코드를 참조하면 s1.market의 값은 'kosdak'입니다. 이것은 s1 인스턴스의 네임 스페이스에 'market': 'kosdak'이라는 키:값 쌍이 존재하기 때문에 가능합니다. 그런데 s2 인스턴스의 리턴 값을 살펴보면 조금 이상합니다. 왜냐하면, 현재 s2의 네임 스페이스(딕셔너리)에는 아무런 값도 존재하지 않기 때문입니다. s2의 네임 스페이스에는 변수나 메소드가 존재하지 않지만 s2.market의 값으로 'kospi 라는 문자열이 리턴되는 이유는 인스턴스의 네임 스페이스에 해당 이름이 없으므로 클래스의 네임 스페이스로 이동한 것입니다.\""
   ]
  },
  {
   "cell_type": "code",
   "execution_count": 34,
   "metadata": {
    "collapsed": false
   },
   "outputs": [
    {
     "name": "stdout",
     "output_type": "stream",
     "text": [
      "s2 인스턴스를 통해서 변수에 접근하면 파이썬은 먼저 s2 인스턴스의 네임 스페이스에서 해당 변수가 존재하는지를 찾습니다. 만약 s2의 네임 스페이스에 해당 변수가 존재하지 않으면 s2 인스턴스의 클래스의 네임 스페이스로 가서 다시 변수를 찾게 됩니다. 즉, s2.market 이라는 문장은 Stock 클래스의 네임 스페이스에 있는 'market': 'kosdak' 키:값 쌍에서 'kospi'라는 문자열을 출력하게 된 것입니다.\n"
     ]
    }
   ],
   "source": [
    "print \"s2 인스턴스를 통해서 변수에 접근하면 파이썬은 먼저 s2 인스턴스의 네임 스페이스에서 해당 변수가 존재하는지를 찾습니다. 만약 s2의 네임 스페이스에 해당 변수가 존재하지 않으면 s2 인스턴스의 클래스의 네임 스페이스로 가서 다시 변수를 찾게 됩니다. 즉, s2.market 이라는 문장은 Stock 클래스의 네임 스페이스에 있는 'market': 'kosdak' 키:값 쌍에서 'kospi'라는 문자열을 출력하게 된 것입니다.\""
   ]
  },
  {
   "cell_type": "code",
   "execution_count": 35,
   "metadata": {
    "collapsed": false
   },
   "outputs": [
    {
     "ename": "AttributeError",
     "evalue": "Stock instance has no attribute 'volume'",
     "output_type": "error",
     "traceback": [
      "\u001b[0;31m---------------------------------------------------------------------------\u001b[0m",
      "\u001b[0;31mAttributeError\u001b[0m                            Traceback (most recent call last)",
      "\u001b[0;32m<ipython-input-35-222088ebc6ed>\u001b[0m in \u001b[0;36m<module>\u001b[0;34m()\u001b[0m\n\u001b[0;32m----> 1\u001b[0;31m \u001b[0ms2\u001b[0m\u001b[1;33m.\u001b[0m\u001b[0mvolume\u001b[0m\u001b[1;33m\u001b[0m\u001b[0m\n\u001b[0m",
      "\u001b[0;31mAttributeError\u001b[0m: Stock instance has no attribute 'volume'"
     ]
    }
   ],
   "source": [
    "s2.volume"
   ]
  },
  {
   "cell_type": "code",
   "execution_count": 36,
   "metadata": {
    "collapsed": false
   },
   "outputs": [
    {
     "name": "stdout",
     "output_type": "stream",
     "text": [
      " 그렇다면 위와같이 인스턴스의 네임 스페이스에도 없고 클래스의 네임 스페이스에도 없는 변수에 접근해보도록 합시다. 이 경우 volume이라는 값이 s2 인스턴스의 네임 스페이스에 없으므로 Stock 클래스에서 찾게 되는데 Stock 클래스의 네임 스페이스에도 역시 volume 이라는 값이 없으므로 에러가 발생한 것입니다.\n"
     ]
    }
   ],
   "source": [
    "print \" 그렇다면 위와같이 인스턴스의 네임 스페이스에도 없고 클래스의 네임 스페이스에도 없는 변수에 접근해보도록 합시다. 이 경우 volume이라는 값이 s2 인스턴스의 네임 스페이스에 없으므로 Stock 클래스에서 찾게 되는데 Stock 클래스의 네임 스페이스에도 역시 volume 이라는 값이 없으므로 에러가 발생한 것입니다.\""
   ]
  },
  {
   "cell_type": "markdown",
   "metadata": {},
   "source": [
    "# 클래스 변수와 인스턴스 변수"
   ]
  },
  {
   "cell_type": "code",
   "execution_count": 37,
   "metadata": {
    "collapsed": true
   },
   "outputs": [],
   "source": [
    "class Account:\n",
    "    num_accounts = 0\n",
    "    def __init__(self, name):\n",
    "        self.name = name\n",
    "        Account.num_accounts += 1\n",
    "    def __del__(self):\n",
    "        Account.num_accounts -= 1"
   ]
  },
  {
   "cell_type": "code",
   "execution_count": 1,
   "metadata": {
    "collapsed": false
   },
   "outputs": [
    {
     "name": "stdout",
     "output_type": "stream",
     "text": [
      "클래스 변수와 인스턴스 변수에 대해서 배워보도록 하겠습니다. 위의 코드는 은행 계좌를 클래스로 표현한 것입니다. 위의 코드를 살펴보면 우선 생성자와 소멸자가 있습니다. 생성자 (init)가 클래스의 인스턴스가 생성될 때 자동으로 호출되는 함수라면 소멸자 (del)는 클래스의 인스턴스가 소멸될 때 자동으로 호출되는 함수입니다.\n"
     ]
    }
   ],
   "source": [
    "print \"클래스 변수와 인스턴스 변수에 대해서 배워보도록 하겠습니다. 위의 코드는 은행 계좌를 클래스로 표현한 것입니다. 위의 코드를 살펴보면 우선 생성자와 소멸자가 있습니다. 생성자 (init)가 클래스의 인스턴스가 생성될 때 자동으로 호출되는 함수라면 소멸자 (del)는 클래스의 인스턴스가 소멸될 때 자동으로 호출되는 함수입니다.\""
   ]
  },
  {
   "cell_type": "code",
   "execution_count": 2,
   "metadata": {
    "collapsed": false
   },
   "outputs": [
    {
     "name": "stdout",
     "output_type": "stream",
     "text": [
      "위의 Account 클래스에는 num_accounts와 self.name이라는 두 종류의 변수가 존재합니다. num_accounts와 같이 클래스 내부에 선언된 변수를 클래스 변수라 부르며, self.name과 같이 self가 붙어 있는 변수를 인스턴스 변수라고 부릅니다. 클래스 변수는 Account 클래스의 네임 스페이스에 위치하게 되며, self.name과 같은 인스턴스 변수는 인스턴스의 네임 스페이스에 위치하게 됩니다. \n",
      "\n",
      "그렇다면 언제 클래스 변수를 사용해야 하고 언제 인스턴스 변수를 사용해야 할까요? 이에 대한 답은 예제 코드를 작성해보면서 천천히 설명하겠습니다. 여러분들이 은행에 가서 새 계좌를 개설하면 새 계좌가 개설됩니다. 이러한 상황을 파이썬으로 표현하면 아래의 코드와 같이 Account 클래스의 인스턴스를 생성하는 것입니다. \n"
     ]
    }
   ],
   "source": [
    "print \"위의 Account 클래스에는 num_accounts와 self.name이라는 두 종류의 변수가 존재합니다. num_accounts와 같이 클래스 내부에 선언된 변수를 클래스 변수라 부르며, self.name과 같이 self가 붙어 있는 변수를 인스턴스 변수라고 부릅니다. 클래스 변수는 Account 클래스의 네임 스페이스에 위치하게 되며, self.name과 같은 인스턴스 변수는 인스턴스의 네임 스페이스에 위치하게 됩니다. \\n\\n그렇다면 언제 클래스 변수를 사용해야 하고 언제 인스턴스 변수를 사용해야 할까요? 이에 대한 답은 예제 코드를 작성해보면서 천천히 설명하겠습니다. 여러분들이 은행에 가서 새 계좌를 개설하면 새 계좌가 개설됩니다. 이러한 상황을 파이썬으로 표현하면 아래의 코드와 같이 Account 클래스의 인스턴스를 생성하는 것입니다. \""
   ]
  },
  {
   "cell_type": "code",
   "execution_count": 4,
   "metadata": {
    "collapsed": false
   },
   "outputs": [
    {
     "data": {
      "text/plain": [
       "'kim'"
      ]
     },
     "execution_count": 4,
     "metadata": {},
     "output_type": "execute_result"
    }
   ],
   "source": [
    "class Account:\n",
    "    num_accounts = 0\n",
    "    def __init__(self, name):\n",
    "        self.name = name\n",
    "        Account.num_accounts += 1\n",
    "    def __del__(self):\n",
    "        Account.num_accounts -= 1\n",
    "\n",
    "kim = Account(\"kim\")\n",
    "lee = Account(\"lee\")\n",
    "kim.name"
   ]
  },
  {
   "cell_type": "code",
   "execution_count": 5,
   "metadata": {
    "collapsed": false
   },
   "outputs": [
    {
     "data": {
      "text/plain": [
       "'lee'"
      ]
     },
     "execution_count": 5,
     "metadata": {},
     "output_type": "execute_result"
    }
   ],
   "source": [
    "lee.name"
   ]
  },
  {
   "cell_type": "code",
   "execution_count": 9,
   "metadata": {
    "collapsed": false
   },
   "outputs": [
    {
     "name": "stdout",
     "output_type": "stream",
     "text": [
      "생성된 kim과 lee 인스턴스에 계좌 소유자 정보가 제대로 저장되어 있는지 확인해보도록 합시다. 각 계좌에 대한 소유자 정보는 인스턴스 변수인    name이 바인딩하고 있습니다. \n",
      "\n",
      "그렇다면 지금까지 은행에서 개설된 계좌는 총 몇 개일까요? 네 정답은    'kim'과 'lee'에게 하나씩 개설됐기 때문에 두 개 이겠죠? 위의 코드와 같이 kim 인스턴스나 lee 인스턴스를 통해서 num_account라는 이름에 접근하면 총 계좌 개설 개수가 2개로 나오는 것을 알 수 있습니다. 물론 지금까지 공부를 잘 해오신 분들은 kim.num_account에서 먼저 인스턴스의 네임 스페이스에서 num_account를 찾았지만, 해당 이름이 없어서 클래스의 네임 스페이스로 이동한 후 다시 해당 이름을 찾았고 그 값이 리턴된 것을 아실 것입니다. \n",
      "\n",
      "위와 같이 여러 인스턴스 간에 서로 공유되어야 하는 값들은 클래스 변수를 통해 바인딩해야 합니다. 왜냐하면, 파이썬은 인스턴스의 네임 스페이스에 없는 이름은 클래스의 네임 스페이스에서 찾아 보기 때문에 이러한 특성을 아용하면 클래스의 변수가 모든 인스턴스에 공유될 수 있기 때문입니다. 참고로 클래스 변수에 접근할 때 아래와 같이 클래스 이름을 이용할 수도 있습니다.\n"
     ]
    }
   ],
   "source": [
    "print \"생성된 kim과 lee 인스턴스에 계좌 소유자 정보가 제대로 저장되어 있는지 확인해보도록 합시다. 각 계좌에 대한 소유자 정보는 인스턴스 변수인    name이 바인딩하고 있습니다. \\n\\n그렇다면 지금까지 은행에서 개설된 계좌는 총 몇 개일까요? 네 정답은    'kim'과 'lee'에게 하나씩 개설됐기 때문에 두 개 이겠죠? 위의 코드와 같이 kim 인스턴스나 lee 인스턴스를 통해서 num_account라는 이름에 접근하면 총 계좌 개설 개수가 2개로 나오는 것을 알 수 있습니다. 물론 지금까지 공부를 잘 해오신 분들은 kim.num_account에서 먼저 인스턴스의 네임 스페이스에서 num_account를 찾았지만, 해당 이름이 없어서 클래스의 네임 스페이스로 이동한 후 다시 해당 이름을 찾았고 그 값이 리턴된 것을 아실 것입니다. \\n\\n위와 같이 여러 인스턴스 간에 서로 공유되어야 하는 값들은 클래스 변수를 통해 바인딩해야 합니다. 왜냐하면, 파이썬은 인스턴스의 네임 스페이스에 없는 이름은 클래스의 네임 스페이스에서 찾아 보기 때문에 이러한 특성을 아용하면 클래스의 변수가 모든 인스턴스에 공유될 수 있기 때문입니다. 참고로 클래스 변수에 접근할 때 아래와 같이 클래스 이름을 이용할 수도 있습니다.\""
   ]
  },
  {
   "cell_type": "code",
   "execution_count": 7,
   "metadata": {
    "collapsed": false
   },
   "outputs": [
    {
     "data": {
      "text/plain": [
       "2"
      ]
     },
     "execution_count": 7,
     "metadata": {},
     "output_type": "execute_result"
    }
   ],
   "source": [
    "Account.num_accounts"
   ]
  },
  {
   "cell_type": "code",
   "execution_count": 12,
   "metadata": {
    "collapsed": false
   },
   "outputs": [
    {
     "name": "stdout",
     "output_type": "stream",
     "text": [
      "따라서 Account(class object)는 {'num_accounts':0}의 값을 갖고 kim(instance)는 {'name':'kim'} lee(instance)는 {'name':'lee'}의 값을 갖습니다. \n"
     ]
    }
   ],
   "source": [
    "print \"따라서 Account(class object)는 {'num_accounts':0}의 값을 갖고 kim(instance)는 {'name':'kim'} lee(instance)는 {'name':'lee'}의 값을 갖습니다. \""
   ]
  },
  {
   "cell_type": "markdown",
   "metadata": {},
   "source": [
    "# 클래스상속"
   ]
  },
  {
   "cell_type": "code",
   "execution_count": 13,
   "metadata": {
    "collapsed": false
   },
   "outputs": [
    {
     "name": "stdout",
     "output_type": "stream",
     "text": [
      "상속이란 사람이 사망함에 따라 사망자의 재산 및 신분상의 지위에 대한 포괄적인 승계를 의미합니다. 드라마에서 보면 부모님으로부터 많은 재산을 상속바받은 사람들을 종종 볼 수 있죠? 상속하는 사람 입장은 잘 모르겠지만, 상속자들은 분명 상속받지 않은 경우보다 대부분 좋은 경우가 많을 것 입니다. 특히 많은재산을 상속받는 경우라면 더욱 좋겠죠? \n",
      "\n",
      "저자가 프로그래밍 책에서 갑자기 상속 이야기를 한 이유는 객체 지향 프로그래밍을 지원하는 프로그래밍 언어들은 클래스를 통한 상속 기능을 지원하기 때문입니다. 자식이 부모님으로부터 재산 등을 상속받는 것처럼 다른 클래스에 구현된 메소드나 속성값들을 상속받는 클래스에서 그대로 사용 할 수 있게 됩니다. \n",
      "\n",
      "클래스의 상속을 또 다른 관점에서 생각을 해보면 클래스를 상속한다는 것은 부모클래스의 능력을 그대로 전달받는 것을 의미합니다. 인간으로 치면 부모로부터 유전형질을 물려받아 부모의 능력도 그대로 물려 받는 것과 비슷합니다. 일단 노래를 잘 부르는 부모 클래스가 있다고 생각해 봅시다. 이를 파이썬으로 정의해 보면 아래 코드처럼 노래를 부르는 메소드를 포함하는 클래스를 정의해 볼 수 있을 것 같습니다.\n"
     ]
    }
   ],
   "source": [
    "print \"상속이란 사람이 사망함에 따라 사망자의 재산 및 신분상의 지위에 대한 포괄적인 승계를 의미합니다. 드라마에서 보면 부모님으로부터 많은 재산을 상속바받은 사람들을 종종 볼 수 있죠? 상속하는 사람 입장은 잘 모르겠지만, 상속자들은 분명 상속받지 않은 경우보다 대부분 좋은 경우가 많을 것 입니다. 특히 많은재산을 상속받는 경우라면 더욱 좋겠죠? \\n\\n저자가 프로그래밍 책에서 갑자기 상속 이야기를 한 이유는 객체 지향 프로그래밍을 지원하는 프로그래밍 언어들은 클래스를 통한 상속 기능을 지원하기 때문입니다. 자식이 부모님으로부터 재산 등을 상속받는 것처럼 다른 클래스에 구현된 메소드나 속성값들을 상속받는 클래스에서 그대로 사용 할 수 있게 됩니다. \\n\\n클래스의 상속을 또 다른 관점에서 생각을 해보면 클래스를 상속한다는 것은 부모클래스의 능력을 그대로 전달받는 것을 의미합니다. 인간으로 치면 부모로부터 유전형질을 물려받아 부모의 능력도 그대로 물려 받는 것과 비슷합니다. 일단 노래를 잘 부르는 부모 클래스가 있다고 생각해 봅시다. 이를 파이썬으로 정의해 보면 아래 코드처럼 노래를 부르는 메소드를 포함하는 클래스를 정의해 볼 수 있을 것 같습니다.\""
   ]
  },
  {
   "cell_type": "code",
   "execution_count": 16,
   "metadata": {
    "collapsed": false
   },
   "outputs": [
    {
     "name": "stdout",
     "output_type": "stream",
     "text": [
      "Sing a song\n"
     ]
    }
   ],
   "source": [
    "class Parent:\n",
    "    def can_sing(self):\n",
    "        print \"Sing a song\"\n",
    "        \n",
    "father = Parent()\n",
    "father.can_sing()"
   ]
  },
  {
   "cell_type": "code",
   "execution_count": 17,
   "metadata": {
    "collapsed": false
   },
   "outputs": [
    {
     "name": "stdout",
     "output_type": "stream",
     "text": [
      "Parent 클래스를 정의했으니 클래스의 인스턴스를 생성해 보도록 하겠습니다. 그리고 노래를 정말 하 수 있는지 메소드를 호출해 확인해 보도록 하겠습니다. \n",
      "\n",
      "이번에는 노래를 잘 부르는 Parent 클래스로부터 상속받은 운이 좋은 자식 클래스를 정의해 봅시다. 클래스의 이름은 LuckyChild라고 하겠습니다. 클래스를 정의할 때 다른 클래스로부터 상속을 받고자 한다면 아래 코드와 같이 새로 정의할 클래스 이름 다음에 괄호를 사용하여 상속받고자 하는 클래스의 이름을 적어주면 됩니다. LuckyChild 클래스는 상속받기 전까지는 아무런능력이 없어서 내부에 메소드를 구현하지 않고 pass만을 적어 주었습니다.\n"
     ]
    }
   ],
   "source": [
    "print \"Parent 클래스를 정의했으니 클래스의 인스턴스를 생성해 보도록 하겠습니다. 그리고 노래를 정말 하 수 있는지 메소드를 호출해 확인해 보도록 하겠습니다. \\n\\n이번에는 노래를 잘 부르는 Parent 클래스로부터 상속받은 운이 좋은 자식 클래스를 정의해 봅시다. 클래스의 이름은 LuckyChild라고 하겠습니다. 클래스를 정의할 때 다른 클래스로부터 상속을 받고자 한다면 아래 코드와 같이 새로 정의할 클래스 이름 다음에 괄호를 사용하여 상속받고자 하는 클래스의 이름을 적어주면 됩니다. LuckyChild 클래스는 상속받기 전까지는 아무런능력이 없어서 내부에 메소드를 구현하지 않고 pass만을 적어 주었습니다.\""
   ]
  },
  {
   "cell_type": "code",
   "execution_count": 18,
   "metadata": {
    "collapsed": true
   },
   "outputs": [],
   "source": [
    "class LuckyChild(Parent):\n",
    "    pass"
   ]
  },
  {
   "cell_type": "code",
   "execution_count": 19,
   "metadata": {
    "collapsed": false
   },
   "outputs": [
    {
     "name": "stdout",
     "output_type": "stream",
     "text": [
      "Parent 클래스로부터 상속받은 LuckyChild 클래스에 대한 인스턴스를 생성한 후 노래를 시켜보도록 하겠습니다. 중요한 점은 LuckyChild 클래스에는 어떤 메소드도 존재하지 않는다는 것입니다. 아래의 코드를 참조하면 역시나 부모 클래스로부터 상속을 받아서 그런지 자신은 메소드가 없지만 바로 노래를 부를 수 있군요.\n"
     ]
    }
   ],
   "source": [
    "print \"Parent 클래스로부터 상속받은 LuckyChild 클래스에 대한 인스턴스를 생성한 후 노래를 시켜보도록 하겠습니다. 중요한 점은 LuckyChild 클래스에는 어떤 메소드도 존재하지 않는다는 것입니다. 아래의 코드를 참조하면 역시나 부모 클래스로부터 상속을 받아서 그런지 자신은 메소드가 없지만 바로 노래를 부를 수 있군요.\""
   ]
  },
  {
   "cell_type": "code",
   "execution_count": 20,
   "metadata": {
    "collapsed": false
   },
   "outputs": [
    {
     "name": "stdout",
     "output_type": "stream",
     "text": [
      "Sing a song\n"
     ]
    }
   ],
   "source": [
    "child1 = LuckyChild()\n",
    "child1.can_sing()"
   ]
  },
  {
   "cell_type": "code",
   "execution_count": 21,
   "metadata": {
    "collapsed": false
   },
   "outputs": [
    {
     "name": "stdout",
     "output_type": "stream",
     "text": [
      "이번에는 부모로부터 어떤 능력이나 재산도 상속받지 못한 운이 좋지 않은 자식 클래스(UnLuckyChild)를 만들어 보겠습니다. 인간 세상으로 치면 평범한 서민 클래스라고 볼 수 있겠습니다.\n"
     ]
    }
   ],
   "source": [
    "print \"이번에는 부모로부터 어떤 능력이나 재산도 상속받지 못한 운이 좋지 않은 자식 클래스(UnLuckyChild)를 만들어 보겠습니다. 인간 세상으로 치면 평범한 서민 클래스라고 볼 수 있겠습니다.\""
   ]
  },
  {
   "cell_type": "code",
   "execution_count": 22,
   "metadata": {
    "collapsed": true
   },
   "outputs": [],
   "source": [
    "class UnLuckyChild:\n",
    "    pass"
   ]
  },
  {
   "cell_type": "code",
   "execution_count": 23,
   "metadata": {
    "collapsed": false
   },
   "outputs": [
    {
     "name": "stdout",
     "output_type": "stream",
     "text": [
      "운이 좋지 않은 UnLuckyChild 클래스에 대한 인스턴스를 생성한 후 노래를 시켜봅시다. 역시나 상속도 받지 못했고 자신도 아무런 메소드가 없으므로 노래를 부를 수가 없는 것을 볼 수 있습니다. 이렇게 능력이나 재산을 상속받지 못했다면 자신이 직접 노래를 잘할 수 있도록 연습을 해야겠지요? 프로그래밍으로 보면 자기 클래스에서 메소드를 직접 구현해야 합니다.\n"
     ]
    }
   ],
   "source": [
    "print \"운이 좋지 않은 UnLuckyChild 클래스에 대한 인스턴스를 생성한 후 노래를 시켜봅시다. 역시나 상속도 받지 못했고 자신도 아무런 메소드가 없으므로 노래를 부를 수가 없는 것을 볼 수 있습니다. 이렇게 능력이나 재산을 상속받지 못했다면 자신이 직접 노래를 잘할 수 있도록 연습을 해야겠지요? 프로그래밍으로 보면 자기 클래스에서 메소드를 직접 구현해야 합니다.\""
   ]
  },
  {
   "cell_type": "code",
   "execution_count": 24,
   "metadata": {
    "collapsed": false
   },
   "outputs": [
    {
     "ename": "AttributeError",
     "evalue": "UnLuckyChild instance has no attribute 'can_sing'",
     "output_type": "error",
     "traceback": [
      "\u001b[0;31m---------------------------------------------------------------------------\u001b[0m",
      "\u001b[0;31mAttributeError\u001b[0m                            Traceback (most recent call last)",
      "\u001b[0;32m<ipython-input-24-f81e3350575e>\u001b[0m in \u001b[0;36m<module>\u001b[0;34m()\u001b[0m\n\u001b[1;32m      1\u001b[0m \u001b[0mchild2\u001b[0m \u001b[1;33m=\u001b[0m \u001b[0mUnLuckyChild\u001b[0m\u001b[1;33m(\u001b[0m\u001b[1;33m)\u001b[0m\u001b[1;33m\u001b[0m\u001b[0m\n\u001b[0;32m----> 2\u001b[0;31m \u001b[0mchild2\u001b[0m\u001b[1;33m.\u001b[0m\u001b[0mcan_sing\u001b[0m\u001b[1;33m(\u001b[0m\u001b[1;33m)\u001b[0m\u001b[1;33m\u001b[0m\u001b[0m\n\u001b[0m",
      "\u001b[0;31mAttributeError\u001b[0m: UnLuckyChild instance has no attribute 'can_sing'"
     ]
    }
   ],
   "source": [
    "child2 = UnLuckyChild()\n",
    "child2.can_sing()"
   ]
  },
  {
   "cell_type": "code",
   "execution_count": 25,
   "metadata": {
    "collapsed": false
   },
   "outputs": [
    {
     "name": "stdout",
     "output_type": "stream",
     "text": [
      "인간 세상에서는 상속을 받으면 좋겠구나 하고어렴풋이 생각이 들겠지만, 프로그래밍할 때 왜 상속을 해야 하는지 여전히 이해가 안 가는 분들도 계실 겁니다. 객체 지향 프로그램에서 상속하면 부모 클래스의 모든 것을 내 것처럼 사용할 수 있고, 거기에 추가로 자신의 클래스에 메소드를 더 구현한다면 '플러스알파'가 되는 것입니다. 즉, 부모 클래스의 능력을 밑바탕으로 깔고 거기서부터 한 번 더 업그레이드가 되는 것입니다.\n"
     ]
    }
   ],
   "source": [
    "print \"인간 세상에서는 상속을 받으면 좋겠구나 하고어렴풋이 생각이 들겠지만, 프로그래밍할 때 왜 상속을 해야 하는지 여전히 이해가 안 가는 분들도 계실 겁니다. 객체 지향 프로그램에서 상속하면 부모 클래스의 모든 것을 내 것처럼 사용할 수 있고, 거기에 추가로 자신의 클래스에 메소드를 더 구현한다면 '플러스알파'가 되는 것입니다. 즉, 부모 클래스의 능력을 밑바탕으로 깔고 거기서부터 한 번 더 업그레이드가 되는 것입니다.\""
   ]
  },
  {
   "cell_type": "code",
   "execution_count": 26,
   "metadata": {
    "collapsed": false
   },
   "outputs": [
    {
     "name": "stdout",
     "output_type": "stream",
     "text": [
      "이번에는 노래도 잘 부르고 춤도 잘 추는 운이 좋은 자식 클래스2(LuckyChild2)를 정의해 보겠습니다.\n"
     ]
    }
   ],
   "source": [
    "print \"이번에는 노래도 잘 부르고 춤도 잘 추는 운이 좋은 자식 클래스2(LuckyChild2)를 정의해 보겠습니다.\""
   ]
  },
  {
   "cell_type": "code",
   "execution_count": 27,
   "metadata": {
    "collapsed": true
   },
   "outputs": [],
   "source": [
    "class LuckyChild(Parent):\n",
    "    def can_dance(self):\n",
    "        print \"Shuffle Dance\""
   ]
  },
  {
   "cell_type": "code",
   "execution_count": 28,
   "metadata": {
    "collapsed": false
   },
   "outputs": [
    {
     "name": "stdout",
     "output_type": "stream",
     "text": [
      "LuckyChild2 클래스에 대한 인스턴스를 생성한 후 노래와 춤을 시켜보도록 합시다. LuckyChild2클래스는 부모로부터 노래 부르는 능력을 상속받았고 자기 자신이 춤추는 능력을 갖추고 있어 노래도 부르고 춤도 출 수 있게 되었습니다.\n"
     ]
    }
   ],
   "source": [
    "print \"LuckyChild2 클래스에 대한 인스턴스를 생성한 후 노래와 춤을 시켜보도록 합시다. LuckyChild2클래스는 부모로부터 노래 부르는 능력을 상속받았고 자기 자신이 춤추는 능력을 갖추고 있어 노래도 부르고 춤도 출 수 있게 되었습니다.\""
   ]
  },
  {
   "cell_type": "code",
   "execution_count": 32,
   "metadata": {
    "collapsed": false
   },
   "outputs": [
    {
     "name": "stdout",
     "output_type": "stream",
     "text": [
      "Sing a song\n",
      "Sing a song\n",
      "Sing a song\n"
     ]
    }
   ],
   "source": [
    "class Parent:\n",
    "    def can_sing(self):\n",
    "        print \"Sing a song\"\n",
    "        \n",
    "father = Parent()\n",
    "father.can_sing()\n",
    "\n",
    "class LuckyChild(Parent):\n",
    "    pass\n",
    "\n",
    "child1 = LuckyChild()\n",
    "child1.can_sing()\n",
    "\n",
    "class UnLuckyChild:\n",
    "    pass\n",
    "\n",
    "class LuckyChild2(Parent):\n",
    "    def can_dance(self):\n",
    "        print \"Shuffle Dance\"\n",
    "\n",
    "child2 = LuckyChild2()\n",
    "child2.can_sing()"
   ]
  },
  {
   "cell_type": "code",
   "execution_count": 33,
   "metadata": {
    "collapsed": false
   },
   "outputs": [
    {
     "name": "stdout",
     "output_type": "stream",
     "text": [
      "Shuffle Dance\n"
     ]
    }
   ],
   "source": [
    "child2.can_dance()"
   ]
  },
  {
   "cell_type": "code",
   "execution_count": 34,
   "metadata": {
    "collapsed": false
   },
   "outputs": [
    {
     "name": "stdout",
     "output_type": "stream",
     "text": [
      "물론 굳이 상속이라는 기능을 사용하지 않고도 부모 클래스에 구현된 메소드들을 그대로 복사하여 새로 정의할 클래스에 코드를 붙여넣기 해서 사용할 수도 있습니다. 단, 이렇게 하게 되면 같은 기능을 하는 코드가 중복적으로 발생하기 때문에 코드를 관리하기가 어렵고 복사 및 붙여넣기를 해야 하므로 불편합니다 이에 반해 클래스의 상속이라는 지능을 사용하면 아주 쉽게 최소한의 코드로도 부모 클래스에 잘 쿠현된 메소드들을 바로 이용할 수 있는 것입니다.\n"
     ]
    }
   ],
   "source": [
    "print \"물론 굳이 상속이라는 기능을 사용하지 않고도 부모 클래스에 구현된 메소드들을 그대로 복사하여 새로 정의할 클래스에 코드를 붙여넣기 해서 사용할 수도 있습니다. 단, 이렇게 하게 되면 같은 기능을 하는 코드가 중복적으로 발생하기 때문에 코드를 관리하기가 어렵고 복사 및 붙여넣기를 해야 하므로 불편합니다 이에 반해 클래스의 상속이라는 지능을 사용하면 아주 쉽게 최소한의 코드로도 부모 클래스에 잘 쿠현된 메소드들을 바로 이용할 수 있는 것입니다.\""
   ]
  },
  {
   "cell_type": "markdown",
   "metadata": {},
   "source": [
    "# 연습문제"
   ]
  },
  {
   "cell_type": "markdown",
   "metadata": {},
   "source": [
    "(1) 다음의 조건을 만족하는 Point라는 클래스를 작성하세요. \n",
    " + Point 클래스는 생성자를 통해 (x, y)좌표를 입력받는다. \n",
    " + setx(x), sety(y) 메소드를 통해서 x와 y 좌표를 따로 입력받을 수도 있다. \n",
    " + get() 메소드를 호출하면 튜플로 구성된 (x, y)좌표를 리턴한다. \n",
    " + move(da, dy) 메소드는 현재 좌표를 dx, dy 만큼 이동시킨다. \n",
    " + 모든 메소드는 인스턴스 메소드이다."
   ]
  },
  {
   "cell_type": "code",
   "execution_count": 58,
   "metadata": {
    "collapsed": true
   },
   "outputs": [],
   "source": [
    "class Point:\n",
    "    def __init__(self, x, y):\n",
    "        self.x = x\n",
    "        self.y = y\n",
    "    def setx(self, x):\n",
    "        self.x = x\n",
    "    def sety(self, y):\n",
    "        self.y = y\n",
    "    def get(self):\n",
    "        return (self.x, self.y)\n",
    "    def move(self, dx, dy):\n",
    "        self.x += dx\n",
    "        self.y += dy"
   ]
  },
  {
   "cell_type": "markdown",
   "metadata": {},
   "source": [
    "(2) 문제 (1)에서 생성한 Point 클래스에 대한 인스턴스를 생성한 후 네 개의 메소드를 사용하는 코드를 작성하세요."
   ]
  },
  {
   "cell_type": "code",
   "execution_count": 59,
   "metadata": {
    "collapsed": false
   },
   "outputs": [
    {
     "data": {
      "text/plain": [
       "(3, 3)"
      ]
     },
     "execution_count": 59,
     "metadata": {},
     "output_type": "execute_result"
    }
   ],
   "source": [
    "a = Point(3, 3)\n",
    "a.get()"
   ]
  },
  {
   "cell_type": "code",
   "execution_count": 60,
   "metadata": {
    "collapsed": false,
    "scrolled": true
   },
   "outputs": [
    {
     "data": {
      "text/plain": [
       "(4, 2)"
      ]
     },
     "execution_count": 60,
     "metadata": {},
     "output_type": "execute_result"
    }
   ],
   "source": [
    "a.setx(4)\n",
    "a.sety(2)\n",
    "a.get()"
   ]
  },
  {
   "cell_type": "code",
   "execution_count": 61,
   "metadata": {
    "collapsed": false,
    "scrolled": true
   },
   "outputs": [
    {
     "data": {
      "text/plain": [
       "(0, 0)"
      ]
     },
     "execution_count": 61,
     "metadata": {},
     "output_type": "execute_result"
    }
   ],
   "source": [
    "a.move(-4, -2)\n",
    "a.get()"
   ]
  },
  {
   "cell_type": "markdown",
   "metadata": {},
   "source": [
    "(3) 아래의 Stock 클래스에 대해 두 개의 인스턴스를 생성했을 때 클래스와 a와 b 인스턴스의 네임 스페이스를 그려보세요.\n",
    "\n",
    "class Stock:\n",
    "    market = \"kospi\"\n",
    "    \n",
    "a = Stock()\n",
    "\n",
    "b = Stock()"
   ]
  },
  {
   "cell_type": "markdown",
   "metadata": {},
   "source": [
    "(4) 문제 (3)의 코드에서 추가로 아래와 같은 코드를 수행했을 때 '???'로 표시된 부분의 결괏값을 적어보세요.\n",
    "\n"
   ]
  },
  {
   "cell_type": "code",
   "execution_count": null,
   "metadata": {
    "collapsed": true
   },
   "outputs": [],
   "source": [
    "a.market\n",
    ">>>'kospi'\n",
    "b.market\n",
    ">>>'kospi'\n",
    "Stock.market\n",
    ">>>'kospi'\n",
    "a.market = \"kosdak\"\n",
    "b.market = \"nasdak\"\n",
    "a.market = 'kosdak'\n",
    "b.market = 'nasdak'\n",
    "\n",
    "Stock.market\n",
    ">>> 'kospi'"
   ]
  },
  {
   "cell_type": "markdown",
   "metadata": {
    "collapsed": true
   },
   "source": [
    "## 객체와 클래스"
   ]
  },
  {
   "cell_type": "markdown",
   "metadata": {},
   "source": [
    "프로그램 안의 모든 값은 객체다. 객체(object)는 내부 데이터와 내부 데이터와 연관된 다양한 연산을 수행하는 메서드로 구성된다. 앞서 이미 문자열과 리스트 같은 내장 타입을 다루면서 객체와 메서드를 사용해보았다. \n"
   ]
  },
  {
   "cell_type": "code",
   "execution_count": 1,
   "metadata": {
    "collapsed": true
   },
   "outputs": [],
   "source": [
    "items = [37, 42] # 리스트 객체를 생성한다.\n",
    "items.append(73) # append() 메서드를 호출한다. "
   ]
  },
  {
   "cell_type": "markdown",
   "metadata": {},
   "source": [
    "dir() 함수는 객체가 제공하는 메서드들을 나열한다. 이 함수는 대화식으로 이것저것 실험해보는데 유용하게 쓰인다. "
   ]
  },
  {
   "cell_type": "code",
   "execution_count": 2,
   "metadata": {
    "collapsed": false
   },
   "outputs": [
    {
     "data": {
      "text/plain": [
       "['__add__',\n",
       " '__class__',\n",
       " '__contains__',\n",
       " '__delattr__',\n",
       " '__delitem__',\n",
       " '__delslice__',\n",
       " '__doc__',\n",
       " '__eq__',\n",
       " '__format__',\n",
       " '__ge__',\n",
       " '__getattribute__',\n",
       " '__getitem__',\n",
       " '__getslice__',\n",
       " '__gt__',\n",
       " '__hash__',\n",
       " '__iadd__',\n",
       " '__imul__',\n",
       " '__init__',\n",
       " '__iter__',\n",
       " '__le__',\n",
       " '__len__',\n",
       " '__lt__',\n",
       " '__mul__',\n",
       " '__ne__',\n",
       " '__new__',\n",
       " '__reduce__',\n",
       " '__reduce_ex__',\n",
       " '__repr__',\n",
       " '__reversed__',\n",
       " '__rmul__',\n",
       " '__setattr__',\n",
       " '__setitem__',\n",
       " '__setslice__',\n",
       " '__sizeof__',\n",
       " '__str__',\n",
       " '__subclasshook__',\n",
       " 'append',\n",
       " 'count',\n",
       " 'extend',\n",
       " 'index',\n",
       " 'insert',\n",
       " 'pop',\n",
       " 'remove',\n",
       " 'reverse',\n",
       " 'sort']"
      ]
     },
     "execution_count": 2,
     "metadata": {},
     "output_type": "execute_result"
    }
   ],
   "source": [
    "items = [37, 42]\n",
    "dir(items)"
   ]
  },
  {
   "cell_type": "markdown",
   "metadata": {},
   "source": [
    "객체를 살펴볼 때 append()나 insert() 같은 익숙한 메서드들을 보게 될 것이다. 이 밖에도 항상 이중 밑줄로 시작하고 끝나는 특수한 메서드들이 있다. 이 메서드들은 언어상에서 제공하는 다양한 연산자를 구현한다. 다음 예에서 __add__() 메서드는 + 연산자를 구현한다. "
   ]
  },
  {
   "cell_type": "code",
   "execution_count": 3,
   "metadata": {
    "collapsed": false
   },
   "outputs": [
    {
     "data": {
      "text/plain": [
       "[37, 42, 73, 101]"
      ]
     },
     "execution_count": 3,
     "metadata": {},
     "output_type": "execute_result"
    }
   ],
   "source": [
    "items.__add__([73,101])"
   ]
  },
  {
   "cell_type": "code",
   "execution_count": 4,
   "metadata": {
    "collapsed": false
   },
   "outputs": [
    {
     "name": "stdout",
     "output_type": "stream",
     "text": [
      "Catch!\n",
      "set(['2Ducks left'])\n"
     ]
    }
   ],
   "source": [
    "class Duck_Hunting:\n",
    "    ducks = 3\n",
    "    def hunting(self):\n",
    "        print ('Catch!')\n",
    "        self.ducks -= 1\n",
    "        \n",
    "        \n",
    "    def CheckDucks(self):\n",
    "        if self.ducks <= 0:  \n",
    "            print ('Good Dog!') \n",
    "        else:\n",
    "            print {str(self.ducks) + \"Ducks left\"}  \n",
    "                    \n",
    "dog1=Duck_Hunting() \n",
    "dog1.hunting()\n",
    "dog1.CheckDucks() \n"
   ]
  },
  {
   "cell_type": "code",
   "execution_count": null,
   "metadata": {
    "collapsed": true
   },
   "outputs": [],
   "source": []
  },
  {
   "cell_type": "code",
   "execution_count": null,
   "metadata": {
    "collapsed": true
   },
   "outputs": [],
   "source": []
  }
 ],
 "metadata": {
  "kernelspec": {
   "display_name": "Python 2",
   "language": "python",
   "name": "python2"
  },
  "language_info": {
   "codemirror_mode": {
    "name": "ipython",
    "version": 2
   },
   "file_extension": ".py",
   "mimetype": "text/x-python",
   "name": "python",
   "nbconvert_exporter": "python",
   "pygments_lexer": "ipython2",
   "version": "2.7.12"
  }
 },
 "nbformat": 4,
 "nbformat_minor": 1
}
