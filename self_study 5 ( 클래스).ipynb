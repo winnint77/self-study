{
 "cells": [
  {
   "cell_type": "markdown",
   "metadata": {},
   "source": [
    "## 학습목표\n",
    " 1. 클래스와 오브젝트에 대한 이해\n",
    " 2. 클래스 설계 구현 및 사용 숙지"
   ]
  },
  {
   "cell_type": "markdown",
   "metadata": {},
   "source": [
    "* class란?\n",
    " + 실세계의 것을 모델링하여 속성(attribute)와 동작(method)를 갖는 데이터\n",
    " + string, int, list, dict.. 모두가 다 클래스이다."
   ]
  },
  {
   "cell_type": "markdown",
   "metadata": {},
   "source": [
    "* object 란?\n",
    " - 파이썬의 모든 것은 객체다. \n",
    " - 실제로 class가 인스턴스화 되어 메모리에 상주하는 상태를 말한다.\n",
    " - class가 빵틀이라면, object는 실제로 빵틀로 찍어낸 빵이라고 비유할 수 있습니다.\n"
   ]
  },
  {
   "cell_type": "code",
   "execution_count": 1,
   "metadata": {
    "collapsed": false
   },
   "outputs": [
    {
     "name": "stdout",
     "output_type": "stream",
     "text": [
      "클래스를 상용하여 프로그래밍하면 데이터와 데이터를 조작하는 함수를 하나의 묶음으로 관리할 수 있다. 다라서 복잡한 프로그램도 더욱 쉽게 작성 가능한 경우가 많이 있습니다. 예를들어 명함을 제작하는 스타트업을 창업했다고 생각해 봅시다. \n",
      "\n",
      "이 스타트업은 고객들의 명함을 제작하기에 앞서 명함에 들어갈 고객 정보 (이름, e-mail 주소, 근무지 주소)를 프로그램을 통해 입력 받고 있습니다. 고객으로부터 입력받은 고객 정보를 저장하기 위해서는 파이썬 변수를 이용하여 값을 저장(바인딩)할 것입니다.\n"
     ]
    }
   ],
   "source": [
    "print \"클래스를 상용하여 프로그래밍하면 데이터와 데이터를 조작하는 함수를 하나의 묶음으로 관리할 수 있다. 다라서 복잡한 프로그램도 더욱 쉽게 작성 가능한 경우가 많이 있습니다. 예를들어 명함을 제작하는 스타트업을 창업했다고 생각해 봅시다. \\n\\n이 스타트업은 고객들의 명함을 제작하기에 앞서 명함에 들어갈 고객 정보 (이름, e-mail 주소, 근무지 주소)를 프로그램을 통해 입력 받고 있습니다. 고객으로부터 입력받은 고객 정보를 저장하기 위해서는 파이썬 변수를 이용하여 값을 저장(바인딩)할 것입니다.\""
   ]
  },
  {
   "cell_type": "code",
   "execution_count": null,
   "metadata": {
    "collapsed": true
   },
   "outputs": [],
   "source": [
    "name = \"kimyuna\"\n",
    "email = \"yunakim@naver.com\"\n",
    "addr = \"seoul\""
   ]
  },
  {
   "cell_type": "code",
   "execution_count": 2,
   "metadata": {
    "collapsed": false,
    "scrolled": true
   },
   "outputs": [
    {
     "name": "stdout",
     "output_type": "stream",
     "text": [
      "이번에는 고객으로부터 입력받은 데이터를 사용하여 실제로 명함을 출력하는 함수를 하나 만들어 보도록 하겠습니다. 만들어 볼 함수는 함수의 입력으로 이름, e-mail 주소, 주소를 입력받아 포맷팅에 맞춰 입력 값을 출력하는 단순한 기능을 가집니다.\n"
     ]
    }
   ],
   "source": [
    "print \"이번에는 고객으로부터 입력받은 데이터를 사용하여 실제로 명함을 출력하는 함수를 하나 만들어 보도록 하겠습니다. 만들어 볼 함수는 함수의 입력으로 이름, e-mail 주소, 주소를 입력받아 포맷팅에 맞춰 입력 값을 출력하는 단순한 기능을 가집니다.\""
   ]
  },
  {
   "cell_type": "code",
   "execution_count": 4,
   "metadata": {
    "collapsed": true
   },
   "outputs": [],
   "source": [
    "def print_business_card(name, email, addr):\n",
    "    print \"---------------\"\n",
    "    print \"Name: %s\" % name\n",
    "    print \"E-mail: %s\" % email\n",
    "    print \"Office Address: %s\" % addr\n",
    "    print \"---------------\"\n"
   ]
  },
  {
   "cell_type": "code",
   "execution_count": 3,
   "metadata": {
    "collapsed": false,
    "scrolled": false
   },
   "outputs": [
    {
     "name": "stdout",
     "output_type": "stream",
     "text": [
      "위의 함수가 잘 동작하는지 테스트하기 위해 함수에 인자값을 넣어 함수를 호출해보겠습니다. 참고로 아래 함수의 함수 인자로 사용된 값은 위의 맨 위 함수의 변수들이 바인딩 하고 있는 값입니다. \n"
     ]
    }
   ],
   "source": [
    "print \"위의 함수가 잘 동작하는지 테스트하기 위해 함수에 인자값을 넣어 함수를 호출해보겠습니다. 참고로 아래 함수의 함수 인자로 사용된 값은 위의 맨 위 함수의 변수들이 바인딩 하고 있는 값입니다. \""
   ]
  },
  {
   "cell_type": "code",
   "execution_count": null,
   "metadata": {
    "collapsed": true
   },
   "outputs": [],
   "source": [
    "print_business_card(name, email, addr)"
   ]
  },
  {
   "cell_type": "code",
   "execution_count": 7,
   "metadata": {
    "collapsed": false,
    "scrolled": true
   },
   "outputs": [
    {
     "name": "stdout",
     "output_type": "stream",
     "text": [
      "---------------\n",
      "Name: kimyuna\n",
      "E-mail: yunakim@naver.com\n",
      "Office Address: seoul\n",
      "---------------\n"
     ]
    }
   ],
   "source": [
    "name = \"kimyuna\"\n",
    "email = \"yunakim@naver.com\"\n",
    "addr = \"seoul\"\n",
    "\n",
    "def print_business_card(name, email, addr):\n",
    "    print \"---------------\"\n",
    "    print \"Name: %s\" % name\n",
    "    print \"E-mail: %s\" % email\n",
    "    print \"Office Address: %s\" % addr\n",
    "    print \"---------------\"\n",
    "\n",
    "print_business_card(name, email, addr)"
   ]
  },
  {
   "cell_type": "code",
   "execution_count": 8,
   "metadata": {
    "collapsed": false,
    "scrolled": true
   },
   "outputs": [
    {
     "name": "stdout",
     "output_type": "stream",
     "text": [
      "자 이제 여러분이 창업한 스타트업은 어느덧 입소문을 타서 드디어 회원 수가 한 명에서 두 명으로 늘어났습니다. 회원이 한 명뿐이었던 시절에는 고객 정보를 바인딩할 변수로 name, email, addr 이라는 이름을 이용했는데, 이제 회원 수가 한 명 더 늘어서 두 번째 회원에 대한 입력 정보는 새로운 변수를 사용하여 저장했습니다. 참고로 같은 변수를 사용하면 첫 번재 회원에 대한 정보가 손실된다는 것은 아시겠지요?\n"
     ]
    }
   ],
   "source": [
    "print \"자 이제 여러분이 창업한 스타트업은 어느덧 입소문을 타서 드디어 회원 수가 한 명에서 두 명으로 늘어났습니다. 회원이 한 명뿐이었던 시절에는 고객 정보를 바인딩할 변수로 name, email, addr 이라는 이름을 이용했는데, 이제 회원 수가 한 명 더 늘어서 두 번째 회원에 대한 입력 정보는 새로운 변수를 사용하여 저장했습니다. 참고로 같은 변수를 사용하면 첫 번재 회원에 대한 정보가 손실된다는 것은 아시겠지요?\""
   ]
  },
  {
   "cell_type": "code",
   "execution_count": 9,
   "metadata": {
    "collapsed": false,
    "scrolled": true
   },
   "outputs": [
    {
     "name": "stdout",
     "output_type": "stream",
     "text": [
      "---------------\n",
      "Name: DusanBack\n",
      "E-mail: dusan.back@naver.com\n",
      "Office Address: Kyunggi\n",
      "---------------\n"
     ]
    }
   ],
   "source": [
    "name2 = \"DusanBack\"\n",
    "email2 = \"dusan.back@naver.com\"\n",
    "addr2 = \"Kyunggi\"\n",
    "\n",
    "print_business_card(name2, email2, addr2)"
   ]
  },
  {
   "cell_type": "code",
   "execution_count": 10,
   "metadata": {
    "collapsed": false,
    "scrolled": true
   },
   "outputs": [
    {
     "name": "stdout",
     "output_type": "stream",
     "text": [
      "두 번째 회원의 고객 정보도 잘 입력 받았으므로 명함을 출력해보도록 하겠습니다. 앞서 명함 출력 기능을 위해 print_business_card라는 이름의 함수로 작성해 뒀기 때문에, 두 번째 회원에 대한 명함 출력은 위 코드와 같이 기존에 작성된 명함 출력 함수에 적절한 입력값만을 넘긴 후 함수를 호출하면 되겠습니다.\n",
      "\n",
      "아직은 여러분이 창업한 스타트업에 회원이 두 명이라 걱정이 없는데 앞으로 회원 수가 늘어나게 되면 개인 정보를 어떤 방식으로 저장하는 것이 좋을까요? 그리고 고객 정보에 전화번호 및 고객의 팩스 번호를 추가로 저장하고 이를 출력하는 기능을 추가해야 한다면 어떻게 프로그램을 변경하는 것이 좋을지 생각해 봅시다.\n"
     ]
    }
   ],
   "source": [
    "print \"두 번째 회원의 고객 정보도 잘 입력 받았으므로 명함을 출력해보도록 하겠습니다. 앞서 명함 출력 기능을 위해 print_business_card라는 이름의 함수로 작성해 뒀기 때문에, 두 번째 회원에 대한 명함 출력은 위 코드와 같이 기존에 작성된 명함 출력 함수에 적절한 입력값만을 넘긴 후 함수를 호출하면 되겠습니다.\\n\\n아직은 여러분이 창업한 스타트업에 회원이 두 명이라 걱정이 없는데 앞으로 회원 수가 늘어나게 되면 개인 정보를 어떤 방식으로 저장하는 것이 좋을까요? 그리고 고객 정보에 전화번호 및 고객의 팩스 번호를 추가로 저장하고 이를 출력하는 기능을 추가해야 한다면 어떻게 프로그램을 변경하는 것이 좋을지 생각해 봅시다.\""
   ]
  },
  {
   "cell_type": "code",
   "execution_count": 12,
   "metadata": {
    "collapsed": false
   },
   "outputs": [
    {
     "name": "stdout",
     "output_type": "stream",
     "text": [
      "명함 출력에 사용되었던 이름, e-mail, 주소 등을 효과적으로 관리하기 위해서 보통 각각의 데이터에 대해서 별도의 리스트 자료 구조를 사용하게 됩니다. 따라서 만약 첫 번째 회원에 대한 개인 정보를 얻기 위해서는 name_list[0], email_list[0], address_list[0]과 같이 각 리스트별로 인덱싱을 수행해야 합니다. 참고로 데이터와 데이터를 처리하는 함수가 분리되어 있고 함수를 순차적으로 호출함으로써 데이터를 조작하는 프로그래밍 방식을 절차 지향 프로그래밍이라고 부릅니다.\n",
      "절차 지향 프로그래밍 방식과 달리 객체 지향 프로그래밍은 객체를 정의하는 것으로부터 시작합니다. 여러분의 스타트업에서 중요한 데이터인 명함에 대해서 객체로 정의해보면서 객체 지향 프로그래밍에서 말하는 객체의 개념에 대해서 배워보도록 합시다.\n"
     ]
    }
   ],
   "source": [
    "print \"명함 출력에 사용되었던 이름, e-mail, 주소 등을 효과적으로 관리하기 위해서 보통 각각의 데이터에 대해서 별도의 리스트 자료 구조를 사용하게 됩니다. 따라서 만약 첫 번째 회원에 대한 개인 정보를 얻기 위해서는 name_list[0], email_list[0], address_list[0]과 같이 각 리스트별로 인덱싱을 수행해야 합니다. 참고로 데이터와 데이터를 처리하는 함수가 분리되어 있고 함수를 순차적으로 호출함으로써 데이터를 조작하는 프로그래밍 방식을 절차 지향 프로그래밍이라고 부릅니다.\" \n",
    "\n",
    "print \"절차 지향 프로그래밍 방식과 달리 객체 지향 프로그래밍은 객체를 정의하는 것으로부터 시작합니다. 여러분의 스타트업에서 중요한 데이터인 명함에 대해서 객체로 정의해보면서 객체 지향 프로그래밍에서 말하는 객체의 개념에 대해서 배워보도록 합시다.\""
   ]
  },
  {
   "cell_type": "code",
   "execution_count": 13,
   "metadata": {
    "collapsed": false
   },
   "outputs": [
    {
     "name": "stdout",
     "output_type": "stream",
     "text": [
      "먼저 명함을 구성하는 데이터를 생각해보면 명함에는 이름, e-mail, 주소라는 값이 존재합니다. 이번에는 명함과 관련된 함수를 생각해보면 기본 명함 출력함수와 고급 명함 출력 함수 정도가 있을 것 같습니다. 객체 지향 프로그래밍이란 명함을 구성하는 데이터와 명함에 관련된 함수들을 묶어서 명함이라는 새로운 객체를 만들고 이를 사용하여 프로그래밍하는 방식을 의미합니다.\n"
     ]
    }
   ],
   "source": [
    "print \"먼저 명함을 구성하는 데이터를 생각해보면 명함에는 이름, e-mail, 주소라는 값이 존재합니다. 이번에는 명함과 관련된 함수를 생각해보면 기본 명함 출력함수와 고급 명함 출력 함수 정도가 있을 것 같습니다. 객체 지향 프로그래밍이란 명함을 구성하는 데이터와 명함에 관련된 함수들을 묶어서 명함이라는 새로운 객체를 만들고 이를 사용하여 프로그래밍하는 방식을 의미합니다.\""
   ]
  },
  {
   "cell_type": "code",
   "execution_count": 14,
   "metadata": {
    "collapsed": false
   },
   "outputs": [
    {
     "name": "stdout",
     "output_type": "stream",
     "text": [
      "파이썬을 통해 명함이라는 객체를 만들어 두면 명함 객체가 정수, 실수, 문자열과 마찬가지로 하나의 타입으로 인식되기 때문에 여러 명의 명함 정보도 쉽게 관리할 수 있습니다. 마치 다섯 개의 정숫값을 변수로 바인딩하는 것처럼 다섯 개의 명함 값을 변수로 바인딩하거나 리스트에 명함이라는 객체를 저장하고 있으면 되는 것입니다.\n"
     ]
    }
   ],
   "source": [
    "print \"파이썬을 통해 명함이라는 객체를 만들어 두면 명함 객체가 정수, 실수, 문자열과 마찬가지로 하나의 타입으로 인식되기 때문에 여러 명의 명함 정보도 쉽게 관리할 수 있습니다. 마치 다섯 개의 정숫값을 변수로 바인딩하는 것처럼 다섯 개의 명함 값을 변수로 바인딩하거나 리스트에 명함이라는 객체를 저장하고 있으면 되는 것입니다.\""
   ]
  },
  {
   "cell_type": "code",
   "execution_count": 15,
   "metadata": {
    "collapsed": false,
    "scrolled": true
   },
   "outputs": [
    {
     "name": "stdout",
     "output_type": "stream",
     "text": [
      " 저자가 클래스를 설명하면서 클래스를 이용하면 새로운 타입을 만들 수 있다고 했는데, 사실 여러분들이 앞서 배웠던 정수, 실수, 문자열, 리스트, 튜플과 같은 기본 자료형과 기본 자료구조도 모두 클래스를 통해 만들어진 타입입니다. 다만 여러분이 만든 것이 아니라 이미 만들어져 있었다는 것만 차이가 납니다. \n"
     ]
    }
   ],
   "source": [
    "print \" 저자가 클래스를 설명하면서 클래스를 이용하면 새로운 타입을 만들 수 있다고 했는데, 사실 여러분들이 앞서 배웠던 정수, 실수, 문자열, 리스트, 튜플과 같은 기본 자료형과 기본 자료구조도 모두 클래스를 통해 만들어진 타입입니다. 다만 여러분이 만든 것이 아니라 이미 만들어져 있었다는 것만 차이가 납니다. \""
   ]
  },
  {
   "cell_type": "code",
   "execution_count": 17,
   "metadata": {
    "collapsed": false
   },
   "outputs": [
    {
     "data": {
      "text/plain": [
       "function"
      ]
     },
     "execution_count": 17,
     "metadata": {},
     "output_type": "execute_result"
    }
   ],
   "source": [
    "def foo():\n",
    "    pass\n",
    "\n",
    "type(foo)\n"
   ]
  },
  {
   "cell_type": "markdown",
   "metadata": {},
   "source": [
    "# 클래스 정의"
   ]
  },
  {
   "cell_type": "code",
   "execution_count": 18,
   "metadata": {
    "collapsed": true
   },
   "outputs": [],
   "source": [
    "class BusinessCard:\n",
    "    pass"
   ]
  },
  {
   "cell_type": "code",
   "execution_count": 20,
   "metadata": {
    "collapsed": false,
    "scrolled": true
   },
   "outputs": [
    {
     "name": "stdout",
     "output_type": "stream",
     "text": [
      "먼저 파이썬에서 클래스를 정의하려면 class라는 키워드를 사용하면 됩니다. 클래스를 사용하는 목적이 변수와 함수를 묶어서 하나의 새로운 객체(타입)으로 만드는 것이기 때문에 당연히 클래스에 변수나 함수를 포함시켜 클래스를 정의할 수 있습니다. 다만 위의 함수는 가장 간단한 형태의 클래스 정의를 보여주기 위해 변수나 함수를 넣지 않고 pass 라는 키워드만을 사용했습니다. pass 키워드를 사용하면 클래스 내부에 아무것도 넣지 않은 상태로 클래스를 정의할 수 이습니다.\n"
     ]
    }
   ],
   "source": [
    "print \"먼저 파이썬에서 클래스를 정의하려면 class라는 키워드를 사용하면 됩니다. 클래스를 사용하는 목적이 변수와 함수를 묶어서 하나의 새로운 객체(타입)으로 만드는 것이기 때문에 당연히 클래스에 변수나 함수를 포함시켜 클래스를 정의할 수 있습니다. 다만 위의 함수는 가장 간단한 형태의 클래스 정의를 보여주기 위해 변수나 함수를 넣지 않고 pass 라는 키워드만을 사용했습니다. pass 키워드를 사용하면 클래스 내부에 아무것도 넣지 않은 상태로 클래스를 정의할 수 이습니다.\" "
   ]
  },
  {
   "cell_type": "code",
   "execution_count": 21,
   "metadata": {
    "collapsed": false,
    "scrolled": true
   },
   "outputs": [
    {
     "name": "stdout",
     "output_type": "stream",
     "text": [
      "파이썬에서 클래스를 정의한다는 것은 새로운 데이터 타입을 정의한 것이기 때문에 이를 실제로 사용하기 위해서는 인스턴스라는 것을 생성해야 합니다. 클래스와 인스턴스의 관계를 붕어빵을 만드는 작업으로 비유를 해보면 클래스를 정의하는 것은 붕어빵을 만들 때 사용하는 기본 틀을 제작하는 것에 해당합니다. 잉어빵, 황금 붕어빵과 같은 차별화된 붕어빵을 만들기 위ㅜ해 틀을 잘 정의하는 것이지요. 그러나 아무리 틀을 예쁘고 정교하게 만들었다고 해서 붕어빵이 나오는 것은 아니지요? 실제로 먹을 수 있는 붕어빵을 만들려면 붕어빵 틀에 반죽을 넣고 붕어빵을 구워야 합니다. 이렇게 붕어빵 틀에 반죽을 넣어서 만들어진 붕어빵이 인스턴스에 해당합니다.\n"
     ]
    }
   ],
   "source": [
    "print \"파이썬에서 클래스를 정의한다는 것은 새로운 데이터 타입을 정의한 것이기 때문에 이를 실제로 사용하기 위해서는 인스턴스라는 것을 생성해야 합니다. 클래스와 인스턴스의 관계를 붕어빵을 만드는 작업으로 비유를 해보면 클래스를 정의하는 것은 붕어빵을 만들 때 사용하는 기본 틀을 제작하는 것에 해당합니다. 잉어빵, 황금 붕어빵과 같은 차별화된 붕어빵을 만들기 위ㅜ해 틀을 잘 정의하는 것이지요. 그러나 아무리 틀을 예쁘고 정교하게 만들었다고 해서 붕어빵이 나오는 것은 아니지요? 실제로 먹을 수 있는 붕어빵을 만들려면 붕어빵 틀에 반죽을 넣고 붕어빵을 구워야 합니다. 이렇게 붕어빵 틀에 반죽을 넣어서 만들어진 붕어빵이 인스턴스에 해당합니다.\""
   ]
  },
  {
   "cell_type": "code",
   "execution_count": 55,
   "metadata": {
    "collapsed": false
   },
   "outputs": [
    {
     "name": "stdout",
     "output_type": "stream",
     "text": [
      "정리하자면, 모양을 찍어낼 수 있는 틀을 가지고 서로 각각의 모양을 지닌 내용물을 만들어 낼 수 있는데 여기서 클래스는 그저 틀일 뿐이고, 인스턴스는 틀을 가지고 만들어진 내용물과 같은 것입니다. 우선은, 클래스의 이해를 돕기 위해 간단한 예제를 먼저 살펴보면서 클래스를 어떻게 선언하는지, 클래스란 어떤 것인지 알아보도록 하겠습니다.\n"
     ]
    }
   ],
   "source": [
    "print \"정리하자면, 모양을 찍어낼 수 있는 틀을 가지고 서로 각각의 모양을 지닌 내용물을 만들어 낼 수 있는데 여기서 클래스는 그저 틀일 뿐이고, 인스턴스는 틀을 가지고 만들어진 내용물과 같은 것입니다. 우선은, 클래스의 이해를 돕기 위해 간단한 예제를 먼저 살펴보면서 클래스를 어떻게 선언하는지, 클래스란 어떤 것인지 알아보도록 하겠습니다.\""
   ]
  },
  {
   "cell_type": "code",
   "execution_count": 26,
   "metadata": {
    "collapsed": false
   },
   "outputs": [
    {
     "data": {
      "text/plain": [
       "<__main__.BusinessCard instance at 0x040056C0>"
      ]
     },
     "execution_count": 26,
     "metadata": {},
     "output_type": "execute_result"
    }
   ],
   "source": [
    "card1 = BusinessCard()\n",
    "card1\n"
   ]
  },
  {
   "cell_type": "code",
   "execution_count": 27,
   "metadata": {
    "collapsed": false,
    "scrolled": true
   },
   "outputs": [
    {
     "name": "stdout",
     "output_type": "stream",
     "text": [
      "파이썬에서 정의된 클래스를 이용하여 인스턴스를 생성하기 위해서는 위와 같이 클래스 이름 후에 ()를 넣어주면 됩니다. 어떻게 보면 인스턴스를 생성하는 과정은 함수를 호출하는 것과 비슷해 보입니다. 위의 코드에서 첫 번째 줄의 코드가 실행되면 'BusinessCard'라는 객체의 인스턴스가 메모리의 0x0302ABBO위치에 생성되고 card1이라는 변수가 이를 바인딩하게 됩니다. \n",
      "\n",
      "위와 같이 생성된 클래스 인스턴스의 타입을 살펴보면 조금 전 우리가 정의했던 BusinessCard 클래스임을 확인할 수 있습니다. 이처럼 파이썬의 class 키워드를 사용하면 여러분들이 원하는 객체(타입)을 만들 수 있습니다. \n"
     ]
    }
   ],
   "source": [
    "print \"파이썬에서 정의된 클래스를 이용하여 인스턴스를 생성하기 위해서는 위와 같이 클래스 이름 후에 ()를 넣어주면 됩니다. 어떻게 보면 인스턴스를 생성하는 과정은 함수를 호출하는 것과 비슷해 보입니다. 위의 코드에서 첫 번째 줄의 코드가 실행되면 'BusinessCard'라는 객체의 인스턴스가 메모리의 0x0302ABBO위치에 생성되고 card1이라는 변수가 이를 바인딩하게 됩니다. \\n\\n위와 같이 생성된 클래스 인스턴스의 타입을 살펴보면 조금 전 우리가 정의했던 BusinessCard 클래스임을 확인할 수 있습니다. 이처럼 파이썬의 class 키워드를 사용하면 여러분들이 원하는 객체(타입)을 만들 수 있습니다. \""
   ]
  },
  {
   "cell_type": "code",
   "execution_count": 26,
   "metadata": {
    "collapsed": false,
    "scrolled": true
   },
   "outputs": [
    {
     "name": "stdout",
     "output_type": "stream",
     "text": [
      "객체지향 프로그래밍에서 핵심이 되는 요소 중 하나인 클래스(class)에 대해서 알아보도록 하겠는데, 그 전에 인스턴스(instance)란 개념에 대해 먼저 알아보도록 하겟습니다. 여기서 인스턴스와 객체(Object)는 같은 의미인데, 인스턴스는 클래스에 의해 만들어진 객체를 인스턴스라고 합니다. 클래스는 인스턴스를 만드는 하나의 틀이라고 볼 수 있습니다. 우리가 앞으로 배울 클래스란 녀석을 통해서 인스턴스를 계속 만들어 낼 수 있습니다.\n"
     ]
    }
   ],
   "source": [
    "print \"객체지향 프로그래밍에서 핵심이 되는 요소 중 하나인 클래스(class)에 대해서 알아보도록 하겠는데, 그 전에 인스턴스(instance)란 개념에 대해 먼저 알아보도록 하겟습니다. 여기서 인스턴스와 객체(Object)는 같은 의미인데, 인스턴스는 클래스에 의해 만들어진 객체를 인스턴스라고 합니다. 클래스는 인스턴스를 만드는 하나의 틀이라고 볼 수 있습니다. 우리가 앞으로 배울 클래스란 녀석을 통해서 인스턴스를 계속 만들어 낼 수 있습니다.\""
   ]
  },
  {
   "cell_type": "markdown",
   "metadata": {},
   "source": [
    "# 클래스에 메소드 추가하기"
   ]
  },
  {
   "cell_type": "code",
   "execution_count": 28,
   "metadata": {
    "collapsed": false,
    "scrolled": true
   },
   "outputs": [
    {
     "name": "stdout",
     "output_type": "stream",
     "text": [
      "앞서 정의한 BusinessCard 클래스는 내부에 변수나 함수가 없었습니다. 그래서 클래스 인스턴스를 만들었음에도 해당 인스턴스로 할 수 있는 일이 별로 없었습니다. 이번에는 BusinessCard 클래스에 사용자로부터 데이터를 입력받고 이를 저장하는 기능을 하는 함수를 추가해 보도록 하겠습니다. 참고로 클래스에 정의되어 있는 함수를 특별히 메소드라고 부릅니다. \n"
     ]
    }
   ],
   "source": [
    "print \"앞서 정의한 BusinessCard 클래스는 내부에 변수나 함수가 없었습니다. 그래서 클래스 인스턴스를 만들었음에도 해당 인스턴스로 할 수 있는 일이 별로 없었습니다. 이번에는 BusinessCard 클래스에 사용자로부터 데이터를 입력받고 이를 저장하는 기능을 하는 함수를 추가해 보도록 하겠습니다. 참고로 클래스에 정의되어 있는 함수를 특별히 메소드라고 부릅니다. \""
   ]
  },
  {
   "cell_type": "code",
   "execution_count": null,
   "metadata": {
    "collapsed": true
   },
   "outputs": [],
   "source": [
    "class BusinesCard:\n",
    "    def set_info(self, name, email, addr):\n",
    "        self.name = name\n",
    "        self.email = email\n",
    "        self.addr = addr"
   ]
  },
  {
   "cell_type": "code",
   "execution_count": 29,
   "metadata": {
    "collapsed": false,
    "scrolled": true
   },
   "outputs": [
    {
     "name": "stdout",
     "output_type": "stream",
     "text": [
      "위 코드를 보면 클래스 내부에 메소드를 정의하기 위해 def 키워드를 사용합니다. set-info메소드는 네 개의 인자를 바든데 그 중 name, email, addr은 사용자로부터 입력받은 데이터가 메소드로 넘어오는 데 사용되는 인자입니다. 그렇다면 메소드의 첫 번째 인자인 self는 무엇일까요?\n",
      "\n",
      "파이썬 클래스에서self의 의미를 정확히 이해하는 것은 중요한데 아직 제대로 설명하기는 조금 이른 감이 있습니다.일단 클래스에 내부에 정의된 함수인메소드의 첫 번째 인자는 반드시 self이어야 한다고 당분간만 외우고 사용하시기 바랍니다. \n",
      "\n",
      " 위 코드에서 메소드 내부를 살펴보면 메소드의 인자로 넘어온 name, email, addr 값을 self.name, self.email, self.addr이라는 변수에 대입하는 것을 볼 수 있습니다. 앞서 여러 번 설명한 것처럼 파이썬에서 대입은 바인딩을 의미합니다. 따라서 set_info 메소드의 동작은 name, email, addr이라는 변수가 가리키고 있던 실제 값을 self.name, self.email, self.addr이 바인딩하는 것입니다.\n"
     ]
    }
   ],
   "source": [
    "print \"위 코드를 보면 클래스 내부에 메소드를 정의하기 위해 def 키워드를 사용합니다. set-info메소드는 네 개의 인자를 바든데 그 중 name, email, addr은 사용자로부터 입력받은 데이터가 메소드로 넘어오는 데 사용되는 인자입니다. 그렇다면 메소드의 첫 번째 인자인 self는 무엇일까요?\\n\\n파이썬 클래스에서self의 의미를 정확히 이해하는 것은 중요한데 아직 제대로 설명하기는 조금 이른 감이 있습니다.일단 클래스에 내부에 정의된 함수인메소드의 첫 번째 인자는 반드시 self이어야 한다고 당분간만 외우고 사용하시기 바랍니다. \\n\\n 위 코드에서 메소드 내부를 살펴보면 메소드의 인자로 넘어온 name, email, addr 값을 self.name, self.email, self.addr이라는 변수에 대입하는 것을 볼 수 있습니다. 앞서 여러 번 설명한 것처럼 파이썬에서 대입은 바인딩을 의미합니다. 따라서 set_info 메소드의 동작은 name, email, addr이라는 변수가 가리키고 있던 실제 값을 self.name, self.email, self.addr이 바인딩하는 것입니다.\""
   ]
  },
  {
   "cell_type": "code",
   "execution_count": 30,
   "metadata": {
    "collapsed": false,
    "scrolled": true
   },
   "outputs": [
    {
     "name": "stdout",
     "output_type": "stream",
     "text": [
      "BusinessCard 클래스를 새롭게 정의했으므로 새롭게 정의된 클래스로 인스턴스를 생성해 봅시다. 붕어빵 이야기로 비유를 해보면 붕어빵을 굽는 틀을 새롭게 바꿨으므로 새로 붕어빵을 구워보는 것입니다.\n"
     ]
    }
   ],
   "source": [
    "print \"BusinessCard 클래스를 새롭게 정의했으므로 새롭게 정의된 클래스로 인스턴스를 생성해 봅시다. 붕어빵 이야기로 비유를 해보면 붕어빵을 굽는 틀을 새롭게 바꿨으므로 새로 붕어빵을 구워보는 것입니다.\""
   ]
  },
  {
   "cell_type": "code",
   "execution_count": 31,
   "metadata": {
    "collapsed": false,
    "scrolled": true
   },
   "outputs": [
    {
     "data": {
      "text/plain": [
       "<__main__.BusinessCard instance at 0x040C5FD0>"
      ]
     },
     "execution_count": 31,
     "metadata": {},
     "output_type": "execute_result"
    }
   ],
   "source": [
    "member1 = BusinessCard()\n",
    "member1"
   ]
  },
  {
   "cell_type": "code",
   "execution_count": 32,
   "metadata": {
    "collapsed": false,
    "scrolled": true
   },
   "outputs": [
    {
     "name": "stdout",
     "output_type": "stream",
     "text": [
      "새롭게 정의된 BusinessCard 클래스는 set_info라는 메소드를 포함하고 있으므로 새로 생성한 클래스 인스턴스는 해당 메소드를 호출할 수 있습니다. 위 코드를 보면 member1이라는 클래스 인스턴스를 통해 set_info라는 메소드를 호출할 수 있음을 확인할 수 있습니다. 단, 메소드에 인자를 넘겨주기 위해 파이썬 IDLE에서 괄호를 입력하면 메소드의 인자가 네 개가 아니라 세 개임을 볼 수 있습니다. 분명 우리는 set_info 메소드를 정의할 때 self, name, email, addr 순으로 네 개의 인자를 정의했지만 메소드를 호출할 때는 name, email, addr만 존재하네요.  \n"
     ]
    }
   ],
   "source": [
    "print \"새롭게 정의된 BusinessCard 클래스는 set_info라는 메소드를 포함하고 있으므로 새로 생성한 클래스 인스턴스는 해당 메소드를 호출할 수 있습니다. 위 코드를 보면 member1이라는 클래스 인스턴스를 통해 set_info라는 메소드를 호출할 수 있음을 확인할 수 있습니다. 단, 메소드에 인자를 넘겨주기 위해 파이썬 IDLE에서 괄호를 입력하면 메소드의 인자가 네 개가 아니라 세 개임을 볼 수 있습니다. 분명 우리는 set_info 메소드를 정의할 때 self, name, email, addr 순으로 네 개의 인자를 정의했지만 메소드를 호출할 때는 name, email, addr만 존재하네요.  \""
   ]
  },
  {
   "cell_type": "code",
   "execution_count": 39,
   "metadata": {
    "collapsed": false,
    "scrolled": true
   },
   "outputs": [
    {
     "data": {
      "text/plain": [
       "'Seoul'"
      ]
     },
     "execution_count": 39,
     "metadata": {},
     "output_type": "execute_result"
    }
   ],
   "source": [
    "class BusinessCard:\n",
    "    def set_info(self, name, email, addr):\n",
    "        self.name = name\n",
    "        self.email = email\n",
    "        self.addr = addr\n",
    "        \n",
    "member1 = BusinessCard()\n",
    "member1\n",
    "        \n",
    "member1.set_info(\"Yuna Kim\", \"yunakim@naver,com\", \"Seoul\")\n",
    "\n",
    "member1.addr"
   ]
  },
  {
   "cell_type": "code",
   "execution_count": 40,
   "metadata": {
    "collapsed": false
   },
   "outputs": [
    {
     "data": {
      "text/plain": [
       "'Yuna Kim'"
      ]
     },
     "execution_count": 40,
     "metadata": {},
     "output_type": "execute_result"
    }
   ],
   "source": [
    "member1.name\n"
   ]
  },
  {
   "cell_type": "code",
   "execution_count": 41,
   "metadata": {
    "collapsed": false
   },
   "outputs": [
    {
     "data": {
      "text/plain": [
       "'yunakim@naver,com'"
      ]
     },
     "execution_count": 41,
     "metadata": {},
     "output_type": "execute_result"
    }
   ],
   "source": [
    "member1.email"
   ]
  },
  {
   "cell_type": "code",
   "execution_count": 37,
   "metadata": {
    "collapsed": false,
    "scrolled": true
   },
   "outputs": [
    {
     "name": "stdout",
     "output_type": "stream",
     "text": [
      "위 코드처럼 파이썬 IDLE가 알려주는 데로 세 개의 인자만을 set_info 메소드의 입력으로 넘겨봅니다. 항상 그렇듯이 파이썬 IDLE에서 에러가 발생하지 않았다면 정상적으로 코드가 실행된 것을 의미합니다. \\N\\Nset_info 메소드의 구현을 다시 상기해보면 메소드의 인자로 넘어온 값들을 self.name, self.email, self.addr로 바인딩했습니다. 그런데 여러분들이 현재 사용 가능한 변수는 클래스 인스턴스인 member1뿐 입니다. 어떻게 하면 member1을 통해서 self.name, self.email, self.addr에 접근할 수 있을까요? \n",
      "\n",
      "self.name, self.email, self.addr과 같이 'self.변수이름'와 같은 변수를 인스턴스 변수라고 부릅니다. 인스턴스 변수의 의미는 클래스 인스턴스 내부의 변수를 의미합니다. member1이라는 인스턴스를 생성한 후 set_info 메소드를 호출했는데 이때 메소드의 인자로 넘어온 값들을 인스턴스 내부 변수인 self.name, self.email, self.addr이 바인딩하는 것입니다. 물론 클래스를 정의하는 순간에는 여러분이 생성할 인스턴스의 이름이 member1임을 모르기 때문에 self라는 영어 단어를 사용하는 것입니다. \n",
      "\n",
      " 정리해보면 set_info 메소드 내에서 self.name이라는 표현은 나중에 생성될 클래스 인스턴스 내의 name 변수를 의미합니다. 따라서 인스턴스 변수들은 위의 코드와 같이 인스턴스 이름을 적은 후 '.'를 붙인 후 인스턴스 변수의 이름을 적어주면 접근할 수 있습니다. \n"
     ]
    }
   ],
   "source": [
    "print \"위 코드처럼 파이썬 IDLE가 알려주는 데로 세 개의 인자만을 set_info 메소드의 입력으로 넘겨봅니다. 항상 그렇듯이 파이썬 IDLE에서 에러가 발생하지 않았다면 정상적으로 코드가 실행된 것을 의미합니다. \\N\\Nset_info 메소드의 구현을 다시 상기해보면 메소드의 인자로 넘어온 값들을 self.name, self.email, self.addr로 바인딩했습니다. 그런데 여러분들이 현재 사용 가능한 변수는 클래스 인스턴스인 member1뿐 입니다. 어떻게 하면 member1을 통해서 self.name, self.email, self.addr에 접근할 수 있을까요? \\n\\nself.name, self.email, self.addr과 같이 'self.변수이름'와 같은 변수를 인스턴스 변수라고 부릅니다. 인스턴스 변수의 의미는 클래스 인스턴스 내부의 변수를 의미합니다. member1이라는 인스턴스를 생성한 후 set_info 메소드를 호출했는데 이때 메소드의 인자로 넘어온 값들을 인스턴스 내부 변수인 self.name, self.email, self.addr이 바인딩하는 것입니다. 물론 클래스를 정의하는 순간에는 여러분이 생성할 인스턴스의 이름이 member1임을 모르기 때문에 self라는 영어 단어를 사용하는 것입니다. \\n\\n 정리해보면 set_info 메소드 내에서 self.name이라는 표현은 나중에 생성될 클래스 인스턴스 내의 name 변수를 의미합니다. 따라서 인스턴스 변수들은 위의 코드와 같이 인스턴스 이름을 적은 후 '.'를 붙인 후 인스턴스 변수의 이름을 적어주면 접근할 수 있습니다. \""
   ]
  },
  {
   "cell_type": "code",
   "execution_count": 42,
   "metadata": {
    "collapsed": false
   },
   "outputs": [
    {
     "data": {
      "text/plain": [
       "'Yuna Kim'"
      ]
     },
     "execution_count": 42,
     "metadata": {},
     "output_type": "execute_result"
    }
   ],
   "source": [
    "member1.name"
   ]
  },
  {
   "cell_type": "code",
   "execution_count": 43,
   "metadata": {
    "collapsed": false
   },
   "outputs": [
    {
     "data": {
      "text/plain": [
       "'yunakim@naver,com'"
      ]
     },
     "execution_count": 43,
     "metadata": {},
     "output_type": "execute_result"
    }
   ],
   "source": [
    "member1.email\n"
   ]
  },
  {
   "cell_type": "code",
   "execution_count": 44,
   "metadata": {
    "collapsed": false,
    "scrolled": true
   },
   "outputs": [
    {
     "data": {
      "text/plain": [
       "'Seoul'"
      ]
     },
     "execution_count": 44,
     "metadata": {},
     "output_type": "execute_result"
    }
   ],
   "source": [
    "member1.addr"
   ]
  },
  {
   "cell_type": "markdown",
   "metadata": {},
   "source": [
    "# 클래스 인스턴스 생성"
   ]
  },
  {
   "cell_type": "code",
   "execution_count": 45,
   "metadata": {
    "collapsed": false,
    "scrolled": true
   },
   "outputs": [
    {
     "name": "stdout",
     "output_type": "stream",
     "text": [
      "클래스는 한번 정의해두면 해당 클래스를 이용하여 여러 클래스 인스턴스를 만들 수 있습니다. 아직도 개념이 잘 이해가 안 간다면 항상 붕어빵 틀을 생각하면됩니다. 붕어빵 틀은 한 번만 만들어두면 붕어빵을 계속해서 구울 수 있는 것과 비슷합니다. \n",
      "\n",
      "이번에는 두 번째 회원에 대한 정보를 포함하는 인스턴스를 만들어 보도록 합시다. member2라는 인스턴스를 생성한 후 set_info 메소드를 호출하여 인스턴스에 변수를 저장하는 것을 확인할 수 있습니다. \n"
     ]
    }
   ],
   "source": [
    "print \"클래스는 한번 정의해두면 해당 클래스를 이용하여 여러 클래스 인스턴스를 만들 수 있습니다. 아직도 개념이 잘 이해가 안 간다면 항상 붕어빵 틀을 생각하면됩니다. 붕어빵 틀은 한 번만 만들어두면 붕어빵을 계속해서 구울 수 있는 것과 비슷합니다. \\n\\n이번에는 두 번째 회원에 대한 정보를 포함하는 인스턴스를 만들어 보도록 합시다. member2라는 인스턴스를 생성한 후 set_info 메소드를 호출하여 인스턴스에 변수를 저장하는 것을 확인할 수 있습니다. \""
   ]
  },
  {
   "cell_type": "code",
   "execution_count": 46,
   "metadata": {
    "collapsed": true
   },
   "outputs": [],
   "source": [
    "member2 = BusinessCard()\n",
    "member2.set_info(\"Sarang Lee\", \"sarang.lee@naver.com\", \"Kyunggi\")"
   ]
  },
  {
   "cell_type": "code",
   "execution_count": 47,
   "metadata": {
    "collapsed": false,
    "scrolled": true
   },
   "outputs": [
    {
     "name": "stdout",
     "output_type": "stream",
     "text": [
      "위 코드를 참조하면 member2라는 인스턴스를 통해서 역시 해당 인스턴스 내의 변수에 접근할 수 있는 것을 확인할 수 있습니다.\n"
     ]
    }
   ],
   "source": [
    "print \"위 코드를 참조하면 member2라는 인스턴스를 통해서 역시 해당 인스턴스 내의 변수에 접근할 수 있는 것을 확인할 수 있습니다.\""
   ]
  },
  {
   "cell_type": "code",
   "execution_count": 48,
   "metadata": {
    "collapsed": false,
    "scrolled": true
   },
   "outputs": [
    {
     "data": {
      "text/plain": [
       "'Sarang Lee'"
      ]
     },
     "execution_count": 48,
     "metadata": {},
     "output_type": "execute_result"
    }
   ],
   "source": [
    "member2.name"
   ]
  },
  {
   "cell_type": "code",
   "execution_count": 49,
   "metadata": {
    "collapsed": false
   },
   "outputs": [
    {
     "data": {
      "text/plain": [
       "'sarang.lee@naver.com'"
      ]
     },
     "execution_count": 49,
     "metadata": {},
     "output_type": "execute_result"
    }
   ],
   "source": [
    "member2.email"
   ]
  },
  {
   "cell_type": "code",
   "execution_count": 50,
   "metadata": {
    "collapsed": false
   },
   "outputs": [
    {
     "data": {
      "text/plain": [
       "'Kyunggi'"
      ]
     },
     "execution_count": 50,
     "metadata": {},
     "output_type": "execute_result"
    }
   ],
   "source": [
    "member2.addr"
   ]
  },
  {
   "cell_type": "code",
   "execution_count": 27,
   "metadata": {
    "collapsed": false,
    "scrolled": true
   },
   "outputs": [
    {
     "name": "stdout",
     "output_type": "stream",
     "text": [
      "파이썬에서의 클래스를 간단하게 설명하자면 변수와함수를 모아넣은 것이라고 할 수 있습니다. 클래스가 어떠한 역할을 하는지 한가지 예를 들어볼까요? 우리가 쿠키를 만들때, 쿠키의 모양을 내기 위하여 모양틀을 이용하는 경우가 대부분입니다. 여기서 모양틀에 찍혀져서 만들어지는 어떤 모양의 쿠키를 인스턴스라 할 수 있으며, 모양틀을 클래스라 할 수 있습니다.\n"
     ]
    }
   ],
   "source": [
    "print \"파이썬에서의 클래스를 간단하게 설명하자면 변수와함수를 모아넣은 것이라고 할 수 있습니다. 클래스가 어떠한 역할을 하는지 한가지 예를 들어볼까요? 우리가 쿠키를 만들때, 쿠키의 모양을 내기 위하여 모양틀을 이용하는 경우가 대부분입니다. 여기서 모양틀에 찍혀져서 만들어지는 어떤 모양의 쿠키를 인스턴스라 할 수 있으며, 모양틀을 클래스라 할 수 있습니다.\""
   ]
  },
  {
   "cell_type": "code",
   "execution_count": 52,
   "metadata": {
    "collapsed": false,
    "scrolled": true
   },
   "outputs": [
    {
     "name": "stdout",
     "output_type": "stream",
     "text": [
      "member1과 member2는 모두 인스턴스 변수인 name, email, addr을 갖고 있지만, 각각 다른 데이터를 바인딩하고 있습니다. \n"
     ]
    }
   ],
   "source": [
    "print \"member1과 member2는 모두 인스턴스 변수인 name, email, addr을 갖고 있지만, 각각 다른 데이터를 바인딩하고 있습니다. \""
   ]
  },
  {
   "cell_type": "markdown",
   "metadata": {},
   "source": [
    "# 인스턴스 변수 접근"
   ]
  },
  {
   "cell_type": "code",
   "execution_count": 51,
   "metadata": {
    "collapsed": false,
    "scrolled": true
   },
   "outputs": [
    {
     "name": "stdout",
     "output_type": "stream",
     "text": [
      "이번에는 BusinessCard 클래스에 명함을 출력하는 메소드를 추가해보도록 하겠습니다. \n"
     ]
    }
   ],
   "source": [
    "print \"이번에는 BusinessCard 클래스에 명함을 출력하는 메소드를 추가해보도록 하겠습니다. \" "
   ]
  },
  {
   "cell_type": "code",
   "execution_count": 53,
   "metadata": {
    "collapsed": true
   },
   "outputs": [],
   "source": [
    "class BusinessCard:\n",
    "    def set_info(self, name, email, addr):\n",
    "        self.name = name\n",
    "        self.emaili = email\n",
    "        self.addr = addr\n",
    "        \n",
    "    def print_info(self):\n",
    "        print \"---------------------\"\n",
    "        print \"Name: \", self.name\n",
    "        print \"E-mail: \", self.email\n",
    "        print \"Address: \", self.addr\n",
    "        print \"---------------------\""
   ]
  },
  {
   "cell_type": "code",
   "execution_count": 54,
   "metadata": {
    "collapsed": false,
    "scrolled": true
   },
   "outputs": [
    {
     "name": "stdout",
     "output_type": "stream",
     "text": [
      "위 코드와 같이 print_info 메소드를 추가하여 BusinessCard 클래스를 새롭게 정의하기 바랍니다. 새로 추가된 print_info 메소드의 구현을 살펴보면 self라는 인자 값만을 사용합니다. 앞서 간단히 설명한 것처럼 파이썬 클래스의 메소드는 항상 self라는 기본 인자를 하나 갖고 있어야 하므로 self를 제외하면 print_info 메소드는 사실 인자가 없는 함수나 마찬가지입니다.\n"
     ]
    }
   ],
   "source": [
    "print \"위 코드와 같이 print_info 메소드를 추가하여 BusinessCard 클래스를 새롭게 정의하기 바랍니다. 새로 추가된 print_info 메소드의 구현을 살펴보면 self라는 인자 값만을 사용합니다. 앞서 간단히 설명한 것처럼 파이썬 클래스의 메소드는 항상 self라는 기본 인자를 하나 갖고 있어야 하므로 self를 제외하면 print_info 메소드는 사실 인자가 없는 함수나 마찬가지입니다.\""
   ]
  },
  {
   "cell_type": "code",
   "execution_count": 56,
   "metadata": {
    "collapsed": false,
    "scrolled": true
   },
   "outputs": [
    {
     "name": "stdout",
     "output_type": "stream",
     "text": [
      "print_info 메소드의 내부 구현을 살펴보면 print 함수를 통해서 값을 출력하는데 이때 self.name, self.email, self.addr를 사용하는 것을 확인할 수 있습니다. 앞서 set_info 메소드에서 이름을 저장할때 self.name에 저장했으므로 print_info 메소드에서도 self.name을 통해서 바로 데이터에 접근하면 됩니다. \n"
     ]
    }
   ],
   "source": [
    "print \"print_info 메소드의 내부 구현을 살펴보면 print 함수를 통해서 값을 출력하는데 이때 self.name, self.email, self.addr를 사용하는 것을 확인할 수 있습니다. 앞서 set_info 메소드에서 이름을 저장할때 self.name에 저장했으므로 print_info 메소드에서도 self.name을 통해서 바로 데이터에 접근하면 됩니다. \""
   ]
  },
  {
   "cell_type": "code",
   "execution_count": 57,
   "metadata": {
    "collapsed": true
   },
   "outputs": [],
   "source": [
    "member1 = BusinessCard()\n",
    "member1.set_info(\"Yunakim\", \"Yuna.kim@naver.com\", \"Seoul\")"
   ]
  },
  {
   "cell_type": "code",
   "execution_count": 58,
   "metadata": {
    "collapsed": false,
    "scrolled": true
   },
   "outputs": [
    {
     "name": "stdout",
     "output_type": "stream",
     "text": [
      "set_info 메소드 호출을 통해 member1 이라는 인스턴스에 값이 제대로 저장이 되었는지 확인하기 위해 member1.name과 같이 인스턴스 변수에 바로 접근할 수도 있지만, 여러분은 print_info 메소드를 정의해뒀기 때문에 아래와 같이 해당 메소드를 호출함으로써 값을 화면에 쉽게 출력해 볼 수 있습니다.\n"
     ]
    }
   ],
   "source": [
    "print \"set_info 메소드 호출을 통해 member1 이라는 인스턴스에 값이 제대로 저장이 되었는지 확인하기 위해 member1.name과 같이 인스턴스 변수에 바로 접근할 수도 있지만, 여러분은 print_info 메소드를 정의해뒀기 때문에 아래와 같이 해당 메소드를 호출함으로써 값을 화면에 쉽게 출력해 볼 수 있습니다.\""
   ]
  },
  {
   "cell_type": "code",
   "execution_count": 61,
   "metadata": {
    "collapsed": false
   },
   "outputs": [
    {
     "name": "stdout",
     "output_type": "stream",
     "text": [
      " ---------------------\n",
      "Name:  Yunakim\n",
      "E-mail:  Yuna.kim@naver.com\n",
      "Address:  Seoul\n",
      "---------------------\n"
     ]
    }
   ],
   "source": [
    "class BusinessCard:\n",
    "    def set_info(self, name, email, addr):\n",
    "        self.name = name\n",
    "        self.email = email\n",
    "        self.addr = addr\n",
    "        \n",
    "    def print_info(self):\n",
    "        print \"---------------------\"\n",
    "        print \"Name: \", self.name\n",
    "        print \"E-mail: \", self.email\n",
    "        print \"Address: \", self.addr\n",
    "        print \"---------------------\"\n",
    "        \n",
    "member1 = BusinessCard()\n",
    "member1.set_info(\"Yunakim\", \"Yuna.kim@naver.com\", \"Seoul\")\n",
    "\n",
    "member1.print_info()\n"
   ]
  },
  {
   "cell_type": "markdown",
   "metadata": {},
   "source": [
    "# 생성자"
   ]
  },
  {
   "cell_type": "code",
   "execution_count": 62,
   "metadata": {
    "collapsed": false,
    "scrolled": true
   },
   "outputs": [
    {
     "name": "stdout",
     "output_type": "stream",
     "text": [
      "파이썬의 클래스를 이용하면 프로그래머가 원하는 새로운 타입을 만드 수 있고, 생성된 타입은 데이터와 데이터를 처리하는 메소드(함수)들로 구성되어 있습니다. 파이썬의 class 키워드를 통해 BusinessCard라는 새로운 타입을 만들었으니 인스턴스를 생성해야겠죠? 클래스 인스턴스를 생성하려면 '클래스 이름()'과 같이 적어주면 됩니다. 그리고 생성된 인스턴스에 점 (.)을 찍으면 인스턴스 변수나 메소드들을 접근할 수 있었습니다. \n"
     ]
    }
   ],
   "source": [
    "print \"파이썬의 클래스를 이용하면 프로그래머가 원하는 새로운 타입을 만드 수 있고, 생성된 타입은 데이터와 데이터를 처리하는 메소드(함수)들로 구성되어 있습니다. 파이썬의 class 키워드를 통해 BusinessCard라는 새로운 타입을 만들었으니 인스턴스를 생성해야겠죠? 클래스 인스턴스를 생성하려면 '클래스 이름()'과 같이 적어주면 됩니다. 그리고 생성된 인스턴스에 점 (.)을 찍으면 인스턴스 변수나 메소드들을 접근할 수 있었습니다. \""
   ]
  },
  {
   "cell_type": "code",
   "execution_count": null,
   "metadata": {
    "collapsed": true
   },
   "outputs": [],
   "source": [
    "member1 = BusinessCard()\n",
    "member1.set_info(\"Yunakim\", \"Yuna.kim@naver.com\", \"Seoul\")"
   ]
  },
  {
   "cell_type": "code",
   "execution_count": 63,
   "metadata": {
    "collapsed": false,
    "scrolled": true
   },
   "outputs": [
    {
     "name": "stdout",
     "output_type": "stream",
     "text": [
      "그런데 위의 코드를 보면 먼저 인스턴스를 생성하고 생성된 인스턴스에 데이터를 입력하는 순으로 코드가 구성되어 있습니다. 보통 클래스를 통해서 새로운 타입을 만들게 되면 해당 타입에 값을 입력하게 될 것이고 그럴 때마다 인스턴스의 생성과 값의 입력을 하자니 조금 번거롭고 복잡해 보입니다. 붕어빵으로 비유를 해보면 붕어빵 틀(클래스)를 이용하여 팥을 넣지 않은 상태로 붕어빵을 구운 후(인스턴스 생성) 나중에 다시 붕어빵 안으로 팥을 넣는 것과 비슷합니다. 어떻게 하면 클래스 인스턴스의 성성과 초깃값의 입력을 한번에 처리할 수 있을까요? \n",
      "\n",
      "파이썬에서는 인스턴스가 생성될 때 자동으로 불리는 메소드인 생성자를 지원합니다. 클래스에서 init(self)와 같은 이르의 메소드를 생성자라고 하는데, 파이썬 클래스에서 _로 시작하는 함수는 모두 특별한 메소드를 의미합니다.\n"
     ]
    }
   ],
   "source": [
    "print \"그런데 위의 코드를 보면 먼저 인스턴스를 생성하고 생성된 인스턴스에 데이터를 입력하는 순으로 코드가 구성되어 있습니다. 보통 클래스를 통해서 새로운 타입을 만들게 되면 해당 타입에 값을 입력하게 될 것이고 그럴 때마다 인스턴스의 생성과 값의 입력을 하자니 조금 번거롭고 복잡해 보입니다. 붕어빵으로 비유를 해보면 붕어빵 틀(클래스)를 이용하여 팥을 넣지 않은 상태로 붕어빵을 구운 후(인스턴스 생성) 나중에 다시 붕어빵 안으로 팥을 넣는 것과 비슷합니다. 어떻게 하면 클래스 인스턴스의 성성과 초깃값의 입력을 한번에 처리할 수 있을까요? \\n\\n파이썬에서는 인스턴스가 생성될 때 자동으로 불리는 메소드인 생성자를 지원합니다. 클래스에서 init(self)와 같은 이르의 메소드를 생성자라고 하는데, 파이썬 클래스에서 _로 시작하는 함수는 모두 특별한 메소드를 의미합니다.\""
   ]
  },
  {
   "cell_type": "code",
   "execution_count": null,
   "metadata": {
    "collapsed": true
   },
   "outputs": [],
   "source": [
    "class MyClass:\n",
    "    def __init__(self):\n",
    "        print \"객체가 생성되었습니다.\"\n",
    "        "
   ]
  },
  {
   "cell_type": "code",
   "execution_count": 67,
   "metadata": {
    "collapsed": false,
    "scrolled": true
   },
   "outputs": [
    {
     "name": "stdout",
     "output_type": "stream",
     "text": [
      "위의 코드는 생성자인 init(self) 메소드를 가진 MyClass를 정의한 것입니다. 앞서 설명한 것처럼 클래스 내에 정의된 함수인 메소드의 첫 번째 인자는 항상 self이어야 합니다. 생성자 내부에는 print 문을 통해서 간단한 메시지가 출력되도록 구현해 두었습니다. \n",
      "\n",
      "MyClass라는 이름의 클래스를 정의했으니 해당 클래스에 대한 인스턴스를 생성해 보도록 하겠습니다.\n"
     ]
    }
   ],
   "source": [
    "print \"위의 코드는 생성자인 init(self) 메소드를 가진 MyClass를 정의한 것입니다. 앞서 설명한 것처럼 클래스 내에 정의된 함수인 메소드의 첫 번째 인자는 항상 self이어야 합니다. 생성자 내부에는 print 문을 통해서 간단한 메시지가 출력되도록 구현해 두었습니다. \\n\\nMyClass라는 이름의 클래스를 정의했으니 해당 클래스에 대한 인스턴스를 생성해 보도록 하겠습니다.\""
   ]
  },
  {
   "cell_type": "code",
   "execution_count": 66,
   "metadata": {
    "collapsed": false
   },
   "outputs": [
    {
     "name": "stdout",
     "output_type": "stream",
     "text": [
      "객체가 생성되었습니다.\n"
     ]
    }
   ],
   "source": [
    "class MyClass:\n",
    "    def __init__(self):\n",
    "        print \"객체가 생성되었습니다.\"\n",
    "        \n",
    "inst1 = MyClass()"
   ]
  },
  {
   "cell_type": "code",
   "execution_count": 69,
   "metadata": {
    "collapsed": false,
    "scrolled": true
   },
   "outputs": [
    {
     "name": "stdout",
     "output_type": "stream",
     "text": [
      "위의 코드를 참조하면 인스턴스를 생성하자마자 화면에 메시지가 출력됨을 확인할 수 있습니다. 이는 인스턴스가 생성되는 시점에 자동으로 생성자인 init(self) 메소드가 호출되었기 때문입니다. 참고로 init이라는 영어 단어는 '초기화하다'라는 뜻이 있는 initialize라는 영어 단어의 약어입니다. \n"
     ]
    }
   ],
   "source": [
    "print \"위의 코드를 참조하면 인스턴스를 생성하자마자 화면에 메시지가 출력됨을 확인할 수 있습니다. 이는 인스턴스가 생성되는 시점에 자동으로 생성자인 init(self) 메소드가 호출되었기 때문입니다. 참고로 init이라는 영어 단어는 '초기화하다'라는 뜻이 있는 initialize라는 영어 단어의 약어입니다. \""
   ]
  },
  {
   "cell_type": "code",
   "execution_count": null,
   "metadata": {
    "collapsed": true
   },
   "outputs": [],
   "source": [
    "class BusinessCard:\n",
    "    def __init__(self, name, email, addr):\n",
    "        self.name = name\n",
    "        self.email = email\n",
    "        self.addr = addr\n",
    "    def print_info(self):\n",
    "        print \"----------------------\"\n",
    "        print \"Name: \",self.name\n",
    "        print \"E-mail: \", self.email\n",
    "        print \"Address: \",self.addr\n",
    "        print \"----------------------\""
   ]
  },
  {
   "cell_type": "code",
   "execution_count": 70,
   "metadata": {
    "collapsed": false,
    "scrolled": true
   },
   "outputs": [
    {
     "name": "stdout",
     "output_type": "stream",
     "text": [
      "클래스의 생성자를 이해했다면 위의 클래스를 새로 정의해 봅시다. 눈치가 빠르다면 set_info였던 메소드를 init메소드로 이름을 변경해 줬습니다. 위의 코드를 보면 생성자의 인자가 네 개임을 확인할 수 있습니다. 물론 첫 번째 인자인 self는 생성되는 인스턴스를 생성할 때 호출되는생성자에서 발생하는 에러로 인해 인스턴스도 정상적으로 생성되지 않게 됩니다.\n"
     ]
    }
   ],
   "source": [
    "print \"클래스의 생성자를 이해했다면 위의 클래스를 새로 정의해 봅시다. 눈치가 빠르다면 set_info였던 메소드를 init메소드로 이름을 변경해 줬습니다. 위의 코드를 보면 생성자의 인자가 네 개임을 확인할 수 있습니다. 물론 첫 번째 인자인 self는 생성되는 인스턴스를 의미하고 자동으로 값이 넘어오므로 여러분이 인스턴스를 생성할 때 명시적으로 인자를 넘겨줘야 하는 것은 세 개 입니다. \""
   ]
  },
  {
   "cell_type": "code",
   "execution_count": 74,
   "metadata": {
    "collapsed": false,
    "scrolled": true
   },
   "outputs": [
    {
     "ename": "TypeError",
     "evalue": "__init__() takes exactly 4 arguments (1 given)",
     "output_type": "error",
     "traceback": [
      "\u001b[0;31m---------------------------------------------------------------------------\u001b[0m",
      "\u001b[0;31mTypeError\u001b[0m                                 Traceback (most recent call last)",
      "\u001b[0;32m<ipython-input-74-36fc77777298>\u001b[0m in \u001b[0;36m<module>\u001b[0;34m()\u001b[0m\n\u001b[1;32m     12\u001b[0m         \u001b[1;32mprint\u001b[0m \u001b[1;34m\"----------------------\"\u001b[0m\u001b[1;33m\u001b[0m\u001b[0m\n\u001b[1;32m     13\u001b[0m \u001b[1;33m\u001b[0m\u001b[0m\n\u001b[0;32m---> 14\u001b[0;31m \u001b[0mmember1\u001b[0m \u001b[1;33m=\u001b[0m \u001b[0mBusinessCard\u001b[0m\u001b[1;33m(\u001b[0m\u001b[1;33m)\u001b[0m\u001b[1;33m\u001b[0m\u001b[0m\n\u001b[0m",
      "\u001b[0;31mTypeError\u001b[0m: __init__() takes exactly 4 arguments (1 given)"
     ]
    }
   ],
   "source": [
    "# 잘못된 인스턴스 생성\n",
    "class BusinessCard:\n",
    "    def __init__(self, name, email, addr):\n",
    "        self.name = name\n",
    "        self.email = email\n",
    "        self.addr = addr\n",
    "    def print_info(self):\n",
    "        print \"----------------------\"\n",
    "        print \"Name: \",self.name\n",
    "        print \"E-mail: \", self.email\n",
    "        print \"Address: \",self.addr\n",
    "        print \"----------------------\"\n",
    "        \n",
    "member1 = BusinessCard()\n"
   ]
  },
  {
   "cell_type": "code",
   "execution_count": 72,
   "metadata": {
    "collapsed": false,
    "scrolled": true
   },
   "outputs": [
    {
     "name": "stdout",
     "output_type": "stream",
     "text": [
      "위 코드를 보면 생성자의 인자가 네 개임을 확인할 수 있습니다. 물론 첫 번째 인자인 self는 생성되는 인스턴스를 의미하고 자동으로 값이 넘어오므로 여러분이 인스턴스를 생성할 때 명시적으로 인자를 넘겨줘야 하는 것은 세 개 입니다. 만일 위의 코드와 같이 세 개의 인자를 넘기지 않고 인스턴스를 생성하면 에러가 발생하게 됩니다. 인스턴스를 생성할 때 호출되는 생성자에서 발생하는 에러로 인해 인스턴스도 정상적으로 생성되지 않게 됩니다.\n"
     ]
    }
   ],
   "source": [
    "print \"위 코드를 보면 생성자의 인자가 네 개임을 확인할 수 있습니다. 물론 첫 번째 인자인 self는 생성되는 인스턴스를 의미하고 자동으로 값이 넘어오므로 여러분이 인스턴스를 생성할 때 명시적으로 인자를 넘겨줘야 하는 것은 세 개 입니다. 만일 위의 코드와 같이 세 개의 인자를 넘기지 않고 인스턴스를 생성하면 에러가 발생하게 됩니다. 인스턴스를 생성할 때 호출되는 생성자에서 발생하는 에러로 인해 인스턴스도 정상적으로 생성되지 않게 됩니다.\""
   ]
  },
  {
   "cell_type": "code",
   "execution_count": 75,
   "metadata": {
    "collapsed": false
   },
   "outputs": [
    {
     "name": "stdout",
     "output_type": "stream",
     "text": [
      "----------------------\n",
      "Name:  Kangsan Lee\n",
      "E-mail:  kangsan.lee\n",
      "Address:  USA\n",
      "----------------------\n"
     ]
    }
   ],
   "source": [
    "class BusinessCard:\n",
    "    def __init__(self, name, email, addr):\n",
    "        self.name = name\n",
    "        self.email = email\n",
    "        self.addr = addr\n",
    "    def print_info(self):\n",
    "        print \"----------------------\"\n",
    "        print \"Name: \",self.name\n",
    "        print \"E-mail: \", self.email\n",
    "        print \"Address: \",self.addr\n",
    "        print \"----------------------\"\n",
    "        \n",
    "member1 = BusinessCard(\"Kangsan Lee\", \"kangsan.lee\", \"USA\")\n",
    "member1.print_info()"
   ]
  },
  {
   "cell_type": "code",
   "execution_count": 76,
   "metadata": {
    "collapsed": false
   },
   "outputs": [
    {
     "name": "stdout",
     "output_type": "stream",
     "text": [
      "새롭게 정의한 BusinessCard 클래스는 생성자에서 세 개의 인자(name, email, addr)를 받기 때문에 예제 위 코드와 같이 인스턴스를 생성할 때 세 개의 인자를 넘겨줘야 정상적으로 인스턴스가 생성됩니다. member1 이라는 인스턴스가 생성된 후에는 인스턴스 메소드를 호출하여 인스턴스 변수 값들을 화면에 출력할 수 있습니다. 어떤가요? 클래스의 생성자를 사용하니 인스턴스의 생성과 초깃값 저장을 한 번에 할 수 있어 편리하지요?\n"
     ]
    }
   ],
   "source": [
    "print \"새롭게 정의한 BusinessCard 클래스는 생성자에서 세 개의 인자(name, email, addr)를 받기 때문에 예제 위 코드와 같이 인스턴스를 생성할 때 세 개의 인자를 넘겨줘야 정상적으로 인스턴스가 생성됩니다. member1 이라는 인스턴스가 생성된 후에는 인스턴스 메소드를 호출하여 인스턴스 변수 값들을 화면에 출력할 수 있습니다. 어떤가요? 클래스의 생성자를 사용하니 인스턴스의 생성과 초깃값 저장을 한 번에 할 수 있어 편리하지요?\""
   ]
  },
  {
   "cell_type": "markdown",
   "metadata": {},
   "source": [
    "# self 이해하기"
   ]
  },
  {
   "cell_type": "code",
   "execution_count": 1,
   "metadata": {
    "collapsed": false,
    "scrolled": true
   },
   "outputs": [
    {
     "name": "stdout",
     "output_type": "stream",
     "text": [
      "파이썬의 클래스 내에 정의된 함수를 메소드라고 부른다고 했습니다. 그리고 메소드의 첫 번째 인자는 항상 self여야 한다고 했습니다. 하지만 메소드의 첫 번째 인자가 항상 self이어야 한다는 것은 사실 틀린 말입니다. \n",
      "\n",
      "\n"
     ]
    }
   ],
   "source": [
    "print \"파이썬의 클래스 내에 정의된 함수를 메소드라고 부른다고 했습니다. 그리고 메소드의 첫 번째 인자는 항상 self여야 한다고 했습니다. 하지만 메소드의 첫 번째 인자가 항상 self이어야 한다는 것은 사실 틀린 말입니다. \\n\\n\""
   ]
  },
  {
   "cell_type": "code",
   "execution_count": 4,
   "metadata": {
    "collapsed": false,
    "scrolled": true
   },
   "outputs": [
    {
     "name": "stdout",
     "output_type": "stream",
     "text": [
      "function 2\n"
     ]
    }
   ],
   "source": [
    "class Foo:\n",
    "    def func1():\n",
    "        print \"function 1\"\n",
    "    def func2(self):\n",
    "        print \"function 2\"\n",
    "        \n",
    "f = Foo()\n",
    "f.func2()"
   ]
  },
  {
   "cell_type": "code",
   "execution_count": 5,
   "metadata": {
    "collapsed": false,
    "scrolled": true
   },
   "outputs": [
    {
     "name": "stdout",
     "output_type": "stream",
     "text": [
      "먼저 위 코드와 같이 두 개의 메소드를 가지는 Foo 클래스를 만들어 봅시다. 여기서 눈여겨 봐야 할 점은 func1() 메소드의 첫 번째 인자가 self가 아님에도 클래스를 정의할 때 에러가 발생되지 않는다는 점입니다.\n",
      "\n",
      "위에서 메소드 호출의 결과를 보면 화면에 정상적으로 'function 2'가 출력된 것을 볼 수 있습니다. 참고로 func2 메소드의 첫 번째 인자는 self이지만 호출할 때는 아무것도 넘겨주지 않는 이유는 첫 번째 인자인 self에 대한 값은 파이썬이 자동으로 넘겨주기 때문입니다. \n",
      "\n",
      " 그렇다면 func1 메소드처럼 메소드를 정의할 때부터 아무 인자도 없는 경우에는 어떻게 될까요?    \n"
     ]
    }
   ],
   "source": [
    "print \"먼저 위 코드와 같이 두 개의 메소드를 가지는 Foo 클래스를 만들어 봅시다. 여기서 눈여겨 봐야 할 점은 func1() 메소드의 첫 번째 인자가 self가 아님에도 클래스를 정의할 때 에러가 발생되지 않는다는 점입니다.\\n\\n위에서 메소드 호출의 결과를 보면 화면에 정상적으로 'function 2'가 출력된 것을 볼 수 있습니다. 참고로 func2 메소드의 첫 번째 인자는 self이지만 호출할 때는 아무것도 넘겨주지 않는 이유는 첫 번째 인자인 self에 대한 값은 파이썬이 자동으로 넘겨주기 때문입니다. \\n\\n 그렇다면 func1 메소드처럼 메소드를 정의할 때부터 아무 인자도 없는 경우에는 어떻게 될까요?    \""
   ]
  },
  {
   "cell_type": "code",
   "execution_count": 6,
   "metadata": {
    "collapsed": false,
    "scrolled": true
   },
   "outputs": [
    {
     "ename": "TypeError",
     "evalue": "func1() takes no arguments (1 given)",
     "output_type": "error",
     "traceback": [
      "\u001b[0;31m---------------------------------------------------------------------------\u001b[0m",
      "\u001b[0;31mTypeError\u001b[0m                                 Traceback (most recent call last)",
      "\u001b[0;32m<ipython-input-6-bc3ed08bf4f9>\u001b[0m in \u001b[0;36m<module>\u001b[0;34m()\u001b[0m\n\u001b[1;32m      6\u001b[0m \u001b[1;33m\u001b[0m\u001b[0m\n\u001b[1;32m      7\u001b[0m \u001b[0mf\u001b[0m \u001b[1;33m=\u001b[0m \u001b[0mFoo\u001b[0m\u001b[1;33m(\u001b[0m\u001b[1;33m)\u001b[0m\u001b[1;33m\u001b[0m\u001b[0m\n\u001b[0;32m----> 8\u001b[0;31m \u001b[0mf\u001b[0m\u001b[1;33m.\u001b[0m\u001b[0mfunc1\u001b[0m\u001b[1;33m(\u001b[0m\u001b[1;33m)\u001b[0m\u001b[1;33m\u001b[0m\u001b[0m\n\u001b[0m",
      "\u001b[0;31mTypeError\u001b[0m: func1() takes no arguments (1 given)"
     ]
    }
   ],
   "source": [
    "class Foo:\n",
    "    def func1():\n",
    "        print \"function 1\"\n",
    "    def func2(self):\n",
    "        print \"function 2\"\n",
    "        \n",
    "f = Foo()\n",
    "f.func1()"
   ]
  },
  {
   "cell_type": "code",
   "execution_count": 7,
   "metadata": {
    "collapsed": false,
    "scrolled": true
   },
   "outputs": [
    {
     "name": "stdout",
     "output_type": "stream",
     "text": [
      "위와 같이 인스턴스를 통해서 func1()을 호출해보면 에러가 발생하게 됩니다. 에러의 메시지를 살펴보면 'func1()은 인자가 없지만 하나를 받았다' 라는 것을 볼 수 있습니다. 이는 앞서 저자가 설명한 것처럼 파이썬의 메소드의 첫 번째 인자로 항상 인스턴스가 넘어가기 때문에 발생하는 문제입니다.\n"
     ]
    }
   ],
   "source": [
    "print \"위와 같이 인스턴스를 통해서 func1()을 호출해보면 에러가 발생하게 됩니다. 에러의 메시지를 살펴보면 'func1()은 인자가 없지만 하나를 받았다' 라는 것을 볼 수 있습니다. 이는 앞서 저자가 설명한 것처럼 파이썬의 메소드의 첫 번째 인자로 항상 인스턴스가 넘어가기 때문에 발생하는 문제입니다.\""
   ]
  },
  {
   "cell_type": "code",
   "execution_count": 15,
   "metadata": {
    "collapsed": false
   },
   "outputs": [
    {
     "name": "stdout",
     "output_type": "stream",
     "text": [
      "이번에는 self의 정체를 좀 더 확실히 밝혀보기 위하여 파이썬 내장 함수인 id()를 이용하여 인스턴스가 메모리에 할당된 주솟값을 확인해보도록 하겠습니다.위의 코드처럼 Foo클래스를 새롭게 정의해보세요. 위 코드를 참조하면 func2 메소드가 호출될 때 메소드의 인자로 넘어오는 self에 대한 id값을 화면에 출력하는것을 볼 수 있습니다.\n"
     ]
    }
   ],
   "source": [
    "print \"이번에는 self의 정체를 좀 더 확실히 밝혀보기 위하여 파이썬 내장 함수인 id()를 이용하여 인스턴스가 메모리에 할당된 주솟값을 확인해보도록 하겠습니다.위의 코드처럼 Foo클래스를 새롭게 정의해보세요. 위 코드를 참조하면 func2 메소드가 호출될 때 메소드의 인자로 넘어오는 self에 대한 id값을 화면에 출력하는것을 볼 수 있습니다.\""
   ]
  },
  {
   "cell_type": "code",
   "execution_count": 24,
   "metadata": {
    "collapsed": false
   },
   "outputs": [
    {
     "data": {
      "text/plain": [
       "78986456"
      ]
     },
     "execution_count": 24,
     "metadata": {},
     "output_type": "execute_result"
    }
   ],
   "source": [
    "class Foo:\n",
    "    def func1():\n",
    "        print \"function 1\"\n",
    "    \n",
    "    def func2(self):\n",
    "        print id(self)\n",
    "        print \"function 2\"\n",
    "        \n",
    "f = Foo()\n",
    "id(f)"
   ]
  },
  {
   "cell_type": "code",
   "execution_count": 25,
   "metadata": {
    "collapsed": false,
    "scrolled": false
   },
   "outputs": [
    {
     "name": "stdout",
     "output_type": "stream",
     "text": [
      "78986456\n",
      "function 2\n"
     ]
    }
   ],
   "source": [
    "f.func2()"
   ]
  },
  {
   "cell_type": "code",
   "execution_count": 27,
   "metadata": {
    "collapsed": false,
    "scrolled": false
   },
   "outputs": [
    {
     "name": "stdout",
     "output_type": "stream",
     "text": [
      "위 코드와 같이 Foo 클래스에 대한 인스턴스는 메모리의 78986456번지부터 할당되어 있고 변수 f는 인스턴스의 주솟값을 저장하고 있습니다. \n",
      "\n",
      "이제 놀라운 광경을 목격할 겁니다. Foo 클래스는 function2 메소드도 있는데 인스턴스 f를 이용하여 위와 같이 function2 메소드를 호출해보기 바랍니다. func2 구현을 살펴보면 넘어온 인스턴스 (self)의 메모리 주솟값을 출력하게 되어 있는데 출력된 값이 78986456입니다. 놀랍게도 메소드의 인자인 self로 넘어오는 값은 f가 바인딩하고 있는 인스턴스인 것입니다. \n"
     ]
    }
   ],
   "source": [
    "print \"위 코드와 같이 Foo 클래스에 대한 인스턴스는 메모리의 78986456번지부터 할당되어 있고 변수 f는 인스턴스의 주솟값을 저장하고 있습니다. \\n\\n이제 놀라운 광경을 목격할 겁니다. Foo 클래스는 function2 메소드도 있는데 인스턴스 f를 이용하여 위와 같이 function2 메소드를 호출해보기 바랍니다. func2 구현을 살펴보면 넘어온 인스턴스 (self)의 메모리 주솟값을 출력하게 되어 있는데 출력된 값이 78986456입니다. 놀랍게도 메소드의 인자인 self로 넘어오는 값은 f가 바인딩하고 있는 인스턴스인 것입니다. \""
   ]
  },
  {
   "cell_type": "code",
   "execution_count": 28,
   "metadata": {
    "collapsed": false
   },
   "outputs": [
    {
     "data": {
      "text/plain": [
       "78992408"
      ]
     },
     "execution_count": 28,
     "metadata": {},
     "output_type": "execute_result"
    }
   ],
   "source": [
    "f2 = Foo()\n",
    "id(f2)"
   ]
  },
  {
   "cell_type": "code",
   "execution_count": 29,
   "metadata": {
    "collapsed": false,
    "scrolled": false
   },
   "outputs": [
    {
     "name": "stdout",
     "output_type": "stream",
     "text": [
      "78992408\n",
      "function 2\n"
     ]
    }
   ],
   "source": [
    "f2.func2()"
   ]
  },
  {
   "cell_type": "code",
   "execution_count": 43,
   "metadata": {
    "collapsed": false
   },
   "outputs": [
    {
     "data": {
      "text/plain": [
       "80118848"
      ]
     },
     "execution_count": 43,
     "metadata": {},
     "output_type": "execute_result"
    }
   ],
   "source": [
    "f3 = Foo()\n",
    "id(f3)"
   ]
  },
  {
   "cell_type": "code",
   "execution_count": 31,
   "metadata": {
    "collapsed": false,
    "scrolled": true
   },
   "outputs": [
    {
     "name": "stdout",
     "output_type": "stream",
     "text": [
      "아직 이해가 잘 안가시는 분들을 위해서 객체를 하나 더 만들어 보도록 하겠습니다. 새로 생성한 객체는 2가 가리키고 있는데, id()를 통해서 확인해보니 주소가 78986456입니다. f2를 통해서 func2메소드를 호출해보면 이번에는 78986456가 출력되었습니다. 이 값은 바로 f2가 가리키고 있는 객체입니다. \n"
     ]
    }
   ],
   "source": [
    "print \"아직 이해가 잘 안가시는 분들을 위해서 객체를 하나 더 만들어 보도록 하겠습니다. 새로 생성한 객체는 2가 가리키고 있는데, id()를 통해서 확인해보니 주소가 78986456입니다. f2를 통해서 func2메소드를 호출해보면 이번에는 78986456가 출력되었습니다. 이 값은 바로 f2가 가리키고 있는 객체입니다. \""
   ]
  },
  {
   "cell_type": "code",
   "execution_count": 61,
   "metadata": {
    "collapsed": false
   },
   "outputs": [
    {
     "name": "stdout",
     "output_type": "stream",
     "text": [
      "제 이름은 박한빛 입니다.\n"
     ]
    }
   ],
   "source": [
    "class Student:\n",
    "    name = \"박한빛\"\n",
    "    def info(self):\n",
    "        print \"제 이름은 \" + self.name + \" 입니다.\"\n",
    "        \n",
    "inst = Student()\n",
    "type(inst)\n",
    "\n",
    "inst.info()"
   ]
  },
  {
   "cell_type": "code",
   "execution_count": 41,
   "metadata": {
    "collapsed": false
   },
   "outputs": [
    {
     "name": "stdout",
     "output_type": "stream",
     "text": [
      "위 코드에서의 (inst.name)은 인스턴스 객체인 inst의 name변수를 가져오는 것이며, ( inst.info() )는 info 함수를 호출하는 것이라고 볼 수 있습니다. 그런데 코드를 자세히 훑어보니 이상한 점 하나 안보이나요? Student 클래스 내의 info 함수의 인자를 보면 첫번째로 self라는 녀석이 와있는 것을 확인하실 수 있습니다. 이 self라는 녀석이 어떤 기능을 하는 녀석인지 한번 보도록 하겠습니다.\n"
     ]
    }
   ],
   "source": [
    "print \"위 코드에서의 (inst.name)은 인스턴스 객체인 inst의 name변수를 가져오는 것이며, ( inst.info() )는 info 함수를 호출하는 것이라고 볼 수 있습니다. 그런데 코드를 자세히 훑어보니 이상한 점 하나 안보이나요? Student 클래스 내의 info 함수의 인자를 보면 첫번째로 self라는 녀석이 와있는 것을 확인하실 수 있습니다. 이 self라는 녀석이 어떤 기능을 하는 녀석인지 한번 보도록 하겠습니다.\""
   ]
  },
  {
   "cell_type": "code",
   "execution_count": 36,
   "metadata": {
    "collapsed": false
   },
   "outputs": [
    {
     "name": "stdout",
     "output_type": "stream",
     "text": [
      "위 예제를 보시면 1행 ~ 4행 까지는 Student라는 이름의 클래스를 선언하는것 이라고 보시면 됩니다. 클래스를 선언하는 방법은 위 예제를 통해 아래와 같은 형식을 따른다는 것을 알 수 있습니다.\n"
     ]
    }
   ],
   "source": [
    "print \"위 예제를 보시면 1행 ~ 4행 까지는 Student라는 이름의 클래스를 선언하는것 이라고 보시면 됩니다. 클래스를 선언하는 방법은 위 예제를 통해 아래와 같은 형식을 따른다는 것을 알 수 있습니다.\""
   ]
  },
  {
   "cell_type": "code",
   "execution_count": null,
   "metadata": {
    "collapsed": true
   },
   "outputs": [],
   "source": [
    "class 클래스명:\n",
    "    문장"
   ]
  },
  {
   "cell_type": "code",
   "execution_count": 37,
   "metadata": {
    "collapsed": false,
    "scrolled": false
   },
   "outputs": [
    {
     "name": "stdout",
     "output_type": "stream",
     "text": [
      "이어서 2행을 보시면 변수가 Student 클래스 내에 위치해 있다는 것을 알 수 있습니다. 그리고 3~4행에서는 info라는 함수도 Student 클래스 안에 있다는 것 역시 보실 수 있습니다. 위에서 말했던대로, 클래스는 변수와 함수를 모아넣은 집합체라고 말할 수 있습니다. 6행에서는 인스턴스 객체를 만드는데 여기서 클래스의 이름을 호출하고 이를 변수에 집어넣음으로써 간단하게 인스턴스 객체를 만들 수 있습니다. 7행에서 type라는 내장 함수를 사용하여 변수 inst의 형식을 알아보는데, 8행의 결과를 통해 Student라는 클래스를 통해 생성된 인스턴스 객체임을 알 수 있습니다.\n"
     ]
    }
   ],
   "source": [
    "print \"이어서 2행을 보시면 변수가 Student 클래스 내에 위치해 있다는 것을 알 수 있습니다. 그리고 3~4행에서는 info라는 함수도 Student 클래스 안에 있다는 것 역시 보실 수 있습니다. 위에서 말했던대로, 클래스는 변수와 함수를 모아넣은 집합체라고 말할 수 있습니다. 6행에서는 인스턴스 객체를 만드는데 여기서 클래스의 이름을 호출하고 이를 변수에 집어넣음으로써 간단하게 인스턴스 객체를 만들 수 있습니다. 7행에서 type라는 내장 함수를 사용하여 변수 inst의 형식을 알아보는데, 8행의 결과를 통해 Student라는 클래스를 통해 생성된 인스턴스 객체임을 알 수 있습니다.\""
   ]
  },
  {
   "cell_type": "markdown",
   "metadata": {},
   "source": [
    "# self"
   ]
  },
  {
   "cell_type": "code",
   "execution_count": 42,
   "metadata": {
    "collapsed": false,
    "scrolled": true
   },
   "outputs": [
    {
     "name": "stdout",
     "output_type": "stream",
     "text": [
      "이 self는 현재의 인스턴스 객체를 가리키는 기능을 하는 녀석으로써, 쉽게 말하자면 self의 사전적 의미 그대로 자기 자신을 의미합니다. 이 self라는 지시어는 이름공간(namespace)와 물론 관련이 있지만, 우선은 간단하게만 알아두고 이름공간에 대해서는 나중에 자세히 다루도록 하겠습니다. 주의할 점이 있다면, 클래스 내에서 함수가 정의될 경우에는 첫번째 매개변수로 self가 와야 합니다.\n"
     ]
    }
   ],
   "source": [
    "print \"이 self는 현재의 인스턴스 객체를 가리키는 기능을 하는 녀석으로써, 쉽게 말하자면 self의 사전적 의미 그대로 자기 자신을 의미합니다. 이 self라는 지시어는 이름공간(namespace)와 물론 관련이 있지만, 우선은 간단하게만 알아두고 이름공간에 대해서는 나중에 자세히 다루도록 하겠습니다. 주의할 점이 있다면, 클래스 내에서 함수가 정의될 경우에는 첫번째 매개변수로 self가 와야 합니다.\""
   ]
  },
  {
   "cell_type": "code",
   "execution_count": 67,
   "metadata": {
    "collapsed": false
   },
   "outputs": [],
   "source": [
    "class Dog:\n",
    "    def cry(self):\n",
    "        print \"왈왈!\""
   ]
  },
  {
   "cell_type": "code",
   "execution_count": 44,
   "metadata": {
    "collapsed": false,
    "scrolled": true
   },
   "outputs": [
    {
     "name": "stdout",
     "output_type": "stream",
     "text": [
      "위와 같이 첫번째 매개변수에 self를 넣어주고, 여기서 class.method(instance)와 instance.method()이 같은데 이는 위의 예제에서 Dog.cry(instance)와 instance.cry()가 같다는 말입니다. 만약 self를 없애버린다면, 인스턴스 객체를 통해 cry 함수를 호출할 수 없을 것입니다. 또한 클래스 내부의 변수에 접근할때도 앞에 self.를 붙여주어야 합니다. \n"
     ]
    }
   ],
   "source": [
    "print \"위와 같이 첫번째 매개변수에 self를 넣어주고, 여기서 class.method(instance)와 instance.method()이 같은데 이는 위의 예제에서 Dog.cry(instance)와 instance.cry()가 같다는 말입니다. 만약 self를 없애버린다면, 인스턴스 객체를 통해 cry 함수를 호출할 수 없을 것입니다. 또한 클래스 내부의 변수에 접근할때도 앞에 self.를 붙여주어야 합니다. \""
   ]
  },
  {
   "cell_type": "code",
   "execution_count": 46,
   "metadata": {
    "collapsed": true
   },
   "outputs": [],
   "source": [
    "class Dog:\n",
    "    name = \"멍멍이\"\n",
    "    def cry(self):\n",
    "        print(self.name + \": 왈왈!\")"
   ]
  },
  {
   "cell_type": "code",
   "execution_count": 50,
   "metadata": {
    "collapsed": false
   },
   "outputs": [
    {
     "name": "stdout",
     "output_type": "stream",
     "text": [
      "만약 위 예제에서 self.를 제외한다면, (global name 'name'is not defined) 와 같은 에러의 내용 그대로 전역 영역에서 name이란 변수를 찾게 됩니다. 즉, 전역 영역에 name이 정의되지 않았다는 겁니다. 왜 self를 붙여야 하는지에 대해서는 잠시 생각을 접어두고, 자신 내에 있는 변수나 함수의 첫번째 매개변수에 self가 들어가야 한다는 것을 꼭 기억해두도록 합시다.\n"
     ]
    }
   ],
   "source": [
    "print \"만약 위 예제에서 self.를 제외한다면, (global name 'name'is not defined) 와 같은 에러의 내용 그대로 전역 영역에서 name이란 변수를 찾게 됩니다. 즉, 전역 영역에 name이 정의되지 않았다는 겁니다. 왜 self를 붙여야 하는지에 대해서는 잠시 생각을 접어두고, 자신 내에 있는 변수나 함수의 첫번째 매개변수에 self가 들어가야 한다는 것을 꼭 기억해두도록 합시다.\""
   ]
  },
  {
   "cell_type": "markdown",
   "metadata": {},
   "source": [
    "# 생성자(Constructor)"
   ]
  },
  {
   "cell_type": "code",
   "execution_count": 52,
   "metadata": {
    "collapsed": false,
    "scrolled": true
   },
   "outputs": [
    {
     "name": "stdout",
     "output_type": "stream",
     "text": [
      "클래스라는 개념을 처음 접해본 분들은 생성자라는 이름이 생소하겠지만, 이름과 연관지어 생각을 해봅시다. 생성자라고 하면 '무언가 생성할 때 호출되는 녀석', '무언가 생성하기 위해 호출되는 녀석' 등 여러가지 추측을 해볼 수 있습니다. 파이썬의 생성자는 객체를 생성할 때 호출되는 함수로써, 객체 생성 시 초기화 작업을위해 존재하는 녀석입니다. 생성자라는 녀석이 파이썬에서는 어떻게 표현이 되는지 확인해보도록 합시다.\n"
     ]
    }
   ],
   "source": [
    "print \"클래스라는 개념을 처음 접해본 분들은 생성자라는 이름이 생소하겠지만, 이름과 연관지어 생각을 해봅시다. 생성자라고 하면 '무언가 생성할 때 호출되는 녀석', '무언가 생성하기 위해 호출되는 녀석' 등 여러가지 추측을 해볼 수 있습니다. 파이썬의 생성자는 객체를 생성할 때 호출되는 함수로써, 객체 생성 시 초기화 작업을위해 존재하는 녀석입니다. 생성자라는 녀석이 파이썬에서는 어떻게 표현이 되는지 확인해보도록 합시다.\""
   ]
  },
  {
   "cell_type": "code",
   "execution_count": null,
   "metadata": {
    "collapsed": true
   },
   "outputs": [],
   "source": [
    "class 클래스명:\n",
    "    ...\n",
    "    def __init__(self):\n",
    "        문장\n",
    "        ..."
   ]
  },
  {
   "cell_type": "code",
   "execution_count": 53,
   "metadata": {
    "collapsed": false,
    "scrolled": true
   },
   "outputs": [
    {
     "name": "stdout",
     "output_type": "stream",
     "text": [
      "위를 보게되면 파이썬에는 생성자가 __init__라는 이름으로 미리 정의되어 있습니다. 이 생성자를 통해서 객체가 생성될 때 어떤 변수의 값을 세팅하는 등 여러가지 작업을 할 수 있습니다. 우선은 생성자를 통해 값을 초기화하는 예제를 보면서 이해를 해봅시다.\n"
     ]
    }
   ],
   "source": [
    "print \"위를 보게되면 파이썬에는 생성자가 __init__라는 이름으로 미리 정의되어 있습니다. 이 생성자를 통해서 객체가 생성될 때 어떤 변수의 값을 세팅하는 등 여러가지 작업을 할 수 있습니다. 우선은 생성자를 통해 값을 초기화하는 예제를 보면서 이해를 해봅시다.\""
   ]
  },
  {
   "cell_type": "code",
   "execution_count": 58,
   "metadata": {
    "collapsed": false,
    "scrolled": true
   },
   "outputs": [
    {
     "name": "stdout",
     "output_type": "stream",
     "text": [
      "객체가 생성되었습니다. 책의 이름은열혈 c++ 프로그래밍입니다.\n"
     ]
    }
   ],
   "source": [
    "class Book:\n",
    "    def __init__(self, bookName):\n",
    "        self.name = bookName\n",
    "        print \"객체가 생성되었습니다. 책의 이름은\" + bookName + \"입니다.\"\n",
    "        \n",
    "objectBook = Book(\"열혈 c++ 프로그래밍\")"
   ]
  },
  {
   "cell_type": "code",
   "execution_count": 68,
   "metadata": {
    "collapsed": false,
    "scrolled": true
   },
   "outputs": [
    {
     "name": "stdout",
     "output_type": "stream",
     "text": [
      "위 예제에서는 Book이란 이름을 가진 클래스가 정의되어 있습니다. 이 Book 클래스의 안을 보면 생성자가 정의되어 있으며, bookName이란 인자를 받습니다. 넘겨준 bookName을 가지고 클래스 내부의 name이란 변수의 값을 초기화 시키며, 객체가 생성되었음을 알리고 넘겨준 책의 이름을 출력합니다.\n"
     ]
    }
   ],
   "source": [
    "print \"위 예제에서는 Book이란 이름을 가진 클래스가 정의되어 있습니다. 이 Book 클래스의 안을 보면 생성자가 정의되어 있으며, bookName이란 인자를 받습니다. 넘겨준 bookName을 가지고 클래스 내부의 name이란 변수의 값을 초기화 시키며, 객체가 생성되었음을 알리고 넘겨준 책의 이름을 출력합니다.\""
   ]
  },
  {
   "cell_type": "code",
   "execution_count": 70,
   "metadata": {
    "collapsed": false
   },
   "outputs": [
    {
     "name": "stdout",
     "output_type": "stream",
     "text": [
      "제 이름은김철수이며, 제 나이는18살입니다.\n"
     ]
    }
   ],
   "source": [
    "class Student:\n",
    "    def __init__(self, name, age):\n",
    "        self.name = name\n",
    "        self.age = age\n",
    "    def aboutMe(self):\n",
    "        print \"제 이름은\" + self.name + \"이며, 제 나이는\" + str(self.age) + \"살입니다.\"\n",
    "\n",
    "objectStudent = Student(\"김철수\", 18)\n",
    "objectStudent.aboutMe()"
   ]
  },
  {
   "cell_type": "code",
   "execution_count": 72,
   "metadata": {
    "collapsed": false,
    "scrolled": true
   },
   "outputs": [
    {
     "name": "stdout",
     "output_type": "stream",
     "text": [
      "위 예제에서는 Student란 이름을 가진 클래스가 정의되어 있으며, 이 클래스 안에는 생성자와 자기를 소개하는 aboutMe이라는 함수가 정의되어 있습니다. 생성자에서는 name과 age를 인자로 받으며, 넘겨받은 인자를 가지고 self.name과 self.age의 값을 초기화 시킵니다. aboutMe 함수에서는 self.name와 self.age의 값을 가지고 이름과 나이를 출력하고 있습니다. 간단하죠? 반면에 이렇게 객체가 생성될 때 호출되는 함수랑은 반대로 객체가 소멸할때 호출되는 함수도 존재합니다.\n"
     ]
    }
   ],
   "source": [
    "print \"위 예제에서는 Student란 이름을 가진 클래스가 정의되어 있으며, 이 클래스 안에는 생성자와 자기를 소개하는 aboutMe이라는 함수가 정의되어 있습니다. 생성자에서는 name과 age를 인자로 받으며, 넘겨받은 인자를 가지고 self.name과 self.age의 값을 초기화 시킵니다. aboutMe 함수에서는 self.name와 self.age의 값을 가지고 이름과 나이를 출력하고 있습니다. 간단하죠? 반면에 이렇게 객체가 생성될 때 호출되는 함수랑은 반대로 객체가 소멸할때 호출되는 함수도 존재합니다.\" "
   ]
  },
  {
   "cell_type": "markdown",
   "metadata": {},
   "source": [
    "# 소멸자"
   ]
  },
  {
   "cell_type": "code",
   "execution_count": 74,
   "metadata": {
    "collapsed": false,
    "scrolled": true
   },
   "outputs": [
    {
     "name": "stdout",
     "output_type": "stream",
     "text": [
      "객체가 생성될 때 호출되는 생성자가 있다면, 반대로 객체가 소멸할 때 호출되는 소멸자라는 녀석이 존재합니다. 생성자와 마찬가지로 파이썬에서는 소멸자라는 녀석이 \n",
      "\n",
      "__del__\n",
      "\n",
      "라는 이름으로 미리 정의가 되어 있습니다. 이 소멸자는 리소스 해제 등의 종료 작업을 하기 위해 사용됩니다. 우선은 소멸자가 파이썬에서 어떻게 표현이 되는지 한번 봅시다.\n"
     ]
    }
   ],
   "source": [
    "print \"객체가 생성될 때 호출되는 생성자가 있다면, 반대로 객체가 소멸할 때 호출되는 소멸자라는 녀석이 존재합니다. 생성자와 마찬가지로 파이썬에서는 소멸자라는 녀석이 \\n\\n__del__\\n\\n라는 이름으로 미리 정의가 되어 있습니다. 이 소멸자는 리소스 해제 등의 종료 작업을 하기 위해 사용됩니다. 우선은 소멸자가 파이썬에서 어떻게 표현이 되는지 한번 봅시다.\""
   ]
  },
  {
   "cell_type": "markdown",
   "metadata": {},
   "source": [
    "class 클래스명:\n",
    "    ...\n",
    "    def __del__(self):\n",
    "        문장\n",
    "        ..."
   ]
  },
  {
   "cell_type": "code",
   "execution_count": 76,
   "metadata": {
    "collapsed": false,
    "scrolled": true
   },
   "outputs": [
    {
     "name": "stdout",
     "output_type": "stream",
     "text": [
      "월드콘의 가격은1000원 입니다.\n",
      "월드콘객체가 소멸합니다.\n"
     ]
    }
   ],
   "source": [
    "class IceCream:\n",
    "    def __init__(self, name, price):\n",
    "        self.name = name\n",
    "        self.price = price\n",
    "        print name + \"의 가격은\" + str(price) + \"원 입니다.\"\n",
    "    def __del__(self):\n",
    "        print self.name + \"객체가 소멸합니다.\"\n",
    "        \n",
    "objectIc = IceCream(\"월드콘\", 1000)\n",
    "del objectIc"
   ]
  },
  {
   "cell_type": "code",
   "execution_count": 77,
   "metadata": {
    "collapsed": false,
    "scrolled": true
   },
   "outputs": [
    {
     "name": "stdout",
     "output_type": "stream",
     "text": [
      "위 예제를 보게되면 IceCream이라는 클래스가 정의되어 있으며 이 안에는 생성자와 소멸자가 존재합니다. 먼저 생성자는 이름을 의미하는 name과 값을 의미하는 price라는 인자 두개를 받습니다. 넘겨받은 두 인자를 가지고 self.name과 self. price의 값을 초기화 시킵니다. 그리고 소멸자에게서는 객체가 소멸되었다는 문구를 출력한니다. 실제로, 객체가 소멸되면 'xxx객체가 소멸합니다'라는 문구가 출력됨을 확인할 수 있습니다. 참고로, 생성자나 소멸자와 같이 앞뒤에'__'가 붙은 경우에는 특별한 용도로 사용하기 위해 미리 정의하여 둔 것이라고 생각하시면 됩니다.  \n"
     ]
    }
   ],
   "source": [
    "print \"위 예제를 보게되면 IceCream이라는 클래스가 정의되어 있으며 이 안에는 생성자와 소멸자가 존재합니다. 먼저 생성자는 이름을 의미하는 name과 값을 의미하는 price라는 인자 두개를 받습니다. 넘겨받은 두 인자를 가지고 self.name과 self. price의 값을 초기화 시킵니다. 그리고 소멸자에게서는 객체가 소멸되었다는 문구를 출력한니다. 실제로, 객체가 소멸되면 'xxx객체가 소멸합니다'라는 문구가 출력됨을 확인할 수 있습니다. 참고로, 생성자나 소멸자와 같이 앞뒤에'__'가 붙은 경우에는 특별한 용도로 사용하기 위해 미리 정의하여 둔 것이라고 생각하시면 됩니다.  \""
   ]
  },
  {
   "cell_type": "markdown",
   "metadata": {},
   "source": [
    "# 상속"
   ]
  },
  {
   "cell_type": "code",
   "execution_count": 1,
   "metadata": {
    "collapsed": false,
    "scrolled": true
   },
   "outputs": [
    {
     "name": "stdout",
     "output_type": "stream",
     "text": [
      "클래스의 상속은 부모의 유산을 자식이 물려 받듯이 부모 클래스와 자식 클래스라는 것이 존재하여 부모 클래스의 멤버를 자식 클래스가 물려받을 수 있습니다.\n"
     ]
    }
   ],
   "source": [
    "print \"클래스의 상속은 부모의 유산을 자식이 물려 받듯이 부모 클래스와 자식 클래스라는 것이 존재하여 부모 클래스의 멤버를 자식 클래스가 물려받을 수 있습니다.\""
   ]
  },
  {
   "cell_type": "code",
   "execution_count": 11,
   "metadata": {
    "collapsed": false
   },
   "outputs": [
    {
     "name": "stdout",
     "output_type": "stream",
     "text": [
      "열심히 일을 합니다.\n",
      "저의 이름은김철수이구요, 제 나이는18살 입니다.\n",
      "제 급여는5000000원 이구요, 제 입사일은2013년 10월 28일입니다.\n"
     ]
    }
   ],
   "source": [
    "class Person:\n",
    "    def __init__(self, name, age, gender):\n",
    "        self.Name = name\n",
    "        self.Age = age\n",
    "        self.Gender = gender\n",
    "    def aboutMe(self):\n",
    "        print \"저의 이름은\" + self.Name + \"이구요, 제 나이는\" +self.Age + \"살 입니다.\"\n",
    "    \n",
    "class Employee(Person):\n",
    "    def __init__(self, name, age, gender, salary, hiredate):\n",
    "        Person.__init__(self, name, age, gender)\n",
    "        self.Salary = salary\n",
    "        self.Hiredate = hiredate\n",
    "    def doWork(self):\n",
    "        print \"열심히 일을 합니다.\"\n",
    "    def aboutMe(self):\n",
    "        Person.aboutMe(self)\n",
    "        print \"제 급여는\" + self. Salary + \"원 이구요, 제 입사일은\" + self.Hiredate + \"입니다.\"\n",
    "        \n",
    "class Employee(Person):\n",
    "    def __init__(self, name, age, gender, salary, hiredate):\n",
    "        Person. __init__(self, name, age, gender)\n",
    "        self.Salary = salary\n",
    "        self.Hiredate = hiredate\n",
    "    def dowork(self):\n",
    "        print \"열심히 일을 합니다.\"\n",
    "    def aboutMe(self):\n",
    "        Person.aboutMe(self)\n",
    "        print \"제 급여는\" + self.Salary + \"원 이구요, 제 입사일은\" + self.Hiredate + \"입니다.\"\n",
    "\n",
    "objectEmployee = Employee (\"김철수\", \"18\", \"남\", \"5000000\", \"2013년 10월 28일\")\n",
    "objectEmployee.dowork()\n",
    "objectEmployee.aboutMe()"
   ]
  },
  {
   "cell_type": "code",
   "execution_count": 12,
   "metadata": {
    "collapsed": false,
    "scrolled": true
   },
   "outputs": [
    {
     "name": "stdout",
     "output_type": "stream",
     "text": [
      "위 예제를 보시면, Person이란 클래스와 person 클래스를 상속받는 Employee 클래스가 정의되어 있습니다. 아직은 모르는 것 투성이지만, 차근차근 예제의 코드를 살펴보도록 합시다. 우선은 Person 클래스의 내부부터 보도록 합시다. Person 클래스의 생성자에서는 이름, 나이, 성별을 인자로 넘겨받고 self.Name, self.Age, self.Gender의 값을 초기화 시키는 것을 보실 수 있습니다. 또한 aboutMe라는 함수는 이름과 나이를 출력하는 함수입니다. 그 다음으로 Employee 클래스를 보도록 합시다. \n"
     ]
    }
   ],
   "source": [
    "print \"위 예제를 보시면, Person이란 클래스와 person 클래스를 상속받는 Employee 클래스가 정의되어 있습니다. 아직은 모르는 것 투성이지만, 차근차근 예제의 코드를 살펴보도록 합시다. 우선은 Person 클래스의 내부부터 보도록 합시다. Person 클래스의 생성자에서는 이름, 나이, 성별을 인자로 넘겨받고 self.Name, self.Age, self.Gender의 값을 초기화 시키는 것을 보실 수 있습니다. 또한 aboutMe라는 함수는 이름과 나이를 출력하는 함수입니다. 그 다음으로 Employee 클래스를 보도록 합시다. \""
   ]
  },
  {
   "cell_type": "code",
   "execution_count": 13,
   "metadata": {
    "collapsed": false,
    "scrolled": true
   },
   "outputs": [
    {
     "ename": "SyntaxError",
     "evalue": "unexpected EOF while parsing (<ipython-input-13-9de87e9ba54d>, line 1)",
     "output_type": "error",
     "traceback": [
      "\u001b[0;36m  File \u001b[0;32m\"<ipython-input-13-9de87e9ba54d>\"\u001b[0;36m, line \u001b[0;32m1\u001b[0m\n\u001b[0;31m    class Employee(Person):\u001b[0m\n\u001b[0m                           ^\u001b[0m\n\u001b[0;31mSyntaxError\u001b[0m\u001b[0;31m:\u001b[0m unexpected EOF while parsing\n"
     ]
    }
   ],
   "source": [
    "class Employee(Person):"
   ]
  },
  {
   "cell_type": "code",
   "execution_count": 14,
   "metadata": {
    "collapsed": false,
    "scrolled": true
   },
   "outputs": [
    {
     "name": "stdout",
     "output_type": "stream",
     "text": [
      "위 부분을 자세히 보시면, 클래스 이름 뒤에 괄호가 등장하여 괄호 안에 클래스 이름이 또다시 등장하는 것을 보실 수 있습니다. 이것은 Employee 클래스가 Person 클래스를 상속받는다는 의미이며, 이는 아래와 같이 표현이 된다는 것을 알 수 있습니다.\n"
     ]
    }
   ],
   "source": [
    "print \"위 부분을 자세히 보시면, 클래스 이름 뒤에 괄호가 등장하여 괄호 안에 클래스 이름이 또다시 등장하는 것을 보실 수 있습니다. 이것은 Employee 클래스가 Person 클래스를 상속받는다는 의미이며, 이는 아래와 같이 표현이 된다는 것을 알 수 있습니다.\""
   ]
  },
  {
   "cell_type": "code",
   "execution_count": null,
   "metadata": {
    "collapsed": true
   },
   "outputs": [],
   "source": [
    "class 클래스명(상속받을 클래스명):"
   ]
  },
  {
   "cell_type": "code",
   "execution_count": 16,
   "metadata": {
    "collapsed": false
   },
   "outputs": [
    {
     "name": "stdout",
     "output_type": "stream",
     "text": [
      "그리고 Employee 클래스가 Person 클래스를 상속받으니, Employee 클래스는 멤버를 물려받는 자식 클래스라 말할 수 있으며 Person 클래스는 멤버를 물려주는 부모 클래스라고 말할 수 있습니다. 이어서 Employee 클래스의 생성자 부분을 보도록 합시다. 생성자 부분을 보시면 특이한 부분을 보실 수 있는데 한번 같이 보도록 합시다.  \n"
     ]
    }
   ],
   "source": [
    "print \"그리고 Employee 클래스가 Person 클래스를 상속받으니, Employee 클래스는 멤버를 물려받는 자식 클래스라 말할 수 있으며 Person 클래스는 멤버를 물려주는 부모 클래스라고 말할 수 있습니다. 이어서 Employee 클래스의 생성자 부분을 보도록 합시다. 생성자 부분을 보시면 특이한 부분을 보실 수 있는데 한번 같이 보도록 합시다.  \""
   ]
  },
  {
   "cell_type": "code",
   "execution_count": null,
   "metadata": {
    "collapsed": true
   },
   "outputs": [],
   "source": [
    "def __init__(self, name, age, gender, salary, hiredate):\n",
    "    person.__init__(self, name, age, gender)\n",
    "    self.Salary = salary\n",
    "    self.Hiredate = hiredate\n",
    "    "
   ]
  },
  {
   "cell_type": "code",
   "execution_count": 17,
   "metadata": {
    "collapsed": false,
    "scrolled": true
   },
   "outputs": [
    {
     "name": "stdout",
     "output_type": "stream",
     "text": [
      "위의 생성자에선 이름, 나이, 성별, 급여, 입사일을 인자로 넘겨받는다는 것을 보실 수 있습니다. 그런데 특이한건, 위 코드의 3행을 보시면 부모 클래스의 생성자를 호출하면서 넘겨받은 인자를 부모 클래스의 생성자로 넘겨주는데, 이는 명시적으로 Person 클래스의 생성자를 호출하는 방법입니다. (여기서는 'self'를 함께 전달해야 합니다) 이어서, Employee 클래스의 aboutMe 함수를 보도록 하겠습니다.\n"
     ]
    }
   ],
   "source": [
    "print \"위의 생성자에선 이름, 나이, 성별, 급여, 입사일을 인자로 넘겨받는다는 것을 보실 수 있습니다. 그런데 특이한건, 위 코드의 3행을 보시면 부모 클래스의 생성자를 호출하면서 넘겨받은 인자를 부모 클래스의 생성자로 넘겨주는데, 이는 명시적으로 Person 클래스의 생성자를 호출하는 방법입니다. (여기서는 'self'를 함께 전달해야 합니다) 이어서, Employee 클래스의 aboutMe 함수를 보도록 하겠습니다.\""
   ]
  },
  {
   "cell_type": "code",
   "execution_count": null,
   "metadata": {
    "collapsed": true
   },
   "outputs": [],
   "source": [
    "def aboutMe(self):\n",
    "        Person.aboutMe(self)\n",
    "        print \"제 급여는 \" + self.Salary + \"원 이구요, 제 입사일은 \" + self.Hiredate + \" 입니다.\""
   ]
  },
  {
   "cell_type": "code",
   "execution_count": 19,
   "metadata": {
    "collapsed": false,
    "scrolled": true
   },
   "outputs": [
    {
     "name": "stdout",
     "output_type": "stream",
     "text": [
      "위의 aboutMe 함수를 살펴보시면 이 함수에서도 명시적으로 Person 클래스의 aboutMe 함수를 호출하는 것을 보실 수 있습니다. 부모 클래스의 aboutMe 함수가 호출되고 나서는 급여와 입사일을 출력합니다. 이렇게보니, 참으로 상속이란 특징이 쓸모있다고 여겨지지 않나요? 이 상속이란 특징을 이용하면, 유지 보수가 쉬워지거나 중복되는 코드가 적어지는 등의 장점이 존재합니다. 위의 예제처럼 한개의 클래스를 상속받는 경우도 있지만, 두 개 이상의 클래스를 상속 받는 경우도 있을 수 있습니다. 한번 보실까요? \n"
     ]
    }
   ],
   "source": [
    "print \"위의 aboutMe 함수를 살펴보시면 이 함수에서도 명시적으로 Person 클래스의 aboutMe 함수를 호출하는 것을 보실 수 있습니다. 부모 클래스의 aboutMe 함수가 호출되고 나서는 급여와 입사일을 출력합니다. 이렇게보니, 참으로 상속이란 특징이 쓸모있다고 여겨지지 않나요? 이 상속이란 특징을 이용하면, 유지 보수가 쉬워지거나 중복되는 코드가 적어지는 등의 장점이 존재합니다. 위의 예제처럼 한개의 클래스를 상속받는 경우도 있지만, 두 개 이상의 클래스를 상속 받는 경우도 있을 수 있습니다. 한번 보실까요? \""
   ]
  },
  {
   "cell_type": "markdown",
   "metadata": {},
   "source": [
    "# 다중 상속"
   ]
  },
  {
   "cell_type": "code",
   "execution_count": 20,
   "metadata": {
    "collapsed": false,
    "scrolled": true
   },
   "outputs": [
    {
     "name": "stdout",
     "output_type": "stream",
     "text": [
      "다중 상속이란 두개 이상의 클래스를 상속받는 것을 말하는데, 이 경우에는 두 클래스의 모든 속성을 물려받게 됩니다. 이는 하나의 자식 클래스가 두개 이상의 부모 클래스를 가지는 것이라고 할 수 있습니다.\n"
     ]
    }
   ],
   "source": [
    "print \"다중 상속이란 두개 이상의 클래스를 상속받는 것을 말하는데, 이 경우에는 두 클래스의 모든 속성을 물려받게 됩니다. 이는 하나의 자식 클래스가 두개 이상의 부모 클래스를 가지는 것이라고 할 수 있습니다.\""
   ]
  },
  {
   "cell_type": "code",
   "execution_count": 24,
   "metadata": {
    "collapsed": false
   },
   "outputs": [
    {
     "name": "stdout",
     "output_type": "stream",
     "text": [
      "ParentOne의 함수 호출!\n",
      "ParentTwo의 함수 호출!\n",
      "ParentOne의 함수 호출!\n"
     ]
    }
   ],
   "source": [
    "class parentOne:\n",
    "    def func(self):\n",
    "        print(\"ParentOne의 함수 호출!\")\n",
    "        \n",
    "class parentTwo:\n",
    "    def func(self):\n",
    "        print(\"ParentTwo의 함수 호출!\")\n",
    "        \n",
    "class Child(parentOne, parentTwo):\n",
    "    def childFunc(self):\n",
    "        parentOne.func(self)\n",
    "        parentTwo.func(self)\n",
    "        \n",
    "objectChild = Child()\n",
    "objectChild.childFunc()\n",
    "objectChild.func()"
   ]
  },
  {
   "cell_type": "code",
   "execution_count": 25,
   "metadata": {
    "collapsed": false,
    "scrolled": true
   },
   "outputs": [
    {
     "name": "stdout",
     "output_type": "stream",
     "text": [
      "위의 예제 코드에서는 부모 클래스인 parentOne,parentTwo라는 클래스가 정의되어 있으며, 자식 클래스인 Child라는 클래스도 정의되어 있습니다. 위의 코드에서 9행을 한번 볼까요? \n"
     ]
    }
   ],
   "source": [
    "print \"위의 예제 코드에서는 부모 클래스인 parentOne,parentTwo라는 클래스가 정의되어 있으며, 자식 클래스인 Child라는 클래스도 정의되어 있습니다. 위의 코드에서 9행을 한번 볼까요? \""
   ]
  },
  {
   "cell_type": "code",
   "execution_count": null,
   "metadata": {
    "collapsed": true
   },
   "outputs": [],
   "source": [
    "class Child(parentOne, parentTwo):"
   ]
  },
  {
   "cell_type": "code",
   "execution_count": 26,
   "metadata": {
    "collapsed": false,
    "scrolled": true
   },
   "outputs": [
    {
     "name": "stdout",
     "output_type": "stream",
     "text": [
      "위 코드에서는 2개 이상의 클래스를 상속 받을 때 콤마를 기준으로 상속받을 클래스의 이름을 나열하고 있는것을 보실 수 있습니다. (여기서 상속받을 클래스의 나열 순서가 검색 결과에 영향을 끼칩니다.) 그리고 주의깊게 보셔야 할 부분은, 18 ~ 19행의 부분인데\n"
     ]
    }
   ],
   "source": [
    "print \"위 코드에서는 2개 이상의 클래스를 상속 받을 때 콤마를 기준으로 상속받을 클래스의 이름을 나열하고 있는것을 보실 수 있습니다. (여기서 상속받을 클래스의 나열 순서가 검색 결과에 영향을 끼칩니다.) 그리고 주의깊게 보셔야 할 부분은, 18 ~ 19행의 부분인데\""
   ]
  },
  {
   "cell_type": "code",
   "execution_count": null,
   "metadata": {
    "collapsed": true
   },
   "outputs": [],
   "source": [
    "objectChild.func()\n",
    "parentOne의 함수 호출!"
   ]
  },
  {
   "cell_type": "code",
   "execution_count": 30,
   "metadata": {
    "collapsed": false,
    "scrolled": false
   },
   "outputs": [
    {
     "name": "stdout",
     "output_type": "stream",
     "text": [
      "위 부분을 보시면 objectChild의 func함수를 호출하는데 여기서 parentOne과 parentTwo 중 어떤 클래스의 func 함수가 호출되는지 보았더니 parentOne 클래스의 func 함수가 호출된 모습을 볼 수 있습니다. 이는, 우리가 상속받을 클래스의 이름을 나열할때 순서에 따라 이름을 찾기 때문입니다. 즉, parentOne 클래스의 이름 공간에서 func를 찾는다는 것입니다. 다중 상속에 대해 이해가 가시나요? 그런데 다중 상속을 이용할때도 주의할 점이 있는데, 아래와 같은 다이아몬드 상속을 하는 경우 문제가 발생합니다.  \n"
     ]
    }
   ],
   "source": [
    "print \"위 부분을 보시면 objectChild의 func함수를 호출하는데 여기서 parentOne과 parentTwo 중 어떤 클래스의 func 함수가 호출되는지 보았더니 parentOne 클래스의 func 함수가 호출된 모습을 볼 수 있습니다. 이는, 우리가 상속받을 클래스의 이름을 나열할때 순서에 따라 이름을 찾기 때문입니다. 즉, parentOne 클래스의 이름 공간에서 func를 찾는다는 것입니다. 다중 상속에 대해 이해가 가시나요? 그런데 다중 상속을 이용할때도 주의할 점이 있는데, 아래와 같은 다이아몬드 상속을 하는 경우 문제가 발생합니다.  \""
   ]
  },
  {
   "cell_type": "code",
   "execution_count": 31,
   "metadata": {
    "collapsed": false
   },
   "outputs": [
    {
     "name": "stdout",
     "output_type": "stream",
     "text": [
      " B 와 C 클래스가 A 클래스를 상속받고 있으며, 다시 D 클래스가 B와 C 클래스를 상속받고 있는 문제일 때!! \n"
     ]
    }
   ],
   "source": [
    "print \" B 와 C 클래스가 A 클래스를 상속받고 있으며, 다시 D 클래스가 B와 C 클래스를 상속받고 있는 문제일 때!! \""
   ]
  },
  {
   "cell_type": "code",
   "execution_count": 33,
   "metadata": {
    "collapsed": false
   },
   "outputs": [
    {
     "name": "stdout",
     "output_type": "stream",
     "text": [
      "A 클래스의 생성자 호출!\n",
      "B 클래스의 생성자 호출!\n",
      "A 클래스의 생성자 호출!\n",
      "C 클래스의 생성자 호출!\n",
      "D 클래스의 생성자 호출!\n"
     ]
    }
   ],
   "source": [
    "class A:\n",
    "    def __init__(self):\n",
    "        print \"A 클래스의 생성자 호출!\"\n",
    "        \n",
    "class B(A):\n",
    "    def __init__(self):\n",
    "        A.__init__(self)\n",
    "        print \"B 클래스의 생성자 호출!\"\n",
    "        \n",
    "class C(A):\n",
    "    def __init__(self):\n",
    "        A.__init__(self)\n",
    "        print \"C 클래스의 생성자 호출!\"\n",
    "        \n",
    "class D(B, C):\n",
    "    def __init__(self):\n",
    "        B.__init__(self)\n",
    "        C.__init__(self)\n",
    "        print \"D 클래스의 생성자 호출!\"\n",
    "        \n",
    "objectD = D()"
   ]
  },
  {
   "cell_type": "code",
   "execution_count": 35,
   "metadata": {
    "collapsed": false
   },
   "outputs": [
    {
     "name": "stdout",
     "output_type": "stream",
     "text": [
      "위 예제를 보면 B와 C에선 부모 클래스인 A의 생성자를 호출하고 있으며 D에서는 부모 클래스인 B와 C 클래스의 생성자를 호출하고 있는 모습을 보실 수 있습니다. 이 상태에서 D의 인스턴스 객체를 생성하게 되면, A클래스의 생성자가 두번이나 호출되고 있는 모습을 볼 수 있습니다. 이 상황을 피하기 위해서 super라는 내장 함수를 사용할 수 있으며, 이 함수는 부모 클래스의 객체를 반환하게끔 되어 있습니다. 한번 내장 함수인 super 함수를 이용하여 위의 예제를 고쳐보도록 하겠습니다.\n"
     ]
    }
   ],
   "source": [
    "print \"위 예제를 보면 B와 C에선 부모 클래스인 A의 생성자를 호출하고 있으며 D에서는 부모 클래스인 B와 C 클래스의 생성자를 호출하고 있는 모습을 보실 수 있습니다. 이 상태에서 D의 인스턴스 객체를 생성하게 되면, A클래스의 생성자가 두번이나 호출되고 있는 모습을 볼 수 있습니다. 이 상황을 피하기 위해서 super라는 내장 함수를 사용할 수 있으며, 이 함수는 부모 클래스의 객체를 반환하게끔 되어 있습니다. 한번 내장 함수인 super 함수를 이용하여 위의 예제를 고쳐보도록 하겠습니다.\""
   ]
  },
  {
   "cell_type": "code",
   "execution_count": 50,
   "metadata": {
    "collapsed": false
   },
   "outputs": [
    {
     "name": "stdout",
     "output_type": "stream",
     "text": [
      "D 클래스의 생성자 호출!\n"
     ]
    },
    {
     "ename": "TypeError",
     "evalue": "super() takes at least 1 argument (0 given)",
     "output_type": "error",
     "traceback": [
      "\u001b[0;31m---------------------------------------------------------------------------\u001b[0m",
      "\u001b[0;31mTypeError\u001b[0m                                 Traceback (most recent call last)",
      "\u001b[0;32m<ipython-input-50-189dcbb48060>\u001b[0m in \u001b[0;36m<module>\u001b[0;34m()\u001b[0m\n\u001b[1;32m     18\u001b[0m         \u001b[0msuper\u001b[0m\u001b[1;33m(\u001b[0m\u001b[1;33m)\u001b[0m\u001b[1;33m.\u001b[0m\u001b[0m__init__\u001b[0m\u001b[1;33m(\u001b[0m\u001b[1;33m)\u001b[0m\u001b[1;33m\u001b[0m\u001b[0m\n\u001b[1;32m     19\u001b[0m \u001b[1;33m\u001b[0m\u001b[0m\n\u001b[0;32m---> 20\u001b[0;31m \u001b[0mobjectD\u001b[0m \u001b[1;33m=\u001b[0m \u001b[0mD\u001b[0m\u001b[1;33m(\u001b[0m\u001b[1;33m)\u001b[0m\u001b[1;33m\u001b[0m\u001b[0m\n\u001b[0m\u001b[1;32m     21\u001b[0m \u001b[1;33m\u001b[0m\u001b[0m\n\u001b[1;32m     22\u001b[0m \u001b[1;31m# B 클래스의 생성자 호출!\u001b[0m\u001b[1;33m\u001b[0m\u001b[1;33m\u001b[0m\u001b[0m\n",
      "\u001b[0;32m<ipython-input-50-189dcbb48060>\u001b[0m in \u001b[0;36m__init__\u001b[0;34m(self)\u001b[0m\n\u001b[1;32m     16\u001b[0m     \u001b[1;32mdef\u001b[0m \u001b[0m__init__\u001b[0m\u001b[1;33m(\u001b[0m\u001b[0mself\u001b[0m\u001b[1;33m)\u001b[0m\u001b[1;33m:\u001b[0m\u001b[1;33m\u001b[0m\u001b[0m\n\u001b[1;32m     17\u001b[0m         \u001b[1;32mprint\u001b[0m \u001b[1;34m\"D 클래스의 생성자 호출!\"\u001b[0m\u001b[1;33m\u001b[0m\u001b[0m\n\u001b[0;32m---> 18\u001b[0;31m         \u001b[0msuper\u001b[0m\u001b[1;33m(\u001b[0m\u001b[1;33m)\u001b[0m\u001b[1;33m.\u001b[0m\u001b[0m__init__\u001b[0m\u001b[1;33m(\u001b[0m\u001b[1;33m)\u001b[0m\u001b[1;33m\u001b[0m\u001b[0m\n\u001b[0m\u001b[1;32m     19\u001b[0m \u001b[1;33m\u001b[0m\u001b[0m\n\u001b[1;32m     20\u001b[0m \u001b[0mobjectD\u001b[0m \u001b[1;33m=\u001b[0m \u001b[0mD\u001b[0m\u001b[1;33m(\u001b[0m\u001b[1;33m)\u001b[0m\u001b[1;33m\u001b[0m\u001b[0m\n",
      "\u001b[0;31mTypeError\u001b[0m: super() takes at least 1 argument (0 given)"
     ]
    }
   ],
   "source": [
    "class A:\n",
    "    def __init__(self):\n",
    "        print \"A 클래스의 생성자 호출!\"\n",
    "        \n",
    "class B(A):\n",
    "    def __init__(self):\n",
    "        print \"B 클래스의 생성자 호출!\"\n",
    "        super().__init__()\n",
    "        \n",
    "class C(A):\n",
    "    def __init__(self):\n",
    "        print \"C 클래스의 생성자 호출!\"\n",
    "        super().__init__()\n",
    "        \n",
    "class D(B, C):\n",
    "    def __init__(self):\n",
    "        print \"D 클래스의 생성자 호출!\"\n",
    "        super().__init__()\n",
    "        \n",
    "objectD = D()\n",
    "\n",
    "# B 클래스의 생성자 호출!\n",
    "# C 클래스의 생성자 호출!\n",
    "# A 클래스의 생성자 호출!\n",
    "\n",
    "#이렇게 세 클래스가 호출되어야하는데 호출이 안됐다...."
   ]
  },
  {
   "cell_type": "code",
   "execution_count": 49,
   "metadata": {
    "collapsed": false
   },
   "outputs": [
    {
     "name": "stdout",
     "output_type": "stream",
     "text": [
      "위에서 super 함수를 통하여 생성자를 호출하도록 하니 정상적으로 모든 클래스의 생성자가 한번씩 호출되는 결과를 얻을 수 있습니다. 여기서 B와 C 클래스가 A 클래스의 자식인 것을 생각하여 인터프리터가 A 클래스의 생성자가 두 번이나 호출되는 것을 피하는 방법입니다. \n"
     ]
    }
   ],
   "source": [
    "print \"위에서 super 함수를 통하여 생성자를 호출하도록 하니 정상적으로 모든 클래스의 생성자가 한번씩 호출되는 결과를 얻을 수 있습니다. 여기서 B와 C 클래스가 A 클래스의 자식인 것을 생각하여 인터프리터가 A 클래스의 생성자가 두 번이나 호출되는 것을 피하는 방법입니다. \""
   ]
  },
  {
   "cell_type": "code",
   "execution_count": 49,
   "metadata": {
    "collapsed": false
   },
   "outputs": [
    {
     "name": "stdout",
     "output_type": "stream",
     "text": [
      "['__abs__', '__add__', '__and__', '__class__', '__cmp__', '__coerce__', '__delattr__', '__div__', '__divmod__', '__doc__', '__float__', '__floordiv__', '__format__', '__getattribute__', '__getnewargs__', '__hash__', '__hex__', '__index__', '__init__', '__int__', '__invert__', '__long__', '__lshift__', '__mod__', '__mul__', '__neg__', '__new__', '__nonzero__', '__oct__', '__or__', '__pos__', '__pow__', '__radd__', '__rand__', '__rdiv__', '__rdivmod__', '__reduce__', '__reduce_ex__', '__repr__', '__rfloordiv__', '__rlshift__', '__rmod__', '__rmul__', '__ror__', '__rpow__', '__rrshift__', '__rshift__', '__rsub__', '__rtruediv__', '__rxor__', '__setattr__', '__sizeof__', '__str__', '__sub__', '__subclasshook__', '__truediv__', '__trunc__', '__xor__', 'bit_length', 'conjugate', 'denominator', 'imag', 'numerator', 'real']\n",
      "7\n"
     ]
    }
   ],
   "source": [
    "num = 100\n",
    "print dir(num)\n",
    "\n",
    "print num.bit_length()"
   ]
  },
  {
   "cell_type": "markdown",
   "metadata": {},
   "source": [
    "* __init__(self)\n",
    " + 생성자, 클래스 인스턴스가 생성될 때 호출됨\n",
    " + self인자는 항상 첫번째에 오며 자기 자신을 가리킴\n",
    " + 이름이 꼭 self일 필요는 없지만, 일반적으로 self로 사용"
   ]
  },
  {
   "cell_type": "code",
   "execution_count": 4,
   "metadata": {
    "collapsed": false
   },
   "outputs": [
    {
     "name": "stdout",
     "output_type": "stream",
     "text": [
      "<__main__.Person object at 0x056416F0>\n",
      "aaron\n"
     ]
    }
   ],
   "source": [
    "class Person(object):\n",
    "    def __init__(self, name):\n",
    "        self.name = name # 멤버 변수(속성)\n",
    "        \n",
    "# Student 클래스의 정의를 찾고\n",
    "# object를 메모리에 초기화(생성)\n",
    "# __init__ method를 호출. 이때 새롭게 생성된 object를 self에 전달하고, 'aaron'을 name에 전달\n",
    "# object에 name값을 저장하고 \n",
    "# s1에 이 object를 연결한다\n",
    "s1 = Person('aaron')\n",
    "print s1\n",
    "print s1.name"
   ]
  },
  {
   "cell_type": "markdown",
   "metadata": {},
   "source": [
    "* mehtod 정의\n",
    " + 멤버함수라고도 하며, 해당 클래스의 object에서만 호출가능하다.\n",
    " + {obj}.{method}() 형태로 호출됨"
   ]
  },
  {
   "cell_type": "code",
   "execution_count": 5,
   "metadata": {
    "collapsed": false
   },
   "outputs": [
    {
     "name": "stdout",
     "output_type": "stream",
     "text": [
      "aaron works very hard\n",
      "aaron\n",
      "bob works very hard\n",
      "<__main__.Person object at 0x05641ED0>\n",
      "<__main__.Person object at 0x05641EF0>\n",
      "[1, 2, 4, 5]\n",
      "[2, 4, 5, 6]\n"
     ]
    }
   ],
   "source": [
    "class Person(object):\n",
    "    def __init__(self, name):\n",
    "        self.name = name\n",
    "        \n",
    "    def work(self):\n",
    "        print '{} works very hard'.format(self.name)\n",
    "        \n",
    "    def sleep(self):\n",
    "        print '{} works very hard'.format(self.name)\n",
    "        \n",
    "\n",
    "p1 = Person('aaron')\n",
    "p1.work()\n",
    "print p1.name\n",
    "\n",
    "p2 = Person('bob')\n",
    "p2.work()\n",
    "\n",
    "\n",
    "print p1\n",
    "print p2\n",
    "\n",
    "a = [1, 2, 4, 5]\n",
    "b = [2, 4, 5, 6]\n",
    "\n",
    "print a\n",
    "print b"
   ]
  },
  {
   "cell_type": "markdown",
   "metadata": {},
   "source": [
    "* 연습문제\n",
    "0. Circle class를 작성하세요\n",
    "  - radius 속성을 갖습니다.\n",
    "  - 생성자에서 해당 속성을 초기화 합니다. __init__(self, radius)\n",
    "  - 넓이, 둘레를 구하는 함수를 작성하세요 get_area(self),  get_length(self)\n",
    "  \n",
    "1. BankAccount class를 작성하세요\n",
    "  - 해당 클래스는 amount라는 속성을 갖습니다.\n",
    "  - 생성자에서 해당 속성을 초기화 해줍니다. (__init__(self, amount))\n",
    "  - 해당 클래스는 인출, 저금의 기능을 갖습니다. withdraw(self, amount), save(self, amount)\n",
    "  - 해당 클래스는 잔액 확인 기능을 갖습니다. check(self)\n",
    "  - 해당 클래스는 복리 이자 체크 기능을 갖습니다. check_interest(self, interest_month, duration_month)\n",
    "\n",
    "2. 학생 성적 class관리를 위해 class를 작성하세요\n",
    " - 해당 클래스는 kor, eng, math라는 float 속성을 갖습니다.\n",
    " - 해당 클래스는 각 점수를 출력 기능을 갖습니다. print(self)\n",
    " - 해당 클래스는 점수의 평균을 반환하는 기능을 갖습니다. get_average(self)\n",
    " \n",
    "3. 비디오 가게 관리 class를 작성하세요\n",
    " - videos라는 딕셔너리 속성을 갖습니다.\n",
    " - 새 비디오 추가 기능 add_video(title)\n",
    " - 비디오 검색 기능 find_video(title)\n",
    " - 비디오가 신작인지 아닌지 판별하는 함수 (나온지 일주일 내를 신작이라고 평가) is_new_release(title)"
   ]
  },
  {
   "cell_type": "code",
   "execution_count": 6,
   "metadata": {
    "collapsed": false
   },
   "outputs": [
    {
     "name": "stdout",
     "output_type": "stream",
     "text": [
      "31400.0\n",
      "31400.0\n",
      "628.0\n",
      "628.0\n"
     ]
    }
   ],
   "source": [
    " # radius 속성을 갖습니다.\n",
    "  # 생성자에서 해당 속성을 초기화 합니다. __init__(self, radius)\n",
    "  # 넓이, 둘레를 구하는 함수를 작성하세요 get_area(self),  get_length(self)\n",
    "class Circle(object):\n",
    "    \n",
    "    def __init__(self):\n",
    "        self.r = 100\n",
    "        \n",
    "    def get_area(self):\n",
    "        return 3.14 * self.r * self.r\n",
    "        \n",
    "    def get_length(self):\n",
    "        return 3.14 * 2 * self.r\n",
    "    \n",
    "\n",
    "c1 = Circle()\n",
    "c2 = Circle()\n",
    "\n",
    "print c1.get_area()\n",
    "print c2.get_area()\n",
    "\n",
    "print c1.get_length()\n",
    "print c2.get_length()\n",
    "    "
   ]
  },
  {
   "cell_type": "code",
   "execution_count": 7,
   "metadata": {
    "collapsed": false
   },
   "outputs": [
    {
     "name": "stdout",
     "output_type": "stream",
     "text": [
      "deposit is 1100000\n",
      "1464100.0\n"
     ]
    }
   ],
   "source": [
    "  #BankAccount class를 작성하세요\n",
    "  # 해당 클래스는 amount라는 속성을 갖습니다.\n",
    "  # 생성자에서 해당 속성을 초기화 해줍니다. (__init__(self, amount))\n",
    "  # 해당 클래스는 인출, 저금의 기능을 갖습니다. withdraw(self, amount), save(self, amount)\n",
    "  # 해당 클래스는 잔액 확인 기능을 갖습니다. check(self)\n",
    "  # 해당 클래스는 복리 이자 체크 기능을 갖습니다. check_interest(self, interest_month, duration_month)\n",
    "\n",
    "\n",
    "class BankAccount(object):\n",
    "    def __init__(self, amount):\n",
    "        self.amount = amount\n",
    "        \n",
    "    def withdraw(self, money):\n",
    "        self.amount -= money\n",
    "        \n",
    "    def save(self, money):\n",
    "        self.amount += money\n",
    "        \n",
    "    def check(self):\n",
    "        print 'deposit is', self.amount\n",
    "        \n",
    "    def check_interest(self, interest_month, duration_month):\n",
    "        return self.amount * ((1 + interest_month) ** duration_month)\n",
    "    \n",
    "aaron = BankAccount(100000)\n",
    "bob = BankAccount(1000)\n",
    "\n",
    "aaron.save(1000000)\n",
    "aaron.check()\n",
    "print aaron.check_interest(0.1, 3)"
   ]
  },
  {
   "cell_type": "markdown",
   "metadata": {},
   "source": [
    " * Class Inheritance (상속)\n",
    "  - 기존에 정의해둔 클래스의 기능을 그대로 물려받을 수 있다.\n",
    "  - 기존 클래스에 기능 일부를 추가하거나, 변경하여 새로운 클래스를 정의한다.\n",
    "  - 코드를 재사용할 수 있게된다.\n",
    "  - 상속 받고자 하는 대상인 기존 클래스는 (Parent, Super, Base class 라고 부른다.)\n",
    "  - 상속 받는 새로운 클래스는(Child, Sub, Derived class 라고 부른다.)\n",
    "  - 의미적으로 is-a관계를 갖는다"
   ]
  },
  {
   "cell_type": "code",
   "execution_count": 8,
   "metadata": {
    "collapsed": false
   },
   "outputs": [
    {
     "name": "stdout",
     "output_type": "stream",
     "text": [
      "<__main__.Person object at 0x05641A30>\n",
      "<__main__.Student object at 0x05641090>\n"
     ]
    }
   ],
   "source": [
    "class Person(object):\n",
    "    pass\n",
    "\n",
    "class Student(Person):\n",
    "    pass\n",
    "\n",
    "p1 = Person()\n",
    "s1 = Student()\n",
    "\n",
    "print p1\n",
    "print s1"
   ]
  },
  {
   "cell_type": "code",
   "execution_count": 9,
   "metadata": {
    "collapsed": false
   },
   "outputs": [
    {
     "name": "stdout",
     "output_type": "stream",
     "text": [
      "work hard\n",
      "work hard\n"
     ]
    }
   ],
   "source": [
    "class Person(object):\n",
    "    def work(self):\n",
    "        print 'work hard'\n",
    "\n",
    "#class Student():\n",
    "class Student(Person):\n",
    "    pass\n",
    "\n",
    "p1 = Person()\n",
    "s1 = Student()\n",
    "\n",
    "p1.work()\n",
    "s1.work()"
   ]
  },
  {
   "cell_type": "markdown",
   "metadata": {},
   "source": [
    "* method override\n",
    " - 부모 클래스의 method를 재정의(override)"
   ]
  },
  {
   "cell_type": "code",
   "execution_count": 10,
   "metadata": {
    "collapsed": false
   },
   "outputs": [
    {
     "name": "stdout",
     "output_type": "stream",
     "text": [
      "work hard\n",
      "Study hard\n"
     ]
    }
   ],
   "source": [
    "class Person(object):\n",
    "    def work(self):\n",
    "        print 'work hard'\n",
    "\n",
    "class Student(Person):\n",
    "    def work(self):\n",
    "        print 'Study hard'\n",
    "        \n",
    "p1 = Person()\n",
    "s1 = Student()\n",
    "\n",
    "p1.work()\n",
    "s1.work()"
   ]
  },
  {
   "cell_type": "code",
   "execution_count": 11,
   "metadata": {
    "collapsed": false
   },
   "outputs": [
    {
     "name": "stdout",
     "output_type": "stream",
     "text": [
      "work hard\n",
      "Study hard\n",
      "Go to school\n"
     ]
    }
   ],
   "source": [
    "class Person(object):\n",
    "    def work(self):\n",
    "        print 'work hard'\n",
    "\n",
    "class Student(Person):\n",
    "    def work(self):\n",
    "        print 'Study hard'\n",
    "        \n",
    "    def go_to_school(self):\n",
    "        print 'Go to school'\n",
    "        \n",
    "\n",
    "p1 = Person()\n",
    "s1 = Student()\n",
    "\n",
    "p1.work()\n",
    "#p1.go_to_school()\n",
    "\n",
    "s1.work()\n",
    "s1.go_to_school()"
   ]
  },
  {
   "cell_type": "markdown",
   "metadata": {},
   "source": [
    "* super \n",
    " - 자식 클래스에서 부모클래스의 method를 호출할 때 사용"
   ]
  },
  {
   "cell_type": "code",
   "execution_count": 12,
   "metadata": {
    "collapsed": false
   },
   "outputs": [
    {
     "name": "stdout",
     "output_type": "stream",
     "text": [
      "aaron\n",
      "aaron\n"
     ]
    }
   ],
   "source": [
    "class Person(object):\n",
    "    def __init__(self, name):\n",
    "        self.name = name\n",
    "        print self.name\n",
    "\n",
    "class Student(Person):\n",
    "    pass\n",
    "\n",
    "p1 = Person('aaron')\n",
    "s1 = Student('aaron')"
   ]
  },
  {
   "cell_type": "code",
   "execution_count": 13,
   "metadata": {
    "collapsed": false
   },
   "outputs": [
    {
     "name": "stdout",
     "output_type": "stream",
     "text": [
      "Dr.aaron\n",
      "True\n"
     ]
    }
   ],
   "source": [
    "class Person(object):\n",
    "    def __init__(self, name):\n",
    "        self.name = 'Dr.' + name\n",
    "        print self.name\n",
    "\n",
    "class Student(Person):\n",
    "    def __init__(self, name, email):\n",
    "        super(Student, self).__init__(name)\n",
    "        self.email = email\n",
    "        \n",
    "\n",
    "\n",
    "        \n",
    "class Student(Person):\n",
    "    def __init__(self, name, email):\n",
    "        self.name = name # 부모클래스에서 변경이 일어날 수 도 있다.\n",
    "        self.email = email\n",
    "\n",
    "p1 = Person('aaron')\n",
    "s1 = Student('aaron', 'macmath22@gmail.com')\n",
    "\n",
    "print isinstance(s1, Person)       \n",
    "\n",
    "#print s1.name, s1.email\n",
    "#print p1.name, #p1.email"
   ]
  },
  {
   "cell_type": "markdown",
   "metadata": {},
   "source": [
    "* self\n",
    " - 파이썬의 method는 항상 첫번째 인자로 self를 포함해야 한다. "
   ]
  },
  {
   "cell_type": "code",
   "execution_count": 14,
   "metadata": {
    "collapsed": false
   },
   "outputs": [
    {
     "name": "stdout",
     "output_type": "stream",
     "text": [
      "bob\n",
      "bob is sleeping for  12 hour(s)\n"
     ]
    }
   ],
   "source": [
    "class Person(object):\n",
    "    def __init__(self, name):\n",
    "        self.name = name\n",
    "        print self.name\n",
    "    \n",
    "    def sleep(self, hour):\n",
    "        print self.name, 'is sleeping for ', hour, 'hour(s)'\n",
    "        \n",
    "p1 = Person('bob')\n",
    "p1.sleep(12)"
   ]
  },
  {
   "cell_type": "code",
   "execution_count": 15,
   "metadata": {
    "collapsed": false
   },
   "outputs": [
    {
     "name": "stdout",
     "output_type": "stream",
     "text": [
      "1\n",
      "2\n",
      "44\n",
      "3\n"
     ]
    }
   ],
   "source": [
    "class A(object):\n",
    "    \n",
    "    count = 0 # static member (class variable)\n",
    "    \n",
    "    def __init__(self, cnt):\n",
    "        A.count += 1\n",
    "\n",
    "        self.cnt = cnt # member variable, attribute\n",
    "        \n",
    "    def print_cnt(self): # memeber function, method\n",
    "        print self.cnt\n",
    "        \n",
    "    @classmethod # class method, static function\n",
    "    def print_count(cls):\n",
    "        print cls.count\n",
    "        \n",
    "a1 = A(1)\n",
    "a2 = A(2)\n",
    "a3 = A(44)\n",
    "\n",
    "a1.print_cnt()\n",
    "a2.print_cnt()\n",
    "a3.print_cnt()\n",
    "\n",
    "A.print_count()"
   ]
  },
  {
   "cell_type": "markdown",
   "metadata": {},
   "source": [
    "* Duck typing\n",
    " - 다형성에 대한 느슨한 구현.\n",
    " - 클래스에 관계없이 같은 동작을 다른객체에 적용\n",
    " - 타입에 관계없이 같은 method를 구현한 것으로 다형성에 활용"
   ]
  },
  {
   "cell_type": "code",
   "execution_count": 16,
   "metadata": {
    "collapsed": false
   },
   "outputs": [
    {
     "name": "stdout",
     "output_type": "stream",
     "text": [
      "aaron play baseball\n",
      "sam play basketball\n",
      "knight play basketball\n",
      "bob play baseball\n",
      "mike play baseball\n",
      "tim play basketball\n"
     ]
    }
   ],
   "source": [
    "class BaseballPlayer(object):\n",
    "    def __init__(self, name):\n",
    "        self.name = name\n",
    "        \n",
    "    def play(self):\n",
    "        print self.name, 'play baseball'\n",
    "        \n",
    "class BasketballPlayer(object):\n",
    "    def __init__(self, name):\n",
    "        self.name = name\n",
    "        \n",
    "    def play(self):\n",
    "        print self.name, 'play basketball'\n",
    "        \n",
    "        \n",
    "b1 = BaseballPlayer('aaron')\n",
    "b2 = BaseballPlayer('bob')\n",
    "b3 = BaseballPlayer('mike')\n",
    "\n",
    "b11 = BasketballPlayer('sam')\n",
    "b12 = BasketballPlayer('knight')\n",
    "b13 = BasketballPlayer('tim')\n",
    "\n",
    "players = [b1, b11, b12, b2, b3, b13]\n",
    "\n",
    "for player in players:\n",
    "    player.play()\n",
    "        "
   ]
  },
  {
   "cell_type": "markdown",
   "metadata": {},
   "source": [
    "* special method\n",
    " - __로 시작\n",
    " - +, -, * 등의 연산자와 함께 사용 가능\n",
    " - https://docs.python.org/2/reference/datamodel.html"
   ]
  },
  {
   "cell_type": "code",
   "execution_count": 17,
   "metadata": {
    "collapsed": false
   },
   "outputs": [
    {
     "name": "stdout",
     "output_type": "stream",
     "text": [
      "True\n",
      "False\n"
     ]
    }
   ],
   "source": [
    "class Word(object):\n",
    "    def __init__(self, text):\n",
    "        self.text = text\n",
    "        \n",
    "    def __eq__(self, word2):\n",
    "        return self.text.lower() == word2.text.lower()\n",
    "    \n",
    "w1 = Word('aaron')\n",
    "w2 = Word('Aaron')\n",
    "w3 = Word('Bob')\n",
    "\n",
    "print w1 == w2\n",
    "print w1 == w3\n",
    "\n",
    "# w1 == w2\n"
   ]
  },
  {
   "cell_type": "code",
   "execution_count": 18,
   "metadata": {
    "collapsed": false
   },
   "outputs": [
    {
     "name": "stdout",
     "output_type": "stream",
     "text": [
      "True\n",
      "aaronAaron\n"
     ]
    },
    {
     "data": {
      "text/plain": [
       "Word(\"aaronAaron\")"
      ]
     },
     "execution_count": 18,
     "metadata": {},
     "output_type": "execute_result"
    }
   ],
   "source": [
    "class Word(object):\n",
    "    def __init__(self, text):\n",
    "        self.text = text\n",
    "        \n",
    "    def __eq__(self, word2):\n",
    "        return self.text.lower() == word2.text.lower()\n",
    "    \n",
    "    def __add__(self, word2):\n",
    "        return Word(self.text + word2.text)\n",
    "    \n",
    "    def __repr__(self):\n",
    "        return 'Word(\"' + self.text + '\")'\n",
    "    \n",
    "    def __str__(self):\n",
    "        return self.text\n",
    "\n",
    "    \n",
    "w1 = Word('aaron')\n",
    "w2 = Word('Aaron')\n",
    "w3 = Word('Bob')\n",
    "\n",
    "print w1 == w2\n",
    "\n",
    "w3 = w1 + w2\n",
    "\n",
    "print w3\n",
    "\n",
    "w3"
   ]
  },
  {
   "cell_type": "code",
   "execution_count": 19,
   "metadata": {
    "collapsed": false
   },
   "outputs": [
    {
     "ename": "SyntaxError",
     "evalue": "invalid syntax (<ipython-input-19-d7fd62476615>, line 14)",
     "output_type": "error",
     "traceback": [
      "\u001b[0;36m  File \u001b[0;32m\"<ipython-input-19-d7fd62476615>\"\u001b[0;36m, line \u001b[0;32m14\u001b[0m\n\u001b[0;31m    w1[]\u001b[0m\n\u001b[0m       ^\u001b[0m\n\u001b[0;31mSyntaxError\u001b[0m\u001b[0;31m:\u001b[0m invalid syntax\n"
     ]
    }
   ],
   "source": [
    "w1 = Word('aaron')\n",
    "w2 = Word('Akronhaha')\n",
    "w3 = Word('Bob')\n",
    "w4 = Word('hb')\n",
    "\n",
    "words = [w1, w2, w3, w4]\n",
    "\n",
    "len(w1)\n",
    "\n",
    "__len__(self)\n",
    "\n",
    "__getitem__(self, key)\n",
    "\n",
    "w1[]"
   ]
  },
  {
   "cell_type": "code",
   "execution_count": 20,
   "metadata": {
    "collapsed": true
   },
   "outputs": [],
   "source": [
    "class Word(object):\n",
    "    def __init__(self, text):\n",
    "        self.text = text\n",
    "        \n",
    "    def __eq__(self, word2):\n",
    "        return self.text.lower() == word2.text.lower()\n",
    "    \n",
    "    def __add__(self, word2):\n",
    "        return Word(self.text + word2.text)\n",
    "    \n",
    "    def __repr__(self):\n",
    "        return 'Word(\"' + self.text + '\")'\n",
    "    \n",
    "    def __str__(self):\n",
    "        return self.text\n",
    "    \n",
    "    def __len__(self):\n",
    "        return len(self.text)\n",
    "    \n",
    "    def __getitem__(self, key):\n",
    "        return self.text[key]\n",
    "    \n"
   ]
  },
  {
   "cell_type": "code",
   "execution_count": 21,
   "metadata": {
    "collapsed": false
   },
   "outputs": [
    {
     "name": "stdout",
     "output_type": "stream",
     "text": [
      "[Word(\"aaron\"), Word(\"hb\"), Word(\"Akronhaha\"), Word(\"Bob\")]\n"
     ]
    }
   ],
   "source": [
    "w1 = Word('aaron')\n",
    "w2 = Word('Akronhaha')\n",
    "w3 = Word('Bob')\n",
    "w4 = Word('hb')\n",
    "\n",
    "words = [w1, w2, w3, w4]\n",
    "\n",
    "\n",
    "print sorted(words, key = lambda x : x[1])"
   ]
  },
  {
   "cell_type": "markdown",
   "metadata": {},
   "source": [
    "* composition\n",
    " - 다른 클래스의 기능을 그대로 이용하고 싶으나, 상속을 피하고 싶을 때 사용\n",
    " - 컴포지션, 또는 어그리게이션(aggregation)이라고 한다.\n",
    " - 주로 의미적으로 is-a 관계가 맞지 않을 때 사용한다"
   ]
  },
  {
   "cell_type": "code",
   "execution_count": 22,
   "metadata": {
    "collapsed": false
   },
   "outputs": [
    {
     "name": "stdout",
     "output_type": "stream",
     "text": [
      "aaron has a bill and it is very good and a tail length of 8\n"
     ]
    }
   ],
   "source": [
    "class Bill(object):\n",
    "    def __init__(self, desc):\n",
    "        self.desc = desc\n",
    "        \n",
    "class Tail(object):\n",
    "    def __init__(self, length):\n",
    "        self.length = length\n",
    "        \n",
    "class Duck(object):\n",
    "    def __init__(self, bill, tail, name):\n",
    "        self.bill = bill\n",
    "        self.tail = tail\n",
    "        self.name = name\n",
    "        \n",
    "    def about(self):\n",
    "        print self.name, 'has a bill and it is', self.bill.desc, 'and a tail length of', self.tail.length\n",
    "        \n",
    "tail = Tail(8)\n",
    "bill = Bill('very good')\n",
    "\n",
    "duck = Duck(bill, tail, 'aaron')\n",
    "duck.about()"
   ]
  },
  {
   "cell_type": "code",
   "execution_count": 23,
   "metadata": {
    "collapsed": false
   },
   "outputs": [
    {
     "data": {
      "text/plain": [
       "(3+9j)"
      ]
     },
     "execution_count": 23,
     "metadata": {},
     "output_type": "execute_result"
    }
   ],
   "source": [
    "1 + 4j + 2 + 5j"
   ]
  },
  {
   "cell_type": "markdown",
   "metadata": {},
   "source": [
    "* 연습문제)\n",
    " - 복소수 클래스를 정의 해봅시다.\n",
    " - 덧셈, 뺄셈, 곱셈 연산자 지원\n",
    " - 길이 (복소수의 크기) 지원 \n",
    " - 복소수 출력 '1 + 4j'와 같이 표현\n",
    " - 비교 연산 ==, != 지원\n",
    " - >=, <= , <, > 연산 지원\n"
   ]
  },
  {
   "cell_type": "code",
   "execution_count": 24,
   "metadata": {
    "collapsed": false
   },
   "outputs": [
    {
     "name": "stdout",
     "output_type": "stream",
     "text": [
      "3 + 4j\n",
      "True\n",
      "False\n",
      "True\n",
      "5 + 9j\n",
      "1 + -1j\n",
      "-14 + 23j\n",
      "5\n"
     ]
    }
   ],
   "source": [
    "import math\n",
    "\n",
    "class ComplexNumber(object):\n",
    "    def __init__(self, num, img):\n",
    "        self.num = num\n",
    "        self.img = img\n",
    "        \n",
    "    def __repr__(self):\n",
    "        return '{} + {}j'.format(self.num, self.img)\n",
    "        \n",
    "    def __str__(self):\n",
    "        return '{} + {}j'.format(self.num, self.img)\n",
    "    \n",
    "    def __eq__(self, cn):\n",
    "        return self.num == cn.num and self.img == cn.img\n",
    "    \n",
    "    def __ne__(self, cn):\n",
    "        return not (self.num == cn.num and self.img == cn.img)\n",
    "    \n",
    "    def __add__(self, cn):\n",
    "        return ComplexNumber(self.num + cn.num, self.img + cn.img)\n",
    "    \n",
    "    def __sub__(self, cn):\n",
    "        return ComplexNumber(self.num - cn.num, self.img - cn.img)\n",
    "    \n",
    "    def __mul__(self, cn):\n",
    "        mul_num = self.num * cn.num - self.img * cn.img\n",
    "        mul_img = self.img * cn.num + self.num * cn.img\n",
    "        \n",
    "        return ComplexNumber(mul_num, mul_img)\n",
    "    \n",
    "    def __len__(self):\n",
    "        return math.sqrt(self.num ** 2 + self.img ** 2)\n",
    "        \n",
    "        \n",
    "c1 = ComplexNumber(3, 4)\n",
    "c2 = ComplexNumber(2, 5)\n",
    "c3 = ComplexNumber(2, 5)\n",
    "\n",
    "print c1\n",
    "print c2 == c3\n",
    "print c1 == c3\n",
    "print c1 != c3\n",
    "\n",
    "print c1 + c2\n",
    "print c1 - c2\n",
    "print c1 * c2\n",
    "\n",
    "print len(c1)"
   ]
  },
  {
   "cell_type": "markdown",
   "metadata": {},
   "source": [
    "* class 설계를 해봅시다.\n",
    " - 기능명세 작성\n",
    " - 기능을 담당할 클래스 추출\n",
    " - 멤버함수 정의\n",
    " \n",
    " - news를 읽어와서 댓글로 기사가 긍정적인 평가를 받는지 부정적인지 알아본다고 합시다."
   ]
  },
  {
   "cell_type": "code",
   "execution_count": null,
   "metadata": {
    "collapsed": true
   },
   "outputs": [],
   "source": []
  }
 ],
 "metadata": {
  "kernelspec": {
   "display_name": "Python 2",
   "language": "python",
   "name": "python2"
  },
  "language_info": {
   "codemirror_mode": {
    "name": "ipython",
    "version": 2
   },
   "file_extension": ".py",
   "mimetype": "text/x-python",
   "name": "python",
   "nbconvert_exporter": "python",
   "pygments_lexer": "ipython2",
   "version": "2.7.12"
  }
 },
 "nbformat": 4,
 "nbformat_minor": 1
}
