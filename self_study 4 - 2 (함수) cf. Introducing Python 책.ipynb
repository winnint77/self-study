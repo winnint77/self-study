{
 "cells": [
  {
   "cell_type": "markdown",
   "metadata": {
    "collapsed": true
   },
   "source": [
    "지금까지 모든 파이썬 코드 예제는 작은 코드 조각이었다. 이 코드 조각은 작은 일을 처리하기에는 좋다. 그러나 누구도 이러한 코드 조각을 반복해서 입력하는 것을 원치 않는다. 그래서 더 큰 코드 조각을 다루기 쉽게 관리하는 몇 가지 방법이 필요하다. "
   ]
  },
  {
   "cell_type": "markdown",
   "metadata": {},
   "source": [
    "첫 번째 단계로 코드의 재사용을 위한 함수(function)가 있다. 함수는 이름이 붙여진 코드 조각이고, 다른 것으로부터 분리되어 있다. 함수는 입력 매개변수(parameter)로 모든 타입을 여러 개 취할 수 있다. 그리고 반환(return) 값으로 모든 타입을 여러 개 반환할 수 있다. "
   ]
  },
  {
   "cell_type": "markdown",
   "metadata": {},
   "source": [
    "한수는 두 가지 작업을 수행한다. \n",
    "\n",
    "+ 정의하기 ( define )\n",
    "+ 호출하기 ( call )"
   ]
  },
  {
   "cell_type": "markdown",
   "metadata": {},
   "source": [
    "파이썬 함수를 정의하기 위해서는 def와 함수 이름, 괄호를 입력한다. 괄호 안에는 옵션으로 매개변수를 입력할 수 있다. 그리고 마지막으로 콜론(:)을 붙인다. 함수 이름은 변수 이름과 동일한 규칙으로 작성한다. (이름의 첫 글자는 영문자와 언더스코어(_)를 사용한다. 그리고 이름은 영문자, 숫자, 언더스코어만 사용할 수 있다.)"
   ]
  },
  {
   "cell_type": "markdown",
   "metadata": {},
   "source": [
    "매개변수가 없는 함수를 정의하고 호출해보자. "
   ]
  },
  {
   "cell_type": "code",
   "execution_count": 1,
   "metadata": {
    "collapsed": false
   },
   "outputs": [
    {
     "data": {
      "text/plain": [
       "<function __main__.do_nothing>"
      ]
     },
     "execution_count": 1,
     "metadata": {},
     "output_type": "execute_result"
    }
   ],
   "source": [
    "def do_nothing():\n",
    "    pass\n",
    "\n",
    "do_nothing"
   ]
  },
  {
   "cell_type": "markdown",
   "metadata": {},
   "source": [
    "이와 같이 함수에 매개변수가 없더라도, 함수를 정의하기 위해 콜론을 입력해야 한다. 함수 다음 라인은 if문에서 들여쓰기를 한 것과 마찬가지로 들여쓰기를 해야 한다. 이 함수가 아무것도 하지 않는다는 것을 보여주기 위해 pass 문을 사용했다. 이것은 마치 책에서 의도적으로 페이지를 비운 것과 같다. "
   ]
  },
  {
   "cell_type": "markdown",
   "metadata": {},
   "source": [
    "매개변수가 없는 함수를 정의하고 호출해보자. 함수는 한 단어를 출력한다. "
   ]
  },
  {
   "cell_type": "code",
   "execution_count": 5,
   "metadata": {
    "collapsed": false
   },
   "outputs": [
    {
     "name": "stdout",
     "output_type": "stream",
     "text": [
      "quack\n"
     ]
    }
   ],
   "source": [
    "def make_a_sound():\n",
    "    print 'quack'\n",
    "    \n",
    "make_a_sound()"
   ]
  },
  {
   "cell_type": "markdown",
   "metadata": {},
   "source": [
    "make_a_sound() 함수를 호출하면 파이썬은 함수 내의 코드를 실행한다. 이 예제에서는 한 단어를 출력하고 메인 프로그램으로 넘어간다. \n",
    "매개변수가 없지만 True 값을 반환하는 함수를 정의해보자."
   ]
  },
  {
   "cell_type": "code",
   "execution_count": 6,
   "metadata": {
    "collapsed": true
   },
   "outputs": [],
   "source": [
    "def agree():\n",
    "    return True"
   ]
  },
  {
   "cell_type": "markdown",
   "metadata": {},
   "source": [
    "if 문에서 이 함수를 호출하여 반환되는 값으로 조건 테스트를 할 수 있다."
   ]
  },
  {
   "cell_type": "code",
   "execution_count": 7,
   "metadata": {
    "collapsed": false
   },
   "outputs": [
    {
     "name": "stdout",
     "output_type": "stream",
     "text": [
      "Splendid!\n"
     ]
    }
   ],
   "source": [
    "if agree():\n",
    "    print 'Splendid!'\n",
    "else:\n",
    "    print 'That was unexpected.'"
   ]
  },
  {
   "cell_type": "markdown",
   "metadata": {},
   "source": [
    "함수를 알게 됨으로써 큰 도약을 했다. 함수를 if 문의 조건 테스트, while 문과 같은 루프와 함께 사용한다면 이전에 할 수 없었던 일들을 할 수 있게 된다. \n",
    "\n",
    "이제 괄호에 뭔가를 넣어볼 때가 됐다. anything이라는 매개변수와 함께 echo() 함수를 정의해 보자. 두 번의 anything 변수 사이에 스페이스를 넣어서 return문으로 값을 반환한다. \n",
    "\n",
    "\n"
   ]
  },
  {
   "cell_type": "code",
   "execution_count": 8,
   "metadata": {
    "collapsed": true
   },
   "outputs": [],
   "source": [
    "def echo(anything):\n",
    "    return anything + ' ' + anything"
   ]
  },
  {
   "cell_type": "markdown",
   "metadata": {},
   "source": [
    "문자열 'ASNAL'과 echo()를 호출해보자."
   ]
  },
  {
   "cell_type": "code",
   "execution_count": 9,
   "metadata": {
    "collapsed": false
   },
   "outputs": [
    {
     "data": {
      "text/plain": [
       "'ASNAL ASNAL'"
      ]
     },
     "execution_count": 9,
     "metadata": {},
     "output_type": "execute_result"
    }
   ],
   "source": [
    "echo('ASNAL')"
   ]
  },
  {
   "cell_type": "markdown",
   "metadata": {},
   "source": [
    " 함수로 전달한 값을 인자(argument)라고 부른다. 인자와 함수를 호출하면 인자의 값은 함수 내에서 해당하는 매개변수(parameter)에 복사된다. 이전 예제에서 'ASNAL'문자열 인자와 함께 echo() 함수를 호출했다. 이 문자열값은 echo()의 anything 매개변수에 복사된다. 그러고 나서 두 문자열 사이의 스페이스 문자열을 호출자(caller)에 반환한다.\n",
    "\n",
    " 위에서 살펴본 예제는 아주 기본적인 것이다. 다음 예제에서는 if문을 사용하고, 인자를 취하는 함수를 작성해보자. 앞서 if ... elif ... else 문에서 사용한 예제를 활용할 것이다. color라는 문자열 매개변수가 있는 commentary 함수를 정의한다. color 값에 따라 이를 설명하는 문자열을 호출자에 반환한다. "
   ]
  },
  {
   "cell_type": "code",
   "execution_count": 10,
   "metadata": {
    "collapsed": true
   },
   "outputs": [],
   "source": [
    "def commentary(color):\n",
    "    if color == 'red':\n",
    "        return \"It's a tomato.\"\n",
    "    elif color == 'green':\n",
    "        return \"It's a green pepper.\"\n",
    "    elif color == 'bee purple':\n",
    "        return \"I don't know what it is, but only bees can see it.\"\n",
    "    else:\n",
    "        return \"I've never heard of the color\" + color + \".\""
   ]
  },
  {
   "cell_type": "code",
   "execution_count": 11,
   "metadata": {
    "collapsed": true
   },
   "outputs": [],
   "source": [
    "comment = commentary('blue')"
   ]
  },
  {
   "cell_type": "markdown",
   "metadata": {},
   "source": [
    "문자열 인자 'blue'를 사용하여 commentary() 함수를 호출해본다. \n",
    "\n",
    "함수는 다음과 같이 동작한다. \n",
    "\n",
    "+ 'blue' 값을 함수 내의 color 매개변수에 할당한다. \n",
    "+ if ... elif ... else 문을 실행한다. \n",
    "+ 문자열을 반환한다. \n",
    "+ 문자열을 comment 변수에 할당한다. "
   ]
  },
  {
   "cell_type": "markdown",
   "metadata": {},
   "source": [
    "comment 변수를 출력해보자."
   ]
  },
  {
   "cell_type": "code",
   "execution_count": 14,
   "metadata": {
    "collapsed": false
   },
   "outputs": [
    {
     "name": "stdout",
     "output_type": "stream",
     "text": [
      "I've never heard of the colorblue.\n"
     ]
    }
   ],
   "source": [
    "print comment"
   ]
  },
  {
   "cell_type": "markdown",
   "metadata": {},
   "source": [
    "함수의 인자는 개수에 상관없이 모든 타입의 인자를 취할 수 있다. 반환값도 마찬가지로 개수에 상관없이 모든 타입을 반환할 수 있다. 만약 함수가 명시적으로 return을 호출하지 않으면, 호출자는 반환값으로 None을 얻는다. "
   ]
  },
  {
   "cell_type": "code",
   "execution_count": 15,
   "metadata": {
    "collapsed": false
   },
   "outputs": [
    {
     "name": "stdout",
     "output_type": "stream",
     "text": [
      "None\n"
     ]
    }
   ],
   "source": [
    "print(do_nothing())"
   ]
  },
  {
   "cell_type": "code",
   "execution_count": 18,
   "metadata": {
    "collapsed": false
   },
   "outputs": [
    {
     "name": "stdout",
     "output_type": "stream",
     "text": [
      "It's a tomato.\n"
     ]
    }
   ],
   "source": [
    "comment = commentary('red')\n",
    "print comment"
   ]
  },
  {
   "cell_type": "markdown",
   "metadata": {},
   "source": [
    "### 위치 인자"
   ]
  },
  {
   "cell_type": "markdown",
   "metadata": {},
   "source": [
    "파이썬은 다른 언어에 비해 함수의 인자를 유연하고 독특하게 처리한다. 인자의 가장 익숙한 타입은 값을 순서대로 상응하는 매개변수에 복사하는 위치인자(positional arguments)이다."
   ]
  },
  {
   "cell_type": "markdown",
   "metadata": {},
   "source": [
    "다음 함수는 위치 인자로 딕셔너리를 만들어서 반환한다. "
   ]
  },
  {
   "cell_type": "code",
   "execution_count": 19,
   "metadata": {
    "collapsed": false
   },
   "outputs": [
    {
     "data": {
      "text/plain": [
       "{'dessert': 'bordeaux', 'entree': 'bagel', 'wine': 'beef'}"
      ]
     },
     "execution_count": 19,
     "metadata": {},
     "output_type": "execute_result"
    }
   ],
   "source": [
    "def menu(wine, entree, dessert):\n",
    "    return{'wine' : wine , 'entree' : entree , 'dessert' : dessert}\n",
    "\n",
    "menu('beef', 'bagel', 'bordeaux')"
   ]
  },
  {
   "cell_type": "markdown",
   "metadata": {},
   "source": [
    "매우 일반적이지만 위치 인자의 단점은 각 위치의 의미를 알아야 한다는 것이다. 다음 예제에서 첫 번째 인자 대신 마지막 인자를 wine으로 menu()를 호출하면 매우 이상한 식사가 될 것이다. "
   ]
  },
  {
   "cell_type": "code",
   "execution_count": 20,
   "metadata": {
    "collapsed": false
   },
   "outputs": [
    {
     "data": {
      "text/plain": [
       "{'dessert': 'bordeaux', 'entree': 'bagel', 'wine': 'beef'}"
      ]
     },
     "execution_count": 20,
     "metadata": {},
     "output_type": "execute_result"
    }
   ],
   "source": [
    "menu('beef', 'bagel', 'bordeaux')"
   ]
  },
  {
   "cell_type": "markdown",
   "metadata": {},
   "source": [
    "### 키워드 인자"
   ]
  },
  {
   "cell_type": "markdown",
   "metadata": {},
   "source": [
    "위치 인자의 혼동을 피하기 위해 매개변수에 상응하는 이름을 인자에 지정할 수 있다. 심지어 인자를 함수의 정의와 다른 순서로 지정할 수 있다. "
   ]
  },
  {
   "cell_type": "code",
   "execution_count": 21,
   "metadata": {
    "collapsed": false
   },
   "outputs": [
    {
     "data": {
      "text/plain": [
       "{'dessert': 'bagel', 'entree': 'beef', 'wine': 'bordeaux'}"
      ]
     },
     "execution_count": 21,
     "metadata": {},
     "output_type": "execute_result"
    }
   ],
   "source": [
    "menu(entree = 'beef' , dessert = 'bagel' , wine = 'bordeaux')"
   ]
  },
  {
   "cell_type": "markdown",
   "metadata": {},
   "source": [
    "### 기본 매개변수값 지정하기"
   ]
  },
  {
   "cell_type": "markdown",
   "metadata": {},
   "source": [
    "매개변수에 기본값을 지정할 수 있다. 호출자가 대응하는 인자를 제공하지 않으면 기본값을 사용한다. 이 단조로운 기능은 꽤 유용하다. 이전 예제를 사용해보자. "
   ]
  },
  {
   "cell_type": "code",
   "execution_count": 22,
   "metadata": {
    "collapsed": true
   },
   "outputs": [],
   "source": [
    "def menu(wine, entree, dessert = 'pudding'):\n",
    "    return {'wine' : wine , 'entree' : entree , 'dessert' : dessert}"
   ]
  },
  {
   "cell_type": "markdown",
   "metadata": {},
   "source": [
    "dessert 인자 없이 menu()를 호출해보자."
   ]
  },
  {
   "cell_type": "code",
   "execution_count": 23,
   "metadata": {
    "collapsed": false
   },
   "outputs": [
    {
     "data": {
      "text/plain": [
       "{'dessert': 'pudding', 'entree': 'chicken', 'wine': 'chardonnay'}"
      ]
     },
     "execution_count": 23,
     "metadata": {},
     "output_type": "execute_result"
    }
   ],
   "source": [
    "menu('chardonnay', 'chicken')"
   ]
  },
  {
   "cell_type": "markdown",
   "metadata": {},
   "source": [
    "dessert 인자를 입력하면 기본값 대신 입력한 인자가 사용된다. "
   ]
  },
  {
   "cell_type": "code",
   "execution_count": 24,
   "metadata": {
    "collapsed": false
   },
   "outputs": [
    {
     "data": {
      "text/plain": [
       "{'dessert': 'cake', 'entree': 'duck', 'wine': 'mohitto'}"
      ]
     },
     "execution_count": 24,
     "metadata": {},
     "output_type": "execute_result"
    }
   ],
   "source": [
    "menu('mohitto', 'duck', 'cake')"
   ]
  },
  {
   "cell_type": "markdown",
   "metadata": {},
   "source": [
    "기본 인자값은 함수가 실행될 때 계산되지 않고, 함수를 정의할 때 계산된다. "
   ]
  },
  {
   "cell_type": "markdown",
   "metadata": {},
   "source": [
    "# def ... return"
   ]
  },
  {
   "cell_type": "code",
   "execution_count": 2,
   "metadata": {
    "collapsed": false
   },
   "outputs": [
    {
     "name": "stdout",
     "output_type": "stream",
     "text": [
      "9\n"
     ]
    }
   ],
   "source": [
    "def f(a, b) : \n",
    "    return a + b\n",
    "\n",
    "print f(4, 5)"
   ]
  },
  {
   "cell_type": "markdown",
   "metadata": {},
   "source": [
    "함수에서 인수의 자료형이나 반환 값의 자료형을 지정할 필요는 없다. 이 예제에서 함수 f는 두 개의 인수를 갖도록 정의하고 있다.\n",
    "\n",
    "함수에는 이 장에서 소개하는 코드 구문의 첫 번째 특징인, 유효 범위(scope) 또는 이름 공간(namespace)의 개념을 적용하고 있다. 앞선 예제에서 a 와 b 라는 식별자(identifier)는 함수 f 함수 밖의 유효 범위에서는 정의되어 있지 않다. "
   ]
  },
  {
   "cell_type": "code",
   "execution_count": 4,
   "metadata": {
    "collapsed": false
   },
   "outputs": [
    {
     "name": "stdout",
     "output_type": "stream",
     "text": [
      "2\n"
     ]
    }
   ],
   "source": [
    "def f(a):\n",
    "    return a + 1\n",
    "print f(1)"
   ]
  },
  {
   "cell_type": "code",
   "execution_count": 5,
   "metadata": {
    "collapsed": false
   },
   "outputs": [
    {
     "ename": "NameError",
     "evalue": "name 'a' is not defined",
     "output_type": "error",
     "traceback": [
      "\u001b[0;31m---------------------------------------------------------------------------\u001b[0m",
      "\u001b[0;31mNameError\u001b[0m                                 Traceback (most recent call last)",
      "\u001b[0;32m<ipython-input-5-9d7b17ad5387>\u001b[0m in \u001b[0;36m<module>\u001b[0;34m()\u001b[0m\n\u001b[0;32m----> 1\u001b[0;31m \u001b[1;32mprint\u001b[0m \u001b[0ma\u001b[0m\u001b[1;33m\u001b[0m\u001b[0m\n\u001b[0m",
      "\u001b[0;31mNameError\u001b[0m: name 'a' is not defined"
     ]
    }
   ],
   "source": [
    "print a"
   ]
  },
  {
   "cell_type": "markdown",
   "metadata": {},
   "source": [
    "함수의 유효 범위 밖에서 정의된 식별자는 함수 내에서도 접근할 수 있다. 다음 코드를 보고 식별자가 어떻게 다루어지는지 살펴보자."
   ]
  },
  {
   "cell_type": "code",
   "execution_count": 6,
   "metadata": {
    "collapsed": false
   },
   "outputs": [
    {
     "name": "stdout",
     "output_type": "stream",
     "text": [
      "2\n"
     ]
    }
   ],
   "source": [
    "a = 1\n",
    "def f(b):\n",
    "    return a + b\n",
    "print f(1)"
   ]
  },
  {
   "cell_type": "code",
   "execution_count": 7,
   "metadata": {
    "collapsed": false
   },
   "outputs": [
    {
     "name": "stdout",
     "output_type": "stream",
     "text": [
      "3\n"
     ]
    }
   ],
   "source": [
    "a = 2 \n",
    "print f(1) # new value of a is used"
   ]
  },
  {
   "cell_type": "code",
   "execution_count": 8,
   "metadata": {
    "collapsed": false
   },
   "outputs": [
    {
     "name": "stdout",
     "output_type": "stream",
     "text": [
      "4\n"
     ]
    }
   ],
   "source": [
    "a = 1  # reset a\n",
    "def g(b):\n",
    "    a = 2 # creates a new local a\n",
    "    return a + b\n",
    "print g(2)"
   ]
  },
  {
   "cell_type": "code",
   "execution_count": 10,
   "metadata": {
    "collapsed": false
   },
   "outputs": [
    {
     "name": "stdout",
     "output_type": "stream",
     "text": [
      "1\n"
     ]
    }
   ],
   "source": [
    "print (a) # global a is unchanged"
   ]
  },
  {
   "cell_type": "markdown",
   "metadata": {},
   "source": [
    "a가 수정되면 다음에 호출되는 함수는 전역 변수 a의 새로운 값을 사용하게 된다. 함수가 선언될 때의 값 자체가 아니라 함수가 정의될 때 식별자 a의 저장 위치가 연결되어서다. 하지만, 만일 함수 g에서 a값이 주어지면 새로운 지역 변수 a가 전역 변수 a를 숨겨버리므로 전역 변수 a는 아무 영향을 받지 않는다. 외부 유효 범위에 대한 참조는 클로저(closure, 내부함수)를 만들 때 사용할 수 있다. "
   ]
  },
  {
   "cell_type": "code",
   "execution_count": 15,
   "metadata": {
    "collapsed": false
   },
   "outputs": [
    {
     "name": "stdout",
     "output_type": "stream",
     "text": [
      "10\n"
     ]
    }
   ],
   "source": [
    "def f(x):\n",
    "    def g(y):\n",
    "        return x * y\n",
    "    return g\n",
    "\n",
    "\n",
    "doubler = f(2)\n",
    "tripler = f(3)\n",
    "quadrupler = f(4)\n",
    "\n",
    "print doubler(5)"
   ]
  },
  {
   "cell_type": "code",
   "execution_count": 16,
   "metadata": {
    "collapsed": false
   },
   "outputs": [
    {
     "name": "stdout",
     "output_type": "stream",
     "text": [
      "15\n"
     ]
    }
   ],
   "source": [
    "print tripler(5)"
   ]
  },
  {
   "cell_type": "code",
   "execution_count": 17,
   "metadata": {
    "collapsed": false
   },
   "outputs": [
    {
     "name": "stdout",
     "output_type": "stream",
     "text": [
      "20\n"
     ]
    }
   ],
   "source": [
    "print quadrupler(5)"
   ]
  },
  {
   "cell_type": "markdown",
   "metadata": {},
   "source": [
    "함수 f는 새로운 함수를 만드는데, 이름 g의 유효 범위는 완전히 f 내부에 있다. 이와 같이 클로저(내부 함수)는 매우 강력하다. \n",
    "\n",
    "함수 인수는 기본값을 가질 수 있고 튜플로 다수의 값을 반환할 수 있다. "
   ]
  },
  {
   "cell_type": "code",
   "execution_count": 18,
   "metadata": {
    "collapsed": false
   },
   "outputs": [
    {
     "name": "stdout",
     "output_type": "stream",
     "text": [
      "7\n"
     ]
    }
   ],
   "source": [
    "def f(a, b = 2):\n",
    "    return a + b , a - b\n",
    "\n",
    "x, y = f(5)\n",
    "\n",
    "print x"
   ]
  },
  {
   "cell_type": "code",
   "execution_count": 19,
   "metadata": {
    "collapsed": false
   },
   "outputs": [
    {
     "name": "stdout",
     "output_type": "stream",
     "text": [
      "3\n"
     ]
    }
   ],
   "source": [
    "print y"
   ]
  },
  {
   "cell_type": "markdown",
   "metadata": {},
   "source": [
    "함수 인수는 이름을 이용해서 함수 내부로 확실히 전달할 수 있으므로 함수가 정의될때 인수의 순서와 실제 호출될 때 지정된 인수의 순서가 다를 수 있다."
   ]
  },
  {
   "cell_type": "code",
   "execution_count": null,
   "metadata": {
    "collapsed": true
   },
   "outputs": [],
   "source": []
  }
 ],
 "metadata": {
  "kernelspec": {
   "display_name": "Python 2",
   "language": "python",
   "name": "python2"
  },
  "language_info": {
   "codemirror_mode": {
    "name": "ipython",
    "version": 2
   },
   "file_extension": ".py",
   "mimetype": "text/x-python",
   "name": "python",
   "nbconvert_exporter": "python",
   "pygments_lexer": "ipython2",
   "version": "2.7.12"
  }
 },
 "nbformat": 4,
 "nbformat_minor": 1
}
